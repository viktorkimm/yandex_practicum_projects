{
 "cells": [
  {
   "cell_type": "markdown",
   "metadata": {
    "toc": true
   },
   "source": [
    "<h1>Содержание<span class=\"tocSkip\"></span></h1>\n",
    "<div class=\"toc\"><ul class=\"toc-item\"><li><span><a href=\"#Изучение-данных-из-файла\" data-toc-modified-id=\"Изучение-данных-из-файла-1\"><span class=\"toc-item-num\">1&nbsp;&nbsp;</span>Изучение данных из файла</a></span></li><li><span><a href=\"#Подготовка-данных\" data-toc-modified-id=\"Подготовка-данных-2\"><span class=\"toc-item-num\">2&nbsp;&nbsp;</span>Подготовка данных</a></span></li><li><span><a href=\"#Исследовательский-анализ-данных\" data-toc-modified-id=\"Исследовательский-анализ-данных-3\"><span class=\"toc-item-num\">3&nbsp;&nbsp;</span>Исследовательский анализ данных</a></span><ul class=\"toc-item\"><li><span><a href=\"#Количество-игр-в-разные-годы\" data-toc-modified-id=\"Количество-игр-в-разные-годы-3.1\"><span class=\"toc-item-num\">3.1&nbsp;&nbsp;</span>Количество игр в разные годы</a></span></li><li><span><a href=\"#Продажи-по-платформам\" data-toc-modified-id=\"Продажи-по-платформам-3.2\"><span class=\"toc-item-num\">3.2&nbsp;&nbsp;</span>Продажи по платформам</a></span></li><li><span><a href=\"#Выбор-актуального-периода\" data-toc-modified-id=\"Выбор-актуального-периода-3.3\"><span class=\"toc-item-num\">3.3&nbsp;&nbsp;</span>Выбор актуального периода</a></span></li><li><span><a href=\"#Лидирующие-платформы\" data-toc-modified-id=\"Лидирующие-платформы-3.4\"><span class=\"toc-item-num\">3.4&nbsp;&nbsp;</span>Лидирующие платформы</a></span></li><li><span><a href=\"#Глобальные-продажи-игр-в-разбивке-по-платформам\" data-toc-modified-id=\"Глобальные-продажи-игр-в-разбивке-по-платформам-3.5\"><span class=\"toc-item-num\">3.5&nbsp;&nbsp;</span>Глобальные продажи игр в разбивке по платформам</a></span></li><li><span><a href=\"#Влияние-отзывов-пользователей-и-критиков-на-продажи\" data-toc-modified-id=\"Влияние-отзывов-пользователей-и-критиков-на-продажи-3.6\"><span class=\"toc-item-num\">3.6&nbsp;&nbsp;</span>Влияние отзывов пользователей и критиков на продажи</a></span></li><li><span><a href=\"#Распределение-игр-по-жанрам\" data-toc-modified-id=\"Распределение-игр-по-жанрам-3.7\"><span class=\"toc-item-num\">3.7&nbsp;&nbsp;</span>Распределение игр по жанрам</a></span></li></ul></li><li><span><a href=\"#Портрет-пользователя-каждого-региона\" data-toc-modified-id=\"Портрет-пользователя-каждого-региона-4\"><span class=\"toc-item-num\">4&nbsp;&nbsp;</span>Портрет пользователя каждого региона</a></span><ul class=\"toc-item\"><li><span><a href=\"#Топ-5-платформ-и-жанров-по-регионам\" data-toc-modified-id=\"Топ-5-платформ-и-жанров-по-регионам-4.1\"><span class=\"toc-item-num\">4.1&nbsp;&nbsp;</span>Топ-5 платформ и жанров по регионам</a></span></li><li><span><a href=\"#Влияние-рейтинга-ESRB-на-продажи\" data-toc-modified-id=\"Влияние-рейтинга-ESRB-на-продажи-4.2\"><span class=\"toc-item-num\">4.2&nbsp;&nbsp;</span>Влияние рейтинга ESRB на продажи</a></span></li></ul></li><li><span><a href=\"#Проверка-гипотез\" data-toc-modified-id=\"Проверка-гипотез-5\"><span class=\"toc-item-num\">5&nbsp;&nbsp;</span>Проверка гипотез</a></span><ul class=\"toc-item\"><li><span><a href=\"#Гипотеза-&quot;Средние-пользовательские-рейтинги-платформ-Xbox-One-и-PC-одинаковые&quot;\" data-toc-modified-id=\"Гипотеза-&quot;Средние-пользовательские-рейтинги-платформ-Xbox-One-и-PC-одинаковые&quot;-5.1\"><span class=\"toc-item-num\">5.1&nbsp;&nbsp;</span>Гипотеза \"Средние пользовательские рейтинги платформ Xbox One и PC одинаковые\"</a></span></li><li><span><a href=\"#Гипотеза-&quot;Средние-пользовательские-рейтинги-жанров-Action-и-Sports-разные&quot;\" data-toc-modified-id=\"Гипотеза-&quot;Средние-пользовательские-рейтинги-жанров-Action-и-Sports-разные&quot;-5.2\"><span class=\"toc-item-num\">5.2&nbsp;&nbsp;</span>Гипотеза \"Средние пользовательские рейтинги жанров Action и Sports разные\"</a></span></li></ul></li><li><span><a href=\"#Общий-вывод\" data-toc-modified-id=\"Общий-вывод-6\"><span class=\"toc-item-num\">6&nbsp;&nbsp;</span>Общий вывод</a></span></li></ul></div>"
   ]
  },
  {
   "cell_type": "markdown",
   "metadata": {},
   "source": [
    "# Исследование рынка продаж игр"
   ]
  },
  {
   "cell_type": "markdown",
   "metadata": {},
   "source": [
    "Цель проекта - выявить определяющие успешность игры закономерности. Для определения потенциально прибыльных платформ проведем исследование рынка продаж игр из открытых источников. \n",
    "\n",
    "Изучим даннные, выделим актуальный период продаж игр на основании которого выберем потенциально прибыльные платформы. Исследуем разные рынки продаж игр для определения успешных игровых платформ и жанров на разных рынках. Рассмотрим влияние рейтинга ESRB на продажи игр. Проверим несколько гипотез касательно средних пользовательских рейтингов. Используем данные из открытых источников о продажах игр, оценки пользователей и экспертов, жанры и платформы. Обозначим выводы."
   ]
  },
  {
   "cell_type": "markdown",
   "metadata": {},
   "source": [
    "## Изучение данных из файла"
   ]
  },
  {
   "cell_type": "code",
   "execution_count": 1,
   "metadata": {},
   "outputs": [],
   "source": [
    "import pandas as pd\n",
    "import sys\n",
    "\n",
    "if not sys.warnoptions:\n",
    "    import warnings\n",
    "    warnings.simplefilter(\"ignore\")\n",
    "    \n",
    "import math\n",
    "import numpy as np\n",
    "import matplotlib.pyplot as plt\n",
    "from scipy import stats as st\n",
    "from IPython.display import display\n",
    "pd.set_option('display.max_columns', None)\n",
    "pd.set_option('display.max_rows', 100)\n",
    "\n",
    "data = pd.read_csv('/datasets/games.csv')"
   ]
  },
  {
   "cell_type": "code",
   "execution_count": 2,
   "metadata": {
    "scrolled": false
   },
   "outputs": [
    {
     "name": "stdout",
     "output_type": "stream",
     "text": [
      "<class 'pandas.core.frame.DataFrame'>\n",
      "RangeIndex: 16715 entries, 0 to 16714\n",
      "Data columns (total 11 columns):\n",
      "Name               16713 non-null object\n",
      "Platform           16715 non-null object\n",
      "Year_of_Release    16446 non-null float64\n",
      "Genre              16713 non-null object\n",
      "NA_sales           16715 non-null float64\n",
      "EU_sales           16715 non-null float64\n",
      "JP_sales           16715 non-null float64\n",
      "Other_sales        16715 non-null float64\n",
      "Critic_Score       8137 non-null float64\n",
      "User_Score         10014 non-null object\n",
      "Rating             9949 non-null object\n",
      "dtypes: float64(6), object(5)\n",
      "memory usage: 1.4+ MB\n"
     ]
    },
    {
     "data": {
      "text/html": [
       "<div>\n",
       "<style scoped>\n",
       "    .dataframe tbody tr th:only-of-type {\n",
       "        vertical-align: middle;\n",
       "    }\n",
       "\n",
       "    .dataframe tbody tr th {\n",
       "        vertical-align: top;\n",
       "    }\n",
       "\n",
       "    .dataframe thead th {\n",
       "        text-align: right;\n",
       "    }\n",
       "</style>\n",
       "<table border=\"1\" class=\"dataframe\">\n",
       "  <thead>\n",
       "    <tr style=\"text-align: right;\">\n",
       "      <th></th>\n",
       "      <th>Name</th>\n",
       "      <th>Platform</th>\n",
       "      <th>Year_of_Release</th>\n",
       "      <th>Genre</th>\n",
       "      <th>NA_sales</th>\n",
       "      <th>EU_sales</th>\n",
       "      <th>JP_sales</th>\n",
       "      <th>Other_sales</th>\n",
       "      <th>Critic_Score</th>\n",
       "      <th>User_Score</th>\n",
       "      <th>Rating</th>\n",
       "    </tr>\n",
       "  </thead>\n",
       "  <tbody>\n",
       "    <tr>\n",
       "      <td>0</td>\n",
       "      <td>Wii Sports</td>\n",
       "      <td>Wii</td>\n",
       "      <td>2006.0</td>\n",
       "      <td>Sports</td>\n",
       "      <td>41.36</td>\n",
       "      <td>28.96</td>\n",
       "      <td>3.77</td>\n",
       "      <td>8.45</td>\n",
       "      <td>76.0</td>\n",
       "      <td>8</td>\n",
       "      <td>E</td>\n",
       "    </tr>\n",
       "    <tr>\n",
       "      <td>1</td>\n",
       "      <td>Super Mario Bros.</td>\n",
       "      <td>NES</td>\n",
       "      <td>1985.0</td>\n",
       "      <td>Platform</td>\n",
       "      <td>29.08</td>\n",
       "      <td>3.58</td>\n",
       "      <td>6.81</td>\n",
       "      <td>0.77</td>\n",
       "      <td>NaN</td>\n",
       "      <td>NaN</td>\n",
       "      <td>NaN</td>\n",
       "    </tr>\n",
       "    <tr>\n",
       "      <td>2</td>\n",
       "      <td>Mario Kart Wii</td>\n",
       "      <td>Wii</td>\n",
       "      <td>2008.0</td>\n",
       "      <td>Racing</td>\n",
       "      <td>15.68</td>\n",
       "      <td>12.76</td>\n",
       "      <td>3.79</td>\n",
       "      <td>3.29</td>\n",
       "      <td>82.0</td>\n",
       "      <td>8.3</td>\n",
       "      <td>E</td>\n",
       "    </tr>\n",
       "    <tr>\n",
       "      <td>3</td>\n",
       "      <td>Wii Sports Resort</td>\n",
       "      <td>Wii</td>\n",
       "      <td>2009.0</td>\n",
       "      <td>Sports</td>\n",
       "      <td>15.61</td>\n",
       "      <td>10.93</td>\n",
       "      <td>3.28</td>\n",
       "      <td>2.95</td>\n",
       "      <td>80.0</td>\n",
       "      <td>8</td>\n",
       "      <td>E</td>\n",
       "    </tr>\n",
       "    <tr>\n",
       "      <td>4</td>\n",
       "      <td>Pokemon Red/Pokemon Blue</td>\n",
       "      <td>GB</td>\n",
       "      <td>1996.0</td>\n",
       "      <td>Role-Playing</td>\n",
       "      <td>11.27</td>\n",
       "      <td>8.89</td>\n",
       "      <td>10.22</td>\n",
       "      <td>1.00</td>\n",
       "      <td>NaN</td>\n",
       "      <td>NaN</td>\n",
       "      <td>NaN</td>\n",
       "    </tr>\n",
       "  </tbody>\n",
       "</table>\n",
       "</div>"
      ],
      "text/plain": [
       "                       Name Platform  Year_of_Release         Genre  NA_sales  \\\n",
       "0                Wii Sports      Wii           2006.0        Sports     41.36   \n",
       "1         Super Mario Bros.      NES           1985.0      Platform     29.08   \n",
       "2            Mario Kart Wii      Wii           2008.0        Racing     15.68   \n",
       "3         Wii Sports Resort      Wii           2009.0        Sports     15.61   \n",
       "4  Pokemon Red/Pokemon Blue       GB           1996.0  Role-Playing     11.27   \n",
       "\n",
       "   EU_sales  JP_sales  Other_sales  Critic_Score User_Score Rating  \n",
       "0     28.96      3.77         8.45          76.0          8      E  \n",
       "1      3.58      6.81         0.77           NaN        NaN    NaN  \n",
       "2     12.76      3.79         3.29          82.0        8.3      E  \n",
       "3     10.93      3.28         2.95          80.0          8      E  \n",
       "4      8.89     10.22         1.00           NaN        NaN    NaN  "
      ]
     },
     "metadata": {},
     "output_type": "display_data"
    },
    {
     "data": {
      "text/html": [
       "<div>\n",
       "<style scoped>\n",
       "    .dataframe tbody tr th:only-of-type {\n",
       "        vertical-align: middle;\n",
       "    }\n",
       "\n",
       "    .dataframe tbody tr th {\n",
       "        vertical-align: top;\n",
       "    }\n",
       "\n",
       "    .dataframe thead th {\n",
       "        text-align: right;\n",
       "    }\n",
       "</style>\n",
       "<table border=\"1\" class=\"dataframe\">\n",
       "  <thead>\n",
       "    <tr style=\"text-align: right;\">\n",
       "      <th></th>\n",
       "      <th>Year_of_Release</th>\n",
       "      <th>NA_sales</th>\n",
       "      <th>EU_sales</th>\n",
       "      <th>JP_sales</th>\n",
       "      <th>Other_sales</th>\n",
       "      <th>Critic_Score</th>\n",
       "    </tr>\n",
       "  </thead>\n",
       "  <tbody>\n",
       "    <tr>\n",
       "      <td>count</td>\n",
       "      <td>16446.000000</td>\n",
       "      <td>16715.000000</td>\n",
       "      <td>16715.000000</td>\n",
       "      <td>16715.000000</td>\n",
       "      <td>16715.000000</td>\n",
       "      <td>8137.000000</td>\n",
       "    </tr>\n",
       "    <tr>\n",
       "      <td>mean</td>\n",
       "      <td>2006.484616</td>\n",
       "      <td>0.263377</td>\n",
       "      <td>0.145060</td>\n",
       "      <td>0.077617</td>\n",
       "      <td>0.047342</td>\n",
       "      <td>68.967679</td>\n",
       "    </tr>\n",
       "    <tr>\n",
       "      <td>std</td>\n",
       "      <td>5.877050</td>\n",
       "      <td>0.813604</td>\n",
       "      <td>0.503339</td>\n",
       "      <td>0.308853</td>\n",
       "      <td>0.186731</td>\n",
       "      <td>13.938165</td>\n",
       "    </tr>\n",
       "    <tr>\n",
       "      <td>min</td>\n",
       "      <td>1980.000000</td>\n",
       "      <td>0.000000</td>\n",
       "      <td>0.000000</td>\n",
       "      <td>0.000000</td>\n",
       "      <td>0.000000</td>\n",
       "      <td>13.000000</td>\n",
       "    </tr>\n",
       "    <tr>\n",
       "      <td>25%</td>\n",
       "      <td>2003.000000</td>\n",
       "      <td>0.000000</td>\n",
       "      <td>0.000000</td>\n",
       "      <td>0.000000</td>\n",
       "      <td>0.000000</td>\n",
       "      <td>60.000000</td>\n",
       "    </tr>\n",
       "    <tr>\n",
       "      <td>50%</td>\n",
       "      <td>2007.000000</td>\n",
       "      <td>0.080000</td>\n",
       "      <td>0.020000</td>\n",
       "      <td>0.000000</td>\n",
       "      <td>0.010000</td>\n",
       "      <td>71.000000</td>\n",
       "    </tr>\n",
       "    <tr>\n",
       "      <td>75%</td>\n",
       "      <td>2010.000000</td>\n",
       "      <td>0.240000</td>\n",
       "      <td>0.110000</td>\n",
       "      <td>0.040000</td>\n",
       "      <td>0.030000</td>\n",
       "      <td>79.000000</td>\n",
       "    </tr>\n",
       "    <tr>\n",
       "      <td>max</td>\n",
       "      <td>2016.000000</td>\n",
       "      <td>41.360000</td>\n",
       "      <td>28.960000</td>\n",
       "      <td>10.220000</td>\n",
       "      <td>10.570000</td>\n",
       "      <td>98.000000</td>\n",
       "    </tr>\n",
       "  </tbody>\n",
       "</table>\n",
       "</div>"
      ],
      "text/plain": [
       "       Year_of_Release      NA_sales      EU_sales      JP_sales  \\\n",
       "count     16446.000000  16715.000000  16715.000000  16715.000000   \n",
       "mean       2006.484616      0.263377      0.145060      0.077617   \n",
       "std           5.877050      0.813604      0.503339      0.308853   \n",
       "min        1980.000000      0.000000      0.000000      0.000000   \n",
       "25%        2003.000000      0.000000      0.000000      0.000000   \n",
       "50%        2007.000000      0.080000      0.020000      0.000000   \n",
       "75%        2010.000000      0.240000      0.110000      0.040000   \n",
       "max        2016.000000     41.360000     28.960000     10.220000   \n",
       "\n",
       "        Other_sales  Critic_Score  \n",
       "count  16715.000000   8137.000000  \n",
       "mean       0.047342     68.967679  \n",
       "std        0.186731     13.938165  \n",
       "min        0.000000     13.000000  \n",
       "25%        0.000000     60.000000  \n",
       "50%        0.010000     71.000000  \n",
       "75%        0.030000     79.000000  \n",
       "max       10.570000     98.000000  "
      ]
     },
     "metadata": {},
     "output_type": "display_data"
    },
    {
     "data": {
      "text/plain": [
       "Name                  2\n",
       "Platform              0\n",
       "Year_of_Release     269\n",
       "Genre                 2\n",
       "NA_sales              0\n",
       "EU_sales              0\n",
       "JP_sales              0\n",
       "Other_sales           0\n",
       "Critic_Score       8578\n",
       "User_Score         6701\n",
       "Rating             6766\n",
       "dtype: int64"
      ]
     },
     "metadata": {},
     "output_type": "display_data"
    }
   ],
   "source": [
    "data.info()\n",
    "display(data.head())\n",
    "display(data.describe())\n",
    "display(data.isna().sum())"
   ]
  },
  {
   "cell_type": "code",
   "execution_count": 3,
   "metadata": {},
   "outputs": [
    {
     "data": {
      "text/plain": [
       "array(['Wii', 'NES', 'GB', 'DS', 'X360', 'PS3', 'PS2', 'SNES', 'GBA',\n",
       "       'PS4', '3DS', 'N64', 'PS', 'XB', 'PC', '2600', 'PSP', 'XOne',\n",
       "       'WiiU', 'GC', 'GEN', 'DC', 'PSV', 'SAT', 'SCD', 'WS', 'NG', 'TG16',\n",
       "       '3DO', 'GG', 'PCFX'], dtype=object)"
      ]
     },
     "metadata": {},
     "output_type": "display_data"
    },
    {
     "data": {
      "text/plain": [
       "array(['Sports', 'Platform', 'Racing', 'Role-Playing', 'Puzzle', 'Misc',\n",
       "       'Shooter', 'Simulation', 'Action', 'Fighting', 'Adventure',\n",
       "       'Strategy', nan], dtype=object)"
      ]
     },
     "metadata": {},
     "output_type": "display_data"
    },
    {
     "data": {
      "text/plain": [
       "array(['8', nan, '8.3', '8.5', '6.6', '8.4', '8.6', '7.7', '6.3', '7.4',\n",
       "       '8.2', '9', '7.9', '8.1', '8.7', '7.1', '3.4', '5.3', '4.8', '3.2',\n",
       "       '8.9', '6.4', '7.8', '7.5', '2.6', '7.2', '9.2', '7', '7.3', '4.3',\n",
       "       '7.6', '5.7', '5', '9.1', '6.5', 'tbd', '8.8', '6.9', '9.4', '6.8',\n",
       "       '6.1', '6.7', '5.4', '4', '4.9', '4.5', '9.3', '6.2', '4.2', '6',\n",
       "       '3.7', '4.1', '5.8', '5.6', '5.5', '4.4', '4.6', '5.9', '3.9',\n",
       "       '3.1', '2.9', '5.2', '3.3', '4.7', '5.1', '3.5', '2.5', '1.9', '3',\n",
       "       '2.7', '2.2', '2', '9.5', '2.1', '3.6', '2.8', '1.8', '3.8', '0',\n",
       "       '1.6', '9.6', '2.4', '1.7', '1.1', '0.3', '1.5', '0.7', '1.2',\n",
       "       '2.3', '0.5', '1.3', '0.2', '0.6', '1.4', '0.9', '1', '9.7'],\n",
       "      dtype=object)"
      ]
     },
     "metadata": {},
     "output_type": "display_data"
    },
    {
     "data": {
      "text/plain": [
       "array(['E', nan, 'M', 'T', 'E10+', 'K-A', 'AO', 'EC', 'RP'], dtype=object)"
      ]
     },
     "metadata": {},
     "output_type": "display_data"
    }
   ],
   "source": [
    "display(data['Platform'].unique())\n",
    "display(data['Genre'].unique())\n",
    "display(data['User_Score'].unique())\n",
    "display(data['Rating'].unique())"
   ]
  },
  {
   "cell_type": "code",
   "execution_count": 4,
   "metadata": {},
   "outputs": [
    {
     "data": {
      "text/plain": [
       "PS2     2161\n",
       "DS      2151\n",
       "PS3     1331\n",
       "Wii     1320\n",
       "X360    1262\n",
       "PSP     1209\n",
       "PS      1197\n",
       "PC       974\n",
       "XB       824\n",
       "GBA      822\n",
       "GC       556\n",
       "3DS      520\n",
       "PSV      430\n",
       "PS4      392\n",
       "N64      319\n",
       "XOne     247\n",
       "SNES     239\n",
       "SAT      173\n",
       "WiiU     147\n",
       "2600     133\n",
       "NES       98\n",
       "GB        98\n",
       "DC        52\n",
       "GEN       29\n",
       "NG        12\n",
       "SCD        6\n",
       "WS         6\n",
       "3DO        3\n",
       "TG16       2\n",
       "PCFX       1\n",
       "GG         1\n",
       "Name: Platform, dtype: int64"
      ]
     },
     "metadata": {},
     "output_type": "display_data"
    }
   ],
   "source": [
    "display(data['Platform'].value_counts())"
   ]
  },
  {
   "cell_type": "markdown",
   "metadata": {},
   "source": [
    "В исходной таблице следующие столбцы с данными:\n",
    "- Name — название игры\n",
    "- Platform — платформа\n",
    "- Year_of_Release — год выпуска\n",
    "- Genre — жанр игры\n",
    "- NA_sales — продажи в Северной Америке (миллионы проданных копий)\n",
    "- EU_sales — продажи в Европе (миллионы проданных копий)\n",
    "- JP_sales — продажи в Японии (миллионы проданных копий)\n",
    "- Other_sales — продажи в других странах (миллионы проданных копий)\n",
    "- Critic_Score — оценка критиков (максимум 100)\n",
    "- User_Score — оценка пользователей (максимум 10)\n",
    "- Rating — рейтинг от организации ESRB.\n",
    "\n",
    "Обнаружены пропуски в столбцах 'Name', 'Year_of_Release', 'Genre', 'Critic_Score, 'User_Score', 'Rating'. Обработкой и описанием пропусков займемся в разделе \"Подготовка данных\"."
   ]
  },
  {
   "cell_type": "markdown",
   "metadata": {},
   "source": [
    "## Подготовка данных"
   ]
  },
  {
   "cell_type": "code",
   "execution_count": 5,
   "metadata": {
    "scrolled": true
   },
   "outputs": [
    {
     "data": {
      "text/html": [
       "<div>\n",
       "<style scoped>\n",
       "    .dataframe tbody tr th:only-of-type {\n",
       "        vertical-align: middle;\n",
       "    }\n",
       "\n",
       "    .dataframe tbody tr th {\n",
       "        vertical-align: top;\n",
       "    }\n",
       "\n",
       "    .dataframe thead th {\n",
       "        text-align: right;\n",
       "    }\n",
       "</style>\n",
       "<table border=\"1\" class=\"dataframe\">\n",
       "  <thead>\n",
       "    <tr style=\"text-align: right;\">\n",
       "      <th></th>\n",
       "      <th>name</th>\n",
       "      <th>platform</th>\n",
       "      <th>year_of_release</th>\n",
       "      <th>genre</th>\n",
       "      <th>na_sales</th>\n",
       "      <th>eu_sales</th>\n",
       "      <th>jp_sales</th>\n",
       "      <th>other_sales</th>\n",
       "      <th>critic_score</th>\n",
       "      <th>user_score</th>\n",
       "      <th>rating</th>\n",
       "    </tr>\n",
       "  </thead>\n",
       "  <tbody>\n",
       "    <tr>\n",
       "      <td>0</td>\n",
       "      <td>Wii Sports</td>\n",
       "      <td>Wii</td>\n",
       "      <td>2006.0</td>\n",
       "      <td>Sports</td>\n",
       "      <td>41.36</td>\n",
       "      <td>28.96</td>\n",
       "      <td>3.77</td>\n",
       "      <td>8.45</td>\n",
       "      <td>76.0</td>\n",
       "      <td>8</td>\n",
       "      <td>E</td>\n",
       "    </tr>\n",
       "    <tr>\n",
       "      <td>1</td>\n",
       "      <td>Super Mario Bros.</td>\n",
       "      <td>NES</td>\n",
       "      <td>1985.0</td>\n",
       "      <td>Platform</td>\n",
       "      <td>29.08</td>\n",
       "      <td>3.58</td>\n",
       "      <td>6.81</td>\n",
       "      <td>0.77</td>\n",
       "      <td>NaN</td>\n",
       "      <td>NaN</td>\n",
       "      <td>NaN</td>\n",
       "    </tr>\n",
       "    <tr>\n",
       "      <td>2</td>\n",
       "      <td>Mario Kart Wii</td>\n",
       "      <td>Wii</td>\n",
       "      <td>2008.0</td>\n",
       "      <td>Racing</td>\n",
       "      <td>15.68</td>\n",
       "      <td>12.76</td>\n",
       "      <td>3.79</td>\n",
       "      <td>3.29</td>\n",
       "      <td>82.0</td>\n",
       "      <td>8.3</td>\n",
       "      <td>E</td>\n",
       "    </tr>\n",
       "    <tr>\n",
       "      <td>3</td>\n",
       "      <td>Wii Sports Resort</td>\n",
       "      <td>Wii</td>\n",
       "      <td>2009.0</td>\n",
       "      <td>Sports</td>\n",
       "      <td>15.61</td>\n",
       "      <td>10.93</td>\n",
       "      <td>3.28</td>\n",
       "      <td>2.95</td>\n",
       "      <td>80.0</td>\n",
       "      <td>8</td>\n",
       "      <td>E</td>\n",
       "    </tr>\n",
       "    <tr>\n",
       "      <td>4</td>\n",
       "      <td>Pokemon Red/Pokemon Blue</td>\n",
       "      <td>GB</td>\n",
       "      <td>1996.0</td>\n",
       "      <td>Role-Playing</td>\n",
       "      <td>11.27</td>\n",
       "      <td>8.89</td>\n",
       "      <td>10.22</td>\n",
       "      <td>1.00</td>\n",
       "      <td>NaN</td>\n",
       "      <td>NaN</td>\n",
       "      <td>NaN</td>\n",
       "    </tr>\n",
       "  </tbody>\n",
       "</table>\n",
       "</div>"
      ],
      "text/plain": [
       "                       name platform  year_of_release         genre  na_sales  \\\n",
       "0                Wii Sports      Wii           2006.0        Sports     41.36   \n",
       "1         Super Mario Bros.      NES           1985.0      Platform     29.08   \n",
       "2            Mario Kart Wii      Wii           2008.0        Racing     15.68   \n",
       "3         Wii Sports Resort      Wii           2009.0        Sports     15.61   \n",
       "4  Pokemon Red/Pokemon Blue       GB           1996.0  Role-Playing     11.27   \n",
       "\n",
       "   eu_sales  jp_sales  other_sales  critic_score user_score rating  \n",
       "0     28.96      3.77         8.45          76.0          8      E  \n",
       "1      3.58      6.81         0.77           NaN        NaN    NaN  \n",
       "2     12.76      3.79         3.29          82.0        8.3      E  \n",
       "3     10.93      3.28         2.95          80.0          8      E  \n",
       "4      8.89     10.22         1.00           NaN        NaN    NaN  "
      ]
     },
     "metadata": {},
     "output_type": "display_data"
    }
   ],
   "source": [
    "# Приведем название столбцов к нижнему регистру:\n",
    "data.columns = data.columns.str.lower()\n",
    "display(data.head())"
   ]
  },
  {
   "cell_type": "code",
   "execution_count": 6,
   "metadata": {
    "scrolled": true
   },
   "outputs": [
    {
     "data": {
      "text/html": [
       "<div>\n",
       "<style scoped>\n",
       "    .dataframe tbody tr th:only-of-type {\n",
       "        vertical-align: middle;\n",
       "    }\n",
       "\n",
       "    .dataframe tbody tr th {\n",
       "        vertical-align: top;\n",
       "    }\n",
       "\n",
       "    .dataframe thead th {\n",
       "        text-align: right;\n",
       "    }\n",
       "</style>\n",
       "<table border=\"1\" class=\"dataframe\">\n",
       "  <thead>\n",
       "    <tr style=\"text-align: right;\">\n",
       "      <th></th>\n",
       "      <th>name</th>\n",
       "      <th>platform</th>\n",
       "      <th>year_of_release</th>\n",
       "      <th>genre</th>\n",
       "      <th>na_sales</th>\n",
       "      <th>eu_sales</th>\n",
       "      <th>jp_sales</th>\n",
       "      <th>other_sales</th>\n",
       "      <th>critic_score</th>\n",
       "      <th>user_score</th>\n",
       "      <th>rating</th>\n",
       "    </tr>\n",
       "  </thead>\n",
       "  <tbody>\n",
       "    <tr>\n",
       "      <td>659</td>\n",
       "      <td>NaN</td>\n",
       "      <td>GEN</td>\n",
       "      <td>1993.0</td>\n",
       "      <td>NaN</td>\n",
       "      <td>1.78</td>\n",
       "      <td>0.53</td>\n",
       "      <td>0.00</td>\n",
       "      <td>0.08</td>\n",
       "      <td>NaN</td>\n",
       "      <td>NaN</td>\n",
       "      <td>NaN</td>\n",
       "    </tr>\n",
       "    <tr>\n",
       "      <td>14244</td>\n",
       "      <td>NaN</td>\n",
       "      <td>GEN</td>\n",
       "      <td>1993.0</td>\n",
       "      <td>NaN</td>\n",
       "      <td>0.00</td>\n",
       "      <td>0.00</td>\n",
       "      <td>0.03</td>\n",
       "      <td>0.00</td>\n",
       "      <td>NaN</td>\n",
       "      <td>NaN</td>\n",
       "      <td>NaN</td>\n",
       "    </tr>\n",
       "  </tbody>\n",
       "</table>\n",
       "</div>"
      ],
      "text/plain": [
       "      name platform  year_of_release genre  na_sales  eu_sales  jp_sales  \\\n",
       "659    NaN      GEN           1993.0   NaN      1.78      0.53      0.00   \n",
       "14244  NaN      GEN           1993.0   NaN      0.00      0.00      0.03   \n",
       "\n",
       "       other_sales  critic_score user_score rating  \n",
       "659           0.08           NaN        NaN    NaN  \n",
       "14244         0.00           NaN        NaN    NaN  "
      ]
     },
     "metadata": {},
     "output_type": "display_data"
    }
   ],
   "source": [
    "# Проверим строки с NaN в столбце 'name':\n",
    "display(data[data['name'].isnull()])"
   ]
  },
  {
   "cell_type": "code",
   "execution_count": 7,
   "metadata": {
    "scrolled": false
   },
   "outputs": [
    {
     "name": "stdout",
     "output_type": "stream",
     "text": [
      "<class 'pandas.core.frame.DataFrame'>\n",
      "RangeIndex: 16713 entries, 0 to 16712\n",
      "Data columns (total 11 columns):\n",
      "name               16713 non-null object\n",
      "platform           16713 non-null object\n",
      "year_of_release    16444 non-null float64\n",
      "genre              16713 non-null object\n",
      "na_sales           16713 non-null float64\n",
      "eu_sales           16713 non-null float64\n",
      "jp_sales           16713 non-null float64\n",
      "other_sales        16713 non-null float64\n",
      "critic_score       8137 non-null float64\n",
      "user_score         10014 non-null object\n",
      "rating             9949 non-null object\n",
      "dtypes: float64(6), object(5)\n",
      "memory usage: 1.4+ MB\n"
     ]
    }
   ],
   "source": [
    "# Строки с пропусками в столбце 'name' (в этих же строках пропуски в столбце 'genre') удаляем - \n",
    "# этих строк всего 2 и в них большинство данных пропущено:\n",
    "data.dropna(subset=['name'], inplace=True)\n",
    "data.reset_index(drop=True, inplace=True)\n",
    "data.info()"
   ]
  },
  {
   "cell_type": "code",
   "execution_count": 8,
   "metadata": {
    "scrolled": false
   },
   "outputs": [
    {
     "data": {
      "text/plain": [
       "array([8. , nan, 8.3, 8.5, 6.6, 8.4, 8.6, 7.7, 6.3, 7.4, 8.2, 9. , 7.9,\n",
       "       8.1, 8.7, 7.1, 3.4, 5.3, 4.8, 3.2, 8.9, 6.4, 7.8, 7.5, 2.6, 7.2,\n",
       "       9.2, 7. , 7.3, 4.3, 7.6, 5.7, 5. , 9.1, 6.5, 8.8, 6.9, 9.4, 6.8,\n",
       "       6.1, 6.7, 5.4, 4. , 4.9, 4.5, 9.3, 6.2, 4.2, 6. , 3.7, 4.1, 5.8,\n",
       "       5.6, 5.5, 4.4, 4.6, 5.9, 3.9, 3.1, 2.9, 5.2, 3.3, 4.7, 5.1, 3.5,\n",
       "       2.5, 1.9, 3. , 2.7, 2.2, 2. , 9.5, 2.1, 3.6, 2.8, 1.8, 3.8, 0. ,\n",
       "       1.6, 9.6, 2.4, 1.7, 1.1, 0.3, 1.5, 0.7, 1.2, 2.3, 0.5, 1.3, 0.2,\n",
       "       0.6, 1.4, 0.9, 1. , 9.7])"
      ]
     },
     "metadata": {},
     "output_type": "display_data"
    }
   ],
   "source": [
    "# Значение 'tbd' в столбце 'user_score' расшифровывается как 'To Be Determined' - 'Будет определено позднее'\n",
    "# Данные значения образовались скорее всего, из за того что когда данные заносили в таблицу оценки пользователей еще не было,\n",
    "# а впоследствии данные не обновляли.\n",
    "# Заменим 'tbd' на 'NaN', так как мы не можем уточнить рейтинг конкретной игры.\n",
    "# Остальные значения приведем к численному типу:\n",
    "\n",
    "data.loc[data['user_score'] == 'tbd', 'user_score'] = np.nan\n",
    "data['user_score'] = pd.to_numeric(data['user_score'])\n",
    "display(data['user_score'].unique())\n"
   ]
  },
  {
   "cell_type": "code",
   "execution_count": 9,
   "metadata": {},
   "outputs": [
    {
     "data": {
      "text/plain": [
       "array(['E', 'unknown', 'M', 'T', 'E10+', 'K-A', 'AO', 'EC', 'RP'],\n",
       "      dtype=object)"
      ]
     },
     "metadata": {},
     "output_type": "display_data"
    }
   ],
   "source": [
    "# Для дальнейшего корректного построения графиков пропуски в столбце 'rating' заменим на 'unknown':\n",
    "data['rating'] = data['rating'].fillna('unknown')\n",
    "display(data['rating'].unique())"
   ]
  },
  {
   "cell_type": "code",
   "execution_count": 10,
   "metadata": {},
   "outputs": [
    {
     "data": {
      "text/html": [
       "<div>\n",
       "<style scoped>\n",
       "    .dataframe tbody tr th:only-of-type {\n",
       "        vertical-align: middle;\n",
       "    }\n",
       "\n",
       "    .dataframe tbody tr th {\n",
       "        vertical-align: top;\n",
       "    }\n",
       "\n",
       "    .dataframe thead th {\n",
       "        text-align: right;\n",
       "    }\n",
       "</style>\n",
       "<table border=\"1\" class=\"dataframe\">\n",
       "  <thead>\n",
       "    <tr style=\"text-align: right;\">\n",
       "      <th></th>\n",
       "      <th>name</th>\n",
       "      <th>platform</th>\n",
       "      <th>year_of_release</th>\n",
       "      <th>genre</th>\n",
       "      <th>na_sales</th>\n",
       "      <th>eu_sales</th>\n",
       "      <th>jp_sales</th>\n",
       "      <th>other_sales</th>\n",
       "      <th>critic_score</th>\n",
       "      <th>user_score</th>\n",
       "      <th>rating</th>\n",
       "      <th>common_sales</th>\n",
       "    </tr>\n",
       "  </thead>\n",
       "  <tbody>\n",
       "    <tr>\n",
       "      <td>0</td>\n",
       "      <td>Wii Sports</td>\n",
       "      <td>Wii</td>\n",
       "      <td>2006.0</td>\n",
       "      <td>Sports</td>\n",
       "      <td>41.36</td>\n",
       "      <td>28.96</td>\n",
       "      <td>3.77</td>\n",
       "      <td>8.45</td>\n",
       "      <td>76.0</td>\n",
       "      <td>8.0</td>\n",
       "      <td>E</td>\n",
       "      <td>82.54</td>\n",
       "    </tr>\n",
       "    <tr>\n",
       "      <td>1</td>\n",
       "      <td>Super Mario Bros.</td>\n",
       "      <td>NES</td>\n",
       "      <td>1985.0</td>\n",
       "      <td>Platform</td>\n",
       "      <td>29.08</td>\n",
       "      <td>3.58</td>\n",
       "      <td>6.81</td>\n",
       "      <td>0.77</td>\n",
       "      <td>NaN</td>\n",
       "      <td>NaN</td>\n",
       "      <td>unknown</td>\n",
       "      <td>40.24</td>\n",
       "    </tr>\n",
       "    <tr>\n",
       "      <td>2</td>\n",
       "      <td>Mario Kart Wii</td>\n",
       "      <td>Wii</td>\n",
       "      <td>2008.0</td>\n",
       "      <td>Racing</td>\n",
       "      <td>15.68</td>\n",
       "      <td>12.76</td>\n",
       "      <td>3.79</td>\n",
       "      <td>3.29</td>\n",
       "      <td>82.0</td>\n",
       "      <td>8.3</td>\n",
       "      <td>E</td>\n",
       "      <td>35.52</td>\n",
       "    </tr>\n",
       "    <tr>\n",
       "      <td>3</td>\n",
       "      <td>Wii Sports Resort</td>\n",
       "      <td>Wii</td>\n",
       "      <td>2009.0</td>\n",
       "      <td>Sports</td>\n",
       "      <td>15.61</td>\n",
       "      <td>10.93</td>\n",
       "      <td>3.28</td>\n",
       "      <td>2.95</td>\n",
       "      <td>80.0</td>\n",
       "      <td>8.0</td>\n",
       "      <td>E</td>\n",
       "      <td>32.77</td>\n",
       "    </tr>\n",
       "    <tr>\n",
       "      <td>4</td>\n",
       "      <td>Pokemon Red/Pokemon Blue</td>\n",
       "      <td>GB</td>\n",
       "      <td>1996.0</td>\n",
       "      <td>Role-Playing</td>\n",
       "      <td>11.27</td>\n",
       "      <td>8.89</td>\n",
       "      <td>10.22</td>\n",
       "      <td>1.00</td>\n",
       "      <td>NaN</td>\n",
       "      <td>NaN</td>\n",
       "      <td>unknown</td>\n",
       "      <td>31.38</td>\n",
       "    </tr>\n",
       "  </tbody>\n",
       "</table>\n",
       "</div>"
      ],
      "text/plain": [
       "                       name platform  year_of_release         genre  na_sales  \\\n",
       "0                Wii Sports      Wii           2006.0        Sports     41.36   \n",
       "1         Super Mario Bros.      NES           1985.0      Platform     29.08   \n",
       "2            Mario Kart Wii      Wii           2008.0        Racing     15.68   \n",
       "3         Wii Sports Resort      Wii           2009.0        Sports     15.61   \n",
       "4  Pokemon Red/Pokemon Blue       GB           1996.0  Role-Playing     11.27   \n",
       "\n",
       "   eu_sales  jp_sales  other_sales  critic_score  user_score   rating  \\\n",
       "0     28.96      3.77         8.45          76.0         8.0        E   \n",
       "1      3.58      6.81         0.77           NaN         NaN  unknown   \n",
       "2     12.76      3.79         3.29          82.0         8.3        E   \n",
       "3     10.93      3.28         2.95          80.0         8.0        E   \n",
       "4      8.89     10.22         1.00           NaN         NaN  unknown   \n",
       "\n",
       "   common_sales  \n",
       "0         82.54  \n",
       "1         40.24  \n",
       "2         35.52  \n",
       "3         32.77  \n",
       "4         31.38  "
      ]
     },
     "metadata": {},
     "output_type": "display_data"
    }
   ],
   "source": [
    "# Добавим столбец с суммарными продажами по всем регионам:\n",
    "data['common_sales'] = data['na_sales']+data['eu_sales']+data['jp_sales']+data['other_sales']\n",
    "display(data.head())"
   ]
  },
  {
   "cell_type": "code",
   "execution_count": 11,
   "metadata": {
    "scrolled": false
   },
   "outputs": [
    {
     "data": {
      "text/plain": [
       "Index(['name', 'platform', 'year_of_release', 'genre', 'na_sales', 'eu_sales',\n",
       "       'jp_sales', 'other_sales', 'critic_score', 'user_score', 'rating',\n",
       "       'common_sales'],\n",
       "      dtype='object')"
      ]
     },
     "metadata": {},
     "output_type": "display_data"
    }
   ],
   "source": [
    "# Новый столбец 'common_sales' поставим после столбца 'other_sales':\n",
    "display(data.columns)"
   ]
  },
  {
   "cell_type": "code",
   "execution_count": 12,
   "metadata": {
    "scrolled": false
   },
   "outputs": [
    {
     "data": {
      "text/html": [
       "<div>\n",
       "<style scoped>\n",
       "    .dataframe tbody tr th:only-of-type {\n",
       "        vertical-align: middle;\n",
       "    }\n",
       "\n",
       "    .dataframe tbody tr th {\n",
       "        vertical-align: top;\n",
       "    }\n",
       "\n",
       "    .dataframe thead th {\n",
       "        text-align: right;\n",
       "    }\n",
       "</style>\n",
       "<table border=\"1\" class=\"dataframe\">\n",
       "  <thead>\n",
       "    <tr style=\"text-align: right;\">\n",
       "      <th></th>\n",
       "      <th>name</th>\n",
       "      <th>platform</th>\n",
       "      <th>year_of_release</th>\n",
       "      <th>genre</th>\n",
       "      <th>na_sales</th>\n",
       "      <th>eu_sales</th>\n",
       "      <th>jp_sales</th>\n",
       "      <th>other_sales</th>\n",
       "      <th>common_sales</th>\n",
       "      <th>critic_score</th>\n",
       "      <th>user_score</th>\n",
       "      <th>rating</th>\n",
       "    </tr>\n",
       "  </thead>\n",
       "  <tbody>\n",
       "    <tr>\n",
       "      <td>0</td>\n",
       "      <td>Wii Sports</td>\n",
       "      <td>Wii</td>\n",
       "      <td>2006.0</td>\n",
       "      <td>Sports</td>\n",
       "      <td>41.36</td>\n",
       "      <td>28.96</td>\n",
       "      <td>3.77</td>\n",
       "      <td>8.45</td>\n",
       "      <td>82.54</td>\n",
       "      <td>76.0</td>\n",
       "      <td>8.0</td>\n",
       "      <td>E</td>\n",
       "    </tr>\n",
       "    <tr>\n",
       "      <td>1</td>\n",
       "      <td>Super Mario Bros.</td>\n",
       "      <td>NES</td>\n",
       "      <td>1985.0</td>\n",
       "      <td>Platform</td>\n",
       "      <td>29.08</td>\n",
       "      <td>3.58</td>\n",
       "      <td>6.81</td>\n",
       "      <td>0.77</td>\n",
       "      <td>40.24</td>\n",
       "      <td>NaN</td>\n",
       "      <td>NaN</td>\n",
       "      <td>unknown</td>\n",
       "    </tr>\n",
       "    <tr>\n",
       "      <td>2</td>\n",
       "      <td>Mario Kart Wii</td>\n",
       "      <td>Wii</td>\n",
       "      <td>2008.0</td>\n",
       "      <td>Racing</td>\n",
       "      <td>15.68</td>\n",
       "      <td>12.76</td>\n",
       "      <td>3.79</td>\n",
       "      <td>3.29</td>\n",
       "      <td>35.52</td>\n",
       "      <td>82.0</td>\n",
       "      <td>8.3</td>\n",
       "      <td>E</td>\n",
       "    </tr>\n",
       "    <tr>\n",
       "      <td>3</td>\n",
       "      <td>Wii Sports Resort</td>\n",
       "      <td>Wii</td>\n",
       "      <td>2009.0</td>\n",
       "      <td>Sports</td>\n",
       "      <td>15.61</td>\n",
       "      <td>10.93</td>\n",
       "      <td>3.28</td>\n",
       "      <td>2.95</td>\n",
       "      <td>32.77</td>\n",
       "      <td>80.0</td>\n",
       "      <td>8.0</td>\n",
       "      <td>E</td>\n",
       "    </tr>\n",
       "    <tr>\n",
       "      <td>4</td>\n",
       "      <td>Pokemon Red/Pokemon Blue</td>\n",
       "      <td>GB</td>\n",
       "      <td>1996.0</td>\n",
       "      <td>Role-Playing</td>\n",
       "      <td>11.27</td>\n",
       "      <td>8.89</td>\n",
       "      <td>10.22</td>\n",
       "      <td>1.00</td>\n",
       "      <td>31.38</td>\n",
       "      <td>NaN</td>\n",
       "      <td>NaN</td>\n",
       "      <td>unknown</td>\n",
       "    </tr>\n",
       "  </tbody>\n",
       "</table>\n",
       "</div>"
      ],
      "text/plain": [
       "                       name platform  year_of_release         genre  na_sales  \\\n",
       "0                Wii Sports      Wii           2006.0        Sports     41.36   \n",
       "1         Super Mario Bros.      NES           1985.0      Platform     29.08   \n",
       "2            Mario Kart Wii      Wii           2008.0        Racing     15.68   \n",
       "3         Wii Sports Resort      Wii           2009.0        Sports     15.61   \n",
       "4  Pokemon Red/Pokemon Blue       GB           1996.0  Role-Playing     11.27   \n",
       "\n",
       "   eu_sales  jp_sales  other_sales  common_sales  critic_score  user_score  \\\n",
       "0     28.96      3.77         8.45         82.54          76.0         8.0   \n",
       "1      3.58      6.81         0.77         40.24           NaN         NaN   \n",
       "2     12.76      3.79         3.29         35.52          82.0         8.3   \n",
       "3     10.93      3.28         2.95         32.77          80.0         8.0   \n",
       "4      8.89     10.22         1.00         31.38           NaN         NaN   \n",
       "\n",
       "    rating  \n",
       "0        E  \n",
       "1  unknown  \n",
       "2        E  \n",
       "3        E  \n",
       "4  unknown  "
      ]
     },
     "metadata": {},
     "output_type": "display_data"
    },
    {
     "data": {
      "text/html": [
       "<div>\n",
       "<style scoped>\n",
       "    .dataframe tbody tr th:only-of-type {\n",
       "        vertical-align: middle;\n",
       "    }\n",
       "\n",
       "    .dataframe tbody tr th {\n",
       "        vertical-align: top;\n",
       "    }\n",
       "\n",
       "    .dataframe thead th {\n",
       "        text-align: right;\n",
       "    }\n",
       "</style>\n",
       "<table border=\"1\" class=\"dataframe\">\n",
       "  <thead>\n",
       "    <tr style=\"text-align: right;\">\n",
       "      <th></th>\n",
       "      <th>year_of_release</th>\n",
       "      <th>na_sales</th>\n",
       "      <th>eu_sales</th>\n",
       "      <th>jp_sales</th>\n",
       "      <th>other_sales</th>\n",
       "      <th>common_sales</th>\n",
       "      <th>critic_score</th>\n",
       "      <th>user_score</th>\n",
       "    </tr>\n",
       "  </thead>\n",
       "  <tbody>\n",
       "    <tr>\n",
       "      <td>count</td>\n",
       "      <td>16444.000000</td>\n",
       "      <td>16713.000000</td>\n",
       "      <td>16713.000000</td>\n",
       "      <td>16713.000000</td>\n",
       "      <td>16713.000000</td>\n",
       "      <td>16713.000000</td>\n",
       "      <td>8137.000000</td>\n",
       "      <td>7590.000000</td>\n",
       "    </tr>\n",
       "    <tr>\n",
       "      <td>mean</td>\n",
       "      <td>2006.486256</td>\n",
       "      <td>0.263302</td>\n",
       "      <td>0.145045</td>\n",
       "      <td>0.077625</td>\n",
       "      <td>0.047343</td>\n",
       "      <td>0.533315</td>\n",
       "      <td>68.967679</td>\n",
       "      <td>7.125046</td>\n",
       "    </tr>\n",
       "    <tr>\n",
       "      <td>std</td>\n",
       "      <td>5.875525</td>\n",
       "      <td>0.813565</td>\n",
       "      <td>0.503359</td>\n",
       "      <td>0.308871</td>\n",
       "      <td>0.186742</td>\n",
       "      <td>1.548282</td>\n",
       "      <td>13.938165</td>\n",
       "      <td>1.500006</td>\n",
       "    </tr>\n",
       "    <tr>\n",
       "      <td>min</td>\n",
       "      <td>1980.000000</td>\n",
       "      <td>0.000000</td>\n",
       "      <td>0.000000</td>\n",
       "      <td>0.000000</td>\n",
       "      <td>0.000000</td>\n",
       "      <td>0.000000</td>\n",
       "      <td>13.000000</td>\n",
       "      <td>0.000000</td>\n",
       "    </tr>\n",
       "    <tr>\n",
       "      <td>25%</td>\n",
       "      <td>2003.000000</td>\n",
       "      <td>0.000000</td>\n",
       "      <td>0.000000</td>\n",
       "      <td>0.000000</td>\n",
       "      <td>0.000000</td>\n",
       "      <td>0.060000</td>\n",
       "      <td>60.000000</td>\n",
       "      <td>6.400000</td>\n",
       "    </tr>\n",
       "    <tr>\n",
       "      <td>50%</td>\n",
       "      <td>2007.000000</td>\n",
       "      <td>0.080000</td>\n",
       "      <td>0.020000</td>\n",
       "      <td>0.000000</td>\n",
       "      <td>0.010000</td>\n",
       "      <td>0.170000</td>\n",
       "      <td>71.000000</td>\n",
       "      <td>7.500000</td>\n",
       "    </tr>\n",
       "    <tr>\n",
       "      <td>75%</td>\n",
       "      <td>2010.000000</td>\n",
       "      <td>0.240000</td>\n",
       "      <td>0.110000</td>\n",
       "      <td>0.040000</td>\n",
       "      <td>0.030000</td>\n",
       "      <td>0.470000</td>\n",
       "      <td>79.000000</td>\n",
       "      <td>8.200000</td>\n",
       "    </tr>\n",
       "    <tr>\n",
       "      <td>max</td>\n",
       "      <td>2016.000000</td>\n",
       "      <td>41.360000</td>\n",
       "      <td>28.960000</td>\n",
       "      <td>10.220000</td>\n",
       "      <td>10.570000</td>\n",
       "      <td>82.540000</td>\n",
       "      <td>98.000000</td>\n",
       "      <td>9.700000</td>\n",
       "    </tr>\n",
       "  </tbody>\n",
       "</table>\n",
       "</div>"
      ],
      "text/plain": [
       "       year_of_release      na_sales      eu_sales      jp_sales  \\\n",
       "count     16444.000000  16713.000000  16713.000000  16713.000000   \n",
       "mean       2006.486256      0.263302      0.145045      0.077625   \n",
       "std           5.875525      0.813565      0.503359      0.308871   \n",
       "min        1980.000000      0.000000      0.000000      0.000000   \n",
       "25%        2003.000000      0.000000      0.000000      0.000000   \n",
       "50%        2007.000000      0.080000      0.020000      0.000000   \n",
       "75%        2010.000000      0.240000      0.110000      0.040000   \n",
       "max        2016.000000     41.360000     28.960000     10.220000   \n",
       "\n",
       "        other_sales  common_sales  critic_score   user_score  \n",
       "count  16713.000000  16713.000000   8137.000000  7590.000000  \n",
       "mean       0.047343      0.533315     68.967679     7.125046  \n",
       "std        0.186742      1.548282     13.938165     1.500006  \n",
       "min        0.000000      0.000000     13.000000     0.000000  \n",
       "25%        0.000000      0.060000     60.000000     6.400000  \n",
       "50%        0.010000      0.170000     71.000000     7.500000  \n",
       "75%        0.030000      0.470000     79.000000     8.200000  \n",
       "max       10.570000     82.540000     98.000000     9.700000  "
      ]
     },
     "metadata": {},
     "output_type": "display_data"
    }
   ],
   "source": [
    "data = data[['name', 'platform', 'year_of_release', 'genre', 'na_sales', 'eu_sales',\n",
    "       'jp_sales', 'other_sales', 'common_sales', 'critic_score', 'user_score', 'rating'\n",
    "       ]]\n",
    "display(data.head())\n",
    "display(data.describe())"
   ]
  },
  {
   "cell_type": "markdown",
   "metadata": {},
   "source": [
    "- Названия столбцов приведены к нижнему регистру.\n",
    "- Удалены строки с пропусками в столбцах 'name' и 'genre'. Данные пропуски образованы случайно (возможно ошибкой при внесении данных таблицу). Строк с этими пропусками всего 2, в данном случае принимаем решение их удалить. \n",
    "- В столбце 'user_score' значения 'tbd' заменены на 'NaN', столбец приведен к численному типу (иначе мы не сможем проводить вычисления в этом столбце. \n",
    "- Пропуски в столбцах 'Year_of_Release', 'Critic_Score', 'User_Score' не заполнены так как нет возможности достоверно их заполнить. Строки с этими пропусками удалять нельзя, так как в соседних столбцах содержатся данные для анализа. Оставляем пропуски как есть, в расчетах эти значения не должны помешать анализу. Пропуски в столбцах 'Critic_Score', 'User_Score' могли образоваться в результате того что для каких-то игр могли отсутствовать данные, например оценка для игры могла быть не присвоен. Пропуски в столбце 'Year_of_Release' скорее всего случайны, вызваны ошибкой при внесении информации в таблицу.\n",
    "- Пропуски в столбце 'Rating' также могли быть образованы в результате того, что рейтинг игре не присвоен (возможно просто на момент внесения данных в таблицу). Для дальнейшего корректного построения графиков заменим пропуски в столбце на значение 'unknown'."
   ]
  },
  {
   "cell_type": "markdown",
   "metadata": {},
   "source": [
    "## Исследовательский анализ данных"
   ]
  },
  {
   "cell_type": "markdown",
   "metadata": {},
   "source": [
    "### Количество игр в разные годы"
   ]
  },
  {
   "cell_type": "code",
   "execution_count": 13,
   "metadata": {
    "scrolled": false
   },
   "outputs": [
    {
     "data": {
      "text/html": [
       "<div>\n",
       "<style scoped>\n",
       "    .dataframe tbody tr th:only-of-type {\n",
       "        vertical-align: middle;\n",
       "    }\n",
       "\n",
       "    .dataframe tbody tr th {\n",
       "        vertical-align: top;\n",
       "    }\n",
       "\n",
       "    .dataframe thead th {\n",
       "        text-align: right;\n",
       "    }\n",
       "</style>\n",
       "<table border=\"1\" class=\"dataframe\">\n",
       "  <thead>\n",
       "    <tr style=\"text-align: right;\">\n",
       "      <th></th>\n",
       "      <th>year_of_release</th>\n",
       "      <th>name</th>\n",
       "    </tr>\n",
       "  </thead>\n",
       "  <tbody>\n",
       "    <tr>\n",
       "      <td>0</td>\n",
       "      <td>1980.0</td>\n",
       "      <td>9</td>\n",
       "    </tr>\n",
       "    <tr>\n",
       "      <td>1</td>\n",
       "      <td>1981.0</td>\n",
       "      <td>46</td>\n",
       "    </tr>\n",
       "    <tr>\n",
       "      <td>2</td>\n",
       "      <td>1982.0</td>\n",
       "      <td>36</td>\n",
       "    </tr>\n",
       "    <tr>\n",
       "      <td>3</td>\n",
       "      <td>1983.0</td>\n",
       "      <td>17</td>\n",
       "    </tr>\n",
       "    <tr>\n",
       "      <td>4</td>\n",
       "      <td>1984.0</td>\n",
       "      <td>14</td>\n",
       "    </tr>\n",
       "    <tr>\n",
       "      <td>5</td>\n",
       "      <td>1985.0</td>\n",
       "      <td>14</td>\n",
       "    </tr>\n",
       "    <tr>\n",
       "      <td>6</td>\n",
       "      <td>1986.0</td>\n",
       "      <td>21</td>\n",
       "    </tr>\n",
       "    <tr>\n",
       "      <td>7</td>\n",
       "      <td>1987.0</td>\n",
       "      <td>16</td>\n",
       "    </tr>\n",
       "    <tr>\n",
       "      <td>8</td>\n",
       "      <td>1988.0</td>\n",
       "      <td>15</td>\n",
       "    </tr>\n",
       "    <tr>\n",
       "      <td>9</td>\n",
       "      <td>1989.0</td>\n",
       "      <td>17</td>\n",
       "    </tr>\n",
       "    <tr>\n",
       "      <td>10</td>\n",
       "      <td>1990.0</td>\n",
       "      <td>16</td>\n",
       "    </tr>\n",
       "    <tr>\n",
       "      <td>11</td>\n",
       "      <td>1991.0</td>\n",
       "      <td>41</td>\n",
       "    </tr>\n",
       "    <tr>\n",
       "      <td>12</td>\n",
       "      <td>1992.0</td>\n",
       "      <td>43</td>\n",
       "    </tr>\n",
       "    <tr>\n",
       "      <td>13</td>\n",
       "      <td>1993.0</td>\n",
       "      <td>60</td>\n",
       "    </tr>\n",
       "    <tr>\n",
       "      <td>14</td>\n",
       "      <td>1994.0</td>\n",
       "      <td>121</td>\n",
       "    </tr>\n",
       "    <tr>\n",
       "      <td>15</td>\n",
       "      <td>1995.0</td>\n",
       "      <td>219</td>\n",
       "    </tr>\n",
       "    <tr>\n",
       "      <td>16</td>\n",
       "      <td>1996.0</td>\n",
       "      <td>263</td>\n",
       "    </tr>\n",
       "    <tr>\n",
       "      <td>17</td>\n",
       "      <td>1997.0</td>\n",
       "      <td>289</td>\n",
       "    </tr>\n",
       "    <tr>\n",
       "      <td>18</td>\n",
       "      <td>1998.0</td>\n",
       "      <td>379</td>\n",
       "    </tr>\n",
       "    <tr>\n",
       "      <td>19</td>\n",
       "      <td>1999.0</td>\n",
       "      <td>338</td>\n",
       "    </tr>\n",
       "    <tr>\n",
       "      <td>20</td>\n",
       "      <td>2000.0</td>\n",
       "      <td>350</td>\n",
       "    </tr>\n",
       "    <tr>\n",
       "      <td>21</td>\n",
       "      <td>2001.0</td>\n",
       "      <td>482</td>\n",
       "    </tr>\n",
       "    <tr>\n",
       "      <td>22</td>\n",
       "      <td>2002.0</td>\n",
       "      <td>829</td>\n",
       "    </tr>\n",
       "    <tr>\n",
       "      <td>23</td>\n",
       "      <td>2003.0</td>\n",
       "      <td>775</td>\n",
       "    </tr>\n",
       "    <tr>\n",
       "      <td>24</td>\n",
       "      <td>2004.0</td>\n",
       "      <td>762</td>\n",
       "    </tr>\n",
       "    <tr>\n",
       "      <td>25</td>\n",
       "      <td>2005.0</td>\n",
       "      <td>939</td>\n",
       "    </tr>\n",
       "    <tr>\n",
       "      <td>26</td>\n",
       "      <td>2006.0</td>\n",
       "      <td>1006</td>\n",
       "    </tr>\n",
       "    <tr>\n",
       "      <td>27</td>\n",
       "      <td>2007.0</td>\n",
       "      <td>1197</td>\n",
       "    </tr>\n",
       "    <tr>\n",
       "      <td>28</td>\n",
       "      <td>2008.0</td>\n",
       "      <td>1427</td>\n",
       "    </tr>\n",
       "    <tr>\n",
       "      <td>29</td>\n",
       "      <td>2009.0</td>\n",
       "      <td>1426</td>\n",
       "    </tr>\n",
       "    <tr>\n",
       "      <td>30</td>\n",
       "      <td>2010.0</td>\n",
       "      <td>1255</td>\n",
       "    </tr>\n",
       "    <tr>\n",
       "      <td>31</td>\n",
       "      <td>2011.0</td>\n",
       "      <td>1136</td>\n",
       "    </tr>\n",
       "    <tr>\n",
       "      <td>32</td>\n",
       "      <td>2012.0</td>\n",
       "      <td>653</td>\n",
       "    </tr>\n",
       "    <tr>\n",
       "      <td>33</td>\n",
       "      <td>2013.0</td>\n",
       "      <td>544</td>\n",
       "    </tr>\n",
       "    <tr>\n",
       "      <td>34</td>\n",
       "      <td>2014.0</td>\n",
       "      <td>581</td>\n",
       "    </tr>\n",
       "    <tr>\n",
       "      <td>35</td>\n",
       "      <td>2015.0</td>\n",
       "      <td>606</td>\n",
       "    </tr>\n",
       "    <tr>\n",
       "      <td>36</td>\n",
       "      <td>2016.0</td>\n",
       "      <td>502</td>\n",
       "    </tr>\n",
       "  </tbody>\n",
       "</table>\n",
       "</div>"
      ],
      "text/plain": [
       "    year_of_release  name\n",
       "0            1980.0     9\n",
       "1            1981.0    46\n",
       "2            1982.0    36\n",
       "3            1983.0    17\n",
       "4            1984.0    14\n",
       "5            1985.0    14\n",
       "6            1986.0    21\n",
       "7            1987.0    16\n",
       "8            1988.0    15\n",
       "9            1989.0    17\n",
       "10           1990.0    16\n",
       "11           1991.0    41\n",
       "12           1992.0    43\n",
       "13           1993.0    60\n",
       "14           1994.0   121\n",
       "15           1995.0   219\n",
       "16           1996.0   263\n",
       "17           1997.0   289\n",
       "18           1998.0   379\n",
       "19           1999.0   338\n",
       "20           2000.0   350\n",
       "21           2001.0   482\n",
       "22           2002.0   829\n",
       "23           2003.0   775\n",
       "24           2004.0   762\n",
       "25           2005.0   939\n",
       "26           2006.0  1006\n",
       "27           2007.0  1197\n",
       "28           2008.0  1427\n",
       "29           2009.0  1426\n",
       "30           2010.0  1255\n",
       "31           2011.0  1136\n",
       "32           2012.0   653\n",
       "33           2013.0   544\n",
       "34           2014.0   581\n",
       "35           2015.0   606\n",
       "36           2016.0   502"
      ]
     },
     "metadata": {},
     "output_type": "display_data"
    },
    {
     "data": {
      "image/png": "[encoded data removed]",
      "text/plain": [
       "<Figure size 1800x720 with 1 Axes>"
      ]
     },
     "metadata": {
      "needs_background": "light"
     },
     "output_type": "display_data"
    }
   ],
   "source": [
    "# Сгруппируем таблицу по годам и кодичеству игр по годам.\n",
    "# Построим диграмму с распределением выпускаемых игр по годам:\n",
    "years_stat = data.groupby(by=['year_of_release'], as_index=False)['name'].count()\n",
    "display(years_stat)\n",
    "years_stat.plot(x='year_of_release', y='name', kind='bar', figsize=(25, 10));"
   ]
  },
  {
   "cell_type": "markdown",
   "metadata": {},
   "source": [
    "- Предварительно можно предположить, что нам для анализа будет необходим период с 2012 года - с этого года количество выпускаемых игр примерно одинаково (в сравнении с предыдущими годами)."
   ]
  },
  {
   "cell_type": "markdown",
   "metadata": {},
   "source": [
    "### Продажи по платформам"
   ]
  },
  {
   "cell_type": "code",
   "execution_count": 14,
   "metadata": {},
   "outputs": [
    {
     "data": {
      "text/html": [
       "<div>\n",
       "<style scoped>\n",
       "    .dataframe tbody tr th:only-of-type {\n",
       "        vertical-align: middle;\n",
       "    }\n",
       "\n",
       "    .dataframe tbody tr th {\n",
       "        vertical-align: top;\n",
       "    }\n",
       "\n",
       "    .dataframe thead th {\n",
       "        text-align: right;\n",
       "    }\n",
       "</style>\n",
       "<table border=\"1\" class=\"dataframe\">\n",
       "  <thead>\n",
       "    <tr style=\"text-align: right;\">\n",
       "      <th></th>\n",
       "      <th>platform</th>\n",
       "      <th>common_sales</th>\n",
       "    </tr>\n",
       "  </thead>\n",
       "  <tbody>\n",
       "    <tr>\n",
       "      <td>16</td>\n",
       "      <td>PS2</td>\n",
       "      <td>1255.77</td>\n",
       "    </tr>\n",
       "    <tr>\n",
       "      <td>28</td>\n",
       "      <td>X360</td>\n",
       "      <td>971.42</td>\n",
       "    </tr>\n",
       "    <tr>\n",
       "      <td>17</td>\n",
       "      <td>PS3</td>\n",
       "      <td>939.65</td>\n",
       "    </tr>\n",
       "    <tr>\n",
       "      <td>26</td>\n",
       "      <td>Wii</td>\n",
       "      <td>907.51</td>\n",
       "    </tr>\n",
       "    <tr>\n",
       "      <td>4</td>\n",
       "      <td>DS</td>\n",
       "      <td>806.12</td>\n",
       "    </tr>\n",
       "    <tr>\n",
       "      <td>15</td>\n",
       "      <td>PS</td>\n",
       "      <td>730.86</td>\n",
       "    </tr>\n",
       "    <tr>\n",
       "      <td>6</td>\n",
       "      <td>GBA</td>\n",
       "      <td>317.85</td>\n",
       "    </tr>\n",
       "    <tr>\n",
       "      <td>18</td>\n",
       "      <td>PS4</td>\n",
       "      <td>314.14</td>\n",
       "    </tr>\n",
       "    <tr>\n",
       "      <td>19</td>\n",
       "      <td>PSP</td>\n",
       "      <td>294.05</td>\n",
       "    </tr>\n",
       "    <tr>\n",
       "      <td>13</td>\n",
       "      <td>PC</td>\n",
       "      <td>259.52</td>\n",
       "    </tr>\n",
       "    <tr>\n",
       "      <td>2</td>\n",
       "      <td>3DS</td>\n",
       "      <td>259.00</td>\n",
       "    </tr>\n",
       "    <tr>\n",
       "      <td>29</td>\n",
       "      <td>XB</td>\n",
       "      <td>257.74</td>\n",
       "    </tr>\n",
       "    <tr>\n",
       "      <td>5</td>\n",
       "      <td>GB</td>\n",
       "      <td>255.46</td>\n",
       "    </tr>\n",
       "    <tr>\n",
       "      <td>11</td>\n",
       "      <td>NES</td>\n",
       "      <td>251.05</td>\n",
       "    </tr>\n",
       "    <tr>\n",
       "      <td>10</td>\n",
       "      <td>N64</td>\n",
       "      <td>218.68</td>\n",
       "    </tr>\n",
       "    <tr>\n",
       "      <td>23</td>\n",
       "      <td>SNES</td>\n",
       "      <td>200.04</td>\n",
       "    </tr>\n",
       "    <tr>\n",
       "      <td>7</td>\n",
       "      <td>GC</td>\n",
       "      <td>198.93</td>\n",
       "    </tr>\n",
       "    <tr>\n",
       "      <td>30</td>\n",
       "      <td>XOne</td>\n",
       "      <td>159.32</td>\n",
       "    </tr>\n",
       "    <tr>\n",
       "      <td>0</td>\n",
       "      <td>2600</td>\n",
       "      <td>96.98</td>\n",
       "    </tr>\n",
       "    <tr>\n",
       "      <td>27</td>\n",
       "      <td>WiiU</td>\n",
       "      <td>82.19</td>\n",
       "    </tr>\n",
       "    <tr>\n",
       "      <td>20</td>\n",
       "      <td>PSV</td>\n",
       "      <td>54.07</td>\n",
       "    </tr>\n",
       "    <tr>\n",
       "      <td>21</td>\n",
       "      <td>SAT</td>\n",
       "      <td>33.59</td>\n",
       "    </tr>\n",
       "    <tr>\n",
       "      <td>8</td>\n",
       "      <td>GEN</td>\n",
       "      <td>28.35</td>\n",
       "    </tr>\n",
       "    <tr>\n",
       "      <td>3</td>\n",
       "      <td>DC</td>\n",
       "      <td>15.95</td>\n",
       "    </tr>\n",
       "    <tr>\n",
       "      <td>22</td>\n",
       "      <td>SCD</td>\n",
       "      <td>1.86</td>\n",
       "    </tr>\n",
       "    <tr>\n",
       "      <td>12</td>\n",
       "      <td>NG</td>\n",
       "      <td>1.44</td>\n",
       "    </tr>\n",
       "    <tr>\n",
       "      <td>25</td>\n",
       "      <td>WS</td>\n",
       "      <td>1.42</td>\n",
       "    </tr>\n",
       "    <tr>\n",
       "      <td>24</td>\n",
       "      <td>TG16</td>\n",
       "      <td>0.16</td>\n",
       "    </tr>\n",
       "    <tr>\n",
       "      <td>1</td>\n",
       "      <td>3DO</td>\n",
       "      <td>0.10</td>\n",
       "    </tr>\n",
       "    <tr>\n",
       "      <td>9</td>\n",
       "      <td>GG</td>\n",
       "      <td>0.04</td>\n",
       "    </tr>\n",
       "    <tr>\n",
       "      <td>14</td>\n",
       "      <td>PCFX</td>\n",
       "      <td>0.03</td>\n",
       "    </tr>\n",
       "  </tbody>\n",
       "</table>\n",
       "</div>"
      ],
      "text/plain": [
       "   platform  common_sales\n",
       "16      PS2       1255.77\n",
       "28     X360        971.42\n",
       "17      PS3        939.65\n",
       "26      Wii        907.51\n",
       "4        DS        806.12\n",
       "15       PS        730.86\n",
       "6       GBA        317.85\n",
       "18      PS4        314.14\n",
       "19      PSP        294.05\n",
       "13       PC        259.52\n",
       "2       3DS        259.00\n",
       "29       XB        257.74\n",
       "5        GB        255.46\n",
       "11      NES        251.05\n",
       "10      N64        218.68\n",
       "23     SNES        200.04\n",
       "7        GC        198.93\n",
       "30     XOne        159.32\n",
       "0      2600         96.98\n",
       "27     WiiU         82.19\n",
       "20      PSV         54.07\n",
       "21      SAT         33.59\n",
       "8       GEN         28.35\n",
       "3        DC         15.95\n",
       "22      SCD          1.86\n",
       "12       NG          1.44\n",
       "25       WS          1.42\n",
       "24     TG16          0.16\n",
       "1       3DO          0.10\n",
       "9        GG          0.04\n",
       "14     PCFX          0.03"
      ]
     },
     "metadata": {},
     "output_type": "display_data"
    }
   ],
   "source": [
    "# Сгруппируем таблицу по платформам в разрезе суммарных продаж:\n",
    "platform_sales = data.groupby(by=['platform'], as_index=False)['common_sales'].sum()\n",
    "display(platform_sales.sort_values(by = 'common_sales', \n",
    "                               ascending = False))"
   ]
  },
  {
   "cell_type": "code",
   "execution_count": 15,
   "metadata": {
    "scrolled": false
   },
   "outputs": [
    {
     "data": {
      "text/html": [
       "<div>\n",
       "<style scoped>\n",
       "    .dataframe tbody tr th:only-of-type {\n",
       "        vertical-align: middle;\n",
       "    }\n",
       "\n",
       "    .dataframe tbody tr th {\n",
       "        vertical-align: top;\n",
       "    }\n",
       "\n",
       "    .dataframe thead th {\n",
       "        text-align: right;\n",
       "    }\n",
       "</style>\n",
       "<table border=\"1\" class=\"dataframe\">\n",
       "  <thead>\n",
       "    <tr style=\"text-align: right;\">\n",
       "      <th></th>\n",
       "      <th>platform</th>\n",
       "      <th>common_sales</th>\n",
       "    </tr>\n",
       "  </thead>\n",
       "  <tbody>\n",
       "    <tr>\n",
       "      <td>16</td>\n",
       "      <td>PS2</td>\n",
       "      <td>1255.77</td>\n",
       "    </tr>\n",
       "    <tr>\n",
       "      <td>28</td>\n",
       "      <td>X360</td>\n",
       "      <td>971.42</td>\n",
       "    </tr>\n",
       "    <tr>\n",
       "      <td>17</td>\n",
       "      <td>PS3</td>\n",
       "      <td>939.65</td>\n",
       "    </tr>\n",
       "    <tr>\n",
       "      <td>26</td>\n",
       "      <td>Wii</td>\n",
       "      <td>907.51</td>\n",
       "    </tr>\n",
       "    <tr>\n",
       "      <td>4</td>\n",
       "      <td>DS</td>\n",
       "      <td>806.12</td>\n",
       "    </tr>\n",
       "    <tr>\n",
       "      <td>15</td>\n",
       "      <td>PS</td>\n",
       "      <td>730.86</td>\n",
       "    </tr>\n",
       "  </tbody>\n",
       "</table>\n",
       "</div>"
      ],
      "text/plain": [
       "   platform  common_sales\n",
       "16      PS2       1255.77\n",
       "28     X360        971.42\n",
       "17      PS3        939.65\n",
       "26      Wii        907.51\n",
       "4        DS        806.12\n",
       "15       PS        730.86"
      ]
     },
     "metadata": {},
     "output_type": "display_data"
    }
   ],
   "source": [
    "# Выберем платформы с суммарными продажами более 500 млн. копий:\n",
    "top_platform_sales = platform_sales.query('common_sales > 500')\n",
    "display(top_platform_sales.sort_values(by = 'common_sales', \n",
    "                               ascending = False))"
   ]
  },
  {
   "cell_type": "code",
   "execution_count": 16,
   "metadata": {
    "scrolled": false
   },
   "outputs": [
    {
     "name": "stdout",
     "output_type": "stream",
     "text": [
      "<class 'pandas.core.frame.DataFrame'>\n",
      "Int64Index: 9422 entries, 0 to 16709\n",
      "Data columns (total 12 columns):\n",
      "name               9422 non-null object\n",
      "platform           9422 non-null object\n",
      "year_of_release    9262 non-null float64\n",
      "genre              9422 non-null object\n",
      "na_sales           9422 non-null float64\n",
      "eu_sales           9422 non-null float64\n",
      "jp_sales           9422 non-null float64\n",
      "other_sales        9422 non-null float64\n",
      "common_sales       9422 non-null float64\n",
      "critic_score       4536 non-null float64\n",
      "user_score         4322 non-null float64\n",
      "rating             9422 non-null object\n",
      "dtypes: float64(8), object(4)\n",
      "memory usage: 956.9+ KB\n"
     ]
    },
    {
     "data": {
      "text/html": [
       "<div>\n",
       "<style scoped>\n",
       "    .dataframe tbody tr th:only-of-type {\n",
       "        vertical-align: middle;\n",
       "    }\n",
       "\n",
       "    .dataframe tbody tr th {\n",
       "        vertical-align: top;\n",
       "    }\n",
       "\n",
       "    .dataframe thead th {\n",
       "        text-align: right;\n",
       "    }\n",
       "</style>\n",
       "<table border=\"1\" class=\"dataframe\">\n",
       "  <thead>\n",
       "    <tr style=\"text-align: right;\">\n",
       "      <th></th>\n",
       "      <th>name</th>\n",
       "      <th>platform</th>\n",
       "      <th>year_of_release</th>\n",
       "      <th>genre</th>\n",
       "      <th>na_sales</th>\n",
       "      <th>eu_sales</th>\n",
       "      <th>jp_sales</th>\n",
       "      <th>other_sales</th>\n",
       "      <th>common_sales</th>\n",
       "      <th>critic_score</th>\n",
       "      <th>user_score</th>\n",
       "      <th>rating</th>\n",
       "    </tr>\n",
       "  </thead>\n",
       "  <tbody>\n",
       "    <tr>\n",
       "      <td>0</td>\n",
       "      <td>Wii Sports</td>\n",
       "      <td>Wii</td>\n",
       "      <td>2006.0</td>\n",
       "      <td>Sports</td>\n",
       "      <td>41.36</td>\n",
       "      <td>28.96</td>\n",
       "      <td>3.77</td>\n",
       "      <td>8.45</td>\n",
       "      <td>82.54</td>\n",
       "      <td>76.0</td>\n",
       "      <td>8.0</td>\n",
       "      <td>E</td>\n",
       "    </tr>\n",
       "    <tr>\n",
       "      <td>2</td>\n",
       "      <td>Mario Kart Wii</td>\n",
       "      <td>Wii</td>\n",
       "      <td>2008.0</td>\n",
       "      <td>Racing</td>\n",
       "      <td>15.68</td>\n",
       "      <td>12.76</td>\n",
       "      <td>3.79</td>\n",
       "      <td>3.29</td>\n",
       "      <td>35.52</td>\n",
       "      <td>82.0</td>\n",
       "      <td>8.3</td>\n",
       "      <td>E</td>\n",
       "    </tr>\n",
       "    <tr>\n",
       "      <td>3</td>\n",
       "      <td>Wii Sports Resort</td>\n",
       "      <td>Wii</td>\n",
       "      <td>2009.0</td>\n",
       "      <td>Sports</td>\n",
       "      <td>15.61</td>\n",
       "      <td>10.93</td>\n",
       "      <td>3.28</td>\n",
       "      <td>2.95</td>\n",
       "      <td>32.77</td>\n",
       "      <td>80.0</td>\n",
       "      <td>8.0</td>\n",
       "      <td>E</td>\n",
       "    </tr>\n",
       "    <tr>\n",
       "      <td>6</td>\n",
       "      <td>New Super Mario Bros.</td>\n",
       "      <td>DS</td>\n",
       "      <td>2006.0</td>\n",
       "      <td>Platform</td>\n",
       "      <td>11.28</td>\n",
       "      <td>9.14</td>\n",
       "      <td>6.50</td>\n",
       "      <td>2.88</td>\n",
       "      <td>29.80</td>\n",
       "      <td>89.0</td>\n",
       "      <td>8.5</td>\n",
       "      <td>E</td>\n",
       "    </tr>\n",
       "    <tr>\n",
       "      <td>7</td>\n",
       "      <td>Wii Play</td>\n",
       "      <td>Wii</td>\n",
       "      <td>2006.0</td>\n",
       "      <td>Misc</td>\n",
       "      <td>13.96</td>\n",
       "      <td>9.18</td>\n",
       "      <td>2.93</td>\n",
       "      <td>2.84</td>\n",
       "      <td>28.91</td>\n",
       "      <td>58.0</td>\n",
       "      <td>6.6</td>\n",
       "      <td>E</td>\n",
       "    </tr>\n",
       "  </tbody>\n",
       "</table>\n",
       "</div>"
      ],
      "text/plain": [
       "                    name platform  year_of_release     genre  na_sales  \\\n",
       "0             Wii Sports      Wii           2006.0    Sports     41.36   \n",
       "2         Mario Kart Wii      Wii           2008.0    Racing     15.68   \n",
       "3      Wii Sports Resort      Wii           2009.0    Sports     15.61   \n",
       "6  New Super Mario Bros.       DS           2006.0  Platform     11.28   \n",
       "7               Wii Play      Wii           2006.0      Misc     13.96   \n",
       "\n",
       "   eu_sales  jp_sales  other_sales  common_sales  critic_score  user_score  \\\n",
       "0     28.96      3.77         8.45         82.54          76.0         8.0   \n",
       "2     12.76      3.79         3.29         35.52          82.0         8.3   \n",
       "3     10.93      3.28         2.95         32.77          80.0         8.0   \n",
       "6      9.14      6.50         2.88         29.80          89.0         8.5   \n",
       "7      9.18      2.93         2.84         28.91          58.0         6.6   \n",
       "\n",
       "  rating  \n",
       "0      E  \n",
       "2      E  \n",
       "3      E  \n",
       "6      E  \n",
       "7      E  "
      ]
     },
     "metadata": {},
     "output_type": "display_data"
    },
    {
     "data": {
      "text/plain": [
       "array(['Wii', 'DS', 'X360', 'PS3', 'PS2', 'PS'], dtype=object)"
      ]
     },
     "metadata": {},
     "output_type": "display_data"
    }
   ],
   "source": [
    "# Отфильтруем исходную таблицу по полученным платформам:\n",
    "top_platform_data = data.loc[data['platform'].isin(top_platform_sales['platform'])]\n",
    "top_platform_data.info()\n",
    "display(top_platform_data.head())\n",
    "display(top_platform_data['platform'].unique())"
   ]
  },
  {
   "cell_type": "code",
   "execution_count": 17,
   "metadata": {
    "scrolled": false
   },
   "outputs": [
    {
     "data": {
      "text/html": [
       "<div>\n",
       "<style scoped>\n",
       "    .dataframe tbody tr th:only-of-type {\n",
       "        vertical-align: middle;\n",
       "    }\n",
       "\n",
       "    .dataframe tbody tr th {\n",
       "        vertical-align: top;\n",
       "    }\n",
       "\n",
       "    .dataframe thead th {\n",
       "        text-align: right;\n",
       "    }\n",
       "</style>\n",
       "<table border=\"1\" class=\"dataframe\">\n",
       "  <thead>\n",
       "    <tr style=\"text-align: right;\">\n",
       "      <th></th>\n",
       "      <th>platform</th>\n",
       "      <th>year_of_release</th>\n",
       "      <th>common_sales</th>\n",
       "    </tr>\n",
       "  </thead>\n",
       "  <tbody>\n",
       "    <tr>\n",
       "      <td>0</td>\n",
       "      <td>DS</td>\n",
       "      <td>1985.0</td>\n",
       "      <td>0.02</td>\n",
       "    </tr>\n",
       "    <tr>\n",
       "      <td>1</td>\n",
       "      <td>DS</td>\n",
       "      <td>2004.0</td>\n",
       "      <td>17.27</td>\n",
       "    </tr>\n",
       "    <tr>\n",
       "      <td>2</td>\n",
       "      <td>DS</td>\n",
       "      <td>2005.0</td>\n",
       "      <td>130.14</td>\n",
       "    </tr>\n",
       "    <tr>\n",
       "      <td>3</td>\n",
       "      <td>DS</td>\n",
       "      <td>2006.0</td>\n",
       "      <td>119.81</td>\n",
       "    </tr>\n",
       "    <tr>\n",
       "      <td>4</td>\n",
       "      <td>DS</td>\n",
       "      <td>2007.0</td>\n",
       "      <td>146.94</td>\n",
       "    </tr>\n",
       "  </tbody>\n",
       "</table>\n",
       "</div>"
      ],
      "text/plain": [
       "  platform  year_of_release  common_sales\n",
       "0       DS           1985.0          0.02\n",
       "1       DS           2004.0         17.27\n",
       "2       DS           2005.0        130.14\n",
       "3       DS           2006.0        119.81\n",
       "4       DS           2007.0        146.94"
      ]
     },
     "metadata": {},
     "output_type": "display_data"
    }
   ],
   "source": [
    "# Сгруппируем полученную таблицу по платформам и годам выпуска игр в разрезе суммарных продаж:\n",
    "top_platform_data_grouped = top_platform_data.groupby(by=['platform','year_of_release'], \n",
    "    as_index=False)['common_sales'].sum()\n",
    "display(top_platform_data_grouped.head())"
   ]
  },
  {
   "cell_type": "code",
   "execution_count": 18,
   "metadata": {
    "scrolled": false
   },
   "outputs": [
    {
     "data": {
      "image/png": "[encoded data removed]",
      "text/plain": [
       "<Figure size 1800x720 with 1 Axes>"
      ]
     },
     "metadata": {
      "needs_background": "light"
     },
     "output_type": "display_data"
    },
    {
     "data": {
      "image/png": "[encoded data removed]",
      "text/plain": [
       "<Figure size 1800x720 with 1 Axes>"
      ]
     },
     "metadata": {
      "needs_background": "light"
     },
     "output_type": "display_data"
    },
    {
     "data": {
      "image/png": "[encoded data removed]",
      "text/plain": [
       "<Figure size 1800x720 with 1 Axes>"
      ]
     },
     "metadata": {
      "needs_background": "light"
     },
     "output_type": "display_data"
    },
    {
     "data": {
      "image/png": "[encoded data removed]",
      "text/plain": [
       "<Figure size 1800x720 with 1 Axes>"
      ]
     },
     "metadata": {
      "needs_background": "light"
     },
     "output_type": "display_data"
    },
    {
     "data": {
      "image/png": "[encoded data removed]",
      "text/plain": [
       "<Figure size 1800x720 with 1 Axes>"
      ]
     },
     "metadata": {
      "needs_background": "light"
     },
     "output_type": "display_data"
    },
    {
     "data": {
      "image/png": "[encoded data removed]",
      "text/plain": [
       "<Figure size 1800x720 with 1 Axes>"
      ]
     },
     "metadata": {
      "needs_background": "light"
     },
     "output_type": "display_data"
    }
   ],
   "source": [
    "# Построим диаграммы по годам и числу проданных копий для всех платформ:\n",
    "for platform, group_data in top_platform_data.groupby('platform'):\n",
    "\n",
    "    group_data.groupby(by='year_of_release', as_index=False)['common_sales'].sum().plot(\n",
    "        x='year_of_release', y='common_sales', title=platform, kind='bar', figsize=(25, 10))"
   ]
  },
  {
   "cell_type": "markdown",
   "metadata": {},
   "source": [
    "По построенным графикам предварительно можно предположить, что срок \"жизни\" платформы (период, когда для платформы выпускаются игры) - около 10-12 лет. Проведем детальные расчеты средней продолжительности периода выпуска игр для этих же популярных платформ."
   ]
  },
  {
   "cell_type": "code",
   "execution_count": 19,
   "metadata": {
    "scrolled": false
   },
   "outputs": [
    {
     "data": {
      "text/html": [
       "<div>\n",
       "<style scoped>\n",
       "    .dataframe tbody tr th:only-of-type {\n",
       "        vertical-align: middle;\n",
       "    }\n",
       "\n",
       "    .dataframe tbody tr th {\n",
       "        vertical-align: top;\n",
       "    }\n",
       "\n",
       "    .dataframe thead th {\n",
       "        text-align: right;\n",
       "    }\n",
       "</style>\n",
       "<table border=\"1\" class=\"dataframe\">\n",
       "  <thead>\n",
       "    <tr style=\"text-align: right;\">\n",
       "      <th></th>\n",
       "      <th>name</th>\n",
       "      <th>platform</th>\n",
       "      <th>year_of_release</th>\n",
       "      <th>genre</th>\n",
       "      <th>na_sales</th>\n",
       "      <th>eu_sales</th>\n",
       "      <th>jp_sales</th>\n",
       "      <th>other_sales</th>\n",
       "      <th>common_sales</th>\n",
       "      <th>critic_score</th>\n",
       "      <th>user_score</th>\n",
       "      <th>rating</th>\n",
       "    </tr>\n",
       "  </thead>\n",
       "  <tbody>\n",
       "    <tr>\n",
       "      <td>15955</td>\n",
       "      <td>Strongest Tokyo University Shogi DS</td>\n",
       "      <td>DS</td>\n",
       "      <td>1985.0</td>\n",
       "      <td>Action</td>\n",
       "      <td>0.0</td>\n",
       "      <td>0.0</td>\n",
       "      <td>0.02</td>\n",
       "      <td>0.0</td>\n",
       "      <td>0.02</td>\n",
       "      <td>NaN</td>\n",
       "      <td>NaN</td>\n",
       "      <td>unknown</td>\n",
       "    </tr>\n",
       "  </tbody>\n",
       "</table>\n",
       "</div>"
      ],
      "text/plain": [
       "                                      name platform  year_of_release   genre  \\\n",
       "15955  Strongest Tokyo University Shogi DS       DS           1985.0  Action   \n",
       "\n",
       "       na_sales  eu_sales  jp_sales  other_sales  common_sales  critic_score  \\\n",
       "15955       0.0       0.0      0.02          0.0          0.02           NaN   \n",
       "\n",
       "       user_score   rating  \n",
       "15955         NaN  unknown  "
      ]
     },
     "metadata": {},
     "output_type": "display_data"
    }
   ],
   "source": [
    "# Изучим строку с аномальным значением года выпуска игры для платформы 'DS':\n",
    "display(top_platform_data.query('platform == \"DS\" and year_of_release == \"1985.0\"'))"
   ]
  },
  {
   "cell_type": "code",
   "execution_count": 20,
   "metadata": {},
   "outputs": [],
   "source": [
    "# В данных опечатка по выпуску года игры 'Strongest Tokyo University Shogi DS' - \n",
    "# согласно открытых источников данных, платформа Nintendo DS выпущена в 2004 году.\n",
    "# Удалим строчку с аномальным значением.\n",
    "top_platform_data.drop(index=[15955], inplace = True)"
   ]
  },
  {
   "cell_type": "code",
   "execution_count": 21,
   "metadata": {},
   "outputs": [
    {
     "data": {
      "text/html": [
       "<div>\n",
       "<style scoped>\n",
       "    .dataframe tbody tr th:only-of-type {\n",
       "        vertical-align: middle;\n",
       "    }\n",
       "\n",
       "    .dataframe tbody tr th {\n",
       "        vertical-align: top;\n",
       "    }\n",
       "\n",
       "    .dataframe thead th {\n",
       "        text-align: right;\n",
       "    }\n",
       "</style>\n",
       "<table border=\"1\" class=\"dataframe\">\n",
       "  <thead>\n",
       "    <tr style=\"text-align: right;\">\n",
       "      <th></th>\n",
       "      <th>platform</th>\n",
       "      <th>common_sales</th>\n",
       "      <th>year_first</th>\n",
       "      <th>year_last</th>\n",
       "      <th>platform_years</th>\n",
       "    </tr>\n",
       "  </thead>\n",
       "  <tbody>\n",
       "    <tr>\n",
       "      <td>0</td>\n",
       "      <td>DS</td>\n",
       "      <td>806.12</td>\n",
       "      <td>2004.0</td>\n",
       "      <td>2013.0</td>\n",
       "      <td>10.0</td>\n",
       "    </tr>\n",
       "    <tr>\n",
       "      <td>1</td>\n",
       "      <td>PS</td>\n",
       "      <td>730.86</td>\n",
       "      <td>1994.0</td>\n",
       "      <td>2003.0</td>\n",
       "      <td>10.0</td>\n",
       "    </tr>\n",
       "    <tr>\n",
       "      <td>2</td>\n",
       "      <td>PS2</td>\n",
       "      <td>1255.77</td>\n",
       "      <td>2000.0</td>\n",
       "      <td>2011.0</td>\n",
       "      <td>12.0</td>\n",
       "    </tr>\n",
       "    <tr>\n",
       "      <td>3</td>\n",
       "      <td>PS3</td>\n",
       "      <td>939.65</td>\n",
       "      <td>2006.0</td>\n",
       "      <td>2016.0</td>\n",
       "      <td>11.0</td>\n",
       "    </tr>\n",
       "    <tr>\n",
       "      <td>4</td>\n",
       "      <td>Wii</td>\n",
       "      <td>907.51</td>\n",
       "      <td>2006.0</td>\n",
       "      <td>2016.0</td>\n",
       "      <td>11.0</td>\n",
       "    </tr>\n",
       "    <tr>\n",
       "      <td>5</td>\n",
       "      <td>X360</td>\n",
       "      <td>971.42</td>\n",
       "      <td>2005.0</td>\n",
       "      <td>2016.0</td>\n",
       "      <td>12.0</td>\n",
       "    </tr>\n",
       "  </tbody>\n",
       "</table>\n",
       "</div>"
      ],
      "text/plain": [
       "  platform  common_sales  year_first  year_last  platform_years\n",
       "0       DS        806.12      2004.0     2013.0            10.0\n",
       "1       PS        730.86      1994.0     2003.0            10.0\n",
       "2      PS2       1255.77      2000.0     2011.0            12.0\n",
       "3      PS3        939.65      2006.0     2016.0            11.0\n",
       "4      Wii        907.51      2006.0     2016.0            11.0\n",
       "5     X360        971.42      2005.0     2016.0            12.0"
      ]
     },
     "metadata": {},
     "output_type": "display_data"
    },
    {
     "data": {
      "text/html": [
       "<div>\n",
       "<style scoped>\n",
       "    .dataframe tbody tr th:only-of-type {\n",
       "        vertical-align: middle;\n",
       "    }\n",
       "\n",
       "    .dataframe tbody tr th {\n",
       "        vertical-align: top;\n",
       "    }\n",
       "\n",
       "    .dataframe thead th {\n",
       "        text-align: right;\n",
       "    }\n",
       "</style>\n",
       "<table border=\"1\" class=\"dataframe\">\n",
       "  <thead>\n",
       "    <tr style=\"text-align: right;\">\n",
       "      <th></th>\n",
       "      <th>common_sales</th>\n",
       "      <th>year_first</th>\n",
       "      <th>year_last</th>\n",
       "      <th>platform_years</th>\n",
       "    </tr>\n",
       "  </thead>\n",
       "  <tbody>\n",
       "    <tr>\n",
       "      <td>count</td>\n",
       "      <td>6.000000</td>\n",
       "      <td>6.000000</td>\n",
       "      <td>6.000000</td>\n",
       "      <td>6.000000</td>\n",
       "    </tr>\n",
       "    <tr>\n",
       "      <td>mean</td>\n",
       "      <td>935.221667</td>\n",
       "      <td>2002.500000</td>\n",
       "      <td>2012.500000</td>\n",
       "      <td>11.000000</td>\n",
       "    </tr>\n",
       "    <tr>\n",
       "      <td>std</td>\n",
       "      <td>180.709729</td>\n",
       "      <td>4.722288</td>\n",
       "      <td>5.089204</td>\n",
       "      <td>0.894427</td>\n",
       "    </tr>\n",
       "    <tr>\n",
       "      <td>min</td>\n",
       "      <td>730.860000</td>\n",
       "      <td>1994.000000</td>\n",
       "      <td>2003.000000</td>\n",
       "      <td>10.000000</td>\n",
       "    </tr>\n",
       "    <tr>\n",
       "      <td>25%</td>\n",
       "      <td>831.467500</td>\n",
       "      <td>2001.000000</td>\n",
       "      <td>2011.500000</td>\n",
       "      <td>10.250000</td>\n",
       "    </tr>\n",
       "    <tr>\n",
       "      <td>50%</td>\n",
       "      <td>923.580000</td>\n",
       "      <td>2004.500000</td>\n",
       "      <td>2014.500000</td>\n",
       "      <td>11.000000</td>\n",
       "    </tr>\n",
       "    <tr>\n",
       "      <td>75%</td>\n",
       "      <td>963.477500</td>\n",
       "      <td>2005.750000</td>\n",
       "      <td>2016.000000</td>\n",
       "      <td>11.750000</td>\n",
       "    </tr>\n",
       "    <tr>\n",
       "      <td>max</td>\n",
       "      <td>1255.770000</td>\n",
       "      <td>2006.000000</td>\n",
       "      <td>2016.000000</td>\n",
       "      <td>12.000000</td>\n",
       "    </tr>\n",
       "  </tbody>\n",
       "</table>\n",
       "</div>"
      ],
      "text/plain": [
       "       common_sales   year_first    year_last  platform_years\n",
       "count      6.000000     6.000000     6.000000        6.000000\n",
       "mean     935.221667  2002.500000  2012.500000       11.000000\n",
       "std      180.709729     4.722288     5.089204        0.894427\n",
       "min      730.860000  1994.000000  2003.000000       10.000000\n",
       "25%      831.467500  2001.000000  2011.500000       10.250000\n",
       "50%      923.580000  2004.500000  2014.500000       11.000000\n",
       "75%      963.477500  2005.750000  2016.000000       11.750000\n",
       "max     1255.770000  2006.000000  2016.000000       12.000000"
      ]
     },
     "metadata": {},
     "output_type": "display_data"
    }
   ],
   "source": [
    "# Создадим таблицы с первым и последним годом выпуска игр для каждой платформы, добавим к таблице с суммарными продажами.\n",
    "# Добавим столбец с периодом выпуска игр для платформ.\n",
    "# Изучим полученные данные методом describe:\n",
    "\n",
    "top_platform_data_year_min = top_platform_data.groupby(by='platform').min()[['year_of_release']].reset_index()\n",
    "top_platform_data_year_min.columns = ['platform', 'year_first']\n",
    "top_platform_data_year_max = top_platform_data.groupby(by='platform').max()[['year_of_release']].reset_index()\n",
    "top_platform_data_year_max.columns = ['platform', 'year_last']\n",
    "\n",
    "top_platform_sales = top_platform_sales.merge(\n",
    "    top_platform_data_year_min).merge(\n",
    "    top_platform_data_year_max)\n",
    "\n",
    "top_platform_sales['platform_years'] = top_platform_sales['year_last'] - top_platform_sales['year_first'] +1\n",
    "\n",
    "display(top_platform_sales)\n",
    "display(top_platform_sales.describe())"
   ]
  },
  {
   "cell_type": "markdown",
   "metadata": {},
   "source": [
    "**По диаграммам продаж игр по годам можно сделать вывод:**\n",
    "- Платформы в среднем \"живут\" 10-12 лет - за этот период выходят игры для платформ (1 и 3 квартили периода жизни приставок).\n",
    "- Максимальные продажи приходятся на игры, выпущенные в середине жизненного цикла платформы - на 5-6 год.\n",
    "- Далее на примере PS2/PS3 видно, что с выходом новой платформы продажи игр старой платформы начинают падать, а продажи новой постепенно расти."
   ]
  },
  {
   "cell_type": "markdown",
   "metadata": {},
   "source": [
    "### Выбор актуального периода"
   ]
  },
  {
   "cell_type": "markdown",
   "metadata": {},
   "source": [
    "На основании выводов пунктов 3.1 и 3.2 выбираем актуальный период с 2012 года: \n",
    "- суммарные продажи игр с этого периода примерно одинаковы;\n",
    "- с 2012 по 2016 годы мы получим в исследовании актуальный период жизненного цикла платформ до начала падения продаж - 5-6 лет."
   ]
  },
  {
   "cell_type": "code",
   "execution_count": 22,
   "metadata": {},
   "outputs": [
    {
     "name": "stdout",
     "output_type": "stream",
     "text": [
      "<class 'pandas.core.frame.DataFrame'>\n",
      "RangeIndex: 2886 entries, 0 to 2885\n",
      "Data columns (total 12 columns):\n",
      "name               2886 non-null object\n",
      "platform           2886 non-null object\n",
      "year_of_release    2886 non-null float64\n",
      "genre              2886 non-null object\n",
      "na_sales           2886 non-null float64\n",
      "eu_sales           2886 non-null float64\n",
      "jp_sales           2886 non-null float64\n",
      "other_sales        2886 non-null float64\n",
      "common_sales       2886 non-null float64\n",
      "critic_score       1312 non-null float64\n",
      "user_score         1531 non-null float64\n",
      "rating             2886 non-null object\n",
      "dtypes: float64(8), object(4)\n",
      "memory usage: 270.7+ KB\n"
     ]
    },
    {
     "data": {
      "text/html": [
       "<div>\n",
       "<style scoped>\n",
       "    .dataframe tbody tr th:only-of-type {\n",
       "        vertical-align: middle;\n",
       "    }\n",
       "\n",
       "    .dataframe tbody tr th {\n",
       "        vertical-align: top;\n",
       "    }\n",
       "\n",
       "    .dataframe thead th {\n",
       "        text-align: right;\n",
       "    }\n",
       "</style>\n",
       "<table border=\"1\" class=\"dataframe\">\n",
       "  <thead>\n",
       "    <tr style=\"text-align: right;\">\n",
       "      <th></th>\n",
       "      <th>name</th>\n",
       "      <th>platform</th>\n",
       "      <th>year_of_release</th>\n",
       "      <th>genre</th>\n",
       "      <th>na_sales</th>\n",
       "      <th>eu_sales</th>\n",
       "      <th>jp_sales</th>\n",
       "      <th>other_sales</th>\n",
       "      <th>common_sales</th>\n",
       "      <th>critic_score</th>\n",
       "      <th>user_score</th>\n",
       "      <th>rating</th>\n",
       "    </tr>\n",
       "  </thead>\n",
       "  <tbody>\n",
       "    <tr>\n",
       "      <td>0</td>\n",
       "      <td>Grand Theft Auto V</td>\n",
       "      <td>PS3</td>\n",
       "      <td>2013.0</td>\n",
       "      <td>Action</td>\n",
       "      <td>7.02</td>\n",
       "      <td>9.09</td>\n",
       "      <td>0.98</td>\n",
       "      <td>3.96</td>\n",
       "      <td>21.05</td>\n",
       "      <td>97.0</td>\n",
       "      <td>8.2</td>\n",
       "      <td>M</td>\n",
       "    </tr>\n",
       "    <tr>\n",
       "      <td>1</td>\n",
       "      <td>Grand Theft Auto V</td>\n",
       "      <td>X360</td>\n",
       "      <td>2013.0</td>\n",
       "      <td>Action</td>\n",
       "      <td>9.66</td>\n",
       "      <td>5.14</td>\n",
       "      <td>0.06</td>\n",
       "      <td>1.41</td>\n",
       "      <td>16.27</td>\n",
       "      <td>97.0</td>\n",
       "      <td>8.1</td>\n",
       "      <td>M</td>\n",
       "    </tr>\n",
       "    <tr>\n",
       "      <td>2</td>\n",
       "      <td>Call of Duty: Black Ops 3</td>\n",
       "      <td>PS4</td>\n",
       "      <td>2015.0</td>\n",
       "      <td>Shooter</td>\n",
       "      <td>6.03</td>\n",
       "      <td>5.86</td>\n",
       "      <td>0.36</td>\n",
       "      <td>2.38</td>\n",
       "      <td>14.63</td>\n",
       "      <td>NaN</td>\n",
       "      <td>NaN</td>\n",
       "      <td>unknown</td>\n",
       "    </tr>\n",
       "    <tr>\n",
       "      <td>3</td>\n",
       "      <td>Pokemon X/Pokemon Y</td>\n",
       "      <td>3DS</td>\n",
       "      <td>2013.0</td>\n",
       "      <td>Role-Playing</td>\n",
       "      <td>5.28</td>\n",
       "      <td>4.19</td>\n",
       "      <td>4.35</td>\n",
       "      <td>0.78</td>\n",
       "      <td>14.60</td>\n",
       "      <td>NaN</td>\n",
       "      <td>NaN</td>\n",
       "      <td>unknown</td>\n",
       "    </tr>\n",
       "    <tr>\n",
       "      <td>4</td>\n",
       "      <td>Call of Duty: Black Ops II</td>\n",
       "      <td>PS3</td>\n",
       "      <td>2012.0</td>\n",
       "      <td>Shooter</td>\n",
       "      <td>4.99</td>\n",
       "      <td>5.73</td>\n",
       "      <td>0.65</td>\n",
       "      <td>2.42</td>\n",
       "      <td>13.79</td>\n",
       "      <td>83.0</td>\n",
       "      <td>5.3</td>\n",
       "      <td>M</td>\n",
       "    </tr>\n",
       "  </tbody>\n",
       "</table>\n",
       "</div>"
      ],
      "text/plain": [
       "                         name platform  year_of_release         genre  \\\n",
       "0          Grand Theft Auto V      PS3           2013.0        Action   \n",
       "1          Grand Theft Auto V     X360           2013.0        Action   \n",
       "2   Call of Duty: Black Ops 3      PS4           2015.0       Shooter   \n",
       "3         Pokemon X/Pokemon Y      3DS           2013.0  Role-Playing   \n",
       "4  Call of Duty: Black Ops II      PS3           2012.0       Shooter   \n",
       "\n",
       "   na_sales  eu_sales  jp_sales  other_sales  common_sales  critic_score  \\\n",
       "0      7.02      9.09      0.98         3.96         21.05          97.0   \n",
       "1      9.66      5.14      0.06         1.41         16.27          97.0   \n",
       "2      6.03      5.86      0.36         2.38         14.63           NaN   \n",
       "3      5.28      4.19      4.35         0.78         14.60           NaN   \n",
       "4      4.99      5.73      0.65         2.42         13.79          83.0   \n",
       "\n",
       "   user_score   rating  \n",
       "0         8.2        M  \n",
       "1         8.1        M  \n",
       "2         NaN  unknown  \n",
       "3         NaN  unknown  \n",
       "4         5.3        M  "
      ]
     },
     "metadata": {},
     "output_type": "display_data"
    },
    {
     "data": {
      "text/html": [
       "<div>\n",
       "<style scoped>\n",
       "    .dataframe tbody tr th:only-of-type {\n",
       "        vertical-align: middle;\n",
       "    }\n",
       "\n",
       "    .dataframe tbody tr th {\n",
       "        vertical-align: top;\n",
       "    }\n",
       "\n",
       "    .dataframe thead th {\n",
       "        text-align: right;\n",
       "    }\n",
       "</style>\n",
       "<table border=\"1\" class=\"dataframe\">\n",
       "  <thead>\n",
       "    <tr style=\"text-align: right;\">\n",
       "      <th></th>\n",
       "      <th>year_of_release</th>\n",
       "      <th>na_sales</th>\n",
       "      <th>eu_sales</th>\n",
       "      <th>jp_sales</th>\n",
       "      <th>other_sales</th>\n",
       "      <th>common_sales</th>\n",
       "      <th>critic_score</th>\n",
       "      <th>user_score</th>\n",
       "    </tr>\n",
       "  </thead>\n",
       "  <tbody>\n",
       "    <tr>\n",
       "      <td>count</td>\n",
       "      <td>2886.000000</td>\n",
       "      <td>2886.000000</td>\n",
       "      <td>2886.000000</td>\n",
       "      <td>2886.000000</td>\n",
       "      <td>2886.000000</td>\n",
       "      <td>2886.000000</td>\n",
       "      <td>1312.000000</td>\n",
       "      <td>1531.000000</td>\n",
       "    </tr>\n",
       "    <tr>\n",
       "      <td>mean</td>\n",
       "      <td>2013.916840</td>\n",
       "      <td>0.204771</td>\n",
       "      <td>0.175613</td>\n",
       "      <td>0.066729</td>\n",
       "      <td>0.054109</td>\n",
       "      <td>0.501223</td>\n",
       "      <td>72.258384</td>\n",
       "      <td>6.636120</td>\n",
       "    </tr>\n",
       "    <tr>\n",
       "      <td>std</td>\n",
       "      <td>1.411766</td>\n",
       "      <td>0.566696</td>\n",
       "      <td>0.505346</td>\n",
       "      <td>0.241575</td>\n",
       "      <td>0.164639</td>\n",
       "      <td>1.249157</td>\n",
       "      <td>12.687087</td>\n",
       "      <td>1.569033</td>\n",
       "    </tr>\n",
       "    <tr>\n",
       "      <td>min</td>\n",
       "      <td>2012.000000</td>\n",
       "      <td>0.000000</td>\n",
       "      <td>0.000000</td>\n",
       "      <td>0.000000</td>\n",
       "      <td>0.000000</td>\n",
       "      <td>0.010000</td>\n",
       "      <td>13.000000</td>\n",
       "      <td>0.200000</td>\n",
       "    </tr>\n",
       "    <tr>\n",
       "      <td>25%</td>\n",
       "      <td>2013.000000</td>\n",
       "      <td>0.000000</td>\n",
       "      <td>0.000000</td>\n",
       "      <td>0.000000</td>\n",
       "      <td>0.000000</td>\n",
       "      <td>0.040000</td>\n",
       "      <td>66.000000</td>\n",
       "      <td>5.800000</td>\n",
       "    </tr>\n",
       "    <tr>\n",
       "      <td>50%</td>\n",
       "      <td>2014.000000</td>\n",
       "      <td>0.030000</td>\n",
       "      <td>0.030000</td>\n",
       "      <td>0.010000</td>\n",
       "      <td>0.010000</td>\n",
       "      <td>0.120000</td>\n",
       "      <td>74.000000</td>\n",
       "      <td>7.000000</td>\n",
       "    </tr>\n",
       "    <tr>\n",
       "      <td>75%</td>\n",
       "      <td>2015.000000</td>\n",
       "      <td>0.170000</td>\n",
       "      <td>0.140000</td>\n",
       "      <td>0.050000</td>\n",
       "      <td>0.040000</td>\n",
       "      <td>0.430000</td>\n",
       "      <td>81.000000</td>\n",
       "      <td>7.800000</td>\n",
       "    </tr>\n",
       "    <tr>\n",
       "      <td>max</td>\n",
       "      <td>2016.000000</td>\n",
       "      <td>9.660000</td>\n",
       "      <td>9.090000</td>\n",
       "      <td>4.390000</td>\n",
       "      <td>3.960000</td>\n",
       "      <td>21.050000</td>\n",
       "      <td>97.000000</td>\n",
       "      <td>9.300000</td>\n",
       "    </tr>\n",
       "  </tbody>\n",
       "</table>\n",
       "</div>"
      ],
      "text/plain": [
       "       year_of_release     na_sales     eu_sales     jp_sales  other_sales  \\\n",
       "count      2886.000000  2886.000000  2886.000000  2886.000000  2886.000000   \n",
       "mean       2013.916840     0.204771     0.175613     0.066729     0.054109   \n",
       "std           1.411766     0.566696     0.505346     0.241575     0.164639   \n",
       "min        2012.000000     0.000000     0.000000     0.000000     0.000000   \n",
       "25%        2013.000000     0.000000     0.000000     0.000000     0.000000   \n",
       "50%        2014.000000     0.030000     0.030000     0.010000     0.010000   \n",
       "75%        2015.000000     0.170000     0.140000     0.050000     0.040000   \n",
       "max        2016.000000     9.660000     9.090000     4.390000     3.960000   \n",
       "\n",
       "       common_sales  critic_score   user_score  \n",
       "count   2886.000000   1312.000000  1531.000000  \n",
       "mean       0.501223     72.258384     6.636120  \n",
       "std        1.249157     12.687087     1.569033  \n",
       "min        0.010000     13.000000     0.200000  \n",
       "25%        0.040000     66.000000     5.800000  \n",
       "50%        0.120000     74.000000     7.000000  \n",
       "75%        0.430000     81.000000     7.800000  \n",
       "max       21.050000     97.000000     9.300000  "
      ]
     },
     "metadata": {},
     "output_type": "display_data"
    }
   ],
   "source": [
    "# Создадим итоговую таблицу с периодом выпуска игр от 2012 года:\n",
    "final_data = data.query('year_of_release > 2011').reset_index(drop=True)\n",
    "final_data.info()\n",
    "display(final_data.head())\n",
    "display(final_data.describe())"
   ]
  },
  {
   "cell_type": "markdown",
   "metadata": {},
   "source": [
    "### Лидирующие платформы"
   ]
  },
  {
   "cell_type": "code",
   "execution_count": 23,
   "metadata": {
    "scrolled": false
   },
   "outputs": [
    {
     "data": {
      "text/html": [
       "<div>\n",
       "<style scoped>\n",
       "    .dataframe tbody tr th:only-of-type {\n",
       "        vertical-align: middle;\n",
       "    }\n",
       "\n",
       "    .dataframe tbody tr th {\n",
       "        vertical-align: top;\n",
       "    }\n",
       "\n",
       "    .dataframe thead th {\n",
       "        text-align: right;\n",
       "    }\n",
       "</style>\n",
       "<table border=\"1\" class=\"dataframe\">\n",
       "  <thead>\n",
       "    <tr style=\"text-align: right;\">\n",
       "      <th></th>\n",
       "      <th>year_of_release</th>\n",
       "      <th>platform</th>\n",
       "      <th>common_sales</th>\n",
       "    </tr>\n",
       "  </thead>\n",
       "  <tbody>\n",
       "    <tr>\n",
       "      <td>0</td>\n",
       "      <td>2012.0</td>\n",
       "      <td>3DS</td>\n",
       "      <td>51.36</td>\n",
       "    </tr>\n",
       "    <tr>\n",
       "      <td>1</td>\n",
       "      <td>2012.0</td>\n",
       "      <td>DS</td>\n",
       "      <td>11.01</td>\n",
       "    </tr>\n",
       "    <tr>\n",
       "      <td>2</td>\n",
       "      <td>2012.0</td>\n",
       "      <td>PC</td>\n",
       "      <td>23.22</td>\n",
       "    </tr>\n",
       "    <tr>\n",
       "      <td>3</td>\n",
       "      <td>2012.0</td>\n",
       "      <td>PS3</td>\n",
       "      <td>107.36</td>\n",
       "    </tr>\n",
       "    <tr>\n",
       "      <td>4</td>\n",
       "      <td>2012.0</td>\n",
       "      <td>PSP</td>\n",
       "      <td>7.69</td>\n",
       "    </tr>\n",
       "    <tr>\n",
       "      <td>5</td>\n",
       "      <td>2012.0</td>\n",
       "      <td>PSV</td>\n",
       "      <td>16.19</td>\n",
       "    </tr>\n",
       "    <tr>\n",
       "      <td>6</td>\n",
       "      <td>2012.0</td>\n",
       "      <td>Wii</td>\n",
       "      <td>21.71</td>\n",
       "    </tr>\n",
       "    <tr>\n",
       "      <td>7</td>\n",
       "      <td>2012.0</td>\n",
       "      <td>WiiU</td>\n",
       "      <td>17.56</td>\n",
       "    </tr>\n",
       "    <tr>\n",
       "      <td>8</td>\n",
       "      <td>2012.0</td>\n",
       "      <td>X360</td>\n",
       "      <td>99.74</td>\n",
       "    </tr>\n",
       "    <tr>\n",
       "      <td>9</td>\n",
       "      <td>2013.0</td>\n",
       "      <td>3DS</td>\n",
       "      <td>56.57</td>\n",
       "    </tr>\n",
       "    <tr>\n",
       "      <td>10</td>\n",
       "      <td>2013.0</td>\n",
       "      <td>DS</td>\n",
       "      <td>1.54</td>\n",
       "    </tr>\n",
       "    <tr>\n",
       "      <td>11</td>\n",
       "      <td>2013.0</td>\n",
       "      <td>PC</td>\n",
       "      <td>12.38</td>\n",
       "    </tr>\n",
       "    <tr>\n",
       "      <td>12</td>\n",
       "      <td>2013.0</td>\n",
       "      <td>PS3</td>\n",
       "      <td>113.25</td>\n",
       "    </tr>\n",
       "    <tr>\n",
       "      <td>13</td>\n",
       "      <td>2013.0</td>\n",
       "      <td>PS4</td>\n",
       "      <td>25.99</td>\n",
       "    </tr>\n",
       "    <tr>\n",
       "      <td>14</td>\n",
       "      <td>2013.0</td>\n",
       "      <td>PSP</td>\n",
       "      <td>3.14</td>\n",
       "    </tr>\n",
       "    <tr>\n",
       "      <td>15</td>\n",
       "      <td>2013.0</td>\n",
       "      <td>PSV</td>\n",
       "      <td>10.59</td>\n",
       "    </tr>\n",
       "    <tr>\n",
       "      <td>16</td>\n",
       "      <td>2013.0</td>\n",
       "      <td>Wii</td>\n",
       "      <td>8.59</td>\n",
       "    </tr>\n",
       "    <tr>\n",
       "      <td>17</td>\n",
       "      <td>2013.0</td>\n",
       "      <td>WiiU</td>\n",
       "      <td>21.65</td>\n",
       "    </tr>\n",
       "    <tr>\n",
       "      <td>18</td>\n",
       "      <td>2013.0</td>\n",
       "      <td>X360</td>\n",
       "      <td>88.58</td>\n",
       "    </tr>\n",
       "    <tr>\n",
       "      <td>19</td>\n",
       "      <td>2013.0</td>\n",
       "      <td>XOne</td>\n",
       "      <td>18.96</td>\n",
       "    </tr>\n",
       "    <tr>\n",
       "      <td>20</td>\n",
       "      <td>2014.0</td>\n",
       "      <td>3DS</td>\n",
       "      <td>43.76</td>\n",
       "    </tr>\n",
       "    <tr>\n",
       "      <td>21</td>\n",
       "      <td>2014.0</td>\n",
       "      <td>PC</td>\n",
       "      <td>13.28</td>\n",
       "    </tr>\n",
       "    <tr>\n",
       "      <td>22</td>\n",
       "      <td>2014.0</td>\n",
       "      <td>PS3</td>\n",
       "      <td>47.76</td>\n",
       "    </tr>\n",
       "    <tr>\n",
       "      <td>23</td>\n",
       "      <td>2014.0</td>\n",
       "      <td>PS4</td>\n",
       "      <td>100.00</td>\n",
       "    </tr>\n",
       "    <tr>\n",
       "      <td>24</td>\n",
       "      <td>2014.0</td>\n",
       "      <td>PSP</td>\n",
       "      <td>0.24</td>\n",
       "    </tr>\n",
       "    <tr>\n",
       "      <td>25</td>\n",
       "      <td>2014.0</td>\n",
       "      <td>PSV</td>\n",
       "      <td>11.90</td>\n",
       "    </tr>\n",
       "    <tr>\n",
       "      <td>26</td>\n",
       "      <td>2014.0</td>\n",
       "      <td>Wii</td>\n",
       "      <td>3.75</td>\n",
       "    </tr>\n",
       "    <tr>\n",
       "      <td>27</td>\n",
       "      <td>2014.0</td>\n",
       "      <td>WiiU</td>\n",
       "      <td>22.03</td>\n",
       "    </tr>\n",
       "    <tr>\n",
       "      <td>28</td>\n",
       "      <td>2014.0</td>\n",
       "      <td>X360</td>\n",
       "      <td>34.74</td>\n",
       "    </tr>\n",
       "    <tr>\n",
       "      <td>29</td>\n",
       "      <td>2014.0</td>\n",
       "      <td>XOne</td>\n",
       "      <td>54.07</td>\n",
       "    </tr>\n",
       "    <tr>\n",
       "      <td>30</td>\n",
       "      <td>2015.0</td>\n",
       "      <td>3DS</td>\n",
       "      <td>27.78</td>\n",
       "    </tr>\n",
       "    <tr>\n",
       "      <td>31</td>\n",
       "      <td>2015.0</td>\n",
       "      <td>PC</td>\n",
       "      <td>8.52</td>\n",
       "    </tr>\n",
       "    <tr>\n",
       "      <td>32</td>\n",
       "      <td>2015.0</td>\n",
       "      <td>PS3</td>\n",
       "      <td>16.82</td>\n",
       "    </tr>\n",
       "    <tr>\n",
       "      <td>33</td>\n",
       "      <td>2015.0</td>\n",
       "      <td>PS4</td>\n",
       "      <td>118.90</td>\n",
       "    </tr>\n",
       "    <tr>\n",
       "      <td>34</td>\n",
       "      <td>2015.0</td>\n",
       "      <td>PSP</td>\n",
       "      <td>0.12</td>\n",
       "    </tr>\n",
       "    <tr>\n",
       "      <td>35</td>\n",
       "      <td>2015.0</td>\n",
       "      <td>PSV</td>\n",
       "      <td>6.25</td>\n",
       "    </tr>\n",
       "    <tr>\n",
       "      <td>36</td>\n",
       "      <td>2015.0</td>\n",
       "      <td>Wii</td>\n",
       "      <td>1.14</td>\n",
       "    </tr>\n",
       "    <tr>\n",
       "      <td>37</td>\n",
       "      <td>2015.0</td>\n",
       "      <td>WiiU</td>\n",
       "      <td>16.35</td>\n",
       "    </tr>\n",
       "    <tr>\n",
       "      <td>38</td>\n",
       "      <td>2015.0</td>\n",
       "      <td>X360</td>\n",
       "      <td>11.96</td>\n",
       "    </tr>\n",
       "    <tr>\n",
       "      <td>39</td>\n",
       "      <td>2015.0</td>\n",
       "      <td>XOne</td>\n",
       "      <td>60.14</td>\n",
       "    </tr>\n",
       "    <tr>\n",
       "      <td>40</td>\n",
       "      <td>2016.0</td>\n",
       "      <td>3DS</td>\n",
       "      <td>15.14</td>\n",
       "    </tr>\n",
       "    <tr>\n",
       "      <td>41</td>\n",
       "      <td>2016.0</td>\n",
       "      <td>PC</td>\n",
       "      <td>5.25</td>\n",
       "    </tr>\n",
       "    <tr>\n",
       "      <td>42</td>\n",
       "      <td>2016.0</td>\n",
       "      <td>PS3</td>\n",
       "      <td>3.60</td>\n",
       "    </tr>\n",
       "    <tr>\n",
       "      <td>43</td>\n",
       "      <td>2016.0</td>\n",
       "      <td>PS4</td>\n",
       "      <td>69.25</td>\n",
       "    </tr>\n",
       "    <tr>\n",
       "      <td>44</td>\n",
       "      <td>2016.0</td>\n",
       "      <td>PSV</td>\n",
       "      <td>4.25</td>\n",
       "    </tr>\n",
       "    <tr>\n",
       "      <td>45</td>\n",
       "      <td>2016.0</td>\n",
       "      <td>Wii</td>\n",
       "      <td>0.18</td>\n",
       "    </tr>\n",
       "    <tr>\n",
       "      <td>46</td>\n",
       "      <td>2016.0</td>\n",
       "      <td>WiiU</td>\n",
       "      <td>4.60</td>\n",
       "    </tr>\n",
       "    <tr>\n",
       "      <td>47</td>\n",
       "      <td>2016.0</td>\n",
       "      <td>X360</td>\n",
       "      <td>1.52</td>\n",
       "    </tr>\n",
       "    <tr>\n",
       "      <td>48</td>\n",
       "      <td>2016.0</td>\n",
       "      <td>XOne</td>\n",
       "      <td>26.15</td>\n",
       "    </tr>\n",
       "  </tbody>\n",
       "</table>\n",
       "</div>"
      ],
      "text/plain": [
       "    year_of_release platform  common_sales\n",
       "0            2012.0      3DS         51.36\n",
       "1            2012.0       DS         11.01\n",
       "2            2012.0       PC         23.22\n",
       "3            2012.0      PS3        107.36\n",
       "4            2012.0      PSP          7.69\n",
       "5            2012.0      PSV         16.19\n",
       "6            2012.0      Wii         21.71\n",
       "7            2012.0     WiiU         17.56\n",
       "8            2012.0     X360         99.74\n",
       "9            2013.0      3DS         56.57\n",
       "10           2013.0       DS          1.54\n",
       "11           2013.0       PC         12.38\n",
       "12           2013.0      PS3        113.25\n",
       "13           2013.0      PS4         25.99\n",
       "14           2013.0      PSP          3.14\n",
       "15           2013.0      PSV         10.59\n",
       "16           2013.0      Wii          8.59\n",
       "17           2013.0     WiiU         21.65\n",
       "18           2013.0     X360         88.58\n",
       "19           2013.0     XOne         18.96\n",
       "20           2014.0      3DS         43.76\n",
       "21           2014.0       PC         13.28\n",
       "22           2014.0      PS3         47.76\n",
       "23           2014.0      PS4        100.00\n",
       "24           2014.0      PSP          0.24\n",
       "25           2014.0      PSV         11.90\n",
       "26           2014.0      Wii          3.75\n",
       "27           2014.0     WiiU         22.03\n",
       "28           2014.0     X360         34.74\n",
       "29           2014.0     XOne         54.07\n",
       "30           2015.0      3DS         27.78\n",
       "31           2015.0       PC          8.52\n",
       "32           2015.0      PS3         16.82\n",
       "33           2015.0      PS4        118.90\n",
       "34           2015.0      PSP          0.12\n",
       "35           2015.0      PSV          6.25\n",
       "36           2015.0      Wii          1.14\n",
       "37           2015.0     WiiU         16.35\n",
       "38           2015.0     X360         11.96\n",
       "39           2015.0     XOne         60.14\n",
       "40           2016.0      3DS         15.14\n",
       "41           2016.0       PC          5.25\n",
       "42           2016.0      PS3          3.60\n",
       "43           2016.0      PS4         69.25\n",
       "44           2016.0      PSV          4.25\n",
       "45           2016.0      Wii          0.18\n",
       "46           2016.0     WiiU          4.60\n",
       "47           2016.0     X360          1.52\n",
       "48           2016.0     XOne         26.15"
      ]
     },
     "metadata": {},
     "output_type": "display_data"
    }
   ],
   "source": [
    "# Сгруппируем итоговую таблицу по годам и платформам в разрезе суммарных продаж:\n",
    "final_data_grouped = final_data.groupby(by=['year_of_release', 'platform'], as_index=False)['common_sales'].sum()\n",
    "display(final_data_grouped)"
   ]
  },
  {
   "cell_type": "code",
   "execution_count": 24,
   "metadata": {
    "scrolled": false
   },
   "outputs": [
    {
     "data": {
      "text/html": [
       "<div>\n",
       "<style scoped>\n",
       "    .dataframe tbody tr th:only-of-type {\n",
       "        vertical-align: middle;\n",
       "    }\n",
       "\n",
       "    .dataframe tbody tr th {\n",
       "        vertical-align: top;\n",
       "    }\n",
       "\n",
       "    .dataframe thead th {\n",
       "        text-align: right;\n",
       "    }\n",
       "</style>\n",
       "<table border=\"1\" class=\"dataframe\">\n",
       "  <thead>\n",
       "    <tr style=\"text-align: right;\">\n",
       "      <th>platform</th>\n",
       "      <th>3DS</th>\n",
       "      <th>DS</th>\n",
       "      <th>PC</th>\n",
       "      <th>PS3</th>\n",
       "      <th>PS4</th>\n",
       "      <th>PSP</th>\n",
       "      <th>PSV</th>\n",
       "      <th>Wii</th>\n",
       "      <th>WiiU</th>\n",
       "      <th>X360</th>\n",
       "      <th>XOne</th>\n",
       "    </tr>\n",
       "    <tr>\n",
       "      <th>year_of_release</th>\n",
       "      <th></th>\n",
       "      <th></th>\n",
       "      <th></th>\n",
       "      <th></th>\n",
       "      <th></th>\n",
       "      <th></th>\n",
       "      <th></th>\n",
       "      <th></th>\n",
       "      <th></th>\n",
       "      <th></th>\n",
       "      <th></th>\n",
       "    </tr>\n",
       "  </thead>\n",
       "  <tbody>\n",
       "    <tr>\n",
       "      <td>2012.0</td>\n",
       "      <td>51.36</td>\n",
       "      <td>11.01</td>\n",
       "      <td>23.22</td>\n",
       "      <td>107.36</td>\n",
       "      <td>NaN</td>\n",
       "      <td>7.69</td>\n",
       "      <td>16.19</td>\n",
       "      <td>21.71</td>\n",
       "      <td>17.56</td>\n",
       "      <td>99.74</td>\n",
       "      <td>NaN</td>\n",
       "    </tr>\n",
       "    <tr>\n",
       "      <td>2013.0</td>\n",
       "      <td>56.57</td>\n",
       "      <td>1.54</td>\n",
       "      <td>12.38</td>\n",
       "      <td>113.25</td>\n",
       "      <td>25.99</td>\n",
       "      <td>3.14</td>\n",
       "      <td>10.59</td>\n",
       "      <td>8.59</td>\n",
       "      <td>21.65</td>\n",
       "      <td>88.58</td>\n",
       "      <td>18.96</td>\n",
       "    </tr>\n",
       "    <tr>\n",
       "      <td>2014.0</td>\n",
       "      <td>43.76</td>\n",
       "      <td>NaN</td>\n",
       "      <td>13.28</td>\n",
       "      <td>47.76</td>\n",
       "      <td>100.00</td>\n",
       "      <td>0.24</td>\n",
       "      <td>11.90</td>\n",
       "      <td>3.75</td>\n",
       "      <td>22.03</td>\n",
       "      <td>34.74</td>\n",
       "      <td>54.07</td>\n",
       "    </tr>\n",
       "    <tr>\n",
       "      <td>2015.0</td>\n",
       "      <td>27.78</td>\n",
       "      <td>NaN</td>\n",
       "      <td>8.52</td>\n",
       "      <td>16.82</td>\n",
       "      <td>118.90</td>\n",
       "      <td>0.12</td>\n",
       "      <td>6.25</td>\n",
       "      <td>1.14</td>\n",
       "      <td>16.35</td>\n",
       "      <td>11.96</td>\n",
       "      <td>60.14</td>\n",
       "    </tr>\n",
       "    <tr>\n",
       "      <td>2016.0</td>\n",
       "      <td>15.14</td>\n",
       "      <td>NaN</td>\n",
       "      <td>5.25</td>\n",
       "      <td>3.60</td>\n",
       "      <td>69.25</td>\n",
       "      <td>NaN</td>\n",
       "      <td>4.25</td>\n",
       "      <td>0.18</td>\n",
       "      <td>4.60</td>\n",
       "      <td>1.52</td>\n",
       "      <td>26.15</td>\n",
       "    </tr>\n",
       "  </tbody>\n",
       "</table>\n",
       "</div>"
      ],
      "text/plain": [
       "platform           3DS     DS     PC     PS3     PS4   PSP    PSV    Wii  \\\n",
       "year_of_release                                                            \n",
       "2012.0           51.36  11.01  23.22  107.36     NaN  7.69  16.19  21.71   \n",
       "2013.0           56.57   1.54  12.38  113.25   25.99  3.14  10.59   8.59   \n",
       "2014.0           43.76    NaN  13.28   47.76  100.00  0.24  11.90   3.75   \n",
       "2015.0           27.78    NaN   8.52   16.82  118.90  0.12   6.25   1.14   \n",
       "2016.0           15.14    NaN   5.25    3.60   69.25   NaN   4.25   0.18   \n",
       "\n",
       "platform          WiiU   X360   XOne  \n",
       "year_of_release                       \n",
       "2012.0           17.56  99.74    NaN  \n",
       "2013.0           21.65  88.58  18.96  \n",
       "2014.0           22.03  34.74  54.07  \n",
       "2015.0           16.35  11.96  60.14  \n",
       "2016.0            4.60   1.52  26.15  "
      ]
     },
     "metadata": {},
     "output_type": "display_data"
    },
    {
     "data": {
      "image/png": "[encoded data removed]",
      "text/plain": [
       "<Figure size 1800x720 with 1 Axes>"
      ]
     },
     "metadata": {
      "needs_background": "light"
     },
     "output_type": "display_data"
    }
   ],
   "source": [
    "# Сформируем сводную таблицу для построения диаграммы распределения продаж по годам и платформам:\n",
    "final_data_pivot = final_data.pivot_table(\n",
    "index='year_of_release', values='common_sales', columns='platform', aggfunc=np.sum\n",
    ")\n",
    "display(final_data_pivot)\n",
    "final_data_pivot.plot(y=final_data_pivot.columns, kind='bar', figsize=(25, 10));"
   ]
  },
  {
   "cell_type": "markdown",
   "metadata": {},
   "source": [
    "- В начале исследуемого периода в 2012 году по продажам с большим отрывом лидируют игры для PS3 и Xbox360, на третьем месте 3DS.\n",
    "- В 2013 году продажи игр для этих платформ также высоки, но появляются новые платформы PS4 и Xbox One и продажи игр для них начинают расти.\n",
    "- В 2014 и 2015 годах продажи игр выпущенных для \"старых\" платформ PS3, Xbox360 падают. В лидерах, начиная с второго года присутствия, игры для платформ PS4 и Xbox One (с большим отрывом).\n",
    "- За 2016 год данные неполные, но по и по ним можно проследить тенденцию доминирования продаж игр для PS4 и Xbox One, продажи игр для других платформ (за исключением игр для 3DS) по отношению к PS4 и Xbox One малы.\n",
    "- Продажи игр для платформы Nintendo DS c 2012 года падают, но не в таком количестве как для остальных платформ, что, видимо, обусловлено другой концепцией платформы (портативная консоль).\n",
    "- **На основании анализа диаграммы можно выбрать две потенциально прибыльные платформы: PS4 и Xbox One. В 2017 году данные платформы будут на 5 году жизненного цикла платформы, то есть на пике продаж игр для платформы (на основании графиков продаж игр для самых популярных платформ).**"
   ]
  },
  {
   "cell_type": "markdown",
   "metadata": {},
   "source": [
    "### Глобальные продажи игр в разбивке по платформам"
   ]
  },
  {
   "cell_type": "code",
   "execution_count": 25,
   "metadata": {
    "scrolled": false
   },
   "outputs": [
    {
     "data": {
      "image/png": "[encoded data removed]",
      "text/plain": [
       "<Figure size 432x288 with 1 Axes>"
      ]
     },
     "metadata": {
      "needs_background": "light"
     },
     "output_type": "display_data"
    }
   ],
   "source": [
    "# Построим график «ящик с усами» по глобальным продажам игр в разбивке по платформам:\n",
    "final_data.boxplot(column=['common_sales'], by = ['platform']);"
   ]
  },
  {
   "cell_type": "code",
   "execution_count": 26,
   "metadata": {},
   "outputs": [
    {
     "data": {
      "text/html": [
       "<div>\n",
       "<style scoped>\n",
       "    .dataframe tbody tr th:only-of-type {\n",
       "        vertical-align: middle;\n",
       "    }\n",
       "\n",
       "    .dataframe tbody tr th {\n",
       "        vertical-align: top;\n",
       "    }\n",
       "\n",
       "    .dataframe thead th {\n",
       "        text-align: right;\n",
       "    }\n",
       "</style>\n",
       "<table border=\"1\" class=\"dataframe\">\n",
       "  <thead>\n",
       "    <tr style=\"text-align: right;\">\n",
       "      <th></th>\n",
       "      <th>name</th>\n",
       "      <th>platform</th>\n",
       "      <th>year_of_release</th>\n",
       "      <th>genre</th>\n",
       "      <th>na_sales</th>\n",
       "      <th>eu_sales</th>\n",
       "      <th>jp_sales</th>\n",
       "      <th>other_sales</th>\n",
       "      <th>common_sales</th>\n",
       "      <th>critic_score</th>\n",
       "      <th>user_score</th>\n",
       "      <th>rating</th>\n",
       "    </tr>\n",
       "  </thead>\n",
       "  <tbody>\n",
       "    <tr>\n",
       "      <td>0</td>\n",
       "      <td>Grand Theft Auto V</td>\n",
       "      <td>PS3</td>\n",
       "      <td>2013.0</td>\n",
       "      <td>Action</td>\n",
       "      <td>7.02</td>\n",
       "      <td>9.09</td>\n",
       "      <td>0.98</td>\n",
       "      <td>3.96</td>\n",
       "      <td>21.05</td>\n",
       "      <td>97.0</td>\n",
       "      <td>8.2</td>\n",
       "      <td>M</td>\n",
       "    </tr>\n",
       "    <tr>\n",
       "      <td>1</td>\n",
       "      <td>Grand Theft Auto V</td>\n",
       "      <td>X360</td>\n",
       "      <td>2013.0</td>\n",
       "      <td>Action</td>\n",
       "      <td>9.66</td>\n",
       "      <td>5.14</td>\n",
       "      <td>0.06</td>\n",
       "      <td>1.41</td>\n",
       "      <td>16.27</td>\n",
       "      <td>97.0</td>\n",
       "      <td>8.1</td>\n",
       "      <td>M</td>\n",
       "    </tr>\n",
       "    <tr>\n",
       "      <td>2</td>\n",
       "      <td>Call of Duty: Black Ops 3</td>\n",
       "      <td>PS4</td>\n",
       "      <td>2015.0</td>\n",
       "      <td>Shooter</td>\n",
       "      <td>6.03</td>\n",
       "      <td>5.86</td>\n",
       "      <td>0.36</td>\n",
       "      <td>2.38</td>\n",
       "      <td>14.63</td>\n",
       "      <td>NaN</td>\n",
       "      <td>NaN</td>\n",
       "      <td>unknown</td>\n",
       "    </tr>\n",
       "    <tr>\n",
       "      <td>3</td>\n",
       "      <td>Pokemon X/Pokemon Y</td>\n",
       "      <td>3DS</td>\n",
       "      <td>2013.0</td>\n",
       "      <td>Role-Playing</td>\n",
       "      <td>5.28</td>\n",
       "      <td>4.19</td>\n",
       "      <td>4.35</td>\n",
       "      <td>0.78</td>\n",
       "      <td>14.60</td>\n",
       "      <td>NaN</td>\n",
       "      <td>NaN</td>\n",
       "      <td>unknown</td>\n",
       "    </tr>\n",
       "    <tr>\n",
       "      <td>4</td>\n",
       "      <td>Call of Duty: Black Ops II</td>\n",
       "      <td>PS3</td>\n",
       "      <td>2012.0</td>\n",
       "      <td>Shooter</td>\n",
       "      <td>4.99</td>\n",
       "      <td>5.73</td>\n",
       "      <td>0.65</td>\n",
       "      <td>2.42</td>\n",
       "      <td>13.79</td>\n",
       "      <td>83.0</td>\n",
       "      <td>5.3</td>\n",
       "      <td>M</td>\n",
       "    </tr>\n",
       "    <tr>\n",
       "      <td>5</td>\n",
       "      <td>Call of Duty: Black Ops II</td>\n",
       "      <td>X360</td>\n",
       "      <td>2012.0</td>\n",
       "      <td>Shooter</td>\n",
       "      <td>8.25</td>\n",
       "      <td>4.24</td>\n",
       "      <td>0.07</td>\n",
       "      <td>1.12</td>\n",
       "      <td>13.68</td>\n",
       "      <td>83.0</td>\n",
       "      <td>4.8</td>\n",
       "      <td>M</td>\n",
       "    </tr>\n",
       "    <tr>\n",
       "      <td>6</td>\n",
       "      <td>Grand Theft Auto V</td>\n",
       "      <td>PS4</td>\n",
       "      <td>2014.0</td>\n",
       "      <td>Action</td>\n",
       "      <td>3.96</td>\n",
       "      <td>6.31</td>\n",
       "      <td>0.38</td>\n",
       "      <td>1.97</td>\n",
       "      <td>12.62</td>\n",
       "      <td>97.0</td>\n",
       "      <td>8.3</td>\n",
       "      <td>M</td>\n",
       "    </tr>\n",
       "    <tr>\n",
       "      <td>7</td>\n",
       "      <td>Pokemon Omega Ruby/Pokemon Alpha Sapphire</td>\n",
       "      <td>3DS</td>\n",
       "      <td>2014.0</td>\n",
       "      <td>Role-Playing</td>\n",
       "      <td>4.35</td>\n",
       "      <td>3.49</td>\n",
       "      <td>3.10</td>\n",
       "      <td>0.74</td>\n",
       "      <td>11.68</td>\n",
       "      <td>NaN</td>\n",
       "      <td>NaN</td>\n",
       "      <td>unknown</td>\n",
       "    </tr>\n",
       "    <tr>\n",
       "      <td>8</td>\n",
       "      <td>Call of Duty: Ghosts</td>\n",
       "      <td>X360</td>\n",
       "      <td>2013.0</td>\n",
       "      <td>Shooter</td>\n",
       "      <td>6.73</td>\n",
       "      <td>2.56</td>\n",
       "      <td>0.04</td>\n",
       "      <td>0.91</td>\n",
       "      <td>10.24</td>\n",
       "      <td>73.0</td>\n",
       "      <td>2.6</td>\n",
       "      <td>M</td>\n",
       "    </tr>\n",
       "    <tr>\n",
       "      <td>9</td>\n",
       "      <td>New Super Mario Bros. 2</td>\n",
       "      <td>3DS</td>\n",
       "      <td>2012.0</td>\n",
       "      <td>Platform</td>\n",
       "      <td>3.66</td>\n",
       "      <td>3.14</td>\n",
       "      <td>2.47</td>\n",
       "      <td>0.63</td>\n",
       "      <td>9.90</td>\n",
       "      <td>78.0</td>\n",
       "      <td>7.2</td>\n",
       "      <td>E</td>\n",
       "    </tr>\n",
       "  </tbody>\n",
       "</table>\n",
       "</div>"
      ],
      "text/plain": [
       "                                        name platform  year_of_release  \\\n",
       "0                         Grand Theft Auto V      PS3           2013.0   \n",
       "1                         Grand Theft Auto V     X360           2013.0   \n",
       "2                  Call of Duty: Black Ops 3      PS4           2015.0   \n",
       "3                        Pokemon X/Pokemon Y      3DS           2013.0   \n",
       "4                 Call of Duty: Black Ops II      PS3           2012.0   \n",
       "5                 Call of Duty: Black Ops II     X360           2012.0   \n",
       "6                         Grand Theft Auto V      PS4           2014.0   \n",
       "7  Pokemon Omega Ruby/Pokemon Alpha Sapphire      3DS           2014.0   \n",
       "8                       Call of Duty: Ghosts     X360           2013.0   \n",
       "9                    New Super Mario Bros. 2      3DS           2012.0   \n",
       "\n",
       "          genre  na_sales  eu_sales  jp_sales  other_sales  common_sales  \\\n",
       "0        Action      7.02      9.09      0.98         3.96         21.05   \n",
       "1        Action      9.66      5.14      0.06         1.41         16.27   \n",
       "2       Shooter      6.03      5.86      0.36         2.38         14.63   \n",
       "3  Role-Playing      5.28      4.19      4.35         0.78         14.60   \n",
       "4       Shooter      4.99      5.73      0.65         2.42         13.79   \n",
       "5       Shooter      8.25      4.24      0.07         1.12         13.68   \n",
       "6        Action      3.96      6.31      0.38         1.97         12.62   \n",
       "7  Role-Playing      4.35      3.49      3.10         0.74         11.68   \n",
       "8       Shooter      6.73      2.56      0.04         0.91         10.24   \n",
       "9      Platform      3.66      3.14      2.47         0.63          9.90   \n",
       "\n",
       "   critic_score  user_score   rating  \n",
       "0          97.0         8.2        M  \n",
       "1          97.0         8.1        M  \n",
       "2           NaN         NaN  unknown  \n",
       "3           NaN         NaN  unknown  \n",
       "4          83.0         5.3        M  \n",
       "5          83.0         4.8        M  \n",
       "6          97.0         8.3        M  \n",
       "7           NaN         NaN  unknown  \n",
       "8          73.0         2.6        M  \n",
       "9          78.0         7.2        E  "
      ]
     },
     "metadata": {},
     "output_type": "display_data"
    }
   ],
   "source": [
    "display(final_data.sort_values(by = 'common_sales', ascending = False).head(10))"
   ]
  },
  {
   "cell_type": "markdown",
   "metadata": {},
   "source": [
    "- На графике есть \"выбросы\" у некоторых платформ. На примере платформы PS3 видим что в данном случае выбросы - продажи игр бестселеров, таких как \"GTA V\" и \"Call of Duty: Black Ops II\". Удалять эти данные из таблицы нельзя.\n",
    "- Такие выбросы характерны для игр хитов, соответственно такие выбросы есть у платформ для которых выпускаются эти игры- бестселлеры. Разница между платформами формируется на основании того, выпускаются ли на этих платформах игры хиты."
   ]
  },
  {
   "cell_type": "markdown",
   "metadata": {},
   "source": [
    "### Влияние отзывов пользователей и критиков на продажи"
   ]
  },
  {
   "cell_type": "code",
   "execution_count": 27,
   "metadata": {
    "scrolled": false
   },
   "outputs": [
    {
     "data": {
      "image/png": "[encoded data removed]",
      "text/plain": [
       "<Figure size 864x432 with 1 Axes>"
      ]
     },
     "metadata": {
      "needs_background": "light"
     },
     "output_type": "display_data"
    },
    {
     "data": {
      "image/png": "[encoded data removed]",
      "text/plain": [
       "<Figure size 864x432 with 1 Axes>"
      ]
     },
     "metadata": {
      "needs_background": "light"
     },
     "output_type": "display_data"
    }
   ],
   "source": [
    "# Построим диаграммы рассеяния и посчитаем коэффициенты корреляции \n",
    "# для изучения зависимости продаж от отзывов критиков и пользователей для платформы PS3.\n",
    "# (коэффициенты корреляции запишем в названии диаграмм):\n",
    "ps3_final_data = final_data.query('platform == \"PS3\"')\n",
    "\n",
    "corr_columns = ['critic_score', 'user_score']\n",
    "for column in corr_columns:\n",
    "    corr_coefficient_data = (ps3_final_data['common_sales'].corr(ps3_final_data[column])).round(3)\n",
    "    ps3_final_data.plot(x=column, y='common_sales', \n",
    "                  title=column+' (corr_coefficient = '+(corr_coefficient_data.astype(str))+')', \n",
    "                  style='o',ylim=(0, 25), grid=True, figsize=(12, 6))"
   ]
  },
  {
   "cell_type": "markdown",
   "metadata": {},
   "source": [
    "Вывод:\n",
    "- оценки критиков оказывают незначительное влияние на продажи игр (коэффициент корреляции 0,33);\n",
    "- оценки пользователей не влияют на продажи игр (коэффициент корреляции 0)."
   ]
  },
  {
   "cell_type": "code",
   "execution_count": 28,
   "metadata": {},
   "outputs": [
    {
     "data": {
      "text/html": [
       "<div>\n",
       "<style scoped>\n",
       "    .dataframe tbody tr th:only-of-type {\n",
       "        vertical-align: middle;\n",
       "    }\n",
       "\n",
       "    .dataframe tbody tr th {\n",
       "        vertical-align: top;\n",
       "    }\n",
       "\n",
       "    .dataframe thead th {\n",
       "        text-align: right;\n",
       "    }\n",
       "</style>\n",
       "<table border=\"1\" class=\"dataframe\">\n",
       "  <thead>\n",
       "    <tr style=\"text-align: right;\">\n",
       "      <th></th>\n",
       "      <th>name</th>\n",
       "      <th>platform</th>\n",
       "      <th>year_of_release</th>\n",
       "      <th>genre</th>\n",
       "      <th>na_sales</th>\n",
       "      <th>eu_sales</th>\n",
       "      <th>jp_sales</th>\n",
       "      <th>other_sales</th>\n",
       "      <th>common_sales</th>\n",
       "      <th>critic_score</th>\n",
       "      <th>user_score</th>\n",
       "      <th>rating</th>\n",
       "    </tr>\n",
       "  </thead>\n",
       "  <tbody>\n",
       "    <tr>\n",
       "      <td>0</td>\n",
       "      <td>Grand Theft Auto V</td>\n",
       "      <td>PS3</td>\n",
       "      <td>2013.0</td>\n",
       "      <td>Action</td>\n",
       "      <td>7.02</td>\n",
       "      <td>9.09</td>\n",
       "      <td>0.98</td>\n",
       "      <td>3.96</td>\n",
       "      <td>21.05</td>\n",
       "      <td>97.0</td>\n",
       "      <td>8.2</td>\n",
       "      <td>M</td>\n",
       "    </tr>\n",
       "    <tr>\n",
       "      <td>1</td>\n",
       "      <td>Grand Theft Auto V</td>\n",
       "      <td>X360</td>\n",
       "      <td>2013.0</td>\n",
       "      <td>Action</td>\n",
       "      <td>9.66</td>\n",
       "      <td>5.14</td>\n",
       "      <td>0.06</td>\n",
       "      <td>1.41</td>\n",
       "      <td>16.27</td>\n",
       "      <td>97.0</td>\n",
       "      <td>8.1</td>\n",
       "      <td>M</td>\n",
       "    </tr>\n",
       "    <tr>\n",
       "      <td>4</td>\n",
       "      <td>Call of Duty: Black Ops II</td>\n",
       "      <td>PS3</td>\n",
       "      <td>2012.0</td>\n",
       "      <td>Shooter</td>\n",
       "      <td>4.99</td>\n",
       "      <td>5.73</td>\n",
       "      <td>0.65</td>\n",
       "      <td>2.42</td>\n",
       "      <td>13.79</td>\n",
       "      <td>83.0</td>\n",
       "      <td>5.3</td>\n",
       "      <td>M</td>\n",
       "    </tr>\n",
       "    <tr>\n",
       "      <td>5</td>\n",
       "      <td>Call of Duty: Black Ops II</td>\n",
       "      <td>X360</td>\n",
       "      <td>2012.0</td>\n",
       "      <td>Shooter</td>\n",
       "      <td>8.25</td>\n",
       "      <td>4.24</td>\n",
       "      <td>0.07</td>\n",
       "      <td>1.12</td>\n",
       "      <td>13.68</td>\n",
       "      <td>83.0</td>\n",
       "      <td>4.8</td>\n",
       "      <td>M</td>\n",
       "    </tr>\n",
       "    <tr>\n",
       "      <td>8</td>\n",
       "      <td>Call of Duty: Ghosts</td>\n",
       "      <td>X360</td>\n",
       "      <td>2013.0</td>\n",
       "      <td>Shooter</td>\n",
       "      <td>6.73</td>\n",
       "      <td>2.56</td>\n",
       "      <td>0.04</td>\n",
       "      <td>0.91</td>\n",
       "      <td>10.24</td>\n",
       "      <td>73.0</td>\n",
       "      <td>2.6</td>\n",
       "      <td>M</td>\n",
       "    </tr>\n",
       "    <tr>\n",
       "      <td>10</td>\n",
       "      <td>Halo 4</td>\n",
       "      <td>X360</td>\n",
       "      <td>2012.0</td>\n",
       "      <td>Shooter</td>\n",
       "      <td>6.65</td>\n",
       "      <td>2.28</td>\n",
       "      <td>0.04</td>\n",
       "      <td>0.74</td>\n",
       "      <td>9.71</td>\n",
       "      <td>87.0</td>\n",
       "      <td>7.0</td>\n",
       "      <td>M</td>\n",
       "    </tr>\n",
       "    <tr>\n",
       "      <td>11</td>\n",
       "      <td>Call of Duty: Ghosts</td>\n",
       "      <td>PS3</td>\n",
       "      <td>2013.0</td>\n",
       "      <td>Shooter</td>\n",
       "      <td>4.10</td>\n",
       "      <td>3.63</td>\n",
       "      <td>0.38</td>\n",
       "      <td>1.25</td>\n",
       "      <td>9.36</td>\n",
       "      <td>71.0</td>\n",
       "      <td>2.6</td>\n",
       "      <td>M</td>\n",
       "    </tr>\n",
       "    <tr>\n",
       "      <td>12</td>\n",
       "      <td>Minecraft</td>\n",
       "      <td>X360</td>\n",
       "      <td>2013.0</td>\n",
       "      <td>Misc</td>\n",
       "      <td>5.70</td>\n",
       "      <td>2.65</td>\n",
       "      <td>0.02</td>\n",
       "      <td>0.81</td>\n",
       "      <td>9.18</td>\n",
       "      <td>NaN</td>\n",
       "      <td>NaN</td>\n",
       "      <td>unknown</td>\n",
       "    </tr>\n",
       "    <tr>\n",
       "      <td>15</td>\n",
       "      <td>FIFA Soccer 13</td>\n",
       "      <td>PS3</td>\n",
       "      <td>2012.0</td>\n",
       "      <td>Action</td>\n",
       "      <td>1.06</td>\n",
       "      <td>5.01</td>\n",
       "      <td>0.13</td>\n",
       "      <td>1.97</td>\n",
       "      <td>8.17</td>\n",
       "      <td>88.0</td>\n",
       "      <td>6.6</td>\n",
       "      <td>E</td>\n",
       "    </tr>\n",
       "    <tr>\n",
       "      <td>26</td>\n",
       "      <td>FIFA 14</td>\n",
       "      <td>PS3</td>\n",
       "      <td>2013.0</td>\n",
       "      <td>Sports</td>\n",
       "      <td>0.78</td>\n",
       "      <td>4.24</td>\n",
       "      <td>0.07</td>\n",
       "      <td>1.37</td>\n",
       "      <td>6.46</td>\n",
       "      <td>86.0</td>\n",
       "      <td>4.3</td>\n",
       "      <td>E</td>\n",
       "    </tr>\n",
       "  </tbody>\n",
       "</table>\n",
       "</div>"
      ],
      "text/plain": [
       "                          name platform  year_of_release    genre  na_sales  \\\n",
       "0           Grand Theft Auto V      PS3           2013.0   Action      7.02   \n",
       "1           Grand Theft Auto V     X360           2013.0   Action      9.66   \n",
       "4   Call of Duty: Black Ops II      PS3           2012.0  Shooter      4.99   \n",
       "5   Call of Duty: Black Ops II     X360           2012.0  Shooter      8.25   \n",
       "8         Call of Duty: Ghosts     X360           2013.0  Shooter      6.73   \n",
       "10                      Halo 4     X360           2012.0  Shooter      6.65   \n",
       "11        Call of Duty: Ghosts      PS3           2013.0  Shooter      4.10   \n",
       "12                   Minecraft     X360           2013.0     Misc      5.70   \n",
       "15              FIFA Soccer 13      PS3           2012.0   Action      1.06   \n",
       "26                     FIFA 14      PS3           2013.0   Sports      0.78   \n",
       "\n",
       "    eu_sales  jp_sales  other_sales  common_sales  critic_score  user_score  \\\n",
       "0       9.09      0.98         3.96         21.05          97.0         8.2   \n",
       "1       5.14      0.06         1.41         16.27          97.0         8.1   \n",
       "4       5.73      0.65         2.42         13.79          83.0         5.3   \n",
       "5       4.24      0.07         1.12         13.68          83.0         4.8   \n",
       "8       2.56      0.04         0.91         10.24          73.0         2.6   \n",
       "10      2.28      0.04         0.74          9.71          87.0         7.0   \n",
       "11      3.63      0.38         1.25          9.36          71.0         2.6   \n",
       "12      2.65      0.02         0.81          9.18           NaN         NaN   \n",
       "15      5.01      0.13         1.97          8.17          88.0         6.6   \n",
       "26      4.24      0.07         1.37          6.46          86.0         4.3   \n",
       "\n",
       "     rating  \n",
       "0         M  \n",
       "1         M  \n",
       "4         M  \n",
       "5         M  \n",
       "8         M  \n",
       "10        M  \n",
       "11        M  \n",
       "12  unknown  \n",
       "15        E  \n",
       "26        E  "
      ]
     },
     "metadata": {},
     "output_type": "display_data"
    }
   ],
   "source": [
    "display(final_data.query('platform == \"X360\" or platform == \"PS3\"'\n",
    "    ).sort_values(by = 'common_sales', ascending = False).head(10))"
   ]
  },
  {
   "cell_type": "code",
   "execution_count": 29,
   "metadata": {},
   "outputs": [
    {
     "data": {
      "image/png": "[encoded data removed]",
      "text/plain": [
       "<Figure size 864x432 with 1 Axes>"
      ]
     },
     "metadata": {
      "needs_background": "light"
     },
     "output_type": "display_data"
    },
    {
     "data": {
      "image/png": "[encoded data removed]",
      "text/plain": [
       "<Figure size 864x432 with 1 Axes>"
      ]
     },
     "metadata": {
      "needs_background": "light"
     },
     "output_type": "display_data"
    }
   ],
   "source": [
    "# Построим аналогичные диаграммы для другой популярной платформы Xbox360:\n",
    "x360_final_data = final_data.query('platform == \"X360\"')\n",
    "\n",
    "corr_columns = ['critic_score', 'user_score']\n",
    "for column in corr_columns:\n",
    "    corr_coefficient_data = (x360_final_data['common_sales'].corr(x360_final_data[column])).round(3)\n",
    "    x360_final_data.plot(x=column, y='common_sales', \n",
    "                  title=column+' (corr_coefficient = '+(corr_coefficient_data.astype(str))+')', \n",
    "                  style='o',ylim=(0, 25), grid=True, figsize=(12, 6))"
   ]
  },
  {
   "cell_type": "markdown",
   "metadata": {},
   "source": [
    "- Коэффициенты корреляции для платформы Xbox 360 практически совпадают с коэффициентами платформы PS3.\n",
    "- Соотвественно можно сказать что, данные выводы справедливы и для других платформ. Например - игры \"Call of Duty: Black Ops II\" и \"Call of Duty: Ghosts\" входят в Топ-3 по продажам для платформы XBOX 360, но имеют пользовательские оценки 4.8 и 2.6 соответственно (у этих же игр для платформы PS3 оценки аналогичные)."
   ]
  },
  {
   "cell_type": "markdown",
   "metadata": {},
   "source": [
    "### Распределение игр по жанрам"
   ]
  },
  {
   "cell_type": "code",
   "execution_count": 30,
   "metadata": {
    "scrolled": false
   },
   "outputs": [
    {
     "data": {
      "text/html": [
       "<div>\n",
       "<style scoped>\n",
       "    .dataframe tbody tr th:only-of-type {\n",
       "        vertical-align: middle;\n",
       "    }\n",
       "\n",
       "    .dataframe tbody tr th {\n",
       "        vertical-align: top;\n",
       "    }\n",
       "\n",
       "    .dataframe thead th {\n",
       "        text-align: right;\n",
       "    }\n",
       "</style>\n",
       "<table border=\"1\" class=\"dataframe\">\n",
       "  <thead>\n",
       "    <tr style=\"text-align: right;\">\n",
       "      <th></th>\n",
       "      <th>genre</th>\n",
       "      <th>common_sales</th>\n",
       "    </tr>\n",
       "  </thead>\n",
       "  <tbody>\n",
       "    <tr>\n",
       "      <td>0</td>\n",
       "      <td>Action</td>\n",
       "      <td>441.12</td>\n",
       "    </tr>\n",
       "    <tr>\n",
       "      <td>8</td>\n",
       "      <td>Shooter</td>\n",
       "      <td>304.73</td>\n",
       "    </tr>\n",
       "    <tr>\n",
       "      <td>7</td>\n",
       "      <td>Role-Playing</td>\n",
       "      <td>192.80</td>\n",
       "    </tr>\n",
       "    <tr>\n",
       "      <td>10</td>\n",
       "      <td>Sports</td>\n",
       "      <td>181.07</td>\n",
       "    </tr>\n",
       "    <tr>\n",
       "      <td>3</td>\n",
       "      <td>Misc</td>\n",
       "      <td>85.04</td>\n",
       "    </tr>\n",
       "    <tr>\n",
       "      <td>4</td>\n",
       "      <td>Platform</td>\n",
       "      <td>61.00</td>\n",
       "    </tr>\n",
       "    <tr>\n",
       "      <td>6</td>\n",
       "      <td>Racing</td>\n",
       "      <td>53.50</td>\n",
       "    </tr>\n",
       "    <tr>\n",
       "      <td>2</td>\n",
       "      <td>Fighting</td>\n",
       "      <td>44.49</td>\n",
       "    </tr>\n",
       "    <tr>\n",
       "      <td>9</td>\n",
       "      <td>Simulation</td>\n",
       "      <td>35.12</td>\n",
       "    </tr>\n",
       "    <tr>\n",
       "      <td>1</td>\n",
       "      <td>Adventure</td>\n",
       "      <td>29.43</td>\n",
       "    </tr>\n",
       "    <tr>\n",
       "      <td>11</td>\n",
       "      <td>Strategy</td>\n",
       "      <td>13.34</td>\n",
       "    </tr>\n",
       "    <tr>\n",
       "      <td>5</td>\n",
       "      <td>Puzzle</td>\n",
       "      <td>4.89</td>\n",
       "    </tr>\n",
       "  </tbody>\n",
       "</table>\n",
       "</div>"
      ],
      "text/plain": [
       "           genre  common_sales\n",
       "0         Action        441.12\n",
       "8        Shooter        304.73\n",
       "7   Role-Playing        192.80\n",
       "10        Sports        181.07\n",
       "3           Misc         85.04\n",
       "4       Platform         61.00\n",
       "6         Racing         53.50\n",
       "2       Fighting         44.49\n",
       "9     Simulation         35.12\n",
       "1      Adventure         29.43\n",
       "11      Strategy         13.34\n",
       "5         Puzzle          4.89"
      ]
     },
     "metadata": {},
     "output_type": "display_data"
    },
    {
     "data": {
      "image/png": "[encoded data removed]",
      "text/plain": [
       "<Figure size 1800x720 with 1 Axes>"
      ]
     },
     "metadata": {
      "needs_background": "light"
     },
     "output_type": "display_data"
    }
   ],
   "source": [
    "# Сгруппируем итоговую таблицу по жанрам и суммарным продажам, построим диаграмму:\n",
    "genre_stat = final_data.groupby(by=['genre'], as_index=False)['common_sales'].sum(\n",
    "    ).sort_values(by = 'common_sales', ascending = False)\n",
    "display(genre_stat)\n",
    "genre_stat.plot(x='genre', y='common_sales', kind='bar', figsize=(25, 10));"
   ]
  },
  {
   "cell_type": "markdown",
   "metadata": {},
   "source": [
    "- На диаграмме отчетливо видны самые прибыльные жанры:\n",
    "    - Action;\n",
    "    - Shooter;\n",
    "    - Role-Playing;\n",
    "    - Sports.\n",
    "- Продажи этих игр в разы больше продаж остальнх игр.\n",
    "- Самые низкие продажи у жанров Strategy и \tPuzzle. Но также стоит отметить что себестоимость разработки Puzzle игр намного меньше, чем игр жанров Action или Shooter."
   ]
  },
  {
   "cell_type": "markdown",
   "metadata": {},
   "source": [
    "## Портрет пользователя каждого региона"
   ]
  },
  {
   "cell_type": "markdown",
   "metadata": {},
   "source": [
    "### Топ-5 платформ и жанров по регионам"
   ]
  },
  {
   "cell_type": "code",
   "execution_count": 31,
   "metadata": {
    "scrolled": false
   },
   "outputs": [
    {
     "data": {
      "image/png": "[encoded data removed]",
      "text/plain": [
       "<Figure size 1296x432 with 2 Axes>"
      ]
     },
     "metadata": {
      "needs_background": "light"
     },
     "output_type": "display_data"
    },
    {
     "data": {
      "image/png": "[encoded data removed]",
      "text/plain": [
       "<Figure size 1296x432 with 2 Axes>"
      ]
     },
     "metadata": {
      "needs_background": "light"
     },
     "output_type": "display_data"
    },
    {
     "data": {
      "image/png": "[encoded data removed]",
      "text/plain": [
       "<Figure size 1296x432 with 2 Axes>"
      ]
     },
     "metadata": {
      "needs_background": "light"
     },
     "output_type": "display_data"
    }
   ],
   "source": [
    "# Построим диаграммы продаж по платформам и жанрам для каждого региона, выделим топ-5:\n",
    "region_sales = ['na_sales', 'eu_sales', 'jp_sales']\n",
    "\n",
    "for column in region_sales:\n",
    "    fig, axes = plt.subplots(1,2, figsize=(18,6))\n",
    "    fig.suptitle(column)\n",
    "    final_data.groupby(\n",
    "        by='platform', as_index=False)[column].sum().sort_values(by = column, ascending = False).head().plot(\n",
    "        x='platform', y=column, title=column, kind='bar', grid = True, ax=axes[0])\n",
    "    \n",
    "    final_data.groupby(\n",
    "        by='genre', as_index=False)[column].sum().sort_values(by = column, ascending = False).head().plot(\n",
    "        x='genre', y=column, title=column, kind='bar', grid = True, ax=axes[1], color = 'orange')"
   ]
  },
  {
   "cell_type": "code",
   "execution_count": 32,
   "metadata": {},
   "outputs": [
    {
     "data": {
      "text/html": [
       "<div>\n",
       "<style scoped>\n",
       "    .dataframe tbody tr th:only-of-type {\n",
       "        vertical-align: middle;\n",
       "    }\n",
       "\n",
       "    .dataframe tbody tr th {\n",
       "        vertical-align: top;\n",
       "    }\n",
       "\n",
       "    .dataframe thead th {\n",
       "        text-align: right;\n",
       "    }\n",
       "</style>\n",
       "<table border=\"1\" class=\"dataframe\">\n",
       "  <thead>\n",
       "    <tr style=\"text-align: right;\">\n",
       "      <th></th>\n",
       "      <th>name</th>\n",
       "      <th>platform</th>\n",
       "      <th>year_of_release</th>\n",
       "      <th>genre</th>\n",
       "      <th>na_sales</th>\n",
       "      <th>eu_sales</th>\n",
       "      <th>jp_sales</th>\n",
       "      <th>other_sales</th>\n",
       "      <th>common_sales</th>\n",
       "      <th>critic_score</th>\n",
       "      <th>user_score</th>\n",
       "      <th>rating</th>\n",
       "    </tr>\n",
       "  </thead>\n",
       "  <tbody>\n",
       "    <tr>\n",
       "      <td>13</td>\n",
       "      <td>Animal Crossing: New Leaf</td>\n",
       "      <td>3DS</td>\n",
       "      <td>2012.0</td>\n",
       "      <td>Simulation</td>\n",
       "      <td>2.03</td>\n",
       "      <td>2.36</td>\n",
       "      <td>4.39</td>\n",
       "      <td>0.39</td>\n",
       "      <td>9.17</td>\n",
       "      <td>88.0</td>\n",
       "      <td>8.7</td>\n",
       "      <td>E</td>\n",
       "    </tr>\n",
       "    <tr>\n",
       "      <td>3</td>\n",
       "      <td>Pokemon X/Pokemon Y</td>\n",
       "      <td>3DS</td>\n",
       "      <td>2013.0</td>\n",
       "      <td>Role-Playing</td>\n",
       "      <td>5.28</td>\n",
       "      <td>4.19</td>\n",
       "      <td>4.35</td>\n",
       "      <td>0.78</td>\n",
       "      <td>14.60</td>\n",
       "      <td>NaN</td>\n",
       "      <td>NaN</td>\n",
       "      <td>unknown</td>\n",
       "    </tr>\n",
       "    <tr>\n",
       "      <td>72</td>\n",
       "      <td>Monster Hunter 4</td>\n",
       "      <td>3DS</td>\n",
       "      <td>2013.0</td>\n",
       "      <td>Role-Playing</td>\n",
       "      <td>0.00</td>\n",
       "      <td>0.00</td>\n",
       "      <td>3.44</td>\n",
       "      <td>0.00</td>\n",
       "      <td>3.44</td>\n",
       "      <td>NaN</td>\n",
       "      <td>NaN</td>\n",
       "      <td>unknown</td>\n",
       "    </tr>\n",
       "    <tr>\n",
       "      <td>79</td>\n",
       "      <td>Yokai Watch 2 Ganso/Honke</td>\n",
       "      <td>3DS</td>\n",
       "      <td>2014.0</td>\n",
       "      <td>Role-Playing</td>\n",
       "      <td>0.09</td>\n",
       "      <td>0.00</td>\n",
       "      <td>3.18</td>\n",
       "      <td>0.01</td>\n",
       "      <td>3.28</td>\n",
       "      <td>NaN</td>\n",
       "      <td>NaN</td>\n",
       "      <td>unknown</td>\n",
       "    </tr>\n",
       "    <tr>\n",
       "      <td>16</td>\n",
       "      <td>Pokemon Black 2/Pokemon White 2</td>\n",
       "      <td>DS</td>\n",
       "      <td>2012.0</td>\n",
       "      <td>Role-Playing</td>\n",
       "      <td>2.79</td>\n",
       "      <td>1.72</td>\n",
       "      <td>3.14</td>\n",
       "      <td>0.41</td>\n",
       "      <td>8.06</td>\n",
       "      <td>NaN</td>\n",
       "      <td>NaN</td>\n",
       "      <td>unknown</td>\n",
       "    </tr>\n",
       "  </tbody>\n",
       "</table>\n",
       "</div>"
      ],
      "text/plain": [
       "                               name platform  year_of_release         genre  \\\n",
       "13        Animal Crossing: New Leaf      3DS           2012.0    Simulation   \n",
       "3               Pokemon X/Pokemon Y      3DS           2013.0  Role-Playing   \n",
       "72                 Monster Hunter 4      3DS           2013.0  Role-Playing   \n",
       "79        Yokai Watch 2 Ganso/Honke      3DS           2014.0  Role-Playing   \n",
       "16  Pokemon Black 2/Pokemon White 2       DS           2012.0  Role-Playing   \n",
       "\n",
       "    na_sales  eu_sales  jp_sales  other_sales  common_sales  critic_score  \\\n",
       "13      2.03      2.36      4.39         0.39          9.17          88.0   \n",
       "3       5.28      4.19      4.35         0.78         14.60           NaN   \n",
       "72      0.00      0.00      3.44         0.00          3.44           NaN   \n",
       "79      0.09      0.00      3.18         0.01          3.28           NaN   \n",
       "16      2.79      1.72      3.14         0.41          8.06           NaN   \n",
       "\n",
       "    user_score   rating  \n",
       "13         8.7        E  \n",
       "3          NaN  unknown  \n",
       "72         NaN  unknown  \n",
       "79         NaN  unknown  \n",
       "16         NaN  unknown  "
      ]
     },
     "metadata": {},
     "output_type": "display_data"
    }
   ],
   "source": [
    "display(final_data.sort_values(by = 'jp_sales', ascending = False).head())"
   ]
  },
  {
   "cell_type": "markdown",
   "metadata": {},
   "source": [
    "Продажи по платформам:\n",
    "- На рынке Северной Америки лидируют продажи игр на платформе Xbox 360. Лидерство платформы скорее всего обусловлено, помимо других факторов, тем что для этой платформы рынок Северной Америки является домашним и компания Microsoft активно продвигала продажи приставок и игр на домашнем рынке. Но платформа PS4, которая относится к следующему поколению приставок, уже находится на втором месте, даже учитывая неполные данные за 2016 год. Учитывая тенденцию падения продаж игр на Xbox 360 и взлета на PS4 и Xbox One, многовероятно Xbox 360 потеряет первое место в ближайшее время.\n",
    "- На рынке Европы лидирует платформы Sony: PS4 и PS3. По всей видимости в Европе предпочитают платформы Sony, а не Microsoft.\n",
    "- На рынках Северной Америки и Европы Nintendo DS занимает пятое место, в отличии от Японии.\n",
    "- Ны рынках Японии совсем другая ситуация. Во-первых, по продажам игр лидируют японские платформы: Nintendo и Sony. Во-вторых, огромную долю рынка занимают портативные консоли (3DS и PSV) - продажи игр для 3DS превышают продажи игр PS3 (второе место) более в чем 2 раза. Видимо это местные особенности гейминга - большая доля портативных консолей."
   ]
  },
  {
   "cell_type": "markdown",
   "metadata": {},
   "source": [
    "Продажи по жанрам:\n",
    "- В Северной Америке и Европе продажи игр по жанрам практически не отличаются: в лидерах Action, Shooter, Sports и Role-Plаying.\n",
    "- В Японии на первом месте по продажам игры жанра Role-Playing. Это также можно объяснить особенностями японского гейминга - большая доля портативных консолей. На первых местах по продажам в Японии - игры для портативных консолей 3DS в жанре Role-Playing."
   ]
  },
  {
   "cell_type": "markdown",
   "metadata": {},
   "source": [
    "### Влияние рейтинга ESRB на продажи"
   ]
  },
  {
   "cell_type": "code",
   "execution_count": 33,
   "metadata": {},
   "outputs": [
    {
     "data": {
      "text/html": [
       "<div>\n",
       "<style scoped>\n",
       "    .dataframe tbody tr th:only-of-type {\n",
       "        vertical-align: middle;\n",
       "    }\n",
       "\n",
       "    .dataframe tbody tr th {\n",
       "        vertical-align: top;\n",
       "    }\n",
       "\n",
       "    .dataframe thead th {\n",
       "        text-align: right;\n",
       "    }\n",
       "</style>\n",
       "<table border=\"1\" class=\"dataframe\">\n",
       "  <thead>\n",
       "    <tr style=\"text-align: right;\">\n",
       "      <th></th>\n",
       "      <th>rating</th>\n",
       "      <th>common_sales</th>\n",
       "    </tr>\n",
       "  </thead>\n",
       "  <tbody>\n",
       "    <tr>\n",
       "      <td>2</td>\n",
       "      <td>M</td>\n",
       "      <td>510.11</td>\n",
       "    </tr>\n",
       "    <tr>\n",
       "      <td>4</td>\n",
       "      <td>unknown</td>\n",
       "      <td>330.82</td>\n",
       "    </tr>\n",
       "    <tr>\n",
       "      <td>0</td>\n",
       "      <td>E</td>\n",
       "      <td>287.17</td>\n",
       "    </tr>\n",
       "    <tr>\n",
       "      <td>3</td>\n",
       "      <td>T</td>\n",
       "      <td>162.94</td>\n",
       "    </tr>\n",
       "    <tr>\n",
       "      <td>1</td>\n",
       "      <td>E10+</td>\n",
       "      <td>155.49</td>\n",
       "    </tr>\n",
       "  </tbody>\n",
       "</table>\n",
       "</div>"
      ],
      "text/plain": [
       "    rating  common_sales\n",
       "2        M        510.11\n",
       "4  unknown        330.82\n",
       "0        E        287.17\n",
       "3        T        162.94\n",
       "1     E10+        155.49"
      ]
     },
     "metadata": {},
     "output_type": "display_data"
    },
    {
     "data": {
      "image/png": "[encoded data removed]",
      "text/plain": [
       "<Figure size 432x288 with 1 Axes>"
      ]
     },
     "metadata": {
      "needs_background": "light"
     },
     "output_type": "display_data"
    }
   ],
   "source": [
    "# Выведем общее распределение по продажам игр по рейтингу:\n",
    "esrb_sales_stat = final_data.groupby(by=['rating'], as_index=False)['common_sales'].sum(\n",
    "    ).sort_values(by = 'common_sales', ascending = False)\n",
    "display(esrb_sales_stat)\n",
    "esrb_sales_stat.plot(x='rating', y='common_sales', kind='bar', grid = True, color = 'orange');"
   ]
  },
  {
   "cell_type": "code",
   "execution_count": 34,
   "metadata": {
    "scrolled": false
   },
   "outputs": [
    {
     "data": {
      "image/png": "[encoded data removed]",
      "text/plain": [
       "<Figure size 432x288 with 1 Axes>"
      ]
     },
     "metadata": {
      "needs_background": "light"
     },
     "output_type": "display_data"
    },
    {
     "data": {
      "image/png": "[encoded data removed]",
      "text/plain": [
       "<Figure size 432x288 with 1 Axes>"
      ]
     },
     "metadata": {
      "needs_background": "light"
     },
     "output_type": "display_data"
    },
    {
     "data": {
      "image/png": "[encoded data removed]",
      "text/plain": [
       "<Figure size 432x288 with 1 Axes>"
      ]
     },
     "metadata": {
      "needs_background": "light"
     },
     "output_type": "display_data"
    }
   ],
   "source": [
    "# Построим диаграммы продаж игр с разбивкой по рейтингу ESRB по регионам:\n",
    "for column in region_sales:\n",
    "    final_data.groupby(\n",
    "        by='rating', as_index=False)[column].sum().sort_values(by = column, ascending = False).head().plot(\n",
    "        x='rating', y=column, title=column, kind='bar', grid = True)"
   ]
  },
  {
   "cell_type": "markdown",
   "metadata": {},
   "source": [
    "- Рейтинг ESRB не влияет на продажи на рынках Северной Америки и Европы - там лидируют игры со взрослым рейтингом \"М\", также как и во всем мире.\n",
    "- В Японии по продажам лидируют с большим отрывом игры с отсутсвующим рейтингом.  Далее на втором месте игры с рейтингом \"E\" (для всех), на втором месте игры с рейтингом \"T\" (подросткам). Можно предположить что это также связано с большим распространением в Японии портативных консолей и тем, что в них играют преимущественно дети и подростки."
   ]
  },
  {
   "cell_type": "markdown",
   "metadata": {},
   "source": [
    "## Проверка гипотез"
   ]
  },
  {
   "cell_type": "markdown",
   "metadata": {},
   "source": [
    "### Гипотеза \"Средние пользовательские рейтинги платформ Xbox One и PC одинаковые\""
   ]
  },
  {
   "cell_type": "markdown",
   "metadata": {},
   "source": [
    "Для сравнения средних пользовательских рейтингов платформ Xbox One и PC сформулируем гипотезы:\n",
    "- Нулевую: Средние пользовательские рейтинги платформ Xbox One и PC равны.\n",
    "- Альтернативную: Средние пользовательские рейтинги платформ Xbox One и PC различаются."
   ]
  },
  {
   "cell_type": "code",
   "execution_count": 35,
   "metadata": {},
   "outputs": [],
   "source": [
    "# Создадим отдельные таблицы со сравниваемыми данными:\n",
    "xone_stats = final_data.query('platform == \"XOne\"')\n",
    "pc_stats = final_data.query('platform == \"PC\"')"
   ]
  },
  {
   "cell_type": "code",
   "execution_count": 36,
   "metadata": {
    "scrolled": false
   },
   "outputs": [
    {
     "data": {
      "image/png": "[encoded data removed]",
      "text/plain": [
       "<Figure size 432x288 with 1 Axes>"
      ]
     },
     "metadata": {
      "needs_background": "light"
     },
     "output_type": "display_data"
    },
    {
     "data": {
      "image/png": "[encoded data removed]",
      "text/plain": [
       "<Figure size 432x288 with 1 Axes>"
      ]
     },
     "metadata": {
      "needs_background": "light"
     },
     "output_type": "display_data"
    }
   ],
   "source": [
    "# Изучим сравниваемые данные:\n",
    "xone_stats.plot(y='user_score', kind='hist', grid = True, bins=30)\n",
    "pc_stats.plot(y='user_score', kind='hist', grid = True, bins=30);"
   ]
  },
  {
   "cell_type": "code",
   "execution_count": 37,
   "metadata": {},
   "outputs": [
    {
     "data": {
      "text/plain": [
       "2.770443997158418"
      ]
     },
     "metadata": {},
     "output_type": "display_data"
    },
    {
     "data": {
      "text/plain": [
       "1.9069968429360695"
      ]
     },
     "metadata": {},
     "output_type": "display_data"
    }
   ],
   "source": [
    "pc_var = np.var(pc_stats['user_score'], ddof=1)\n",
    "display(pc_var)\n",
    "xone_var = np.var(xone_stats['user_score'], ddof=1)\n",
    "display(xone_var)"
   ]
  },
  {
   "cell_type": "markdown",
   "metadata": {},
   "source": [
    "*Сравниваемые выборки достаточно различаются, атрибут equal_val в Т–тесте примем как False.*"
   ]
  },
  {
   "cell_type": "code",
   "execution_count": 38,
   "metadata": {
    "scrolled": false
   },
   "outputs": [
    {
     "data": {
      "text/plain": [
       "'p-значение:'"
      ]
     },
     "metadata": {},
     "output_type": "display_data"
    },
    {
     "data": {
      "text/plain": [
       "0.5489537965134426"
      ]
     },
     "metadata": {},
     "output_type": "display_data"
    },
    {
     "data": {
      "text/plain": [
       "'Не получилось отвергнуть нулевую гипотезу \"Средние пользовательские рейтинги платформ Xbox One и PC одинаковые\"'"
      ]
     },
     "metadata": {},
     "output_type": "display_data"
    }
   ],
   "source": [
    "# Для проверки гипотезы используем двухсторонний тест для двух выборок.\n",
    "# В поставленной задаче требуется проверить нулевую гипотезу, \n",
    "# поэтому вывод функции построим с учетом проверки нулевой гипотезы.\n",
    "\n",
    "# В наших выборках более 3000 значений, выборку можно считать большой, критический уровень статистической значимости примем 0.01\n",
    "alpha = 0.01\n",
    "# если p-value окажется меньше него - отвергнем гипотезу\n",
    "\n",
    "results_1 = st.ttest_ind(xone_stats['user_score'], pc_stats['user_score'], equal_var = False, nan_policy='omit')\n",
    "\n",
    "display('p-значение:', results_1.pvalue)\n",
    "\n",
    "if results_1.pvalue < alpha:\n",
    "    display('Отвергаем нулевую гипотезу \"Средние пользовательские рейтинги платформ Xbox One и PC одинаковые\"')\n",
    "else:\n",
    "    display('Не получилось отвергнуть нулевую гипотезу \"Средние пользовательские рейтинги платформ Xbox One и PC одинаковые\"')"
   ]
  },
  {
   "cell_type": "markdown",
   "metadata": {},
   "source": [
    "**В рамках исследования, гипотезу \"Средние пользовательские рейтинги платформ Xbox One и PC одинаковые\" отвергнуть не удалось.**"
   ]
  },
  {
   "cell_type": "markdown",
   "metadata": {},
   "source": [
    "### Гипотеза \"Средние пользовательские рейтинги жанров Action и Sports разные\""
   ]
  },
  {
   "cell_type": "markdown",
   "metadata": {},
   "source": [
    "Для сравнения средних пользовательских рейтингов жанров Action и Sports сформулируем гипотезы:\n",
    "- Нулевую: Средние пользовательские рейтинги жанров Action и Sports равны.\n",
    "- Альтернативную: Средние пользовательские рейтинги жанров Action и Sports различаются."
   ]
  },
  {
   "cell_type": "code",
   "execution_count": 39,
   "metadata": {},
   "outputs": [],
   "source": [
    "# Создадим отдельные таблицы со сравниваемыми данными:\n",
    "action_stats = final_data.query('genre == \"Action\"')\n",
    "sports_stats = final_data.query('genre == \"Sports\"')"
   ]
  },
  {
   "cell_type": "code",
   "execution_count": 40,
   "metadata": {},
   "outputs": [
    {
     "data": {
      "image/png": "[encoded data removed]",
      "text/plain": [
       "<Figure size 432x288 with 1 Axes>"
      ]
     },
     "metadata": {
      "needs_background": "light"
     },
     "output_type": "display_data"
    },
    {
     "data": {
      "image/png": "[encoded data removed]",
      "text/plain": [
       "<Figure size 432x288 with 1 Axes>"
      ]
     },
     "metadata": {
      "needs_background": "light"
     },
     "output_type": "display_data"
    }
   ],
   "source": [
    "# Изучим сравниваемые данные:\n",
    "action_stats.plot(y='user_score', kind='hist', grid = True, bins=30)\n",
    "sports_stats.plot(y='user_score', kind='hist', grid = True, bins=30);"
   ]
  },
  {
   "cell_type": "code",
   "execution_count": 41,
   "metadata": {},
   "outputs": [
    {
     "data": {
      "text/plain": [
       "1.8890840494348111"
      ]
     },
     "metadata": {},
     "output_type": "display_data"
    },
    {
     "data": {
      "text/plain": [
       "3.022890298704732"
      ]
     },
     "metadata": {},
     "output_type": "display_data"
    }
   ],
   "source": [
    "action_var = np.var(action_stats['user_score'], ddof=1)\n",
    "display(action_var)\n",
    "sports_var = np.var(sports_stats['user_score'], ddof=1)\n",
    "display(sports_var)"
   ]
  },
  {
   "cell_type": "markdown",
   "metadata": {},
   "source": [
    "*Сравниваемые выборки достаточно различаются, атрибут equal_val в Т–тесте примем как False.*"
   ]
  },
  {
   "cell_type": "code",
   "execution_count": 42,
   "metadata": {
    "scrolled": false
   },
   "outputs": [
    {
     "data": {
      "text/plain": [
       "'p-значение:'"
      ]
     },
     "metadata": {},
     "output_type": "display_data"
    },
    {
     "data": {
      "text/plain": [
       "4.2430777657264175e-20"
      ]
     },
     "metadata": {},
     "output_type": "display_data"
    },
    {
     "data": {
      "text/plain": [
       "'Не получилось отвергнуть альтернативную гипотезу \"Средние пользовательские рейтинги жанров Action и Sports различаются\"'"
      ]
     },
     "metadata": {},
     "output_type": "display_data"
    }
   ],
   "source": [
    "# Для проверки гипотезы используем двухсторонний тест для двух выборок.\n",
    "# В поставленной задаче требуется проверить альтернативную гипотезу, \n",
    "# поэтому вывод функции построим с учетом проверки альтернативной гипотезы.\n",
    "\n",
    "# В наших выборках более 3000 значений, выборку можно считать большой, критический уровень статистической значимости примем 0.01\n",
    "alpha = 0.01\n",
    "# если p-value окажется больше или равно нему - отвергнем гипотезу\n",
    "\n",
    "results_2 = st.ttest_ind(action_stats['user_score'], sports_stats['user_score'], equal_var = False, nan_policy='omit')\n",
    "\n",
    "display('p-значение:', results_2.pvalue)\n",
    "\n",
    "if results_2.pvalue < alpha:\n",
    "    display('Не получилось отвергнуть альтернативную гипотезу \"Средние пользовательские рейтинги жанров Action и Sports различаются\"')\n",
    "else:\n",
    "    display('Отвергаем альтернативную гипотезу \"Средние пользовательские рейтинги жанров Action и Sports различаются\"')"
   ]
  },
  {
   "cell_type": "markdown",
   "metadata": {},
   "source": [
    "**В рамках исследования, гипотезу \"Средние пользовательские рейтинги жанров Action и Sports различаются\" отвергнуть не удалось.**"
   ]
  },
  {
   "cell_type": "markdown",
   "metadata": {},
   "source": [
    "## Общий вывод"
   ]
  },
  {
   "cell_type": "markdown",
   "metadata": {},
   "source": [
    "- В настоящий период (с 2012 года) игр выходит меньше, чем в периоды до этого.\n",
    "- Жизненный цикл игровой платформы - 10-12 лет. Первую половину этого цикла продажи растут, достигают пика в середине цикла - 5-6 лет. Далее продажи игр падают с выходом новых поколений приставок.\n",
    "- В 2016 году лидирующими платформами являются PS4 и Xbox One. С учетом выхода в 2013, платформы будут актуальны и в 2017 году.\n",
    "- Оценки критиков слабо влияют на продажи игр, оценки пользователей вообще не влияют на продажи игр.\n",
    "- Самые продаваемые жанры: Action, Shooter, Role-Playing, Sports.\n",
    "- В Японии есть свои особенности гейминга - большая доля портативных приставок и игр для них.\n",
    "- Гипотезу \"Средние пользовательские рейтинги платформ Xbox One и PC одинаковые\" отвергнуть не удалось.\n",
    "- Гипотезу \"Средние пользовательские рейтинги жанров Action и Sports различаются\" также отвергнуть не удалось.\n",
    "- **На основании проведенного исследования можно предложить следующую стратегию для компании на 2017 год - сделать упор на игры для платформ PS4 и Xbox One в жанрах Action, Shooter, Role-Playing, Sports. На рынке Японии также учесть сегмент портативных консолей (3DS), который составляет большую долю в регионе.**"
   ]
  }
 ],
 "metadata": {
  "ExecuteTimeLog": [
   {
    "duration": 3,
    "start_time": "2021-10-23T10:13:19.159Z"
   },
   {
    "duration": 1431,
    "start_time": "2021-10-23T10:13:19.165Z"
   },
   {
    "duration": 105,
    "start_time": "2021-10-23T10:13:20.600Z"
   },
   {
    "duration": 9,
    "start_time": "2021-10-23T10:15:21.049Z"
   },
   {
    "duration": 1053,
    "start_time": "2021-10-25T20:27:56.763Z"
   },
   {
    "duration": 51,
    "start_time": "2021-10-25T20:27:57.818Z"
   },
   {
    "duration": 20,
    "start_time": "2021-10-25T20:27:57.872Z"
   },
   {
    "duration": 12,
    "start_time": "2021-10-25T20:27:57.894Z"
   },
   {
    "duration": 986,
    "start_time": "2021-10-25T21:31:33.008Z"
   },
   {
    "duration": 49,
    "start_time": "2021-10-25T21:31:33.995Z"
   },
   {
    "duration": 6,
    "start_time": "2021-10-25T21:31:34.046Z"
   },
   {
    "duration": 11,
    "start_time": "2021-10-25T21:31:34.054Z"
   },
   {
    "duration": 27,
    "start_time": "2021-10-25T21:31:34.067Z"
   },
   {
    "duration": 245,
    "start_time": "2021-10-25T21:32:50.303Z"
   },
   {
    "duration": 4086,
    "start_time": "2021-10-25T21:34:31.328Z"
   },
   {
    "duration": 941,
    "start_time": "2021-10-25T21:34:51.955Z"
   },
   {
    "duration": 51,
    "start_time": "2021-10-25T21:34:52.898Z"
   },
   {
    "duration": 8,
    "start_time": "2021-10-25T21:34:52.951Z"
   },
   {
    "duration": 37,
    "start_time": "2021-10-25T21:34:52.961Z"
   },
   {
    "duration": 260,
    "start_time": "2021-10-25T21:34:52.999Z"
   },
   {
    "duration": 181,
    "start_time": "2021-10-25T21:38:23.252Z"
   },
   {
    "duration": 171,
    "start_time": "2021-10-25T21:38:40.723Z"
   },
   {
    "duration": 166,
    "start_time": "2021-10-25T21:38:47.308Z"
   },
   {
    "duration": 178,
    "start_time": "2021-10-25T21:39:25.582Z"
   },
   {
    "duration": 990,
    "start_time": "2021-10-25T21:59:54.805Z"
   },
   {
    "duration": 49,
    "start_time": "2021-10-25T21:59:55.797Z"
   },
   {
    "duration": 7,
    "start_time": "2021-10-25T21:59:55.848Z"
   },
   {
    "duration": 35,
    "start_time": "2021-10-25T21:59:55.857Z"
   },
   {
    "duration": 13,
    "start_time": "2021-10-25T21:59:55.894Z"
   },
   {
    "duration": 21,
    "start_time": "2021-10-25T22:02:45.234Z"
   },
   {
    "duration": 23,
    "start_time": "2021-10-25T22:04:42.699Z"
   },
   {
    "duration": 994,
    "start_time": "2021-10-25T22:05:00.816Z"
   },
   {
    "duration": 49,
    "start_time": "2021-10-25T22:05:01.812Z"
   },
   {
    "duration": 8,
    "start_time": "2021-10-25T22:05:01.862Z"
   },
   {
    "duration": 26,
    "start_time": "2021-10-25T22:05:01.871Z"
   },
   {
    "duration": 29,
    "start_time": "2021-10-25T22:05:01.898Z"
   },
   {
    "duration": 253,
    "start_time": "2021-10-25T22:06:14.565Z"
   },
   {
    "duration": 1004,
    "start_time": "2021-10-25T22:06:27.188Z"
   },
   {
    "duration": 52,
    "start_time": "2021-10-25T22:06:28.194Z"
   },
   {
    "duration": 8,
    "start_time": "2021-10-25T22:06:28.248Z"
   },
   {
    "duration": 12,
    "start_time": "2021-10-25T22:06:28.257Z"
   },
   {
    "duration": 247,
    "start_time": "2021-10-25T22:06:28.290Z"
   },
   {
    "duration": 191,
    "start_time": "2021-10-25T22:13:32.572Z"
   },
   {
    "duration": 11,
    "start_time": "2021-10-25T22:13:54.772Z"
   },
   {
    "duration": 6,
    "start_time": "2021-10-25T22:15:25.446Z"
   },
   {
    "duration": 174,
    "start_time": "2021-10-25T22:15:37.061Z"
   },
   {
    "duration": 12,
    "start_time": "2021-10-25T22:15:43.038Z"
   },
   {
    "duration": 4058,
    "start_time": "2021-10-25T22:16:35.143Z"
   },
   {
    "duration": 954,
    "start_time": "2021-10-25T22:16:47.641Z"
   },
   {
    "duration": 50,
    "start_time": "2021-10-25T22:16:48.597Z"
   },
   {
    "duration": 7,
    "start_time": "2021-10-25T22:16:48.649Z"
   },
   {
    "duration": 6,
    "start_time": "2021-10-25T22:16:48.658Z"
   },
   {
    "duration": 12,
    "start_time": "2021-10-25T22:16:48.691Z"
   },
   {
    "duration": 13,
    "start_time": "2021-10-25T22:16:48.705Z"
   },
   {
    "duration": 2739,
    "start_time": "2021-10-25T22:25:52.758Z"
   },
   {
    "duration": 50,
    "start_time": "2021-10-25T22:25:55.498Z"
   },
   {
    "duration": 236,
    "start_time": "2021-10-25T22:25:55.550Z"
   },
   {
    "duration": 7,
    "start_time": "2021-10-25T22:25:55.788Z"
   },
   {
    "duration": 13,
    "start_time": "2021-10-25T22:25:55.797Z"
   },
   {
    "duration": 12,
    "start_time": "2021-10-25T22:25:55.812Z"
   },
   {
    "duration": 2102,
    "start_time": "2021-10-25T22:25:55.825Z"
   },
   {
    "duration": 970,
    "start_time": "2021-10-25T22:26:10.226Z"
   },
   {
    "duration": 49,
    "start_time": "2021-10-25T22:26:11.197Z"
   },
   {
    "duration": 7,
    "start_time": "2021-10-25T22:26:11.248Z"
   },
   {
    "duration": 6,
    "start_time": "2021-10-25T22:26:11.257Z"
   },
   {
    "duration": 12,
    "start_time": "2021-10-25T22:26:11.291Z"
   },
   {
    "duration": 14,
    "start_time": "2021-10-25T22:26:11.304Z"
   },
   {
    "duration": 17,
    "start_time": "2021-10-25T22:26:11.319Z"
   },
   {
    "duration": 14,
    "start_time": "2021-10-25T22:31:02.920Z"
   },
   {
    "duration": 955,
    "start_time": "2021-10-25T22:31:33.544Z"
   },
   {
    "duration": 51,
    "start_time": "2021-10-25T22:31:34.501Z"
   },
   {
    "duration": 8,
    "start_time": "2021-10-25T22:31:34.553Z"
   },
   {
    "duration": 6,
    "start_time": "2021-10-25T22:31:34.563Z"
   },
   {
    "duration": 11,
    "start_time": "2021-10-25T22:31:34.592Z"
   },
   {
    "duration": 14,
    "start_time": "2021-10-25T22:31:34.604Z"
   },
   {
    "duration": 15,
    "start_time": "2021-10-25T22:31:34.620Z"
   },
   {
    "duration": 998,
    "start_time": "2021-10-25T22:32:59.305Z"
   },
   {
    "duration": 50,
    "start_time": "2021-10-25T22:33:00.305Z"
   },
   {
    "duration": 7,
    "start_time": "2021-10-25T22:33:00.357Z"
   },
   {
    "duration": 32,
    "start_time": "2021-10-25T22:33:00.366Z"
   },
   {
    "duration": 17,
    "start_time": "2021-10-25T22:33:00.399Z"
   },
   {
    "duration": 22,
    "start_time": "2021-10-25T22:33:00.417Z"
   },
   {
    "duration": 329,
    "start_time": "2021-10-25T22:33:00.441Z"
   },
   {
    "duration": 1007,
    "start_time": "2021-10-25T22:33:17.788Z"
   },
   {
    "duration": 50,
    "start_time": "2021-10-25T22:33:18.797Z"
   },
   {
    "duration": 8,
    "start_time": "2021-10-25T22:33:18.849Z"
   },
   {
    "duration": 33,
    "start_time": "2021-10-25T22:33:18.858Z"
   },
   {
    "duration": 11,
    "start_time": "2021-10-25T22:33:18.893Z"
   },
   {
    "duration": 13,
    "start_time": "2021-10-25T22:33:18.906Z"
   },
   {
    "duration": 15,
    "start_time": "2021-10-25T22:33:18.921Z"
   },
   {
    "duration": 1434,
    "start_time": "2021-10-25T22:33:57.309Z"
   },
   {
    "duration": 49,
    "start_time": "2021-10-25T22:33:58.745Z"
   },
   {
    "duration": 9,
    "start_time": "2021-10-25T22:33:58.796Z"
   },
   {
    "duration": 6,
    "start_time": "2021-10-25T22:33:58.807Z"
   },
   {
    "duration": 15,
    "start_time": "2021-10-25T22:33:58.815Z"
   },
   {
    "duration": 12,
    "start_time": "2021-10-25T22:33:58.831Z"
   },
   {
    "duration": 14,
    "start_time": "2021-10-25T22:33:58.845Z"
   },
   {
    "duration": 14,
    "start_time": "2021-10-25T22:34:10.885Z"
   },
   {
    "duration": 13,
    "start_time": "2021-10-25T22:34:40.426Z"
   },
   {
    "duration": 15,
    "start_time": "2021-10-25T22:37:40.072Z"
   },
   {
    "duration": 414,
    "start_time": "2021-10-26T18:50:20.000Z"
   },
   {
    "duration": 1430,
    "start_time": "2021-10-26T18:50:27.373Z"
   },
   {
    "duration": 90,
    "start_time": "2021-10-26T18:50:28.806Z"
   },
   {
    "duration": 12,
    "start_time": "2021-10-26T18:50:28.899Z"
   },
   {
    "duration": 9,
    "start_time": "2021-10-26T18:50:28.913Z"
   },
   {
    "duration": 19,
    "start_time": "2021-10-26T18:50:28.924Z"
   },
   {
    "duration": 20,
    "start_time": "2021-10-26T18:50:28.983Z"
   },
   {
    "duration": 24,
    "start_time": "2021-10-26T18:50:29.005Z"
   },
   {
    "duration": 51,
    "start_time": "2021-10-26T18:50:29.032Z"
   },
   {
    "duration": 6,
    "start_time": "2021-10-26T18:50:29.086Z"
   },
   {
    "duration": 25,
    "start_time": "2021-10-26T18:51:35.003Z"
   },
   {
    "duration": 8563,
    "start_time": "2021-10-26T18:54:09.027Z"
   },
   {
    "duration": 330,
    "start_time": "2021-10-26T18:54:35.695Z"
   },
   {
    "duration": 6,
    "start_time": "2021-10-26T18:54:46.282Z"
   },
   {
    "duration": 8453,
    "start_time": "2021-10-26T18:54:58.646Z"
   },
   {
    "duration": 8,
    "start_time": "2021-10-26T18:55:12.955Z"
   },
   {
    "duration": 9,
    "start_time": "2021-10-26T18:55:25.708Z"
   },
   {
    "duration": 1404,
    "start_time": "2021-10-26T18:55:36.582Z"
   },
   {
    "duration": 94,
    "start_time": "2021-10-26T18:55:37.988Z"
   },
   {
    "duration": 12,
    "start_time": "2021-10-26T18:55:38.085Z"
   },
   {
    "duration": 9,
    "start_time": "2021-10-26T18:55:38.100Z"
   },
   {
    "duration": 23,
    "start_time": "2021-10-26T18:55:38.111Z"
   },
   {
    "duration": 57,
    "start_time": "2021-10-26T18:55:38.136Z"
   },
   {
    "duration": 23,
    "start_time": "2021-10-26T18:55:38.196Z"
   },
   {
    "duration": 27,
    "start_time": "2021-10-26T18:55:38.221Z"
   },
   {
    "duration": 5,
    "start_time": "2021-10-26T18:55:38.251Z"
   },
   {
    "duration": 34,
    "start_time": "2021-10-26T18:55:38.281Z"
   },
   {
    "duration": 12,
    "start_time": "2021-10-26T18:55:38.318Z"
   },
   {
    "duration": 457,
    "start_time": "2021-10-26T18:55:56.621Z"
   },
   {
    "duration": 1590,
    "start_time": "2021-10-26T18:57:31.419Z"
   },
   {
    "duration": 101,
    "start_time": "2021-10-26T18:57:33.012Z"
   },
   {
    "duration": 16,
    "start_time": "2021-10-26T18:57:33.116Z"
   },
   {
    "duration": 47,
    "start_time": "2021-10-26T18:57:33.135Z"
   },
   {
    "duration": 26,
    "start_time": "2021-10-26T18:57:33.185Z"
   },
   {
    "duration": 26,
    "start_time": "2021-10-26T18:57:33.215Z"
   },
   {
    "duration": 52,
    "start_time": "2021-10-26T18:57:33.244Z"
   },
   {
    "duration": 24,
    "start_time": "2021-10-26T18:57:33.298Z"
   },
   {
    "duration": 6,
    "start_time": "2021-10-26T18:57:33.324Z"
   },
   {
    "duration": 64,
    "start_time": "2021-10-26T18:57:33.332Z"
   },
   {
    "duration": 15,
    "start_time": "2021-10-26T18:57:33.399Z"
   },
   {
    "duration": 1412,
    "start_time": "2021-10-26T19:10:23.968Z"
   },
   {
    "duration": 81,
    "start_time": "2021-10-26T19:10:25.383Z"
   },
   {
    "duration": 12,
    "start_time": "2021-10-26T19:10:25.482Z"
   },
   {
    "duration": 9,
    "start_time": "2021-10-26T19:10:25.497Z"
   },
   {
    "duration": 19,
    "start_time": "2021-10-26T19:10:25.508Z"
   },
   {
    "duration": 65,
    "start_time": "2021-10-26T19:10:25.529Z"
   },
   {
    "duration": 22,
    "start_time": "2021-10-26T19:10:25.597Z"
   },
   {
    "duration": 12,
    "start_time": "2021-10-26T19:10:25.621Z"
   },
   {
    "duration": 52,
    "start_time": "2021-10-26T19:10:25.637Z"
   },
   {
    "duration": 6,
    "start_time": "2021-10-26T19:10:25.691Z"
   },
   {
    "duration": 27,
    "start_time": "2021-10-26T19:10:25.699Z"
   },
   {
    "duration": 447,
    "start_time": "2021-10-26T19:15:23.249Z"
   },
   {
    "duration": 374,
    "start_time": "2021-10-26T19:33:40.586Z"
   },
   {
    "duration": 1451,
    "start_time": "2021-10-26T19:57:19.915Z"
   },
   {
    "duration": 79,
    "start_time": "2021-10-26T19:57:21.369Z"
   },
   {
    "duration": 38,
    "start_time": "2021-10-26T19:57:21.451Z"
   },
   {
    "duration": 11,
    "start_time": "2021-10-26T19:57:21.492Z"
   },
   {
    "duration": 21,
    "start_time": "2021-10-26T19:57:21.505Z"
   },
   {
    "duration": 57,
    "start_time": "2021-10-26T19:57:21.529Z"
   },
   {
    "duration": 9,
    "start_time": "2021-10-26T19:57:21.589Z"
   },
   {
    "duration": 21,
    "start_time": "2021-10-26T19:57:21.602Z"
   },
   {
    "duration": 11,
    "start_time": "2021-10-26T19:57:21.626Z"
   },
   {
    "duration": 58,
    "start_time": "2021-10-26T19:57:21.640Z"
   },
   {
    "duration": 6,
    "start_time": "2021-10-26T19:57:21.700Z"
   },
   {
    "duration": 25,
    "start_time": "2021-10-26T19:57:21.708Z"
   },
   {
    "duration": 8,
    "start_time": "2021-10-26T19:57:45.093Z"
   },
   {
    "duration": 1484,
    "start_time": "2021-10-26T19:58:00.213Z"
   },
   {
    "duration": 125,
    "start_time": "2021-10-26T19:58:01.700Z"
   },
   {
    "duration": 13,
    "start_time": "2021-10-26T19:58:01.828Z"
   },
   {
    "duration": 44,
    "start_time": "2021-10-26T19:58:01.844Z"
   },
   {
    "duration": 30,
    "start_time": "2021-10-26T19:58:01.891Z"
   },
   {
    "duration": 31,
    "start_time": "2021-10-26T19:58:01.923Z"
   },
   {
    "duration": 28,
    "start_time": "2021-10-26T19:58:01.957Z"
   },
   {
    "duration": 42,
    "start_time": "2021-10-26T19:58:01.990Z"
   },
   {
    "duration": 25,
    "start_time": "2021-10-26T19:58:02.034Z"
   },
   {
    "duration": 36,
    "start_time": "2021-10-26T19:58:02.061Z"
   },
   {
    "duration": 6,
    "start_time": "2021-10-26T19:58:02.099Z"
   },
   {
    "duration": 27,
    "start_time": "2021-10-26T19:58:02.108Z"
   },
   {
    "duration": 1372,
    "start_time": "2021-10-26T19:59:20.916Z"
   },
   {
    "duration": 101,
    "start_time": "2021-10-26T19:59:22.291Z"
   },
   {
    "duration": 15,
    "start_time": "2021-10-26T19:59:22.396Z"
   },
   {
    "duration": 10,
    "start_time": "2021-10-26T19:59:22.413Z"
   },
   {
    "duration": 58,
    "start_time": "2021-10-26T19:59:22.425Z"
   },
   {
    "duration": 21,
    "start_time": "2021-10-26T19:59:22.485Z"
   },
   {
    "duration": 20,
    "start_time": "2021-10-26T19:59:22.508Z"
   },
   {
    "duration": 11,
    "start_time": "2021-10-26T19:59:22.531Z"
   },
   {
    "duration": 62,
    "start_time": "2021-10-26T19:59:22.544Z"
   },
   {
    "duration": 5,
    "start_time": "2021-10-26T19:59:22.609Z"
   },
   {
    "duration": 25,
    "start_time": "2021-10-26T19:59:22.617Z"
   },
   {
    "duration": 19,
    "start_time": "2021-10-26T20:01:55.131Z"
   },
   {
    "duration": 426,
    "start_time": "2021-10-26T20:43:24.822Z"
   },
   {
    "duration": 24,
    "start_time": "2021-10-26T20:43:32.218Z"
   },
   {
    "duration": 897,
    "start_time": "2021-10-26T20:45:59.393Z"
   },
   {
    "duration": 909,
    "start_time": "2021-10-26T20:46:18.401Z"
   },
   {
    "duration": 943,
    "start_time": "2021-10-26T20:47:57.423Z"
   },
   {
    "duration": 4570,
    "start_time": "2021-10-26T20:49:37.714Z"
   },
   {
    "duration": 23,
    "start_time": "2021-10-26T20:51:03.744Z"
   },
   {
    "duration": 21,
    "start_time": "2021-10-26T21:00:26.303Z"
   },
   {
    "duration": 16,
    "start_time": "2021-10-26T21:56:29.040Z"
   },
   {
    "duration": 112,
    "start_time": "2021-10-26T22:04:29.199Z"
   },
   {
    "duration": 575,
    "start_time": "2021-10-26T22:04:45.166Z"
   },
   {
    "duration": 1426,
    "start_time": "2021-10-26T22:05:01.559Z"
   },
   {
    "duration": 80,
    "start_time": "2021-10-26T22:05:02.987Z"
   },
   {
    "duration": 12,
    "start_time": "2021-10-26T22:05:03.083Z"
   },
   {
    "duration": 9,
    "start_time": "2021-10-26T22:05:03.098Z"
   },
   {
    "duration": 18,
    "start_time": "2021-10-26T22:05:03.110Z"
   },
   {
    "duration": 59,
    "start_time": "2021-10-26T22:05:03.131Z"
   },
   {
    "duration": 23,
    "start_time": "2021-10-26T22:05:03.192Z"
   },
   {
    "duration": 11,
    "start_time": "2021-10-26T22:05:03.219Z"
   },
   {
    "duration": 27,
    "start_time": "2021-10-26T22:05:03.233Z"
   },
   {
    "duration": 5,
    "start_time": "2021-10-26T22:05:03.282Z"
   },
   {
    "duration": 25,
    "start_time": "2021-10-26T22:05:03.289Z"
   },
   {
    "duration": 966,
    "start_time": "2021-10-26T22:05:03.317Z"
   },
   {
    "duration": 21,
    "start_time": "2021-10-26T22:05:04.286Z"
   },
   {
    "duration": 17,
    "start_time": "2021-10-26T22:05:04.309Z"
   },
   {
    "duration": 14,
    "start_time": "2021-10-26T22:05:04.328Z"
   },
   {
    "duration": 487,
    "start_time": "2021-10-26T22:05:04.344Z"
   },
   {
    "duration": 1423,
    "start_time": "2021-10-26T22:05:29.073Z"
   },
   {
    "duration": 106,
    "start_time": "2021-10-26T22:05:30.499Z"
   },
   {
    "duration": 15,
    "start_time": "2021-10-26T22:05:30.609Z"
   },
   {
    "duration": 14,
    "start_time": "2021-10-26T22:05:30.627Z"
   },
   {
    "duration": 52,
    "start_time": "2021-10-26T22:05:30.644Z"
   },
   {
    "duration": 28,
    "start_time": "2021-10-26T22:05:30.699Z"
   },
   {
    "duration": 21,
    "start_time": "2021-10-26T22:05:30.729Z"
   },
   {
    "duration": 33,
    "start_time": "2021-10-26T22:05:30.754Z"
   },
   {
    "duration": 32,
    "start_time": "2021-10-26T22:05:30.790Z"
   },
   {
    "duration": 5,
    "start_time": "2021-10-26T22:05:30.824Z"
   },
   {
    "duration": 53,
    "start_time": "2021-10-26T22:05:30.831Z"
   },
   {
    "duration": 1097,
    "start_time": "2021-10-26T22:05:30.886Z"
   },
   {
    "duration": 22,
    "start_time": "2021-10-26T22:05:31.986Z"
   },
   {
    "duration": 25,
    "start_time": "2021-10-26T22:05:32.011Z"
   },
   {
    "duration": 45,
    "start_time": "2021-10-26T22:05:32.039Z"
   },
   {
    "duration": 476,
    "start_time": "2021-10-26T22:05:32.087Z"
   },
   {
    "duration": 109,
    "start_time": "2021-10-26T22:11:36.023Z"
   },
   {
    "duration": 368,
    "start_time": "2021-10-26T22:11:48.300Z"
   },
   {
    "duration": 7,
    "start_time": "2021-10-26T22:15:45.310Z"
   },
   {
    "duration": 108,
    "start_time": "2021-10-26T22:16:30.447Z"
   },
   {
    "duration": 25,
    "start_time": "2021-10-26T22:16:34.139Z"
   },
   {
    "duration": 34,
    "start_time": "2021-10-26T22:16:53.919Z"
   },
   {
    "duration": 37,
    "start_time": "2021-10-26T22:18:20.439Z"
   },
   {
    "duration": 332,
    "start_time": "2021-10-27T01:50:24.739Z"
   },
   {
    "duration": 1399,
    "start_time": "2021-10-27T01:50:34.531Z"
   },
   {
    "duration": 105,
    "start_time": "2021-10-27T01:50:35.933Z"
   },
   {
    "duration": 12,
    "start_time": "2021-10-27T01:50:36.041Z"
   },
   {
    "duration": 10,
    "start_time": "2021-10-27T01:50:36.055Z"
   },
   {
    "duration": 55,
    "start_time": "2021-10-27T01:50:36.067Z"
   },
   {
    "duration": 20,
    "start_time": "2021-10-27T01:50:36.125Z"
   },
   {
    "duration": 24,
    "start_time": "2021-10-27T01:50:36.147Z"
   },
   {
    "duration": 13,
    "start_time": "2021-10-27T01:50:36.174Z"
   },
   {
    "duration": 57,
    "start_time": "2021-10-27T01:50:36.190Z"
   },
   {
    "duration": 6,
    "start_time": "2021-10-27T01:50:36.249Z"
   },
   {
    "duration": 28,
    "start_time": "2021-10-27T01:50:36.257Z"
   },
   {
    "duration": 1066,
    "start_time": "2021-10-27T01:50:36.287Z"
   },
   {
    "duration": 22,
    "start_time": "2021-10-27T01:50:37.355Z"
   },
   {
    "duration": 18,
    "start_time": "2021-10-27T01:50:37.379Z"
   },
   {
    "duration": 15,
    "start_time": "2021-10-27T01:50:37.424Z"
   },
   {
    "duration": 40,
    "start_time": "2021-10-27T01:50:37.442Z"
   },
   {
    "duration": 57,
    "start_time": "2021-10-27T01:50:37.485Z"
   },
   {
    "duration": 3709,
    "start_time": "2021-10-27T01:51:43.819Z"
   },
   {
    "duration": 392,
    "start_time": "2021-10-27T02:10:58.642Z"
   },
   {
    "duration": 691,
    "start_time": "2021-10-27T02:11:09.061Z"
   },
   {
    "duration": 3557,
    "start_time": "2021-10-27T02:11:16.201Z"
   },
   {
    "duration": 13,
    "start_time": "2021-10-27T02:21:59.104Z"
   },
   {
    "duration": 88,
    "start_time": "2021-10-27T02:23:36.380Z"
   },
   {
    "duration": 7,
    "start_time": "2021-10-27T02:23:40.468Z"
   },
   {
    "duration": 18,
    "start_time": "2021-10-27T02:24:34.043Z"
   },
   {
    "duration": 7295,
    "start_time": "2021-10-27T02:25:09.817Z"
   },
   {
    "duration": 694,
    "start_time": "2021-10-27T02:25:27.841Z"
   },
   {
    "duration": 704,
    "start_time": "2021-10-27T02:29:26.074Z"
   },
   {
    "duration": 336,
    "start_time": "2021-10-27T02:39:00.373Z"
   },
   {
    "duration": 15636,
    "start_time": "2021-10-27T02:39:16.105Z"
   },
   {
    "duration": 715,
    "start_time": "2021-10-27T02:40:31.183Z"
   },
   {
    "duration": 15612,
    "start_time": "2021-10-27T02:41:03.722Z"
   },
   {
    "duration": 8553,
    "start_time": "2021-10-27T02:41:31.707Z"
   },
   {
    "duration": 14337,
    "start_time": "2021-10-27T02:42:08.935Z"
   },
   {
    "duration": 8418,
    "start_time": "2021-10-27T02:43:03.134Z"
   },
   {
    "duration": 8188,
    "start_time": "2021-10-27T02:45:35.351Z"
   },
   {
    "duration": 722,
    "start_time": "2021-10-27T02:46:01.097Z"
   },
   {
    "duration": 713,
    "start_time": "2021-10-27T02:47:30.719Z"
   },
   {
    "duration": 8262,
    "start_time": "2021-10-27T02:49:13.495Z"
   },
   {
    "duration": 8741,
    "start_time": "2021-10-27T02:50:24.063Z"
   },
   {
    "duration": 8598,
    "start_time": "2021-10-27T02:53:24.375Z"
   },
   {
    "duration": 8530,
    "start_time": "2021-10-27T02:54:00.981Z"
   },
   {
    "duration": 8106,
    "start_time": "2021-10-27T02:54:45.082Z"
   },
   {
    "duration": 298,
    "start_time": "2021-10-27T02:55:09.880Z"
   },
   {
    "duration": 699,
    "start_time": "2021-10-27T02:56:31.292Z"
   },
   {
    "duration": 271,
    "start_time": "2021-10-27T03:02:08.810Z"
   },
   {
    "duration": 8722,
    "start_time": "2021-10-27T03:02:21.587Z"
   },
   {
    "duration": 8742,
    "start_time": "2021-10-27T03:03:04.102Z"
   },
   {
    "duration": 744,
    "start_time": "2021-10-27T03:05:47.532Z"
   },
   {
    "duration": 278,
    "start_time": "2021-10-27T03:12:13.543Z"
   },
   {
    "duration": 417,
    "start_time": "2021-10-27T03:13:01.938Z"
   },
   {
    "duration": 8408,
    "start_time": "2021-10-27T03:13:52.660Z"
   },
   {
    "duration": 1386,
    "start_time": "2021-10-27T03:17:03.139Z"
   },
   {
    "duration": 94,
    "start_time": "2021-10-27T03:17:04.528Z"
   },
   {
    "duration": 12,
    "start_time": "2021-10-27T03:17:04.625Z"
   },
   {
    "duration": 9,
    "start_time": "2021-10-27T03:17:04.640Z"
   },
   {
    "duration": 26,
    "start_time": "2021-10-27T03:17:04.651Z"
   },
   {
    "duration": 50,
    "start_time": "2021-10-27T03:17:04.679Z"
   },
   {
    "duration": 21,
    "start_time": "2021-10-27T03:17:04.732Z"
   },
   {
    "duration": 11,
    "start_time": "2021-10-27T03:17:04.756Z"
   },
   {
    "duration": 54,
    "start_time": "2021-10-27T03:17:04.770Z"
   },
   {
    "duration": 5,
    "start_time": "2021-10-27T03:17:04.826Z"
   },
   {
    "duration": 31,
    "start_time": "2021-10-27T03:17:04.833Z"
   },
   {
    "duration": 951,
    "start_time": "2021-10-27T03:17:04.866Z"
   },
   {
    "duration": 21,
    "start_time": "2021-10-27T03:17:05.823Z"
   },
   {
    "duration": 17,
    "start_time": "2021-10-27T03:17:05.846Z"
   },
   {
    "duration": 16,
    "start_time": "2021-10-27T03:17:05.865Z"
   },
   {
    "duration": 731,
    "start_time": "2021-10-27T03:17:05.883Z"
   },
   {
    "duration": 712,
    "start_time": "2021-10-27T03:17:06.621Z"
   },
   {
    "duration": 34,
    "start_time": "2021-10-27T03:17:07.336Z"
   },
   {
    "duration": 749,
    "start_time": "2021-10-27T03:17:07.373Z"
   },
   {
    "duration": 2591,
    "start_time": "2021-10-27T03:17:08.124Z"
   },
   {
    "duration": 855,
    "start_time": "2021-10-27T03:17:10.717Z"
   },
   {
    "duration": 685,
    "start_time": "2021-10-27T03:21:43.392Z"
   },
   {
    "duration": 90,
    "start_time": "2021-10-27T03:22:05.517Z"
   },
   {
    "duration": 732,
    "start_time": "2021-10-27T03:22:11.293Z"
   },
   {
    "duration": 714,
    "start_time": "2021-10-27T03:22:49.825Z"
   },
   {
    "duration": 1338,
    "start_time": "2021-10-27T03:23:09.902Z"
   },
   {
    "duration": 273,
    "start_time": "2021-10-27T03:25:19.595Z"
   },
   {
    "duration": 90,
    "start_time": "2021-10-27T03:28:21.799Z"
   },
   {
    "duration": 4778,
    "start_time": "2021-10-27T03:28:33.417Z"
   },
   {
    "duration": 1212,
    "start_time": "2021-10-27T03:28:52.624Z"
   },
   {
    "duration": 4803,
    "start_time": "2021-10-27T03:29:10.095Z"
   },
   {
    "duration": 1101,
    "start_time": "2021-10-27T03:29:44.981Z"
   },
   {
    "duration": 4861,
    "start_time": "2021-10-27T03:30:26.888Z"
   },
   {
    "duration": 266,
    "start_time": "2021-10-27T03:32:19.675Z"
   },
   {
    "duration": 287,
    "start_time": "2021-10-27T03:32:33.248Z"
   },
   {
    "duration": 420,
    "start_time": "2021-10-27T03:33:34.495Z"
   },
   {
    "duration": 366,
    "start_time": "2021-10-27T03:35:34.529Z"
   },
   {
    "duration": 268,
    "start_time": "2021-10-27T03:35:49.575Z"
   },
   {
    "duration": 282,
    "start_time": "2021-10-27T03:36:22.472Z"
   },
   {
    "duration": 1399,
    "start_time": "2021-10-27T03:36:28.328Z"
   },
   {
    "duration": 77,
    "start_time": "2021-10-27T03:36:29.729Z"
   },
   {
    "duration": 14,
    "start_time": "2021-10-27T03:36:29.821Z"
   },
   {
    "duration": 9,
    "start_time": "2021-10-27T03:36:29.838Z"
   },
   {
    "duration": 19,
    "start_time": "2021-10-27T03:36:29.850Z"
   },
   {
    "duration": 63,
    "start_time": "2021-10-27T03:36:29.872Z"
   },
   {
    "duration": 21,
    "start_time": "2021-10-27T03:36:29.938Z"
   },
   {
    "duration": 12,
    "start_time": "2021-10-27T03:36:29.963Z"
   },
   {
    "duration": 60,
    "start_time": "2021-10-27T03:36:29.977Z"
   },
   {
    "duration": 6,
    "start_time": "2021-10-27T03:36:30.040Z"
   },
   {
    "duration": 28,
    "start_time": "2021-10-27T03:36:30.049Z"
   },
   {
    "duration": 986,
    "start_time": "2021-10-27T03:36:30.080Z"
   },
   {
    "duration": 23,
    "start_time": "2021-10-27T03:36:31.070Z"
   },
   {
    "duration": 42,
    "start_time": "2021-10-27T03:36:31.095Z"
   },
   {
    "duration": 24,
    "start_time": "2021-10-27T03:36:31.139Z"
   },
   {
    "duration": 730,
    "start_time": "2021-10-27T03:36:31.165Z"
   },
   {
    "duration": 721,
    "start_time": "2021-10-27T03:36:31.898Z"
   },
   {
    "duration": 34,
    "start_time": "2021-10-27T03:36:32.621Z"
   },
   {
    "duration": 732,
    "start_time": "2021-10-27T03:36:32.657Z"
   },
   {
    "duration": 390,
    "start_time": "2021-10-27T03:36:33.392Z"
   },
   {
    "duration": 4894,
    "start_time": "2021-10-27T03:37:28.457Z"
   },
   {
    "duration": 264,
    "start_time": "2021-10-27T03:38:29.260Z"
   },
   {
    "duration": 289,
    "start_time": "2021-10-27T03:39:01.848Z"
   },
   {
    "duration": 288,
    "start_time": "2021-10-27T03:40:16.816Z"
   },
   {
    "duration": 4739,
    "start_time": "2021-10-27T03:40:51.988Z"
   },
   {
    "duration": 680,
    "start_time": "2021-10-27T03:47:41.751Z"
   },
   {
    "duration": 707,
    "start_time": "2021-10-27T03:48:18.862Z"
   },
   {
    "duration": 690,
    "start_time": "2021-10-27T03:50:15.812Z"
   },
   {
    "duration": 1272,
    "start_time": "2021-10-27T03:52:53.760Z"
   },
   {
    "duration": 98,
    "start_time": "2021-10-27T03:52:55.036Z"
   },
   {
    "duration": 12,
    "start_time": "2021-10-27T03:52:55.137Z"
   },
   {
    "duration": 10,
    "start_time": "2021-10-27T03:52:55.151Z"
   },
   {
    "duration": 22,
    "start_time": "2021-10-27T03:52:55.163Z"
   },
   {
    "duration": 54,
    "start_time": "2021-10-27T03:52:55.187Z"
   },
   {
    "duration": 22,
    "start_time": "2021-10-27T03:52:55.243Z"
   },
   {
    "duration": 11,
    "start_time": "2021-10-27T03:52:55.269Z"
   },
   {
    "duration": 59,
    "start_time": "2021-10-27T03:52:55.283Z"
   },
   {
    "duration": 6,
    "start_time": "2021-10-27T03:52:55.344Z"
   },
   {
    "duration": 28,
    "start_time": "2021-10-27T03:52:55.352Z"
   },
   {
    "duration": 993,
    "start_time": "2021-10-27T03:52:55.383Z"
   },
   {
    "duration": 23,
    "start_time": "2021-10-27T03:52:56.378Z"
   },
   {
    "duration": 35,
    "start_time": "2021-10-27T03:52:56.404Z"
   },
   {
    "duration": 14,
    "start_time": "2021-10-27T03:52:56.441Z"
   },
   {
    "duration": 749,
    "start_time": "2021-10-27T03:52:56.458Z"
   },
   {
    "duration": 738,
    "start_time": "2021-10-27T03:52:57.210Z"
   },
   {
    "duration": 726,
    "start_time": "2021-10-27T03:52:57.952Z"
   },
   {
    "duration": 708,
    "start_time": "2021-10-27T03:52:58.682Z"
   },
   {
    "duration": 679,
    "start_time": "2021-10-27T03:54:53.246Z"
   },
   {
    "duration": 796,
    "start_time": "2021-10-27T03:55:42.316Z"
   },
   {
    "duration": 8,
    "start_time": "2021-10-27T04:02:09.696Z"
   },
   {
    "duration": 68,
    "start_time": "2021-10-27T04:02:39.067Z"
   },
   {
    "duration": 380,
    "start_time": "2021-10-27T04:07:35.485Z"
   },
   {
    "duration": 26,
    "start_time": "2021-10-27T04:07:42.797Z"
   },
   {
    "duration": 1242,
    "start_time": "2021-10-27T04:08:35.927Z"
   },
   {
    "duration": 1161,
    "start_time": "2021-10-27T04:09:35.828Z"
   },
   {
    "duration": 1120,
    "start_time": "2021-10-27T04:09:56.149Z"
   },
   {
    "duration": 699,
    "start_time": "2021-10-27T04:10:16.834Z"
   },
   {
    "duration": 298,
    "start_time": "2021-10-27T04:10:27.869Z"
   },
   {
    "duration": 7167,
    "start_time": "2021-10-27T04:10:45.141Z"
   },
   {
    "duration": 7013,
    "start_time": "2021-10-27T04:12:35.656Z"
   },
   {
    "duration": 1272,
    "start_time": "2021-10-27T04:12:59.755Z"
   },
   {
    "duration": 36,
    "start_time": "2021-10-27T04:28:30.451Z"
   },
   {
    "duration": 496,
    "start_time": "2021-10-27T04:30:51.352Z"
   },
   {
    "duration": 747,
    "start_time": "2021-10-27T04:31:08.608Z"
   },
   {
    "duration": 600,
    "start_time": "2021-10-27T04:31:15.392Z"
   },
   {
    "duration": 854,
    "start_time": "2021-10-27T04:31:35.129Z"
   },
   {
    "duration": 1095,
    "start_time": "2021-10-27T04:31:49.887Z"
   },
   {
    "duration": 851,
    "start_time": "2021-10-27T04:32:09.335Z"
   },
   {
    "duration": 653,
    "start_time": "2021-10-27T04:33:42.189Z"
   },
   {
    "duration": 981,
    "start_time": "2021-10-27T04:33:49.775Z"
   },
   {
    "duration": 448,
    "start_time": "2021-10-27T12:34:50.182Z"
   },
   {
    "duration": 1390,
    "start_time": "2021-10-27T12:35:10.671Z"
   },
   {
    "duration": 77,
    "start_time": "2021-10-27T12:35:12.063Z"
   },
   {
    "duration": 28,
    "start_time": "2021-10-27T12:35:12.143Z"
   },
   {
    "duration": 9,
    "start_time": "2021-10-27T12:35:12.175Z"
   },
   {
    "duration": 19,
    "start_time": "2021-10-27T12:35:12.187Z"
   },
   {
    "duration": 55,
    "start_time": "2021-10-27T12:35:12.208Z"
   },
   {
    "duration": 21,
    "start_time": "2021-10-27T12:35:12.266Z"
   },
   {
    "duration": 12,
    "start_time": "2021-10-27T12:35:12.290Z"
   },
   {
    "duration": 59,
    "start_time": "2021-10-27T12:35:12.305Z"
   },
   {
    "duration": 6,
    "start_time": "2021-10-27T12:35:12.366Z"
   },
   {
    "duration": 28,
    "start_time": "2021-10-27T12:35:12.374Z"
   },
   {
    "duration": 967,
    "start_time": "2021-10-27T12:35:12.405Z"
   },
   {
    "duration": 22,
    "start_time": "2021-10-27T12:35:13.375Z"
   },
   {
    "duration": 18,
    "start_time": "2021-10-27T12:35:13.400Z"
   },
   {
    "duration": 45,
    "start_time": "2021-10-27T12:35:13.420Z"
   },
   {
    "duration": 38,
    "start_time": "2021-10-27T12:35:13.468Z"
   },
   {
    "duration": 743,
    "start_time": "2021-10-27T12:35:13.509Z"
   },
   {
    "duration": 708,
    "start_time": "2021-10-27T12:35:14.257Z"
   },
   {
    "duration": 819,
    "start_time": "2021-10-27T12:35:14.968Z"
   },
   {
    "duration": 701,
    "start_time": "2021-10-27T12:35:15.789Z"
   },
   {
    "duration": 723,
    "start_time": "2021-10-27T12:35:16.492Z"
   },
   {
    "duration": 712,
    "start_time": "2021-10-27T12:35:17.218Z"
   },
   {
    "duration": 79,
    "start_time": "2021-10-27T12:35:17.934Z"
   },
   {
    "duration": 1295,
    "start_time": "2021-10-27T12:35:18.016Z"
   },
   {
    "duration": 53,
    "start_time": "2021-10-27T12:35:19.314Z"
   },
   {
    "duration": 916,
    "start_time": "2021-10-27T12:35:19.370Z"
   },
   {
    "duration": 9861,
    "start_time": "2021-10-27T12:43:41.407Z"
   },
   {
    "duration": 2630,
    "start_time": "2021-10-27T12:44:15.370Z"
   },
   {
    "duration": 2918,
    "start_time": "2021-10-27T12:45:59.419Z"
   },
   {
    "duration": 5004,
    "start_time": "2021-10-27T12:46:35.488Z"
   },
   {
    "duration": 5240,
    "start_time": "2021-10-27T12:49:03.383Z"
   },
   {
    "duration": 4946,
    "start_time": "2021-10-27T12:50:20.669Z"
   },
   {
    "duration": 4889,
    "start_time": "2021-10-27T12:50:34.443Z"
   },
   {
    "duration": 5336,
    "start_time": "2021-10-27T12:54:30.121Z"
   },
   {
    "duration": 4617,
    "start_time": "2021-10-27T12:54:54.920Z"
   },
   {
    "duration": 4103,
    "start_time": "2021-10-27T12:55:09.719Z"
   },
   {
    "duration": 9355,
    "start_time": "2021-10-27T12:55:48.943Z"
   },
   {
    "duration": 1500,
    "start_time": "2021-10-27T12:56:09.051Z"
   },
   {
    "duration": 79,
    "start_time": "2021-10-27T12:56:10.553Z"
   },
   {
    "duration": 30,
    "start_time": "2021-10-27T12:56:10.636Z"
   },
   {
    "duration": 10,
    "start_time": "2021-10-27T12:56:10.668Z"
   },
   {
    "duration": 19,
    "start_time": "2021-10-27T12:56:10.681Z"
   },
   {
    "duration": 60,
    "start_time": "2021-10-27T12:56:10.702Z"
   },
   {
    "duration": 21,
    "start_time": "2021-10-27T12:56:10.765Z"
   },
   {
    "duration": 12,
    "start_time": "2021-10-27T12:56:10.789Z"
   },
   {
    "duration": 59,
    "start_time": "2021-10-27T12:56:10.804Z"
   },
   {
    "duration": 5,
    "start_time": "2021-10-27T12:56:10.865Z"
   },
   {
    "duration": 27,
    "start_time": "2021-10-27T12:56:10.872Z"
   },
   {
    "duration": 1047,
    "start_time": "2021-10-27T12:56:10.901Z"
   },
   {
    "duration": 35,
    "start_time": "2021-10-27T12:56:11.957Z"
   },
   {
    "duration": 30,
    "start_time": "2021-10-27T12:56:11.995Z"
   },
   {
    "duration": 49,
    "start_time": "2021-10-27T12:56:12.029Z"
   },
   {
    "duration": 39,
    "start_time": "2021-10-27T12:56:12.081Z"
   },
   {
    "duration": 9898,
    "start_time": "2021-10-27T12:56:12.123Z"
   },
   {
    "duration": -1504,
    "start_time": "2021-10-27T12:56:23.527Z"
   },
   {
    "duration": -1507,
    "start_time": "2021-10-27T12:56:23.531Z"
   },
   {
    "duration": -1511,
    "start_time": "2021-10-27T12:56:23.536Z"
   },
   {
    "duration": -1512,
    "start_time": "2021-10-27T12:56:23.540Z"
   },
   {
    "duration": -1515,
    "start_time": "2021-10-27T12:56:23.544Z"
   },
   {
    "duration": -1516,
    "start_time": "2021-10-27T12:56:23.547Z"
   },
   {
    "duration": -1519,
    "start_time": "2021-10-27T12:56:23.552Z"
   },
   {
    "duration": -1521,
    "start_time": "2021-10-27T12:56:23.555Z"
   },
   {
    "duration": -1523,
    "start_time": "2021-10-27T12:56:23.559Z"
   },
   {
    "duration": -1525,
    "start_time": "2021-10-27T12:56:23.562Z"
   },
   {
    "duration": 10909,
    "start_time": "2021-10-27T13:00:24.985Z"
   },
   {
    "duration": 4117,
    "start_time": "2021-10-27T13:00:44.650Z"
   },
   {
    "duration": 4232,
    "start_time": "2021-10-27T13:00:58.948Z"
   },
   {
    "duration": 4081,
    "start_time": "2021-10-27T13:01:41.404Z"
   },
   {
    "duration": 19,
    "start_time": "2021-10-27T13:06:20.689Z"
   },
   {
    "duration": 4127,
    "start_time": "2021-10-27T13:06:48.579Z"
   },
   {
    "duration": 4256,
    "start_time": "2021-10-27T13:09:27.005Z"
   },
   {
    "duration": 16512,
    "start_time": "2021-10-27T13:09:50.119Z"
   },
   {
    "duration": 4083,
    "start_time": "2021-10-27T13:10:13.186Z"
   },
   {
    "duration": 1370,
    "start_time": "2021-10-27T13:13:23.785Z"
   },
   {
    "duration": 82,
    "start_time": "2021-10-27T13:13:25.157Z"
   },
   {
    "duration": 14,
    "start_time": "2021-10-27T13:13:25.258Z"
   },
   {
    "duration": 10,
    "start_time": "2021-10-27T13:13:25.275Z"
   },
   {
    "duration": 22,
    "start_time": "2021-10-27T13:13:25.287Z"
   },
   {
    "duration": 57,
    "start_time": "2021-10-27T13:13:25.311Z"
   },
   {
    "duration": 22,
    "start_time": "2021-10-27T13:13:25.370Z"
   },
   {
    "duration": 12,
    "start_time": "2021-10-27T13:13:25.396Z"
   },
   {
    "duration": 53,
    "start_time": "2021-10-27T13:13:25.412Z"
   },
   {
    "duration": 7,
    "start_time": "2021-10-27T13:13:25.468Z"
   },
   {
    "duration": 28,
    "start_time": "2021-10-27T13:13:25.478Z"
   },
   {
    "duration": 986,
    "start_time": "2021-10-27T13:13:25.509Z"
   },
   {
    "duration": 25,
    "start_time": "2021-10-27T13:13:26.498Z"
   },
   {
    "duration": 41,
    "start_time": "2021-10-27T13:13:26.526Z"
   },
   {
    "duration": 14,
    "start_time": "2021-10-27T13:13:26.570Z"
   },
   {
    "duration": 78,
    "start_time": "2021-10-27T13:13:26.587Z"
   },
   {
    "duration": 22,
    "start_time": "2021-10-27T13:13:26.667Z"
   },
   {
    "duration": 46406,
    "start_time": "2021-10-27T13:13:26.691Z"
   },
   {
    "duration": 736,
    "start_time": "2021-10-27T13:14:13.100Z"
   },
   {
    "duration": 728,
    "start_time": "2021-10-27T13:14:13.838Z"
   },
   {
    "duration": 736,
    "start_time": "2021-10-27T13:14:14.568Z"
   },
   {
    "duration": 790,
    "start_time": "2021-10-27T13:14:15.307Z"
   },
   {
    "duration": 712,
    "start_time": "2021-10-27T13:14:16.101Z"
   },
   {
    "duration": 796,
    "start_time": "2021-10-27T13:14:16.815Z"
   },
   {
    "duration": 71,
    "start_time": "2021-10-27T13:14:17.614Z"
   },
   {
    "duration": 1202,
    "start_time": "2021-10-27T13:14:17.688Z"
   },
   {
    "duration": 38,
    "start_time": "2021-10-27T13:14:18.893Z"
   },
   {
    "duration": 919,
    "start_time": "2021-10-27T13:14:18.933Z"
   },
   {
    "duration": 1455,
    "start_time": "2021-10-27T13:14:49.938Z"
   },
   {
    "duration": 89,
    "start_time": "2021-10-27T13:14:51.396Z"
   },
   {
    "duration": 18,
    "start_time": "2021-10-27T13:14:51.489Z"
   },
   {
    "duration": 14,
    "start_time": "2021-10-27T13:14:51.511Z"
   },
   {
    "duration": 30,
    "start_time": "2021-10-27T13:14:51.559Z"
   },
   {
    "duration": 25,
    "start_time": "2021-10-27T13:14:51.592Z"
   },
   {
    "duration": 47,
    "start_time": "2021-10-27T13:14:51.619Z"
   },
   {
    "duration": 14,
    "start_time": "2021-10-27T13:14:51.669Z"
   },
   {
    "duration": 70,
    "start_time": "2021-10-27T13:14:51.686Z"
   },
   {
    "duration": 6,
    "start_time": "2021-10-27T13:14:51.758Z"
   },
   {
    "duration": 29,
    "start_time": "2021-10-27T13:14:51.767Z"
   },
   {
    "duration": 975,
    "start_time": "2021-10-27T13:14:51.798Z"
   },
   {
    "duration": 22,
    "start_time": "2021-10-27T13:14:52.775Z"
   },
   {
    "duration": 18,
    "start_time": "2021-10-27T13:14:52.800Z"
   },
   {
    "duration": 47,
    "start_time": "2021-10-27T13:14:52.820Z"
   },
   {
    "duration": 36,
    "start_time": "2021-10-27T13:14:52.870Z"
   },
   {
    "duration": 17,
    "start_time": "2021-10-27T13:14:52.909Z"
   },
   {
    "duration": 1387,
    "start_time": "2021-10-27T13:14:52.929Z"
   },
   {
    "duration": 1081,
    "start_time": "2021-10-27T13:14:54.319Z"
   },
   {
    "duration": 743,
    "start_time": "2021-10-27T13:14:55.403Z"
   },
   {
    "duration": 832,
    "start_time": "2021-10-27T13:14:56.149Z"
   },
   {
    "duration": 748,
    "start_time": "2021-10-27T13:14:56.983Z"
   },
   {
    "duration": 739,
    "start_time": "2021-10-27T13:14:57.735Z"
   },
   {
    "duration": 855,
    "start_time": "2021-10-27T13:14:58.477Z"
   },
   {
    "duration": 123,
    "start_time": "2021-10-27T13:14:59.350Z"
   },
   {
    "duration": 1334,
    "start_time": "2021-10-27T13:14:59.480Z"
   },
   {
    "duration": 51,
    "start_time": "2021-10-27T13:15:00.816Z"
   },
   {
    "duration": 912,
    "start_time": "2021-10-27T13:15:00.870Z"
   },
   {
    "duration": 3987,
    "start_time": "2021-10-27T13:15:33.663Z"
   },
   {
    "duration": 5753,
    "start_time": "2021-10-27T13:16:33.565Z"
   },
   {
    "duration": 5463,
    "start_time": "2021-10-27T13:17:04.168Z"
   },
   {
    "duration": 3957,
    "start_time": "2021-10-27T13:18:22.882Z"
   },
   {
    "duration": 1432,
    "start_time": "2021-10-27T13:18:35.733Z"
   },
   {
    "duration": 93,
    "start_time": "2021-10-27T13:18:37.168Z"
   },
   {
    "duration": 12,
    "start_time": "2021-10-27T13:18:37.264Z"
   },
   {
    "duration": 9,
    "start_time": "2021-10-27T13:18:37.279Z"
   },
   {
    "duration": 34,
    "start_time": "2021-10-27T13:18:37.290Z"
   },
   {
    "duration": 45,
    "start_time": "2021-10-27T13:18:37.327Z"
   },
   {
    "duration": 44,
    "start_time": "2021-10-27T13:18:37.375Z"
   },
   {
    "duration": 22,
    "start_time": "2021-10-27T13:18:37.422Z"
   },
   {
    "duration": 36,
    "start_time": "2021-10-27T13:18:37.447Z"
   },
   {
    "duration": 5,
    "start_time": "2021-10-27T13:18:37.485Z"
   },
   {
    "duration": 35,
    "start_time": "2021-10-27T13:18:37.493Z"
   },
   {
    "duration": 957,
    "start_time": "2021-10-27T13:18:37.530Z"
   },
   {
    "duration": 25,
    "start_time": "2021-10-27T13:18:38.490Z"
   },
   {
    "duration": 49,
    "start_time": "2021-10-27T13:18:38.518Z"
   },
   {
    "duration": 15,
    "start_time": "2021-10-27T13:18:38.570Z"
   },
   {
    "duration": 45,
    "start_time": "2021-10-27T13:18:38.587Z"
   },
   {
    "duration": 35,
    "start_time": "2021-10-27T13:18:38.635Z"
   },
   {
    "duration": 4246,
    "start_time": "2021-10-27T13:18:38.672Z"
   },
   {
    "duration": 723,
    "start_time": "2021-10-27T13:18:42.921Z"
   },
   {
    "duration": 735,
    "start_time": "2021-10-27T13:18:43.647Z"
   },
   {
    "duration": 724,
    "start_time": "2021-10-27T13:18:44.385Z"
   },
   {
    "duration": 868,
    "start_time": "2021-10-27T13:18:45.112Z"
   },
   {
    "duration": 709,
    "start_time": "2021-10-27T13:18:45.984Z"
   },
   {
    "duration": 701,
    "start_time": "2021-10-27T13:18:46.695Z"
   },
   {
    "duration": 88,
    "start_time": "2021-10-27T13:18:47.398Z"
   },
   {
    "duration": 1220,
    "start_time": "2021-10-27T13:18:47.488Z"
   },
   {
    "duration": 57,
    "start_time": "2021-10-27T13:18:48.711Z"
   },
   {
    "duration": 872,
    "start_time": "2021-10-27T13:18:48.771Z"
   },
   {
    "duration": 4119,
    "start_time": "2021-10-27T13:21:31.501Z"
   },
   {
    "duration": 4265,
    "start_time": "2021-10-27T13:31:59.847Z"
   },
   {
    "duration": 121,
    "start_time": "2021-10-27T13:36:49.887Z"
   },
   {
    "duration": 34,
    "start_time": "2021-10-27T13:37:03.605Z"
   },
   {
    "duration": 24,
    "start_time": "2021-10-27T13:40:49.066Z"
   },
   {
    "duration": 976,
    "start_time": "2021-10-27T13:41:16.165Z"
   },
   {
    "duration": 13,
    "start_time": "2021-10-27T13:46:48.850Z"
   },
   {
    "duration": 29,
    "start_time": "2021-10-27T13:47:07.864Z"
   },
   {
    "duration": 116,
    "start_time": "2021-10-27T13:48:45.085Z"
   },
   {
    "duration": 3294,
    "start_time": "2021-10-27T13:50:21.435Z"
   },
   {
    "duration": 562,
    "start_time": "2021-10-27T13:56:37.621Z"
   },
   {
    "duration": 604,
    "start_time": "2021-10-27T14:00:29.260Z"
   },
   {
    "duration": 10,
    "start_time": "2021-10-27T14:01:44.209Z"
   },
   {
    "duration": 400,
    "start_time": "2021-10-27T14:02:12.347Z"
   },
   {
    "duration": 11,
    "start_time": "2021-10-27T14:02:20.096Z"
   },
   {
    "duration": 379,
    "start_time": "2021-10-27T14:10:59.281Z"
   },
   {
    "duration": 385,
    "start_time": "2021-10-27T14:11:13.218Z"
   },
   {
    "duration": 629,
    "start_time": "2021-10-27T14:11:22.067Z"
   },
   {
    "duration": 437,
    "start_time": "2021-10-27T14:12:22.963Z"
   },
   {
    "duration": 623,
    "start_time": "2021-10-27T14:12:29.134Z"
   },
   {
    "duration": 529,
    "start_time": "2021-10-27T14:14:40.574Z"
   },
   {
    "duration": 477,
    "start_time": "2021-10-27T14:14:57.429Z"
   },
   {
    "duration": 1264,
    "start_time": "2021-10-27T14:15:37.917Z"
   },
   {
    "duration": 484,
    "start_time": "2021-10-27T14:18:41.912Z"
   },
   {
    "duration": 1014,
    "start_time": "2021-10-27T14:21:43.524Z"
   },
   {
    "duration": 1026,
    "start_time": "2021-10-27T14:21:58.823Z"
   },
   {
    "duration": 593,
    "start_time": "2021-10-27T14:22:07.425Z"
   },
   {
    "duration": 488,
    "start_time": "2021-10-27T14:24:41.558Z"
   },
   {
    "duration": 232,
    "start_time": "2021-10-27T14:31:23.739Z"
   },
   {
    "duration": 502,
    "start_time": "2021-10-27T14:32:24.767Z"
   },
   {
    "duration": 474,
    "start_time": "2021-10-27T14:33:39.562Z"
   },
   {
    "duration": 1562,
    "start_time": "2021-10-27T14:44:54.106Z"
   },
   {
    "duration": 381,
    "start_time": "2021-10-27T14:48:01.352Z"
   },
   {
    "duration": 19,
    "start_time": "2021-10-27T14:48:55.693Z"
   },
   {
    "duration": 1415,
    "start_time": "2021-10-27T14:49:09.250Z"
   },
   {
    "duration": 90,
    "start_time": "2021-10-27T14:49:10.667Z"
   },
   {
    "duration": 13,
    "start_time": "2021-10-27T14:49:10.760Z"
   },
   {
    "duration": 9,
    "start_time": "2021-10-27T14:49:10.776Z"
   },
   {
    "duration": 28,
    "start_time": "2021-10-27T14:49:10.788Z"
   },
   {
    "duration": 54,
    "start_time": "2021-10-27T14:49:10.819Z"
   },
   {
    "duration": 21,
    "start_time": "2021-10-27T14:49:10.876Z"
   },
   {
    "duration": 19,
    "start_time": "2021-10-27T14:49:10.902Z"
   },
   {
    "duration": 25,
    "start_time": "2021-10-27T14:49:10.957Z"
   },
   {
    "duration": 5,
    "start_time": "2021-10-27T14:49:10.984Z"
   },
   {
    "duration": 26,
    "start_time": "2021-10-27T14:49:10.992Z"
   },
   {
    "duration": 1052,
    "start_time": "2021-10-27T14:49:11.021Z"
   },
   {
    "duration": 24,
    "start_time": "2021-10-27T14:49:12.076Z"
   },
   {
    "duration": 19,
    "start_time": "2021-10-27T14:49:12.102Z"
   },
   {
    "duration": 42,
    "start_time": "2021-10-27T14:49:12.123Z"
   },
   {
    "duration": 43,
    "start_time": "2021-10-27T14:49:12.168Z"
   },
   {
    "duration": 53,
    "start_time": "2021-10-27T14:49:12.214Z"
   },
   {
    "duration": 4250,
    "start_time": "2021-10-27T14:49:12.270Z"
   },
   {
    "duration": 36,
    "start_time": "2021-10-27T14:49:16.522Z"
   },
   {
    "duration": 76,
    "start_time": "2021-10-27T14:49:16.560Z"
   },
   {
    "duration": 26,
    "start_time": "2021-10-27T14:49:16.658Z"
   },
   {
    "duration": 941,
    "start_time": "2021-10-27T14:49:16.686Z"
   },
   {
    "duration": 618,
    "start_time": "2021-10-27T14:49:17.632Z"
   },
   {
    "duration": 818,
    "start_time": "2021-10-27T14:49:18.253Z"
   },
   {
    "duration": 71,
    "start_time": "2021-10-27T14:50:55.852Z"
   },
   {
    "duration": 768,
    "start_time": "2021-10-27T14:52:13.429Z"
   },
   {
    "duration": 769,
    "start_time": "2021-10-27T14:53:11.345Z"
   },
   {
    "duration": 705,
    "start_time": "2021-10-27T14:57:10.610Z"
   },
   {
    "duration": 403,
    "start_time": "2021-10-27T16:45:59.683Z"
   },
   {
    "duration": 1393,
    "start_time": "2021-10-27T16:46:11.529Z"
   },
   {
    "duration": 88,
    "start_time": "2021-10-27T16:46:12.924Z"
   },
   {
    "duration": 12,
    "start_time": "2021-10-27T16:46:13.015Z"
   },
   {
    "duration": 12,
    "start_time": "2021-10-27T16:46:13.030Z"
   },
   {
    "duration": 56,
    "start_time": "2021-10-27T16:46:13.044Z"
   },
   {
    "duration": 20,
    "start_time": "2021-10-27T16:46:13.102Z"
   },
   {
    "duration": 25,
    "start_time": "2021-10-27T16:46:13.124Z"
   },
   {
    "duration": 43,
    "start_time": "2021-10-27T16:46:13.151Z"
   },
   {
    "duration": 23,
    "start_time": "2021-10-27T16:46:13.198Z"
   },
   {
    "duration": 5,
    "start_time": "2021-10-27T16:46:13.224Z"
   },
   {
    "duration": 107,
    "start_time": "2021-10-27T16:46:13.231Z"
   },
   {
    "duration": 945,
    "start_time": "2021-10-27T16:46:13.341Z"
   },
   {
    "duration": 22,
    "start_time": "2021-10-27T16:46:14.288Z"
   },
   {
    "duration": 17,
    "start_time": "2021-10-27T16:46:14.312Z"
   },
   {
    "duration": 13,
    "start_time": "2021-10-27T16:46:14.331Z"
   },
   {
    "duration": 67,
    "start_time": "2021-10-27T16:46:14.346Z"
   },
   {
    "duration": 18,
    "start_time": "2021-10-27T16:46:14.415Z"
   },
   {
    "duration": 4444,
    "start_time": "2021-10-27T16:46:14.435Z"
   },
   {
    "duration": 24,
    "start_time": "2021-10-27T16:46:18.882Z"
   },
   {
    "duration": 101,
    "start_time": "2021-10-27T16:46:18.908Z"
   },
   {
    "duration": 23,
    "start_time": "2021-10-27T16:46:19.011Z"
   },
   {
    "duration": 915,
    "start_time": "2021-10-27T16:46:19.036Z"
   },
   {
    "duration": 587,
    "start_time": "2021-10-27T16:46:19.953Z"
   },
   {
    "duration": 770,
    "start_time": "2021-10-27T16:46:20.543Z"
   },
   {
    "duration": 818,
    "start_time": "2021-10-27T16:46:21.316Z"
   },
   {
    "duration": 915,
    "start_time": "2021-10-27T16:46:22.136Z"
   },
   {
    "duration": 4,
    "start_time": "2021-10-27T16:46:23.055Z"
   },
   {
    "duration": 27,
    "start_time": "2021-10-27T16:46:23.061Z"
   },
   {
    "duration": 17,
    "start_time": "2021-10-27T16:46:46.540Z"
   },
   {
    "duration": 17,
    "start_time": "2021-10-27T16:47:44.204Z"
   },
   {
    "duration": 16,
    "start_time": "2021-10-27T16:50:00.989Z"
   },
   {
    "duration": 16,
    "start_time": "2021-10-27T16:52:32.130Z"
   },
   {
    "duration": 16,
    "start_time": "2021-10-27T16:52:42.043Z"
   },
   {
    "duration": 16,
    "start_time": "2021-10-27T16:52:59.698Z"
   },
   {
    "duration": 17,
    "start_time": "2021-10-27T16:55:45.496Z"
   },
   {
    "duration": 16,
    "start_time": "2021-10-27T16:57:19.701Z"
   },
   {
    "duration": 17,
    "start_time": "2021-10-27T16:58:11.410Z"
   },
   {
    "duration": 18,
    "start_time": "2021-10-27T17:00:14.088Z"
   },
   {
    "duration": -454,
    "start_time": "2021-10-27T17:42:34.106Z"
   },
   {
    "duration": 1430,
    "start_time": "2021-10-27T17:42:39.655Z"
   },
   {
    "duration": 93,
    "start_time": "2021-10-27T17:42:41.088Z"
   },
   {
    "duration": 12,
    "start_time": "2021-10-27T17:42:41.184Z"
   },
   {
    "duration": 9,
    "start_time": "2021-10-27T17:42:41.199Z"
   },
   {
    "duration": 19,
    "start_time": "2021-10-27T17:42:41.211Z"
   },
   {
    "duration": 60,
    "start_time": "2021-10-27T17:42:41.233Z"
   },
   {
    "duration": 22,
    "start_time": "2021-10-27T17:42:41.295Z"
   },
   {
    "duration": 18,
    "start_time": "2021-10-27T17:42:41.321Z"
   },
   {
    "duration": 55,
    "start_time": "2021-10-27T17:42:41.342Z"
   },
   {
    "duration": 6,
    "start_time": "2021-10-27T17:42:41.400Z"
   },
   {
    "duration": 107,
    "start_time": "2021-10-27T17:42:41.409Z"
   },
   {
    "duration": 963,
    "start_time": "2021-10-27T17:42:41.519Z"
   },
   {
    "duration": 23,
    "start_time": "2021-10-27T17:42:42.484Z"
   },
   {
    "duration": 18,
    "start_time": "2021-10-27T17:42:42.509Z"
   },
   {
    "duration": 12,
    "start_time": "2021-10-27T17:42:42.529Z"
   },
   {
    "duration": 67,
    "start_time": "2021-10-27T17:42:42.544Z"
   },
   {
    "duration": 18,
    "start_time": "2021-10-27T17:42:42.614Z"
   },
   {
    "duration": 4227,
    "start_time": "2021-10-27T17:42:42.634Z"
   },
   {
    "duration": 44,
    "start_time": "2021-10-27T17:42:46.864Z"
   },
   {
    "duration": 97,
    "start_time": "2021-10-27T17:42:46.911Z"
   },
   {
    "duration": 24,
    "start_time": "2021-10-27T17:42:47.011Z"
   },
   {
    "duration": 1052,
    "start_time": "2021-10-27T17:42:47.037Z"
   },
   {
    "duration": 582,
    "start_time": "2021-10-27T17:42:48.093Z"
   },
   {
    "duration": 764,
    "start_time": "2021-10-27T17:42:48.678Z"
   },
   {
    "duration": 760,
    "start_time": "2021-10-27T17:42:49.445Z"
   },
   {
    "duration": 733,
    "start_time": "2021-10-27T17:42:50.207Z"
   },
   {
    "duration": 1053,
    "start_time": "2021-10-27T17:42:50.943Z"
   },
   {
    "duration": -137,
    "start_time": "2021-10-27T17:42:52.136Z"
   },
   {
    "duration": -142,
    "start_time": "2021-10-27T17:42:52.142Z"
   },
   {
    "duration": -143,
    "start_time": "2021-10-27T17:42:52.145Z"
   },
   {
    "duration": -146,
    "start_time": "2021-10-27T17:42:52.149Z"
   },
   {
    "duration": -147,
    "start_time": "2021-10-27T17:42:52.152Z"
   },
   {
    "duration": -150,
    "start_time": "2021-10-27T17:42:52.156Z"
   },
   {
    "duration": 2031,
    "start_time": "2021-10-27T17:43:04.277Z"
   },
   {
    "duration": 1996,
    "start_time": "2021-10-27T17:43:35.952Z"
   },
   {
    "duration": 2689,
    "start_time": "2021-10-27T17:43:48.615Z"
   },
   {
    "duration": 1759,
    "start_time": "2021-10-27T17:48:30.084Z"
   },
   {
    "duration": 910,
    "start_time": "2021-10-27T17:48:38.888Z"
   },
   {
    "duration": 1994,
    "start_time": "2021-10-27T17:48:49.717Z"
   },
   {
    "duration": 2097,
    "start_time": "2021-10-27T17:49:00.420Z"
   },
   {
    "duration": 1859,
    "start_time": "2021-10-27T17:49:21.125Z"
   },
   {
    "duration": 1874,
    "start_time": "2021-10-27T17:52:27.982Z"
   },
   {
    "duration": 2105,
    "start_time": "2021-10-27T17:52:43.257Z"
   },
   {
    "duration": 2102,
    "start_time": "2021-10-27T17:52:52.544Z"
   },
   {
    "duration": 938,
    "start_time": "2021-10-27T17:53:02.739Z"
   },
   {
    "duration": 2061,
    "start_time": "2021-10-27T17:53:29.360Z"
   },
   {
    "duration": 2406,
    "start_time": "2021-10-27T17:53:34.941Z"
   },
   {
    "duration": 2342,
    "start_time": "2021-10-27T17:54:46.798Z"
   },
   {
    "duration": 3370,
    "start_time": "2021-10-27T17:55:12.833Z"
   },
   {
    "duration": 1422,
    "start_time": "2021-10-27T17:55:39.265Z"
   },
   {
    "duration": 97,
    "start_time": "2021-10-27T17:55:40.690Z"
   },
   {
    "duration": 13,
    "start_time": "2021-10-27T17:55:40.790Z"
   },
   {
    "duration": 9,
    "start_time": "2021-10-27T17:55:40.805Z"
   },
   {
    "duration": 26,
    "start_time": "2021-10-27T17:55:40.817Z"
   },
   {
    "duration": 50,
    "start_time": "2021-10-27T17:55:40.846Z"
   },
   {
    "duration": 22,
    "start_time": "2021-10-27T17:55:40.898Z"
   },
   {
    "duration": 18,
    "start_time": "2021-10-27T17:55:40.923Z"
   },
   {
    "duration": 52,
    "start_time": "2021-10-27T17:55:40.945Z"
   },
   {
    "duration": 6,
    "start_time": "2021-10-27T17:55:41.000Z"
   },
   {
    "duration": 100,
    "start_time": "2021-10-27T17:55:41.008Z"
   },
   {
    "duration": 957,
    "start_time": "2021-10-27T17:55:41.110Z"
   },
   {
    "duration": 32,
    "start_time": "2021-10-27T17:55:42.069Z"
   },
   {
    "duration": 18,
    "start_time": "2021-10-27T17:55:42.103Z"
   },
   {
    "duration": 13,
    "start_time": "2021-10-27T17:55:42.123Z"
   },
   {
    "duration": 70,
    "start_time": "2021-10-27T17:55:42.139Z"
   },
   {
    "duration": 18,
    "start_time": "2021-10-27T17:55:42.211Z"
   },
   {
    "duration": 4289,
    "start_time": "2021-10-27T17:55:42.232Z"
   },
   {
    "duration": 24,
    "start_time": "2021-10-27T17:55:46.523Z"
   },
   {
    "duration": 96,
    "start_time": "2021-10-27T17:55:46.549Z"
   },
   {
    "duration": 45,
    "start_time": "2021-10-27T17:55:46.648Z"
   },
   {
    "duration": 937,
    "start_time": "2021-10-27T17:55:46.695Z"
   },
   {
    "duration": 593,
    "start_time": "2021-10-27T17:55:47.636Z"
   },
   {
    "duration": 790,
    "start_time": "2021-10-27T17:55:48.232Z"
   },
   {
    "duration": 799,
    "start_time": "2021-10-27T17:55:49.025Z"
   },
   {
    "duration": 713,
    "start_time": "2021-10-27T17:55:49.827Z"
   },
   {
    "duration": 2480,
    "start_time": "2021-10-27T17:55:50.543Z"
   },
   {
    "duration": -104,
    "start_time": "2021-10-27T17:55:53.130Z"
   },
   {
    "duration": -108,
    "start_time": "2021-10-27T17:55:53.135Z"
   },
   {
    "duration": -508,
    "start_time": "2021-10-27T17:55:53.537Z"
   },
   {
    "duration": -511,
    "start_time": "2021-10-27T17:55:53.541Z"
   },
   {
    "duration": -512,
    "start_time": "2021-10-27T17:55:53.544Z"
   },
   {
    "duration": -513,
    "start_time": "2021-10-27T17:55:53.547Z"
   },
   {
    "duration": 1022,
    "start_time": "2021-10-27T18:09:17.487Z"
   },
   {
    "duration": 1088,
    "start_time": "2021-10-27T18:10:00.746Z"
   },
   {
    "duration": 928,
    "start_time": "2021-10-27T18:10:50.999Z"
   },
   {
    "duration": 1319,
    "start_time": "2021-10-27T18:11:07.335Z"
   },
   {
    "duration": 1022,
    "start_time": "2021-10-27T18:11:38.484Z"
   },
   {
    "duration": 2107,
    "start_time": "2021-10-27T18:21:11.828Z"
   },
   {
    "duration": 1001,
    "start_time": "2021-10-27T18:21:27.815Z"
   },
   {
    "duration": 817,
    "start_time": "2021-10-27T18:29:53.578Z"
   },
   {
    "duration": 908,
    "start_time": "2021-10-27T18:30:36.006Z"
   },
   {
    "duration": 828,
    "start_time": "2021-10-27T18:33:07.742Z"
   },
   {
    "duration": 1493,
    "start_time": "2021-10-27T18:34:58.615Z"
   },
   {
    "duration": 1445,
    "start_time": "2021-10-27T18:36:43.977Z"
   },
   {
    "duration": 1391,
    "start_time": "2021-10-27T18:38:25.000Z"
   },
   {
    "duration": 90,
    "start_time": "2021-10-27T18:38:26.394Z"
   },
   {
    "duration": 12,
    "start_time": "2021-10-27T18:38:26.487Z"
   },
   {
    "duration": 12,
    "start_time": "2021-10-27T18:38:26.502Z"
   },
   {
    "duration": 68,
    "start_time": "2021-10-27T18:38:26.516Z"
   },
   {
    "duration": 20,
    "start_time": "2021-10-27T18:38:26.587Z"
   },
   {
    "duration": 21,
    "start_time": "2021-10-27T18:38:26.609Z"
   },
   {
    "duration": 50,
    "start_time": "2021-10-27T18:38:26.634Z"
   },
   {
    "duration": 24,
    "start_time": "2021-10-27T18:38:26.687Z"
   },
   {
    "duration": 5,
    "start_time": "2021-10-27T18:38:26.713Z"
   },
   {
    "duration": 106,
    "start_time": "2021-10-27T18:38:26.720Z"
   },
   {
    "duration": 998,
    "start_time": "2021-10-27T18:38:26.829Z"
   },
   {
    "duration": 23,
    "start_time": "2021-10-27T18:38:27.830Z"
   },
   {
    "duration": 43,
    "start_time": "2021-10-27T18:38:27.855Z"
   },
   {
    "duration": 13,
    "start_time": "2021-10-27T18:38:27.901Z"
   },
   {
    "duration": 33,
    "start_time": "2021-10-27T18:38:27.916Z"
   },
   {
    "duration": 18,
    "start_time": "2021-10-27T18:38:27.982Z"
   },
   {
    "duration": 4249,
    "start_time": "2021-10-27T18:38:28.002Z"
   },
   {
    "duration": 35,
    "start_time": "2021-10-27T18:38:32.253Z"
   },
   {
    "duration": 94,
    "start_time": "2021-10-27T18:38:32.291Z"
   },
   {
    "duration": 26,
    "start_time": "2021-10-27T18:38:32.388Z"
   },
   {
    "duration": 967,
    "start_time": "2021-10-27T18:38:32.417Z"
   },
   {
    "duration": 602,
    "start_time": "2021-10-27T18:38:33.389Z"
   },
   {
    "duration": 770,
    "start_time": "2021-10-27T18:38:33.994Z"
   },
   {
    "duration": 862,
    "start_time": "2021-10-27T18:38:34.766Z"
   },
   {
    "duration": 712,
    "start_time": "2021-10-27T18:38:35.631Z"
   },
   {
    "duration": 819,
    "start_time": "2021-10-27T18:38:36.345Z"
   },
   {
    "duration": -117,
    "start_time": "2021-10-27T18:38:37.284Z"
   },
   {
    "duration": -121,
    "start_time": "2021-10-27T18:38:37.289Z"
   },
   {
    "duration": -126,
    "start_time": "2021-10-27T18:38:37.295Z"
   },
   {
    "duration": -129,
    "start_time": "2021-10-27T18:38:37.300Z"
   },
   {
    "duration": -122,
    "start_time": "2021-10-27T18:38:37.304Z"
   },
   {
    "duration": -125,
    "start_time": "2021-10-27T18:38:37.308Z"
   },
   {
    "duration": -134,
    "start_time": "2021-10-27T18:38:37.318Z"
   },
   {
    "duration": -137,
    "start_time": "2021-10-27T18:38:37.323Z"
   },
   {
    "duration": 1475,
    "start_time": "2021-10-27T18:38:54.726Z"
   },
   {
    "duration": 92,
    "start_time": "2021-10-27T18:38:56.204Z"
   },
   {
    "duration": 12,
    "start_time": "2021-10-27T18:38:56.298Z"
   },
   {
    "duration": 9,
    "start_time": "2021-10-27T18:38:56.313Z"
   },
   {
    "duration": 57,
    "start_time": "2021-10-27T18:38:56.325Z"
   },
   {
    "duration": 20,
    "start_time": "2021-10-27T18:38:56.385Z"
   },
   {
    "duration": 32,
    "start_time": "2021-10-27T18:38:56.408Z"
   },
   {
    "duration": 39,
    "start_time": "2021-10-27T18:38:56.443Z"
   },
   {
    "duration": 24,
    "start_time": "2021-10-27T18:38:56.485Z"
   },
   {
    "duration": 5,
    "start_time": "2021-10-27T18:38:56.512Z"
   },
   {
    "duration": 101,
    "start_time": "2021-10-27T18:38:56.520Z"
   },
   {
    "duration": 977,
    "start_time": "2021-10-27T18:38:56.624Z"
   },
   {
    "duration": 26,
    "start_time": "2021-10-27T18:38:57.604Z"
   },
   {
    "duration": 53,
    "start_time": "2021-10-27T18:38:57.633Z"
   },
   {
    "duration": 15,
    "start_time": "2021-10-27T18:38:57.689Z"
   },
   {
    "duration": 38,
    "start_time": "2021-10-27T18:38:57.707Z"
   },
   {
    "duration": 54,
    "start_time": "2021-10-27T18:38:57.747Z"
   },
   {
    "duration": 4205,
    "start_time": "2021-10-27T18:38:57.804Z"
   },
   {
    "duration": 22,
    "start_time": "2021-10-27T18:39:02.012Z"
   },
   {
    "duration": 98,
    "start_time": "2021-10-27T18:39:02.037Z"
   },
   {
    "duration": 44,
    "start_time": "2021-10-27T18:39:02.138Z"
   },
   {
    "duration": 954,
    "start_time": "2021-10-27T18:39:02.184Z"
   },
   {
    "duration": 594,
    "start_time": "2021-10-27T18:39:03.143Z"
   },
   {
    "duration": 776,
    "start_time": "2021-10-27T18:39:03.740Z"
   },
   {
    "duration": 802,
    "start_time": "2021-10-27T18:39:04.518Z"
   },
   {
    "duration": 715,
    "start_time": "2021-10-27T18:39:05.322Z"
   },
   {
    "duration": 1325,
    "start_time": "2021-10-27T18:39:06.040Z"
   },
   {
    "duration": 2126,
    "start_time": "2021-10-27T18:39:07.368Z"
   },
   {
    "duration": 16,
    "start_time": "2021-10-27T18:39:09.496Z"
   },
   {
    "duration": 14,
    "start_time": "2021-10-27T18:39:09.515Z"
   },
   {
    "duration": 14,
    "start_time": "2021-10-27T18:39:09.531Z"
   },
   {
    "duration": 48,
    "start_time": "2021-10-27T18:39:09.547Z"
   },
   {
    "duration": 19,
    "start_time": "2021-10-27T18:39:09.597Z"
   },
   {
    "duration": 15,
    "start_time": "2021-10-27T18:39:09.618Z"
   },
   {
    "duration": 1853,
    "start_time": "2021-10-27T18:46:20.632Z"
   },
   {
    "duration": 1849,
    "start_time": "2021-10-27T18:48:59.992Z"
   },
   {
    "duration": 1182,
    "start_time": "2021-10-27T18:50:59.540Z"
   },
   {
    "duration": 912,
    "start_time": "2021-10-27T18:51:07.250Z"
   },
   {
    "duration": 1951,
    "start_time": "2021-10-27T18:51:17.337Z"
   },
   {
    "duration": 1925,
    "start_time": "2021-10-27T18:52:52.117Z"
   },
   {
    "duration": 1871,
    "start_time": "2021-10-27T18:53:07.204Z"
   },
   {
    "duration": 346,
    "start_time": "2021-10-27T18:59:20.640Z"
   },
   {
    "duration": 1442,
    "start_time": "2021-10-27T18:59:33.643Z"
   },
   {
    "duration": 97,
    "start_time": "2021-10-27T18:59:35.087Z"
   },
   {
    "duration": 13,
    "start_time": "2021-10-27T18:59:35.188Z"
   },
   {
    "duration": 10,
    "start_time": "2021-10-27T18:59:35.203Z"
   },
   {
    "duration": 23,
    "start_time": "2021-10-27T18:59:35.216Z"
   },
   {
    "duration": 54,
    "start_time": "2021-10-27T18:59:35.242Z"
   },
   {
    "duration": 24,
    "start_time": "2021-10-27T18:59:35.299Z"
   },
   {
    "duration": 18,
    "start_time": "2021-10-27T18:59:35.325Z"
   },
   {
    "duration": 59,
    "start_time": "2021-10-27T18:59:35.347Z"
   },
   {
    "duration": 5,
    "start_time": "2021-10-27T18:59:35.409Z"
   },
   {
    "duration": 92,
    "start_time": "2021-10-27T18:59:35.416Z"
   },
   {
    "duration": 963,
    "start_time": "2021-10-27T18:59:35.510Z"
   },
   {
    "duration": 24,
    "start_time": "2021-10-27T18:59:36.481Z"
   },
   {
    "duration": 18,
    "start_time": "2021-10-27T18:59:36.507Z"
   },
   {
    "duration": 13,
    "start_time": "2021-10-27T18:59:36.527Z"
   },
   {
    "duration": 66,
    "start_time": "2021-10-27T18:59:36.542Z"
   },
   {
    "duration": 17,
    "start_time": "2021-10-27T18:59:36.610Z"
   },
   {
    "duration": 4519,
    "start_time": "2021-10-27T18:59:36.629Z"
   },
   {
    "duration": 33,
    "start_time": "2021-10-27T18:59:41.151Z"
   },
   {
    "duration": 101,
    "start_time": "2021-10-27T18:59:41.186Z"
   },
   {
    "duration": 27,
    "start_time": "2021-10-27T18:59:41.290Z"
   },
   {
    "duration": 974,
    "start_time": "2021-10-27T18:59:41.320Z"
   },
   {
    "duration": 709,
    "start_time": "2021-10-27T18:59:42.297Z"
   },
   {
    "duration": 794,
    "start_time": "2021-10-27T18:59:43.008Z"
   },
   {
    "duration": 804,
    "start_time": "2021-10-27T18:59:43.804Z"
   },
   {
    "duration": 519,
    "start_time": "2021-10-27T18:59:44.611Z"
   },
   {
    "duration": -134,
    "start_time": "2021-10-27T18:59:45.267Z"
   },
   {
    "duration": 946,
    "start_time": "2021-10-27T19:00:09.205Z"
   },
   {
    "duration": 1399,
    "start_time": "2021-10-27T19:00:22.804Z"
   },
   {
    "duration": 115,
    "start_time": "2021-10-27T19:00:24.206Z"
   },
   {
    "duration": 13,
    "start_time": "2021-10-27T19:00:24.324Z"
   },
   {
    "duration": 9,
    "start_time": "2021-10-27T19:00:24.340Z"
   },
   {
    "duration": 29,
    "start_time": "2021-10-27T19:00:24.383Z"
   },
   {
    "duration": 21,
    "start_time": "2021-10-27T19:00:24.414Z"
   },
   {
    "duration": 47,
    "start_time": "2021-10-27T19:00:24.437Z"
   },
   {
    "duration": 18,
    "start_time": "2021-10-27T19:00:24.488Z"
   },
   {
    "duration": 31,
    "start_time": "2021-10-27T19:00:24.509Z"
   },
   {
    "duration": 6,
    "start_time": "2021-10-27T19:00:24.542Z"
   },
   {
    "duration": 101,
    "start_time": "2021-10-27T19:00:24.550Z"
   },
   {
    "duration": 994,
    "start_time": "2021-10-27T19:00:24.653Z"
   },
   {
    "duration": 39,
    "start_time": "2021-10-27T19:00:25.650Z"
   },
   {
    "duration": 18,
    "start_time": "2021-10-27T19:00:25.691Z"
   },
   {
    "duration": 13,
    "start_time": "2021-10-27T19:00:25.711Z"
   },
   {
    "duration": 66,
    "start_time": "2021-10-27T19:00:25.726Z"
   },
   {
    "duration": 19,
    "start_time": "2021-10-27T19:00:25.794Z"
   },
   {
    "duration": 4188,
    "start_time": "2021-10-27T19:00:25.815Z"
   },
   {
    "duration": 25,
    "start_time": "2021-10-27T19:00:30.006Z"
   },
   {
    "duration": 106,
    "start_time": "2021-10-27T19:00:30.034Z"
   },
   {
    "duration": 45,
    "start_time": "2021-10-27T19:00:30.142Z"
   },
   {
    "duration": 1220,
    "start_time": "2021-10-27T19:00:30.189Z"
   },
   {
    "duration": 689,
    "start_time": "2021-10-27T19:00:31.414Z"
   },
   {
    "duration": 813,
    "start_time": "2021-10-27T19:00:32.106Z"
   },
   {
    "duration": 784,
    "start_time": "2021-10-27T19:00:32.921Z"
   },
   {
    "duration": 411,
    "start_time": "2021-10-27T19:00:33.708Z"
   },
   {
    "duration": -102,
    "start_time": "2021-10-27T19:00:34.223Z"
   },
   {
    "duration": 327,
    "start_time": "2021-10-27T19:01:19.172Z"
   },
   {
    "duration": 790,
    "start_time": "2021-10-27T19:01:51.395Z"
   },
   {
    "duration": 714,
    "start_time": "2021-10-27T19:02:46.575Z"
   },
   {
    "duration": 688,
    "start_time": "2021-10-27T19:03:37.818Z"
   },
   {
    "duration": 707,
    "start_time": "2021-10-27T19:04:14.501Z"
   },
   {
    "duration": 1902,
    "start_time": "2021-10-27T19:04:34.089Z"
   },
   {
    "duration": 89,
    "start_time": "2021-10-27T19:04:35.994Z"
   },
   {
    "duration": 13,
    "start_time": "2021-10-27T19:04:36.086Z"
   },
   {
    "duration": 10,
    "start_time": "2021-10-27T19:04:36.101Z"
   },
   {
    "duration": 21,
    "start_time": "2021-10-27T19:04:36.114Z"
   },
   {
    "duration": 62,
    "start_time": "2021-10-27T19:04:36.137Z"
   },
   {
    "duration": 24,
    "start_time": "2021-10-27T19:04:36.202Z"
   },
   {
    "duration": 17,
    "start_time": "2021-10-27T19:04:36.229Z"
   },
   {
    "duration": 53,
    "start_time": "2021-10-27T19:04:36.249Z"
   },
   {
    "duration": 5,
    "start_time": "2021-10-27T19:04:36.304Z"
   },
   {
    "duration": 99,
    "start_time": "2021-10-27T19:04:36.311Z"
   },
   {
    "duration": 1072,
    "start_time": "2021-10-27T19:04:36.412Z"
   },
   {
    "duration": 25,
    "start_time": "2021-10-27T19:04:37.487Z"
   },
   {
    "duration": 18,
    "start_time": "2021-10-27T19:04:37.514Z"
   },
   {
    "duration": 13,
    "start_time": "2021-10-27T19:04:37.534Z"
   },
   {
    "duration": 34,
    "start_time": "2021-10-27T19:04:37.583Z"
   },
   {
    "duration": 19,
    "start_time": "2021-10-27T19:04:37.619Z"
   },
   {
    "duration": 4324,
    "start_time": "2021-10-27T19:04:37.640Z"
   },
   {
    "duration": 34,
    "start_time": "2021-10-27T19:04:41.966Z"
   },
   {
    "duration": 96,
    "start_time": "2021-10-27T19:04:42.002Z"
   },
   {
    "duration": 24,
    "start_time": "2021-10-27T19:04:42.101Z"
   },
   {
    "duration": 940,
    "start_time": "2021-10-27T19:04:42.128Z"
   },
   {
    "duration": 587,
    "start_time": "2021-10-27T19:04:43.081Z"
   },
   {
    "duration": 780,
    "start_time": "2021-10-27T19:04:43.671Z"
   },
   {
    "duration": 789,
    "start_time": "2021-10-27T19:04:44.454Z"
   },
   {
    "duration": 728,
    "start_time": "2021-10-27T19:04:45.246Z"
   },
   {
    "duration": 1907,
    "start_time": "2021-10-27T19:04:45.976Z"
   },
   {
    "duration": 17,
    "start_time": "2021-10-27T19:09:43.646Z"
   },
   {
    "duration": 17,
    "start_time": "2021-10-27T19:10:19.343Z"
   },
   {
    "duration": 6983,
    "start_time": "2021-10-27T19:11:42.017Z"
   },
   {
    "duration": 734,
    "start_time": "2021-10-27T19:12:01.263Z"
   },
   {
    "duration": 250,
    "start_time": "2021-10-27T19:12:17.010Z"
   },
   {
    "duration": 903,
    "start_time": "2021-10-27T19:14:32.496Z"
   },
   {
    "duration": 252,
    "start_time": "2021-10-27T19:26:12.148Z"
   },
   {
    "duration": 311,
    "start_time": "2021-10-27T19:26:27.008Z"
   },
   {
    "duration": 339,
    "start_time": "2021-10-27T19:41:10.023Z"
   },
   {
    "duration": 9,
    "start_time": "2021-10-27T19:41:12.936Z"
   },
   {
    "duration": 7674,
    "start_time": "2021-10-27T19:41:14.303Z"
   },
   {
    "duration": 640,
    "start_time": "2021-10-27T19:41:47.980Z"
   },
   {
    "duration": 908,
    "start_time": "2021-10-27T19:42:21.196Z"
   },
   {
    "duration": 22584,
    "start_time": "2021-10-27T19:44:21.030Z"
   },
   {
    "duration": 819,
    "start_time": "2021-10-27T19:44:53.541Z"
   },
   {
    "duration": 225,
    "start_time": "2021-10-27T19:45:19.828Z"
   },
   {
    "duration": 619,
    "start_time": "2021-10-27T19:45:27.552Z"
   },
   {
    "duration": 1261,
    "start_time": "2021-10-27T19:46:07.443Z"
   },
   {
    "duration": 266,
    "start_time": "2021-10-27T19:46:25.766Z"
   },
   {
    "duration": 4,
    "start_time": "2021-10-27T19:58:35.802Z"
   },
   {
    "duration": 8,
    "start_time": "2021-10-27T19:58:52.227Z"
   },
   {
    "duration": 6,
    "start_time": "2021-10-27T19:59:15.501Z"
   },
   {
    "duration": 1440,
    "start_time": "2021-10-27T19:59:25.047Z"
   },
   {
    "duration": 94,
    "start_time": "2021-10-27T19:59:26.490Z"
   },
   {
    "duration": 12,
    "start_time": "2021-10-27T19:59:26.587Z"
   },
   {
    "duration": 11,
    "start_time": "2021-10-27T19:59:26.601Z"
   },
   {
    "duration": 19,
    "start_time": "2021-10-27T19:59:26.614Z"
   },
   {
    "duration": 57,
    "start_time": "2021-10-27T19:59:26.636Z"
   },
   {
    "duration": 21,
    "start_time": "2021-10-27T19:59:26.696Z"
   },
   {
    "duration": 18,
    "start_time": "2021-10-27T19:59:26.720Z"
   },
   {
    "duration": 57,
    "start_time": "2021-10-27T19:59:26.742Z"
   },
   {
    "duration": 6,
    "start_time": "2021-10-27T19:59:26.802Z"
   },
   {
    "duration": 95,
    "start_time": "2021-10-27T19:59:26.811Z"
   },
   {
    "duration": 966,
    "start_time": "2021-10-27T19:59:26.908Z"
   },
   {
    "duration": 27,
    "start_time": "2021-10-27T19:59:27.876Z"
   },
   {
    "duration": 18,
    "start_time": "2021-10-27T19:59:27.906Z"
   },
   {
    "duration": 13,
    "start_time": "2021-10-27T19:59:27.927Z"
   },
   {
    "duration": 68,
    "start_time": "2021-10-27T19:59:27.943Z"
   },
   {
    "duration": 18,
    "start_time": "2021-10-27T19:59:28.013Z"
   },
   {
    "duration": 4491,
    "start_time": "2021-10-27T19:59:28.033Z"
   },
   {
    "duration": 23,
    "start_time": "2021-10-27T19:59:32.527Z"
   },
   {
    "duration": 94,
    "start_time": "2021-10-27T19:59:32.553Z"
   },
   {
    "duration": 47,
    "start_time": "2021-10-27T19:59:32.650Z"
   },
   {
    "duration": 924,
    "start_time": "2021-10-27T19:59:32.700Z"
   },
   {
    "duration": 600,
    "start_time": "2021-10-27T19:59:33.626Z"
   },
   {
    "duration": 885,
    "start_time": "2021-10-27T19:59:34.228Z"
   },
   {
    "duration": 766,
    "start_time": "2021-10-27T19:59:35.116Z"
   },
   {
    "duration": 819,
    "start_time": "2021-10-27T19:59:35.885Z"
   },
   {
    "duration": 1866,
    "start_time": "2021-10-27T19:59:36.708Z"
   },
   {
    "duration": 279,
    "start_time": "2021-10-27T19:59:38.581Z"
   },
   {
    "duration": 856,
    "start_time": "2021-10-27T19:59:38.862Z"
   },
   {
    "duration": 9,
    "start_time": "2021-10-27T19:59:39.721Z"
   },
   {
    "duration": 1271,
    "start_time": "2021-10-27T19:59:39.732Z"
   },
   {
    "duration": 6,
    "start_time": "2021-10-27T19:59:41.005Z"
   },
   {
    "duration": 16,
    "start_time": "2021-10-27T19:59:41.014Z"
   },
   {
    "duration": 270,
    "start_time": "2021-10-27T19:59:41.032Z"
   },
   {
    "duration": 14,
    "start_time": "2021-10-27T20:03:17.375Z"
   },
   {
    "duration": 13,
    "start_time": "2021-10-27T20:04:13.538Z"
   },
   {
    "duration": 97,
    "start_time": "2021-10-27T20:09:44.284Z"
   },
   {
    "duration": 11,
    "start_time": "2021-10-27T20:11:08.775Z"
   },
   {
    "duration": 1223,
    "start_time": "2021-10-27T20:11:49.773Z"
   },
   {
    "duration": 10,
    "start_time": "2021-10-27T20:12:41.807Z"
   },
   {
    "duration": 9,
    "start_time": "2021-10-27T20:13:05.228Z"
   },
   {
    "duration": 13,
    "start_time": "2021-10-27T20:14:28.818Z"
   },
   {
    "duration": 1440,
    "start_time": "2021-10-27T20:14:48.658Z"
   },
   {
    "duration": 92,
    "start_time": "2021-10-27T20:14:50.100Z"
   },
   {
    "duration": 12,
    "start_time": "2021-10-27T20:14:50.195Z"
   },
   {
    "duration": 10,
    "start_time": "2021-10-27T20:14:50.210Z"
   },
   {
    "duration": 20,
    "start_time": "2021-10-27T20:14:50.222Z"
   },
   {
    "duration": 56,
    "start_time": "2021-10-27T20:14:50.244Z"
   },
   {
    "duration": 22,
    "start_time": "2021-10-27T20:14:50.302Z"
   },
   {
    "duration": 17,
    "start_time": "2021-10-27T20:14:50.328Z"
   },
   {
    "duration": 52,
    "start_time": "2021-10-27T20:14:50.348Z"
   },
   {
    "duration": 4,
    "start_time": "2021-10-27T20:14:50.403Z"
   },
   {
    "duration": 95,
    "start_time": "2021-10-27T20:14:50.409Z"
   },
   {
    "duration": 958,
    "start_time": "2021-10-27T20:14:50.507Z"
   },
   {
    "duration": 32,
    "start_time": "2021-10-27T20:14:51.468Z"
   },
   {
    "duration": 19,
    "start_time": "2021-10-27T20:14:51.503Z"
   },
   {
    "duration": 14,
    "start_time": "2021-10-27T20:14:51.525Z"
   },
   {
    "duration": 70,
    "start_time": "2021-10-27T20:14:51.541Z"
   },
   {
    "duration": 18,
    "start_time": "2021-10-27T20:14:51.613Z"
   },
   {
    "duration": 4190,
    "start_time": "2021-10-27T20:14:51.634Z"
   },
   {
    "duration": 24,
    "start_time": "2021-10-27T20:14:55.827Z"
   },
   {
    "duration": 97,
    "start_time": "2021-10-27T20:14:55.853Z"
   },
   {
    "duration": 39,
    "start_time": "2021-10-27T20:14:55.952Z"
   },
   {
    "duration": 949,
    "start_time": "2021-10-27T20:14:55.993Z"
   },
   {
    "duration": 602,
    "start_time": "2021-10-27T20:14:56.947Z"
   },
   {
    "duration": 796,
    "start_time": "2021-10-27T20:14:57.553Z"
   },
   {
    "duration": 768,
    "start_time": "2021-10-27T20:14:58.352Z"
   },
   {
    "duration": 732,
    "start_time": "2021-10-27T20:14:59.123Z"
   },
   {
    "duration": 1901,
    "start_time": "2021-10-27T20:14:59.858Z"
   },
   {
    "duration": 291,
    "start_time": "2021-10-27T20:15:01.762Z"
   },
   {
    "duration": 895,
    "start_time": "2021-10-27T20:15:02.055Z"
   },
   {
    "duration": 9,
    "start_time": "2021-10-27T20:15:02.952Z"
   },
   {
    "duration": 1276,
    "start_time": "2021-10-27T20:15:02.964Z"
   },
   {
    "duration": 9,
    "start_time": "2021-10-27T20:15:04.243Z"
   },
   {
    "duration": 37,
    "start_time": "2021-10-27T20:15:04.255Z"
   },
   {
    "duration": 15,
    "start_time": "2021-10-27T20:15:04.294Z"
   },
   {
    "duration": 1381,
    "start_time": "2021-10-27T20:15:04.311Z"
   },
   {
    "duration": 10,
    "start_time": "2021-10-27T20:15:05.694Z"
   },
   {
    "duration": 15,
    "start_time": "2021-10-27T20:15:05.707Z"
   },
   {
    "duration": 353,
    "start_time": "2021-10-27T23:31:58.610Z"
   },
   {
    "duration": 1464,
    "start_time": "2021-10-27T23:32:06.409Z"
   },
   {
    "duration": 82,
    "start_time": "2021-10-27T23:32:07.875Z"
   },
   {
    "duration": 30,
    "start_time": "2021-10-27T23:32:07.961Z"
   },
   {
    "duration": 9,
    "start_time": "2021-10-27T23:32:07.994Z"
   },
   {
    "duration": 20,
    "start_time": "2021-10-27T23:32:08.006Z"
   },
   {
    "duration": 57,
    "start_time": "2021-10-27T23:32:08.029Z"
   },
   {
    "duration": 22,
    "start_time": "2021-10-27T23:32:08.089Z"
   },
   {
    "duration": 19,
    "start_time": "2021-10-27T23:32:08.114Z"
   },
   {
    "duration": 57,
    "start_time": "2021-10-27T23:32:08.136Z"
   },
   {
    "duration": 5,
    "start_time": "2021-10-27T23:32:08.196Z"
   },
   {
    "duration": 94,
    "start_time": "2021-10-27T23:32:08.204Z"
   },
   {
    "duration": 949,
    "start_time": "2021-10-27T23:32:08.300Z"
   },
   {
    "duration": 32,
    "start_time": "2021-10-27T23:32:09.251Z"
   },
   {
    "duration": 13,
    "start_time": "2021-10-27T23:32:09.285Z"
   },
   {
    "duration": 34,
    "start_time": "2021-10-27T23:32:09.300Z"
   },
   {
    "duration": 50,
    "start_time": "2021-10-27T23:32:09.337Z"
   },
   {
    "duration": 4137,
    "start_time": "2021-10-27T23:32:09.390Z"
   },
   {
    "duration": 22,
    "start_time": "2021-10-27T23:32:13.529Z"
   },
   {
    "duration": 90,
    "start_time": "2021-10-27T23:32:13.553Z"
   },
   {
    "duration": 44,
    "start_time": "2021-10-27T23:32:13.645Z"
   },
   {
    "duration": 898,
    "start_time": "2021-10-27T23:32:13.691Z"
   },
   {
    "duration": 591,
    "start_time": "2021-10-27T23:32:14.592Z"
   },
   {
    "duration": 794,
    "start_time": "2021-10-27T23:32:15.188Z"
   },
   {
    "duration": 818,
    "start_time": "2021-10-27T23:32:15.984Z"
   },
   {
    "duration": 1285,
    "start_time": "2021-10-27T23:32:16.806Z"
   },
   {
    "duration": 1851,
    "start_time": "2021-10-27T23:32:18.093Z"
   },
   {
    "duration": 285,
    "start_time": "2021-10-27T23:32:19.946Z"
   },
   {
    "duration": 850,
    "start_time": "2021-10-27T23:32:20.234Z"
   },
   {
    "duration": 11,
    "start_time": "2021-10-27T23:32:21.087Z"
   },
   {
    "duration": 1391,
    "start_time": "2021-10-27T23:32:21.100Z"
   },
   {
    "duration": 8,
    "start_time": "2021-10-27T23:32:22.494Z"
   },
   {
    "duration": 11,
    "start_time": "2021-10-27T23:32:22.504Z"
   },
   {
    "duration": 10,
    "start_time": "2021-10-27T23:32:22.517Z"
   },
   {
    "duration": 1258,
    "start_time": "2021-10-27T23:32:22.529Z"
   },
   {
    "duration": 8,
    "start_time": "2021-10-27T23:32:23.789Z"
   },
   {
    "duration": 12,
    "start_time": "2021-10-27T23:32:23.799Z"
   },
   {
    "duration": 1418,
    "start_time": "2021-10-28T00:15:39.764Z"
   },
   {
    "duration": 77,
    "start_time": "2021-10-28T00:15:41.185Z"
   },
   {
    "duration": 25,
    "start_time": "2021-10-28T00:15:41.265Z"
   },
   {
    "duration": 9,
    "start_time": "2021-10-28T00:15:41.293Z"
   },
   {
    "duration": 28,
    "start_time": "2021-10-28T00:15:41.304Z"
   },
   {
    "duration": 49,
    "start_time": "2021-10-28T00:15:41.334Z"
   },
   {
    "duration": 21,
    "start_time": "2021-10-28T00:15:41.386Z"
   },
   {
    "duration": 18,
    "start_time": "2021-10-28T00:15:41.410Z"
   },
   {
    "duration": 56,
    "start_time": "2021-10-28T00:15:41.433Z"
   },
   {
    "duration": 5,
    "start_time": "2021-10-28T00:15:41.492Z"
   },
   {
    "duration": 95,
    "start_time": "2021-10-28T00:15:41.500Z"
   },
   {
    "duration": 941,
    "start_time": "2021-10-28T00:15:41.597Z"
   },
   {
    "duration": 18,
    "start_time": "2021-10-28T00:15:42.541Z"
   },
   {
    "duration": 31,
    "start_time": "2021-10-28T00:15:42.561Z"
   },
   {
    "duration": 35,
    "start_time": "2021-10-28T00:15:42.594Z"
   },
   {
    "duration": 54,
    "start_time": "2021-10-28T00:15:42.631Z"
   },
   {
    "duration": 4041,
    "start_time": "2021-10-28T00:15:42.687Z"
   },
   {
    "duration": 23,
    "start_time": "2021-10-28T00:15:46.730Z"
   },
   {
    "duration": 95,
    "start_time": "2021-10-28T00:15:46.755Z"
   },
   {
    "duration": 47,
    "start_time": "2021-10-28T00:15:46.852Z"
   },
   {
    "duration": 927,
    "start_time": "2021-10-28T00:15:46.902Z"
   },
   {
    "duration": 581,
    "start_time": "2021-10-28T00:15:47.831Z"
   },
   {
    "duration": 777,
    "start_time": "2021-10-28T00:15:48.415Z"
   },
   {
    "duration": 766,
    "start_time": "2021-10-28T00:15:49.194Z"
   },
   {
    "duration": 702,
    "start_time": "2021-10-28T00:15:49.962Z"
   },
   {
    "duration": 1847,
    "start_time": "2021-10-28T00:15:50.667Z"
   },
   {
    "duration": 502,
    "start_time": "2021-10-28T00:15:52.518Z"
   },
   {
    "duration": 921,
    "start_time": "2021-10-28T00:15:53.022Z"
   },
   {
    "duration": 9,
    "start_time": "2021-10-28T00:15:53.945Z"
   },
   {
    "duration": 1218,
    "start_time": "2021-10-28T00:15:53.956Z"
   },
   {
    "duration": 12,
    "start_time": "2021-10-28T00:15:55.176Z"
   },
   {
    "duration": 11,
    "start_time": "2021-10-28T00:15:55.191Z"
   },
   {
    "duration": 9,
    "start_time": "2021-10-28T00:15:55.204Z"
   },
   {
    "duration": 1247,
    "start_time": "2021-10-28T00:15:55.215Z"
   },
   {
    "duration": 19,
    "start_time": "2021-10-28T00:15:56.464Z"
   },
   {
    "duration": 13,
    "start_time": "2021-10-28T00:15:56.485Z"
   },
   {
    "duration": 413,
    "start_time": "2021-10-28T00:18:37.867Z"
   },
   {
    "duration": 303,
    "start_time": "2021-10-28T00:19:09.292Z"
   },
   {
    "duration": 23,
    "start_time": "2021-10-28T00:19:34.451Z"
   },
   {
    "duration": 25,
    "start_time": "2021-10-28T00:20:34.194Z"
   },
   {
    "duration": 24,
    "start_time": "2021-10-28T00:20:45.602Z"
   },
   {
    "duration": 1381,
    "start_time": "2021-10-28T02:14:17.584Z"
   },
   {
    "duration": 94,
    "start_time": "2021-10-28T02:14:18.968Z"
   },
   {
    "duration": 12,
    "start_time": "2021-10-28T02:14:19.065Z"
   },
   {
    "duration": 11,
    "start_time": "2021-10-28T02:14:19.080Z"
   },
   {
    "duration": 22,
    "start_time": "2021-10-28T02:14:19.094Z"
   },
   {
    "duration": 54,
    "start_time": "2021-10-28T02:14:19.119Z"
   },
   {
    "duration": 26,
    "start_time": "2021-10-28T02:14:19.175Z"
   },
   {
    "duration": 18,
    "start_time": "2021-10-28T02:14:19.203Z"
   },
   {
    "duration": 53,
    "start_time": "2021-10-28T02:14:19.225Z"
   },
   {
    "duration": 6,
    "start_time": "2021-10-28T02:14:19.281Z"
   },
   {
    "duration": 108,
    "start_time": "2021-10-28T02:14:19.290Z"
   },
   {
    "duration": 964,
    "start_time": "2021-10-28T02:14:19.401Z"
   },
   {
    "duration": 22,
    "start_time": "2021-10-28T02:14:20.368Z"
   },
   {
    "duration": 15,
    "start_time": "2021-10-28T02:14:20.393Z"
   },
   {
    "duration": 89,
    "start_time": "2021-10-28T02:14:20.412Z"
   },
   {
    "duration": 23,
    "start_time": "2021-10-28T02:14:20.504Z"
   },
   {
    "duration": 4104,
    "start_time": "2021-10-28T02:14:20.529Z"
   },
   {
    "duration": 30,
    "start_time": "2021-10-28T02:14:24.635Z"
   },
   {
    "duration": 68,
    "start_time": "2021-10-28T02:14:24.668Z"
   },
   {
    "duration": 24,
    "start_time": "2021-10-28T02:14:24.758Z"
   },
   {
    "duration": 922,
    "start_time": "2021-10-28T02:14:24.784Z"
   },
   {
    "duration": 590,
    "start_time": "2021-10-28T02:14:25.708Z"
   },
   {
    "duration": 25,
    "start_time": "2021-10-28T02:14:26.300Z"
   },
   {
    "duration": 766,
    "start_time": "2021-10-28T02:14:26.327Z"
   },
   {
    "duration": 23,
    "start_time": "2021-10-28T02:14:27.096Z"
   },
   {
    "duration": 738,
    "start_time": "2021-10-28T02:14:27.122Z"
   },
   {
    "duration": 1864,
    "start_time": "2021-10-28T02:14:27.865Z"
   },
   {
    "duration": 271,
    "start_time": "2021-10-28T02:14:29.732Z"
   },
   {
    "duration": 873,
    "start_time": "2021-10-28T02:14:30.006Z"
   },
   {
    "duration": 10,
    "start_time": "2021-10-28T02:14:30.881Z"
   },
   {
    "duration": 1450,
    "start_time": "2021-10-28T02:14:30.893Z"
   },
   {
    "duration": 15,
    "start_time": "2021-10-28T02:14:32.345Z"
   },
   {
    "duration": 14,
    "start_time": "2021-10-28T02:14:32.363Z"
   },
   {
    "duration": 11,
    "start_time": "2021-10-28T02:14:32.380Z"
   },
   {
    "duration": 1263,
    "start_time": "2021-10-28T02:14:32.394Z"
   },
   {
    "duration": 9,
    "start_time": "2021-10-28T02:14:33.660Z"
   },
   {
    "duration": 13,
    "start_time": "2021-10-28T02:14:33.672Z"
   },
   {
    "duration": 112,
    "start_time": "2021-10-28T02:54:47.484Z"
   },
   {
    "duration": 21,
    "start_time": "2021-10-28T02:57:07.670Z"
   },
   {
    "duration": 22,
    "start_time": "2021-10-28T02:57:20.245Z"
   },
   {
    "duration": 181,
    "start_time": "2021-10-28T03:15:20.001Z"
   },
   {
    "duration": 12,
    "start_time": "2021-10-28T03:27:40.768Z"
   },
   {
    "duration": 12,
    "start_time": "2021-10-28T03:28:40.682Z"
   },
   {
    "duration": 1425,
    "start_time": "2021-10-28T15:44:11.109Z"
   },
   {
    "duration": 97,
    "start_time": "2021-10-28T15:44:12.536Z"
   },
   {
    "duration": 12,
    "start_time": "2021-10-28T15:44:12.636Z"
   },
   {
    "duration": 10,
    "start_time": "2021-10-28T15:44:12.651Z"
   },
   {
    "duration": 59,
    "start_time": "2021-10-28T15:44:12.664Z"
   },
   {
    "duration": 20,
    "start_time": "2021-10-28T15:44:12.725Z"
   },
   {
    "duration": 24,
    "start_time": "2021-10-28T15:44:12.748Z"
   },
   {
    "duration": 53,
    "start_time": "2021-10-28T15:44:12.775Z"
   },
   {
    "duration": 25,
    "start_time": "2021-10-28T15:44:12.831Z"
   },
   {
    "duration": 7,
    "start_time": "2021-10-28T15:44:12.858Z"
   },
   {
    "duration": 110,
    "start_time": "2021-10-28T15:44:12.868Z"
   },
   {
    "duration": 963,
    "start_time": "2021-10-28T15:44:12.981Z"
   },
   {
    "duration": 19,
    "start_time": "2021-10-28T15:44:13.947Z"
   },
   {
    "duration": 14,
    "start_time": "2021-10-28T15:44:13.968Z"
   },
   {
    "duration": 67,
    "start_time": "2021-10-28T15:44:13.984Z"
   },
   {
    "duration": 19,
    "start_time": "2021-10-28T15:44:14.054Z"
   },
   {
    "duration": 4163,
    "start_time": "2021-10-28T15:44:14.075Z"
   },
   {
    "duration": 23,
    "start_time": "2021-10-28T15:44:18.240Z"
   },
   {
    "duration": 97,
    "start_time": "2021-10-28T15:44:18.265Z"
   },
   {
    "duration": 25,
    "start_time": "2021-10-28T15:44:18.364Z"
   },
   {
    "duration": 937,
    "start_time": "2021-10-28T15:44:18.391Z"
   },
   {
    "duration": 577,
    "start_time": "2021-10-28T15:44:19.331Z"
   },
   {
    "duration": 30,
    "start_time": "2021-10-28T15:44:19.913Z"
   },
   {
    "duration": 789,
    "start_time": "2021-10-28T15:44:19.946Z"
   },
   {
    "duration": 24,
    "start_time": "2021-10-28T15:44:20.738Z"
   },
   {
    "duration": 722,
    "start_time": "2021-10-28T15:44:20.765Z"
   },
   {
    "duration": 1868,
    "start_time": "2021-10-28T15:44:21.491Z"
   },
   {
    "duration": 21,
    "start_time": "2021-10-28T15:44:23.362Z"
   },
   {
    "duration": 385,
    "start_time": "2021-10-28T15:44:23.386Z"
   },
   {
    "duration": 910,
    "start_time": "2021-10-28T15:44:23.773Z"
   },
   {
    "duration": 9,
    "start_time": "2021-10-28T15:44:24.686Z"
   },
   {
    "duration": 1589,
    "start_time": "2021-10-28T15:44:24.698Z"
   },
   {
    "duration": 8,
    "start_time": "2021-10-28T15:44:26.289Z"
   },
   {
    "duration": 29,
    "start_time": "2021-10-28T15:44:26.300Z"
   },
   {
    "duration": 74,
    "start_time": "2021-10-28T15:44:26.332Z"
   },
   {
    "duration": 1364,
    "start_time": "2021-10-28T15:44:26.409Z"
   },
   {
    "duration": 11,
    "start_time": "2021-10-28T15:44:27.777Z"
   },
   {
    "duration": 40,
    "start_time": "2021-10-28T15:44:27.791Z"
   },
   {
    "duration": 1352,
    "start_time": "2021-10-28T22:12:50.437Z"
   },
   {
    "duration": 94,
    "start_time": "2021-10-28T22:12:51.792Z"
   },
   {
    "duration": 12,
    "start_time": "2021-10-28T22:12:51.888Z"
   },
   {
    "duration": 10,
    "start_time": "2021-10-28T22:12:51.902Z"
   },
   {
    "duration": 20,
    "start_time": "2021-10-28T22:12:51.914Z"
   },
   {
    "duration": 57,
    "start_time": "2021-10-28T22:12:51.936Z"
   },
   {
    "duration": 23,
    "start_time": "2021-10-28T22:12:51.996Z"
   },
   {
    "duration": 55,
    "start_time": "2021-10-28T22:12:52.026Z"
   },
   {
    "duration": 26,
    "start_time": "2021-10-28T22:12:52.086Z"
   },
   {
    "duration": 5,
    "start_time": "2021-10-28T22:12:52.114Z"
   },
   {
    "duration": 105,
    "start_time": "2021-10-28T22:12:52.121Z"
   },
   {
    "duration": 966,
    "start_time": "2021-10-28T22:12:52.228Z"
   },
   {
    "duration": 19,
    "start_time": "2021-10-28T22:12:53.197Z"
   },
   {
    "duration": 13,
    "start_time": "2021-10-28T22:12:53.218Z"
   },
   {
    "duration": 61,
    "start_time": "2021-10-28T22:12:53.233Z"
   },
   {
    "duration": 18,
    "start_time": "2021-10-28T22:12:53.296Z"
   },
   {
    "duration": 4135,
    "start_time": "2021-10-28T22:12:53.317Z"
   },
   {
    "duration": 37,
    "start_time": "2021-10-28T22:12:57.455Z"
   },
   {
    "duration": 103,
    "start_time": "2021-10-28T22:12:57.495Z"
   },
   {
    "duration": 26,
    "start_time": "2021-10-28T22:12:57.601Z"
   },
   {
    "duration": 943,
    "start_time": "2021-10-28T22:12:57.631Z"
   },
   {
    "duration": 607,
    "start_time": "2021-10-28T22:12:58.582Z"
   },
   {
    "duration": 24,
    "start_time": "2021-10-28T22:12:59.194Z"
   },
   {
    "duration": 785,
    "start_time": "2021-10-28T22:12:59.220Z"
   },
   {
    "duration": 23,
    "start_time": "2021-10-28T22:13:00.008Z"
   },
   {
    "duration": 747,
    "start_time": "2021-10-28T22:13:00.034Z"
   },
   {
    "duration": 2057,
    "start_time": "2021-10-28T22:13:00.784Z"
   },
   {
    "duration": 38,
    "start_time": "2021-10-28T22:13:02.844Z"
   },
   {
    "duration": 271,
    "start_time": "2021-10-28T22:13:02.884Z"
   },
   {
    "duration": 755,
    "start_time": "2021-10-28T22:13:03.157Z"
   },
   {
    "duration": 10,
    "start_time": "2021-10-28T22:13:03.914Z"
   },
   {
    "duration": 1786,
    "start_time": "2021-10-28T22:13:03.927Z"
   },
   {
    "duration": 9,
    "start_time": "2021-10-28T22:13:05.715Z"
   },
   {
    "duration": 12,
    "start_time": "2021-10-28T22:13:05.727Z"
   },
   {
    "duration": 45,
    "start_time": "2021-10-28T22:13:05.741Z"
   },
   {
    "duration": 1722,
    "start_time": "2021-10-28T22:13:05.788Z"
   },
   {
    "duration": 9,
    "start_time": "2021-10-28T22:13:07.512Z"
   },
   {
    "duration": 66,
    "start_time": "2021-10-28T22:13:07.524Z"
   },
   {
    "duration": 25,
    "start_time": "2021-10-28T22:15:04.269Z"
   },
   {
    "duration": 754,
    "start_time": "2021-10-28T22:25:25.324Z"
   },
   {
    "duration": 424,
    "start_time": "2021-10-28T22:26:44.473Z"
   },
   {
    "duration": 27,
    "start_time": "2021-10-28T22:26:58.363Z"
   },
   {
    "duration": 32,
    "start_time": "2021-10-28T22:27:03.095Z"
   },
   {
    "duration": 97,
    "start_time": "2021-10-28T22:29:44.054Z"
   },
   {
    "duration": 945,
    "start_time": "2021-10-29T00:23:19.219Z"
   },
   {
    "duration": 909,
    "start_time": "2021-10-29T00:23:41.575Z"
   },
   {
    "duration": 936,
    "start_time": "2021-10-29T00:23:48.773Z"
   },
   {
    "duration": 877,
    "start_time": "2021-10-29T00:24:07.262Z"
   },
   {
    "duration": 865,
    "start_time": "2021-10-29T00:24:31.846Z"
   },
   {
    "duration": 814,
    "start_time": "2021-10-29T00:24:40.178Z"
   },
   {
    "duration": 778,
    "start_time": "2021-10-29T00:25:03.189Z"
   },
   {
    "duration": 1384,
    "start_time": "2021-10-29T00:26:24.063Z"
   },
   {
    "duration": 809,
    "start_time": "2021-10-29T00:26:34.973Z"
   },
   {
    "duration": 6603,
    "start_time": "2021-10-29T00:30:23.037Z"
   },
   {
    "duration": 1377,
    "start_time": "2021-10-29T00:30:35.612Z"
   },
   {
    "duration": 95,
    "start_time": "2021-10-29T00:30:36.992Z"
   },
   {
    "duration": 16,
    "start_time": "2021-10-29T00:30:37.091Z"
   },
   {
    "duration": 9,
    "start_time": "2021-10-29T00:30:37.110Z"
   },
   {
    "duration": 60,
    "start_time": "2021-10-29T00:30:37.122Z"
   },
   {
    "duration": 19,
    "start_time": "2021-10-29T00:30:37.184Z"
   },
   {
    "duration": 20,
    "start_time": "2021-10-29T00:30:37.205Z"
   },
   {
    "duration": 17,
    "start_time": "2021-10-29T00:30:37.228Z"
   },
   {
    "duration": 6680,
    "start_time": "2021-10-29T00:30:37.281Z"
   },
   {
    "duration": -850,
    "start_time": "2021-10-29T00:30:44.815Z"
   },
   {
    "duration": -853,
    "start_time": "2021-10-29T00:30:44.819Z"
   },
   {
    "duration": -855,
    "start_time": "2021-10-29T00:30:44.823Z"
   },
   {
    "duration": -858,
    "start_time": "2021-10-29T00:30:44.827Z"
   },
   {
    "duration": -861,
    "start_time": "2021-10-29T00:30:44.831Z"
   },
   {
    "duration": -863,
    "start_time": "2021-10-29T00:30:44.835Z"
   },
   {
    "duration": -866,
    "start_time": "2021-10-29T00:30:44.839Z"
   },
   {
    "duration": -869,
    "start_time": "2021-10-29T00:30:44.843Z"
   },
   {
    "duration": -872,
    "start_time": "2021-10-29T00:30:44.847Z"
   },
   {
    "duration": -875,
    "start_time": "2021-10-29T00:30:44.851Z"
   },
   {
    "duration": -877,
    "start_time": "2021-10-29T00:30:44.855Z"
   },
   {
    "duration": -1109,
    "start_time": "2021-10-29T00:30:45.088Z"
   },
   {
    "duration": -1111,
    "start_time": "2021-10-29T00:30:45.092Z"
   },
   {
    "duration": -1114,
    "start_time": "2021-10-29T00:30:45.096Z"
   },
   {
    "duration": -1118,
    "start_time": "2021-10-29T00:30:45.101Z"
   },
   {
    "duration": -1120,
    "start_time": "2021-10-29T00:30:45.104Z"
   },
   {
    "duration": -1124,
    "start_time": "2021-10-29T00:30:45.109Z"
   },
   {
    "duration": -1126,
    "start_time": "2021-10-29T00:30:45.113Z"
   },
   {
    "duration": -1130,
    "start_time": "2021-10-29T00:30:45.118Z"
   },
   {
    "duration": -1132,
    "start_time": "2021-10-29T00:30:45.121Z"
   },
   {
    "duration": -1135,
    "start_time": "2021-10-29T00:30:45.125Z"
   },
   {
    "duration": -1136,
    "start_time": "2021-10-29T00:30:45.128Z"
   },
   {
    "duration": -1141,
    "start_time": "2021-10-29T00:30:45.134Z"
   },
   {
    "duration": -1143,
    "start_time": "2021-10-29T00:30:45.137Z"
   },
   {
    "duration": -1147,
    "start_time": "2021-10-29T00:30:45.142Z"
   },
   {
    "duration": -1315,
    "start_time": "2021-10-29T00:30:45.312Z"
   },
   {
    "duration": -1319,
    "start_time": "2021-10-29T00:30:45.317Z"
   },
   {
    "duration": -1322,
    "start_time": "2021-10-29T00:30:45.321Z"
   },
   {
    "duration": -1324,
    "start_time": "2021-10-29T00:30:45.325Z"
   },
   {
    "duration": -1326,
    "start_time": "2021-10-29T00:30:45.328Z"
   },
   {
    "duration": -1330,
    "start_time": "2021-10-29T00:30:45.333Z"
   },
   {
    "duration": 1417,
    "start_time": "2021-10-29T00:32:18.872Z"
   },
   {
    "duration": 92,
    "start_time": "2021-10-29T00:32:20.292Z"
   },
   {
    "duration": 17,
    "start_time": "2021-10-29T00:32:20.387Z"
   },
   {
    "duration": 10,
    "start_time": "2021-10-29T00:32:20.407Z"
   },
   {
    "duration": 26,
    "start_time": "2021-10-29T00:32:20.419Z"
   },
   {
    "duration": 54,
    "start_time": "2021-10-29T00:32:20.448Z"
   },
   {
    "duration": 22,
    "start_time": "2021-10-29T00:32:20.505Z"
   },
   {
    "duration": 18,
    "start_time": "2021-10-29T00:32:20.531Z"
   },
   {
    "duration": 7021,
    "start_time": "2021-10-29T00:32:20.582Z"
   },
   {
    "duration": -9243,
    "start_time": "2021-10-29T00:32:36.849Z"
   },
   {
    "duration": -9422,
    "start_time": "2021-10-29T00:32:37.030Z"
   },
   {
    "duration": -9429,
    "start_time": "2021-10-29T00:32:37.038Z"
   },
   {
    "duration": -9437,
    "start_time": "2021-10-29T00:32:37.047Z"
   },
   {
    "duration": -9445,
    "start_time": "2021-10-29T00:32:37.057Z"
   },
   {
    "duration": -9456,
    "start_time": "2021-10-29T00:32:37.069Z"
   },
   {
    "duration": -9458,
    "start_time": "2021-10-29T00:32:37.073Z"
   },
   {
    "duration": -9461,
    "start_time": "2021-10-29T00:32:37.077Z"
   },
   {
    "duration": -9463,
    "start_time": "2021-10-29T00:32:37.081Z"
   },
   {
    "duration": -9652,
    "start_time": "2021-10-29T00:32:37.271Z"
   },
   {
    "duration": -9654,
    "start_time": "2021-10-29T00:32:37.275Z"
   },
   {
    "duration": -9668,
    "start_time": "2021-10-29T00:32:37.290Z"
   },
   {
    "duration": -9672,
    "start_time": "2021-10-29T00:32:37.296Z"
   },
   {
    "duration": -9679,
    "start_time": "2021-10-29T00:32:37.304Z"
   },
   {
    "duration": -9681,
    "start_time": "2021-10-29T00:32:37.308Z"
   },
   {
    "duration": -9716,
    "start_time": "2021-10-29T00:32:37.344Z"
   },
   {
    "duration": -9727,
    "start_time": "2021-10-29T00:32:37.357Z"
   },
   {
    "duration": -9730,
    "start_time": "2021-10-29T00:32:37.361Z"
   },
   {
    "duration": -9865,
    "start_time": "2021-10-29T00:32:37.497Z"
   },
   {
    "duration": -9873,
    "start_time": "2021-10-29T00:32:37.507Z"
   },
   {
    "duration": -9884,
    "start_time": "2021-10-29T00:32:37.520Z"
   },
   {
    "duration": -9887,
    "start_time": "2021-10-29T00:32:37.525Z"
   },
   {
    "duration": -9892,
    "start_time": "2021-10-29T00:32:37.534Z"
   },
   {
    "duration": -9893,
    "start_time": "2021-10-29T00:32:37.537Z"
   },
   {
    "duration": -9886,
    "start_time": "2021-10-29T00:32:37.568Z"
   },
   {
    "duration": -9887,
    "start_time": "2021-10-29T00:32:37.571Z"
   },
   {
    "duration": -10032,
    "start_time": "2021-10-29T00:32:37.718Z"
   },
   {
    "duration": -10035,
    "start_time": "2021-10-29T00:32:37.723Z"
   },
   {
    "duration": -10063,
    "start_time": "2021-10-29T00:32:37.753Z"
   },
   {
    "duration": -10063,
    "start_time": "2021-10-29T00:32:37.756Z"
   },
   {
    "duration": -10068,
    "start_time": "2021-10-29T00:32:37.762Z"
   },
   {
    "duration": 1509,
    "start_time": "2021-10-29T00:33:01.373Z"
   },
   {
    "duration": 98,
    "start_time": "2021-10-29T00:33:02.885Z"
   },
   {
    "duration": 14,
    "start_time": "2021-10-29T00:33:02.986Z"
   },
   {
    "duration": 12,
    "start_time": "2021-10-29T00:33:03.003Z"
   },
   {
    "duration": 31,
    "start_time": "2021-10-29T00:33:03.017Z"
   },
   {
    "duration": 46,
    "start_time": "2021-10-29T00:33:03.050Z"
   },
   {
    "duration": 20,
    "start_time": "2021-10-29T00:33:03.099Z"
   },
   {
    "duration": 18,
    "start_time": "2021-10-29T00:33:03.123Z"
   },
   {
    "duration": 42,
    "start_time": "2021-10-29T00:33:03.144Z"
   },
   {
    "duration": 26,
    "start_time": "2021-10-29T00:33:03.188Z"
   },
   {
    "duration": 5,
    "start_time": "2021-10-29T00:33:03.216Z"
   },
   {
    "duration": 100,
    "start_time": "2021-10-29T00:33:03.223Z"
   },
   {
    "duration": 944,
    "start_time": "2021-10-29T00:33:03.326Z"
   },
   {
    "duration": 24,
    "start_time": "2021-10-29T00:33:04.272Z"
   },
   {
    "duration": 13,
    "start_time": "2021-10-29T00:33:04.298Z"
   },
   {
    "duration": 70,
    "start_time": "2021-10-29T00:33:04.313Z"
   },
   {
    "duration": 18,
    "start_time": "2021-10-29T00:33:04.385Z"
   },
   {
    "duration": 4124,
    "start_time": "2021-10-29T00:33:04.405Z"
   },
   {
    "duration": 23,
    "start_time": "2021-10-29T00:33:08.532Z"
   },
   {
    "duration": 90,
    "start_time": "2021-10-29T00:33:08.557Z"
   },
   {
    "duration": 49,
    "start_time": "2021-10-29T00:33:08.650Z"
   },
   {
    "duration": 1049,
    "start_time": "2021-10-29T00:33:08.701Z"
   },
   {
    "duration": 580,
    "start_time": "2021-10-29T00:33:09.755Z"
   },
   {
    "duration": 23,
    "start_time": "2021-10-29T00:33:10.338Z"
   },
   {
    "duration": 770,
    "start_time": "2021-10-29T00:33:10.363Z"
   },
   {
    "duration": 28,
    "start_time": "2021-10-29T00:33:11.135Z"
   },
   {
    "duration": 764,
    "start_time": "2021-10-29T00:33:11.165Z"
   },
   {
    "duration": 715,
    "start_time": "2021-10-29T00:33:11.931Z"
   },
   {
    "duration": 1813,
    "start_time": "2021-10-29T00:33:12.648Z"
   },
   {
    "duration": 35,
    "start_time": "2021-10-29T00:33:14.463Z"
   },
   {
    "duration": 284,
    "start_time": "2021-10-29T00:33:14.500Z"
   },
   {
    "duration": 977,
    "start_time": "2021-10-29T00:33:14.787Z"
   },
   {
    "duration": 15,
    "start_time": "2021-10-29T00:33:15.767Z"
   },
   {
    "duration": 835,
    "start_time": "2021-10-29T00:33:15.785Z"
   },
   {
    "duration": 8,
    "start_time": "2021-10-29T00:33:16.622Z"
   },
   {
    "duration": 19,
    "start_time": "2021-10-29T00:33:16.632Z"
   },
   {
    "duration": 34,
    "start_time": "2021-10-29T00:33:16.654Z"
   },
   {
    "duration": 778,
    "start_time": "2021-10-29T00:33:16.691Z"
   },
   {
    "duration": 17,
    "start_time": "2021-10-29T00:33:17.471Z"
   },
   {
    "duration": 14,
    "start_time": "2021-10-29T00:33:17.491Z"
   },
   {
    "duration": 15,
    "start_time": "2021-10-29T00:54:41.380Z"
   },
   {
    "duration": 1421,
    "start_time": "2021-10-29T01:06:18.964Z"
   },
   {
    "duration": 81,
    "start_time": "2021-10-29T01:06:20.387Z"
   },
   {
    "duration": 16,
    "start_time": "2021-10-29T01:06:20.482Z"
   },
   {
    "duration": 9,
    "start_time": "2021-10-29T01:06:20.501Z"
   },
   {
    "duration": 19,
    "start_time": "2021-10-29T01:06:20.513Z"
   },
   {
    "duration": 61,
    "start_time": "2021-10-29T01:06:20.535Z"
   },
   {
    "duration": 22,
    "start_time": "2021-10-29T01:06:20.599Z"
   },
   {
    "duration": 17,
    "start_time": "2021-10-29T01:06:20.625Z"
   },
   {
    "duration": 42,
    "start_time": "2021-10-29T01:06:20.646Z"
   },
   {
    "duration": 24,
    "start_time": "2021-10-29T01:06:20.691Z"
   },
   {
    "duration": 4,
    "start_time": "2021-10-29T01:06:20.718Z"
   },
   {
    "duration": 105,
    "start_time": "2021-10-29T01:06:20.725Z"
   },
   {
    "duration": 923,
    "start_time": "2021-10-29T01:06:20.833Z"
   },
   {
    "duration": 26,
    "start_time": "2021-10-29T01:06:21.759Z"
   },
   {
    "duration": 16,
    "start_time": "2021-10-29T01:06:21.788Z"
   },
   {
    "duration": 34,
    "start_time": "2021-10-29T01:06:21.806Z"
   },
   {
    "duration": 55,
    "start_time": "2021-10-29T01:06:21.842Z"
   },
   {
    "duration": 4414,
    "start_time": "2021-10-29T01:06:21.899Z"
   },
   {
    "duration": 23,
    "start_time": "2021-10-29T01:06:26.316Z"
   },
   {
    "duration": 401,
    "start_time": "2021-10-29T01:06:26.342Z"
   },
   {
    "duration": -616,
    "start_time": "2021-10-29T01:06:27.362Z"
   },
   {
    "duration": -618,
    "start_time": "2021-10-29T01:06:27.366Z"
   },
   {
    "duration": -622,
    "start_time": "2021-10-29T01:06:27.371Z"
   },
   {
    "duration": -623,
    "start_time": "2021-10-29T01:06:27.374Z"
   },
   {
    "duration": -626,
    "start_time": "2021-10-29T01:06:27.378Z"
   },
   {
    "duration": -627,
    "start_time": "2021-10-29T01:06:27.381Z"
   },
   {
    "duration": -631,
    "start_time": "2021-10-29T01:06:27.386Z"
   },
   {
    "duration": -632,
    "start_time": "2021-10-29T01:06:27.389Z"
   },
   {
    "duration": -635,
    "start_time": "2021-10-29T01:06:27.393Z"
   },
   {
    "duration": -637,
    "start_time": "2021-10-29T01:06:27.396Z"
   },
   {
    "duration": -641,
    "start_time": "2021-10-29T01:06:27.401Z"
   },
   {
    "duration": -643,
    "start_time": "2021-10-29T01:06:27.404Z"
   },
   {
    "duration": -646,
    "start_time": "2021-10-29T01:06:27.408Z"
   },
   {
    "duration": -647,
    "start_time": "2021-10-29T01:06:27.411Z"
   },
   {
    "duration": -650,
    "start_time": "2021-10-29T01:06:27.415Z"
   },
   {
    "duration": -781,
    "start_time": "2021-10-29T01:06:27.547Z"
   },
   {
    "duration": -792,
    "start_time": "2021-10-29T01:06:27.559Z"
   },
   {
    "duration": -795,
    "start_time": "2021-10-29T01:06:27.563Z"
   },
   {
    "duration": -797,
    "start_time": "2021-10-29T01:06:27.566Z"
   },
   {
    "duration": -807,
    "start_time": "2021-10-29T01:06:27.578Z"
   },
   {
    "duration": -810,
    "start_time": "2021-10-29T01:06:27.582Z"
   },
   {
    "duration": 11,
    "start_time": "2021-10-29T01:16:15.209Z"
   },
   {
    "duration": 110,
    "start_time": "2021-10-29T01:18:42.558Z"
   },
   {
    "duration": 7150,
    "start_time": "2021-10-29T01:18:53.202Z"
   },
   {
    "duration": 23,
    "start_time": "2021-10-29T01:21:31.570Z"
   },
   {
    "duration": 23,
    "start_time": "2021-10-29T01:21:35.993Z"
   },
   {
    "duration": 52,
    "start_time": "2021-10-29T01:21:46.181Z"
   },
   {
    "duration": 299,
    "start_time": "2021-10-29T01:24:31.180Z"
   },
   {
    "duration": 50,
    "start_time": "2021-10-29T01:25:00.429Z"
   },
   {
    "duration": 119,
    "start_time": "2021-10-29T01:37:41.319Z"
   },
   {
    "duration": 336,
    "start_time": "2021-10-29T01:37:46.641Z"
   },
   {
    "duration": 282,
    "start_time": "2021-10-29T01:37:59.019Z"
   },
   {
    "duration": 291,
    "start_time": "2021-10-29T01:43:04.781Z"
   },
   {
    "duration": 89,
    "start_time": "2021-10-29T01:50:53.967Z"
   },
   {
    "duration": 461,
    "start_time": "2021-10-29T01:52:21.437Z"
   },
   {
    "duration": 1385,
    "start_time": "2021-10-29T01:52:35.299Z"
   },
   {
    "duration": 95,
    "start_time": "2021-10-29T01:52:36.687Z"
   },
   {
    "duration": 15,
    "start_time": "2021-10-29T01:52:36.786Z"
   },
   {
    "duration": 10,
    "start_time": "2021-10-29T01:52:36.804Z"
   },
   {
    "duration": 21,
    "start_time": "2021-10-29T01:52:36.816Z"
   },
   {
    "duration": 53,
    "start_time": "2021-10-29T01:52:36.840Z"
   },
   {
    "duration": 27,
    "start_time": "2021-10-29T01:52:36.896Z"
   },
   {
    "duration": 18,
    "start_time": "2021-10-29T01:52:36.925Z"
   },
   {
    "duration": 42,
    "start_time": "2021-10-29T01:52:36.947Z"
   },
   {
    "duration": 25,
    "start_time": "2021-10-29T01:52:36.992Z"
   },
   {
    "duration": 5,
    "start_time": "2021-10-29T01:52:37.020Z"
   },
   {
    "duration": 105,
    "start_time": "2021-10-29T01:52:37.027Z"
   },
   {
    "duration": 941,
    "start_time": "2021-10-29T01:52:37.135Z"
   },
   {
    "duration": 18,
    "start_time": "2021-10-29T01:52:38.083Z"
   },
   {
    "duration": 13,
    "start_time": "2021-10-29T01:52:38.104Z"
   },
   {
    "duration": 65,
    "start_time": "2021-10-29T01:52:38.120Z"
   },
   {
    "duration": 19,
    "start_time": "2021-10-29T01:52:38.187Z"
   },
   {
    "duration": 4076,
    "start_time": "2021-10-29T01:52:38.208Z"
   },
   {
    "duration": 22,
    "start_time": "2021-10-29T01:52:42.287Z"
   },
   {
    "duration": 571,
    "start_time": "2021-10-29T01:52:42.311Z"
   },
   {
    "duration": -699,
    "start_time": "2021-10-29T01:52:43.584Z"
   },
   {
    "duration": -703,
    "start_time": "2021-10-29T01:52:43.589Z"
   },
   {
    "duration": -706,
    "start_time": "2021-10-29T01:52:43.593Z"
   },
   {
    "duration": -708,
    "start_time": "2021-10-29T01:52:43.597Z"
   },
   {
    "duration": -712,
    "start_time": "2021-10-29T01:52:43.602Z"
   },
   {
    "duration": -716,
    "start_time": "2021-10-29T01:52:43.607Z"
   },
   {
    "duration": -720,
    "start_time": "2021-10-29T01:52:43.612Z"
   },
   {
    "duration": -722,
    "start_time": "2021-10-29T01:52:43.616Z"
   },
   {
    "duration": -733,
    "start_time": "2021-10-29T01:52:43.628Z"
   },
   {
    "duration": -736,
    "start_time": "2021-10-29T01:52:43.632Z"
   },
   {
    "duration": -869,
    "start_time": "2021-10-29T01:52:43.766Z"
   },
   {
    "duration": -931,
    "start_time": "2021-10-29T01:52:43.829Z"
   },
   {
    "duration": -973,
    "start_time": "2021-10-29T01:52:43.873Z"
   },
   {
    "duration": -976,
    "start_time": "2021-10-29T01:52:43.877Z"
   },
   {
    "duration": -980,
    "start_time": "2021-10-29T01:52:43.882Z"
   },
   {
    "duration": -984,
    "start_time": "2021-10-29T01:52:43.887Z"
   },
   {
    "duration": -988,
    "start_time": "2021-10-29T01:52:43.892Z"
   },
   {
    "duration": -990,
    "start_time": "2021-10-29T01:52:43.896Z"
   },
   {
    "duration": -993,
    "start_time": "2021-10-29T01:52:43.900Z"
   },
   {
    "duration": -997,
    "start_time": "2021-10-29T01:52:43.905Z"
   },
   {
    "duration": -1001,
    "start_time": "2021-10-29T01:52:43.910Z"
   },
   {
    "duration": 1363,
    "start_time": "2021-10-29T01:53:52.812Z"
   },
   {
    "duration": 78,
    "start_time": "2021-10-29T01:53:54.178Z"
   },
   {
    "duration": 30,
    "start_time": "2021-10-29T01:53:54.259Z"
   },
   {
    "duration": 10,
    "start_time": "2021-10-29T01:53:54.292Z"
   },
   {
    "duration": 21,
    "start_time": "2021-10-29T01:53:54.304Z"
   },
   {
    "duration": 58,
    "start_time": "2021-10-29T01:53:54.327Z"
   },
   {
    "duration": 22,
    "start_time": "2021-10-29T01:53:54.387Z"
   },
   {
    "duration": 17,
    "start_time": "2021-10-29T01:53:54.413Z"
   },
   {
    "duration": 8,
    "start_time": "2021-10-29T01:53:54.434Z"
   },
   {
    "duration": 61,
    "start_time": "2021-10-29T01:53:54.444Z"
   },
   {
    "duration": 5,
    "start_time": "2021-10-29T01:53:54.508Z"
   },
   {
    "duration": 100,
    "start_time": "2021-10-29T01:53:54.515Z"
   },
   {
    "duration": 927,
    "start_time": "2021-10-29T01:53:54.617Z"
   },
   {
    "duration": 19,
    "start_time": "2021-10-29T01:53:55.547Z"
   },
   {
    "duration": 14,
    "start_time": "2021-10-29T01:53:55.582Z"
   },
   {
    "duration": 33,
    "start_time": "2021-10-29T01:53:55.598Z"
   },
   {
    "duration": 51,
    "start_time": "2021-10-29T01:53:55.633Z"
   },
   {
    "duration": 4206,
    "start_time": "2021-10-29T01:53:55.686Z"
   },
   {
    "duration": 23,
    "start_time": "2021-10-29T01:53:59.895Z"
   },
   {
    "duration": 199,
    "start_time": "2021-10-29T01:53:59.921Z"
   },
   {
    "duration": 93,
    "start_time": "2021-10-29T01:54:00.123Z"
   },
   {
    "duration": 25,
    "start_time": "2021-10-29T01:54:00.218Z"
   },
   {
    "duration": 1069,
    "start_time": "2021-10-29T01:54:00.248Z"
   },
   {
    "duration": 830,
    "start_time": "2021-10-29T01:54:01.320Z"
   },
   {
    "duration": 33,
    "start_time": "2021-10-29T01:54:02.152Z"
   },
   {
    "duration": 1227,
    "start_time": "2021-10-29T01:54:02.187Z"
   },
   {
    "duration": 29,
    "start_time": "2021-10-29T01:54:03.416Z"
   },
   {
    "duration": 828,
    "start_time": "2021-10-29T01:54:03.447Z"
   },
   {
    "duration": 711,
    "start_time": "2021-10-29T01:54:04.277Z"
   },
   {
    "duration": 1839,
    "start_time": "2021-10-29T01:54:04.990Z"
   },
   {
    "duration": 22,
    "start_time": "2021-10-29T01:54:06.832Z"
   },
   {
    "duration": 290,
    "start_time": "2021-10-29T01:54:06.857Z"
   },
   {
    "duration": 881,
    "start_time": "2021-10-29T01:54:07.149Z"
   },
   {
    "duration": 9,
    "start_time": "2021-10-29T01:54:08.032Z"
   },
   {
    "duration": 796,
    "start_time": "2021-10-29T01:54:08.044Z"
   },
   {
    "duration": 9,
    "start_time": "2021-10-29T01:54:08.842Z"
   },
   {
    "duration": 36,
    "start_time": "2021-10-29T01:54:08.854Z"
   },
   {
    "duration": 10,
    "start_time": "2021-10-29T01:54:08.893Z"
   },
   {
    "duration": 783,
    "start_time": "2021-10-29T01:54:08.906Z"
   },
   {
    "duration": 9,
    "start_time": "2021-10-29T01:54:09.692Z"
   },
   {
    "duration": 12,
    "start_time": "2021-10-29T01:54:09.703Z"
   },
   {
    "duration": 3998,
    "start_time": "2021-10-29T01:57:06.230Z"
   },
   {
    "duration": 171,
    "start_time": "2021-10-29T02:00:16.579Z"
   },
   {
    "duration": 173,
    "start_time": "2021-10-29T02:02:16.743Z"
   },
   {
    "duration": 179,
    "start_time": "2021-10-29T02:04:20.250Z"
   },
   {
    "duration": 173,
    "start_time": "2021-10-29T02:04:30.029Z"
   },
   {
    "duration": 175,
    "start_time": "2021-10-29T02:06:27.308Z"
   },
   {
    "duration": 174,
    "start_time": "2021-10-29T02:06:51.420Z"
   },
   {
    "duration": 188,
    "start_time": "2021-10-29T02:08:05.578Z"
   },
   {
    "duration": 213,
    "start_time": "2021-10-29T02:11:13.700Z"
   },
   {
    "duration": 423,
    "start_time": "2021-10-29T02:15:45.465Z"
   },
   {
    "duration": 1348,
    "start_time": "2021-10-29T02:16:42.436Z"
   },
   {
    "duration": 79,
    "start_time": "2021-10-29T02:16:43.786Z"
   },
   {
    "duration": 26,
    "start_time": "2021-10-29T02:16:43.868Z"
   },
   {
    "duration": 9,
    "start_time": "2021-10-29T02:16:43.897Z"
   },
   {
    "duration": 24,
    "start_time": "2021-10-29T02:16:43.909Z"
   },
   {
    "duration": 60,
    "start_time": "2021-10-29T02:16:43.936Z"
   },
   {
    "duration": 27,
    "start_time": "2021-10-29T02:16:43.999Z"
   },
   {
    "duration": 18,
    "start_time": "2021-10-29T02:16:44.030Z"
   },
   {
    "duration": 35,
    "start_time": "2021-10-29T02:16:44.051Z"
   },
   {
    "duration": 24,
    "start_time": "2021-10-29T02:16:44.089Z"
   },
   {
    "duration": 6,
    "start_time": "2021-10-29T02:16:44.115Z"
   },
   {
    "duration": 105,
    "start_time": "2021-10-29T02:16:44.123Z"
   },
   {
    "duration": 940,
    "start_time": "2021-10-29T02:16:44.231Z"
   },
   {
    "duration": 19,
    "start_time": "2021-10-29T02:16:45.181Z"
   },
   {
    "duration": 13,
    "start_time": "2021-10-29T02:16:45.203Z"
   },
   {
    "duration": 65,
    "start_time": "2021-10-29T02:16:45.219Z"
   },
   {
    "duration": 20,
    "start_time": "2021-10-29T02:16:45.286Z"
   },
   {
    "duration": 4416,
    "start_time": "2021-10-29T02:16:45.308Z"
   },
   {
    "duration": 22,
    "start_time": "2021-10-29T02:16:49.727Z"
   },
   {
    "duration": 407,
    "start_time": "2021-10-29T02:16:49.751Z"
   },
   {
    "duration": -584,
    "start_time": "2021-10-29T02:16:50.746Z"
   },
   {
    "duration": -586,
    "start_time": "2021-10-29T02:16:50.749Z"
   },
   {
    "duration": -771,
    "start_time": "2021-10-29T02:16:50.936Z"
   },
   {
    "duration": -783,
    "start_time": "2021-10-29T02:16:50.950Z"
   },
   {
    "duration": -792,
    "start_time": "2021-10-29T02:16:50.960Z"
   },
   {
    "duration": -794,
    "start_time": "2021-10-29T02:16:50.963Z"
   },
   {
    "duration": -798,
    "start_time": "2021-10-29T02:16:50.968Z"
   },
   {
    "duration": -801,
    "start_time": "2021-10-29T02:16:50.972Z"
   },
   {
    "duration": -802,
    "start_time": "2021-10-29T02:16:50.975Z"
   },
   {
    "duration": -805,
    "start_time": "2021-10-29T02:16:50.979Z"
   },
   {
    "duration": -809,
    "start_time": "2021-10-29T02:16:50.984Z"
   },
   {
    "duration": -811,
    "start_time": "2021-10-29T02:16:50.987Z"
   },
   {
    "duration": -814,
    "start_time": "2021-10-29T02:16:50.991Z"
   },
   {
    "duration": -816,
    "start_time": "2021-10-29T02:16:50.995Z"
   },
   {
    "duration": -821,
    "start_time": "2021-10-29T02:16:51.001Z"
   },
   {
    "duration": -824,
    "start_time": "2021-10-29T02:16:51.005Z"
   },
   {
    "duration": -827,
    "start_time": "2021-10-29T02:16:51.009Z"
   },
   {
    "duration": -829,
    "start_time": "2021-10-29T02:16:51.012Z"
   },
   {
    "duration": -833,
    "start_time": "2021-10-29T02:16:51.018Z"
   },
   {
    "duration": -835,
    "start_time": "2021-10-29T02:16:51.022Z"
   },
   {
    "duration": -838,
    "start_time": "2021-10-29T02:16:51.026Z"
   },
   {
    "duration": -841,
    "start_time": "2021-10-29T02:16:51.030Z"
   },
   {
    "duration": 1461,
    "start_time": "2021-10-29T02:17:56.151Z"
   },
   {
    "duration": 188,
    "start_time": "2021-10-29T02:17:57.614Z"
   },
   {
    "duration": 14,
    "start_time": "2021-10-29T02:17:57.805Z"
   },
   {
    "duration": 62,
    "start_time": "2021-10-29T02:17:57.821Z"
   },
   {
    "duration": 20,
    "start_time": "2021-10-29T02:17:57.886Z"
   },
   {
    "duration": 74,
    "start_time": "2021-10-29T02:17:57.908Z"
   },
   {
    "duration": 21,
    "start_time": "2021-10-29T02:17:57.985Z"
   },
   {
    "duration": 19,
    "start_time": "2021-10-29T02:17:58.010Z"
   },
   {
    "duration": 10,
    "start_time": "2021-10-29T02:17:58.083Z"
   },
   {
    "duration": 24,
    "start_time": "2021-10-29T02:17:58.095Z"
   },
   {
    "duration": 60,
    "start_time": "2021-10-29T02:17:58.122Z"
   },
   {
    "duration": 129,
    "start_time": "2021-10-29T02:17:58.185Z"
   },
   {
    "duration": 987,
    "start_time": "2021-10-29T02:17:58.316Z"
   },
   {
    "duration": 19,
    "start_time": "2021-10-29T02:17:59.305Z"
   },
   {
    "duration": 13,
    "start_time": "2021-10-29T02:17:59.327Z"
   },
   {
    "duration": 66,
    "start_time": "2021-10-29T02:17:59.342Z"
   },
   {
    "duration": 18,
    "start_time": "2021-10-29T02:17:59.410Z"
   },
   {
    "duration": 4126,
    "start_time": "2021-10-29T02:17:59.431Z"
   },
   {
    "duration": 37,
    "start_time": "2021-10-29T02:18:03.559Z"
   },
   {
    "duration": 11,
    "start_time": "2021-10-29T02:18:03.598Z"
   },
   {
    "duration": 236,
    "start_time": "2021-10-29T02:18:03.611Z"
   },
   {
    "duration": 91,
    "start_time": "2021-10-29T02:18:03.849Z"
   },
   {
    "duration": 46,
    "start_time": "2021-10-29T02:18:03.945Z"
   },
   {
    "duration": 924,
    "start_time": "2021-10-29T02:18:03.994Z"
   },
   {
    "duration": 600,
    "start_time": "2021-10-29T02:18:04.921Z"
   },
   {
    "duration": 25,
    "start_time": "2021-10-29T02:18:05.523Z"
   },
   {
    "duration": 886,
    "start_time": "2021-10-29T02:18:05.550Z"
   },
   {
    "duration": 46,
    "start_time": "2021-10-29T02:18:06.438Z"
   },
   {
    "duration": 776,
    "start_time": "2021-10-29T02:18:06.486Z"
   },
   {
    "duration": 713,
    "start_time": "2021-10-29T02:18:07.265Z"
   },
   {
    "duration": 1830,
    "start_time": "2021-10-29T02:18:07.982Z"
   },
   {
    "duration": 22,
    "start_time": "2021-10-29T02:18:09.814Z"
   },
   {
    "duration": 290,
    "start_time": "2021-10-29T02:18:09.838Z"
   },
   {
    "duration": 854,
    "start_time": "2021-10-29T02:18:10.130Z"
   },
   {
    "duration": 10,
    "start_time": "2021-10-29T02:18:10.986Z"
   },
   {
    "duration": 807,
    "start_time": "2021-10-29T02:18:10.998Z"
   },
   {
    "duration": 9,
    "start_time": "2021-10-29T02:18:11.807Z"
   },
   {
    "duration": 13,
    "start_time": "2021-10-29T02:18:11.818Z"
   },
   {
    "duration": 11,
    "start_time": "2021-10-29T02:18:11.833Z"
   },
   {
    "duration": 775,
    "start_time": "2021-10-29T02:18:11.884Z"
   },
   {
    "duration": 22,
    "start_time": "2021-10-29T02:18:12.662Z"
   },
   {
    "duration": 15,
    "start_time": "2021-10-29T02:18:12.687Z"
   },
   {
    "duration": 1432,
    "start_time": "2021-10-29T02:20:45.850Z"
   },
   {
    "duration": 77,
    "start_time": "2021-10-29T02:20:47.284Z"
   },
   {
    "duration": 35,
    "start_time": "2021-10-29T02:20:47.364Z"
   },
   {
    "duration": 10,
    "start_time": "2021-10-29T02:20:47.402Z"
   },
   {
    "duration": 25,
    "start_time": "2021-10-29T02:20:47.415Z"
   },
   {
    "duration": 31,
    "start_time": "2021-10-29T02:20:47.483Z"
   },
   {
    "duration": 26,
    "start_time": "2021-10-29T02:20:47.517Z"
   },
   {
    "duration": 39,
    "start_time": "2021-10-29T02:20:47.547Z"
   },
   {
    "duration": 9,
    "start_time": "2021-10-29T02:20:47.589Z"
   },
   {
    "duration": 27,
    "start_time": "2021-10-29T02:20:47.601Z"
   },
   {
    "duration": 6,
    "start_time": "2021-10-29T02:20:47.630Z"
   },
   {
    "duration": 106,
    "start_time": "2021-10-29T02:20:47.638Z"
   },
   {
    "duration": 1298,
    "start_time": "2021-10-29T02:20:47.747Z"
   },
   {
    "duration": 18,
    "start_time": "2021-10-29T02:20:49.047Z"
   },
   {
    "duration": 14,
    "start_time": "2021-10-29T02:20:49.081Z"
   },
   {
    "duration": 38,
    "start_time": "2021-10-29T02:20:49.097Z"
   },
   {
    "duration": 46,
    "start_time": "2021-10-29T02:20:49.137Z"
   },
   {
    "duration": 4068,
    "start_time": "2021-10-29T02:20:49.186Z"
   },
   {
    "duration": 33,
    "start_time": "2021-10-29T02:20:53.257Z"
   },
   {
    "duration": 7,
    "start_time": "2021-10-29T02:20:53.293Z"
   },
   {
    "duration": 239,
    "start_time": "2021-10-29T02:20:53.302Z"
   },
   {
    "duration": 90,
    "start_time": "2021-10-29T02:20:53.543Z"
   },
   {
    "duration": 24,
    "start_time": "2021-10-29T02:20:53.638Z"
   },
   {
    "duration": 911,
    "start_time": "2021-10-29T02:20:53.683Z"
   },
   {
    "duration": 587,
    "start_time": "2021-10-29T02:20:54.597Z"
   },
   {
    "duration": 25,
    "start_time": "2021-10-29T02:20:55.186Z"
   },
   {
    "duration": 782,
    "start_time": "2021-10-29T02:20:55.214Z"
   },
   {
    "duration": 28,
    "start_time": "2021-10-29T02:20:55.999Z"
   },
   {
    "duration": 763,
    "start_time": "2021-10-29T02:20:56.029Z"
   },
   {
    "duration": 708,
    "start_time": "2021-10-29T02:20:56.795Z"
   },
   {
    "duration": 1847,
    "start_time": "2021-10-29T02:20:57.506Z"
   },
   {
    "duration": 34,
    "start_time": "2021-10-29T02:20:59.355Z"
   },
   {
    "duration": 276,
    "start_time": "2021-10-29T02:20:59.392Z"
   },
   {
    "duration": 856,
    "start_time": "2021-10-29T02:20:59.670Z"
   },
   {
    "duration": 8,
    "start_time": "2021-10-29T02:21:00.529Z"
   },
   {
    "duration": 812,
    "start_time": "2021-10-29T02:21:00.539Z"
   },
   {
    "duration": 9,
    "start_time": "2021-10-29T02:21:01.353Z"
   },
   {
    "duration": 29,
    "start_time": "2021-10-29T02:21:01.364Z"
   },
   {
    "duration": 23,
    "start_time": "2021-10-29T02:21:01.395Z"
   },
   {
    "duration": 791,
    "start_time": "2021-10-29T02:21:01.421Z"
   },
   {
    "duration": 9,
    "start_time": "2021-10-29T02:21:02.214Z"
   },
   {
    "duration": 24,
    "start_time": "2021-10-29T02:21:02.225Z"
   },
   {
    "duration": 1365,
    "start_time": "2021-10-29T02:21:14.288Z"
   },
   {
    "duration": 78,
    "start_time": "2021-10-29T02:21:15.655Z"
   },
   {
    "duration": 15,
    "start_time": "2021-10-29T02:21:15.735Z"
   },
   {
    "duration": 34,
    "start_time": "2021-10-29T02:21:15.753Z"
   },
   {
    "duration": 21,
    "start_time": "2021-10-29T02:21:15.790Z"
   },
   {
    "duration": 20,
    "start_time": "2021-10-29T02:21:15.813Z"
   },
   {
    "duration": 58,
    "start_time": "2021-10-29T02:21:15.836Z"
   },
   {
    "duration": 16,
    "start_time": "2021-10-29T02:21:15.898Z"
   },
   {
    "duration": 14,
    "start_time": "2021-10-29T02:21:15.917Z"
   },
   {
    "duration": 51,
    "start_time": "2021-10-29T02:21:15.933Z"
   },
   {
    "duration": 4,
    "start_time": "2021-10-29T02:21:15.986Z"
   },
   {
    "duration": 90,
    "start_time": "2021-10-29T02:21:15.993Z"
   },
   {
    "duration": 1125,
    "start_time": "2021-10-29T02:21:16.086Z"
   },
   {
    "duration": 71,
    "start_time": "2021-10-29T02:21:17.214Z"
   },
   {
    "duration": 14,
    "start_time": "2021-10-29T02:21:17.287Z"
   },
   {
    "duration": 90,
    "start_time": "2021-10-29T02:21:17.304Z"
   },
   {
    "duration": 18,
    "start_time": "2021-10-29T02:21:17.396Z"
   },
   {
    "duration": 4434,
    "start_time": "2021-10-29T02:21:17.416Z"
   },
   {
    "duration": 32,
    "start_time": "2021-10-29T02:21:21.852Z"
   },
   {
    "duration": 430,
    "start_time": "2021-10-29T02:21:21.887Z"
   },
   {
    "duration": -561,
    "start_time": "2021-10-29T02:21:22.883Z"
   },
   {
    "duration": -587,
    "start_time": "2021-10-29T02:21:22.910Z"
   },
   {
    "duration": -589,
    "start_time": "2021-10-29T02:21:22.915Z"
   },
   {
    "duration": -598,
    "start_time": "2021-10-29T02:21:22.926Z"
   },
   {
    "duration": -603,
    "start_time": "2021-10-29T02:21:22.933Z"
   },
   {
    "duration": -612,
    "start_time": "2021-10-29T02:21:22.944Z"
   },
   {
    "duration": -616,
    "start_time": "2021-10-29T02:21:22.950Z"
   },
   {
    "duration": -624,
    "start_time": "2021-10-29T02:21:22.960Z"
   },
   {
    "duration": -626,
    "start_time": "2021-10-29T02:21:22.965Z"
   },
   {
    "duration": -628,
    "start_time": "2021-10-29T02:21:22.969Z"
   },
   {
    "duration": -629,
    "start_time": "2021-10-29T02:21:22.973Z"
   },
   {
    "duration": -630,
    "start_time": "2021-10-29T02:21:22.976Z"
   },
   {
    "duration": -634,
    "start_time": "2021-10-29T02:21:22.981Z"
   },
   {
    "duration": -634,
    "start_time": "2021-10-29T02:21:22.985Z"
   },
   {
    "duration": -636,
    "start_time": "2021-10-29T02:21:22.989Z"
   },
   {
    "duration": -637,
    "start_time": "2021-10-29T02:21:22.992Z"
   },
   {
    "duration": -615,
    "start_time": "2021-10-29T02:21:22.996Z"
   },
   {
    "duration": -617,
    "start_time": "2021-10-29T02:21:23.001Z"
   },
   {
    "duration": -715,
    "start_time": "2021-10-29T02:21:23.101Z"
   },
   {
    "duration": -730,
    "start_time": "2021-10-29T02:21:23.118Z"
   },
   {
    "duration": -732,
    "start_time": "2021-10-29T02:21:23.122Z"
   },
   {
    "duration": -734,
    "start_time": "2021-10-29T02:21:23.126Z"
   },
   {
    "duration": 7,
    "start_time": "2021-10-29T02:21:39.537Z"
   },
   {
    "duration": 1425,
    "start_time": "2021-10-29T02:21:45.763Z"
   },
   {
    "duration": 97,
    "start_time": "2021-10-29T02:21:47.192Z"
   },
   {
    "duration": 16,
    "start_time": "2021-10-29T02:21:47.292Z"
   },
   {
    "duration": 14,
    "start_time": "2021-10-29T02:21:47.310Z"
   },
   {
    "duration": 60,
    "start_time": "2021-10-29T02:21:47.326Z"
   },
   {
    "duration": 36,
    "start_time": "2021-10-29T02:21:47.389Z"
   },
   {
    "duration": 41,
    "start_time": "2021-10-29T02:21:47.427Z"
   },
   {
    "duration": 24,
    "start_time": "2021-10-29T02:21:47.484Z"
   },
   {
    "duration": 12,
    "start_time": "2021-10-29T02:21:47.514Z"
   },
   {
    "duration": 52,
    "start_time": "2021-10-29T02:21:47.529Z"
   },
   {
    "duration": 6,
    "start_time": "2021-10-29T02:21:47.584Z"
   },
   {
    "duration": 92,
    "start_time": "2021-10-29T02:21:47.592Z"
   },
   {
    "duration": 973,
    "start_time": "2021-10-29T02:21:47.686Z"
   },
   {
    "duration": 28,
    "start_time": "2021-10-29T02:21:48.661Z"
   },
   {
    "duration": 13,
    "start_time": "2021-10-29T02:21:48.691Z"
   },
   {
    "duration": 39,
    "start_time": "2021-10-29T02:21:48.706Z"
   },
   {
    "duration": 54,
    "start_time": "2021-10-29T02:21:48.748Z"
   },
   {
    "duration": 4413,
    "start_time": "2021-10-29T02:21:48.805Z"
   },
   {
    "duration": 21,
    "start_time": "2021-10-29T02:21:53.220Z"
   },
   {
    "duration": 8,
    "start_time": "2021-10-29T02:21:53.244Z"
   },
   {
    "duration": 252,
    "start_time": "2021-10-29T02:21:53.254Z"
   },
   {
    "duration": 89,
    "start_time": "2021-10-29T02:21:53.508Z"
   },
   {
    "duration": 23,
    "start_time": "2021-10-29T02:21:53.602Z"
   },
   {
    "duration": 1007,
    "start_time": "2021-10-29T02:21:53.628Z"
   },
   {
    "duration": 571,
    "start_time": "2021-10-29T02:21:54.638Z"
   },
   {
    "duration": 24,
    "start_time": "2021-10-29T02:21:55.211Z"
   },
   {
    "duration": 794,
    "start_time": "2021-10-29T02:21:55.237Z"
   },
   {
    "duration": 29,
    "start_time": "2021-10-29T02:21:56.033Z"
   },
   {
    "duration": 770,
    "start_time": "2021-10-29T02:21:56.064Z"
   },
   {
    "duration": 742,
    "start_time": "2021-10-29T02:21:56.836Z"
   },
   {
    "duration": 1820,
    "start_time": "2021-10-29T02:21:57.581Z"
   },
   {
    "duration": 21,
    "start_time": "2021-10-29T02:21:59.403Z"
   },
   {
    "duration": 287,
    "start_time": "2021-10-29T02:21:59.426Z"
   },
   {
    "duration": 849,
    "start_time": "2021-10-29T02:21:59.716Z"
   },
   {
    "duration": 15,
    "start_time": "2021-10-29T02:22:00.568Z"
   },
   {
    "duration": 799,
    "start_time": "2021-10-29T02:22:00.586Z"
   },
   {
    "duration": 10,
    "start_time": "2021-10-29T02:22:01.387Z"
   },
   {
    "duration": 31,
    "start_time": "2021-10-29T02:22:01.399Z"
   },
   {
    "duration": 23,
    "start_time": "2021-10-29T02:22:01.433Z"
   },
   {
    "duration": 811,
    "start_time": "2021-10-29T02:22:01.458Z"
   },
   {
    "duration": 15,
    "start_time": "2021-10-29T02:22:02.271Z"
   },
   {
    "duration": 24,
    "start_time": "2021-10-29T02:22:02.288Z"
   },
   {
    "duration": 224,
    "start_time": "2021-10-29T02:25:07.059Z"
   },
   {
    "duration": 15,
    "start_time": "2021-10-29T02:31:09.568Z"
   },
   {
    "duration": 40,
    "start_time": "2021-10-29T02:31:14.078Z"
   },
   {
    "duration": 19,
    "start_time": "2021-10-29T02:31:21.126Z"
   },
   {
    "duration": 12255,
    "start_time": "2021-10-29T02:31:27.279Z"
   },
   {
    "duration": 21,
    "start_time": "2021-10-29T02:32:52.718Z"
   },
   {
    "duration": 8,
    "start_time": "2021-10-29T02:32:55.395Z"
   },
   {
    "duration": 316,
    "start_time": "2021-10-29T02:33:01.867Z"
   },
   {
    "duration": 14,
    "start_time": "2021-10-29T02:33:43.368Z"
   },
   {
    "duration": 38,
    "start_time": "2021-10-29T02:33:46.041Z"
   },
   {
    "duration": 1394,
    "start_time": "2021-10-29T02:33:53.491Z"
   },
   {
    "duration": 80,
    "start_time": "2021-10-29T02:33:54.887Z"
   },
   {
    "duration": 19,
    "start_time": "2021-10-29T02:33:54.984Z"
   },
   {
    "duration": 10,
    "start_time": "2021-10-29T02:33:55.007Z"
   },
   {
    "duration": 23,
    "start_time": "2021-10-29T02:33:55.020Z"
   },
   {
    "duration": 19,
    "start_time": "2021-10-29T02:33:55.083Z"
   },
   {
    "duration": 22,
    "start_time": "2021-10-29T02:33:55.104Z"
   },
   {
    "duration": 17,
    "start_time": "2021-10-29T02:33:55.130Z"
   },
   {
    "duration": 10,
    "start_time": "2021-10-29T02:33:55.182Z"
   },
   {
    "duration": 29,
    "start_time": "2021-10-29T02:33:55.194Z"
   },
   {
    "duration": 5,
    "start_time": "2021-10-29T02:33:55.225Z"
   },
   {
    "duration": 106,
    "start_time": "2021-10-29T02:33:55.232Z"
   },
   {
    "duration": 951,
    "start_time": "2021-10-29T02:33:55.340Z"
   },
   {
    "duration": 18,
    "start_time": "2021-10-29T02:33:56.293Z"
   },
   {
    "duration": 13,
    "start_time": "2021-10-29T02:33:56.313Z"
   },
   {
    "duration": 64,
    "start_time": "2021-10-29T02:33:56.328Z"
   },
   {
    "duration": 18,
    "start_time": "2021-10-29T02:33:56.394Z"
   },
   {
    "duration": 4811,
    "start_time": "2021-10-29T02:33:56.415Z"
   },
   {
    "duration": 23,
    "start_time": "2021-10-29T02:34:01.228Z"
   },
   {
    "duration": 7,
    "start_time": "2021-10-29T02:34:01.282Z"
   },
   {
    "duration": 234,
    "start_time": "2021-10-29T02:34:01.291Z"
   },
   {
    "duration": 91,
    "start_time": "2021-10-29T02:34:01.528Z"
   },
   {
    "duration": 23,
    "start_time": "2021-10-29T02:34:01.624Z"
   },
   {
    "duration": 1289,
    "start_time": "2021-10-29T02:34:01.650Z"
   },
   {
    "duration": 575,
    "start_time": "2021-10-29T02:34:02.942Z"
   },
   {
    "duration": 24,
    "start_time": "2021-10-29T02:34:03.519Z"
   },
   {
    "duration": 881,
    "start_time": "2021-10-29T02:34:03.545Z"
   },
   {
    "duration": 28,
    "start_time": "2021-10-29T02:34:04.428Z"
   },
   {
    "duration": 791,
    "start_time": "2021-10-29T02:34:04.458Z"
   },
   {
    "duration": 702,
    "start_time": "2021-10-29T02:34:05.252Z"
   },
   {
    "duration": 2047,
    "start_time": "2021-10-29T02:34:05.957Z"
   },
   {
    "duration": 22,
    "start_time": "2021-10-29T02:34:08.006Z"
   },
   {
    "duration": 289,
    "start_time": "2021-10-29T02:34:08.030Z"
   },
   {
    "duration": 851,
    "start_time": "2021-10-29T02:34:08.321Z"
   },
   {
    "duration": 10,
    "start_time": "2021-10-29T02:34:09.181Z"
   },
   {
    "duration": 795,
    "start_time": "2021-10-29T02:34:09.193Z"
   },
   {
    "duration": 8,
    "start_time": "2021-10-29T02:34:09.991Z"
   },
   {
    "duration": 19,
    "start_time": "2021-10-29T02:34:10.002Z"
   },
   {
    "duration": 10,
    "start_time": "2021-10-29T02:34:10.023Z"
   },
   {
    "duration": 788,
    "start_time": "2021-10-29T02:34:10.035Z"
   },
   {
    "duration": 8,
    "start_time": "2021-10-29T02:34:10.826Z"
   },
   {
    "duration": 10,
    "start_time": "2021-10-29T02:34:10.837Z"
   },
   {
    "duration": 1376,
    "start_time": "2021-10-29T02:35:08.501Z"
   },
   {
    "duration": 80,
    "start_time": "2021-10-29T02:35:09.880Z"
   },
   {
    "duration": 35,
    "start_time": "2021-10-29T02:35:09.963Z"
   },
   {
    "duration": 11,
    "start_time": "2021-10-29T02:35:10.002Z"
   },
   {
    "duration": 47,
    "start_time": "2021-10-29T02:35:10.016Z"
   },
   {
    "duration": 32,
    "start_time": "2021-10-29T02:35:10.066Z"
   },
   {
    "duration": 33,
    "start_time": "2021-10-29T02:35:10.101Z"
   },
   {
    "duration": 17,
    "start_time": "2021-10-29T02:35:10.138Z"
   },
   {
    "duration": 29,
    "start_time": "2021-10-29T02:35:10.158Z"
   },
   {
    "duration": 26,
    "start_time": "2021-10-29T02:35:10.189Z"
   },
   {
    "duration": 4,
    "start_time": "2021-10-29T02:35:10.218Z"
   },
   {
    "duration": 101,
    "start_time": "2021-10-29T02:35:10.225Z"
   },
   {
    "duration": 955,
    "start_time": "2021-10-29T02:35:10.329Z"
   },
   {
    "duration": 20,
    "start_time": "2021-10-29T02:35:11.286Z"
   },
   {
    "duration": 14,
    "start_time": "2021-10-29T02:35:11.309Z"
   },
   {
    "duration": 66,
    "start_time": "2021-10-29T02:35:11.326Z"
   },
   {
    "duration": 19,
    "start_time": "2021-10-29T02:35:11.394Z"
   },
   {
    "duration": 4200,
    "start_time": "2021-10-29T02:35:11.415Z"
   },
   {
    "duration": 23,
    "start_time": "2021-10-29T02:35:15.617Z"
   },
   {
    "duration": 9,
    "start_time": "2021-10-29T02:35:15.642Z"
   },
   {
    "duration": 238,
    "start_time": "2021-10-29T02:35:15.653Z"
   },
   {
    "duration": 90,
    "start_time": "2021-10-29T02:35:15.893Z"
   },
   {
    "duration": 25,
    "start_time": "2021-10-29T02:35:15.988Z"
   },
   {
    "duration": 904,
    "start_time": "2021-10-29T02:35:16.015Z"
   },
   {
    "duration": 699,
    "start_time": "2021-10-29T02:35:16.921Z"
   },
   {
    "duration": 25,
    "start_time": "2021-10-29T02:35:17.622Z"
   },
   {
    "duration": 788,
    "start_time": "2021-10-29T02:35:17.649Z"
   },
   {
    "duration": 41,
    "start_time": "2021-10-29T02:35:18.440Z"
   },
   {
    "duration": 820,
    "start_time": "2021-10-29T02:35:18.484Z"
   },
   {
    "duration": 1025,
    "start_time": "2021-10-29T02:35:19.307Z"
   },
   {
    "duration": 1868,
    "start_time": "2021-10-29T02:35:20.334Z"
   },
   {
    "duration": 21,
    "start_time": "2021-10-29T02:35:22.204Z"
   },
   {
    "duration": 279,
    "start_time": "2021-10-29T02:35:22.227Z"
   },
   {
    "duration": 877,
    "start_time": "2021-10-29T02:35:22.508Z"
   },
   {
    "duration": 10,
    "start_time": "2021-10-29T02:35:23.388Z"
   },
   {
    "duration": 826,
    "start_time": "2021-10-29T02:35:23.400Z"
   },
   {
    "duration": 9,
    "start_time": "2021-10-29T02:35:24.229Z"
   },
   {
    "duration": 41,
    "start_time": "2021-10-29T02:35:24.241Z"
   },
   {
    "duration": 10,
    "start_time": "2021-10-29T02:35:24.285Z"
   },
   {
    "duration": 803,
    "start_time": "2021-10-29T02:35:24.298Z"
   },
   {
    "duration": 9,
    "start_time": "2021-10-29T02:35:25.103Z"
   },
   {
    "duration": 14,
    "start_time": "2021-10-29T02:35:25.115Z"
   },
   {
    "duration": 109,
    "start_time": "2021-10-29T02:54:03.874Z"
   },
   {
    "duration": 1391,
    "start_time": "2021-10-29T02:54:16.984Z"
   },
   {
    "duration": 76,
    "start_time": "2021-10-29T02:54:18.378Z"
   },
   {
    "duration": 31,
    "start_time": "2021-10-29T02:54:18.457Z"
   },
   {
    "duration": 9,
    "start_time": "2021-10-29T02:54:18.490Z"
   },
   {
    "duration": 25,
    "start_time": "2021-10-29T02:54:18.501Z"
   },
   {
    "duration": 18,
    "start_time": "2021-10-29T02:54:18.528Z"
   },
   {
    "duration": 22,
    "start_time": "2021-10-29T02:54:18.581Z"
   },
   {
    "duration": 17,
    "start_time": "2021-10-29T02:54:18.607Z"
   },
   {
    "duration": 13,
    "start_time": "2021-10-29T02:54:18.627Z"
   },
   {
    "duration": 54,
    "start_time": "2021-10-29T02:54:18.642Z"
   },
   {
    "duration": 6,
    "start_time": "2021-10-29T02:54:18.698Z"
   },
   {
    "duration": 97,
    "start_time": "2021-10-29T02:54:18.706Z"
   },
   {
    "duration": 915,
    "start_time": "2021-10-29T02:54:18.806Z"
   },
   {
    "duration": 18,
    "start_time": "2021-10-29T02:54:19.724Z"
   },
   {
    "duration": 13,
    "start_time": "2021-10-29T02:54:19.744Z"
   },
   {
    "duration": 34,
    "start_time": "2021-10-29T02:54:19.783Z"
   },
   {
    "duration": 19,
    "start_time": "2021-10-29T02:54:19.819Z"
   },
   {
    "duration": 4244,
    "start_time": "2021-10-29T02:54:19.840Z"
   },
   {
    "duration": 22,
    "start_time": "2021-10-29T02:54:24.087Z"
   },
   {
    "duration": 8,
    "start_time": "2021-10-29T02:54:24.111Z"
   },
   {
    "duration": 235,
    "start_time": "2021-10-29T02:54:24.121Z"
   },
   {
    "duration": 81,
    "start_time": "2021-10-29T02:54:24.358Z"
   },
   {
    "duration": 44,
    "start_time": "2021-10-29T02:54:24.445Z"
   },
   {
    "duration": 999,
    "start_time": "2021-10-29T02:54:24.492Z"
   },
   {
    "duration": 567,
    "start_time": "2021-10-29T02:54:25.493Z"
   },
   {
    "duration": 33,
    "start_time": "2021-10-29T02:54:26.063Z"
   },
   {
    "duration": 756,
    "start_time": "2021-10-29T02:54:26.098Z"
   },
   {
    "duration": 42,
    "start_time": "2021-10-29T02:54:26.856Z"
   },
   {
    "duration": 864,
    "start_time": "2021-10-29T02:54:26.900Z"
   },
   {
    "duration": 696,
    "start_time": "2021-10-29T02:54:27.766Z"
   },
   {
    "duration": 1829,
    "start_time": "2021-10-29T02:54:28.464Z"
   },
   {
    "duration": 23,
    "start_time": "2021-10-29T02:54:30.296Z"
   },
   {
    "duration": 293,
    "start_time": "2021-10-29T02:54:30.322Z"
   },
   {
    "duration": 848,
    "start_time": "2021-10-29T02:54:30.617Z"
   },
   {
    "duration": 17,
    "start_time": "2021-10-29T02:54:31.467Z"
   },
   {
    "duration": 800,
    "start_time": "2021-10-29T02:54:31.486Z"
   },
   {
    "duration": 8,
    "start_time": "2021-10-29T02:54:32.289Z"
   },
   {
    "duration": 16,
    "start_time": "2021-10-29T02:54:32.299Z"
   },
   {
    "duration": 10,
    "start_time": "2021-10-29T02:54:32.317Z"
   },
   {
    "duration": 813,
    "start_time": "2021-10-29T02:54:32.329Z"
   },
   {
    "duration": 10,
    "start_time": "2021-10-29T02:54:33.144Z"
   },
   {
    "duration": 32,
    "start_time": "2021-10-29T02:54:33.157Z"
   },
   {
    "duration": 1670,
    "start_time": "2021-11-15T17:34:17.699Z"
   },
   {
    "duration": 102,
    "start_time": "2021-11-15T17:34:19.373Z"
   },
   {
    "duration": 16,
    "start_time": "2021-11-15T17:34:19.478Z"
   },
   {
    "duration": 10,
    "start_time": "2021-11-15T17:34:19.497Z"
   },
   {
    "duration": 20,
    "start_time": "2021-11-15T17:34:19.509Z"
   },
   {
    "duration": 20,
    "start_time": "2021-11-15T17:34:19.568Z"
   },
   {
    "duration": 23,
    "start_time": "2021-11-15T17:34:19.591Z"
   },
   {
    "duration": 59,
    "start_time": "2021-11-15T17:34:19.617Z"
   },
   {
    "duration": 16,
    "start_time": "2021-11-15T17:34:19.680Z"
   },
   {
    "duration": 28,
    "start_time": "2021-11-15T17:34:19.698Z"
   },
   {
    "duration": 38,
    "start_time": "2021-11-15T17:34:19.729Z"
   },
   {
    "duration": 74,
    "start_time": "2021-11-15T17:34:19.769Z"
   },
   {
    "duration": 1011,
    "start_time": "2021-11-15T17:34:19.845Z"
   },
   {
    "duration": 23,
    "start_time": "2021-11-15T17:34:20.859Z"
   },
   {
    "duration": 14,
    "start_time": "2021-11-15T17:34:20.884Z"
   },
   {
    "duration": 68,
    "start_time": "2021-11-15T17:34:20.901Z"
   },
   {
    "duration": 24,
    "start_time": "2021-11-15T17:34:20.972Z"
   },
   {
    "duration": 4313,
    "start_time": "2021-11-15T17:34:20.999Z"
   },
   {
    "duration": 24,
    "start_time": "2021-11-15T17:34:25.314Z"
   },
   {
    "duration": 27,
    "start_time": "2021-11-15T17:34:25.340Z"
   },
   {
    "duration": 229,
    "start_time": "2021-11-15T17:34:25.370Z"
   },
   {
    "duration": 100,
    "start_time": "2021-11-15T17:34:25.601Z"
   },
   {
    "duration": 25,
    "start_time": "2021-11-15T17:34:25.706Z"
   },
   {
    "duration": 967,
    "start_time": "2021-11-15T17:34:25.734Z"
   },
   {
    "duration": 615,
    "start_time": "2021-11-15T17:34:26.703Z"
   },
   {
    "duration": 24,
    "start_time": "2021-11-15T17:34:27.320Z"
   },
   {
    "duration": 827,
    "start_time": "2021-11-15T17:34:27.346Z"
   },
   {
    "duration": 30,
    "start_time": "2021-11-15T17:34:28.175Z"
   },
   {
    "duration": 830,
    "start_time": "2021-11-15T17:34:28.208Z"
   },
   {
    "duration": 761,
    "start_time": "2021-11-15T17:34:29.040Z"
   },
   {
    "duration": 1968,
    "start_time": "2021-11-15T17:34:29.803Z"
   },
   {
    "duration": 23,
    "start_time": "2021-11-15T17:34:31.773Z"
   },
   {
    "duration": 309,
    "start_time": "2021-11-15T17:34:31.798Z"
   },
   {
    "duration": 895,
    "start_time": "2021-11-15T17:34:32.109Z"
   },
   {
    "duration": 9,
    "start_time": "2021-11-15T17:34:33.006Z"
   },
   {
    "duration": 938,
    "start_time": "2021-11-15T17:34:33.017Z"
   },
   {
    "duration": 15,
    "start_time": "2021-11-15T17:34:33.958Z"
   },
   {
    "duration": 13,
    "start_time": "2021-11-15T17:34:33.976Z"
   },
   {
    "duration": 11,
    "start_time": "2021-11-15T17:34:33.991Z"
   },
   {
    "duration": 877,
    "start_time": "2021-11-15T17:34:34.005Z"
   },
   {
    "duration": 9,
    "start_time": "2021-11-15T17:34:34.885Z"
   },
   {
    "duration": 13,
    "start_time": "2021-11-15T17:34:34.897Z"
   },
   {
    "duration": 1399,
    "start_time": "2021-11-15T17:38:10.880Z"
   },
   {
    "duration": 94,
    "start_time": "2021-11-15T17:38:12.282Z"
   },
   {
    "duration": 16,
    "start_time": "2021-11-15T17:38:12.380Z"
   },
   {
    "duration": 10,
    "start_time": "2021-11-15T17:38:12.399Z"
   },
   {
    "duration": 61,
    "start_time": "2021-11-15T17:38:12.412Z"
   },
   {
    "duration": 20,
    "start_time": "2021-11-15T17:38:12.476Z"
   },
   {
    "duration": 21,
    "start_time": "2021-11-15T17:38:12.499Z"
   },
   {
    "duration": 48,
    "start_time": "2021-11-15T17:38:12.523Z"
   },
   {
    "duration": 8,
    "start_time": "2021-11-15T17:38:12.576Z"
   },
   {
    "duration": 25,
    "start_time": "2021-11-15T17:38:12.587Z"
   },
   {
    "duration": 5,
    "start_time": "2021-11-15T17:38:12.614Z"
   },
   {
    "duration": 112,
    "start_time": "2021-11-15T17:38:12.622Z"
   },
   {
    "duration": 997,
    "start_time": "2021-11-15T17:38:12.736Z"
   },
   {
    "duration": 19,
    "start_time": "2021-11-15T17:38:13.735Z"
   },
   {
    "duration": 13,
    "start_time": "2021-11-15T17:38:13.768Z"
   },
   {
    "duration": 36,
    "start_time": "2021-11-15T17:38:13.784Z"
   },
   {
    "duration": 46,
    "start_time": "2021-11-15T17:38:13.823Z"
   },
   {
    "duration": 4397,
    "start_time": "2021-11-15T17:38:13.872Z"
   },
   {
    "duration": 22,
    "start_time": "2021-11-15T17:38:18.272Z"
   },
   {
    "duration": 9,
    "start_time": "2021-11-15T17:38:18.296Z"
   },
   {
    "duration": 271,
    "start_time": "2021-11-15T17:38:18.308Z"
   },
   {
    "duration": 105,
    "start_time": "2021-11-15T17:38:18.582Z"
   },
   {
    "duration": 26,
    "start_time": "2021-11-15T17:38:18.689Z"
   },
   {
    "duration": 962,
    "start_time": "2021-11-15T17:38:18.717Z"
   },
   {
    "duration": 708,
    "start_time": "2021-11-15T17:38:19.682Z"
   },
   {
    "duration": 24,
    "start_time": "2021-11-15T17:38:20.393Z"
   },
   {
    "duration": 832,
    "start_time": "2021-11-15T17:38:20.422Z"
   },
   {
    "duration": 38,
    "start_time": "2021-11-15T17:38:21.256Z"
   },
   {
    "duration": 830,
    "start_time": "2021-11-15T17:38:21.297Z"
   },
   {
    "duration": 739,
    "start_time": "2021-11-15T17:38:22.130Z"
   },
   {
    "duration": 2041,
    "start_time": "2021-11-15T17:38:22.872Z"
   },
   {
    "duration": 23,
    "start_time": "2021-11-15T17:38:24.915Z"
   },
   {
    "duration": 306,
    "start_time": "2021-11-15T17:38:24.940Z"
   },
   {
    "duration": 931,
    "start_time": "2021-11-15T17:38:25.248Z"
   },
   {
    "duration": 10,
    "start_time": "2021-11-15T17:38:26.182Z"
   },
   {
    "duration": 833,
    "start_time": "2021-11-15T17:38:26.195Z"
   },
   {
    "duration": 8,
    "start_time": "2021-11-15T17:38:27.030Z"
   },
   {
    "duration": 31,
    "start_time": "2021-11-15T17:38:27.041Z"
   },
   {
    "duration": 9,
    "start_time": "2021-11-15T17:38:27.074Z"
   },
   {
    "duration": 845,
    "start_time": "2021-11-15T17:38:27.086Z"
   },
   {
    "duration": 9,
    "start_time": "2021-11-15T17:38:27.934Z"
   },
   {
    "duration": 34,
    "start_time": "2021-11-15T17:38:27.945Z"
   },
   {
    "duration": 1379,
    "start_time": "2021-11-15T17:40:07.797Z"
   },
   {
    "duration": 89,
    "start_time": "2021-11-15T17:40:09.178Z"
   },
   {
    "duration": 16,
    "start_time": "2021-11-15T17:40:09.270Z"
   },
   {
    "duration": 9,
    "start_time": "2021-11-15T17:40:09.289Z"
   },
   {
    "duration": 27,
    "start_time": "2021-11-15T17:40:09.301Z"
   },
   {
    "duration": 52,
    "start_time": "2021-11-15T17:40:09.331Z"
   },
   {
    "duration": 30,
    "start_time": "2021-11-15T17:40:09.386Z"
   },
   {
    "duration": 19,
    "start_time": "2021-11-15T17:40:09.420Z"
   },
   {
    "duration": 9,
    "start_time": "2021-11-15T17:40:09.467Z"
   },
   {
    "duration": 25,
    "start_time": "2021-11-15T17:40:09.479Z"
   },
   {
    "duration": 5,
    "start_time": "2021-11-15T17:40:09.506Z"
   },
   {
    "duration": 112,
    "start_time": "2021-11-15T17:40:09.513Z"
   },
   {
    "duration": 978,
    "start_time": "2021-11-15T17:40:09.627Z"
   },
   {
    "duration": 19,
    "start_time": "2021-11-15T17:40:10.607Z"
   },
   {
    "duration": 14,
    "start_time": "2021-11-15T17:40:10.628Z"
   },
   {
    "duration": 62,
    "start_time": "2021-11-15T17:40:10.644Z"
   },
   {
    "duration": 18,
    "start_time": "2021-11-15T17:40:10.709Z"
   },
   {
    "duration": 4393,
    "start_time": "2021-11-15T17:40:10.767Z"
   },
   {
    "duration": 23,
    "start_time": "2021-11-15T17:40:15.167Z"
   },
   {
    "duration": 6,
    "start_time": "2021-11-15T17:40:15.193Z"
   },
   {
    "duration": 245,
    "start_time": "2021-11-15T17:40:15.201Z"
   },
   {
    "duration": 82,
    "start_time": "2021-11-15T17:40:15.448Z"
   },
   {
    "duration": 46,
    "start_time": "2021-11-15T17:40:15.535Z"
   },
   {
    "duration": 961,
    "start_time": "2021-11-15T17:40:15.584Z"
   },
   {
    "duration": 591,
    "start_time": "2021-11-15T17:40:16.548Z"
   },
   {
    "duration": 37,
    "start_time": "2021-11-15T17:40:17.142Z"
   },
   {
    "duration": 811,
    "start_time": "2021-11-15T17:40:17.182Z"
   },
   {
    "duration": 29,
    "start_time": "2021-11-15T17:40:17.995Z"
   },
   {
    "duration": 811,
    "start_time": "2021-11-15T17:40:18.027Z"
   },
   {
    "duration": 729,
    "start_time": "2021-11-15T17:40:18.841Z"
   },
   {
    "duration": 1921,
    "start_time": "2021-11-15T17:40:19.572Z"
   },
   {
    "duration": 24,
    "start_time": "2021-11-15T17:40:21.497Z"
   },
   {
    "duration": 312,
    "start_time": "2021-11-15T17:40:21.524Z"
   },
   {
    "duration": 920,
    "start_time": "2021-11-15T17:40:21.839Z"
   },
   {
    "duration": 9,
    "start_time": "2021-11-15T17:40:22.766Z"
   },
   {
    "duration": 816,
    "start_time": "2021-11-15T17:40:22.777Z"
   },
   {
    "duration": 9,
    "start_time": "2021-11-15T17:40:23.595Z"
   },
   {
    "duration": 12,
    "start_time": "2021-11-15T17:40:23.606Z"
   },
   {
    "duration": 49,
    "start_time": "2021-11-15T17:40:23.621Z"
   },
   {
    "duration": 809,
    "start_time": "2021-11-15T17:40:23.673Z"
   },
   {
    "duration": 9,
    "start_time": "2021-11-15T17:40:24.484Z"
   },
   {
    "duration": 13,
    "start_time": "2021-11-15T17:40:24.495Z"
   }
  ],
  "kernelspec": {
   "display_name": "Python 3",
   "language": "python",
   "name": "python3"
  },
  "language_info": {
   "codemirror_mode": {
    "name": "ipython",
    "version": 3
   },
   "file_extension": ".py",
   "mimetype": "text/x-python",
   "name": "python",
   "nbconvert_exporter": "python",
   "pygments_lexer": "ipython3",
   "version": "3.7.8"
  },
  "toc": {
   "base_numbering": 1,
   "nav_menu": {},
   "number_sections": true,
   "sideBar": true,
   "skip_h1_title": true,
   "title_cell": "Содержание",
   "title_sidebar": "Contents",
   "toc_cell": true,
   "toc_position": {
    "height": "calc(100% - 180px)",
    "left": "10px",
    "top": "150px",
    "width": "303.594px"
   },
   "toc_section_display": true,
   "toc_window_display": false
  }
 },
 "nbformat": 4,
 "nbformat_minor": 2
}
