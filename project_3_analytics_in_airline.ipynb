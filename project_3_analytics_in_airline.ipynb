{
 "cells": [
  {
   "cell_type": "markdown",
   "metadata": {
    "toc": true
   },
   "source": [
    "<h1>Содержание<span class=\"tocSkip\"></span></h1>\n",
    "<div class=\"toc\"><ul class=\"toc-item\"><li><span><a href=\"#Изучение-данных\" data-toc-modified-id=\"Изучение-данных-1\"><span class=\"toc-item-num\">1&nbsp;&nbsp;</span>Изучение данных</a></span></li><li><span><a href=\"#Топ-10-городов-по-количеству-рейсов\" data-toc-modified-id=\"Топ-10-городов-по-количеству-рейсов-2\"><span class=\"toc-item-num\">2&nbsp;&nbsp;</span>Топ-10 городов по количеству рейсов</a></span></li><li><span><a href=\"#Построение-графиков\" data-toc-modified-id=\"Построение-графиков-3\"><span class=\"toc-item-num\">3&nbsp;&nbsp;</span>Построение графиков</a></span></li></ul></div>"
   ]
  },
  {
   "cell_type": "markdown",
   "metadata": {},
   "source": [
    "# Аналитика в авиакомпании"
   ]
  },
  {
   "cell_type": "markdown",
   "metadata": {},
   "source": [
    "В нашем распоряжении данные с количеством рейсов по моделям самолетов в сентябре 2018 и среднем количестве рейсов в день по городам России за август 2018.\n",
    "\n",
    "Изучим данные, построим по ним графики и сделаем выводы."
   ]
  },
  {
   "cell_type": "markdown",
   "metadata": {},
   "source": [
    "## Изучение данных"
   ]
  },
  {
   "cell_type": "code",
   "execution_count": 1,
   "metadata": {},
   "outputs": [],
   "source": [
    "# Импортируем библиотеки, открываем файлы с данными:\n",
    "\n",
    "import pandas as pd\n",
    "import sys   \n",
    "import math\n",
    "import numpy as np\n",
    "import matplotlib.pyplot as plt\n",
    "from scipy import stats as st\n",
    "from IPython.display import display\n",
    "\n",
    "models = pd.read_csv('/datasets/query_1.csv')\n",
    "cities = pd.read_csv('/datasets/query_3.csv')"
   ]
  },
  {
   "cell_type": "code",
   "execution_count": 2,
   "metadata": {
    "scrolled": false
   },
   "outputs": [
    {
     "name": "stdout",
     "output_type": "stream",
     "text": [
      "<class 'pandas.core.frame.DataFrame'>\n",
      "RangeIndex: 8 entries, 0 to 7\n",
      "Data columns (total 2 columns):\n",
      "model             8 non-null object\n",
      "flights_amount    8 non-null int64\n",
      "dtypes: int64(1), object(1)\n",
      "memory usage: 256.0+ bytes\n"
     ]
    },
    {
     "data": {
      "text/html": [
       "<div>\n",
       "<style scoped>\n",
       "    .dataframe tbody tr th:only-of-type {\n",
       "        vertical-align: middle;\n",
       "    }\n",
       "\n",
       "    .dataframe tbody tr th {\n",
       "        vertical-align: top;\n",
       "    }\n",
       "\n",
       "    .dataframe thead th {\n",
       "        text-align: right;\n",
       "    }\n",
       "</style>\n",
       "<table border=\"1\" class=\"dataframe\">\n",
       "  <thead>\n",
       "    <tr style=\"text-align: right;\">\n",
       "      <th></th>\n",
       "      <th>model</th>\n",
       "      <th>flights_amount</th>\n",
       "    </tr>\n",
       "  </thead>\n",
       "  <tbody>\n",
       "    <tr>\n",
       "      <td>0</td>\n",
       "      <td>Airbus A319-100</td>\n",
       "      <td>607</td>\n",
       "    </tr>\n",
       "    <tr>\n",
       "      <td>1</td>\n",
       "      <td>Airbus A321-200</td>\n",
       "      <td>960</td>\n",
       "    </tr>\n",
       "    <tr>\n",
       "      <td>2</td>\n",
       "      <td>Boeing 737-300</td>\n",
       "      <td>630</td>\n",
       "    </tr>\n",
       "    <tr>\n",
       "      <td>3</td>\n",
       "      <td>Boeing 767-300</td>\n",
       "      <td>600</td>\n",
       "    </tr>\n",
       "    <tr>\n",
       "      <td>4</td>\n",
       "      <td>Boeing 777-300</td>\n",
       "      <td>300</td>\n",
       "    </tr>\n",
       "  </tbody>\n",
       "</table>\n",
       "</div>"
      ],
      "text/plain": [
       "             model  flights_amount\n",
       "0  Airbus A319-100             607\n",
       "1  Airbus A321-200             960\n",
       "2   Boeing 737-300             630\n",
       "3   Boeing 767-300             600\n",
       "4   Boeing 777-300             300"
      ]
     },
     "metadata": {},
     "output_type": "display_data"
    },
    {
     "data": {
      "text/html": [
       "<div>\n",
       "<style scoped>\n",
       "    .dataframe tbody tr th:only-of-type {\n",
       "        vertical-align: middle;\n",
       "    }\n",
       "\n",
       "    .dataframe tbody tr th {\n",
       "        vertical-align: top;\n",
       "    }\n",
       "\n",
       "    .dataframe thead th {\n",
       "        text-align: right;\n",
       "    }\n",
       "</style>\n",
       "<table border=\"1\" class=\"dataframe\">\n",
       "  <thead>\n",
       "    <tr style=\"text-align: right;\">\n",
       "      <th></th>\n",
       "      <th>flights_amount</th>\n",
       "    </tr>\n",
       "  </thead>\n",
       "  <tbody>\n",
       "    <tr>\n",
       "      <td>count</td>\n",
       "      <td>8.000000</td>\n",
       "    </tr>\n",
       "    <tr>\n",
       "      <td>mean</td>\n",
       "      <td>2035.625000</td>\n",
       "    </tr>\n",
       "    <tr>\n",
       "      <td>std</td>\n",
       "      <td>1965.203947</td>\n",
       "    </tr>\n",
       "    <tr>\n",
       "      <td>min</td>\n",
       "      <td>300.000000</td>\n",
       "    </tr>\n",
       "    <tr>\n",
       "      <td>25%</td>\n",
       "      <td>605.250000</td>\n",
       "    </tr>\n",
       "    <tr>\n",
       "      <td>50%</td>\n",
       "      <td>795.000000</td>\n",
       "    </tr>\n",
       "    <tr>\n",
       "      <td>75%</td>\n",
       "      <td>4250.250000</td>\n",
       "    </tr>\n",
       "    <tr>\n",
       "      <td>max</td>\n",
       "      <td>4557.000000</td>\n",
       "    </tr>\n",
       "  </tbody>\n",
       "</table>\n",
       "</div>"
      ],
      "text/plain": [
       "       flights_amount\n",
       "count        8.000000\n",
       "mean      2035.625000\n",
       "std       1965.203947\n",
       "min        300.000000\n",
       "25%        605.250000\n",
       "50%        795.000000\n",
       "75%       4250.250000\n",
       "max       4557.000000"
      ]
     },
     "metadata": {},
     "output_type": "display_data"
    },
    {
     "data": {
      "text/plain": [
       "model             0\n",
       "flights_amount    0\n",
       "dtype: int64"
      ]
     },
     "metadata": {},
     "output_type": "display_data"
    },
    {
     "data": {
      "text/plain": [
       "0"
      ]
     },
     "metadata": {},
     "output_type": "display_data"
    }
   ],
   "source": [
    "# Изучаем данные из 1-й таблицы:\n",
    "\n",
    "models.info()\n",
    "display(models.head())\n",
    "display(models.describe())\n",
    "display(models.isna().sum())\n",
    "display(models.duplicated().sum())"
   ]
  },
  {
   "cell_type": "code",
   "execution_count": 3,
   "metadata": {},
   "outputs": [
    {
     "data": {
      "text/html": [
       "<div>\n",
       "<style scoped>\n",
       "    .dataframe tbody tr th:only-of-type {\n",
       "        vertical-align: middle;\n",
       "    }\n",
       "\n",
       "    .dataframe tbody tr th {\n",
       "        vertical-align: top;\n",
       "    }\n",
       "\n",
       "    .dataframe thead th {\n",
       "        text-align: right;\n",
       "    }\n",
       "</style>\n",
       "<table border=\"1\" class=\"dataframe\">\n",
       "  <thead>\n",
       "    <tr style=\"text-align: right;\">\n",
       "      <th></th>\n",
       "      <th>model</th>\n",
       "      <th>flights_amount</th>\n",
       "    </tr>\n",
       "  </thead>\n",
       "  <tbody>\n",
       "    <tr>\n",
       "      <td>0</td>\n",
       "      <td>Airbus A319-100</td>\n",
       "      <td>607</td>\n",
       "    </tr>\n",
       "    <tr>\n",
       "      <td>1</td>\n",
       "      <td>Airbus A321-200</td>\n",
       "      <td>960</td>\n",
       "    </tr>\n",
       "    <tr>\n",
       "      <td>2</td>\n",
       "      <td>Boeing 737-300</td>\n",
       "      <td>630</td>\n",
       "    </tr>\n",
       "    <tr>\n",
       "      <td>3</td>\n",
       "      <td>Boeing 767-300</td>\n",
       "      <td>600</td>\n",
       "    </tr>\n",
       "    <tr>\n",
       "      <td>4</td>\n",
       "      <td>Boeing 777-300</td>\n",
       "      <td>300</td>\n",
       "    </tr>\n",
       "    <tr>\n",
       "      <td>5</td>\n",
       "      <td>Bombardier CRJ-200</td>\n",
       "      <td>4446</td>\n",
       "    </tr>\n",
       "    <tr>\n",
       "      <td>6</td>\n",
       "      <td>Cessna 208 Caravan</td>\n",
       "      <td>4557</td>\n",
       "    </tr>\n",
       "    <tr>\n",
       "      <td>7</td>\n",
       "      <td>Sukhoi SuperJet-100</td>\n",
       "      <td>4185</td>\n",
       "    </tr>\n",
       "  </tbody>\n",
       "</table>\n",
       "</div>"
      ],
      "text/plain": [
       "                 model  flights_amount\n",
       "0      Airbus A319-100             607\n",
       "1      Airbus A321-200             960\n",
       "2       Boeing 737-300             630\n",
       "3       Boeing 767-300             600\n",
       "4       Boeing 777-300             300\n",
       "5   Bombardier CRJ-200            4446\n",
       "6   Cessna 208 Caravan            4557\n",
       "7  Sukhoi SuperJet-100            4185"
      ]
     },
     "metadata": {},
     "output_type": "display_data"
    }
   ],
   "source": [
    "# В 1-й таблице всего 8 строк, выведем все:\n",
    "\n",
    "display(models.head(8))"
   ]
  },
  {
   "cell_type": "code",
   "execution_count": 4,
   "metadata": {},
   "outputs": [
    {
     "name": "stdout",
     "output_type": "stream",
     "text": [
      "<class 'pandas.core.frame.DataFrame'>\n",
      "RangeIndex: 101 entries, 0 to 100\n",
      "Data columns (total 2 columns):\n",
      "city               101 non-null object\n",
      "average_flights    101 non-null float64\n",
      "dtypes: float64(1), object(1)\n",
      "memory usage: 1.7+ KB\n"
     ]
    },
    {
     "data": {
      "text/html": [
       "<div>\n",
       "<style scoped>\n",
       "    .dataframe tbody tr th:only-of-type {\n",
       "        vertical-align: middle;\n",
       "    }\n",
       "\n",
       "    .dataframe tbody tr th {\n",
       "        vertical-align: top;\n",
       "    }\n",
       "\n",
       "    .dataframe thead th {\n",
       "        text-align: right;\n",
       "    }\n",
       "</style>\n",
       "<table border=\"1\" class=\"dataframe\">\n",
       "  <thead>\n",
       "    <tr style=\"text-align: right;\">\n",
       "      <th></th>\n",
       "      <th>city</th>\n",
       "      <th>average_flights</th>\n",
       "    </tr>\n",
       "  </thead>\n",
       "  <tbody>\n",
       "    <tr>\n",
       "      <td>0</td>\n",
       "      <td>Абакан</td>\n",
       "      <td>3.870968</td>\n",
       "    </tr>\n",
       "    <tr>\n",
       "      <td>1</td>\n",
       "      <td>Анадырь</td>\n",
       "      <td>1.000000</td>\n",
       "    </tr>\n",
       "    <tr>\n",
       "      <td>2</td>\n",
       "      <td>Анапа</td>\n",
       "      <td>2.161290</td>\n",
       "    </tr>\n",
       "    <tr>\n",
       "      <td>3</td>\n",
       "      <td>Архангельск</td>\n",
       "      <td>5.354839</td>\n",
       "    </tr>\n",
       "    <tr>\n",
       "      <td>4</td>\n",
       "      <td>Астрахань</td>\n",
       "      <td>2.451613</td>\n",
       "    </tr>\n",
       "  </tbody>\n",
       "</table>\n",
       "</div>"
      ],
      "text/plain": [
       "          city  average_flights\n",
       "0       Абакан         3.870968\n",
       "1      Анадырь         1.000000\n",
       "2        Анапа         2.161290\n",
       "3  Архангельск         5.354839\n",
       "4    Астрахань         2.451613"
      ]
     },
     "metadata": {},
     "output_type": "display_data"
    },
    {
     "data": {
      "text/html": [
       "<div>\n",
       "<style scoped>\n",
       "    .dataframe tbody tr th:only-of-type {\n",
       "        vertical-align: middle;\n",
       "    }\n",
       "\n",
       "    .dataframe tbody tr th {\n",
       "        vertical-align: top;\n",
       "    }\n",
       "\n",
       "    .dataframe thead th {\n",
       "        text-align: right;\n",
       "    }\n",
       "</style>\n",
       "<table border=\"1\" class=\"dataframe\">\n",
       "  <thead>\n",
       "    <tr style=\"text-align: right;\">\n",
       "      <th></th>\n",
       "      <th>average_flights</th>\n",
       "    </tr>\n",
       "  </thead>\n",
       "  <tbody>\n",
       "    <tr>\n",
       "      <td>count</td>\n",
       "      <td>101.000000</td>\n",
       "    </tr>\n",
       "    <tr>\n",
       "      <td>mean</td>\n",
       "      <td>5.494189</td>\n",
       "    </tr>\n",
       "    <tr>\n",
       "      <td>std</td>\n",
       "      <td>13.119790</td>\n",
       "    </tr>\n",
       "    <tr>\n",
       "      <td>min</td>\n",
       "      <td>1.000000</td>\n",
       "    </tr>\n",
       "    <tr>\n",
       "      <td>25%</td>\n",
       "      <td>2.000000</td>\n",
       "    </tr>\n",
       "    <tr>\n",
       "      <td>50%</td>\n",
       "      <td>3.000000</td>\n",
       "    </tr>\n",
       "    <tr>\n",
       "      <td>75%</td>\n",
       "      <td>5.870968</td>\n",
       "    </tr>\n",
       "    <tr>\n",
       "      <td>max</td>\n",
       "      <td>129.774194</td>\n",
       "    </tr>\n",
       "  </tbody>\n",
       "</table>\n",
       "</div>"
      ],
      "text/plain": [
       "       average_flights\n",
       "count       101.000000\n",
       "mean          5.494189\n",
       "std          13.119790\n",
       "min           1.000000\n",
       "25%           2.000000\n",
       "50%           3.000000\n",
       "75%           5.870968\n",
       "max         129.774194"
      ]
     },
     "metadata": {},
     "output_type": "display_data"
    },
    {
     "data": {
      "text/plain": [
       "city               0\n",
       "average_flights    0\n",
       "dtype: int64"
      ]
     },
     "metadata": {},
     "output_type": "display_data"
    },
    {
     "data": {
      "text/plain": [
       "0"
      ]
     },
     "metadata": {},
     "output_type": "display_data"
    }
   ],
   "source": [
    "# Изучаем данные из 2-й таблицы:\n",
    "\n",
    "cities.info()\n",
    "display(cities.head())\n",
    "display(cities.describe())\n",
    "display(cities.isna().sum())\n",
    "display(cities.duplicated().sum())"
   ]
  },
  {
   "cell_type": "markdown",
   "metadata": {},
   "source": [
    "**Выводы:**\n",
    "- В таблице 1 содержатся данные о модели самолетов и количестве рейсов для каждой модели самолетов в сентябре 2018 года. В таблице 8 строк, пропусков нет, дубликатов нет, типы данных корректны (object для названия моделей самолетов и int64 для количества рейсов).\n",
    "- В таблице 2 содержатся данные о городах и среднем количестве рейсов, прибывающих в город за день в августе 2018 года. В таблице 101 строка, пропусков нет, дубликатов нет, типы данных корректны (object для названия города и float64 для среднего количества рейсов)."
   ]
  },
  {
   "cell_type": "markdown",
   "metadata": {},
   "source": [
    "## Топ-10 городов по количеству рейсов"
   ]
  },
  {
   "cell_type": "code",
   "execution_count": 5,
   "metadata": {
    "scrolled": true
   },
   "outputs": [
    {
     "data": {
      "text/html": [
       "<div>\n",
       "<style scoped>\n",
       "    .dataframe tbody tr th:only-of-type {\n",
       "        vertical-align: middle;\n",
       "    }\n",
       "\n",
       "    .dataframe tbody tr th {\n",
       "        vertical-align: top;\n",
       "    }\n",
       "\n",
       "    .dataframe thead th {\n",
       "        text-align: right;\n",
       "    }\n",
       "</style>\n",
       "<table border=\"1\" class=\"dataframe\">\n",
       "  <thead>\n",
       "    <tr style=\"text-align: right;\">\n",
       "      <th></th>\n",
       "      <th>city</th>\n",
       "      <th>average_flights</th>\n",
       "    </tr>\n",
       "  </thead>\n",
       "  <tbody>\n",
       "    <tr>\n",
       "      <td>43</td>\n",
       "      <td>Москва</td>\n",
       "      <td>129.774194</td>\n",
       "    </tr>\n",
       "    <tr>\n",
       "      <td>70</td>\n",
       "      <td>Санкт-Петербург</td>\n",
       "      <td>31.161290</td>\n",
       "    </tr>\n",
       "    <tr>\n",
       "      <td>54</td>\n",
       "      <td>Новосибирск</td>\n",
       "      <td>17.322581</td>\n",
       "    </tr>\n",
       "    <tr>\n",
       "      <td>33</td>\n",
       "      <td>Красноярск</td>\n",
       "      <td>11.580645</td>\n",
       "    </tr>\n",
       "    <tr>\n",
       "      <td>20</td>\n",
       "      <td>Екатеринбург</td>\n",
       "      <td>11.322581</td>\n",
       "    </tr>\n",
       "    <tr>\n",
       "      <td>67</td>\n",
       "      <td>Ростов-на-Дону</td>\n",
       "      <td>10.193548</td>\n",
       "    </tr>\n",
       "    <tr>\n",
       "      <td>63</td>\n",
       "      <td>Пермь</td>\n",
       "      <td>10.129032</td>\n",
       "    </tr>\n",
       "    <tr>\n",
       "      <td>10</td>\n",
       "      <td>Брянск</td>\n",
       "      <td>10.000000</td>\n",
       "    </tr>\n",
       "    <tr>\n",
       "      <td>74</td>\n",
       "      <td>Сочи</td>\n",
       "      <td>9.612903</td>\n",
       "    </tr>\n",
       "    <tr>\n",
       "      <td>84</td>\n",
       "      <td>Ульяновск</td>\n",
       "      <td>9.580645</td>\n",
       "    </tr>\n",
       "  </tbody>\n",
       "</table>\n",
       "</div>"
      ],
      "text/plain": [
       "               city  average_flights\n",
       "43           Москва       129.774194\n",
       "70  Санкт-Петербург        31.161290\n",
       "54      Новосибирск        17.322581\n",
       "33       Красноярск        11.580645\n",
       "20     Екатеринбург        11.322581\n",
       "67   Ростов-на-Дону        10.193548\n",
       "63            Пермь        10.129032\n",
       "10           Брянск        10.000000\n",
       "74             Сочи         9.612903\n",
       "84        Ульяновск         9.580645"
      ]
     },
     "metadata": {},
     "output_type": "display_data"
    }
   ],
   "source": [
    "# Выведем топ-10 городов по среднему количеству рейсов:\n",
    "\n",
    "top10_cities = cities.sort_values(by=['average_flights'], ascending=False).head(10)\n",
    "display(top10_cities)"
   ]
  },
  {
   "cell_type": "markdown",
   "metadata": {},
   "source": [
    "## Построение графиков"
   ]
  },
  {
   "cell_type": "code",
   "execution_count": 6,
   "metadata": {},
   "outputs": [
    {
     "data": {
      "image/png": "[encoded data removed]",
      "text/plain": [
       "<Figure size 432x288 with 1 Axes>"
      ]
     },
     "metadata": {
      "needs_background": "light"
     },
     "output_type": "display_data"
    }
   ],
   "source": [
    "# Построим столбчатую диаграмму распределения моделей самолетов и количества рейсов по убыванию:\n",
    "\n",
    "models_sorted = models.sort_values('flights_amount', ascending = False)\n",
    "plt.bar(models_sorted['model'], models_sorted['flights_amount'])\n",
    "plt.suptitle('Количество рейсов по моделям самолетов за сентябрь 2018')\n",
    "plt.xlabel('Модель самолета')\n",
    "plt.ylabel('Количество рейсов')\n",
    "plt.xticks(rotation=90);"
   ]
  },
  {
   "cell_type": "markdown",
   "metadata": {},
   "source": [
    "На основании построенного графика можно сделать выводы:\n",
    "\n",
    "- Чем меньше самолет, тем больше рейсов он осуществляет, так как используется для перелетов на более короткие расстояния и, соответственно, может осуществить больше рейсов. Можно выделить три группы самолетов:\n",
    "    1. На первом месте по количеству рейсов идут рейсы на самолетах Cessna 208 Caravan. Это самолет малой авиации, предназначенный для транспортировки небольшого количества людей (до 13 чел), дальность полета около 1500 км (данные из открытых источников).\n",
    "    2. На втором и третьем месте по количеству рейсов - самолеты Bombardier CRJ-200 (вместимость около 50 чел., дальность полета около 3000 км) и Sukhoi SuperJet-100 (вместимость 100 чел., дальность полета 3000 км или 4500 км в зависимости от модификации)\n",
    "    3. С 4 по 8 место самолеты производителей Boeing и Airbus с вместимостью 150-450 чел и дальностью полета 4000-11000 км."
   ]
  },
  {
   "cell_type": "code",
   "execution_count": 7,
   "metadata": {
    "scrolled": false
   },
   "outputs": [
    {
     "data": {
      "image/png": "[encoded data removed]",
      "text/plain": [
       "<Figure size 1800x720 with 1 Axes>"
      ]
     },
     "metadata": {
      "needs_background": "light"
     },
     "output_type": "display_data"
    }
   ],
   "source": [
    "# Построим столбчатую диаграмму распределения городов и среднего количества рейсов по убыванию\n",
    "# (так как в таблице большее количество значений, размер графика обозначим вручную):\n",
    "\n",
    "cities_sorted = cities.sort_values('average_flights', ascending = False)\n",
    "plt.figure(figsize=(25, 10))\n",
    "plt.bar(cities_sorted['city'], cities_sorted['average_flights'])\n",
    "\n",
    "plt.suptitle('Среднее количество рейсов в день по городам за август 2018')\n",
    "plt.xlabel('Название города')\n",
    "plt.ylabel('Среднее количество рейсов в день')\n",
    "\n",
    "plt.xticks(rotation=90);"
   ]
  },
  {
   "cell_type": "markdown",
   "metadata": {},
   "source": [
    "На графике виден колоссальный отрыв среднего количества рейсов, прибывающих в Москву от остальных городов. Данный результат закономерен, так как Москва является крупнейшим городом России, главным пересадочным узлов всех авиакомпаний России, также через Москву осуществляется большинство рейсов за границу."
   ]
  },
  {
   "cell_type": "code",
   "execution_count": 8,
   "metadata": {},
   "outputs": [
    {
     "data": {
      "image/png": "[encoded data removed]",
      "text/plain": [
       "<Figure size 432x288 with 1 Axes>"
      ]
     },
     "metadata": {
      "needs_background": "light"
     },
     "output_type": "display_data"
    }
   ],
   "source": [
    "# Построим столбчатую диаграмму распределения Топ-10 городов и среднего количества рейсов по убыванию:\n",
    "\n",
    "plt.bar(top10_cities['city'], top10_cities['average_flights'])\n",
    "plt.suptitle('Среднее количество рейсов в день по Топ-10 городам за август 2018')\n",
    "plt.xlabel('Название города')\n",
    "plt.ylabel('Среднее количество рейсов в день')\n",
    "plt.xticks(rotation=90);"
   ]
  },
  {
   "cell_type": "markdown",
   "metadata": {},
   "source": [
    "На графике Топ-10 городов, помимо Москвы, можно выделить Санкт-Петербург (среднее количество рейсов - 31.16) и Новосибирск (среднее количество рейсов - 17.32). \n",
    "- Санкт-Петербург является вторым по населению городом России и также как и Москва - городом федерального значения. Среднее количество рейсов в Санкт-Петербург также велико по сравнению с остальными городами. Через Санкт-Петербург также осуществялется много пересадочных рейсов, в том числе за границу.\n",
    "- Новосибирск - третий город России по населению. Аэропорт Новосибирска крупнейший по пассажиропотоку в азиатской части России, используется как пересадочный узел некоторыми Авиакомпаниями. \n",
    "\n",
    "В остальных городах среднее количество рейсов в день меньше - для Красноярска 11.58, и далее плавно уменьшается во оставшимся городам.\n",
    "\n",
    "На основании графиков (по общему количеству городов и Топ-10) можно сделать вывод, что среднее количество рейсов в день зависит от размера города и является ли он пересадочным узлом."
   ]
  }
 ],
 "metadata": {
  "ExecuteTimeLog": [
   {
    "duration": 211,
    "start_time": "2021-11-11T18:32:14.724Z"
   },
   {
    "duration": 1045,
    "start_time": "2021-11-11T18:32:17.255Z"
   },
   {
    "duration": 23,
    "start_time": "2021-11-11T18:32:19.134Z"
   },
   {
    "duration": 217,
    "start_time": "2021-11-11T18:32:55.585Z"
   },
   {
    "duration": 29,
    "start_time": "2021-11-11T18:33:01.469Z"
   },
   {
    "duration": 185,
    "start_time": "2021-11-11T18:33:04.100Z"
   },
   {
    "duration": 20,
    "start_time": "2021-11-11T18:33:14.980Z"
   },
   {
    "duration": 179,
    "start_time": "2021-11-11T18:35:48.951Z"
   },
   {
    "duration": 175,
    "start_time": "2021-11-11T18:36:01.000Z"
   },
   {
    "duration": 4,
    "start_time": "2021-11-11T18:36:41.151Z"
   },
   {
    "duration": 9,
    "start_time": "2021-11-11T18:37:08.580Z"
   },
   {
    "duration": 1382,
    "start_time": "2021-11-12T20:59:23.795Z"
   },
   {
    "duration": 35,
    "start_time": "2021-11-12T20:59:25.180Z"
   },
   {
    "duration": 68,
    "start_time": "2021-11-12T20:59:25.218Z"
   },
   {
    "duration": 12,
    "start_time": "2021-11-12T20:59:25.289Z"
   },
   {
    "duration": 448,
    "start_time": "2021-11-12T21:06:47.275Z"
   },
   {
    "duration": 694,
    "start_time": "2021-11-12T21:07:35.906Z"
   },
   {
    "duration": 696,
    "start_time": "2021-11-12T21:08:44.579Z"
   },
   {
    "duration": 29,
    "start_time": "2021-11-12T21:09:11.634Z"
   },
   {
    "duration": 316,
    "start_time": "2021-11-12T21:14:04.084Z"
   },
   {
    "duration": 348,
    "start_time": "2021-11-12T21:14:38.939Z"
   },
   {
    "duration": 2215,
    "start_time": "2021-11-12T21:14:49.267Z"
   },
   {
    "duration": 2703,
    "start_time": "2021-11-12T21:15:24.885Z"
   },
   {
    "duration": 399,
    "start_time": "2021-11-12T21:16:20.505Z"
   },
   {
    "duration": 1404,
    "start_time": "2021-11-14T10:09:08.486Z"
   },
   {
    "duration": 35,
    "start_time": "2021-11-14T10:09:09.893Z"
   },
   {
    "duration": 8,
    "start_time": "2021-11-14T10:09:09.931Z"
   },
   {
    "duration": 51,
    "start_time": "2021-11-14T10:09:09.941Z"
   },
   {
    "duration": 11,
    "start_time": "2021-11-14T10:09:09.995Z"
   },
   {
    "duration": 520,
    "start_time": "2021-11-14T10:09:10.008Z"
   },
   {
    "duration": -13,
    "start_time": "2021-11-14T10:09:10.544Z"
   },
   {
    "duration": -18,
    "start_time": "2021-11-14T10:09:10.550Z"
   },
   {
    "duration": -22,
    "start_time": "2021-11-14T10:09:10.556Z"
   },
   {
    "duration": 12,
    "start_time": "2021-11-14T10:10:03.885Z"
   },
   {
    "duration": 13,
    "start_time": "2021-11-14T10:11:43.708Z"
   },
   {
    "duration": 1646,
    "start_time": "2021-11-14T10:17:57.486Z"
   },
   {
    "duration": 51,
    "start_time": "2021-11-14T10:17:59.135Z"
   },
   {
    "duration": 16,
    "start_time": "2021-11-14T10:17:59.193Z"
   },
   {
    "duration": 10,
    "start_time": "2021-11-14T10:17:59.212Z"
   },
   {
    "duration": 74,
    "start_time": "2021-11-14T10:17:59.224Z"
   },
   {
    "duration": 14,
    "start_time": "2021-11-14T10:17:59.302Z"
   },
   {
    "duration": 380,
    "start_time": "2021-11-14T10:17:59.318Z"
   },
   {
    "duration": 3024,
    "start_time": "2021-11-14T10:17:59.703Z"
   },
   {
    "duration": 396,
    "start_time": "2021-11-14T10:18:02.730Z"
   },
   {
    "duration": 1426,
    "start_time": "2021-11-14T13:04:29.225Z"
   },
   {
    "duration": 38,
    "start_time": "2021-11-14T13:04:30.654Z"
   },
   {
    "duration": 9,
    "start_time": "2021-11-14T13:04:30.696Z"
   },
   {
    "duration": 67,
    "start_time": "2021-11-14T13:04:30.709Z"
   },
   {
    "duration": 14,
    "start_time": "2021-11-14T13:04:30.779Z"
   },
   {
    "duration": 339,
    "start_time": "2021-11-14T13:04:30.796Z"
   },
   {
    "duration": 2560,
    "start_time": "2021-11-14T13:04:31.138Z"
   },
   {
    "duration": 343,
    "start_time": "2021-11-14T13:04:33.701Z"
   },
   {
    "duration": 1086,
    "start_time": "2021-11-14T16:41:00.389Z"
   },
   {
    "duration": 26,
    "start_time": "2021-11-14T16:41:01.477Z"
   },
   {
    "duration": 8,
    "start_time": "2021-11-14T16:41:01.505Z"
   },
   {
    "duration": 32,
    "start_time": "2021-11-14T16:41:01.515Z"
   },
   {
    "duration": 9,
    "start_time": "2021-11-14T16:41:01.549Z"
   },
   {
    "duration": 218,
    "start_time": "2021-11-14T16:41:01.560Z"
   },
   {
    "duration": 1705,
    "start_time": "2021-11-14T16:41:01.780Z"
   },
   {
    "duration": 202,
    "start_time": "2021-11-14T16:41:03.491Z"
   },
   {
    "duration": 1001,
    "start_time": "2021-11-14T16:53:09.387Z"
   },
   {
    "duration": 24,
    "start_time": "2021-11-14T16:53:10.391Z"
   },
   {
    "duration": 7,
    "start_time": "2021-11-14T16:53:10.417Z"
   },
   {
    "duration": 37,
    "start_time": "2021-11-14T16:53:10.426Z"
   },
   {
    "duration": 26,
    "start_time": "2021-11-14T16:53:10.465Z"
   },
   {
    "duration": 187,
    "start_time": "2021-11-14T16:53:10.493Z"
   },
   {
    "duration": 1628,
    "start_time": "2021-11-14T16:53:10.681Z"
   },
   {
    "duration": 211,
    "start_time": "2021-11-14T16:53:12.311Z"
   },
   {
    "duration": 470,
    "start_time": "2021-11-14T18:46:11.290Z"
   },
   {
    "duration": 1451,
    "start_time": "2021-11-14T18:46:18.729Z"
   },
   {
    "duration": 35,
    "start_time": "2021-11-14T18:46:20.183Z"
   },
   {
    "duration": 8,
    "start_time": "2021-11-14T18:46:20.221Z"
   },
   {
    "duration": 31,
    "start_time": "2021-11-14T18:46:20.232Z"
   },
   {
    "duration": 13,
    "start_time": "2021-11-14T18:46:20.301Z"
   },
   {
    "duration": 350,
    "start_time": "2021-11-14T18:46:20.317Z"
   },
   {
    "duration": 2662,
    "start_time": "2021-11-14T18:46:20.670Z"
   },
   {
    "duration": 348,
    "start_time": "2021-11-14T18:46:23.336Z"
   },
   {
    "duration": 832,
    "start_time": "2021-11-14T18:50:55.199Z"
   },
   {
    "duration": 245,
    "start_time": "2021-11-14T19:04:40.133Z"
   },
   {
    "duration": 265,
    "start_time": "2021-11-14T19:05:07.237Z"
   },
   {
    "duration": 293,
    "start_time": "2021-11-14T19:08:47.719Z"
   },
   {
    "duration": 354,
    "start_time": "2021-11-14T19:10:44.709Z"
   },
   {
    "duration": 274,
    "start_time": "2021-11-14T19:10:58.426Z"
   },
   {
    "duration": 296,
    "start_time": "2021-11-14T19:11:52.829Z"
   },
   {
    "duration": 2330,
    "start_time": "2021-11-14T19:14:20.060Z"
   },
   {
    "duration": 2991,
    "start_time": "2021-11-14T19:15:58.961Z"
   },
   {
    "duration": 3166,
    "start_time": "2021-11-14T19:16:18.324Z"
   },
   {
    "duration": 328,
    "start_time": "2021-11-14T19:17:17.669Z"
   },
   {
    "duration": 1582,
    "start_time": "2021-11-14T19:21:07.504Z"
   },
   {
    "duration": 36,
    "start_time": "2021-11-14T19:21:09.088Z"
   },
   {
    "duration": 9,
    "start_time": "2021-11-14T19:21:09.128Z"
   },
   {
    "duration": 63,
    "start_time": "2021-11-14T19:21:09.140Z"
   },
   {
    "duration": 13,
    "start_time": "2021-11-14T19:21:09.206Z"
   },
   {
    "duration": 417,
    "start_time": "2021-11-14T19:21:09.221Z"
   },
   {
    "duration": 3050,
    "start_time": "2021-11-14T19:21:09.641Z"
   },
   {
    "duration": 410,
    "start_time": "2021-11-14T19:21:12.694Z"
   },
   {
    "duration": 2883,
    "start_time": "2021-11-14T19:22:22.099Z"
   },
   {
    "duration": 2342,
    "start_time": "2021-11-14T19:22:43.872Z"
   },
   {
    "duration": 2275,
    "start_time": "2021-11-14T19:22:53.765Z"
   },
   {
    "duration": 2808,
    "start_time": "2021-11-14T19:24:45.438Z"
   },
   {
    "duration": 1397,
    "start_time": "2021-11-14T19:26:15.810Z"
   },
   {
    "duration": 34,
    "start_time": "2021-11-14T19:26:17.210Z"
   },
   {
    "duration": 9,
    "start_time": "2021-11-14T19:26:17.247Z"
   },
   {
    "duration": 65,
    "start_time": "2021-11-14T19:26:17.258Z"
   },
   {
    "duration": 12,
    "start_time": "2021-11-14T19:26:17.326Z"
   },
   {
    "duration": 324,
    "start_time": "2021-11-14T19:26:17.340Z"
   },
   {
    "duration": 2758,
    "start_time": "2021-11-14T19:26:17.667Z"
   },
   {
    "duration": 363,
    "start_time": "2021-11-14T19:26:20.428Z"
   },
   {
    "duration": 1337,
    "start_time": "2021-11-15T18:01:53.525Z"
   },
   {
    "duration": 37,
    "start_time": "2021-11-15T18:01:54.864Z"
   },
   {
    "duration": 9,
    "start_time": "2021-11-15T18:01:54.904Z"
   },
   {
    "duration": 73,
    "start_time": "2021-11-15T18:01:54.915Z"
   },
   {
    "duration": 11,
    "start_time": "2021-11-15T18:01:54.990Z"
   },
   {
    "duration": 350,
    "start_time": "2021-11-15T18:01:55.003Z"
   },
   {
    "duration": 2925,
    "start_time": "2021-11-15T18:01:55.355Z"
   },
   {
    "duration": 343,
    "start_time": "2021-11-15T18:01:58.283Z"
   },
   {
    "duration": 1344,
    "start_time": "2021-11-15T18:04:42.106Z"
   },
   {
    "duration": 38,
    "start_time": "2021-11-15T18:04:43.453Z"
   },
   {
    "duration": 9,
    "start_time": "2021-11-15T18:04:43.494Z"
   },
   {
    "duration": 73,
    "start_time": "2021-11-15T18:04:43.506Z"
   },
   {
    "duration": 13,
    "start_time": "2021-11-15T18:04:43.581Z"
   },
   {
    "duration": 321,
    "start_time": "2021-11-15T18:04:43.596Z"
   },
   {
    "duration": 2712,
    "start_time": "2021-11-15T18:04:43.919Z"
   },
   {
    "duration": 335,
    "start_time": "2021-11-15T18:04:46.635Z"
   },
   {
    "duration": 2227,
    "start_time": "2021-11-15T18:04:55.725Z"
   },
   {
    "duration": 2985,
    "start_time": "2021-11-15T18:05:17.565Z"
   },
   {
    "duration": 2859,
    "start_time": "2021-11-15T18:05:31.028Z"
   },
   {
    "duration": 2837,
    "start_time": "2021-11-15T18:06:26.934Z"
   },
   {
    "duration": 1344,
    "start_time": "2021-11-15T18:07:51.105Z"
   },
   {
    "duration": 39,
    "start_time": "2021-11-15T18:07:52.452Z"
   },
   {
    "duration": 10,
    "start_time": "2021-11-15T18:07:52.494Z"
   },
   {
    "duration": 68,
    "start_time": "2021-11-15T18:07:52.507Z"
   },
   {
    "duration": 13,
    "start_time": "2021-11-15T18:07:52.577Z"
   },
   {
    "duration": 323,
    "start_time": "2021-11-15T18:07:52.592Z"
   },
   {
    "duration": 2971,
    "start_time": "2021-11-15T18:07:52.918Z"
   },
   {
    "duration": 341,
    "start_time": "2021-11-15T18:07:55.893Z"
   }
  ],
  "kernelspec": {
   "display_name": "Python 3",
   "language": "python",
   "name": "python3"
  },
  "language_info": {
   "codemirror_mode": {
    "name": "ipython",
    "version": 3
   },
   "file_extension": ".py",
   "mimetype": "text/x-python",
   "name": "python",
   "nbconvert_exporter": "python",
   "pygments_lexer": "ipython3",
   "version": "3.7.8"
  },
  "toc": {
   "base_numbering": 1,
   "nav_menu": {},
   "number_sections": true,
   "sideBar": true,
   "skip_h1_title": true,
   "title_cell": "Содержание",
   "title_sidebar": "Contents",
   "toc_cell": true,
   "toc_position": {},
   "toc_section_display": true,
   "toc_window_display": false
  }
 },
 "nbformat": 4,
 "nbformat_minor": 2
}
