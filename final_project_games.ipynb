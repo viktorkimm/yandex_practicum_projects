{
 "cells": [
  {
   "cell_type": "markdown",
   "metadata": {},
   "source": [
    "# Формирование модели монетизации мобильной игры «Космические братья»"
   ]
  },
  {
   "cell_type": "markdown",
   "metadata": {
    "toc": true
   },
   "source": [
    "<h1>Оглавление<span class=\"tocSkip\"></span></h1>\n",
    "<div class=\"toc\"><ul class=\"toc-item\"><li><span><a href=\"#Описание-проекта\" data-toc-modified-id=\"Описание-проекта-1\"><span class=\"toc-item-num\">1&nbsp;&nbsp;</span>Описание проекта</a></span></li><li><span><a href=\"#Предобработка-данных\" data-toc-modified-id=\"Предобработка-данных-2\"><span class=\"toc-item-num\">2&nbsp;&nbsp;</span>Предобработка данных</a></span><ul class=\"toc-item\"><li><span><a href=\"#Таблица-game_actions\" data-toc-modified-id=\"Таблица-game_actions-2.1\"><span class=\"toc-item-num\">2.1&nbsp;&nbsp;</span>Таблица game_actions</a></span></li><li><span><a href=\"#Таблица-ad_costs\" data-toc-modified-id=\"Таблица-ad_costs-2.2\"><span class=\"toc-item-num\">2.2&nbsp;&nbsp;</span>Таблица ad_costs</a></span></li><li><span><a href=\"#Таблица-user_source\" data-toc-modified-id=\"Таблица-user_source-2.3\"><span class=\"toc-item-num\">2.3&nbsp;&nbsp;</span>Таблица user_source</a></span></li><li><span><a href=\"#Приведение-типов-данных-к-нужному-формату\" data-toc-modified-id=\"Приведение-типов-данных-к-нужному-формату-2.4\"><span class=\"toc-item-num\">2.4&nbsp;&nbsp;</span>Приведение типов данных к нужному формату</a></span></li><li><span><a href=\"#Работа-с-дубликатами\" data-toc-modified-id=\"Работа-с-дубликатами-2.5\"><span class=\"toc-item-num\">2.5&nbsp;&nbsp;</span>Работа с дубликатами</a></span></li><li><span><a href=\"#Работа-с-пропусками\" data-toc-modified-id=\"Работа-с-пропусками-2.6\"><span class=\"toc-item-num\">2.6&nbsp;&nbsp;</span>Работа с пропусками</a></span></li><li><span><a href=\"#Выводы\" data-toc-modified-id=\"Выводы-2.7\"><span class=\"toc-item-num\">2.7&nbsp;&nbsp;</span>Выводы</a></span></li></ul></li><li><span><a href=\"#Исследовательский-анализ-данных\" data-toc-modified-id=\"Исследовательский-анализ-данных-3\"><span class=\"toc-item-num\">3&nbsp;&nbsp;</span>Исследовательский анализ данных</a></span><ul class=\"toc-item\"><li><span><a href=\"#Исследование-пользователей-по-способу-завершения-уровня\" data-toc-modified-id=\"Исследование-пользователей-по-способу-завершения-уровня-3.1\"><span class=\"toc-item-num\">3.1&nbsp;&nbsp;</span>Исследование пользователей по способу завершения уровня</a></span></li><li><span><a href=\"#Количество-построенных-зданий\" data-toc-modified-id=\"Количество-построенных-зданий-3.2\"><span class=\"toc-item-num\">3.2&nbsp;&nbsp;</span>Количество построенных зданий</a></span></li><li><span><a href=\"#Распределение-игроков-по-источникам-трафика\" data-toc-modified-id=\"Распределение-игроков-по-источникам-трафика-3.3\"><span class=\"toc-item-num\">3.3&nbsp;&nbsp;</span>Распределение игроков по источникам трафика</a></span></li><li><span><a href=\"#Маркетинговые-затраты\" data-toc-modified-id=\"Маркетинговые-затраты-3.4\"><span class=\"toc-item-num\">3.4&nbsp;&nbsp;</span>Маркетинговые затраты</a></span><ul class=\"toc-item\"><li><span><a href=\"#Средний-CAC-и-ROMI-для-всего-проекта\" data-toc-modified-id=\"Средний-CAC-и-ROMI-для-всего-проекта-3.4.1\"><span class=\"toc-item-num\">3.4.1&nbsp;&nbsp;</span>Средний CAC и ROMI для всего проекта</a></span></li><li><span><a href=\"#CAC-по-источникам-трафика\" data-toc-modified-id=\"CAC-по-источникам-трафика-3.4.2\"><span class=\"toc-item-num\">3.4.2&nbsp;&nbsp;</span>CAC по источникам трафика</a></span></li><li><span><a href=\"#Затраты-по-дням\" data-toc-modified-id=\"Затраты-по-дням-3.4.3\"><span class=\"toc-item-num\">3.4.3&nbsp;&nbsp;</span>Затраты по дням</a></span></li></ul></li></ul></li><li><span><a href=\"#Анализ-базовой-модели\" data-toc-modified-id=\"Анализ-базовой-модели-4\"><span class=\"toc-item-num\">4&nbsp;&nbsp;</span>Анализ базовой модели</a></span></li><li><span><a href=\"#Расчет-новой-модели-показа-рекламы\" data-toc-modified-id=\"Расчет-новой-модели-показа-рекламы-5\"><span class=\"toc-item-num\">5&nbsp;&nbsp;</span>Расчет новой модели показа рекламы</a></span></li><li><span><a href=\"#Проверка-статистических-гипотез\" data-toc-modified-id=\"Проверка-статистических-гипотез-6\"><span class=\"toc-item-num\">6&nbsp;&nbsp;</span>Проверка статистических гипотез</a></span><ul class=\"toc-item\"><li><span><a href=\"#Гипотеза-различия-времени-прохождения-уровня\" data-toc-modified-id=\"Гипотеза-различия-времени-прохождения-уровня-6.1\"><span class=\"toc-item-num\">6.1&nbsp;&nbsp;</span>Гипотеза различия времени прохождения уровня</a></span></li><li><span><a href=\"#Гипотеза-различия-конверсии-в-завершение-уровня\" data-toc-modified-id=\"Гипотеза-различия-конверсии-в-завершение-уровня-6.2\"><span class=\"toc-item-num\">6.2&nbsp;&nbsp;</span>Гипотеза различия конверсии в завершение уровня</a></span></li></ul></li><li><span><a href=\"#Выводы\" data-toc-modified-id=\"Выводы-7\"><span class=\"toc-item-num\">7&nbsp;&nbsp;</span>Выводы</a></span><ul class=\"toc-item\"><li><span><a href=\"#Формирование-модели-монетизации\" data-toc-modified-id=\"Формирование-модели-монетизации-7.1\"><span class=\"toc-item-num\">7.1&nbsp;&nbsp;</span>Формирование модели монетизации</a></span></li><li><span><a href=\"#Проверка-статистических-гипотез\" data-toc-modified-id=\"Проверка-статистических-гипотез-7.2\"><span class=\"toc-item-num\">7.2&nbsp;&nbsp;</span>Проверка статистических гипотез</a></span></li></ul></li></ul></div>"
   ]
  },
  {
   "cell_type": "markdown",
   "metadata": {},
   "source": [
    "## Описание проекта"
   ]
  },
  {
   "cell_type": "markdown",
   "metadata": {},
   "source": [
    "Проект - исследование, как ведут себя пользователи мобильной игры «Космические братья».\n",
    "\n",
    "В нашем распоряжении логи игры за период с 4 по 10 мая включительно, а также данные по маркетинговым расходам.\n",
    "\n",
    "Задача - сформировать модель монетизации. Для этого проведем анализ данных, рассчитаем базовую модель монетизации (показ рекламы на каждом построенном здание) и предложим новую (требования Заказчика - снизить рекламную нагрузку, при этом \"не уйти в минус\").\n",
    "\n",
    "Дополнительно проверим статистические гипотезы:\n",
    "\n",
    "- Проверим гипотезу различия времени прохождения уровня между пользователями, которые заканчивают уровень через реализацию проекта, и пользователями, которые заканчивают уровень победой над другим игроком.\n",
    "\n",
    "- Проверим гипотезу различия количества построенных зданий между пользователями, которые заканчивают уровень через реализацию проекта, и пользователями, которые заканчивают уровень победой над другим игроком."
   ]
  },
  {
   "cell_type": "markdown",
   "metadata": {},
   "source": [
    "## Предобработка данных"
   ]
  },
  {
   "cell_type": "code",
   "execution_count": 1,
   "metadata": {},
   "outputs": [],
   "source": [
    "# Импортируем библиотеки, выставим необходимые настройки:\n",
    "import pandas as pd\n",
    "import sys\n",
    "\n",
    "if not sys.warnoptions:\n",
    "    import warnings\n",
    "    warnings.simplefilter(\"ignore\")\n",
    "    \n",
    "import math\n",
    "import numpy as np\n",
    "import matplotlib.pyplot as plt\n",
    "from scipy import stats as st\n",
    "from IPython.display import display\n",
    "import seaborn as sns\n",
    "from statsmodels.stats.proportion import proportions_ztest\n",
    "pd.set_option('display.max_columns', None)\n",
    "pd.set_option('display.max_rows', 100)"
   ]
  },
  {
   "cell_type": "markdown",
   "metadata": {},
   "source": [
    "### Таблица game_actions"
   ]
  },
  {
   "cell_type": "code",
   "execution_count": 2,
   "metadata": {},
   "outputs": [
    {
     "data": {
      "text/html": [
       "<div>\n",
       "<style scoped>\n",
       "    .dataframe tbody tr th:only-of-type {\n",
       "        vertical-align: middle;\n",
       "    }\n",
       "\n",
       "    .dataframe tbody tr th {\n",
       "        vertical-align: top;\n",
       "    }\n",
       "\n",
       "    .dataframe thead th {\n",
       "        text-align: right;\n",
       "    }\n",
       "</style>\n",
       "<table border=\"1\" class=\"dataframe\">\n",
       "  <thead>\n",
       "    <tr style=\"text-align: right;\">\n",
       "      <th></th>\n",
       "      <th>event_datetime</th>\n",
       "      <th>event</th>\n",
       "      <th>building_type</th>\n",
       "      <th>user_id</th>\n",
       "      <th>project_type</th>\n",
       "    </tr>\n",
       "  </thead>\n",
       "  <tbody>\n",
       "    <tr>\n",
       "      <th>0</th>\n",
       "      <td>2020-05-04 00:00:01</td>\n",
       "      <td>building</td>\n",
       "      <td>assembly_shop</td>\n",
       "      <td>55e92310-cb8e-4754-b622-597e124b03de</td>\n",
       "      <td>NaN</td>\n",
       "    </tr>\n",
       "    <tr>\n",
       "      <th>1</th>\n",
       "      <td>2020-05-04 00:00:03</td>\n",
       "      <td>building</td>\n",
       "      <td>assembly_shop</td>\n",
       "      <td>c07b1c10-f477-44dc-81dc-ec82254b1347</td>\n",
       "      <td>NaN</td>\n",
       "    </tr>\n",
       "    <tr>\n",
       "      <th>2</th>\n",
       "      <td>2020-05-04 00:00:16</td>\n",
       "      <td>building</td>\n",
       "      <td>assembly_shop</td>\n",
       "      <td>6edd42cc-e753-4ff6-a947-2107cd560710</td>\n",
       "      <td>NaN</td>\n",
       "    </tr>\n",
       "    <tr>\n",
       "      <th>3</th>\n",
       "      <td>2020-05-04 00:00:16</td>\n",
       "      <td>building</td>\n",
       "      <td>assembly_shop</td>\n",
       "      <td>92c69003-d60a-444a-827f-8cc51bf6bf4c</td>\n",
       "      <td>NaN</td>\n",
       "    </tr>\n",
       "    <tr>\n",
       "      <th>4</th>\n",
       "      <td>2020-05-04 00:00:35</td>\n",
       "      <td>building</td>\n",
       "      <td>assembly_shop</td>\n",
       "      <td>cdc6bb92-0ccb-4490-9866-ef142f09139d</td>\n",
       "      <td>NaN</td>\n",
       "    </tr>\n",
       "  </tbody>\n",
       "</table>\n",
       "</div>"
      ],
      "text/plain": [
       "        event_datetime     event  building_type  \\\n",
       "0  2020-05-04 00:00:01  building  assembly_shop   \n",
       "1  2020-05-04 00:00:03  building  assembly_shop   \n",
       "2  2020-05-04 00:00:16  building  assembly_shop   \n",
       "3  2020-05-04 00:00:16  building  assembly_shop   \n",
       "4  2020-05-04 00:00:35  building  assembly_shop   \n",
       "\n",
       "                                user_id project_type  \n",
       "0  55e92310-cb8e-4754-b622-597e124b03de          NaN  \n",
       "1  c07b1c10-f477-44dc-81dc-ec82254b1347          NaN  \n",
       "2  6edd42cc-e753-4ff6-a947-2107cd560710          NaN  \n",
       "3  92c69003-d60a-444a-827f-8cc51bf6bf4c          NaN  \n",
       "4  cdc6bb92-0ccb-4490-9866-ef142f09139d          NaN  "
      ]
     },
     "execution_count": 2,
     "metadata": {},
     "output_type": "execute_result"
    }
   ],
   "source": [
    "# Сохраним game_actions в переменной, изучим файлы:\n",
    "game_actions = pd.read_csv('/datasets/game_actions.csv')\n",
    "game_actions.head()"
   ]
  },
  {
   "cell_type": "code",
   "execution_count": 3,
   "metadata": {
    "scrolled": false
   },
   "outputs": [
    {
     "name": "stdout",
     "output_type": "stream",
     "text": [
      "Распределение данных в столбцах:\n"
     ]
    },
    {
     "data": {
      "text/html": [
       "<div>\n",
       "<style scoped>\n",
       "    .dataframe tbody tr th:only-of-type {\n",
       "        vertical-align: middle;\n",
       "    }\n",
       "\n",
       "    .dataframe tbody tr th {\n",
       "        vertical-align: top;\n",
       "    }\n",
       "\n",
       "    .dataframe thead th {\n",
       "        text-align: right;\n",
       "    }\n",
       "</style>\n",
       "<table border=\"1\" class=\"dataframe\">\n",
       "  <thead>\n",
       "    <tr style=\"text-align: right;\">\n",
       "      <th></th>\n",
       "      <th>event_datetime</th>\n",
       "      <th>event</th>\n",
       "      <th>building_type</th>\n",
       "      <th>user_id</th>\n",
       "      <th>project_type</th>\n",
       "    </tr>\n",
       "  </thead>\n",
       "  <tbody>\n",
       "    <tr>\n",
       "      <th>count</th>\n",
       "      <td>135640</td>\n",
       "      <td>135640</td>\n",
       "      <td>127957</td>\n",
       "      <td>135640</td>\n",
       "      <td>1866</td>\n",
       "    </tr>\n",
       "    <tr>\n",
       "      <th>unique</th>\n",
       "      <td>128790</td>\n",
       "      <td>3</td>\n",
       "      <td>3</td>\n",
       "      <td>13576</td>\n",
       "      <td>1</td>\n",
       "    </tr>\n",
       "    <tr>\n",
       "      <th>top</th>\n",
       "      <td>2020-05-08 21:56:19</td>\n",
       "      <td>building</td>\n",
       "      <td>spaceport</td>\n",
       "      <td>bf542075-e3a2-4e79-82d8-3838e86d2a25</td>\n",
       "      <td>satellite_orbital_assembly</td>\n",
       "    </tr>\n",
       "    <tr>\n",
       "      <th>freq</th>\n",
       "      <td>4</td>\n",
       "      <td>127957</td>\n",
       "      <td>59325</td>\n",
       "      <td>22</td>\n",
       "      <td>1866</td>\n",
       "    </tr>\n",
       "  </tbody>\n",
       "</table>\n",
       "</div>"
      ],
      "text/plain": [
       "             event_datetime     event building_type  \\\n",
       "count                135640    135640        127957   \n",
       "unique               128790         3             3   \n",
       "top     2020-05-08 21:56:19  building     spaceport   \n",
       "freq                      4    127957         59325   \n",
       "\n",
       "                                     user_id                project_type  \n",
       "count                                 135640                        1866  \n",
       "unique                                 13576                           1  \n",
       "top     bf542075-e3a2-4e79-82d8-3838e86d2a25  satellite_orbital_assembly  \n",
       "freq                                      22                        1866  "
      ]
     },
     "metadata": {},
     "output_type": "display_data"
    },
    {
     "name": "stdout",
     "output_type": "stream",
     "text": [
      "Количество пропусков в столбцах:\n"
     ]
    },
    {
     "data": {
      "text/plain": [
       "event_datetime         0\n",
       "event                  0\n",
       "building_type       7683\n",
       "user_id                0\n",
       "project_type      133774\n",
       "dtype: int64"
      ]
     },
     "metadata": {},
     "output_type": "display_data"
    },
    {
     "name": "stdout",
     "output_type": "stream",
     "text": [
      "Количество повторяющихся строк:\n"
     ]
    },
    {
     "data": {
      "text/plain": [
       "1"
      ]
     },
     "metadata": {},
     "output_type": "display_data"
    },
    {
     "name": "stdout",
     "output_type": "stream",
     "text": [
      "Общая информация о данных таблицы:\n",
      "<class 'pandas.core.frame.DataFrame'>\n",
      "RangeIndex: 135640 entries, 0 to 135639\n",
      "Data columns (total 5 columns):\n",
      " #   Column          Non-Null Count   Dtype \n",
      "---  ------          --------------   ----- \n",
      " 0   event_datetime  135640 non-null  object\n",
      " 1   event           135640 non-null  object\n",
      " 2   building_type   127957 non-null  object\n",
      " 3   user_id         135640 non-null  object\n",
      " 4   project_type    1866 non-null    object\n",
      "dtypes: object(5)\n",
      "memory usage: 5.2+ MB\n"
     ]
    }
   ],
   "source": [
    "# Изучим основные данные:\n",
    "print(\"Распределение данных в столбцах:\")\n",
    "display(game_actions.describe())\n",
    "print('Количество пропусков в столбцах:')\n",
    "display(game_actions.isna().sum())\n",
    "print(\"Количество повторяющихся строк:\")  \n",
    "display(game_actions.duplicated().sum())\n",
    "print(\"Общая информация о данных таблицы:\")  \n",
    "game_actions.info()"
   ]
  },
  {
   "cell_type": "code",
   "execution_count": 4,
   "metadata": {},
   "outputs": [
    {
     "name": "stdout",
     "output_type": "stream",
     "text": [
      "Количество уникальных пользователей:\n"
     ]
    },
    {
     "data": {
      "text/plain": [
       "13576"
      ]
     },
     "metadata": {},
     "output_type": "display_data"
    },
    {
     "name": "stdout",
     "output_type": "stream",
     "text": [
      "Значения в столбце event:\n"
     ]
    },
    {
     "data": {
      "text/plain": [
       "building            127957\n",
       "finished_stage_1      5817\n",
       "project               1866\n",
       "Name: event, dtype: int64"
      ]
     },
     "metadata": {},
     "output_type": "display_data"
    },
    {
     "name": "stdout",
     "output_type": "stream",
     "text": [
      "Значения в столбце building_type:\n"
     ]
    },
    {
     "data": {
      "text/plain": [
       "spaceport          59325\n",
       "assembly_shop      54494\n",
       "research_center    14138\n",
       "Name: building_type, dtype: int64"
      ]
     },
     "metadata": {},
     "output_type": "display_data"
    },
    {
     "name": "stdout",
     "output_type": "stream",
     "text": [
      "Значения в столбце project_type:\n"
     ]
    },
    {
     "data": {
      "text/plain": [
       "satellite_orbital_assembly    1866\n",
       "Name: project_type, dtype: int64"
      ]
     },
     "metadata": {},
     "output_type": "display_data"
    }
   ],
   "source": [
    "# Рассмотрим какие значения в столбцах таблицы:\n",
    "print(\"Количество уникальных пользователей:\")\n",
    "display(game_actions['user_id'].nunique())\n",
    "print(\"Значения в столбце event:\")\n",
    "display(game_actions['event'].value_counts())\n",
    "print(\"Значения в столбце building_type:\")\n",
    "display(game_actions['building_type'].value_counts())\n",
    "print(\"Значения в столбце project_type:\")\n",
    "display(game_actions['project_type'].value_counts())"
   ]
  },
  {
   "cell_type": "markdown",
   "metadata": {},
   "source": [
    "- В таблице game_actions 135640 записей, есть 1 повторяющаяся строка, 7683 пропуска в столбце building_type, 133774 пропусков в столбце project_type. \n",
    "- Столбец event_datetime нужно привести к формату даты."
   ]
  },
  {
   "cell_type": "markdown",
   "metadata": {},
   "source": [
    "### Таблица ad_costs"
   ]
  },
  {
   "cell_type": "code",
   "execution_count": 5,
   "metadata": {},
   "outputs": [
    {
     "data": {
      "text/html": [
       "<div>\n",
       "<style scoped>\n",
       "    .dataframe tbody tr th:only-of-type {\n",
       "        vertical-align: middle;\n",
       "    }\n",
       "\n",
       "    .dataframe tbody tr th {\n",
       "        vertical-align: top;\n",
       "    }\n",
       "\n",
       "    .dataframe thead th {\n",
       "        text-align: right;\n",
       "    }\n",
       "</style>\n",
       "<table border=\"1\" class=\"dataframe\">\n",
       "  <thead>\n",
       "    <tr style=\"text-align: right;\">\n",
       "      <th></th>\n",
       "      <th>source</th>\n",
       "      <th>day</th>\n",
       "      <th>cost</th>\n",
       "    </tr>\n",
       "  </thead>\n",
       "  <tbody>\n",
       "    <tr>\n",
       "      <th>0</th>\n",
       "      <td>facebook_ads</td>\n",
       "      <td>2020-05-03</td>\n",
       "      <td>935.882786</td>\n",
       "    </tr>\n",
       "    <tr>\n",
       "      <th>1</th>\n",
       "      <td>facebook_ads</td>\n",
       "      <td>2020-05-04</td>\n",
       "      <td>548.354480</td>\n",
       "    </tr>\n",
       "    <tr>\n",
       "      <th>2</th>\n",
       "      <td>facebook_ads</td>\n",
       "      <td>2020-05-05</td>\n",
       "      <td>260.185754</td>\n",
       "    </tr>\n",
       "    <tr>\n",
       "      <th>3</th>\n",
       "      <td>facebook_ads</td>\n",
       "      <td>2020-05-06</td>\n",
       "      <td>177.982200</td>\n",
       "    </tr>\n",
       "    <tr>\n",
       "      <th>4</th>\n",
       "      <td>facebook_ads</td>\n",
       "      <td>2020-05-07</td>\n",
       "      <td>111.766796</td>\n",
       "    </tr>\n",
       "  </tbody>\n",
       "</table>\n",
       "</div>"
      ],
      "text/plain": [
       "         source         day        cost\n",
       "0  facebook_ads  2020-05-03  935.882786\n",
       "1  facebook_ads  2020-05-04  548.354480\n",
       "2  facebook_ads  2020-05-05  260.185754\n",
       "3  facebook_ads  2020-05-06  177.982200\n",
       "4  facebook_ads  2020-05-07  111.766796"
      ]
     },
     "execution_count": 5,
     "metadata": {},
     "output_type": "execute_result"
    }
   ],
   "source": [
    "# Сохраним ad_costs в переменной, изучим файлы:\n",
    "ad_costs = pd.read_csv('/datasets/ad_costs.csv')\n",
    "ad_costs.head()"
   ]
  },
  {
   "cell_type": "code",
   "execution_count": 6,
   "metadata": {},
   "outputs": [
    {
     "name": "stdout",
     "output_type": "stream",
     "text": [
      "Распределение данных в столбцах:\n"
     ]
    },
    {
     "data": {
      "text/html": [
       "<div>\n",
       "<style scoped>\n",
       "    .dataframe tbody tr th:only-of-type {\n",
       "        vertical-align: middle;\n",
       "    }\n",
       "\n",
       "    .dataframe tbody tr th {\n",
       "        vertical-align: top;\n",
       "    }\n",
       "\n",
       "    .dataframe thead th {\n",
       "        text-align: right;\n",
       "    }\n",
       "</style>\n",
       "<table border=\"1\" class=\"dataframe\">\n",
       "  <thead>\n",
       "    <tr style=\"text-align: right;\">\n",
       "      <th></th>\n",
       "      <th>cost</th>\n",
       "    </tr>\n",
       "  </thead>\n",
       "  <tbody>\n",
       "    <tr>\n",
       "      <th>count</th>\n",
       "      <td>28.000000</td>\n",
       "    </tr>\n",
       "    <tr>\n",
       "      <th>mean</th>\n",
       "      <td>271.556321</td>\n",
       "    </tr>\n",
       "    <tr>\n",
       "      <th>std</th>\n",
       "      <td>286.867650</td>\n",
       "    </tr>\n",
       "    <tr>\n",
       "      <th>min</th>\n",
       "      <td>23.314669</td>\n",
       "    </tr>\n",
       "    <tr>\n",
       "      <th>25%</th>\n",
       "      <td>66.747365</td>\n",
       "    </tr>\n",
       "    <tr>\n",
       "      <th>50%</th>\n",
       "      <td>160.056443</td>\n",
       "    </tr>\n",
       "    <tr>\n",
       "      <th>75%</th>\n",
       "      <td>349.034473</td>\n",
       "    </tr>\n",
       "    <tr>\n",
       "      <th>max</th>\n",
       "      <td>969.139394</td>\n",
       "    </tr>\n",
       "  </tbody>\n",
       "</table>\n",
       "</div>"
      ],
      "text/plain": [
       "             cost\n",
       "count   28.000000\n",
       "mean   271.556321\n",
       "std    286.867650\n",
       "min     23.314669\n",
       "25%     66.747365\n",
       "50%    160.056443\n",
       "75%    349.034473\n",
       "max    969.139394"
      ]
     },
     "metadata": {},
     "output_type": "display_data"
    },
    {
     "name": "stdout",
     "output_type": "stream",
     "text": [
      "Количество пропусков в столбцах:\n"
     ]
    },
    {
     "data": {
      "text/plain": [
       "source    0\n",
       "day       0\n",
       "cost      0\n",
       "dtype: int64"
      ]
     },
     "metadata": {},
     "output_type": "display_data"
    },
    {
     "name": "stdout",
     "output_type": "stream",
     "text": [
      "Количество повторяющихся строк:\n"
     ]
    },
    {
     "data": {
      "text/plain": [
       "0"
      ]
     },
     "metadata": {},
     "output_type": "display_data"
    },
    {
     "name": "stdout",
     "output_type": "stream",
     "text": [
      "Общая информация о данных таблицы:\n",
      "<class 'pandas.core.frame.DataFrame'>\n",
      "RangeIndex: 28 entries, 0 to 27\n",
      "Data columns (total 3 columns):\n",
      " #   Column  Non-Null Count  Dtype  \n",
      "---  ------  --------------  -----  \n",
      " 0   source  28 non-null     object \n",
      " 1   day     28 non-null     object \n",
      " 2   cost    28 non-null     float64\n",
      "dtypes: float64(1), object(2)\n",
      "memory usage: 800.0+ bytes\n"
     ]
    }
   ],
   "source": [
    "# Изучим основные данные:\n",
    "print(\"Распределение данных в столбцах:\")\n",
    "display(ad_costs.describe())\n",
    "print('Количество пропусков в столбцах:')\n",
    "display(ad_costs.isna().sum())\n",
    "print(\"Количество повторяющихся строк:\")  \n",
    "display(ad_costs.duplicated().sum())\n",
    "print(\"Общая информация о данных таблицы:\")  \n",
    "ad_costs.info()"
   ]
  },
  {
   "cell_type": "code",
   "execution_count": 7,
   "metadata": {},
   "outputs": [
    {
     "name": "stdout",
     "output_type": "stream",
     "text": [
      "Значения в столбце ad_costs:\n"
     ]
    },
    {
     "data": {
      "text/plain": [
       "yandex_direct              7\n",
       "facebook_ads               7\n",
       "youtube_channel_reklama    7\n",
       "instagram_new_adverts      7\n",
       "Name: source, dtype: int64"
      ]
     },
     "metadata": {},
     "output_type": "display_data"
    }
   ],
   "source": [
    "# Рассмотрим какие значения в столбцах таблицы:\n",
    "print(\"Значения в столбце ad_costs:\")\n",
    "display(ad_costs['source'].value_counts())"
   ]
  },
  {
   "cell_type": "markdown",
   "metadata": {},
   "source": [
    "- В таблице ad_costs 28 записей, пропусков и повторов нет. \n",
    "- Столбец day нужно привести к формату даты."
   ]
  },
  {
   "cell_type": "markdown",
   "metadata": {},
   "source": [
    "### Таблица user_source"
   ]
  },
  {
   "cell_type": "code",
   "execution_count": 8,
   "metadata": {},
   "outputs": [
    {
     "data": {
      "text/html": [
       "<div>\n",
       "<style scoped>\n",
       "    .dataframe tbody tr th:only-of-type {\n",
       "        vertical-align: middle;\n",
       "    }\n",
       "\n",
       "    .dataframe tbody tr th {\n",
       "        vertical-align: top;\n",
       "    }\n",
       "\n",
       "    .dataframe thead th {\n",
       "        text-align: right;\n",
       "    }\n",
       "</style>\n",
       "<table border=\"1\" class=\"dataframe\">\n",
       "  <thead>\n",
       "    <tr style=\"text-align: right;\">\n",
       "      <th></th>\n",
       "      <th>user_id</th>\n",
       "      <th>source</th>\n",
       "    </tr>\n",
       "  </thead>\n",
       "  <tbody>\n",
       "    <tr>\n",
       "      <th>0</th>\n",
       "      <td>0001f83c-c6ac-4621-b7f0-8a28b283ac30</td>\n",
       "      <td>facebook_ads</td>\n",
       "    </tr>\n",
       "    <tr>\n",
       "      <th>1</th>\n",
       "      <td>00151b4f-ba38-44a8-a650-d7cf130a0105</td>\n",
       "      <td>yandex_direct</td>\n",
       "    </tr>\n",
       "    <tr>\n",
       "      <th>2</th>\n",
       "      <td>001aaea6-3d14-43f1-8ca8-7f48820f17aa</td>\n",
       "      <td>youtube_channel_reklama</td>\n",
       "    </tr>\n",
       "    <tr>\n",
       "      <th>3</th>\n",
       "      <td>001d39dc-366c-4021-9604-6a3b9ff01e25</td>\n",
       "      <td>instagram_new_adverts</td>\n",
       "    </tr>\n",
       "    <tr>\n",
       "      <th>4</th>\n",
       "      <td>002f508f-67b6-479f-814b-b05f00d4e995</td>\n",
       "      <td>facebook_ads</td>\n",
       "    </tr>\n",
       "  </tbody>\n",
       "</table>\n",
       "</div>"
      ],
      "text/plain": [
       "                                user_id                   source\n",
       "0  0001f83c-c6ac-4621-b7f0-8a28b283ac30             facebook_ads\n",
       "1  00151b4f-ba38-44a8-a650-d7cf130a0105            yandex_direct\n",
       "2  001aaea6-3d14-43f1-8ca8-7f48820f17aa  youtube_channel_reklama\n",
       "3  001d39dc-366c-4021-9604-6a3b9ff01e25    instagram_new_adverts\n",
       "4  002f508f-67b6-479f-814b-b05f00d4e995             facebook_ads"
      ]
     },
     "execution_count": 8,
     "metadata": {},
     "output_type": "execute_result"
    }
   ],
   "source": [
    "# Сохраним user_source в переменной, изучим файлы:\n",
    "user_source = pd.read_csv('/datasets/user_source.csv')\n",
    "user_source.head()"
   ]
  },
  {
   "cell_type": "code",
   "execution_count": 9,
   "metadata": {},
   "outputs": [
    {
     "name": "stdout",
     "output_type": "stream",
     "text": [
      "Распределение данных в столбцах:\n"
     ]
    },
    {
     "data": {
      "text/html": [
       "<div>\n",
       "<style scoped>\n",
       "    .dataframe tbody tr th:only-of-type {\n",
       "        vertical-align: middle;\n",
       "    }\n",
       "\n",
       "    .dataframe tbody tr th {\n",
       "        vertical-align: top;\n",
       "    }\n",
       "\n",
       "    .dataframe thead th {\n",
       "        text-align: right;\n",
       "    }\n",
       "</style>\n",
       "<table border=\"1\" class=\"dataframe\">\n",
       "  <thead>\n",
       "    <tr style=\"text-align: right;\">\n",
       "      <th></th>\n",
       "      <th>user_id</th>\n",
       "      <th>source</th>\n",
       "    </tr>\n",
       "  </thead>\n",
       "  <tbody>\n",
       "    <tr>\n",
       "      <th>count</th>\n",
       "      <td>13576</td>\n",
       "      <td>13576</td>\n",
       "    </tr>\n",
       "    <tr>\n",
       "      <th>unique</th>\n",
       "      <td>13576</td>\n",
       "      <td>4</td>\n",
       "    </tr>\n",
       "    <tr>\n",
       "      <th>top</th>\n",
       "      <td>2aa7e65d-5798-48e6-b7a6-8b5ebd389bc7</td>\n",
       "      <td>yandex_direct</td>\n",
       "    </tr>\n",
       "    <tr>\n",
       "      <th>freq</th>\n",
       "      <td>1</td>\n",
       "      <td>4817</td>\n",
       "    </tr>\n",
       "  </tbody>\n",
       "</table>\n",
       "</div>"
      ],
      "text/plain": [
       "                                     user_id         source\n",
       "count                                  13576          13576\n",
       "unique                                 13576              4\n",
       "top     2aa7e65d-5798-48e6-b7a6-8b5ebd389bc7  yandex_direct\n",
       "freq                                       1           4817"
      ]
     },
     "metadata": {},
     "output_type": "display_data"
    },
    {
     "name": "stdout",
     "output_type": "stream",
     "text": [
      "Количество пропусков в столбцах:\n"
     ]
    },
    {
     "data": {
      "text/plain": [
       "user_id    0\n",
       "source     0\n",
       "dtype: int64"
      ]
     },
     "metadata": {},
     "output_type": "display_data"
    },
    {
     "name": "stdout",
     "output_type": "stream",
     "text": [
      "Количество повторяющихся строк:\n"
     ]
    },
    {
     "data": {
      "text/plain": [
       "0"
      ]
     },
     "metadata": {},
     "output_type": "display_data"
    },
    {
     "name": "stdout",
     "output_type": "stream",
     "text": [
      "Общая информация о данных таблицы:\n",
      "<class 'pandas.core.frame.DataFrame'>\n",
      "RangeIndex: 13576 entries, 0 to 13575\n",
      "Data columns (total 2 columns):\n",
      " #   Column   Non-Null Count  Dtype \n",
      "---  ------   --------------  ----- \n",
      " 0   user_id  13576 non-null  object\n",
      " 1   source   13576 non-null  object\n",
      "dtypes: object(2)\n",
      "memory usage: 212.2+ KB\n"
     ]
    }
   ],
   "source": [
    "# Изучим основные данные:\n",
    "print(\"Распределение данных в столбцах:\")\n",
    "display(user_source.describe())\n",
    "print('Количество пропусков в столбцах:')\n",
    "display(user_source.isna().sum())\n",
    "print(\"Количество повторяющихся строк:\")  \n",
    "display(user_source.duplicated().sum())\n",
    "print(\"Общая информация о данных таблицы:\")  \n",
    "user_source.info()"
   ]
  },
  {
   "cell_type": "code",
   "execution_count": 10,
   "metadata": {},
   "outputs": [
    {
     "name": "stdout",
     "output_type": "stream",
     "text": [
      "Значения в столбце source:\n"
     ]
    },
    {
     "data": {
      "text/plain": [
       "yandex_direct              4817\n",
       "instagram_new_adverts      3347\n",
       "facebook_ads               2726\n",
       "youtube_channel_reklama    2686\n",
       "Name: source, dtype: int64"
      ]
     },
     "metadata": {},
     "output_type": "display_data"
    },
    {
     "name": "stdout",
     "output_type": "stream",
     "text": [
      "Количество уникальных пользователей:\n"
     ]
    },
    {
     "data": {
      "text/plain": [
       "13576"
      ]
     },
     "metadata": {},
     "output_type": "display_data"
    }
   ],
   "source": [
    "# Рассмотрим какие значения в столбцах таблицы:\n",
    "print(\"Значения в столбце source:\")\n",
    "display(user_source['source'].value_counts())\n",
    "print(\"Количество уникальных пользователей:\")\n",
    "display(user_source['user_id'].nunique())"
   ]
  },
  {
   "cell_type": "markdown",
   "metadata": {},
   "source": [
    "- В таблице user_source 13576 записей, пропусков и дубликатов нет (в том числе поторяющихся пользователей)."
   ]
  },
  {
   "cell_type": "markdown",
   "metadata": {},
   "source": [
    "### Приведение типов данных к нужному формату"
   ]
  },
  {
   "cell_type": "code",
   "execution_count": 11,
   "metadata": {},
   "outputs": [],
   "source": [
    "# Столбцы времени в таблицах game_actions и ad_costs приведем к формату времени:\n",
    "game_actions['event_datetime'] = pd.to_datetime(game_actions['event_datetime'], \n",
    "    format=\"%Y-%m-%d %H:%M:%S\")\n",
    "ad_costs['day'] = pd.to_datetime(ad_costs['day'], format=\"%Y-%m-%d\")"
   ]
  },
  {
   "cell_type": "code",
   "execution_count": 12,
   "metadata": {},
   "outputs": [
    {
     "name": "stdout",
     "output_type": "stream",
     "text": [
      "Столбец времени в таблице game_actions:\n"
     ]
    },
    {
     "data": {
      "text/plain": [
       "count                  135640\n",
       "unique                 128790\n",
       "top       2020-05-07 03:10:43\n",
       "freq                        4\n",
       "first     2020-05-04 00:00:01\n",
       "last      2020-06-05 12:32:49\n",
       "Name: event_datetime, dtype: object"
      ]
     },
     "metadata": {},
     "output_type": "display_data"
    },
    {
     "name": "stdout",
     "output_type": "stream",
     "text": [
      "Столбец времени в таблице ad_costs:\n"
     ]
    },
    {
     "data": {
      "text/plain": [
       "count                      28\n",
       "unique                      7\n",
       "top       2020-05-05 00:00:00\n",
       "freq                        4\n",
       "first     2020-05-03 00:00:00\n",
       "last      2020-05-09 00:00:00\n",
       "Name: day, dtype: object"
      ]
     },
     "metadata": {},
     "output_type": "display_data"
    }
   ],
   "source": [
    "# Рассмотрим какие периоды попали в таблицы:\n",
    "print(\"Столбец времени в таблице game_actions:\")\n",
    "display(game_actions['event_datetime'].describe())\n",
    "print(\"Столбец времени в таблице ad_costs:\")\n",
    "display(ad_costs['day'].describe())"
   ]
  },
  {
   "cell_type": "markdown",
   "metadata": {},
   "source": [
    "### Работа с дубликатами"
   ]
  },
  {
   "cell_type": "code",
   "execution_count": 13,
   "metadata": {},
   "outputs": [
    {
     "data": {
      "text/html": [
       "<div>\n",
       "<style scoped>\n",
       "    .dataframe tbody tr th:only-of-type {\n",
       "        vertical-align: middle;\n",
       "    }\n",
       "\n",
       "    .dataframe tbody tr th {\n",
       "        vertical-align: top;\n",
       "    }\n",
       "\n",
       "    .dataframe thead th {\n",
       "        text-align: right;\n",
       "    }\n",
       "</style>\n",
       "<table border=\"1\" class=\"dataframe\">\n",
       "  <thead>\n",
       "    <tr style=\"text-align: right;\">\n",
       "      <th></th>\n",
       "      <th>event_datetime</th>\n",
       "      <th>event</th>\n",
       "      <th>building_type</th>\n",
       "      <th>user_id</th>\n",
       "      <th>project_type</th>\n",
       "    </tr>\n",
       "  </thead>\n",
       "  <tbody>\n",
       "    <tr>\n",
       "      <th>74890</th>\n",
       "      <td>2020-05-10 18:41:56</td>\n",
       "      <td>building</td>\n",
       "      <td>research_center</td>\n",
       "      <td>c9af55d2-b0ae-4bb4-b3d5-f32aa9ac03af</td>\n",
       "      <td>NaN</td>\n",
       "    </tr>\n",
       "    <tr>\n",
       "      <th>74891</th>\n",
       "      <td>2020-05-10 18:41:56</td>\n",
       "      <td>building</td>\n",
       "      <td>research_center</td>\n",
       "      <td>c9af55d2-b0ae-4bb4-b3d5-f32aa9ac03af</td>\n",
       "      <td>NaN</td>\n",
       "    </tr>\n",
       "  </tbody>\n",
       "</table>\n",
       "</div>"
      ],
      "text/plain": [
       "           event_datetime     event    building_type  \\\n",
       "74890 2020-05-10 18:41:56  building  research_center   \n",
       "74891 2020-05-10 18:41:56  building  research_center   \n",
       "\n",
       "                                    user_id project_type  \n",
       "74890  c9af55d2-b0ae-4bb4-b3d5-f32aa9ac03af          NaN  \n",
       "74891  c9af55d2-b0ae-4bb4-b3d5-f32aa9ac03af          NaN  "
      ]
     },
     "execution_count": 13,
     "metadata": {},
     "output_type": "execute_result"
    }
   ],
   "source": [
    "# В таблице game_actions 1 дубликат, выведем повторяющиеся строки:\n",
    "duplicated = game_actions[game_actions.duplicated(keep=False)]\n",
    "duplicated"
   ]
  },
  {
   "cell_type": "code",
   "execution_count": 14,
   "metadata": {},
   "outputs": [
    {
     "name": "stdout",
     "output_type": "stream",
     "text": [
      "Оставшееся количество дубликатов в таблице game_actions:\n"
     ]
    },
    {
     "data": {
      "text/plain": [
       "0"
      ]
     },
     "metadata": {},
     "output_type": "display_data"
    }
   ],
   "source": [
    "# Повторяющиеся строки явно аномальны, удалим дубликат:\n",
    "game_actions = game_actions.drop_duplicates().reset_index(drop=True)\n",
    "print(\"Оставшееся количество дубликатов в таблице game_actions:\")\n",
    "display(game_actions.duplicated().sum())"
   ]
  },
  {
   "cell_type": "markdown",
   "metadata": {},
   "source": [
    "###  Работа с пропусками"
   ]
  },
  {
   "cell_type": "markdown",
   "metadata": {},
   "source": [
    "Пропуски содержатся в столбцах building_type и project_type таблицы game_actions. Изучим какие значения принимают эти столбцы в зависимости от столбца event."
   ]
  },
  {
   "cell_type": "code",
   "execution_count": 15,
   "metadata": {},
   "outputs": [
    {
     "data": {
      "text/plain": [
       "'EVENT TYPE: building'"
      ]
     },
     "metadata": {},
     "output_type": "display_data"
    },
    {
     "data": {
      "text/plain": [
       "'building_type'"
      ]
     },
     "metadata": {},
     "output_type": "display_data"
    },
    {
     "data": {
      "text/plain": [
       "spaceport          59325\n",
       "assembly_shop      54494\n",
       "research_center    14137\n",
       "Name: building_type, dtype: int64"
      ]
     },
     "metadata": {},
     "output_type": "display_data"
    },
    {
     "data": {
      "text/plain": [
       "'project_type'"
      ]
     },
     "metadata": {},
     "output_type": "display_data"
    },
    {
     "data": {
      "text/plain": [
       "Series([], Name: project_type, dtype: int64)"
      ]
     },
     "metadata": {},
     "output_type": "display_data"
    },
    {
     "data": {
      "text/plain": [
       "'-----------------------------'"
      ]
     },
     "metadata": {},
     "output_type": "display_data"
    },
    {
     "data": {
      "text/plain": [
       "'EVENT TYPE: finished_stage_1'"
      ]
     },
     "metadata": {},
     "output_type": "display_data"
    },
    {
     "data": {
      "text/plain": [
       "'building_type'"
      ]
     },
     "metadata": {},
     "output_type": "display_data"
    },
    {
     "data": {
      "text/plain": [
       "Series([], Name: building_type, dtype: int64)"
      ]
     },
     "metadata": {},
     "output_type": "display_data"
    },
    {
     "data": {
      "text/plain": [
       "'project_type'"
      ]
     },
     "metadata": {},
     "output_type": "display_data"
    },
    {
     "data": {
      "text/plain": [
       "Series([], Name: project_type, dtype: int64)"
      ]
     },
     "metadata": {},
     "output_type": "display_data"
    },
    {
     "data": {
      "text/plain": [
       "'-----------------------------'"
      ]
     },
     "metadata": {},
     "output_type": "display_data"
    },
    {
     "data": {
      "text/plain": [
       "'EVENT TYPE: project'"
      ]
     },
     "metadata": {},
     "output_type": "display_data"
    },
    {
     "data": {
      "text/plain": [
       "'building_type'"
      ]
     },
     "metadata": {},
     "output_type": "display_data"
    },
    {
     "data": {
      "text/plain": [
       "Series([], Name: building_type, dtype: int64)"
      ]
     },
     "metadata": {},
     "output_type": "display_data"
    },
    {
     "data": {
      "text/plain": [
       "'project_type'"
      ]
     },
     "metadata": {},
     "output_type": "display_data"
    },
    {
     "data": {
      "text/plain": [
       "satellite_orbital_assembly    1866\n",
       "Name: project_type, dtype: int64"
      ]
     },
     "metadata": {},
     "output_type": "display_data"
    },
    {
     "data": {
      "text/plain": [
       "'-----------------------------'"
      ]
     },
     "metadata": {},
     "output_type": "display_data"
    }
   ],
   "source": [
    "# Напишем функцию, которая принимает значения столбца event, фильтрует таблицу game_actions по нему\n",
    "# и выводит значения столбцов building_type и project_type:\n",
    "def nan_check(event_name):\n",
    "    x = game_actions[game_actions['event']== event_name]\n",
    "    display('EVENT TYPE: ' + event_name)\n",
    "    display('building_type', x['building_type'].value_counts())\n",
    "    display('project_type', x['project_type'].value_counts())\n",
    "    display('-----------------------------')\n",
    "# Передадим функции значения столбца event:\n",
    "for i in game_actions['event'].unique():\n",
    "    nan_check(i)"
   ]
  },
  {
   "cell_type": "markdown",
   "metadata": {},
   "source": [
    "Пропуски в столбцах обусловлены логикой сбора логов:\n",
    "- при событии building (строительство здания) в столбце building_type отображается тип здания, в столбце project_type пропуск;\n",
    "- при событии finished_stage_1 в столбцах building_type и project_type пропуски, игрок завершил уровень;\n",
    "- при событии project_type в столбце building_type пропуск, а в столбце project_type - тип проекта (он один - satellite_orbital_assembly).\n",
    "\n",
    "Пропуски не повлияют на исследование, их заполнение не требуется."
   ]
  },
  {
   "cell_type": "markdown",
   "metadata": {},
   "source": [
    "### Выводы"
   ]
  },
  {
   "cell_type": "markdown",
   "metadata": {},
   "source": [
    "- В таблице game_actions за период с 04.05.2020 по 05.06.2020 135639 событиq (1 дубликат был удален) совершенных 13576 уникальными пользователями. Типы данных приведены в нужный формат (столбец с датой и временем), пропуски обработки не требуют.\n",
    "- В таблице ad_costs 28 записей с тратами по источнику (всего 4 источника) и по дням в период с 03.05.2020 по 09.09.2020 (нам известно что расходы на маркетинг идут авансом в 1 день - за рекламу 04.05.2020 расходы были оплачены 03.05.2020). Типы данных приведены в нужный формат (столбец с датой), пропусков и дубликатов нет.\n",
    "- В таблице user_source 13576 записей с пользователями и их источником привлечения (что соответствует количеству уникальных пользователей в таблице game_actions."
   ]
  },
  {
   "cell_type": "markdown",
   "metadata": {},
   "source": [
    "## Исследовательский анализ данных"
   ]
  },
  {
   "cell_type": "markdown",
   "metadata": {},
   "source": [
    "### Исследование пользователей по способу завершения уровня"
   ]
  },
  {
   "cell_type": "code",
   "execution_count": 16,
   "metadata": {},
   "outputs": [],
   "source": [
    "# Выделим игроков, у которых выполнен проект satellite_orbital_assembly:\n",
    "project = game_actions[game_actions['project_type'] == 'satellite_orbital_assembly']\n",
    "# Выделим игроков, которые завершили уровень:\n",
    "finished_stage_1 = game_actions[game_actions['event'] == 'finished_stage_1']"
   ]
  },
  {
   "cell_type": "code",
   "execution_count": 17,
   "metadata": {
    "scrolled": true
   },
   "outputs": [
    {
     "name": "stdout",
     "output_type": "stream",
     "text": [
      "<class 'pandas.core.frame.DataFrame'>\n",
      "Int64Index: 1866 entries, 64736 to 135632\n",
      "Data columns (total 5 columns):\n",
      " #   Column          Non-Null Count  Dtype         \n",
      "---  ------          --------------  -----         \n",
      " 0   event_datetime  1866 non-null   datetime64[ns]\n",
      " 1   event           1866 non-null   object        \n",
      " 2   building_type   0 non-null      object        \n",
      " 3   user_id         1866 non-null   object        \n",
      " 4   project_type    0 non-null      object        \n",
      "dtypes: datetime64[ns](1), object(4)\n",
      "memory usage: 87.5+ KB\n"
     ]
    }
   ],
   "source": [
    "# Проверим, все ли юзеры выполнившие проект, завершили уровень (их должно быть 1866):\n",
    "project_in_finished_stage_1 = finished_stage_1[finished_stage_1['user_id'].isin(\n",
    "    project['user_id'])]\n",
    "project_in_finished_stage_1.info()"
   ]
  },
  {
   "cell_type": "code",
   "execution_count": 18,
   "metadata": {
    "scrolled": true
   },
   "outputs": [
    {
     "name": "stdout",
     "output_type": "stream",
     "text": [
      "<class 'pandas.core.frame.DataFrame'>\n",
      "Int64Index: 7683 entries, 6659 to 135638\n",
      "Data columns (total 5 columns):\n",
      " #   Column          Non-Null Count  Dtype         \n",
      "---  ------          --------------  -----         \n",
      " 0   event_datetime  7683 non-null   datetime64[ns]\n",
      " 1   event           7683 non-null   object        \n",
      " 2   building_type   0 non-null      object        \n",
      " 3   user_id         7683 non-null   object        \n",
      " 4   project_type    1866 non-null   object        \n",
      "dtypes: datetime64[ns](1), object(4)\n",
      "memory usage: 360.1+ KB\n"
     ]
    }
   ],
   "source": [
    "# Проверим, были ли игроки, у которых событие project наступило позже события finished_stage_1.\n",
    "# Создадим таблицу с этими событиями:\n",
    "finished_level = game_actions[(game_actions['event'] == 'finished_stage_1')|(game_actions['event']=='project')]\n",
    "finished_level.info()"
   ]
  },
  {
   "cell_type": "code",
   "execution_count": 19,
   "metadata": {},
   "outputs": [
    {
     "data": {
      "text/html": [
       "<div>\n",
       "<style scoped>\n",
       "    .dataframe tbody tr th:only-of-type {\n",
       "        vertical-align: middle;\n",
       "    }\n",
       "\n",
       "    .dataframe tbody tr th {\n",
       "        vertical-align: top;\n",
       "    }\n",
       "\n",
       "    .dataframe thead th {\n",
       "        text-align: right;\n",
       "    }\n",
       "</style>\n",
       "<table border=\"1\" class=\"dataframe\">\n",
       "  <thead>\n",
       "    <tr style=\"text-align: right;\">\n",
       "      <th></th>\n",
       "      <th>level_finished_time</th>\n",
       "      <th>event</th>\n",
       "      <th>building_type</th>\n",
       "      <th>user_id</th>\n",
       "      <th>project_type</th>\n",
       "    </tr>\n",
       "  </thead>\n",
       "  <tbody>\n",
       "    <tr>\n",
       "      <th>0</th>\n",
       "      <td>2020-05-04 19:47:29</td>\n",
       "      <td>finished_stage_1</td>\n",
       "      <td>NaN</td>\n",
       "      <td>ced7b368-818f-48f6-9461-2346de0892c5</td>\n",
       "      <td>NaN</td>\n",
       "    </tr>\n",
       "    <tr>\n",
       "      <th>1</th>\n",
       "      <td>2020-05-05 13:22:09</td>\n",
       "      <td>finished_stage_1</td>\n",
       "      <td>NaN</td>\n",
       "      <td>7ef7fc89-2779-46ea-b328-9e5035b83af5</td>\n",
       "      <td>NaN</td>\n",
       "    </tr>\n",
       "    <tr>\n",
       "      <th>2</th>\n",
       "      <td>2020-05-05 18:54:37</td>\n",
       "      <td>finished_stage_1</td>\n",
       "      <td>NaN</td>\n",
       "      <td>70db22b3-c2f4-43bc-94ea-51c8d2904a29</td>\n",
       "      <td>NaN</td>\n",
       "    </tr>\n",
       "    <tr>\n",
       "      <th>3</th>\n",
       "      <td>2020-05-05 21:27:29</td>\n",
       "      <td>finished_stage_1</td>\n",
       "      <td>NaN</td>\n",
       "      <td>903fc9ef-ba97-4b12-9d5c-ac8d602fbd8b</td>\n",
       "      <td>NaN</td>\n",
       "    </tr>\n",
       "    <tr>\n",
       "      <th>4</th>\n",
       "      <td>2020-05-06 06:02:22</td>\n",
       "      <td>finished_stage_1</td>\n",
       "      <td>NaN</td>\n",
       "      <td>58e077ba-feb1-4556-a5a0-d96bd04efa39</td>\n",
       "      <td>NaN</td>\n",
       "    </tr>\n",
       "  </tbody>\n",
       "</table>\n",
       "</div>"
      ],
      "text/plain": [
       "  level_finished_time             event building_type  \\\n",
       "0 2020-05-04 19:47:29  finished_stage_1           NaN   \n",
       "1 2020-05-05 13:22:09  finished_stage_1           NaN   \n",
       "2 2020-05-05 18:54:37  finished_stage_1           NaN   \n",
       "3 2020-05-05 21:27:29  finished_stage_1           NaN   \n",
       "4 2020-05-06 06:02:22  finished_stage_1           NaN   \n",
       "\n",
       "                                user_id project_type  \n",
       "0  ced7b368-818f-48f6-9461-2346de0892c5          NaN  \n",
       "1  7ef7fc89-2779-46ea-b328-9e5035b83af5          NaN  \n",
       "2  70db22b3-c2f4-43bc-94ea-51c8d2904a29          NaN  \n",
       "3  903fc9ef-ba97-4b12-9d5c-ac8d602fbd8b          NaN  \n",
       "4  58e077ba-feb1-4556-a5a0-d96bd04efa39          NaN  "
      ]
     },
     "metadata": {},
     "output_type": "display_data"
    },
    {
     "data": {
      "text/plain": [
       "finished_stage_1    3951\n",
       "project             1866\n",
       "Name: event, dtype: int64"
      ]
     },
     "metadata": {},
     "output_type": "display_data"
    },
    {
     "name": "stdout",
     "output_type": "stream",
     "text": [
      "<class 'pandas.core.frame.DataFrame'>\n",
      "RangeIndex: 5817 entries, 0 to 5816\n",
      "Data columns (total 5 columns):\n",
      " #   Column               Non-Null Count  Dtype         \n",
      "---  ------               --------------  -----         \n",
      " 0   level_finished_time  5817 non-null   datetime64[ns]\n",
      " 1   event                5817 non-null   object        \n",
      " 2   building_type        0 non-null      object        \n",
      " 3   user_id              5817 non-null   object        \n",
      " 4   project_type         1866 non-null   object        \n",
      "dtypes: datetime64[ns](1), object(4)\n",
      "memory usage: 227.4+ KB\n"
     ]
    }
   ],
   "source": [
    "# Отсортируем таблицу по дате и оставим первое по дате событие:\n",
    "finished_level = finished_level.sort_values(by='event_datetime')\n",
    "finished_level = finished_level.drop_duplicates('user_id', \n",
    "    keep='first').reset_index(drop=True)\n",
    "# Столбец со временем переименуем в level_finished_time:\n",
    "finished_level.rename(columns={'event_datetime': 'level_finished_time'}, inplace=True)\n",
    "display(finished_level.head())\n",
    "display(finished_level['event'].value_counts())\n",
    "finished_level.info()"
   ]
  },
  {
   "cell_type": "markdown",
   "metadata": {},
   "source": [
    "Аномалий не обнаружено - у всех игроков с событием project это событие наступает раньше чем finished_stage_1, игроком у которых событие finished_stage_1 наступает раньше - нет.\n",
    "\n",
    "Соответственно, распределение по способу завершения уровня такое:\n",
    "- если у игрока есть событие project - способ завершения уровня \"Реализация проекта\";\n",
    "- если у игрока события project нет - способ завершения уровня \"Победа над первым врагом\"."
   ]
  },
  {
   "cell_type": "code",
   "execution_count": 20,
   "metadata": {},
   "outputs": [
    {
     "data": {
      "text/plain": [
       "victory    3951\n",
       "project    1866\n",
       "Name: event, dtype: int64"
      ]
     },
     "metadata": {},
     "output_type": "display_data"
    }
   ],
   "source": [
    "# В итоговой таблице event событие finished_stage_1 переименуем в victory (победа над врагом):\n",
    "finished_level['event'].where(~(finished_level['event'] == 'finished_stage_1'), other='victory', inplace=True)\n",
    "display(finished_level['event'].value_counts())"
   ]
  },
  {
   "cell_type": "code",
   "execution_count": 21,
   "metadata": {
    "scrolled": false
   },
   "outputs": [
    {
     "data": {
      "text/html": [
       "<div>\n",
       "<style scoped>\n",
       "    .dataframe tbody tr th:only-of-type {\n",
       "        vertical-align: middle;\n",
       "    }\n",
       "\n",
       "    .dataframe tbody tr th {\n",
       "        vertical-align: top;\n",
       "    }\n",
       "\n",
       "    .dataframe thead th {\n",
       "        text-align: right;\n",
       "    }\n",
       "</style>\n",
       "<table border=\"1\" class=\"dataframe\">\n",
       "  <thead>\n",
       "    <tr style=\"text-align: right;\">\n",
       "      <th></th>\n",
       "      <th>event</th>\n",
       "      <th>user_id</th>\n",
       "    </tr>\n",
       "  </thead>\n",
       "  <tbody>\n",
       "    <tr>\n",
       "      <th>0</th>\n",
       "      <td>project</td>\n",
       "      <td>1866</td>\n",
       "    </tr>\n",
       "    <tr>\n",
       "      <th>1</th>\n",
       "      <td>victory</td>\n",
       "      <td>3951</td>\n",
       "    </tr>\n",
       "  </tbody>\n",
       "</table>\n",
       "</div>"
      ],
      "text/plain": [
       "     event  user_id\n",
       "0  project     1866\n",
       "1  victory     3951"
      ]
     },
     "execution_count": 21,
     "metadata": {},
     "output_type": "execute_result"
    }
   ],
   "source": [
    "finished_users = finished_level.groupby('event')['user_id'].count().reset_index()\n",
    "finished_users"
   ]
  },
  {
   "cell_type": "code",
   "execution_count": 22,
   "metadata": {},
   "outputs": [
    {
     "data": {
      "image/png": "[encoded data removed]",
      "text/plain": [
       "<Figure size 432x432 with 1 Axes>"
      ]
     },
     "metadata": {},
     "output_type": "display_data"
    }
   ],
   "source": [
    "# Построим круговую диаграмму распределения количества игроков по способу завершения уровня: \n",
    "fig, ax = plt.subplots(figsize=(6, 6))\n",
    "ax.pie(finished_users['user_id'], labels=finished_users['event'], autopct = '%0.2f%%')\n",
    "ax.set_title('Распределение игроков по способу завершения уровня')\n",
    "plt.tight_layout()"
   ]
  },
  {
   "cell_type": "markdown",
   "metadata": {},
   "source": [
    "**Выводы:**\n",
    "\n",
    "Игроков, завершающих уровень победой над врагом больше в 2 раза чем игроков, завершающих уровень проектом - 68% против 32% (или 3951 против 1866)."
   ]
  },
  {
   "cell_type": "markdown",
   "metadata": {},
   "source": [
    "### Количество построенных зданий"
   ]
  },
  {
   "cell_type": "code",
   "execution_count": 23,
   "metadata": {
    "scrolled": true
   },
   "outputs": [
    {
     "data": {
      "text/html": [
       "<div>\n",
       "<style scoped>\n",
       "    .dataframe tbody tr th:only-of-type {\n",
       "        vertical-align: middle;\n",
       "    }\n",
       "\n",
       "    .dataframe tbody tr th {\n",
       "        vertical-align: top;\n",
       "    }\n",
       "\n",
       "    .dataframe thead th {\n",
       "        text-align: right;\n",
       "    }\n",
       "</style>\n",
       "<table border=\"1\" class=\"dataframe\">\n",
       "  <thead>\n",
       "    <tr style=\"text-align: right;\">\n",
       "      <th>event</th>\n",
       "      <th>user_id</th>\n",
       "      <th>building</th>\n",
       "      <th>finished_stage_1</th>\n",
       "      <th>project</th>\n",
       "    </tr>\n",
       "  </thead>\n",
       "  <tbody>\n",
       "    <tr>\n",
       "      <th>0</th>\n",
       "      <td>0001f83c-c6ac-4621-b7f0-8a28b283ac30</td>\n",
       "      <td>13.0</td>\n",
       "      <td>NaN</td>\n",
       "      <td>NaN</td>\n",
       "    </tr>\n",
       "    <tr>\n",
       "      <th>1</th>\n",
       "      <td>00151b4f-ba38-44a8-a650-d7cf130a0105</td>\n",
       "      <td>9.0</td>\n",
       "      <td>NaN</td>\n",
       "      <td>NaN</td>\n",
       "    </tr>\n",
       "    <tr>\n",
       "      <th>2</th>\n",
       "      <td>001aaea6-3d14-43f1-8ca8-7f48820f17aa</td>\n",
       "      <td>4.0</td>\n",
       "      <td>NaN</td>\n",
       "      <td>NaN</td>\n",
       "    </tr>\n",
       "    <tr>\n",
       "      <th>3</th>\n",
       "      <td>001d39dc-366c-4021-9604-6a3b9ff01e25</td>\n",
       "      <td>8.0</td>\n",
       "      <td>1.0</td>\n",
       "      <td>NaN</td>\n",
       "    </tr>\n",
       "    <tr>\n",
       "      <th>4</th>\n",
       "      <td>002f508f-67b6-479f-814b-b05f00d4e995</td>\n",
       "      <td>12.0</td>\n",
       "      <td>NaN</td>\n",
       "      <td>NaN</td>\n",
       "    </tr>\n",
       "  </tbody>\n",
       "</table>\n",
       "</div>"
      ],
      "text/plain": [
       "event                               user_id  building  finished_stage_1  \\\n",
       "0      0001f83c-c6ac-4621-b7f0-8a28b283ac30      13.0               NaN   \n",
       "1      00151b4f-ba38-44a8-a650-d7cf130a0105       9.0               NaN   \n",
       "2      001aaea6-3d14-43f1-8ca8-7f48820f17aa       4.0               NaN   \n",
       "3      001d39dc-366c-4021-9604-6a3b9ff01e25       8.0               1.0   \n",
       "4      002f508f-67b6-479f-814b-b05f00d4e995      12.0               NaN   \n",
       "\n",
       "event  project  \n",
       "0          NaN  \n",
       "1          NaN  \n",
       "2          NaN  \n",
       "3          NaN  \n",
       "4          NaN  "
      ]
     },
     "execution_count": 23,
     "metadata": {},
     "output_type": "execute_result"
    }
   ],
   "source": [
    "# Построим сводную таблицу по игрокам:\n",
    "game_actions_pivot = game_actions.pivot_table(index='user_id', \n",
    "    columns='event', values='event_datetime', aggfunc='count').reset_index()\n",
    "game_actions_pivot.head()"
   ]
  },
  {
   "cell_type": "code",
   "execution_count": 24,
   "metadata": {},
   "outputs": [
    {
     "data": {
      "text/html": [
       "<div>\n",
       "<style scoped>\n",
       "    .dataframe tbody tr th:only-of-type {\n",
       "        vertical-align: middle;\n",
       "    }\n",
       "\n",
       "    .dataframe tbody tr th {\n",
       "        vertical-align: top;\n",
       "    }\n",
       "\n",
       "    .dataframe thead th {\n",
       "        text-align: right;\n",
       "    }\n",
       "</style>\n",
       "<table border=\"1\" class=\"dataframe\">\n",
       "  <thead>\n",
       "    <tr style=\"text-align: right;\">\n",
       "      <th></th>\n",
       "      <th>user_id</th>\n",
       "      <th>building</th>\n",
       "      <th>revenue</th>\n",
       "    </tr>\n",
       "  </thead>\n",
       "  <tbody>\n",
       "    <tr>\n",
       "      <th>0</th>\n",
       "      <td>0001f83c-c6ac-4621-b7f0-8a28b283ac30</td>\n",
       "      <td>13.0</td>\n",
       "      <td>0.91</td>\n",
       "    </tr>\n",
       "    <tr>\n",
       "      <th>1</th>\n",
       "      <td>00151b4f-ba38-44a8-a650-d7cf130a0105</td>\n",
       "      <td>9.0</td>\n",
       "      <td>0.63</td>\n",
       "    </tr>\n",
       "    <tr>\n",
       "      <th>2</th>\n",
       "      <td>001aaea6-3d14-43f1-8ca8-7f48820f17aa</td>\n",
       "      <td>4.0</td>\n",
       "      <td>0.28</td>\n",
       "    </tr>\n",
       "    <tr>\n",
       "      <th>3</th>\n",
       "      <td>001d39dc-366c-4021-9604-6a3b9ff01e25</td>\n",
       "      <td>8.0</td>\n",
       "      <td>0.56</td>\n",
       "    </tr>\n",
       "    <tr>\n",
       "      <th>4</th>\n",
       "      <td>002f508f-67b6-479f-814b-b05f00d4e995</td>\n",
       "      <td>12.0</td>\n",
       "      <td>0.84</td>\n",
       "    </tr>\n",
       "  </tbody>\n",
       "</table>\n",
       "</div>"
      ],
      "text/plain": [
       "                                user_id  building  revenue\n",
       "0  0001f83c-c6ac-4621-b7f0-8a28b283ac30      13.0     0.91\n",
       "1  00151b4f-ba38-44a8-a650-d7cf130a0105       9.0     0.63\n",
       "2  001aaea6-3d14-43f1-8ca8-7f48820f17aa       4.0     0.28\n",
       "3  001d39dc-366c-4021-9604-6a3b9ff01e25       8.0     0.56\n",
       "4  002f508f-67b6-479f-814b-b05f00d4e995      12.0     0.84"
      ]
     },
     "execution_count": 24,
     "metadata": {},
     "output_type": "execute_result"
    }
   ],
   "source": [
    "# Выделим данные по построенным зданиям:\n",
    "buildings = game_actions_pivot[['user_id', 'building']]\n",
    "buildings = buildings.rename_axis(None, axis=1)\n",
    "# От заказчика нам известно, что реклама на здании приносит прибыль 0.07.\n",
    "adv_cost = 0.07\n",
    "# Так как в базовой модели монетизации реклама показывается на каждом здании, посчитаем выручку:\n",
    "buildings['revenue'] = buildings['building'] * adv_cost\n",
    "buildings.head()"
   ]
  },
  {
   "cell_type": "code",
   "execution_count": 25,
   "metadata": {},
   "outputs": [
    {
     "name": "stdout",
     "output_type": "stream",
     "text": [
      "Распределение значений в таблице:\n"
     ]
    },
    {
     "data": {
      "text/html": [
       "<div>\n",
       "<style scoped>\n",
       "    .dataframe tbody tr th:only-of-type {\n",
       "        vertical-align: middle;\n",
       "    }\n",
       "\n",
       "    .dataframe tbody tr th {\n",
       "        vertical-align: top;\n",
       "    }\n",
       "\n",
       "    .dataframe thead th {\n",
       "        text-align: right;\n",
       "    }\n",
       "</style>\n",
       "<table border=\"1\" class=\"dataframe\">\n",
       "  <thead>\n",
       "    <tr style=\"text-align: right;\">\n",
       "      <th></th>\n",
       "      <th>building</th>\n",
       "      <th>revenue</th>\n",
       "    </tr>\n",
       "  </thead>\n",
       "  <tbody>\n",
       "    <tr>\n",
       "      <th>count</th>\n",
       "      <td>13576.000000</td>\n",
       "      <td>13576.000000</td>\n",
       "    </tr>\n",
       "    <tr>\n",
       "      <th>mean</th>\n",
       "      <td>9.425162</td>\n",
       "      <td>0.659761</td>\n",
       "    </tr>\n",
       "    <tr>\n",
       "      <th>std</th>\n",
       "      <td>3.860800</td>\n",
       "      <td>0.270256</td>\n",
       "    </tr>\n",
       "    <tr>\n",
       "      <th>min</th>\n",
       "      <td>1.000000</td>\n",
       "      <td>0.070000</td>\n",
       "    </tr>\n",
       "    <tr>\n",
       "      <th>25%</th>\n",
       "      <td>6.000000</td>\n",
       "      <td>0.420000</td>\n",
       "    </tr>\n",
       "    <tr>\n",
       "      <th>50%</th>\n",
       "      <td>10.000000</td>\n",
       "      <td>0.700000</td>\n",
       "    </tr>\n",
       "    <tr>\n",
       "      <th>75%</th>\n",
       "      <td>12.000000</td>\n",
       "      <td>0.840000</td>\n",
       "    </tr>\n",
       "    <tr>\n",
       "      <th>max</th>\n",
       "      <td>20.000000</td>\n",
       "      <td>1.400000</td>\n",
       "    </tr>\n",
       "  </tbody>\n",
       "</table>\n",
       "</div>"
      ],
      "text/plain": [
       "           building       revenue\n",
       "count  13576.000000  13576.000000\n",
       "mean       9.425162      0.659761\n",
       "std        3.860800      0.270256\n",
       "min        1.000000      0.070000\n",
       "25%        6.000000      0.420000\n",
       "50%       10.000000      0.700000\n",
       "75%       12.000000      0.840000\n",
       "max       20.000000      1.400000"
      ]
     },
     "metadata": {},
     "output_type": "display_data"
    },
    {
     "name": "stdout",
     "output_type": "stream",
     "text": [
      "Общее количество построенных зданий:\n"
     ]
    },
    {
     "data": {
      "text/plain": [
       "127956.0"
      ]
     },
     "metadata": {},
     "output_type": "display_data"
    },
    {
     "name": "stdout",
     "output_type": "stream",
     "text": [
      "Суммарная выручка за построенные здания:\n"
     ]
    },
    {
     "data": {
      "text/plain": [
       "8956.92"
      ]
     },
     "metadata": {},
     "output_type": "display_data"
    }
   ],
   "source": [
    "# Изучим данные по построенным зданиям:\n",
    "print(\"Распределение значений в таблице:\")\n",
    "display(buildings.describe())\n",
    "print(\"Общее количество построенных зданий:\")\n",
    "display(buildings['building'].sum())\n",
    "print(\"Суммарная выручка за построенные здания:\")\n",
    "display(buildings['revenue'].sum())"
   ]
  },
  {
   "cell_type": "code",
   "execution_count": 26,
   "metadata": {},
   "outputs": [
    {
     "data": {
      "image/png": "[encoded data removed]",
      "text/plain": [
       "<Figure size 720x432 with 1 Axes>"
      ]
     },
     "metadata": {
      "needs_background": "light"
     },
     "output_type": "display_data"
    }
   ],
   "source": [
    "# Построим график распределения количества построенных зданий по количеству:\n",
    "buildings['building'].hist(bins=20, figsize = (10,6), color = 'green')\n",
    "plt.xticks(np.arange(0, buildings['building'].max(), step=1))\n",
    "plt.suptitle('Распределение количества построенных зданий по количеству')\n",
    "plt.xlabel('Количество построенных зданий')\n",
    "plt.ylabel('Количество игроков');"
   ]
  },
  {
   "cell_type": "markdown",
   "metadata": {},
   "source": [
    "На графике распределения есть провал значений между 7 и 9 построенными зданиями. Изучим данные подробнее, чтобы понять \"ненормальность\" распределения."
   ]
  },
  {
   "cell_type": "code",
   "execution_count": 27,
   "metadata": {},
   "outputs": [
    {
     "name": "stdout",
     "output_type": "stream",
     "text": [
      "<class 'pandas.core.frame.DataFrame'>\n",
      "Int64Index: 13576 entries, 0 to 13575\n",
      "Data columns (total 4 columns):\n",
      " #   Column    Non-Null Count  Dtype  \n",
      "---  ------    --------------  -----  \n",
      " 0   user_id   13576 non-null  object \n",
      " 1   building  13576 non-null  float64\n",
      " 2   revenue   13576 non-null  float64\n",
      " 3   event     5817 non-null   object \n",
      "dtypes: float64(2), object(2)\n",
      "memory usage: 530.3+ KB\n"
     ]
    }
   ],
   "source": [
    "# Добавим к таблице столбец со способом завершения уровня:\n",
    "buildings = pd.merge(buildings, finished_level[['user_id', 'event']], how='left')\n",
    "buildings.info()"
   ]
  },
  {
   "cell_type": "code",
   "execution_count": 28,
   "metadata": {},
   "outputs": [],
   "source": [
    "# Образовавшиеся пропуски - у пользователей, не завершивших уровень.\n",
    "# Заполним их значением not_finished:\n",
    "buildings['event'] = buildings['event'].fillna('not_finished')"
   ]
  },
  {
   "cell_type": "code",
   "execution_count": 29,
   "metadata": {
    "scrolled": false
   },
   "outputs": [
    {
     "data": {
      "image/png": "[encoded data removed]",
      "text/plain": [
       "<Figure size 720x432 with 1 Axes>"
      ]
     },
     "metadata": {
      "needs_background": "light"
     },
     "output_type": "display_data"
    }
   ],
   "source": [
    "# Построим гистограмму распределения количества построенных зданий с разделением по способу завершения уровня:\n",
    "plt.figure(figsize=(10, 6))\n",
    "sns.histplot(data=buildings, x='building', hue='event', multiple=\"dodge\")\n",
    "plt.xticks(np.arange(0, buildings['building'].max(), step=1))\n",
    "plt.suptitle('Распределение количества построенных зданий по способу завершения уровня')\n",
    "plt.xlabel('Количество построенных зданий')\n",
    "plt.ylabel('Количество игроков');"
   ]
  },
  {
   "cell_type": "markdown",
   "metadata": {},
   "source": [
    "**Выводы:**\n",
    "\n",
    "В текущей модели реклама показывается на каждом здании, выручка с показа - 0.07. В среднем с игрока выручка 0.66. Выручка за исследуемый период - 8956.92.\n",
    "\n",
    "Игроками построено 127956 зданий, в среднем 9.43 здания на игрока. На графике распределения есть провал значений около 7-9 зданий.\n",
    "\n",
    "На основании графика распределения количества построенных зданий с разделением по способу завершения уровня можно выделить следующее:\n",
    "\n",
    "- Все игроки, завершившие уровень через реализацию проекта, строили больше 10 зданий. Можно предположить, что для разработки орбитальной сборки спутников нужно определенное количество зданий для успешной реализации проекта.\n",
    "\n",
    "- 1 построенное здание только у игроков не завершивших уровень. Для завершения необходимо минимум 2 здания.\n",
    "\n",
    "- Распределение количества зданий построенных игроками не завершившими уровень и завершившими через победу на врагом очень похожее, только с разным количеством игроков - первый пик на 6 построенных зданиях, далее резкий спад на 7 зданиях, подъем до 9 зданий и далее плавное уменьшение. Можно предположить следующий вариант игрового опыта:\n",
    "    + Игроки строят здания, набираются боевой силы и после постройки 6 здания идут в бой. Часть игроков выигрывает, часть игроков проигрывает.\n",
    "    + 7 зданий строит уже намного меньшее количество игроков - выигрывшие игроки перешли на другой уровень, часть проигравших уходит из приложения, часть продолжает играть, строить здания, вступать в бой.\n",
    "   \n",
    "\n",
    "\n",
    "\n"
   ]
  },
  {
   "cell_type": "markdown",
   "metadata": {},
   "source": [
    "### Распределение игроков по источникам трафика"
   ]
  },
  {
   "cell_type": "code",
   "execution_count": 30,
   "metadata": {
    "scrolled": true
   },
   "outputs": [
    {
     "data": {
      "text/html": [
       "<div>\n",
       "<style scoped>\n",
       "    .dataframe tbody tr th:only-of-type {\n",
       "        vertical-align: middle;\n",
       "    }\n",
       "\n",
       "    .dataframe tbody tr th {\n",
       "        vertical-align: top;\n",
       "    }\n",
       "\n",
       "    .dataframe thead th {\n",
       "        text-align: right;\n",
       "    }\n",
       "</style>\n",
       "<table border=\"1\" class=\"dataframe\">\n",
       "  <thead>\n",
       "    <tr style=\"text-align: right;\">\n",
       "      <th></th>\n",
       "      <th>source</th>\n",
       "      <th>n_users</th>\n",
       "    </tr>\n",
       "  </thead>\n",
       "  <tbody>\n",
       "    <tr>\n",
       "      <th>0</th>\n",
       "      <td>youtube_channel_reklama</td>\n",
       "      <td>2686</td>\n",
       "    </tr>\n",
       "    <tr>\n",
       "      <th>1</th>\n",
       "      <td>facebook_ads</td>\n",
       "      <td>2726</td>\n",
       "    </tr>\n",
       "    <tr>\n",
       "      <th>2</th>\n",
       "      <td>instagram_new_adverts</td>\n",
       "      <td>3347</td>\n",
       "    </tr>\n",
       "    <tr>\n",
       "      <th>3</th>\n",
       "      <td>yandex_direct</td>\n",
       "      <td>4817</td>\n",
       "    </tr>\n",
       "  </tbody>\n",
       "</table>\n",
       "</div>"
      ],
      "text/plain": [
       "                    source  n_users\n",
       "0  youtube_channel_reklama     2686\n",
       "1             facebook_ads     2726\n",
       "2    instagram_new_adverts     3347\n",
       "3            yandex_direct     4817"
      ]
     },
     "execution_count": 30,
     "metadata": {},
     "output_type": "execute_result"
    }
   ],
   "source": [
    "# Сгруппируем пользователей по источникам трафика\n",
    "source_by_users = user_source.groupby('source')['user_id'].count().sort_values().reset_index()\n",
    "source_by_users.columns = ['source', 'n_users']\n",
    "source_by_users"
   ]
  },
  {
   "cell_type": "code",
   "execution_count": 31,
   "metadata": {
    "scrolled": false
   },
   "outputs": [
    {
     "data": {
      "image/png": "[encoded data removed]",
      "text/plain": [
       "<Figure size 720x432 with 1 Axes>"
      ]
     },
     "metadata": {
      "needs_background": "light"
     },
     "output_type": "display_data"
    }
   ],
   "source": [
    "# Построим график количества игроков по источникам трафика:\n",
    "plt.figure(figsize=(10, 6))\n",
    "plt.suptitle('Количество игроков по источникам трафика')\n",
    "sns.barplot(x=source_by_users['source'], y=source_by_users['n_users'])\n",
    "plt.xlabel('Тип источника')\n",
    "plt.ylabel('Количество игроков');"
   ]
  },
  {
   "cell_type": "markdown",
   "metadata": {},
   "source": [
    "**Выводы:**\n",
    "\n",
    "Больше всего пользователей пришло из yandex_direct (4817). На втором месте - instagram_new_adverts (3347 пользователей). Из facebook_ads и youtube_channel_reklama пришло примерно одинаковое количество игроков (2726 и 2686 соответственно)."
   ]
  },
  {
   "cell_type": "markdown",
   "metadata": {},
   "source": [
    "### Маркетинговые затраты"
   ]
  },
  {
   "cell_type": "markdown",
   "metadata": {},
   "source": [
    "#### Средний CAC и ROMI для всего проекта"
   ]
  },
  {
   "cell_type": "code",
   "execution_count": 32,
   "metadata": {},
   "outputs": [
    {
     "name": "stdout",
     "output_type": "stream",
     "text": [
      "Сумма затрат на привлечение пользователей:\n"
     ]
    },
    {
     "data": {
      "text/plain": [
       "7603.58"
      ]
     },
     "metadata": {},
     "output_type": "display_data"
    }
   ],
   "source": [
    "# Посчитаем общие затраты на привлечение всех пользователей:\n",
    "print(\"Сумма затрат на привлечение пользователей:\")\n",
    "display(ad_costs['cost'].sum().round(2))"
   ]
  },
  {
   "cell_type": "code",
   "execution_count": 33,
   "metadata": {
    "scrolled": true
   },
   "outputs": [
    {
     "name": "stdout",
     "output_type": "stream",
     "text": [
      "CAC (Затраты на привлечение 1 пользователя):\n"
     ]
    },
    {
     "data": {
      "text/plain": [
       "0.56"
      ]
     },
     "execution_count": 33,
     "metadata": {},
     "output_type": "execute_result"
    }
   ],
   "source": [
    "# Посчитаем общий CAC - затраты на привлечение 1 пользователя:\n",
    "print(\"CAC (Затраты на привлечение 1 пользователя):\")\n",
    "cac = (ad_costs['cost'].sum()/user_source['user_id'].nunique()).round(2)\n",
    "cac"
   ]
  },
  {
   "cell_type": "code",
   "execution_count": 34,
   "metadata": {},
   "outputs": [
    {
     "name": "stdout",
     "output_type": "stream",
     "text": [
      "Общий ROMI:\n"
     ]
    },
    {
     "data": {
      "text/plain": [
       "1.18"
      ]
     },
     "metadata": {},
     "output_type": "display_data"
    }
   ],
   "source": [
    "# Выведем общий ROMI (выручку на 1 пользователя разделим на CAC):\n",
    "print(\"Общий ROMI:\")\n",
    "display((buildings['revenue'].mean()/cac).round(2))"
   ]
  },
  {
   "cell_type": "markdown",
   "metadata": {},
   "source": [
    "**Выводы:**\n",
    "\n",
    "За исследуемый период затраты на привлечение пользователей составили 7603.58, при выручке в 8956.92.\n",
    "\n",
    "Общий CAC составляет 0.56 - столько в среднем стоит привлечение 1 пользователя.\n",
    "\n",
    "Общий ROMI составляет 1.18 - на данном промежутке времени проект прибыльный (окупаемость 118 %)."
   ]
  },
  {
   "cell_type": "markdown",
   "metadata": {},
   "source": [
    "#### CAC по источникам трафика"
   ]
  },
  {
   "cell_type": "code",
   "execution_count": 35,
   "metadata": {},
   "outputs": [
    {
     "data": {
      "text/html": [
       "<div>\n",
       "<style scoped>\n",
       "    .dataframe tbody tr th:only-of-type {\n",
       "        vertical-align: middle;\n",
       "    }\n",
       "\n",
       "    .dataframe tbody tr th {\n",
       "        vertical-align: top;\n",
       "    }\n",
       "\n",
       "    .dataframe thead th {\n",
       "        text-align: right;\n",
       "    }\n",
       "</style>\n",
       "<table border=\"1\" class=\"dataframe\">\n",
       "  <thead>\n",
       "    <tr style=\"text-align: right;\">\n",
       "      <th></th>\n",
       "      <th>source</th>\n",
       "      <th>cost</th>\n",
       "    </tr>\n",
       "  </thead>\n",
       "  <tbody>\n",
       "    <tr>\n",
       "      <th>0</th>\n",
       "      <td>youtube_channel_reklama</td>\n",
       "      <td>1068.12</td>\n",
       "    </tr>\n",
       "    <tr>\n",
       "      <th>1</th>\n",
       "      <td>facebook_ads</td>\n",
       "      <td>2140.90</td>\n",
       "    </tr>\n",
       "    <tr>\n",
       "      <th>2</th>\n",
       "      <td>instagram_new_adverts</td>\n",
       "      <td>2161.44</td>\n",
       "    </tr>\n",
       "    <tr>\n",
       "      <th>3</th>\n",
       "      <td>yandex_direct</td>\n",
       "      <td>2233.11</td>\n",
       "    </tr>\n",
       "  </tbody>\n",
       "</table>\n",
       "</div>"
      ],
      "text/plain": [
       "                    source     cost\n",
       "0  youtube_channel_reklama  1068.12\n",
       "1             facebook_ads  2140.90\n",
       "2    instagram_new_adverts  2161.44\n",
       "3            yandex_direct  2233.11"
      ]
     },
     "execution_count": 35,
     "metadata": {},
     "output_type": "execute_result"
    }
   ],
   "source": [
    "# Выведем расходы по источникам трафика:\n",
    "costs_by_source = ad_costs.groupby('source')['cost'].sum().round(2).sort_values().reset_index()\n",
    "costs_by_source"
   ]
  },
  {
   "cell_type": "code",
   "execution_count": 36,
   "metadata": {},
   "outputs": [
    {
     "data": {
      "image/png": "[encoded data removed]",
      "text/plain": [
       "<Figure size 720x432 with 1 Axes>"
      ]
     },
     "metadata": {
      "needs_background": "light"
     },
     "output_type": "display_data"
    }
   ],
   "source": [
    "# Построим график затрат по источникам трафика:\n",
    "plt.figure(figsize=(10, 6))\n",
    "plt.suptitle('Затраты по источникам трафика')\n",
    "sns.barplot(x=costs_by_source['source'], y=costs_by_source['cost'])\n",
    "plt.xlabel('Тип источника')\n",
    "plt.ylabel('Затраты');"
   ]
  },
  {
   "cell_type": "code",
   "execution_count": 37,
   "metadata": {},
   "outputs": [
    {
     "data": {
      "text/html": [
       "<div>\n",
       "<style scoped>\n",
       "    .dataframe tbody tr th:only-of-type {\n",
       "        vertical-align: middle;\n",
       "    }\n",
       "\n",
       "    .dataframe tbody tr th {\n",
       "        vertical-align: top;\n",
       "    }\n",
       "\n",
       "    .dataframe thead th {\n",
       "        text-align: right;\n",
       "    }\n",
       "</style>\n",
       "<table border=\"1\" class=\"dataframe\">\n",
       "  <thead>\n",
       "    <tr style=\"text-align: right;\">\n",
       "      <th></th>\n",
       "      <th>source</th>\n",
       "      <th>n_users</th>\n",
       "      <th>cost</th>\n",
       "      <th>cac</th>\n",
       "    </tr>\n",
       "  </thead>\n",
       "  <tbody>\n",
       "    <tr>\n",
       "      <th>0</th>\n",
       "      <td>youtube_channel_reklama</td>\n",
       "      <td>2686</td>\n",
       "      <td>1068.12</td>\n",
       "      <td>0.40</td>\n",
       "    </tr>\n",
       "    <tr>\n",
       "      <th>3</th>\n",
       "      <td>yandex_direct</td>\n",
       "      <td>4817</td>\n",
       "      <td>2233.11</td>\n",
       "      <td>0.46</td>\n",
       "    </tr>\n",
       "    <tr>\n",
       "      <th>2</th>\n",
       "      <td>instagram_new_adverts</td>\n",
       "      <td>3347</td>\n",
       "      <td>2161.44</td>\n",
       "      <td>0.65</td>\n",
       "    </tr>\n",
       "    <tr>\n",
       "      <th>1</th>\n",
       "      <td>facebook_ads</td>\n",
       "      <td>2726</td>\n",
       "      <td>2140.90</td>\n",
       "      <td>0.79</td>\n",
       "    </tr>\n",
       "  </tbody>\n",
       "</table>\n",
       "</div>"
      ],
      "text/plain": [
       "                    source  n_users     cost   cac\n",
       "0  youtube_channel_reklama     2686  1068.12  0.40\n",
       "3            yandex_direct     4817  2233.11  0.46\n",
       "2    instagram_new_adverts     3347  2161.44  0.65\n",
       "1             facebook_ads     2726  2140.90  0.79"
      ]
     },
     "execution_count": 37,
     "metadata": {},
     "output_type": "execute_result"
    }
   ],
   "source": [
    "# Присоединим данные по количеству пользователей по источникам и посчитаем CAC:\n",
    "cac_by_sources = pd.merge(source_by_users, costs_by_source, on='source')\n",
    "cac_by_sources['cac'] = (cac_by_sources['cost']/cac_by_sources['n_users']).round(2)\n",
    "cac_by_sources = cac_by_sources.sort_values(by='cac')\n",
    "cac_by_sources"
   ]
  },
  {
   "cell_type": "code",
   "execution_count": 38,
   "metadata": {},
   "outputs": [
    {
     "data": {
      "image/png": "[encoded data removed]",
      "text/plain": [
       "<Figure size 720x432 with 1 Axes>"
      ]
     },
     "metadata": {
      "needs_background": "light"
     },
     "output_type": "display_data"
    }
   ],
   "source": [
    "# Построим график CAC по источникам:\n",
    "plt.figure(figsize=(10, 6))\n",
    "sns.barplot(x='source', y='cac', data = cac_by_sources)\n",
    "plt.suptitle('CAC по источникам')\n",
    "plt.xlabel('Источники')\n",
    "plt.ylabel('CAC');"
   ]
  },
  {
   "cell_type": "markdown",
   "metadata": {},
   "source": [
    "**Выводы:**\n",
    "\n",
    "Затраты по источникам yandex_direct, instagram_new_adverts и facebook_ads примерно одинаковые (2233.11 - 2140.90).\n",
    "Минимальные затраты у youtube_channel_reklama - 1068.12.\n",
    "\n",
    "За счет низких затрат, у источника youtube_channel_reklama самый низкий CAC - 0.40. У источника facebook_ads за счет невысокого количества привлеченных пользователей CAC самый высокий - 0.79. У instagram_new_adverts CAC тоже довольно высокий - 0.65. У источника yandex_direct CAC невысокий - 0.46."
   ]
  },
  {
   "cell_type": "markdown",
   "metadata": {},
   "source": [
    "#### Затраты по дням"
   ]
  },
  {
   "cell_type": "code",
   "execution_count": 39,
   "metadata": {},
   "outputs": [
    {
     "data": {
      "text/html": [
       "<div>\n",
       "<style scoped>\n",
       "    .dataframe tbody tr th:only-of-type {\n",
       "        vertical-align: middle;\n",
       "    }\n",
       "\n",
       "    .dataframe tbody tr th {\n",
       "        vertical-align: top;\n",
       "    }\n",
       "\n",
       "    .dataframe thead th {\n",
       "        text-align: right;\n",
       "    }\n",
       "</style>\n",
       "<table border=\"1\" class=\"dataframe\">\n",
       "  <thead>\n",
       "    <tr style=\"text-align: right;\">\n",
       "      <th></th>\n",
       "      <th>day</th>\n",
       "      <th>cost</th>\n",
       "    </tr>\n",
       "  </thead>\n",
       "  <tbody>\n",
       "    <tr>\n",
       "      <th>0</th>\n",
       "      <td>2020-05-03</td>\n",
       "      <td>3302.45</td>\n",
       "    </tr>\n",
       "    <tr>\n",
       "      <th>1</th>\n",
       "      <td>2020-05-04</td>\n",
       "      <td>1865.00</td>\n",
       "    </tr>\n",
       "    <tr>\n",
       "      <th>2</th>\n",
       "      <td>2020-05-05</td>\n",
       "      <td>1029.43</td>\n",
       "    </tr>\n",
       "    <tr>\n",
       "      <th>3</th>\n",
       "      <td>2020-05-06</td>\n",
       "      <td>620.48</td>\n",
       "    </tr>\n",
       "    <tr>\n",
       "      <th>4</th>\n",
       "      <td>2020-05-07</td>\n",
       "      <td>391.85</td>\n",
       "    </tr>\n",
       "    <tr>\n",
       "      <th>5</th>\n",
       "      <td>2020-05-08</td>\n",
       "      <td>242.77</td>\n",
       "    </tr>\n",
       "    <tr>\n",
       "      <th>6</th>\n",
       "      <td>2020-05-09</td>\n",
       "      <td>151.59</td>\n",
       "    </tr>\n",
       "  </tbody>\n",
       "</table>\n",
       "</div>"
      ],
      "text/plain": [
       "         day     cost\n",
       "0 2020-05-03  3302.45\n",
       "1 2020-05-04  1865.00\n",
       "2 2020-05-05  1029.43\n",
       "3 2020-05-06   620.48\n",
       "4 2020-05-07   391.85\n",
       "5 2020-05-08   242.77\n",
       "6 2020-05-09   151.59"
      ]
     },
     "execution_count": 39,
     "metadata": {},
     "output_type": "execute_result"
    }
   ],
   "source": [
    "# Выведем затраты по дням:\n",
    "costs_by_days = ad_costs.groupby('day')['cost'].sum().round(2).reset_index()\n",
    "costs_by_days"
   ]
  },
  {
   "cell_type": "code",
   "execution_count": 40,
   "metadata": {
    "scrolled": false
   },
   "outputs": [
    {
     "data": {
      "image/png": "[encoded data removed]",
      "text/plain": [
       "<Figure size 720x432 with 1 Axes>"
      ]
     },
     "metadata": {
      "needs_background": "light"
     },
     "output_type": "display_data"
    }
   ],
   "source": [
    "# Построим график изменения затрат на привлечение пользователей по дням:\n",
    "costs_by_days.plot(x='day', y='cost', figsize = (10,6), color = 'green')\n",
    "plt.suptitle('Суммы затрат по дням')\n",
    "plt.xlabel('Дата')\n",
    "plt.ylabel('Суммы затрат');"
   ]
  },
  {
   "cell_type": "code",
   "execution_count": 41,
   "metadata": {},
   "outputs": [
    {
     "data": {
      "text/html": [
       "<div>\n",
       "<style scoped>\n",
       "    .dataframe tbody tr th:only-of-type {\n",
       "        vertical-align: middle;\n",
       "    }\n",
       "\n",
       "    .dataframe tbody tr th {\n",
       "        vertical-align: top;\n",
       "    }\n",
       "\n",
       "    .dataframe thead th {\n",
       "        text-align: right;\n",
       "    }\n",
       "</style>\n",
       "<table border=\"1\" class=\"dataframe\">\n",
       "  <thead>\n",
       "    <tr style=\"text-align: right;\">\n",
       "      <th></th>\n",
       "      <th>first_visit_time</th>\n",
       "      <th>event</th>\n",
       "      <th>building_type</th>\n",
       "      <th>user_id</th>\n",
       "      <th>project_type</th>\n",
       "    </tr>\n",
       "  </thead>\n",
       "  <tbody>\n",
       "    <tr>\n",
       "      <th>0</th>\n",
       "      <td>2020-05-04 00:00:01</td>\n",
       "      <td>building</td>\n",
       "      <td>assembly_shop</td>\n",
       "      <td>55e92310-cb8e-4754-b622-597e124b03de</td>\n",
       "      <td>NaN</td>\n",
       "    </tr>\n",
       "    <tr>\n",
       "      <th>1</th>\n",
       "      <td>2020-05-04 00:00:03</td>\n",
       "      <td>building</td>\n",
       "      <td>assembly_shop</td>\n",
       "      <td>c07b1c10-f477-44dc-81dc-ec82254b1347</td>\n",
       "      <td>NaN</td>\n",
       "    </tr>\n",
       "    <tr>\n",
       "      <th>2</th>\n",
       "      <td>2020-05-04 00:00:16</td>\n",
       "      <td>building</td>\n",
       "      <td>assembly_shop</td>\n",
       "      <td>6edd42cc-e753-4ff6-a947-2107cd560710</td>\n",
       "      <td>NaN</td>\n",
       "    </tr>\n",
       "    <tr>\n",
       "      <th>3</th>\n",
       "      <td>2020-05-04 00:00:16</td>\n",
       "      <td>building</td>\n",
       "      <td>assembly_shop</td>\n",
       "      <td>92c69003-d60a-444a-827f-8cc51bf6bf4c</td>\n",
       "      <td>NaN</td>\n",
       "    </tr>\n",
       "    <tr>\n",
       "      <th>4</th>\n",
       "      <td>2020-05-04 00:00:35</td>\n",
       "      <td>building</td>\n",
       "      <td>assembly_shop</td>\n",
       "      <td>cdc6bb92-0ccb-4490-9866-ef142f09139d</td>\n",
       "      <td>NaN</td>\n",
       "    </tr>\n",
       "  </tbody>\n",
       "</table>\n",
       "</div>"
      ],
      "text/plain": [
       "     first_visit_time     event  building_type  \\\n",
       "0 2020-05-04 00:00:01  building  assembly_shop   \n",
       "1 2020-05-04 00:00:03  building  assembly_shop   \n",
       "2 2020-05-04 00:00:16  building  assembly_shop   \n",
       "3 2020-05-04 00:00:16  building  assembly_shop   \n",
       "4 2020-05-04 00:00:35  building  assembly_shop   \n",
       "\n",
       "                                user_id project_type  \n",
       "0  55e92310-cb8e-4754-b622-597e124b03de          NaN  \n",
       "1  c07b1c10-f477-44dc-81dc-ec82254b1347          NaN  \n",
       "2  6edd42cc-e753-4ff6-a947-2107cd560710          NaN  \n",
       "3  92c69003-d60a-444a-827f-8cc51bf6bf4c          NaN  \n",
       "4  cdc6bb92-0ccb-4490-9866-ef142f09139d          NaN  "
      ]
     },
     "metadata": {},
     "output_type": "display_data"
    }
   ],
   "source": [
    "# Создадим таблицу с датой первого посещения каждого пользователя:\n",
    "first_visits = game_actions.sort_values(by='event_datetime')\n",
    "first_visits = first_visits.drop_duplicates('user_id', \n",
    "    keep='first').reset_index(drop=True)\n",
    "first_visits.rename(columns={'event_datetime': 'first_visit_time'}, inplace=True)\n",
    "display(first_visits.head())"
   ]
  },
  {
   "cell_type": "code",
   "execution_count": 42,
   "metadata": {},
   "outputs": [
    {
     "data": {
      "text/html": [
       "<div>\n",
       "<style scoped>\n",
       "    .dataframe tbody tr th:only-of-type {\n",
       "        vertical-align: middle;\n",
       "    }\n",
       "\n",
       "    .dataframe tbody tr th {\n",
       "        vertical-align: top;\n",
       "    }\n",
       "\n",
       "    .dataframe thead th {\n",
       "        text-align: right;\n",
       "    }\n",
       "</style>\n",
       "<table border=\"1\" class=\"dataframe\">\n",
       "  <thead>\n",
       "    <tr style=\"text-align: right;\">\n",
       "      <th></th>\n",
       "      <th>first_visit_time</th>\n",
       "      <th>event</th>\n",
       "      <th>building_type</th>\n",
       "      <th>user_id</th>\n",
       "      <th>project_type</th>\n",
       "      <th>first_visit_date</th>\n",
       "    </tr>\n",
       "  </thead>\n",
       "  <tbody>\n",
       "    <tr>\n",
       "      <th>0</th>\n",
       "      <td>2020-05-04 00:00:01</td>\n",
       "      <td>building</td>\n",
       "      <td>assembly_shop</td>\n",
       "      <td>55e92310-cb8e-4754-b622-597e124b03de</td>\n",
       "      <td>NaN</td>\n",
       "      <td>2020-05-04</td>\n",
       "    </tr>\n",
       "    <tr>\n",
       "      <th>1</th>\n",
       "      <td>2020-05-04 00:00:03</td>\n",
       "      <td>building</td>\n",
       "      <td>assembly_shop</td>\n",
       "      <td>c07b1c10-f477-44dc-81dc-ec82254b1347</td>\n",
       "      <td>NaN</td>\n",
       "      <td>2020-05-04</td>\n",
       "    </tr>\n",
       "    <tr>\n",
       "      <th>2</th>\n",
       "      <td>2020-05-04 00:00:16</td>\n",
       "      <td>building</td>\n",
       "      <td>assembly_shop</td>\n",
       "      <td>6edd42cc-e753-4ff6-a947-2107cd560710</td>\n",
       "      <td>NaN</td>\n",
       "      <td>2020-05-04</td>\n",
       "    </tr>\n",
       "    <tr>\n",
       "      <th>3</th>\n",
       "      <td>2020-05-04 00:00:16</td>\n",
       "      <td>building</td>\n",
       "      <td>assembly_shop</td>\n",
       "      <td>92c69003-d60a-444a-827f-8cc51bf6bf4c</td>\n",
       "      <td>NaN</td>\n",
       "      <td>2020-05-04</td>\n",
       "    </tr>\n",
       "    <tr>\n",
       "      <th>4</th>\n",
       "      <td>2020-05-04 00:00:35</td>\n",
       "      <td>building</td>\n",
       "      <td>assembly_shop</td>\n",
       "      <td>cdc6bb92-0ccb-4490-9866-ef142f09139d</td>\n",
       "      <td>NaN</td>\n",
       "      <td>2020-05-04</td>\n",
       "    </tr>\n",
       "  </tbody>\n",
       "</table>\n",
       "</div>"
      ],
      "text/plain": [
       "     first_visit_time     event  building_type  \\\n",
       "0 2020-05-04 00:00:01  building  assembly_shop   \n",
       "1 2020-05-04 00:00:03  building  assembly_shop   \n",
       "2 2020-05-04 00:00:16  building  assembly_shop   \n",
       "3 2020-05-04 00:00:16  building  assembly_shop   \n",
       "4 2020-05-04 00:00:35  building  assembly_shop   \n",
       "\n",
       "                                user_id project_type first_visit_date  \n",
       "0  55e92310-cb8e-4754-b622-597e124b03de          NaN       2020-05-04  \n",
       "1  c07b1c10-f477-44dc-81dc-ec82254b1347          NaN       2020-05-04  \n",
       "2  6edd42cc-e753-4ff6-a947-2107cd560710          NaN       2020-05-04  \n",
       "3  92c69003-d60a-444a-827f-8cc51bf6bf4c          NaN       2020-05-04  \n",
       "4  cdc6bb92-0ccb-4490-9866-ef142f09139d          NaN       2020-05-04  "
      ]
     },
     "execution_count": 42,
     "metadata": {},
     "output_type": "execute_result"
    }
   ],
   "source": [
    "# Добавим столбец с датой первого посещения:\n",
    "first_visits['first_visit_date'] = (first_visits['first_visit_time']).dt.date\n",
    "first_visits['first_visit_date'] = pd.to_datetime(first_visits['first_visit_date'], \n",
    "                                                  format=\"%Y-%m-%d\")\n",
    "first_visits.head()"
   ]
  },
  {
   "cell_type": "code",
   "execution_count": 43,
   "metadata": {},
   "outputs": [
    {
     "data": {
      "text/html": [
       "<div>\n",
       "<style scoped>\n",
       "    .dataframe tbody tr th:only-of-type {\n",
       "        vertical-align: middle;\n",
       "    }\n",
       "\n",
       "    .dataframe tbody tr th {\n",
       "        vertical-align: top;\n",
       "    }\n",
       "\n",
       "    .dataframe thead th {\n",
       "        text-align: right;\n",
       "    }\n",
       "</style>\n",
       "<table border=\"1\" class=\"dataframe\">\n",
       "  <thead>\n",
       "    <tr style=\"text-align: right;\">\n",
       "      <th></th>\n",
       "      <th>first_visit_date</th>\n",
       "      <th>user_id</th>\n",
       "    </tr>\n",
       "  </thead>\n",
       "  <tbody>\n",
       "    <tr>\n",
       "      <th>0</th>\n",
       "      <td>2020-05-04</td>\n",
       "      <td>5860</td>\n",
       "    </tr>\n",
       "    <tr>\n",
       "      <th>1</th>\n",
       "      <td>2020-05-05</td>\n",
       "      <td>3361</td>\n",
       "    </tr>\n",
       "    <tr>\n",
       "      <th>2</th>\n",
       "      <td>2020-05-06</td>\n",
       "      <td>1847</td>\n",
       "    </tr>\n",
       "    <tr>\n",
       "      <th>3</th>\n",
       "      <td>2020-05-07</td>\n",
       "      <td>1109</td>\n",
       "    </tr>\n",
       "    <tr>\n",
       "      <th>4</th>\n",
       "      <td>2020-05-08</td>\n",
       "      <td>688</td>\n",
       "    </tr>\n",
       "    <tr>\n",
       "      <th>5</th>\n",
       "      <td>2020-05-09</td>\n",
       "      <td>440</td>\n",
       "    </tr>\n",
       "    <tr>\n",
       "      <th>6</th>\n",
       "      <td>2020-05-10</td>\n",
       "      <td>271</td>\n",
       "    </tr>\n",
       "  </tbody>\n",
       "</table>\n",
       "</div>"
      ],
      "text/plain": [
       "  first_visit_date  user_id\n",
       "0       2020-05-04     5860\n",
       "1       2020-05-05     3361\n",
       "2       2020-05-06     1847\n",
       "3       2020-05-07     1109\n",
       "4       2020-05-08      688\n",
       "5       2020-05-09      440\n",
       "6       2020-05-10      271"
      ]
     },
     "execution_count": 43,
     "metadata": {},
     "output_type": "execute_result"
    }
   ],
   "source": [
    "# Создадим таблицу с количеством привлеченных клиентов по дням:\n",
    "new_users_by_day = first_visits.groupby('first_visit_date')['user_id'].count().reset_index()\n",
    "new_users_by_day"
   ]
  },
  {
   "cell_type": "code",
   "execution_count": 44,
   "metadata": {},
   "outputs": [
    {
     "data": {
      "image/png": "[encoded data removed]",
      "text/plain": [
       "<Figure size 720x432 with 1 Axes>"
      ]
     },
     "metadata": {
      "needs_background": "light"
     },
     "output_type": "display_data"
    }
   ],
   "source": [
    "# Построим график:\n",
    "\n",
    "new_users_by_day.plot(x='first_visit_date', y='user_id', figsize = (10,6), color = 'green')\n",
    "plt.suptitle('Количество новых пользователей по дням')\n",
    "plt.xlabel('Дата')\n",
    "plt.ylabel('Кол-во пользователей');"
   ]
  },
  {
   "cell_type": "markdown",
   "metadata": {},
   "source": [
    "**Выводы:**\n",
    "\n",
    "За исследуемую неделю количество новых пользователей (соответственно и затраты на их привлечение) плавно уменьшается с 5860 до 271. Необходимо провести дополнительное исследование и выяснить причины такого большого падения."
   ]
  },
  {
   "cell_type": "markdown",
   "metadata": {},
   "source": [
    "## Анализ базовой модели"
   ]
  },
  {
   "cell_type": "markdown",
   "metadata": {},
   "source": [
    "Произведем расчет базовой модели - показ рекламы на каждом здании"
   ]
  },
  {
   "cell_type": "code",
   "execution_count": 45,
   "metadata": {},
   "outputs": [
    {
     "data": {
      "text/html": [
       "<div>\n",
       "<style scoped>\n",
       "    .dataframe tbody tr th:only-of-type {\n",
       "        vertical-align: middle;\n",
       "    }\n",
       "\n",
       "    .dataframe tbody tr th {\n",
       "        vertical-align: top;\n",
       "    }\n",
       "\n",
       "    .dataframe thead th {\n",
       "        text-align: right;\n",
       "    }\n",
       "</style>\n",
       "<table border=\"1\" class=\"dataframe\">\n",
       "  <thead>\n",
       "    <tr style=\"text-align: right;\">\n",
       "      <th></th>\n",
       "      <th>user_id</th>\n",
       "      <th>source</th>\n",
       "      <th>first_visit_date</th>\n",
       "    </tr>\n",
       "  </thead>\n",
       "  <tbody>\n",
       "    <tr>\n",
       "      <th>0</th>\n",
       "      <td>0001f83c-c6ac-4621-b7f0-8a28b283ac30</td>\n",
       "      <td>facebook_ads</td>\n",
       "      <td>2020-05-06</td>\n",
       "    </tr>\n",
       "    <tr>\n",
       "      <th>1</th>\n",
       "      <td>00151b4f-ba38-44a8-a650-d7cf130a0105</td>\n",
       "      <td>yandex_direct</td>\n",
       "      <td>2020-05-06</td>\n",
       "    </tr>\n",
       "    <tr>\n",
       "      <th>2</th>\n",
       "      <td>001aaea6-3d14-43f1-8ca8-7f48820f17aa</td>\n",
       "      <td>youtube_channel_reklama</td>\n",
       "      <td>2020-05-05</td>\n",
       "    </tr>\n",
       "    <tr>\n",
       "      <th>3</th>\n",
       "      <td>001d39dc-366c-4021-9604-6a3b9ff01e25</td>\n",
       "      <td>instagram_new_adverts</td>\n",
       "      <td>2020-05-05</td>\n",
       "    </tr>\n",
       "    <tr>\n",
       "      <th>4</th>\n",
       "      <td>002f508f-67b6-479f-814b-b05f00d4e995</td>\n",
       "      <td>facebook_ads</td>\n",
       "      <td>2020-05-05</td>\n",
       "    </tr>\n",
       "  </tbody>\n",
       "</table>\n",
       "</div>"
      ],
      "text/plain": [
       "                                user_id                   source  \\\n",
       "0  0001f83c-c6ac-4621-b7f0-8a28b283ac30             facebook_ads   \n",
       "1  00151b4f-ba38-44a8-a650-d7cf130a0105            yandex_direct   \n",
       "2  001aaea6-3d14-43f1-8ca8-7f48820f17aa  youtube_channel_reklama   \n",
       "3  001d39dc-366c-4021-9604-6a3b9ff01e25    instagram_new_adverts   \n",
       "4  002f508f-67b6-479f-814b-b05f00d4e995             facebook_ads   \n",
       "\n",
       "  first_visit_date  \n",
       "0       2020-05-06  \n",
       "1       2020-05-06  \n",
       "2       2020-05-05  \n",
       "3       2020-05-05  \n",
       "4       2020-05-05  "
      ]
     },
     "execution_count": 45,
     "metadata": {},
     "output_type": "execute_result"
    }
   ],
   "source": [
    "# К таблице с пользователями и источниками добавим столбец с датой первого посещения пользователей:\n",
    "first_visit_source = pd.merge(user_source, first_visits[['user_id', 'first_visit_date']], \n",
    "                              how='left')\n",
    "first_visit_source.head()"
   ]
  },
  {
   "cell_type": "code",
   "execution_count": 46,
   "metadata": {},
   "outputs": [
    {
     "data": {
      "text/html": [
       "<div>\n",
       "<style scoped>\n",
       "    .dataframe tbody tr th:only-of-type {\n",
       "        vertical-align: middle;\n",
       "    }\n",
       "\n",
       "    .dataframe tbody tr th {\n",
       "        vertical-align: top;\n",
       "    }\n",
       "\n",
       "    .dataframe thead th {\n",
       "        text-align: right;\n",
       "    }\n",
       "</style>\n",
       "<table border=\"1\" class=\"dataframe\">\n",
       "  <thead>\n",
       "    <tr style=\"text-align: right;\">\n",
       "      <th></th>\n",
       "      <th>user_id</th>\n",
       "      <th>source</th>\n",
       "      <th>first_visit_date</th>\n",
       "      <th>building</th>\n",
       "      <th>revenue</th>\n",
       "    </tr>\n",
       "  </thead>\n",
       "  <tbody>\n",
       "    <tr>\n",
       "      <th>0</th>\n",
       "      <td>0001f83c-c6ac-4621-b7f0-8a28b283ac30</td>\n",
       "      <td>facebook_ads</td>\n",
       "      <td>2020-05-06</td>\n",
       "      <td>13.0</td>\n",
       "      <td>0.91</td>\n",
       "    </tr>\n",
       "    <tr>\n",
       "      <th>1</th>\n",
       "      <td>00151b4f-ba38-44a8-a650-d7cf130a0105</td>\n",
       "      <td>yandex_direct</td>\n",
       "      <td>2020-05-06</td>\n",
       "      <td>9.0</td>\n",
       "      <td>0.63</td>\n",
       "    </tr>\n",
       "    <tr>\n",
       "      <th>2</th>\n",
       "      <td>001aaea6-3d14-43f1-8ca8-7f48820f17aa</td>\n",
       "      <td>youtube_channel_reklama</td>\n",
       "      <td>2020-05-05</td>\n",
       "      <td>4.0</td>\n",
       "      <td>0.28</td>\n",
       "    </tr>\n",
       "    <tr>\n",
       "      <th>3</th>\n",
       "      <td>001d39dc-366c-4021-9604-6a3b9ff01e25</td>\n",
       "      <td>instagram_new_adverts</td>\n",
       "      <td>2020-05-05</td>\n",
       "      <td>8.0</td>\n",
       "      <td>0.56</td>\n",
       "    </tr>\n",
       "    <tr>\n",
       "      <th>4</th>\n",
       "      <td>002f508f-67b6-479f-814b-b05f00d4e995</td>\n",
       "      <td>facebook_ads</td>\n",
       "      <td>2020-05-05</td>\n",
       "      <td>12.0</td>\n",
       "      <td>0.84</td>\n",
       "    </tr>\n",
       "  </tbody>\n",
       "</table>\n",
       "</div>"
      ],
      "text/plain": [
       "                                user_id                   source  \\\n",
       "0  0001f83c-c6ac-4621-b7f0-8a28b283ac30             facebook_ads   \n",
       "1  00151b4f-ba38-44a8-a650-d7cf130a0105            yandex_direct   \n",
       "2  001aaea6-3d14-43f1-8ca8-7f48820f17aa  youtube_channel_reklama   \n",
       "3  001d39dc-366c-4021-9604-6a3b9ff01e25    instagram_new_adverts   \n",
       "4  002f508f-67b6-479f-814b-b05f00d4e995             facebook_ads   \n",
       "\n",
       "  first_visit_date  building  revenue  \n",
       "0       2020-05-06      13.0     0.91  \n",
       "1       2020-05-06       9.0     0.63  \n",
       "2       2020-05-05       4.0     0.28  \n",
       "3       2020-05-05       8.0     0.56  \n",
       "4       2020-05-05      12.0     0.84  "
      ]
     },
     "execution_count": 46,
     "metadata": {},
     "output_type": "execute_result"
    }
   ],
   "source": [
    "# К полученной таблице добавим количество построенных зданий для каждого игрока и выручку:\n",
    "first_visit_source = pd.merge(first_visit_source, buildings[['user_id', 'building', 'revenue']])\n",
    "first_visit_source.head()"
   ]
  },
  {
   "cell_type": "code",
   "execution_count": 47,
   "metadata": {},
   "outputs": [
    {
     "data": {
      "text/html": [
       "<div>\n",
       "<style scoped>\n",
       "    .dataframe tbody tr th:only-of-type {\n",
       "        vertical-align: middle;\n",
       "    }\n",
       "\n",
       "    .dataframe tbody tr th {\n",
       "        vertical-align: top;\n",
       "    }\n",
       "\n",
       "    .dataframe thead th {\n",
       "        text-align: right;\n",
       "    }\n",
       "</style>\n",
       "<table border=\"1\" class=\"dataframe\">\n",
       "  <thead>\n",
       "    <tr style=\"text-align: right;\">\n",
       "      <th></th>\n",
       "      <th>source</th>\n",
       "      <th>first_visit_date</th>\n",
       "      <th>n_users</th>\n",
       "      <th>buildings_sum</th>\n",
       "      <th>sum_revenue</th>\n",
       "    </tr>\n",
       "  </thead>\n",
       "  <tbody>\n",
       "    <tr>\n",
       "      <th>0</th>\n",
       "      <td>facebook_ads</td>\n",
       "      <td>2020-05-04</td>\n",
       "      <td>1184</td>\n",
       "      <td>12494.0</td>\n",
       "      <td>874.58</td>\n",
       "    </tr>\n",
       "    <tr>\n",
       "      <th>1</th>\n",
       "      <td>facebook_ads</td>\n",
       "      <td>2020-05-05</td>\n",
       "      <td>694</td>\n",
       "      <td>6895.0</td>\n",
       "      <td>482.65</td>\n",
       "    </tr>\n",
       "    <tr>\n",
       "      <th>2</th>\n",
       "      <td>facebook_ads</td>\n",
       "      <td>2020-05-06</td>\n",
       "      <td>345</td>\n",
       "      <td>3087.0</td>\n",
       "      <td>216.09</td>\n",
       "    </tr>\n",
       "    <tr>\n",
       "      <th>3</th>\n",
       "      <td>facebook_ads</td>\n",
       "      <td>2020-05-07</td>\n",
       "      <td>224</td>\n",
       "      <td>1789.0</td>\n",
       "      <td>125.23</td>\n",
       "    </tr>\n",
       "    <tr>\n",
       "      <th>4</th>\n",
       "      <td>facebook_ads</td>\n",
       "      <td>2020-05-08</td>\n",
       "      <td>139</td>\n",
       "      <td>949.0</td>\n",
       "      <td>66.43</td>\n",
       "    </tr>\n",
       "  </tbody>\n",
       "</table>\n",
       "</div>"
      ],
      "text/plain": [
       "         source first_visit_date  n_users  buildings_sum  sum_revenue\n",
       "0  facebook_ads       2020-05-04     1184        12494.0       874.58\n",
       "1  facebook_ads       2020-05-05      694         6895.0       482.65\n",
       "2  facebook_ads       2020-05-06      345         3087.0       216.09\n",
       "3  facebook_ads       2020-05-07      224         1789.0       125.23\n",
       "4  facebook_ads       2020-05-08      139          949.0        66.43"
      ]
     },
     "metadata": {},
     "output_type": "display_data"
    }
   ],
   "source": [
    "# Просуммируем количество игроков, зданий и выручку по источникам трафика и дате привлечения:\n",
    "report = (first_visit_source.groupby(['source','first_visit_date'])\n",
    "    .agg({'user_id': 'count', 'building': 'sum', 'revenue': 'sum'}).reset_index())\n",
    "report.columns = ['source', 'first_visit_date', 'n_users', 'buildings_sum', 'sum_revenue']\n",
    "display(report.head())"
   ]
  },
  {
   "cell_type": "code",
   "execution_count": 48,
   "metadata": {},
   "outputs": [
    {
     "data": {
      "text/html": [
       "<div>\n",
       "<style scoped>\n",
       "    .dataframe tbody tr th:only-of-type {\n",
       "        vertical-align: middle;\n",
       "    }\n",
       "\n",
       "    .dataframe tbody tr th {\n",
       "        vertical-align: top;\n",
       "    }\n",
       "\n",
       "    .dataframe thead th {\n",
       "        text-align: right;\n",
       "    }\n",
       "</style>\n",
       "<table border=\"1\" class=\"dataframe\">\n",
       "  <thead>\n",
       "    <tr style=\"text-align: right;\">\n",
       "      <th></th>\n",
       "      <th>source</th>\n",
       "      <th>day</th>\n",
       "      <th>cost</th>\n",
       "      <th>first_visit_date</th>\n",
       "    </tr>\n",
       "  </thead>\n",
       "  <tbody>\n",
       "    <tr>\n",
       "      <th>0</th>\n",
       "      <td>facebook_ads</td>\n",
       "      <td>2020-05-03</td>\n",
       "      <td>935.882786</td>\n",
       "      <td>2020-05-04</td>\n",
       "    </tr>\n",
       "    <tr>\n",
       "      <th>1</th>\n",
       "      <td>facebook_ads</td>\n",
       "      <td>2020-05-04</td>\n",
       "      <td>548.354480</td>\n",
       "      <td>2020-05-05</td>\n",
       "    </tr>\n",
       "    <tr>\n",
       "      <th>2</th>\n",
       "      <td>facebook_ads</td>\n",
       "      <td>2020-05-05</td>\n",
       "      <td>260.185754</td>\n",
       "      <td>2020-05-06</td>\n",
       "    </tr>\n",
       "    <tr>\n",
       "      <th>3</th>\n",
       "      <td>facebook_ads</td>\n",
       "      <td>2020-05-06</td>\n",
       "      <td>177.982200</td>\n",
       "      <td>2020-05-07</td>\n",
       "    </tr>\n",
       "    <tr>\n",
       "      <th>4</th>\n",
       "      <td>facebook_ads</td>\n",
       "      <td>2020-05-07</td>\n",
       "      <td>111.766796</td>\n",
       "      <td>2020-05-08</td>\n",
       "    </tr>\n",
       "  </tbody>\n",
       "</table>\n",
       "</div>"
      ],
      "text/plain": [
       "         source        day        cost first_visit_date\n",
       "0  facebook_ads 2020-05-03  935.882786       2020-05-04\n",
       "1  facebook_ads 2020-05-04  548.354480       2020-05-05\n",
       "2  facebook_ads 2020-05-05  260.185754       2020-05-06\n",
       "3  facebook_ads 2020-05-06  177.982200       2020-05-07\n",
       "4  facebook_ads 2020-05-07  111.766796       2020-05-08"
      ]
     },
     "execution_count": 48,
     "metadata": {},
     "output_type": "execute_result"
    }
   ],
   "source": [
    "# К таблице с затратами добавим столбец с датой привлечения пользователей (1 день после даты затрат):\n",
    "ad_costs['first_visit_date'] = ad_costs['day'] + pd.DateOffset(days=1)\n",
    "ad_costs.head()"
   ]
  },
  {
   "cell_type": "code",
   "execution_count": 49,
   "metadata": {},
   "outputs": [
    {
     "data": {
      "text/html": [
       "<div>\n",
       "<style scoped>\n",
       "    .dataframe tbody tr th:only-of-type {\n",
       "        vertical-align: middle;\n",
       "    }\n",
       "\n",
       "    .dataframe tbody tr th {\n",
       "        vertical-align: top;\n",
       "    }\n",
       "\n",
       "    .dataframe thead th {\n",
       "        text-align: right;\n",
       "    }\n",
       "</style>\n",
       "<table border=\"1\" class=\"dataframe\">\n",
       "  <thead>\n",
       "    <tr style=\"text-align: right;\">\n",
       "      <th></th>\n",
       "      <th>source</th>\n",
       "      <th>first_visit_date</th>\n",
       "      <th>n_users</th>\n",
       "      <th>buildings_sum</th>\n",
       "      <th>sum_revenue</th>\n",
       "      <th>cost</th>\n",
       "    </tr>\n",
       "  </thead>\n",
       "  <tbody>\n",
       "    <tr>\n",
       "      <th>0</th>\n",
       "      <td>facebook_ads</td>\n",
       "      <td>2020-05-04</td>\n",
       "      <td>1184</td>\n",
       "      <td>12494.0</td>\n",
       "      <td>874.58</td>\n",
       "      <td>935.882786</td>\n",
       "    </tr>\n",
       "    <tr>\n",
       "      <th>1</th>\n",
       "      <td>facebook_ads</td>\n",
       "      <td>2020-05-05</td>\n",
       "      <td>694</td>\n",
       "      <td>6895.0</td>\n",
       "      <td>482.65</td>\n",
       "      <td>548.354480</td>\n",
       "    </tr>\n",
       "    <tr>\n",
       "      <th>2</th>\n",
       "      <td>facebook_ads</td>\n",
       "      <td>2020-05-06</td>\n",
       "      <td>345</td>\n",
       "      <td>3087.0</td>\n",
       "      <td>216.09</td>\n",
       "      <td>260.185754</td>\n",
       "    </tr>\n",
       "    <tr>\n",
       "      <th>3</th>\n",
       "      <td>facebook_ads</td>\n",
       "      <td>2020-05-07</td>\n",
       "      <td>224</td>\n",
       "      <td>1789.0</td>\n",
       "      <td>125.23</td>\n",
       "      <td>177.982200</td>\n",
       "    </tr>\n",
       "    <tr>\n",
       "      <th>4</th>\n",
       "      <td>facebook_ads</td>\n",
       "      <td>2020-05-08</td>\n",
       "      <td>139</td>\n",
       "      <td>949.0</td>\n",
       "      <td>66.43</td>\n",
       "      <td>111.766796</td>\n",
       "    </tr>\n",
       "  </tbody>\n",
       "</table>\n",
       "</div>"
      ],
      "text/plain": [
       "         source first_visit_date  n_users  buildings_sum  sum_revenue  \\\n",
       "0  facebook_ads       2020-05-04     1184        12494.0       874.58   \n",
       "1  facebook_ads       2020-05-05      694         6895.0       482.65   \n",
       "2  facebook_ads       2020-05-06      345         3087.0       216.09   \n",
       "3  facebook_ads       2020-05-07      224         1789.0       125.23   \n",
       "4  facebook_ads       2020-05-08      139          949.0        66.43   \n",
       "\n",
       "         cost  \n",
       "0  935.882786  \n",
       "1  548.354480  \n",
       "2  260.185754  \n",
       "3  177.982200  \n",
       "4  111.766796  "
      ]
     },
     "execution_count": 49,
     "metadata": {},
     "output_type": "execute_result"
    }
   ],
   "source": [
    "# Добавим к таблицу report затраты на привлечение (объединим по источнику привлечения и дате первого визита):\n",
    "report = pd.merge(report, ad_costs[['source', 'cost', 'first_visit_date']],\n",
    "    left_on=['source','first_visit_date'], right_on = ['source','first_visit_date'])\n",
    "\n",
    "report.head()"
   ]
  },
  {
   "cell_type": "code",
   "execution_count": 50,
   "metadata": {
    "scrolled": false
   },
   "outputs": [
    {
     "data": {
      "text/html": [
       "<div>\n",
       "<style scoped>\n",
       "    .dataframe tbody tr th:only-of-type {\n",
       "        vertical-align: middle;\n",
       "    }\n",
       "\n",
       "    .dataframe tbody tr th {\n",
       "        vertical-align: top;\n",
       "    }\n",
       "\n",
       "    .dataframe thead th {\n",
       "        text-align: right;\n",
       "    }\n",
       "</style>\n",
       "<table border=\"1\" class=\"dataframe\">\n",
       "  <thead>\n",
       "    <tr style=\"text-align: right;\">\n",
       "      <th></th>\n",
       "      <th>source</th>\n",
       "      <th>first_visit_date</th>\n",
       "      <th>n_users</th>\n",
       "      <th>buildings_sum</th>\n",
       "      <th>sum_revenue</th>\n",
       "      <th>cost</th>\n",
       "      <th>ltv</th>\n",
       "      <th>cac</th>\n",
       "      <th>romi</th>\n",
       "    </tr>\n",
       "  </thead>\n",
       "  <tbody>\n",
       "    <tr>\n",
       "      <th>0</th>\n",
       "      <td>facebook_ads</td>\n",
       "      <td>2020-05-04</td>\n",
       "      <td>1184</td>\n",
       "      <td>12494.0</td>\n",
       "      <td>874.58</td>\n",
       "      <td>935.882786</td>\n",
       "      <td>0.738666</td>\n",
       "      <td>0.790442</td>\n",
       "      <td>0.934497</td>\n",
       "    </tr>\n",
       "    <tr>\n",
       "      <th>1</th>\n",
       "      <td>facebook_ads</td>\n",
       "      <td>2020-05-05</td>\n",
       "      <td>694</td>\n",
       "      <td>6895.0</td>\n",
       "      <td>482.65</td>\n",
       "      <td>548.354480</td>\n",
       "      <td>0.695461</td>\n",
       "      <td>0.790136</td>\n",
       "      <td>0.880179</td>\n",
       "    </tr>\n",
       "    <tr>\n",
       "      <th>2</th>\n",
       "      <td>facebook_ads</td>\n",
       "      <td>2020-05-06</td>\n",
       "      <td>345</td>\n",
       "      <td>3087.0</td>\n",
       "      <td>216.09</td>\n",
       "      <td>260.185754</td>\n",
       "      <td>0.626348</td>\n",
       "      <td>0.754162</td>\n",
       "      <td>0.830522</td>\n",
       "    </tr>\n",
       "    <tr>\n",
       "      <th>3</th>\n",
       "      <td>facebook_ads</td>\n",
       "      <td>2020-05-07</td>\n",
       "      <td>224</td>\n",
       "      <td>1789.0</td>\n",
       "      <td>125.23</td>\n",
       "      <td>177.982200</td>\n",
       "      <td>0.559063</td>\n",
       "      <td>0.794563</td>\n",
       "      <td>0.703610</td>\n",
       "    </tr>\n",
       "    <tr>\n",
       "      <th>4</th>\n",
       "      <td>facebook_ads</td>\n",
       "      <td>2020-05-08</td>\n",
       "      <td>139</td>\n",
       "      <td>949.0</td>\n",
       "      <td>66.43</td>\n",
       "      <td>111.766796</td>\n",
       "      <td>0.477914</td>\n",
       "      <td>0.804078</td>\n",
       "      <td>0.594363</td>\n",
       "    </tr>\n",
       "    <tr>\n",
       "      <th>5</th>\n",
       "      <td>facebook_ads</td>\n",
       "      <td>2020-05-09</td>\n",
       "      <td>84</td>\n",
       "      <td>599.0</td>\n",
       "      <td>41.93</td>\n",
       "      <td>68.009276</td>\n",
       "      <td>0.499167</td>\n",
       "      <td>0.809634</td>\n",
       "      <td>0.616534</td>\n",
       "    </tr>\n",
       "    <tr>\n",
       "      <th>6</th>\n",
       "      <td>facebook_ads</td>\n",
       "      <td>2020-05-10</td>\n",
       "      <td>56</td>\n",
       "      <td>318.0</td>\n",
       "      <td>22.26</td>\n",
       "      <td>38.723350</td>\n",
       "      <td>0.397500</td>\n",
       "      <td>0.691488</td>\n",
       "      <td>0.574847</td>\n",
       "    </tr>\n",
       "    <tr>\n",
       "      <th>7</th>\n",
       "      <td>instagram_new_adverts</td>\n",
       "      <td>2020-05-04</td>\n",
       "      <td>1452</td>\n",
       "      <td>15135.0</td>\n",
       "      <td>1059.45</td>\n",
       "      <td>943.204717</td>\n",
       "      <td>0.729649</td>\n",
       "      <td>0.649590</td>\n",
       "      <td>1.123245</td>\n",
       "    </tr>\n",
       "    <tr>\n",
       "      <th>8</th>\n",
       "      <td>instagram_new_adverts</td>\n",
       "      <td>2020-05-05</td>\n",
       "      <td>796</td>\n",
       "      <td>7786.0</td>\n",
       "      <td>545.02</td>\n",
       "      <td>502.925451</td>\n",
       "      <td>0.684698</td>\n",
       "      <td>0.631816</td>\n",
       "      <td>1.083699</td>\n",
       "    </tr>\n",
       "    <tr>\n",
       "      <th>9</th>\n",
       "      <td>instagram_new_adverts</td>\n",
       "      <td>2020-05-06</td>\n",
       "      <td>472</td>\n",
       "      <td>4221.0</td>\n",
       "      <td>295.47</td>\n",
       "      <td>313.970984</td>\n",
       "      <td>0.625996</td>\n",
       "      <td>0.665193</td>\n",
       "      <td>0.941074</td>\n",
       "    </tr>\n",
       "    <tr>\n",
       "      <th>10</th>\n",
       "      <td>instagram_new_adverts</td>\n",
       "      <td>2020-05-07</td>\n",
       "      <td>270</td>\n",
       "      <td>2258.0</td>\n",
       "      <td>158.06</td>\n",
       "      <td>173.071145</td>\n",
       "      <td>0.585407</td>\n",
       "      <td>0.641004</td>\n",
       "      <td>0.913266</td>\n",
       "    </tr>\n",
       "    <tr>\n",
       "      <th>11</th>\n",
       "      <td>instagram_new_adverts</td>\n",
       "      <td>2020-05-08</td>\n",
       "      <td>175</td>\n",
       "      <td>1279.0</td>\n",
       "      <td>89.53</td>\n",
       "      <td>109.915254</td>\n",
       "      <td>0.511600</td>\n",
       "      <td>0.628087</td>\n",
       "      <td>0.814537</td>\n",
       "    </tr>\n",
       "    <tr>\n",
       "      <th>12</th>\n",
       "      <td>instagram_new_adverts</td>\n",
       "      <td>2020-05-09</td>\n",
       "      <td>112</td>\n",
       "      <td>738.0</td>\n",
       "      <td>51.66</td>\n",
       "      <td>71.578739</td>\n",
       "      <td>0.461250</td>\n",
       "      <td>0.639096</td>\n",
       "      <td>0.721723</td>\n",
       "    </tr>\n",
       "    <tr>\n",
       "      <th>13</th>\n",
       "      <td>instagram_new_adverts</td>\n",
       "      <td>2020-05-10</td>\n",
       "      <td>70</td>\n",
       "      <td>398.0</td>\n",
       "      <td>27.86</td>\n",
       "      <td>46.775400</td>\n",
       "      <td>0.398000</td>\n",
       "      <td>0.668220</td>\n",
       "      <td>0.595612</td>\n",
       "    </tr>\n",
       "    <tr>\n",
       "      <th>14</th>\n",
       "      <td>yandex_direct</td>\n",
       "      <td>2020-05-04</td>\n",
       "      <td>2078</td>\n",
       "      <td>21233.0</td>\n",
       "      <td>1486.31</td>\n",
       "      <td>969.139394</td>\n",
       "      <td>0.715260</td>\n",
       "      <td>0.466381</td>\n",
       "      <td>1.533639</td>\n",
       "    </tr>\n",
       "    <tr>\n",
       "      <th>15</th>\n",
       "      <td>yandex_direct</td>\n",
       "      <td>2020-05-05</td>\n",
       "      <td>1208</td>\n",
       "      <td>11664.0</td>\n",
       "      <td>816.48</td>\n",
       "      <td>554.651494</td>\n",
       "      <td>0.675894</td>\n",
       "      <td>0.459149</td>\n",
       "      <td>1.472059</td>\n",
       "    </tr>\n",
       "    <tr>\n",
       "      <th>16</th>\n",
       "      <td>yandex_direct</td>\n",
       "      <td>2020-05-06</td>\n",
       "      <td>664</td>\n",
       "      <td>5860.0</td>\n",
       "      <td>410.20</td>\n",
       "      <td>308.232990</td>\n",
       "      <td>0.617771</td>\n",
       "      <td>0.464206</td>\n",
       "      <td>1.330811</td>\n",
       "    </tr>\n",
       "    <tr>\n",
       "      <th>17</th>\n",
       "      <td>yandex_direct</td>\n",
       "      <td>2020-05-07</td>\n",
       "      <td>395</td>\n",
       "      <td>3220.0</td>\n",
       "      <td>225.40</td>\n",
       "      <td>180.917099</td>\n",
       "      <td>0.570633</td>\n",
       "      <td>0.458018</td>\n",
       "      <td>1.245874</td>\n",
       "    </tr>\n",
       "    <tr>\n",
       "      <th>18</th>\n",
       "      <td>yandex_direct</td>\n",
       "      <td>2020-05-08</td>\n",
       "      <td>239</td>\n",
       "      <td>1642.0</td>\n",
       "      <td>114.94</td>\n",
       "      <td>114.429338</td>\n",
       "      <td>0.480921</td>\n",
       "      <td>0.478784</td>\n",
       "      <td>1.004463</td>\n",
       "    </tr>\n",
       "    <tr>\n",
       "      <th>19</th>\n",
       "      <td>yandex_direct</td>\n",
       "      <td>2020-05-09</td>\n",
       "      <td>144</td>\n",
       "      <td>860.0</td>\n",
       "      <td>60.20</td>\n",
       "      <td>62.961630</td>\n",
       "      <td>0.418056</td>\n",
       "      <td>0.437234</td>\n",
       "      <td>0.956138</td>\n",
       "    </tr>\n",
       "    <tr>\n",
       "      <th>20</th>\n",
       "      <td>yandex_direct</td>\n",
       "      <td>2020-05-10</td>\n",
       "      <td>89</td>\n",
       "      <td>553.0</td>\n",
       "      <td>38.71</td>\n",
       "      <td>42.779505</td>\n",
       "      <td>0.434944</td>\n",
       "      <td>0.480669</td>\n",
       "      <td>0.904873</td>\n",
       "    </tr>\n",
       "    <tr>\n",
       "      <th>21</th>\n",
       "      <td>youtube_channel_reklama</td>\n",
       "      <td>2020-05-04</td>\n",
       "      <td>1146</td>\n",
       "      <td>11773.0</td>\n",
       "      <td>824.11</td>\n",
       "      <td>454.224943</td>\n",
       "      <td>0.719119</td>\n",
       "      <td>0.396357</td>\n",
       "      <td>1.814321</td>\n",
       "    </tr>\n",
       "    <tr>\n",
       "      <th>22</th>\n",
       "      <td>youtube_channel_reklama</td>\n",
       "      <td>2020-05-05</td>\n",
       "      <td>663</td>\n",
       "      <td>6402.0</td>\n",
       "      <td>448.14</td>\n",
       "      <td>259.073224</td>\n",
       "      <td>0.675928</td>\n",
       "      <td>0.390759</td>\n",
       "      <td>1.729781</td>\n",
       "    </tr>\n",
       "    <tr>\n",
       "      <th>23</th>\n",
       "      <td>youtube_channel_reklama</td>\n",
       "      <td>2020-05-06</td>\n",
       "      <td>366</td>\n",
       "      <td>3218.0</td>\n",
       "      <td>225.26</td>\n",
       "      <td>147.041741</td>\n",
       "      <td>0.615464</td>\n",
       "      <td>0.401753</td>\n",
       "      <td>1.531946</td>\n",
       "    </tr>\n",
       "    <tr>\n",
       "      <th>24</th>\n",
       "      <td>youtube_channel_reklama</td>\n",
       "      <td>2020-05-07</td>\n",
       "      <td>220</td>\n",
       "      <td>1637.0</td>\n",
       "      <td>114.59</td>\n",
       "      <td>88.506074</td>\n",
       "      <td>0.520864</td>\n",
       "      <td>0.402300</td>\n",
       "      <td>1.294713</td>\n",
       "    </tr>\n",
       "    <tr>\n",
       "      <th>25</th>\n",
       "      <td>youtube_channel_reklama</td>\n",
       "      <td>2020-05-08</td>\n",
       "      <td>135</td>\n",
       "      <td>969.0</td>\n",
       "      <td>67.83</td>\n",
       "      <td>55.740645</td>\n",
       "      <td>0.502444</td>\n",
       "      <td>0.412894</td>\n",
       "      <td>1.216886</td>\n",
       "    </tr>\n",
       "    <tr>\n",
       "      <th>26</th>\n",
       "      <td>youtube_channel_reklama</td>\n",
       "      <td>2020-05-09</td>\n",
       "      <td>100</td>\n",
       "      <td>659.0</td>\n",
       "      <td>46.13</td>\n",
       "      <td>40.217907</td>\n",
       "      <td>0.461300</td>\n",
       "      <td>0.402179</td>\n",
       "      <td>1.147002</td>\n",
       "    </tr>\n",
       "    <tr>\n",
       "      <th>27</th>\n",
       "      <td>youtube_channel_reklama</td>\n",
       "      <td>2020-05-10</td>\n",
       "      <td>56</td>\n",
       "      <td>320.0</td>\n",
       "      <td>22.40</td>\n",
       "      <td>23.314669</td>\n",
       "      <td>0.400000</td>\n",
       "      <td>0.416333</td>\n",
       "      <td>0.960769</td>\n",
       "    </tr>\n",
       "  </tbody>\n",
       "</table>\n",
       "</div>"
      ],
      "text/plain": [
       "                     source first_visit_date  n_users  buildings_sum  \\\n",
       "0              facebook_ads       2020-05-04     1184        12494.0   \n",
       "1              facebook_ads       2020-05-05      694         6895.0   \n",
       "2              facebook_ads       2020-05-06      345         3087.0   \n",
       "3              facebook_ads       2020-05-07      224         1789.0   \n",
       "4              facebook_ads       2020-05-08      139          949.0   \n",
       "5              facebook_ads       2020-05-09       84          599.0   \n",
       "6              facebook_ads       2020-05-10       56          318.0   \n",
       "7     instagram_new_adverts       2020-05-04     1452        15135.0   \n",
       "8     instagram_new_adverts       2020-05-05      796         7786.0   \n",
       "9     instagram_new_adverts       2020-05-06      472         4221.0   \n",
       "10    instagram_new_adverts       2020-05-07      270         2258.0   \n",
       "11    instagram_new_adverts       2020-05-08      175         1279.0   \n",
       "12    instagram_new_adverts       2020-05-09      112          738.0   \n",
       "13    instagram_new_adverts       2020-05-10       70          398.0   \n",
       "14            yandex_direct       2020-05-04     2078        21233.0   \n",
       "15            yandex_direct       2020-05-05     1208        11664.0   \n",
       "16            yandex_direct       2020-05-06      664         5860.0   \n",
       "17            yandex_direct       2020-05-07      395         3220.0   \n",
       "18            yandex_direct       2020-05-08      239         1642.0   \n",
       "19            yandex_direct       2020-05-09      144          860.0   \n",
       "20            yandex_direct       2020-05-10       89          553.0   \n",
       "21  youtube_channel_reklama       2020-05-04     1146        11773.0   \n",
       "22  youtube_channel_reklama       2020-05-05      663         6402.0   \n",
       "23  youtube_channel_reklama       2020-05-06      366         3218.0   \n",
       "24  youtube_channel_reklama       2020-05-07      220         1637.0   \n",
       "25  youtube_channel_reklama       2020-05-08      135          969.0   \n",
       "26  youtube_channel_reklama       2020-05-09      100          659.0   \n",
       "27  youtube_channel_reklama       2020-05-10       56          320.0   \n",
       "\n",
       "    sum_revenue        cost       ltv       cac      romi  \n",
       "0        874.58  935.882786  0.738666  0.790442  0.934497  \n",
       "1        482.65  548.354480  0.695461  0.790136  0.880179  \n",
       "2        216.09  260.185754  0.626348  0.754162  0.830522  \n",
       "3        125.23  177.982200  0.559063  0.794563  0.703610  \n",
       "4         66.43  111.766796  0.477914  0.804078  0.594363  \n",
       "5         41.93   68.009276  0.499167  0.809634  0.616534  \n",
       "6         22.26   38.723350  0.397500  0.691488  0.574847  \n",
       "7       1059.45  943.204717  0.729649  0.649590  1.123245  \n",
       "8        545.02  502.925451  0.684698  0.631816  1.083699  \n",
       "9        295.47  313.970984  0.625996  0.665193  0.941074  \n",
       "10       158.06  173.071145  0.585407  0.641004  0.913266  \n",
       "11        89.53  109.915254  0.511600  0.628087  0.814537  \n",
       "12        51.66   71.578739  0.461250  0.639096  0.721723  \n",
       "13        27.86   46.775400  0.398000  0.668220  0.595612  \n",
       "14      1486.31  969.139394  0.715260  0.466381  1.533639  \n",
       "15       816.48  554.651494  0.675894  0.459149  1.472059  \n",
       "16       410.20  308.232990  0.617771  0.464206  1.330811  \n",
       "17       225.40  180.917099  0.570633  0.458018  1.245874  \n",
       "18       114.94  114.429338  0.480921  0.478784  1.004463  \n",
       "19        60.20   62.961630  0.418056  0.437234  0.956138  \n",
       "20        38.71   42.779505  0.434944  0.480669  0.904873  \n",
       "21       824.11  454.224943  0.719119  0.396357  1.814321  \n",
       "22       448.14  259.073224  0.675928  0.390759  1.729781  \n",
       "23       225.26  147.041741  0.615464  0.401753  1.531946  \n",
       "24       114.59   88.506074  0.520864  0.402300  1.294713  \n",
       "25        67.83   55.740645  0.502444  0.412894  1.216886  \n",
       "26        46.13   40.217907  0.461300  0.402179  1.147002  \n",
       "27        22.40   23.314669  0.400000  0.416333  0.960769  "
      ]
     },
     "execution_count": 50,
     "metadata": {},
     "output_type": "execute_result"
    }
   ],
   "source": [
    "# Рассчитаем LTV, CAC и ROMI:\n",
    "report['ltv'] = (report['sum_revenue'] / report['n_users'])\n",
    "report['cac'] = (report['cost'] / report['n_users'])\n",
    "report['romi'] = (report['ltv'] / report['cac'])\n",
    "report"
   ]
  },
  {
   "cell_type": "code",
   "execution_count": 51,
   "metadata": {},
   "outputs": [
    {
     "data": {
      "image/png": "[encoded data removed]",
      "text/plain": [
       "<Figure size 720x432 with 1 Axes>"
      ]
     },
     "metadata": {
      "needs_background": "light"
     },
     "output_type": "display_data"
    }
   ],
   "source": [
    "# Построим график изменения CAC по дням в разрезе источников:\n",
    "report.pivot_table(\n",
    "    index='first_visit_date', columns='source', values='cac', aggfunc='mean'\n",
    ").plot(grid=True, figsize=(10, 6))\n",
    "\n",
    "plt.ylabel('CAC')\n",
    "plt.xlabel('Дата привлечения')\n",
    "plt.title('Динамика САС по каналам привлечения')\n",
    "plt.show()"
   ]
  },
  {
   "cell_type": "markdown",
   "metadata": {},
   "source": [
    "Затраты на привлечение пользователей по дням стабильны и соответсвенно распределены около среднего CAC по источникам трафика."
   ]
  },
  {
   "cell_type": "code",
   "execution_count": 52,
   "metadata": {
    "scrolled": false
   },
   "outputs": [
    {
     "data": {
      "image/png": "[encoded data removed]",
      "text/plain": [
       "<Figure size 720x432 with 1 Axes>"
      ]
     },
     "metadata": {
      "needs_background": "light"
     },
     "output_type": "display_data"
    }
   ],
   "source": [
    "# Построим график изменения ROMI по дням в разрезе источников:\n",
    "report.pivot_table(\n",
    "    index='first_visit_date', columns='source', values='romi', aggfunc='mean'\n",
    ").plot(grid=True, figsize=(10, 6))\n",
    "\n",
    "plt.title('ROMI с разбивкой по источникам привлечения')\n",
    "plt.ylabel('ROMI')\n",
    "plt.xlabel('Дата привлечения')\n",
    "plt.axhline(y=1, color='red', linestyle='--', label='Уровень окупаемости')\n",
    "plt.legend()\n",
    "plt.show()"
   ]
  },
  {
   "cell_type": "markdown",
   "metadata": {},
   "source": [
    "**Выводы:**\n",
    "\n",
    "- График динамики ROMI показывает, что затраты из источника youtube_channel_reklama окупаются почти все дни, кроме последнего. Причем в первые дни более чем в 1.5 раза (в первый день показывая ROMI 1.8).\n",
    "- Затраты на источник трафика yandex_direct окупаются 5 дней из 7, тоже с относительно высоким ROMI в первый день  - 1.5.\n",
    "- Затраты на источник instagram_new_adverts\tокупились только в первые 2 дня - ROMI примерно 1.1.\n",
    "- Затраты на привлечение из facebook_ads не окупились в исследуемый период ни в один день. Причем, если в первый день до окупаемости не хватило всего около 6-7%, то на седьмой - уже больше 40%.\n",
    "\n",
    "Уменьшение ROMI по дням связано с уменьшением притока новых пользователей. Тем не менее, на графике можно выделить пару прибыльных источников - youtube_channel_reklama и yandex_direct, а также пару аутсайдеров - instagram_new_adverts и facebook_ads.\n",
    "\n",
    "По итогам расчета ROMI можно выделить неэффективные источники привлечения - instagram_new_adverts и facebook_ads. Стоит провести дополнительное исследование на предмет уменьшения или отказа от их использования и перераспределения средств на более прибыльные источники привлечения."
   ]
  },
  {
   "cell_type": "markdown",
   "metadata": {},
   "source": [
    "## Расчет новой модели показа рекламы"
   ]
  },
  {
   "cell_type": "markdown",
   "metadata": {},
   "source": [
    "Поставленная заказчиком задача - предложить модель монетизации со сниженной рекламной нагрузкой, но при этом нужно не уйти в минус.\n",
    "\n",
    "Поставим цель - найти оптимальную модель, при которой на 2-х построенных зданиях не будет показываться реклама, но ROMI при этом будет выше 1.05."
   ]
  },
  {
   "cell_type": "markdown",
   "metadata": {},
   "source": [
    "Еще раз рассмотрим распределение построенных зданий с разделением по типу завершения уровня."
   ]
  },
  {
   "cell_type": "code",
   "execution_count": 53,
   "metadata": {},
   "outputs": [
    {
     "data": {
      "image/png": "[encoded data removed]",
      "text/plain": [
       "<Figure size 720x432 with 1 Axes>"
      ]
     },
     "metadata": {
      "needs_background": "light"
     },
     "output_type": "display_data"
    }
   ],
   "source": [
    "plt.figure(figsize=(10, 6))\n",
    "sns.histplot(data=buildings, x='building', hue='event', multiple=\"dodge\")\n",
    "plt.xticks(np.arange(0, buildings['building'].max(), step=1))\n",
    "plt.suptitle('Распределение количества построенных зданий по способу завершения уровня')\n",
    "plt.xlabel('Количество построенных зданий')\n",
    "plt.ylabel('Количество игроков');"
   ]
  },
  {
   "cell_type": "code",
   "execution_count": 54,
   "metadata": {
    "scrolled": false
   },
   "outputs": [
    {
     "data": {
      "text/html": [
       "<div>\n",
       "<style scoped>\n",
       "    .dataframe tbody tr th:only-of-type {\n",
       "        vertical-align: middle;\n",
       "    }\n",
       "\n",
       "    .dataframe tbody tr th {\n",
       "        vertical-align: top;\n",
       "    }\n",
       "\n",
       "    .dataframe thead th {\n",
       "        text-align: right;\n",
       "    }\n",
       "</style>\n",
       "<table border=\"1\" class=\"dataframe\">\n",
       "  <thead>\n",
       "    <tr style=\"text-align: right;\">\n",
       "      <th></th>\n",
       "      <th>user_id</th>\n",
       "      <th>building</th>\n",
       "      <th>revenue</th>\n",
       "      <th>event</th>\n",
       "    </tr>\n",
       "  </thead>\n",
       "  <tbody>\n",
       "    <tr>\n",
       "      <th>0</th>\n",
       "      <td>0001f83c-c6ac-4621-b7f0-8a28b283ac30</td>\n",
       "      <td>13.0</td>\n",
       "      <td>0.91</td>\n",
       "      <td>not_finished</td>\n",
       "    </tr>\n",
       "    <tr>\n",
       "      <th>1</th>\n",
       "      <td>00151b4f-ba38-44a8-a650-d7cf130a0105</td>\n",
       "      <td>9.0</td>\n",
       "      <td>0.63</td>\n",
       "      <td>not_finished</td>\n",
       "    </tr>\n",
       "    <tr>\n",
       "      <th>2</th>\n",
       "      <td>001aaea6-3d14-43f1-8ca8-7f48820f17aa</td>\n",
       "      <td>4.0</td>\n",
       "      <td>0.28</td>\n",
       "      <td>not_finished</td>\n",
       "    </tr>\n",
       "    <tr>\n",
       "      <th>3</th>\n",
       "      <td>001d39dc-366c-4021-9604-6a3b9ff01e25</td>\n",
       "      <td>8.0</td>\n",
       "      <td>0.56</td>\n",
       "      <td>victory</td>\n",
       "    </tr>\n",
       "    <tr>\n",
       "      <th>4</th>\n",
       "      <td>002f508f-67b6-479f-814b-b05f00d4e995</td>\n",
       "      <td>12.0</td>\n",
       "      <td>0.84</td>\n",
       "      <td>not_finished</td>\n",
       "    </tr>\n",
       "  </tbody>\n",
       "</table>\n",
       "</div>"
      ],
      "text/plain": [
       "                                user_id  building  revenue         event\n",
       "0  0001f83c-c6ac-4621-b7f0-8a28b283ac30      13.0     0.91  not_finished\n",
       "1  00151b4f-ba38-44a8-a650-d7cf130a0105       9.0     0.63  not_finished\n",
       "2  001aaea6-3d14-43f1-8ca8-7f48820f17aa       4.0     0.28  not_finished\n",
       "3  001d39dc-366c-4021-9604-6a3b9ff01e25       8.0     0.56       victory\n",
       "4  002f508f-67b6-479f-814b-b05f00d4e995      12.0     0.84  not_finished"
      ]
     },
     "execution_count": 54,
     "metadata": {},
     "output_type": "execute_result"
    }
   ],
   "source": [
    "buildings.head()"
   ]
  },
  {
   "cell_type": "markdown",
   "metadata": {},
   "source": [
    "На основе таблицы buildings создадим цикл, который будет вычитать 1 или 2 здания в зависимости от количества построенных игроком зданий и номером здания на котором мы не будем показывать рекламу. В итоге цикл будет считать ROMI на основе базовых данных. Выводом цикла будет полученный ROMI и здания на который не будет показываться реклама. ROMI отфильтруем от 1.05 до 1.06\n",
    "\n",
    "Пример:\n",
    "\n",
    "Мы решили посчитать ROMI, если не показывать рекламу на 5-м и 15-м построенных зданиях. Цикл использует столбец с количеством зданий и вычтет 2 здания если их 15 и больше или вычтет 1 здание если их 5 или больше (если зданий меньше 5, то останется исходное число). В итоге мы получим число зданий, на которых показывается реклама, умножим его на доход с показа рекламы (0.07) и вычислим ROMI используя ранее посчитанный CAC (0.56)."
   ]
  },
  {
   "cell_type": "code",
   "execution_count": 55,
   "metadata": {
    "scrolled": false
   },
   "outputs": [
    {
     "name": "stdout",
     "output_type": "stream",
     "text": [
      "ROMI = 1.0519 (если не показывать рекламу на 1 и 18 построенном здании)\n",
      "ROMI = 1.0527 (если не показывать рекламу на 1 и 19 построенном здании)\n",
      "ROMI = 1.0531 (если не показывать рекламу на 1 и 20 построенном здании)\n",
      "ROMI = 1.0504 (если не показывать рекламу на 2 и 17 построенном здании)\n",
      "ROMI = 1.0524 (если не показывать рекламу на 2 и 18 построенном здании)\n",
      "ROMI = 1.0533 (если не показывать рекламу на 2 и 19 построенном здании)\n",
      "ROMI = 1.0536 (если не показывать рекламу на 2 и 20 построенном здании)\n",
      "ROMI = 1.053 (если не показывать рекламу на 3 и 17 построенном здании)\n",
      "ROMI = 1.055 (если не показывать рекламу на 3 и 18 построенном здании)\n",
      "ROMI = 1.0558 (если не показывать рекламу на 3 и 19 построенном здании)\n",
      "ROMI = 1.0561 (если не показывать рекламу на 3 и 20 построенном здании)\n",
      "ROMI = 1.0548 (если не показывать рекламу на 4 и 16 построенном здании)\n",
      "ROMI = 1.0581 (если не показывать рекламу на 4 и 17 построенном здании)\n",
      "ROMI = 1.0569 (если не показывать рекламу на 5 и 15 построенном здании)\n",
      "ROMI = 1.0585 (если не показывать рекламу на 6 и 14 построенном здании)\n",
      "ROMI = 1.0501 (если не показывать рекламу на 7 и 12 построенном здании)\n",
      "ROMI = 1.053 (если не показывать рекламу на 8 и 12 построенном здании)\n"
     ]
    }
   ],
   "source": [
    "# Переменные создают список с порядковыми номерами зданий, которые далее будут перебираться в цикле.\n",
    "# От 1 до 11 в первом списке и от 1 до 21 во втором.\n",
    "first_build = list(range(0,10))\n",
    "second_build = list(range(0,20))\n",
    "for i in first_build:\n",
    "    for k in second_build:\n",
    "        if (i < k):\n",
    "            test = buildings[['user_id', 'building']]\n",
    "            test['adv_count'] = test['building'].apply(\n",
    "                lambda x: x-2 if x>k else (x-1 if x>i else x))\n",
    "            test['revenue'] = test['adv_count']*adv_cost\n",
    "            new_romi = (test['revenue'].mean()/cac).round(4)\n",
    "            if 1.06 > new_romi > 1.05:\n",
    "                print('ROMI =', new_romi,'(если не показывать рекламу на', i+1, 'и', k+1, 'построенном здании)')"
   ]
  },
  {
   "cell_type": "markdown",
   "metadata": {},
   "source": [
    "**Выводы:**\n",
    "\n",
    "Для снижения рекламной нагрузки необходимо чтобы модель охватила наибольшее количество игроков. Для этого требуется, чтобы реклама не показывалась на минимально возможном по очередности построенном здании.\n",
    "\n",
    "В полученных результатах выделим модели, при которых реклама не будет показываться на 12-м построенном здании (если не показывать рекламу на 12+ построенных зданиях то охват будет уменьшаться).\n",
    "По такой же логике из двух моделей (7-12 и 8-12) более подходящей будет модель с пропуском рекламы на 7 и 12 зданиях.\n",
    "\n",
    "Также примем ко вниманию, что мы оставляем показ рекламы на первых 6 зданиях, на которые приходится большая доля на графике распределения - выручку с большой доли пользователей которые строят только до 6 зданий мы не теряем.\n",
    "\n",
    "**Предлагаемая модель:** пропуск рекламы на 7 и 12 зданиях. Расчетный ROMI этой модели - 1.05."
   ]
  },
  {
   "cell_type": "markdown",
   "metadata": {},
   "source": [
    "## Проверка статистических гипотез"
   ]
  },
  {
   "cell_type": "markdown",
   "metadata": {},
   "source": [
    "Подготовим данные для проверки гипотез."
   ]
  },
  {
   "cell_type": "code",
   "execution_count": 56,
   "metadata": {
    "scrolled": false
   },
   "outputs": [
    {
     "data": {
      "text/html": [
       "<div>\n",
       "<style scoped>\n",
       "    .dataframe tbody tr th:only-of-type {\n",
       "        vertical-align: middle;\n",
       "    }\n",
       "\n",
       "    .dataframe tbody tr th {\n",
       "        vertical-align: top;\n",
       "    }\n",
       "\n",
       "    .dataframe thead th {\n",
       "        text-align: right;\n",
       "    }\n",
       "</style>\n",
       "<table border=\"1\" class=\"dataframe\">\n",
       "  <thead>\n",
       "    <tr style=\"text-align: right;\">\n",
       "      <th></th>\n",
       "      <th>user_id</th>\n",
       "      <th>event</th>\n",
       "      <th>level_finished_time</th>\n",
       "      <th>first_visit_time</th>\n",
       "    </tr>\n",
       "  </thead>\n",
       "  <tbody>\n",
       "    <tr>\n",
       "      <th>0</th>\n",
       "      <td>ced7b368-818f-48f6-9461-2346de0892c5</td>\n",
       "      <td>victory</td>\n",
       "      <td>2020-05-04 19:47:29</td>\n",
       "      <td>2020-05-04 00:13:21</td>\n",
       "    </tr>\n",
       "    <tr>\n",
       "      <th>1</th>\n",
       "      <td>7ef7fc89-2779-46ea-b328-9e5035b83af5</td>\n",
       "      <td>victory</td>\n",
       "      <td>2020-05-05 13:22:09</td>\n",
       "      <td>2020-05-04 00:22:48</td>\n",
       "    </tr>\n",
       "    <tr>\n",
       "      <th>2</th>\n",
       "      <td>70db22b3-c2f4-43bc-94ea-51c8d2904a29</td>\n",
       "      <td>victory</td>\n",
       "      <td>2020-05-05 18:54:37</td>\n",
       "      <td>2020-05-04 13:41:55</td>\n",
       "    </tr>\n",
       "    <tr>\n",
       "      <th>3</th>\n",
       "      <td>903fc9ef-ba97-4b12-9d5c-ac8d602fbd8b</td>\n",
       "      <td>victory</td>\n",
       "      <td>2020-05-05 21:27:29</td>\n",
       "      <td>2020-05-04 00:57:02</td>\n",
       "    </tr>\n",
       "    <tr>\n",
       "      <th>4</th>\n",
       "      <td>58e077ba-feb1-4556-a5a0-d96bd04efa39</td>\n",
       "      <td>victory</td>\n",
       "      <td>2020-05-06 06:02:22</td>\n",
       "      <td>2020-05-04 19:23:40</td>\n",
       "    </tr>\n",
       "  </tbody>\n",
       "</table>\n",
       "</div>"
      ],
      "text/plain": [
       "                                user_id    event level_finished_time  \\\n",
       "0  ced7b368-818f-48f6-9461-2346de0892c5  victory 2020-05-04 19:47:29   \n",
       "1  7ef7fc89-2779-46ea-b328-9e5035b83af5  victory 2020-05-05 13:22:09   \n",
       "2  70db22b3-c2f4-43bc-94ea-51c8d2904a29  victory 2020-05-05 18:54:37   \n",
       "3  903fc9ef-ba97-4b12-9d5c-ac8d602fbd8b  victory 2020-05-05 21:27:29   \n",
       "4  58e077ba-feb1-4556-a5a0-d96bd04efa39  victory 2020-05-06 06:02:22   \n",
       "\n",
       "     first_visit_time  \n",
       "0 2020-05-04 00:13:21  \n",
       "1 2020-05-04 00:22:48  \n",
       "2 2020-05-04 13:41:55  \n",
       "3 2020-05-04 00:57:02  \n",
       "4 2020-05-04 19:23:40  "
      ]
     },
     "metadata": {},
     "output_type": "display_data"
    }
   ],
   "source": [
    "# Создадим таблицу с временем первого действия игроков и временем завершения уровней:\n",
    "user_activity = pd.merge(finished_level[['user_id', 'event', 'level_finished_time']], \n",
    "    first_visits[['first_visit_time', 'user_id']],\n",
    "    how='left', on='user_id')\n",
    "display(user_activity.head())\n"
   ]
  },
  {
   "cell_type": "code",
   "execution_count": 57,
   "metadata": {
    "scrolled": false
   },
   "outputs": [
    {
     "data": {
      "text/html": [
       "<div>\n",
       "<style scoped>\n",
       "    .dataframe tbody tr th:only-of-type {\n",
       "        vertical-align: middle;\n",
       "    }\n",
       "\n",
       "    .dataframe tbody tr th {\n",
       "        vertical-align: top;\n",
       "    }\n",
       "\n",
       "    .dataframe thead th {\n",
       "        text-align: right;\n",
       "    }\n",
       "</style>\n",
       "<table border=\"1\" class=\"dataframe\">\n",
       "  <thead>\n",
       "    <tr style=\"text-align: right;\">\n",
       "      <th></th>\n",
       "      <th>user_id</th>\n",
       "      <th>event</th>\n",
       "      <th>level_finished_time</th>\n",
       "      <th>first_visit_time</th>\n",
       "      <th>level_finished_timedelta</th>\n",
       "    </tr>\n",
       "  </thead>\n",
       "  <tbody>\n",
       "    <tr>\n",
       "      <th>0</th>\n",
       "      <td>ced7b368-818f-48f6-9461-2346de0892c5</td>\n",
       "      <td>victory</td>\n",
       "      <td>2020-05-04 19:47:29</td>\n",
       "      <td>2020-05-04 00:13:21</td>\n",
       "      <td>0.82</td>\n",
       "    </tr>\n",
       "    <tr>\n",
       "      <th>1</th>\n",
       "      <td>7ef7fc89-2779-46ea-b328-9e5035b83af5</td>\n",
       "      <td>victory</td>\n",
       "      <td>2020-05-05 13:22:09</td>\n",
       "      <td>2020-05-04 00:22:48</td>\n",
       "      <td>1.54</td>\n",
       "    </tr>\n",
       "    <tr>\n",
       "      <th>2</th>\n",
       "      <td>70db22b3-c2f4-43bc-94ea-51c8d2904a29</td>\n",
       "      <td>victory</td>\n",
       "      <td>2020-05-05 18:54:37</td>\n",
       "      <td>2020-05-04 13:41:55</td>\n",
       "      <td>1.22</td>\n",
       "    </tr>\n",
       "    <tr>\n",
       "      <th>3</th>\n",
       "      <td>903fc9ef-ba97-4b12-9d5c-ac8d602fbd8b</td>\n",
       "      <td>victory</td>\n",
       "      <td>2020-05-05 21:27:29</td>\n",
       "      <td>2020-05-04 00:57:02</td>\n",
       "      <td>1.85</td>\n",
       "    </tr>\n",
       "    <tr>\n",
       "      <th>4</th>\n",
       "      <td>58e077ba-feb1-4556-a5a0-d96bd04efa39</td>\n",
       "      <td>victory</td>\n",
       "      <td>2020-05-06 06:02:22</td>\n",
       "      <td>2020-05-04 19:23:40</td>\n",
       "      <td>1.44</td>\n",
       "    </tr>\n",
       "  </tbody>\n",
       "</table>\n",
       "</div>"
      ],
      "text/plain": [
       "                                user_id    event level_finished_time  \\\n",
       "0  ced7b368-818f-48f6-9461-2346de0892c5  victory 2020-05-04 19:47:29   \n",
       "1  7ef7fc89-2779-46ea-b328-9e5035b83af5  victory 2020-05-05 13:22:09   \n",
       "2  70db22b3-c2f4-43bc-94ea-51c8d2904a29  victory 2020-05-05 18:54:37   \n",
       "3  903fc9ef-ba97-4b12-9d5c-ac8d602fbd8b  victory 2020-05-05 21:27:29   \n",
       "4  58e077ba-feb1-4556-a5a0-d96bd04efa39  victory 2020-05-06 06:02:22   \n",
       "\n",
       "     first_visit_time  level_finished_timedelta  \n",
       "0 2020-05-04 00:13:21                      0.82  \n",
       "1 2020-05-04 00:22:48                      1.54  \n",
       "2 2020-05-04 13:41:55                      1.22  \n",
       "3 2020-05-04 00:57:02                      1.85  \n",
       "4 2020-05-04 19:23:40                      1.44  "
      ]
     },
     "metadata": {},
     "output_type": "display_data"
    },
    {
     "data": {
      "text/plain": [
       "count    5817.000000\n",
       "mean       11.355145\n",
       "std         3.969762\n",
       "min         0.400000\n",
       "25%         8.680000\n",
       "50%        10.990000\n",
       "75%        13.620000\n",
       "max        30.920000\n",
       "Name: level_finished_timedelta, dtype: float64"
      ]
     },
     "metadata": {},
     "output_type": "display_data"
    }
   ],
   "source": [
    "# Создадим столбец с разницей между временем завершения уровней и временем первого действия в днях:\n",
    "user_activity['level_finished_timedelta'] = ((\n",
    "    user_activity['level_finished_time']-\n",
    "    user_activity['first_visit_time'])/np.timedelta64(1, 'D')).round(2)\n",
    "\n",
    "display(user_activity.head())\n",
    "display(user_activity['level_finished_timedelta'].describe())"
   ]
  },
  {
   "cell_type": "code",
   "execution_count": 58,
   "metadata": {},
   "outputs": [
    {
     "data": {
      "text/plain": [
       "<AxesSubplot:>"
      ]
     },
     "execution_count": 58,
     "metadata": {},
     "output_type": "execute_result"
    },
    {
     "data": {
      "image/png": "[encoded data removed]",
      "text/plain": [
       "<Figure size 432x288 with 1 Axes>"
      ]
     },
     "metadata": {
      "needs_background": "light"
     },
     "output_type": "display_data"
    }
   ],
   "source": [
    "# Рассмотрим распределение значений на гистограмме:\n",
    "user_activity['level_finished_timedelta'].hist(bins=31)"
   ]
  },
  {
   "cell_type": "markdown",
   "metadata": {},
   "source": [
    "### Гипотеза различия времени прохождения уровня"
   ]
  },
  {
   "cell_type": "markdown",
   "metadata": {},
   "source": [
    "Проверим гипотезу различия времени прохождения уровня между пользователями, которые заканчивают уровень через реализацию проекта, и пользователями, которые заканчивают уровень победой над другим игроком."
   ]
  },
  {
   "cell_type": "markdown",
   "metadata": {},
   "source": [
    "Для сравнения сформулируем гипотезы:\n",
    "- Нулевую: **различия** времени прохождения уровня между пользователями, которые заканчивают уровень через реализацию проекта, и пользователями, которые заканчивают уровень победой над другим игроком **нет**.\n",
    "\n",
    "\n",
    "- Альтернативную: время прохождения уровня пользователями, которые заканчивают уровень через реализацию проекта, и пользователями, которые заканчивают уровень победой над другим игроком **различаются**."
   ]
  },
  {
   "cell_type": "code",
   "execution_count": 59,
   "metadata": {},
   "outputs": [],
   "source": [
    "# Создадим отдельные таблицы со сравниваемыми данными:\n",
    "victory_stats = user_activity.query('event == \"victory\"')\n",
    "project_stats = user_activity.query('event == \"project\"')"
   ]
  },
  {
   "cell_type": "code",
   "execution_count": 60,
   "metadata": {},
   "outputs": [
    {
     "data": {
      "image/png": "[encoded data removed]",
      "text/plain": [
       "<Figure size 432x288 with 1 Axes>"
      ]
     },
     "metadata": {
      "needs_background": "light"
     },
     "output_type": "display_data"
    },
    {
     "data": {
      "image/png": "[encoded data removed]",
      "text/plain": [
       "<Figure size 432x288 with 1 Axes>"
      ]
     },
     "metadata": {
      "needs_background": "light"
     },
     "output_type": "display_data"
    }
   ],
   "source": [
    "# Изучим сравниваемые данные:\n",
    "victory_stats.plot(y='level_finished_timedelta', kind='hist', grid = True, bins=30)\n",
    "project_stats.plot(y='level_finished_timedelta', kind='hist', grid = True, bins=30);"
   ]
  },
  {
   "cell_type": "code",
   "execution_count": 61,
   "metadata": {},
   "outputs": [
    {
     "data": {
      "text/plain": [
       "16.775125879645916"
      ]
     },
     "metadata": {},
     "output_type": "display_data"
    },
    {
     "data": {
      "text/plain": [
       "13.200047565206647"
      ]
     },
     "metadata": {},
     "output_type": "display_data"
    }
   ],
   "source": [
    "victory_var = np.var(victory_stats['level_finished_timedelta'], ddof=1)\n",
    "display(victory_var)\n",
    "project_var = np.var(project_stats['level_finished_timedelta'], ddof=1)\n",
    "display(project_var)"
   ]
  },
  {
   "cell_type": "markdown",
   "metadata": {},
   "source": [
    "Распределение у выборок нормальное, для сравнения будем использовать t-тест."
   ]
  },
  {
   "cell_type": "code",
   "execution_count": 62,
   "metadata": {},
   "outputs": [
    {
     "name": "stdout",
     "output_type": "stream",
     "text": [
      "p-значение: 2.1456901384874864e-12\n"
     ]
    },
    {
     "data": {
      "text/plain": [
       "'Отвергаем нулевую гипотезу \"Различий нет\"'"
      ]
     },
     "metadata": {},
     "output_type": "display_data"
    }
   ],
   "source": [
    "# Для проверки гипотезы используем двухсторонний тест для двух выборок.\n",
    "\n",
    "# Примем стандартный уровень критической значимости 0.05:\n",
    "alpha = 0.05\n",
    "# если p-value окажется меньше него - отвергнем гипотезу\n",
    "\n",
    "results_1 = st.ttest_ind(victory_stats['level_finished_timedelta'], \n",
    "    project_stats['level_finished_timedelta'])\n",
    "\n",
    "print('p-значение:', results_1.pvalue)\n",
    "\n",
    "if results_1.pvalue < alpha:\n",
    "    display('Отвергаем нулевую гипотезу \"Различий нет\"')\n",
    "else:\n",
    "    display('Не получилось отвергнуть нулевую гипотезу \"Различий нет\"')"
   ]
  },
  {
   "cell_type": "markdown",
   "metadata": {},
   "source": [
    "**Выводы:**\n",
    "\n",
    "Гипотезу о том, что различия времени прохождения уровня между пользователями, которые заканчивают уровень через реализацию проекта, и пользователями, которые заканчивают уровень победой над другим игроком нет отвергаем.\n",
    "\n",
    "Между выборками имеются статистически значимые различия."
   ]
  },
  {
   "cell_type": "markdown",
   "metadata": {},
   "source": [
    "###  Гипотеза различия конверсии в завершение уровня"
   ]
  },
  {
   "cell_type": "markdown",
   "metadata": {},
   "source": [
    "Проверим гипотезу различия конверсии (доли игроков от общего количества) в зависимости от источника привлечения. Выберем самый эффективный и самый неэффективный источники - youtube_channel_reklama и facebook_ads.\n",
    "\n",
    "Для сравнения сформулируем гипотезы:\n",
    "\n",
    "Нулевую: **различия** между долями игроков завершивших первый уровень от общего количества привлеченных игроков из источников youtube_channel_reklama и facebook_ads **нет**.\n",
    "\n",
    "\n",
    "Альтернативную: доли игроков завершивших первый уровень от общего количества привлеченных игроков из источников youtube_channel_reklama и facebook_ads **различаются**."
   ]
  },
  {
   "cell_type": "code",
   "execution_count": 63,
   "metadata": {},
   "outputs": [
    {
     "data": {
      "text/html": [
       "<div>\n",
       "<style scoped>\n",
       "    .dataframe tbody tr th:only-of-type {\n",
       "        vertical-align: middle;\n",
       "    }\n",
       "\n",
       "    .dataframe tbody tr th {\n",
       "        vertical-align: top;\n",
       "    }\n",
       "\n",
       "    .dataframe thead th {\n",
       "        text-align: right;\n",
       "    }\n",
       "</style>\n",
       "<table border=\"1\" class=\"dataframe\">\n",
       "  <thead>\n",
       "    <tr style=\"text-align: right;\">\n",
       "      <th></th>\n",
       "      <th>source</th>\n",
       "      <th>user_count</th>\n",
       "      <th>finished_users</th>\n",
       "    </tr>\n",
       "  </thead>\n",
       "  <tbody>\n",
       "    <tr>\n",
       "      <th>0</th>\n",
       "      <td>facebook_ads</td>\n",
       "      <td>2726</td>\n",
       "      <td>1150</td>\n",
       "    </tr>\n",
       "    <tr>\n",
       "      <th>1</th>\n",
       "      <td>instagram_new_adverts</td>\n",
       "      <td>3347</td>\n",
       "      <td>1466</td>\n",
       "    </tr>\n",
       "    <tr>\n",
       "      <th>2</th>\n",
       "      <td>yandex_direct</td>\n",
       "      <td>4817</td>\n",
       "      <td>2042</td>\n",
       "    </tr>\n",
       "    <tr>\n",
       "      <th>3</th>\n",
       "      <td>youtube_channel_reklama</td>\n",
       "      <td>2686</td>\n",
       "      <td>1159</td>\n",
       "    </tr>\n",
       "  </tbody>\n",
       "</table>\n",
       "</div>"
      ],
      "text/plain": [
       "                    source  user_count  finished_users\n",
       "0             facebook_ads        2726            1150\n",
       "1    instagram_new_adverts        3347            1466\n",
       "2            yandex_direct        4817            2042\n",
       "3  youtube_channel_reklama        2686            1159"
      ]
     },
     "execution_count": 63,
     "metadata": {},
     "output_type": "execute_result"
    }
   ],
   "source": [
    "# К столбцу user_source добавим признак finished_stage_1:\n",
    "source_user_finished_stage = pd.merge(user_source, finished_stage_1[['user_id', 'event']], how='left')\n",
    "# Полученную таблицу сгруппируем по источникам, посчитаем кол-во игроков всего и завершивших 1 уровень:\n",
    "source_conversion = source_user_finished_stage.groupby('source').agg(\n",
    "    {'user_id': 'count', 'event': 'count'}).reset_index()\n",
    "source_conversion.columns = ('source', 'user_count', 'finished_users')\n",
    "source_conversion"
   ]
  },
  {
   "cell_type": "code",
   "execution_count": 64,
   "metadata": {},
   "outputs": [
    {
     "name": "stdout",
     "output_type": "stream",
     "text": [
      "p-значение: 0.473741293162954\n"
     ]
    },
    {
     "data": {
      "text/plain": [
       "'Не получилось отвергнуть нулевую гипотезу \"Различий нет\"'"
      ]
     },
     "metadata": {},
     "output_type": "display_data"
    }
   ],
   "source": [
    "# Для проверки гипотез используем z-тест. Импортируем его из библиотеки statsmodels.stats.proportion.\n",
    "# Примем стандартный уровень критической значимости 0.05:\n",
    "alpha = 0.05\n",
    "# Количество пользователей (общее и завершивше 1 уровень) добавляем в переменные:\n",
    "finished_users = np.array([source_conversion.loc[0][2], source_conversion.loc[3][2]])\n",
    "users_count = np.array([source_conversion.loc[0][1], source_conversion.loc[3][1]])\n",
    "# Переменные добавляем в proportions_ztest и берем из него значения p=value;\n",
    "# тест по умолчанию двусторонний, что нам и нужно, поэтому дополнтельных параметров нет:\n",
    "p_value = proportions_ztest(finished_users, users_count)[1] \n",
    "\n",
    "print('p-значение:', p_value)\n",
    "\n",
    "if p_value < alpha:\n",
    "    display('Отвергаем нулевую гипотезу \"Различий нет\"')\n",
    "else:\n",
    "    display('Не получилось отвергнуть нулевую гипотезу \"Различий нет\"')"
   ]
  },
  {
   "cell_type": "markdown",
   "metadata": {},
   "source": [
    "**Выводы:**\n",
    "\n",
    "Гипотезу \"Различий между конверсией в завершение уровня между источниками youtube_channel_reklama и facebook_ads нет\" опровергнуть не удалось.\n",
    "\n",
    "Между конверсиями статистически значимых различий нет."
   ]
  },
  {
   "cell_type": "markdown",
   "metadata": {},
   "source": [
    "## Выводы"
   ]
  },
  {
   "cell_type": "markdown",
   "metadata": {},
   "source": [
    "### Формирование модели монетизации"
   ]
  },
  {
   "cell_type": "markdown",
   "metadata": {},
   "source": [
    "- Расчет текущей модели показывает окупаемость в 118%, но анализ ROMI по источникам трафика выявил источники с отрицательным ROMI - facebook_ads и instagram_new_adverts. Дополнительно необходимо провести исследование источников привлечения на предмет перераспределения бюджета на другие источники.\n",
    "- Для снижения рекламной нагрузки рассчитали модель монетизации при которой не будет показываться реклама на 2 зданиях при ROMI = 1.05.\n",
    "- Итоговая предлагаемая модель: пропуск рекламы на 7 и 12 зданиях. Расчетный ROMI этой модели - 1.05.\n"
   ]
  },
  {
   "cell_type": "markdown",
   "metadata": {},
   "source": [
    "### Проверка статистических гипотез"
   ]
  },
  {
   "cell_type": "markdown",
   "metadata": {},
   "source": [
    "При проверке статистических гипотез, мы получили следующие результаты:\n",
    "\n",
    "- Между пользователями, которые заканчивают уровень через реализацию проекта, и пользователями, которые заканчивают уровень победой над другим игроком есть статистически значимые различия времени прохождения уровня.\n",
    "\n",
    "- Гипотезу \"Различий между конверсией в завершение уровня между источниками youtube_channel_reklama и facebook_ads нет\" опровергнуть не удалось.\n"
   ]
  }
 ],
 "metadata": {
  "ExecuteTimeLog": [
   {
    "duration": 983,
    "start_time": "2022-03-16T18:51:01.530Z"
   },
   {
    "duration": 523,
    "start_time": "2022-03-16T18:51:10.428Z"
   },
   {
    "duration": 344,
    "start_time": "2022-03-16T18:51:24.389Z"
   },
   {
    "duration": 31,
    "start_time": "2022-03-16T18:51:41.254Z"
   },
   {
    "duration": 29,
    "start_time": "2022-03-16T18:51:52.166Z"
   },
   {
    "duration": 18,
    "start_time": "2022-03-16T18:52:01.212Z"
   },
   {
    "duration": 10,
    "start_time": "2022-03-16T18:52:10.673Z"
   },
   {
    "duration": 57,
    "start_time": "2022-03-16T18:52:18.515Z"
   },
   {
    "duration": 40,
    "start_time": "2022-03-16T18:52:26.122Z"
   },
   {
    "duration": 7,
    "start_time": "2022-03-16T18:52:33.917Z"
   },
   {
    "duration": 9,
    "start_time": "2022-03-16T19:54:29.117Z"
   },
   {
    "duration": 18,
    "start_time": "2022-03-16T19:56:11.989Z"
   },
   {
    "duration": 14,
    "start_time": "2022-03-16T19:57:10.152Z"
   },
   {
    "duration": 189,
    "start_time": "2022-03-16T19:57:38.155Z"
   },
   {
    "duration": 14,
    "start_time": "2022-03-16T19:57:41.169Z"
   },
   {
    "duration": 6,
    "start_time": "2022-03-16T19:57:41.654Z"
   },
   {
    "duration": 862,
    "start_time": "2022-03-16T20:17:13.153Z"
   },
   {
    "duration": 824,
    "start_time": "2022-03-16T20:18:06.257Z"
   },
   {
    "duration": 832,
    "start_time": "2022-03-16T20:18:57.459Z"
   },
   {
    "duration": 11,
    "start_time": "2022-03-16T20:19:13.826Z"
   },
   {
    "duration": 45,
    "start_time": "2022-03-16T20:19:25.122Z"
   },
   {
    "duration": 151,
    "start_time": "2022-03-16T20:20:20.036Z"
   },
   {
    "duration": 29,
    "start_time": "2022-03-16T20:20:23.691Z"
   },
   {
    "duration": 32,
    "start_time": "2022-03-16T20:21:30.238Z"
   },
   {
    "duration": 32,
    "start_time": "2022-03-16T20:21:40.297Z"
   },
   {
    "duration": 10,
    "start_time": "2022-03-16T20:21:54.565Z"
   },
   {
    "duration": 25,
    "start_time": "2022-03-16T20:22:02.257Z"
   },
   {
    "duration": 12,
    "start_time": "2022-03-16T20:22:07.117Z"
   },
   {
    "duration": 947,
    "start_time": "2022-03-16T20:22:36.864Z"
   },
   {
    "duration": 186,
    "start_time": "2022-03-16T20:22:37.813Z"
   },
   {
    "duration": 332,
    "start_time": "2022-03-16T20:22:38.001Z"
   },
   {
    "duration": 33,
    "start_time": "2022-03-16T20:22:38.334Z"
   },
   {
    "duration": 13,
    "start_time": "2022-03-16T20:22:38.369Z"
   },
   {
    "duration": 19,
    "start_time": "2022-03-16T20:22:38.383Z"
   },
   {
    "duration": 34,
    "start_time": "2022-03-16T20:22:38.404Z"
   },
   {
    "duration": 25,
    "start_time": "2022-03-16T20:22:38.440Z"
   },
   {
    "duration": 34,
    "start_time": "2022-03-16T20:22:38.467Z"
   },
   {
    "duration": 32,
    "start_time": "2022-03-16T20:22:38.502Z"
   },
   {
    "duration": 9,
    "start_time": "2022-03-16T20:22:38.536Z"
   },
   {
    "duration": 11,
    "start_time": "2022-03-16T20:22:38.546Z"
   },
   {
    "duration": 9,
    "start_time": "2022-03-16T20:22:38.559Z"
   },
   {
    "duration": 3091,
    "start_time": "2022-03-16T20:22:38.569Z"
   },
   {
    "duration": -632,
    "start_time": "2022-03-16T20:22:42.294Z"
   },
   {
    "duration": -632,
    "start_time": "2022-03-16T20:22:42.295Z"
   },
   {
    "duration": 963,
    "start_time": "2022-03-16T20:22:51.737Z"
   },
   {
    "duration": 183,
    "start_time": "2022-03-16T20:22:52.702Z"
   },
   {
    "duration": 313,
    "start_time": "2022-03-16T20:22:52.887Z"
   },
   {
    "duration": 42,
    "start_time": "2022-03-16T20:22:53.202Z"
   },
   {
    "duration": 14,
    "start_time": "2022-03-16T20:22:53.246Z"
   },
   {
    "duration": 17,
    "start_time": "2022-03-16T20:22:53.262Z"
   },
   {
    "duration": 8,
    "start_time": "2022-03-16T20:22:53.281Z"
   },
   {
    "duration": 52,
    "start_time": "2022-03-16T20:22:53.290Z"
   },
   {
    "duration": 32,
    "start_time": "2022-03-16T20:22:53.344Z"
   },
   {
    "duration": 6,
    "start_time": "2022-03-16T20:22:53.377Z"
   },
   {
    "duration": 10,
    "start_time": "2022-03-16T20:22:53.385Z"
   },
   {
    "duration": 37,
    "start_time": "2022-03-16T20:22:53.396Z"
   },
   {
    "duration": 5,
    "start_time": "2022-03-16T20:22:53.435Z"
   },
   {
    "duration": 51,
    "start_time": "2022-03-16T20:22:53.441Z"
   },
   {
    "duration": 10,
    "start_time": "2022-03-16T20:22:53.493Z"
   },
   {
    "duration": 9,
    "start_time": "2022-03-16T20:23:31.007Z"
   },
   {
    "duration": 27,
    "start_time": "2022-03-16T20:24:32.344Z"
   },
   {
    "duration": 15,
    "start_time": "2022-03-16T20:24:34.897Z"
   },
   {
    "duration": 10,
    "start_time": "2022-03-16T20:24:40.140Z"
   },
   {
    "duration": 153,
    "start_time": "2022-03-18T19:34:21.338Z"
   },
   {
    "duration": 126,
    "start_time": "2022-03-18T19:35:01.443Z"
   },
   {
    "duration": 144,
    "start_time": "2022-03-18T19:35:13.053Z"
   },
   {
    "duration": 119,
    "start_time": "2022-03-18T19:35:56.536Z"
   },
   {
    "duration": 124,
    "start_time": "2022-03-18T19:38:49.484Z"
   },
   {
    "duration": 139,
    "start_time": "2022-03-18T19:41:47.074Z"
   },
   {
    "duration": 2111,
    "start_time": "2022-03-18T19:42:09.481Z"
   },
   {
    "duration": 475,
    "start_time": "2022-03-18T19:42:11.596Z"
   },
   {
    "duration": 576,
    "start_time": "2022-03-18T19:42:12.074Z"
   },
   {
    "duration": 89,
    "start_time": "2022-03-18T19:42:12.654Z"
   },
   {
    "duration": 705,
    "start_time": "2022-03-18T19:42:12.746Z"
   },
   {
    "duration": 41,
    "start_time": "2022-03-18T19:42:13.457Z"
   },
   {
    "duration": 15,
    "start_time": "2022-03-18T19:42:13.501Z"
   },
   {
    "duration": 235,
    "start_time": "2022-03-18T19:42:13.519Z"
   },
   {
    "duration": 87,
    "start_time": "2022-03-18T19:42:13.760Z"
   },
   {
    "duration": 34,
    "start_time": "2022-03-18T19:42:13.852Z"
   },
   {
    "duration": 31,
    "start_time": "2022-03-18T19:42:13.888Z"
   },
   {
    "duration": 30,
    "start_time": "2022-03-18T19:42:13.922Z"
   },
   {
    "duration": 14,
    "start_time": "2022-03-18T19:42:13.955Z"
   },
   {
    "duration": 770,
    "start_time": "2022-03-18T19:42:13.984Z"
   },
   {
    "duration": 0,
    "start_time": "2022-03-18T19:42:14.756Z"
   },
   {
    "duration": 0,
    "start_time": "2022-03-18T19:42:14.758Z"
   },
   {
    "duration": 0,
    "start_time": "2022-03-18T19:42:14.760Z"
   },
   {
    "duration": 0,
    "start_time": "2022-03-18T19:42:14.763Z"
   },
   {
    "duration": 41,
    "start_time": "2022-03-18T19:55:28.021Z"
   },
   {
    "duration": 33,
    "start_time": "2022-03-18T19:56:22.908Z"
   },
   {
    "duration": 29,
    "start_time": "2022-03-18T19:57:03.288Z"
   },
   {
    "duration": 28,
    "start_time": "2022-03-18T19:57:46.397Z"
   },
   {
    "duration": 33,
    "start_time": "2022-03-18T20:20:53.789Z"
   },
   {
    "duration": 36,
    "start_time": "2022-03-18T20:21:04.959Z"
   },
   {
    "duration": 173,
    "start_time": "2022-03-18T20:37:47.696Z"
   },
   {
    "duration": 27,
    "start_time": "2022-03-18T20:38:15.516Z"
   },
   {
    "duration": 71,
    "start_time": "2022-03-18T20:41:27.503Z"
   },
   {
    "duration": 18,
    "start_time": "2022-03-18T20:42:26.013Z"
   },
   {
    "duration": 66,
    "start_time": "2022-03-18T20:42:29.073Z"
   },
   {
    "duration": 702,
    "start_time": "2022-03-18T20:44:06.133Z"
   },
   {
    "duration": 46,
    "start_time": "2022-03-18T20:45:30.979Z"
   },
   {
    "duration": 34,
    "start_time": "2022-03-18T20:45:37.199Z"
   },
   {
    "duration": 43,
    "start_time": "2022-03-18T20:46:22.770Z"
   },
   {
    "duration": 37,
    "start_time": "2022-03-18T20:46:36.577Z"
   },
   {
    "duration": 32,
    "start_time": "2022-03-18T20:46:58.552Z"
   },
   {
    "duration": 35,
    "start_time": "2022-03-18T20:49:29.057Z"
   },
   {
    "duration": 14,
    "start_time": "2022-03-18T21:00:54.542Z"
   },
   {
    "duration": 4481,
    "start_time": "2022-03-18T21:00:59.144Z"
   },
   {
    "duration": 22,
    "start_time": "2022-03-18T21:01:21.872Z"
   },
   {
    "duration": 18,
    "start_time": "2022-03-18T21:02:01.180Z"
   },
   {
    "duration": 9,
    "start_time": "2022-03-18T21:02:20.631Z"
   },
   {
    "duration": 625,
    "start_time": "2022-03-18T21:04:25.879Z"
   },
   {
    "duration": 680,
    "start_time": "2022-03-18T21:04:37.345Z"
   },
   {
    "duration": 650,
    "start_time": "2022-03-18T21:10:00.588Z"
   },
   {
    "duration": 21,
    "start_time": "2022-03-18T21:36:20.740Z"
   },
   {
    "duration": 9,
    "start_time": "2022-03-18T21:36:50.742Z"
   },
   {
    "duration": 2419,
    "start_time": "2022-03-18T21:37:18.754Z"
   },
   {
    "duration": 323,
    "start_time": "2022-03-18T21:37:21.176Z"
   },
   {
    "duration": 490,
    "start_time": "2022-03-18T21:37:21.501Z"
   },
   {
    "duration": 52,
    "start_time": "2022-03-18T21:37:21.994Z"
   },
   {
    "duration": 48,
    "start_time": "2022-03-18T21:37:22.050Z"
   },
   {
    "duration": 37,
    "start_time": "2022-03-18T21:37:22.101Z"
   },
   {
    "duration": 47,
    "start_time": "2022-03-18T21:37:22.140Z"
   },
   {
    "duration": 57,
    "start_time": "2022-03-18T21:37:22.190Z"
   },
   {
    "duration": 98,
    "start_time": "2022-03-18T21:37:22.251Z"
   },
   {
    "duration": 36,
    "start_time": "2022-03-18T21:37:22.354Z"
   },
   {
    "duration": 21,
    "start_time": "2022-03-18T21:37:22.393Z"
   },
   {
    "duration": 21,
    "start_time": "2022-03-18T21:37:22.417Z"
   },
   {
    "duration": 42,
    "start_time": "2022-03-18T21:37:22.442Z"
   },
   {
    "duration": 845,
    "start_time": "2022-03-18T21:37:22.487Z"
   },
   {
    "duration": 0,
    "start_time": "2022-03-18T21:37:23.334Z"
   },
   {
    "duration": 1,
    "start_time": "2022-03-18T21:37:23.335Z"
   },
   {
    "duration": 0,
    "start_time": "2022-03-18T21:37:23.337Z"
   },
   {
    "duration": 0,
    "start_time": "2022-03-18T21:37:23.339Z"
   },
   {
    "duration": 0,
    "start_time": "2022-03-18T21:37:23.341Z"
   },
   {
    "duration": 0,
    "start_time": "2022-03-18T21:37:23.342Z"
   },
   {
    "duration": 0,
    "start_time": "2022-03-18T21:37:23.344Z"
   },
   {
    "duration": 0,
    "start_time": "2022-03-18T21:37:23.346Z"
   },
   {
    "duration": 0,
    "start_time": "2022-03-18T21:37:23.347Z"
   },
   {
    "duration": 0,
    "start_time": "2022-03-18T21:37:23.349Z"
   },
   {
    "duration": 37,
    "start_time": "2022-03-18T21:46:36.171Z"
   },
   {
    "duration": 26,
    "start_time": "2022-03-18T21:46:48.250Z"
   },
   {
    "duration": 1735,
    "start_time": "2022-03-18T21:47:07.035Z"
   },
   {
    "duration": 312,
    "start_time": "2022-03-18T21:47:08.773Z"
   },
   {
    "duration": 485,
    "start_time": "2022-03-18T21:47:09.087Z"
   },
   {
    "duration": 92,
    "start_time": "2022-03-18T21:47:09.574Z"
   },
   {
    "duration": 26,
    "start_time": "2022-03-18T21:47:09.687Z"
   },
   {
    "duration": 37,
    "start_time": "2022-03-18T21:47:09.715Z"
   },
   {
    "duration": 44,
    "start_time": "2022-03-18T21:47:09.755Z"
   },
   {
    "duration": 46,
    "start_time": "2022-03-18T21:47:09.802Z"
   },
   {
    "duration": 71,
    "start_time": "2022-03-18T21:47:09.851Z"
   },
   {
    "duration": 9,
    "start_time": "2022-03-18T21:47:09.925Z"
   },
   {
    "duration": 20,
    "start_time": "2022-03-18T21:47:09.936Z"
   },
   {
    "duration": 50,
    "start_time": "2022-03-18T21:47:09.958Z"
   },
   {
    "duration": 15,
    "start_time": "2022-03-18T21:47:10.011Z"
   },
   {
    "duration": 187,
    "start_time": "2022-03-18T21:47:10.030Z"
   },
   {
    "duration": 0,
    "start_time": "2022-03-18T21:47:10.220Z"
   },
   {
    "duration": 0,
    "start_time": "2022-03-18T21:47:10.223Z"
   },
   {
    "duration": 0,
    "start_time": "2022-03-18T21:47:10.225Z"
   },
   {
    "duration": 0,
    "start_time": "2022-03-18T21:47:10.227Z"
   },
   {
    "duration": 0,
    "start_time": "2022-03-18T21:47:10.229Z"
   },
   {
    "duration": 0,
    "start_time": "2022-03-18T21:47:10.231Z"
   },
   {
    "duration": 0,
    "start_time": "2022-03-18T21:47:10.233Z"
   },
   {
    "duration": 0,
    "start_time": "2022-03-18T21:47:10.235Z"
   },
   {
    "duration": 0,
    "start_time": "2022-03-18T21:47:10.238Z"
   },
   {
    "duration": 0,
    "start_time": "2022-03-18T21:47:10.239Z"
   },
   {
    "duration": 0,
    "start_time": "2022-03-18T21:47:10.241Z"
   },
   {
    "duration": 23,
    "start_time": "2022-03-18T21:47:33.077Z"
   },
   {
    "duration": 26,
    "start_time": "2022-03-18T21:47:47.737Z"
   },
   {
    "duration": 2017,
    "start_time": "2022-03-18T21:48:27.542Z"
   },
   {
    "duration": 20,
    "start_time": "2022-03-18T21:48:44.148Z"
   },
   {
    "duration": 20,
    "start_time": "2022-03-18T21:49:18.751Z"
   },
   {
    "duration": 22,
    "start_time": "2022-03-18T21:51:34.406Z"
   },
   {
    "duration": 33,
    "start_time": "2022-03-18T21:51:50.021Z"
   },
   {
    "duration": 265,
    "start_time": "2022-03-18T22:08:34.715Z"
   },
   {
    "duration": 59,
    "start_time": "2022-03-18T22:09:07.216Z"
   },
   {
    "duration": 2255,
    "start_time": "2022-03-18T22:09:25.470Z"
   },
   {
    "duration": 48,
    "start_time": "2022-03-18T22:09:28.388Z"
   },
   {
    "duration": 243,
    "start_time": "2022-03-18T22:09:31.032Z"
   },
   {
    "duration": 2058,
    "start_time": "2022-03-18T22:09:55.716Z"
   },
   {
    "duration": 39,
    "start_time": "2022-03-18T22:09:57.777Z"
   },
   {
    "duration": 272,
    "start_time": "2022-03-18T22:09:57.818Z"
   },
   {
    "duration": 2133,
    "start_time": "2022-03-18T22:11:21.859Z"
   },
   {
    "duration": 26,
    "start_time": "2022-03-18T22:11:24.704Z"
   },
   {
    "duration": 182,
    "start_time": "2022-03-18T22:11:25.910Z"
   },
   {
    "duration": 72,
    "start_time": "2022-03-19T18:39:33.747Z"
   },
   {
    "duration": 1588,
    "start_time": "2022-03-19T18:39:40.530Z"
   },
   {
    "duration": 776,
    "start_time": "2022-03-19T18:39:42.121Z"
   },
   {
    "duration": 398,
    "start_time": "2022-03-19T18:39:42.899Z"
   },
   {
    "duration": 47,
    "start_time": "2022-03-19T18:39:43.299Z"
   },
   {
    "duration": 26,
    "start_time": "2022-03-19T18:39:44.007Z"
   },
   {
    "duration": 35,
    "start_time": "2022-03-19T18:39:44.725Z"
   },
   {
    "duration": 13,
    "start_time": "2022-03-19T18:39:45.322Z"
   },
   {
    "duration": 55,
    "start_time": "2022-03-19T18:39:48.945Z"
   },
   {
    "duration": 55,
    "start_time": "2022-03-19T18:39:49.552Z"
   },
   {
    "duration": 10,
    "start_time": "2022-03-19T18:39:52.229Z"
   },
   {
    "duration": 41,
    "start_time": "2022-03-19T18:39:54.052Z"
   },
   {
    "duration": 92,
    "start_time": "2022-03-19T18:40:04.042Z"
   },
   {
    "duration": 223,
    "start_time": "2022-03-19T18:51:05.827Z"
   },
   {
    "duration": 20,
    "start_time": "2022-03-19T19:13:12.567Z"
   },
   {
    "duration": 22,
    "start_time": "2022-03-19T19:14:03.407Z"
   },
   {
    "duration": 26,
    "start_time": "2022-03-19T19:14:16.636Z"
   },
   {
    "duration": 23,
    "start_time": "2022-03-19T19:14:59.592Z"
   },
   {
    "duration": 55,
    "start_time": "2022-03-19T19:26:25.803Z"
   },
   {
    "duration": 5,
    "start_time": "2022-03-19T19:38:57.889Z"
   },
   {
    "duration": 16,
    "start_time": "2022-03-19T19:39:37.861Z"
   },
   {
    "duration": 169,
    "start_time": "2022-03-19T19:40:13.075Z"
   },
   {
    "duration": 168,
    "start_time": "2022-03-19T19:40:33.069Z"
   },
   {
    "duration": 111,
    "start_time": "2022-03-19T19:41:13.142Z"
   },
   {
    "duration": 96,
    "start_time": "2022-03-19T19:42:22.014Z"
   },
   {
    "duration": 115,
    "start_time": "2022-03-19T19:42:33.626Z"
   },
   {
    "duration": 159,
    "start_time": "2022-03-19T19:43:35.872Z"
   },
   {
    "duration": 158,
    "start_time": "2022-03-19T19:43:44.326Z"
   },
   {
    "duration": 151,
    "start_time": "2022-03-19T19:44:20.277Z"
   },
   {
    "duration": 120,
    "start_time": "2022-03-19T19:44:26.229Z"
   },
   {
    "duration": 151,
    "start_time": "2022-03-19T19:44:43.734Z"
   },
   {
    "duration": 141,
    "start_time": "2022-03-19T19:44:54.290Z"
   },
   {
    "duration": 174,
    "start_time": "2022-03-19T19:45:02.363Z"
   },
   {
    "duration": 138,
    "start_time": "2022-03-19T19:45:10.286Z"
   },
   {
    "duration": 142,
    "start_time": "2022-03-19T19:45:25.212Z"
   },
   {
    "duration": 110,
    "start_time": "2022-03-19T19:50:20.826Z"
   },
   {
    "duration": 127,
    "start_time": "2022-03-19T19:50:27.159Z"
   },
   {
    "duration": 116,
    "start_time": "2022-03-19T19:50:35.509Z"
   },
   {
    "duration": 142,
    "start_time": "2022-03-19T19:54:11.262Z"
   },
   {
    "duration": 2556,
    "start_time": "2022-03-19T19:56:36.278Z"
   },
   {
    "duration": 29,
    "start_time": "2022-03-19T19:56:41.296Z"
   },
   {
    "duration": 207,
    "start_time": "2022-03-19T19:56:51.330Z"
   },
   {
    "duration": 78,
    "start_time": "2022-03-19T20:12:20.106Z"
   },
   {
    "duration": 33,
    "start_time": "2022-03-19T20:12:42.212Z"
   },
   {
    "duration": 101,
    "start_time": "2022-03-19T20:13:33.751Z"
   },
   {
    "duration": 12,
    "start_time": "2022-03-19T20:16:15.214Z"
   },
   {
    "duration": 13,
    "start_time": "2022-03-19T20:16:41.122Z"
   },
   {
    "duration": 100,
    "start_time": "2022-03-19T20:16:56.501Z"
   },
   {
    "duration": 13,
    "start_time": "2022-03-19T20:16:57.379Z"
   },
   {
    "duration": 1374,
    "start_time": "2022-03-19T20:21:19.018Z"
   },
   {
    "duration": 286,
    "start_time": "2022-03-19T20:21:20.396Z"
   },
   {
    "duration": 641,
    "start_time": "2022-03-19T20:21:20.685Z"
   },
   {
    "duration": 92,
    "start_time": "2022-03-19T20:21:21.330Z"
   },
   {
    "duration": 24,
    "start_time": "2022-03-19T20:21:21.426Z"
   },
   {
    "duration": 61,
    "start_time": "2022-03-19T20:21:21.453Z"
   },
   {
    "duration": 14,
    "start_time": "2022-03-19T20:21:21.517Z"
   },
   {
    "duration": 67,
    "start_time": "2022-03-19T20:21:21.533Z"
   },
   {
    "duration": 53,
    "start_time": "2022-03-19T20:21:21.602Z"
   },
   {
    "duration": 30,
    "start_time": "2022-03-19T20:21:21.658Z"
   },
   {
    "duration": 50,
    "start_time": "2022-03-19T20:21:21.690Z"
   },
   {
    "duration": 110,
    "start_time": "2022-03-19T20:21:21.742Z"
   },
   {
    "duration": 228,
    "start_time": "2022-03-19T20:21:21.854Z"
   },
   {
    "duration": 20,
    "start_time": "2022-03-19T20:21:22.085Z"
   },
   {
    "duration": 19,
    "start_time": "2022-03-19T20:21:22.107Z"
   },
   {
    "duration": 215,
    "start_time": "2022-03-19T20:21:22.129Z"
   },
   {
    "duration": 3955,
    "start_time": "2022-03-19T20:21:22.347Z"
   },
   {
    "duration": 40,
    "start_time": "2022-03-19T20:21:26.305Z"
   },
   {
    "duration": 222,
    "start_time": "2022-03-19T20:21:26.347Z"
   },
   {
    "duration": 128,
    "start_time": "2022-03-19T20:21:26.571Z"
   },
   {
    "duration": 12,
    "start_time": "2022-03-19T20:21:26.701Z"
   },
   {
    "duration": 6,
    "start_time": "2022-03-19T20:23:39.274Z"
   },
   {
    "duration": 2799,
    "start_time": "2022-03-19T20:24:02.664Z"
   },
   {
    "duration": 9,
    "start_time": "2022-03-19T20:24:07.047Z"
   },
   {
    "duration": 10,
    "start_time": "2022-03-19T20:24:21.068Z"
   },
   {
    "duration": 139,
    "start_time": "2022-03-19T20:24:44.590Z"
   },
   {
    "duration": 6,
    "start_time": "2022-03-19T20:24:48.438Z"
   },
   {
    "duration": 207,
    "start_time": "2022-03-19T20:25:46.894Z"
   },
   {
    "duration": 12,
    "start_time": "2022-03-19T20:26:06.360Z"
   },
   {
    "duration": 326,
    "start_time": "2022-03-19T20:26:21.897Z"
   },
   {
    "duration": 58,
    "start_time": "2022-03-19T21:28:32.385Z"
   },
   {
    "duration": 31,
    "start_time": "2022-03-19T21:32:04.496Z"
   },
   {
    "duration": 28,
    "start_time": "2022-03-19T21:32:55.574Z"
   },
   {
    "duration": 28,
    "start_time": "2022-03-19T21:33:12.676Z"
   },
   {
    "duration": 1471,
    "start_time": "2022-03-19T21:35:19.352Z"
   },
   {
    "duration": 273,
    "start_time": "2022-03-19T21:35:20.825Z"
   },
   {
    "duration": 408,
    "start_time": "2022-03-19T21:35:21.101Z"
   },
   {
    "duration": 47,
    "start_time": "2022-03-19T21:35:21.512Z"
   },
   {
    "duration": 18,
    "start_time": "2022-03-19T21:35:21.582Z"
   },
   {
    "duration": 36,
    "start_time": "2022-03-19T21:35:21.602Z"
   },
   {
    "duration": 48,
    "start_time": "2022-03-19T21:35:21.641Z"
   },
   {
    "duration": 35,
    "start_time": "2022-03-19T21:35:21.692Z"
   },
   {
    "duration": 81,
    "start_time": "2022-03-19T21:35:21.730Z"
   },
   {
    "duration": 9,
    "start_time": "2022-03-19T21:35:21.816Z"
   },
   {
    "duration": 71,
    "start_time": "2022-03-19T21:35:21.828Z"
   },
   {
    "duration": 101,
    "start_time": "2022-03-19T21:35:21.902Z"
   },
   {
    "duration": 231,
    "start_time": "2022-03-19T21:35:22.006Z"
   },
   {
    "duration": 19,
    "start_time": "2022-03-19T21:35:22.239Z"
   },
   {
    "duration": 35,
    "start_time": "2022-03-19T21:35:22.260Z"
   },
   {
    "duration": 141,
    "start_time": "2022-03-19T21:35:22.297Z"
   },
   {
    "duration": 2486,
    "start_time": "2022-03-19T21:35:22.440Z"
   },
   {
    "duration": 29,
    "start_time": "2022-03-19T21:35:24.928Z"
   },
   {
    "duration": 226,
    "start_time": "2022-03-19T21:35:24.959Z"
   },
   {
    "duration": 122,
    "start_time": "2022-03-19T21:35:25.188Z"
   },
   {
    "duration": 13,
    "start_time": "2022-03-19T21:35:25.313Z"
   },
   {
    "duration": 13,
    "start_time": "2022-03-19T21:35:25.329Z"
   },
   {
    "duration": 41,
    "start_time": "2022-03-19T21:35:25.345Z"
   },
   {
    "duration": 263,
    "start_time": "2022-03-19T21:35:25.389Z"
   },
   {
    "duration": 27,
    "start_time": "2022-03-19T21:35:25.655Z"
   },
   {
    "duration": 32,
    "start_time": "2022-03-19T21:35:25.685Z"
   },
   {
    "duration": 22,
    "start_time": "2022-03-19T21:35:25.719Z"
   },
   {
    "duration": 4,
    "start_time": "2022-03-19T21:35:25.745Z"
   },
   {
    "duration": 39,
    "start_time": "2022-03-19T21:35:25.782Z"
   },
   {
    "duration": 30,
    "start_time": "2022-03-19T21:35:54.895Z"
   },
   {
    "duration": 24,
    "start_time": "2022-03-19T21:37:34.781Z"
   },
   {
    "duration": 32,
    "start_time": "2022-03-19T21:37:39.011Z"
   },
   {
    "duration": 1431,
    "start_time": "2022-03-19T21:47:03.055Z"
   },
   {
    "duration": 283,
    "start_time": "2022-03-19T21:47:04.488Z"
   },
   {
    "duration": 403,
    "start_time": "2022-03-19T21:47:04.774Z"
   },
   {
    "duration": 47,
    "start_time": "2022-03-19T21:47:05.183Z"
   },
   {
    "duration": 18,
    "start_time": "2022-03-19T21:47:05.234Z"
   },
   {
    "duration": 59,
    "start_time": "2022-03-19T21:47:05.254Z"
   },
   {
    "duration": 12,
    "start_time": "2022-03-19T21:47:05.316Z"
   },
   {
    "duration": 70,
    "start_time": "2022-03-19T21:47:05.330Z"
   },
   {
    "duration": 52,
    "start_time": "2022-03-19T21:47:05.402Z"
   },
   {
    "duration": 30,
    "start_time": "2022-03-19T21:47:05.456Z"
   },
   {
    "duration": 43,
    "start_time": "2022-03-19T21:47:05.489Z"
   },
   {
    "duration": 125,
    "start_time": "2022-03-19T21:47:05.535Z"
   },
   {
    "duration": 221,
    "start_time": "2022-03-19T21:47:05.663Z"
   },
   {
    "duration": 20,
    "start_time": "2022-03-19T21:47:05.888Z"
   },
   {
    "duration": 16,
    "start_time": "2022-03-19T21:47:05.910Z"
   },
   {
    "duration": 176,
    "start_time": "2022-03-19T21:47:05.929Z"
   },
   {
    "duration": 2437,
    "start_time": "2022-03-19T21:47:06.108Z"
   },
   {
    "duration": 38,
    "start_time": "2022-03-19T21:47:08.547Z"
   },
   {
    "duration": 200,
    "start_time": "2022-03-19T21:47:08.588Z"
   },
   {
    "duration": 134,
    "start_time": "2022-03-19T21:47:08.791Z"
   },
   {
    "duration": 12,
    "start_time": "2022-03-19T21:47:08.927Z"
   },
   {
    "duration": 13,
    "start_time": "2022-03-19T21:47:08.941Z"
   },
   {
    "duration": 6,
    "start_time": "2022-03-19T21:47:08.983Z"
   },
   {
    "duration": 257,
    "start_time": "2022-03-19T21:47:08.991Z"
   },
   {
    "duration": 12,
    "start_time": "2022-03-19T21:47:09.250Z"
   },
   {
    "duration": 38,
    "start_time": "2022-03-19T21:47:09.264Z"
   },
   {
    "duration": 25,
    "start_time": "2022-03-19T21:47:09.304Z"
   },
   {
    "duration": 4,
    "start_time": "2022-03-19T21:47:09.331Z"
   },
   {
    "duration": 71,
    "start_time": "2022-03-19T21:47:09.338Z"
   },
   {
    "duration": 30,
    "start_time": "2022-03-19T21:47:09.412Z"
   },
   {
    "duration": 20,
    "start_time": "2022-03-19T21:48:57.906Z"
   },
   {
    "duration": 20,
    "start_time": "2022-03-19T21:50:10.210Z"
   },
   {
    "duration": 1442,
    "start_time": "2022-03-19T21:52:42.546Z"
   },
   {
    "duration": 272,
    "start_time": "2022-03-19T21:52:43.991Z"
   },
   {
    "duration": 392,
    "start_time": "2022-03-19T21:52:44.266Z"
   },
   {
    "duration": 57,
    "start_time": "2022-03-19T21:52:44.661Z"
   },
   {
    "duration": 17,
    "start_time": "2022-03-19T21:52:44.720Z"
   },
   {
    "duration": 57,
    "start_time": "2022-03-19T21:52:44.740Z"
   },
   {
    "duration": 12,
    "start_time": "2022-03-19T21:52:44.799Z"
   },
   {
    "duration": 33,
    "start_time": "2022-03-19T21:52:44.813Z"
   },
   {
    "duration": 83,
    "start_time": "2022-03-19T21:52:44.848Z"
   },
   {
    "duration": 9,
    "start_time": "2022-03-19T21:52:44.935Z"
   },
   {
    "duration": 74,
    "start_time": "2022-03-19T21:52:44.946Z"
   },
   {
    "duration": 102,
    "start_time": "2022-03-19T21:52:45.022Z"
   },
   {
    "duration": 216,
    "start_time": "2022-03-19T21:52:45.127Z"
   },
   {
    "duration": 19,
    "start_time": "2022-03-19T21:52:45.345Z"
   },
   {
    "duration": 33,
    "start_time": "2022-03-19T21:52:45.366Z"
   },
   {
    "duration": 142,
    "start_time": "2022-03-19T21:52:45.401Z"
   },
   {
    "duration": 26,
    "start_time": "2022-03-19T21:52:45.582Z"
   },
   {
    "duration": 21,
    "start_time": "2022-03-19T21:52:45.611Z"
   },
   {
    "duration": 4,
    "start_time": "2022-03-19T21:52:45.635Z"
   },
   {
    "duration": 40,
    "start_time": "2022-03-19T21:52:45.642Z"
   },
   {
    "duration": 106,
    "start_time": "2022-03-19T21:52:45.684Z"
   },
   {
    "duration": 11,
    "start_time": "2022-03-19T21:52:45.793Z"
   },
   {
    "duration": 11,
    "start_time": "2022-03-19T21:52:45.807Z"
   },
   {
    "duration": 6,
    "start_time": "2022-03-19T21:52:45.820Z"
   },
   {
    "duration": 296,
    "start_time": "2022-03-19T21:52:45.828Z"
   },
   {
    "duration": 12,
    "start_time": "2022-03-19T21:52:46.126Z"
   },
   {
    "duration": 5,
    "start_time": "2022-03-19T21:52:46.140Z"
   },
   {
    "duration": 49,
    "start_time": "2022-03-19T21:52:46.150Z"
   },
   {
    "duration": 31,
    "start_time": "2022-03-19T21:52:46.201Z"
   },
   {
    "duration": 125,
    "start_time": "2022-03-19T21:56:42.416Z"
   },
   {
    "duration": 11,
    "start_time": "2022-03-19T21:56:59.877Z"
   },
   {
    "duration": 584,
    "start_time": "2022-03-19T21:57:19.036Z"
   },
   {
    "duration": 27,
    "start_time": "2022-03-19T21:58:31.118Z"
   },
   {
    "duration": 36,
    "start_time": "2022-03-19T21:58:42.974Z"
   },
   {
    "duration": 12,
    "start_time": "2022-03-19T21:59:51.075Z"
   },
   {
    "duration": 10,
    "start_time": "2022-03-19T22:00:05.798Z"
   },
   {
    "duration": 20,
    "start_time": "2022-03-19T22:05:38.716Z"
   },
   {
    "duration": 1347,
    "start_time": "2022-03-19T22:05:57.043Z"
   },
   {
    "duration": 269,
    "start_time": "2022-03-19T22:05:58.393Z"
   },
   {
    "duration": 418,
    "start_time": "2022-03-19T22:05:58.664Z"
   },
   {
    "duration": 49,
    "start_time": "2022-03-19T22:05:59.085Z"
   },
   {
    "duration": 17,
    "start_time": "2022-03-19T22:05:59.137Z"
   },
   {
    "duration": 33,
    "start_time": "2022-03-19T22:05:59.181Z"
   },
   {
    "duration": 11,
    "start_time": "2022-03-19T22:05:59.217Z"
   },
   {
    "duration": 63,
    "start_time": "2022-03-19T22:05:59.230Z"
   },
   {
    "duration": 52,
    "start_time": "2022-03-19T22:05:59.295Z"
   },
   {
    "duration": 37,
    "start_time": "2022-03-19T22:05:59.352Z"
   },
   {
    "duration": 42,
    "start_time": "2022-03-19T22:05:59.391Z"
   },
   {
    "duration": 111,
    "start_time": "2022-03-19T22:05:59.436Z"
   },
   {
    "duration": 224,
    "start_time": "2022-03-19T22:05:59.550Z"
   },
   {
    "duration": 19,
    "start_time": "2022-03-19T22:05:59.783Z"
   },
   {
    "duration": 17,
    "start_time": "2022-03-19T22:05:59.805Z"
   },
   {
    "duration": 174,
    "start_time": "2022-03-19T22:05:59.824Z"
   },
   {
    "duration": 27,
    "start_time": "2022-03-19T22:06:00.000Z"
   },
   {
    "duration": 53,
    "start_time": "2022-03-19T22:06:00.029Z"
   },
   {
    "duration": 38,
    "start_time": "2022-03-19T22:06:00.085Z"
   },
   {
    "duration": 157,
    "start_time": "2022-03-19T22:06:00.125Z"
   },
   {
    "duration": 0,
    "start_time": "2022-03-19T22:06:00.285Z"
   },
   {
    "duration": 0,
    "start_time": "2022-03-19T22:06:00.287Z"
   },
   {
    "duration": 0,
    "start_time": "2022-03-19T22:06:00.288Z"
   },
   {
    "duration": 0,
    "start_time": "2022-03-19T22:06:00.289Z"
   },
   {
    "duration": 0,
    "start_time": "2022-03-19T22:06:00.291Z"
   },
   {
    "duration": 0,
    "start_time": "2022-03-19T22:06:00.292Z"
   },
   {
    "duration": 0,
    "start_time": "2022-03-19T22:06:00.294Z"
   },
   {
    "duration": 0,
    "start_time": "2022-03-19T22:06:00.295Z"
   },
   {
    "duration": 0,
    "start_time": "2022-03-19T22:06:00.296Z"
   },
   {
    "duration": 0,
    "start_time": "2022-03-19T22:06:00.298Z"
   },
   {
    "duration": 0,
    "start_time": "2022-03-19T22:06:00.299Z"
   },
   {
    "duration": 20,
    "start_time": "2022-03-19T22:06:17.128Z"
   },
   {
    "duration": 25,
    "start_time": "2022-03-19T22:06:26.853Z"
   },
   {
    "duration": 38,
    "start_time": "2022-03-19T22:07:07.309Z"
   },
   {
    "duration": 19,
    "start_time": "2022-03-19T22:12:36.302Z"
   },
   {
    "duration": 33,
    "start_time": "2022-03-19T22:12:50.057Z"
   },
   {
    "duration": 118,
    "start_time": "2022-03-19T22:13:32.597Z"
   },
   {
    "duration": 189,
    "start_time": "2022-03-19T22:13:36.436Z"
   },
   {
    "duration": 15,
    "start_time": "2022-03-19T22:21:20.382Z"
   },
   {
    "duration": 12,
    "start_time": "2022-03-19T22:21:30.809Z"
   },
   {
    "duration": 79,
    "start_time": "2022-03-19T22:21:39.268Z"
   },
   {
    "duration": 83,
    "start_time": "2022-03-19T22:22:35.251Z"
   },
   {
    "duration": 34,
    "start_time": "2022-03-19T22:25:44.019Z"
   },
   {
    "duration": 76,
    "start_time": "2022-03-19T22:26:24.005Z"
   },
   {
    "duration": 33,
    "start_time": "2022-03-19T22:33:07.370Z"
   },
   {
    "duration": 41,
    "start_time": "2022-03-19T22:33:23.118Z"
   },
   {
    "duration": 46,
    "start_time": "2022-03-19T22:35:26.096Z"
   },
   {
    "duration": 41,
    "start_time": "2022-03-19T22:35:41.653Z"
   },
   {
    "duration": 27,
    "start_time": "2022-03-19T22:36:44.025Z"
   },
   {
    "duration": 27,
    "start_time": "2022-03-19T22:37:01.734Z"
   },
   {
    "duration": 27,
    "start_time": "2022-03-19T22:37:11.601Z"
   },
   {
    "duration": 4,
    "start_time": "2022-03-19T22:37:20.722Z"
   },
   {
    "duration": 17,
    "start_time": "2022-03-19T22:40:35.959Z"
   },
   {
    "duration": 187,
    "start_time": "2022-03-19T22:41:00.980Z"
   },
   {
    "duration": 6,
    "start_time": "2022-03-19T22:42:23.524Z"
   },
   {
    "duration": 16,
    "start_time": "2022-03-19T22:42:36.111Z"
   },
   {
    "duration": 16,
    "start_time": "2022-03-19T22:42:45.303Z"
   },
   {
    "duration": 15,
    "start_time": "2022-03-19T22:42:52.806Z"
   },
   {
    "duration": 13,
    "start_time": "2022-03-19T22:42:55.708Z"
   },
   {
    "duration": 17,
    "start_time": "2022-03-19T22:43:01.740Z"
   },
   {
    "duration": 16,
    "start_time": "2022-03-19T22:43:07.364Z"
   },
   {
    "duration": 130,
    "start_time": "2022-03-19T22:44:30.938Z"
   },
   {
    "duration": 13,
    "start_time": "2022-03-19T22:44:35.375Z"
   },
   {
    "duration": 16,
    "start_time": "2022-03-19T22:45:51.010Z"
   },
   {
    "duration": 19,
    "start_time": "2022-03-19T22:46:38.193Z"
   },
   {
    "duration": 225,
    "start_time": "2022-03-19T22:46:56.700Z"
   },
   {
    "duration": 13,
    "start_time": "2022-03-19T22:47:13.239Z"
   },
   {
    "duration": 18,
    "start_time": "2022-03-19T22:47:54.394Z"
   },
   {
    "duration": 216,
    "start_time": "2022-03-19T22:47:56.260Z"
   },
   {
    "duration": 123,
    "start_time": "2022-03-19T22:48:13.709Z"
   },
   {
    "duration": 1031,
    "start_time": "2022-03-19T22:48:23.868Z"
   },
   {
    "duration": 19,
    "start_time": "2022-03-19T22:48:31.631Z"
   },
   {
    "duration": 217,
    "start_time": "2022-03-19T22:48:42.658Z"
   },
   {
    "duration": 15,
    "start_time": "2022-03-19T22:49:06.316Z"
   },
   {
    "duration": 25,
    "start_time": "2022-03-19T22:49:24.992Z"
   },
   {
    "duration": 24,
    "start_time": "2022-03-19T22:49:57.155Z"
   },
   {
    "duration": 222,
    "start_time": "2022-03-19T22:49:58.349Z"
   },
   {
    "duration": 246,
    "start_time": "2022-03-19T22:50:05.300Z"
   },
   {
    "duration": 28,
    "start_time": "2022-03-19T22:50:48.074Z"
   },
   {
    "duration": 36,
    "start_time": "2022-03-19T22:51:22.319Z"
   },
   {
    "duration": 95,
    "start_time": "2022-03-19T22:54:49.739Z"
   },
   {
    "duration": 13,
    "start_time": "2022-03-19T22:54:52.461Z"
   },
   {
    "duration": 11,
    "start_time": "2022-03-19T22:55:01.688Z"
   },
   {
    "duration": 7,
    "start_time": "2022-03-19T22:55:05.985Z"
   },
   {
    "duration": 236,
    "start_time": "2022-03-19T22:55:25.999Z"
   },
   {
    "duration": 14,
    "start_time": "2022-03-19T22:55:57.488Z"
   },
   {
    "duration": 12,
    "start_time": "2022-03-19T22:56:03.361Z"
   },
   {
    "duration": 28,
    "start_time": "2022-03-19T22:56:43.873Z"
   },
   {
    "duration": 13,
    "start_time": "2022-03-19T22:58:33.855Z"
   },
   {
    "duration": 10,
    "start_time": "2022-03-19T22:58:36.004Z"
   },
   {
    "duration": 8,
    "start_time": "2022-03-19T23:04:06.775Z"
   },
   {
    "duration": 14,
    "start_time": "2022-03-19T23:04:20.320Z"
   },
   {
    "duration": 8,
    "start_time": "2022-03-19T23:04:28.531Z"
   },
   {
    "duration": 9,
    "start_time": "2022-03-19T23:04:33.686Z"
   },
   {
    "duration": 14,
    "start_time": "2022-03-19T23:04:49.973Z"
   },
   {
    "duration": 121,
    "start_time": "2022-03-19T23:05:44.053Z"
   },
   {
    "duration": 12,
    "start_time": "2022-03-19T23:05:47.417Z"
   },
   {
    "duration": 85,
    "start_time": "2022-03-19T23:06:05.624Z"
   },
   {
    "duration": 188,
    "start_time": "2022-03-19T23:06:10.502Z"
   },
   {
    "duration": 269,
    "start_time": "2022-03-19T23:06:23.238Z"
   },
   {
    "duration": 14,
    "start_time": "2022-03-19T23:08:59.361Z"
   },
   {
    "duration": 15,
    "start_time": "2022-03-19T23:09:18.281Z"
   },
   {
    "duration": 179,
    "start_time": "2022-03-19T23:09:53.468Z"
   },
   {
    "duration": 15,
    "start_time": "2022-03-19T23:11:16.039Z"
   },
   {
    "duration": 225,
    "start_time": "2022-03-19T23:11:43.095Z"
   },
   {
    "duration": 15,
    "start_time": "2022-03-19T23:23:59.718Z"
   },
   {
    "duration": 16,
    "start_time": "2022-03-19T23:28:49.637Z"
   },
   {
    "duration": 28,
    "start_time": "2022-03-19T23:28:55.588Z"
   },
   {
    "duration": 20,
    "start_time": "2022-03-19T23:32:03.536Z"
   },
   {
    "duration": 9,
    "start_time": "2022-03-19T23:32:49.718Z"
   },
   {
    "duration": 27,
    "start_time": "2022-03-19T23:32:54.714Z"
   },
   {
    "duration": 15,
    "start_time": "2022-03-19T23:34:33.479Z"
   },
   {
    "duration": 235,
    "start_time": "2022-03-19T23:35:09.997Z"
   },
   {
    "duration": 257,
    "start_time": "2022-03-19T23:39:36.931Z"
   },
   {
    "duration": 120,
    "start_time": "2022-03-19T23:39:56.563Z"
   },
   {
    "duration": 119,
    "start_time": "2022-03-19T23:40:01.264Z"
   },
   {
    "duration": 263,
    "start_time": "2022-03-19T23:40:05.560Z"
   },
   {
    "duration": 15,
    "start_time": "2022-03-19T23:47:35.887Z"
   },
   {
    "duration": 16,
    "start_time": "2022-03-19T23:49:01.411Z"
   },
   {
    "duration": 19,
    "start_time": "2022-03-19T23:49:15.147Z"
   },
   {
    "duration": 200,
    "start_time": "2022-03-19T23:50:24.201Z"
   },
   {
    "duration": 1303,
    "start_time": "2022-03-20T15:07:35.854Z"
   },
   {
    "duration": 1180,
    "start_time": "2022-03-20T15:07:37.160Z"
   },
   {
    "duration": 309,
    "start_time": "2022-03-20T15:07:38.341Z"
   },
   {
    "duration": 72,
    "start_time": "2022-03-20T15:07:38.652Z"
   },
   {
    "duration": 55,
    "start_time": "2022-03-20T15:07:38.726Z"
   },
   {
    "duration": 23,
    "start_time": "2022-03-20T15:07:38.782Z"
   },
   {
    "duration": 8,
    "start_time": "2022-03-20T15:07:38.807Z"
   },
   {
    "duration": 174,
    "start_time": "2022-03-20T15:07:38.817Z"
   },
   {
    "duration": 37,
    "start_time": "2022-03-20T15:07:38.994Z"
   },
   {
    "duration": 9,
    "start_time": "2022-03-20T15:07:39.033Z"
   },
   {
    "duration": 51,
    "start_time": "2022-03-20T15:07:39.044Z"
   },
   {
    "duration": 27,
    "start_time": "2022-03-20T15:07:39.096Z"
   },
   {
    "duration": 73,
    "start_time": "2022-03-20T15:07:39.125Z"
   },
   {
    "duration": 146,
    "start_time": "2022-03-20T15:07:39.200Z"
   },
   {
    "duration": 15,
    "start_time": "2022-03-20T15:07:39.347Z"
   },
   {
    "duration": 24,
    "start_time": "2022-03-20T15:07:39.364Z"
   },
   {
    "duration": 118,
    "start_time": "2022-03-20T15:07:39.389Z"
   },
   {
    "duration": 32,
    "start_time": "2022-03-20T15:07:39.509Z"
   },
   {
    "duration": 14,
    "start_time": "2022-03-20T15:07:39.542Z"
   },
   {
    "duration": 27,
    "start_time": "2022-03-20T15:07:39.581Z"
   },
   {
    "duration": 22,
    "start_time": "2022-03-20T15:07:39.610Z"
   },
   {
    "duration": 133,
    "start_time": "2022-03-20T15:07:39.634Z"
   },
   {
    "duration": 60,
    "start_time": "2022-03-20T15:07:39.769Z"
   },
   {
    "duration": 25,
    "start_time": "2022-03-20T15:07:39.830Z"
   },
   {
    "duration": 36,
    "start_time": "2022-03-20T15:07:39.856Z"
   },
   {
    "duration": 153,
    "start_time": "2022-03-20T15:07:39.894Z"
   },
   {
    "duration": 2,
    "start_time": "2022-03-20T15:07:40.049Z"
   },
   {
    "duration": 23,
    "start_time": "2022-03-20T15:07:40.054Z"
   },
   {
    "duration": 10,
    "start_time": "2022-03-20T15:07:40.079Z"
   },
   {
    "duration": 90,
    "start_time": "2022-03-20T15:07:40.091Z"
   },
   {
    "duration": 7,
    "start_time": "2022-03-20T15:07:40.183Z"
   },
   {
    "duration": 16,
    "start_time": "2022-03-20T15:07:40.192Z"
   },
   {
    "duration": 150,
    "start_time": "2022-03-20T15:07:40.209Z"
   },
   {
    "duration": 3,
    "start_time": "2022-03-20T15:07:40.360Z"
   },
   {
    "duration": 37,
    "start_time": "2022-03-20T15:07:40.364Z"
   },
   {
    "duration": 24,
    "start_time": "2022-03-20T15:07:40.402Z"
   },
   {
    "duration": 190,
    "start_time": "2022-03-20T15:07:40.427Z"
   },
   {
    "duration": 0,
    "start_time": "2022-03-20T15:07:40.619Z"
   },
   {
    "duration": 0,
    "start_time": "2022-03-20T15:07:40.620Z"
   },
   {
    "duration": 0,
    "start_time": "2022-03-20T15:07:40.621Z"
   },
   {
    "duration": 0,
    "start_time": "2022-03-20T15:07:40.622Z"
   },
   {
    "duration": 0,
    "start_time": "2022-03-20T15:07:40.623Z"
   },
   {
    "duration": 0,
    "start_time": "2022-03-20T15:07:40.624Z"
   },
   {
    "duration": 0,
    "start_time": "2022-03-20T15:07:40.625Z"
   },
   {
    "duration": 0,
    "start_time": "2022-03-20T15:07:40.626Z"
   },
   {
    "duration": 0,
    "start_time": "2022-03-20T15:07:40.627Z"
   },
   {
    "duration": 0,
    "start_time": "2022-03-20T15:07:40.628Z"
   },
   {
    "duration": 0,
    "start_time": "2022-03-20T15:07:40.629Z"
   },
   {
    "duration": 0,
    "start_time": "2022-03-20T15:07:40.630Z"
   },
   {
    "duration": 0,
    "start_time": "2022-03-20T15:07:40.631Z"
   },
   {
    "duration": 101,
    "start_time": "2022-03-20T15:07:45.631Z"
   },
   {
    "duration": 11,
    "start_time": "2022-03-20T15:08:08.774Z"
   },
   {
    "duration": 9,
    "start_time": "2022-03-20T15:08:13.364Z"
   },
   {
    "duration": 1181,
    "start_time": "2022-03-20T15:08:36.176Z"
   },
   {
    "duration": 218,
    "start_time": "2022-03-20T15:08:37.358Z"
   },
   {
    "duration": 307,
    "start_time": "2022-03-20T15:08:37.581Z"
   },
   {
    "duration": 59,
    "start_time": "2022-03-20T15:08:37.890Z"
   },
   {
    "duration": 20,
    "start_time": "2022-03-20T15:08:37.950Z"
   },
   {
    "duration": 21,
    "start_time": "2022-03-20T15:08:37.981Z"
   },
   {
    "duration": 8,
    "start_time": "2022-03-20T15:08:38.003Z"
   },
   {
    "duration": 33,
    "start_time": "2022-03-20T15:08:38.012Z"
   },
   {
    "duration": 53,
    "start_time": "2022-03-20T15:08:38.047Z"
   },
   {
    "duration": 9,
    "start_time": "2022-03-20T15:08:38.102Z"
   },
   {
    "duration": 28,
    "start_time": "2022-03-20T15:08:38.113Z"
   },
   {
    "duration": 56,
    "start_time": "2022-03-20T15:08:38.143Z"
   },
   {
    "duration": 80,
    "start_time": "2022-03-20T15:08:38.201Z"
   },
   {
    "duration": 146,
    "start_time": "2022-03-20T15:08:38.283Z"
   },
   {
    "duration": 14,
    "start_time": "2022-03-20T15:08:38.431Z"
   },
   {
    "duration": 11,
    "start_time": "2022-03-20T15:08:38.447Z"
   },
   {
    "duration": 127,
    "start_time": "2022-03-20T15:08:38.459Z"
   },
   {
    "duration": 18,
    "start_time": "2022-03-20T15:08:38.588Z"
   },
   {
    "duration": 11,
    "start_time": "2022-03-20T15:08:38.608Z"
   },
   {
    "duration": 29,
    "start_time": "2022-03-20T15:08:38.620Z"
   },
   {
    "duration": 46,
    "start_time": "2022-03-20T15:08:38.650Z"
   },
   {
    "duration": 127,
    "start_time": "2022-03-20T15:08:38.697Z"
   },
   {
    "duration": 61,
    "start_time": "2022-03-20T15:08:38.825Z"
   },
   {
    "duration": 25,
    "start_time": "2022-03-20T15:08:38.888Z"
   },
   {
    "duration": 14,
    "start_time": "2022-03-20T15:08:38.914Z"
   },
   {
    "duration": 169,
    "start_time": "2022-03-20T15:08:38.930Z"
   },
   {
    "duration": 2,
    "start_time": "2022-03-20T15:08:39.101Z"
   },
   {
    "duration": 3,
    "start_time": "2022-03-20T15:08:39.108Z"
   },
   {
    "duration": 7,
    "start_time": "2022-03-20T15:08:39.113Z"
   },
   {
    "duration": 85,
    "start_time": "2022-03-20T15:08:39.122Z"
   },
   {
    "duration": 9,
    "start_time": "2022-03-20T15:08:39.208Z"
   },
   {
    "duration": 7,
    "start_time": "2022-03-20T15:08:39.219Z"
   },
   {
    "duration": 162,
    "start_time": "2022-03-20T15:08:39.227Z"
   },
   {
    "duration": 2,
    "start_time": "2022-03-20T15:08:39.391Z"
   },
   {
    "duration": 21,
    "start_time": "2022-03-20T15:08:39.395Z"
   },
   {
    "duration": 19,
    "start_time": "2022-03-20T15:08:39.418Z"
   },
   {
    "duration": 11,
    "start_time": "2022-03-20T15:08:39.438Z"
   },
   {
    "duration": 35,
    "start_time": "2022-03-20T15:08:39.450Z"
   },
   {
    "duration": 3000,
    "start_time": "2022-03-20T15:08:39.486Z"
   },
   {
    "duration": 0,
    "start_time": "2022-03-20T15:08:42.488Z"
   },
   {
    "duration": 0,
    "start_time": "2022-03-20T15:08:42.490Z"
   },
   {
    "duration": 0,
    "start_time": "2022-03-20T15:08:42.491Z"
   },
   {
    "duration": 0,
    "start_time": "2022-03-20T15:08:42.493Z"
   },
   {
    "duration": 0,
    "start_time": "2022-03-20T15:08:42.494Z"
   },
   {
    "duration": 0,
    "start_time": "2022-03-20T15:08:42.495Z"
   },
   {
    "duration": 0,
    "start_time": "2022-03-20T15:08:42.496Z"
   },
   {
    "duration": 0,
    "start_time": "2022-03-20T15:08:42.498Z"
   },
   {
    "duration": 0,
    "start_time": "2022-03-20T15:08:42.499Z"
   },
   {
    "duration": 0,
    "start_time": "2022-03-20T15:08:42.501Z"
   },
   {
    "duration": 0,
    "start_time": "2022-03-20T15:08:42.502Z"
   },
   {
    "duration": 165,
    "start_time": "2022-03-20T15:09:00.317Z"
   },
   {
    "duration": 16,
    "start_time": "2022-03-20T15:09:01.519Z"
   },
   {
    "duration": 155,
    "start_time": "2022-03-20T15:09:02.183Z"
   },
   {
    "duration": 12,
    "start_time": "2022-03-20T15:09:02.843Z"
   },
   {
    "duration": 134,
    "start_time": "2022-03-20T15:09:03.387Z"
   },
   {
    "duration": 11,
    "start_time": "2022-03-20T15:09:04.613Z"
   },
   {
    "duration": 137,
    "start_time": "2022-03-20T15:09:05.593Z"
   },
   {
    "duration": 157,
    "start_time": "2022-03-20T15:09:06.571Z"
   },
   {
    "duration": 17,
    "start_time": "2022-03-20T15:09:08.460Z"
   },
   {
    "duration": 11,
    "start_time": "2022-03-20T15:09:09.552Z"
   },
   {
    "duration": 217,
    "start_time": "2022-03-20T15:09:11.036Z"
   },
   {
    "duration": 13,
    "start_time": "2022-03-20T15:16:32.237Z"
   },
   {
    "duration": 7,
    "start_time": "2022-03-20T15:16:50.272Z"
   },
   {
    "duration": 11,
    "start_time": "2022-03-20T15:17:58.191Z"
   },
   {
    "duration": 10,
    "start_time": "2022-03-20T15:18:21.637Z"
   },
   {
    "duration": 10,
    "start_time": "2022-03-20T15:27:28.239Z"
   },
   {
    "duration": 7,
    "start_time": "2022-03-20T15:27:49.591Z"
   },
   {
    "duration": 14,
    "start_time": "2022-03-20T15:28:28.565Z"
   },
   {
    "duration": 16,
    "start_time": "2022-03-20T15:29:35.390Z"
   },
   {
    "duration": 19,
    "start_time": "2022-03-20T15:34:06.016Z"
   },
   {
    "duration": 18,
    "start_time": "2022-03-20T15:35:55.958Z"
   },
   {
    "duration": 4,
    "start_time": "2022-03-20T15:36:21.128Z"
   },
   {
    "duration": 147,
    "start_time": "2022-03-20T15:44:59.299Z"
   },
   {
    "duration": 12,
    "start_time": "2022-03-20T15:57:08.961Z"
   },
   {
    "duration": 11,
    "start_time": "2022-03-20T15:57:16.198Z"
   },
   {
    "duration": 4,
    "start_time": "2022-03-20T15:57:34.037Z"
   },
   {
    "duration": 69,
    "start_time": "2022-03-20T15:58:19.105Z"
   },
   {
    "duration": 10,
    "start_time": "2022-03-20T15:58:31.280Z"
   },
   {
    "duration": 11,
    "start_time": "2022-03-20T15:59:05.739Z"
   },
   {
    "duration": 4,
    "start_time": "2022-03-20T15:59:17.434Z"
   },
   {
    "duration": 10,
    "start_time": "2022-03-20T16:00:41.737Z"
   },
   {
    "duration": 10,
    "start_time": "2022-03-20T16:01:36.853Z"
   },
   {
    "duration": 13,
    "start_time": "2022-03-20T16:02:44.579Z"
   },
   {
    "duration": 10,
    "start_time": "2022-03-20T16:06:57.520Z"
   },
   {
    "duration": 11,
    "start_time": "2022-03-20T16:07:02.241Z"
   },
   {
    "duration": 12,
    "start_time": "2022-03-20T16:07:19.679Z"
   },
   {
    "duration": 21,
    "start_time": "2022-03-20T16:18:43.878Z"
   },
   {
    "duration": 781,
    "start_time": "2022-03-20T16:19:28.043Z"
   },
   {
    "duration": 19,
    "start_time": "2022-03-20T16:19:50.960Z"
   },
   {
    "duration": 21,
    "start_time": "2022-03-20T16:27:50.087Z"
   },
   {
    "duration": 12,
    "start_time": "2022-03-20T16:31:53.889Z"
   },
   {
    "duration": 22,
    "start_time": "2022-03-20T16:31:57.804Z"
   },
   {
    "duration": 1219,
    "start_time": "2022-03-20T16:32:15.977Z"
   },
   {
    "duration": 207,
    "start_time": "2022-03-20T16:32:17.198Z"
   },
   {
    "duration": 297,
    "start_time": "2022-03-20T16:32:17.406Z"
   },
   {
    "duration": 77,
    "start_time": "2022-03-20T16:32:17.705Z"
   },
   {
    "duration": 22,
    "start_time": "2022-03-20T16:32:17.783Z"
   },
   {
    "duration": 22,
    "start_time": "2022-03-20T16:32:17.806Z"
   },
   {
    "duration": 7,
    "start_time": "2022-03-20T16:32:17.830Z"
   },
   {
    "duration": 46,
    "start_time": "2022-03-20T16:32:17.839Z"
   },
   {
    "duration": 38,
    "start_time": "2022-03-20T16:32:17.887Z"
   },
   {
    "duration": 14,
    "start_time": "2022-03-20T16:32:17.927Z"
   },
   {
    "duration": 51,
    "start_time": "2022-03-20T16:32:17.943Z"
   },
   {
    "duration": 27,
    "start_time": "2022-03-20T16:32:17.995Z"
   },
   {
    "duration": 75,
    "start_time": "2022-03-20T16:32:18.023Z"
   },
   {
    "duration": 142,
    "start_time": "2022-03-20T16:32:18.100Z"
   },
   {
    "duration": 15,
    "start_time": "2022-03-20T16:32:18.243Z"
   },
   {
    "duration": 24,
    "start_time": "2022-03-20T16:32:18.260Z"
   },
   {
    "duration": 108,
    "start_time": "2022-03-20T16:32:18.286Z"
   },
   {
    "duration": 25,
    "start_time": "2022-03-20T16:32:18.395Z"
   },
   {
    "duration": 15,
    "start_time": "2022-03-20T16:32:18.422Z"
   },
   {
    "duration": 69,
    "start_time": "2022-03-20T16:32:18.439Z"
   },
   {
    "duration": 30,
    "start_time": "2022-03-20T16:32:18.510Z"
   },
   {
    "duration": 193,
    "start_time": "2022-03-20T16:32:18.542Z"
   },
   {
    "duration": 87,
    "start_time": "2022-03-20T16:32:18.736Z"
   },
   {
    "duration": 35,
    "start_time": "2022-03-20T16:32:18.825Z"
   },
   {
    "duration": 36,
    "start_time": "2022-03-20T16:32:18.862Z"
   },
   {
    "duration": 241,
    "start_time": "2022-03-20T16:32:18.900Z"
   },
   {
    "duration": 2,
    "start_time": "2022-03-20T16:32:19.143Z"
   },
   {
    "duration": 3,
    "start_time": "2022-03-20T16:32:19.150Z"
   },
   {
    "duration": 4,
    "start_time": "2022-03-20T16:32:19.154Z"
   },
   {
    "duration": 84,
    "start_time": "2022-03-20T16:32:19.160Z"
   },
   {
    "duration": 7,
    "start_time": "2022-03-20T16:32:19.245Z"
   },
   {
    "duration": 7,
    "start_time": "2022-03-20T16:32:19.253Z"
   },
   {
    "duration": 143,
    "start_time": "2022-03-20T16:32:19.280Z"
   },
   {
    "duration": 2,
    "start_time": "2022-03-20T16:32:19.425Z"
   },
   {
    "duration": 21,
    "start_time": "2022-03-20T16:32:19.429Z"
   },
   {
    "duration": 35,
    "start_time": "2022-03-20T16:32:19.452Z"
   },
   {
    "duration": 9,
    "start_time": "2022-03-20T16:32:19.488Z"
   },
   {
    "duration": 10,
    "start_time": "2022-03-20T16:32:19.498Z"
   },
   {
    "duration": 124,
    "start_time": "2022-03-20T16:32:19.509Z"
   },
   {
    "duration": 10,
    "start_time": "2022-03-20T16:32:19.634Z"
   },
   {
    "duration": 111,
    "start_time": "2022-03-20T16:32:19.645Z"
   },
   {
    "duration": 23,
    "start_time": "2022-03-20T16:32:19.759Z"
   },
   {
    "duration": 123,
    "start_time": "2022-03-20T16:32:19.784Z"
   },
   {
    "duration": 9,
    "start_time": "2022-03-20T16:32:19.909Z"
   },
   {
    "duration": 147,
    "start_time": "2022-03-20T16:32:19.920Z"
   },
   {
    "duration": 152,
    "start_time": "2022-03-20T16:32:20.069Z"
   },
   {
    "duration": 17,
    "start_time": "2022-03-20T16:32:20.223Z"
   },
   {
    "duration": 12,
    "start_time": "2022-03-20T16:32:20.242Z"
   },
   {
    "duration": 216,
    "start_time": "2022-03-20T16:32:20.256Z"
   },
   {
    "duration": 16,
    "start_time": "2022-03-20T16:32:20.474Z"
   },
   {
    "duration": 9,
    "start_time": "2022-03-20T16:32:20.492Z"
   },
   {
    "duration": 14,
    "start_time": "2022-03-20T16:32:20.502Z"
   },
   {
    "duration": 7,
    "start_time": "2022-03-20T16:32:20.518Z"
   },
   {
    "duration": 21,
    "start_time": "2022-03-20T16:32:20.526Z"
   },
   {
    "duration": 115,
    "start_time": "2022-03-20T16:32:20.549Z"
   },
   {
    "duration": 0,
    "start_time": "2022-03-20T16:32:20.666Z"
   },
   {
    "duration": 0,
    "start_time": "2022-03-20T16:32:20.667Z"
   },
   {
    "duration": 0,
    "start_time": "2022-03-20T16:32:20.668Z"
   },
   {
    "duration": 0,
    "start_time": "2022-03-20T16:32:20.681Z"
   },
   {
    "duration": 0,
    "start_time": "2022-03-20T16:32:20.682Z"
   },
   {
    "duration": 0,
    "start_time": "2022-03-20T16:32:20.682Z"
   },
   {
    "duration": 4,
    "start_time": "2022-03-20T16:32:30.097Z"
   },
   {
    "duration": 7,
    "start_time": "2022-03-20T16:32:36.823Z"
   },
   {
    "duration": 11,
    "start_time": "2022-03-20T16:32:50.010Z"
   },
   {
    "duration": 10,
    "start_time": "2022-03-20T16:32:50.808Z"
   },
   {
    "duration": 20,
    "start_time": "2022-03-20T16:32:51.570Z"
   },
   {
    "duration": 20,
    "start_time": "2022-03-20T16:32:52.472Z"
   },
   {
    "duration": 17,
    "start_time": "2022-03-20T16:32:53.495Z"
   },
   {
    "duration": 10,
    "start_time": "2022-03-20T16:33:46.552Z"
   },
   {
    "duration": 1095,
    "start_time": "2022-03-20T16:33:59.816Z"
   },
   {
    "duration": 224,
    "start_time": "2022-03-20T16:34:00.915Z"
   },
   {
    "duration": 334,
    "start_time": "2022-03-20T16:34:01.141Z"
   },
   {
    "duration": 62,
    "start_time": "2022-03-20T16:34:01.481Z"
   },
   {
    "duration": 20,
    "start_time": "2022-03-20T16:34:01.544Z"
   },
   {
    "duration": 32,
    "start_time": "2022-03-20T16:34:01.566Z"
   },
   {
    "duration": 8,
    "start_time": "2022-03-20T16:34:01.599Z"
   },
   {
    "duration": 39,
    "start_time": "2022-03-20T16:34:01.609Z"
   },
   {
    "duration": 49,
    "start_time": "2022-03-20T16:34:01.649Z"
   },
   {
    "duration": 15,
    "start_time": "2022-03-20T16:34:01.700Z"
   },
   {
    "duration": 32,
    "start_time": "2022-03-20T16:34:01.716Z"
   },
   {
    "duration": 47,
    "start_time": "2022-03-20T16:34:01.750Z"
   },
   {
    "duration": 63,
    "start_time": "2022-03-20T16:34:01.799Z"
   },
   {
    "duration": 173,
    "start_time": "2022-03-20T16:34:01.863Z"
   },
   {
    "duration": 15,
    "start_time": "2022-03-20T16:34:02.038Z"
   },
   {
    "duration": 27,
    "start_time": "2022-03-20T16:34:02.055Z"
   },
   {
    "duration": 107,
    "start_time": "2022-03-20T16:34:02.083Z"
   },
   {
    "duration": 18,
    "start_time": "2022-03-20T16:34:02.192Z"
   },
   {
    "duration": 15,
    "start_time": "2022-03-20T16:34:02.211Z"
   },
   {
    "duration": 58,
    "start_time": "2022-03-20T16:34:02.228Z"
   },
   {
    "duration": 31,
    "start_time": "2022-03-20T16:34:02.288Z"
   },
   {
    "duration": 198,
    "start_time": "2022-03-20T16:34:02.321Z"
   },
   {
    "duration": 66,
    "start_time": "2022-03-20T16:34:02.521Z"
   },
   {
    "duration": 23,
    "start_time": "2022-03-20T16:34:02.589Z"
   },
   {
    "duration": 13,
    "start_time": "2022-03-20T16:34:02.614Z"
   },
   {
    "duration": 176,
    "start_time": "2022-03-20T16:34:02.629Z"
   },
   {
    "duration": 3,
    "start_time": "2022-03-20T16:34:02.806Z"
   },
   {
    "duration": 3,
    "start_time": "2022-03-20T16:34:02.814Z"
   },
   {
    "duration": 4,
    "start_time": "2022-03-20T16:34:02.819Z"
   },
   {
    "duration": 98,
    "start_time": "2022-03-20T16:34:02.825Z"
   },
   {
    "duration": 6,
    "start_time": "2022-03-20T16:34:02.925Z"
   },
   {
    "duration": 9,
    "start_time": "2022-03-20T16:34:02.933Z"
   },
   {
    "duration": 155,
    "start_time": "2022-03-20T16:34:02.943Z"
   },
   {
    "duration": 2,
    "start_time": "2022-03-20T16:34:03.099Z"
   },
   {
    "duration": 21,
    "start_time": "2022-03-20T16:34:03.103Z"
   },
   {
    "duration": 18,
    "start_time": "2022-03-20T16:34:03.125Z"
   },
   {
    "duration": 11,
    "start_time": "2022-03-20T16:34:03.145Z"
   },
   {
    "duration": 27,
    "start_time": "2022-03-20T16:34:03.157Z"
   },
   {
    "duration": 116,
    "start_time": "2022-03-20T16:34:03.185Z"
   },
   {
    "duration": 9,
    "start_time": "2022-03-20T16:34:03.303Z"
   },
   {
    "duration": 108,
    "start_time": "2022-03-20T16:34:03.313Z"
   },
   {
    "duration": 12,
    "start_time": "2022-03-20T16:34:03.423Z"
   },
   {
    "duration": 136,
    "start_time": "2022-03-20T16:34:03.436Z"
   },
   {
    "duration": 15,
    "start_time": "2022-03-20T16:34:03.574Z"
   },
   {
    "duration": 144,
    "start_time": "2022-03-20T16:34:03.591Z"
   },
   {
    "duration": 152,
    "start_time": "2022-03-20T16:34:03.736Z"
   },
   {
    "duration": 17,
    "start_time": "2022-03-20T16:34:03.890Z"
   },
   {
    "duration": 10,
    "start_time": "2022-03-20T16:34:03.908Z"
   },
   {
    "duration": 218,
    "start_time": "2022-03-20T16:34:03.920Z"
   },
   {
    "duration": 9,
    "start_time": "2022-03-20T16:34:04.140Z"
   },
   {
    "duration": 11,
    "start_time": "2022-03-20T16:34:04.151Z"
   },
   {
    "duration": 25,
    "start_time": "2022-03-20T16:34:04.163Z"
   },
   {
    "duration": 6,
    "start_time": "2022-03-20T16:34:04.190Z"
   },
   {
    "duration": 23,
    "start_time": "2022-03-20T16:34:04.198Z"
   },
   {
    "duration": 3,
    "start_time": "2022-03-20T16:34:04.223Z"
   },
   {
    "duration": 18,
    "start_time": "2022-03-20T16:34:04.227Z"
   },
   {
    "duration": 9,
    "start_time": "2022-03-20T16:34:04.247Z"
   },
   {
    "duration": 40,
    "start_time": "2022-03-20T16:34:04.258Z"
   },
   {
    "duration": 18,
    "start_time": "2022-03-20T16:34:04.300Z"
   },
   {
    "duration": 109,
    "start_time": "2022-03-20T16:34:04.319Z"
   },
   {
    "duration": 16,
    "start_time": "2022-03-20T16:34:10.105Z"
   },
   {
    "duration": 22,
    "start_time": "2022-03-20T16:44:04.203Z"
   },
   {
    "duration": 1126,
    "start_time": "2022-03-20T16:44:31.910Z"
   },
   {
    "duration": 216,
    "start_time": "2022-03-20T16:44:33.038Z"
   },
   {
    "duration": 291,
    "start_time": "2022-03-20T16:44:33.256Z"
   },
   {
    "duration": 64,
    "start_time": "2022-03-20T16:44:33.549Z"
   },
   {
    "duration": 20,
    "start_time": "2022-03-20T16:44:33.615Z"
   },
   {
    "duration": 19,
    "start_time": "2022-03-20T16:44:33.636Z"
   },
   {
    "duration": 17,
    "start_time": "2022-03-20T16:44:33.657Z"
   },
   {
    "duration": 33,
    "start_time": "2022-03-20T16:44:33.681Z"
   },
   {
    "duration": 34,
    "start_time": "2022-03-20T16:44:33.716Z"
   },
   {
    "duration": 31,
    "start_time": "2022-03-20T16:44:33.753Z"
   },
   {
    "duration": 28,
    "start_time": "2022-03-20T16:44:33.786Z"
   },
   {
    "duration": 26,
    "start_time": "2022-03-20T16:44:33.816Z"
   },
   {
    "duration": 76,
    "start_time": "2022-03-20T16:44:33.843Z"
   },
   {
    "duration": 146,
    "start_time": "2022-03-20T16:44:33.921Z"
   },
   {
    "duration": 23,
    "start_time": "2022-03-20T16:44:34.069Z"
   },
   {
    "duration": 16,
    "start_time": "2022-03-20T16:44:34.094Z"
   },
   {
    "duration": 98,
    "start_time": "2022-03-20T16:44:34.112Z"
   },
   {
    "duration": 18,
    "start_time": "2022-03-20T16:44:34.211Z"
   },
   {
    "duration": 14,
    "start_time": "2022-03-20T16:44:34.230Z"
   },
   {
    "duration": 48,
    "start_time": "2022-03-20T16:44:34.246Z"
   },
   {
    "duration": 19,
    "start_time": "2022-03-20T16:44:34.296Z"
   },
   {
    "duration": 121,
    "start_time": "2022-03-20T16:44:34.317Z"
   },
   {
    "duration": 55,
    "start_time": "2022-03-20T16:44:34.439Z"
   },
   {
    "duration": 26,
    "start_time": "2022-03-20T16:44:34.496Z"
   },
   {
    "duration": 14,
    "start_time": "2022-03-20T16:44:34.524Z"
   },
   {
    "duration": 163,
    "start_time": "2022-03-20T16:44:34.540Z"
   },
   {
    "duration": 2,
    "start_time": "2022-03-20T16:44:34.705Z"
   },
   {
    "duration": 3,
    "start_time": "2022-03-20T16:44:34.711Z"
   },
   {
    "duration": 8,
    "start_time": "2022-03-20T16:44:34.715Z"
   },
   {
    "duration": 81,
    "start_time": "2022-03-20T16:44:34.724Z"
   },
   {
    "duration": 7,
    "start_time": "2022-03-20T16:44:34.806Z"
   },
   {
    "duration": 7,
    "start_time": "2022-03-20T16:44:34.815Z"
   },
   {
    "duration": 161,
    "start_time": "2022-03-20T16:44:34.823Z"
   },
   {
    "duration": 2,
    "start_time": "2022-03-20T16:44:34.985Z"
   },
   {
    "duration": 21,
    "start_time": "2022-03-20T16:44:34.989Z"
   },
   {
    "duration": 24,
    "start_time": "2022-03-20T16:44:35.011Z"
   },
   {
    "duration": 10,
    "start_time": "2022-03-20T16:44:35.037Z"
   },
   {
    "duration": 11,
    "start_time": "2022-03-20T16:44:35.048Z"
   },
   {
    "duration": 125,
    "start_time": "2022-03-20T16:44:35.061Z"
   },
   {
    "duration": 9,
    "start_time": "2022-03-20T16:44:35.189Z"
   },
   {
    "duration": 110,
    "start_time": "2022-03-20T16:44:35.199Z"
   },
   {
    "duration": 12,
    "start_time": "2022-03-20T16:44:35.310Z"
   },
   {
    "duration": 136,
    "start_time": "2022-03-20T16:44:35.324Z"
   },
   {
    "duration": 9,
    "start_time": "2022-03-20T16:44:35.462Z"
   },
   {
    "duration": 140,
    "start_time": "2022-03-20T16:44:35.473Z"
   },
   {
    "duration": 153,
    "start_time": "2022-03-20T16:44:35.615Z"
   },
   {
    "duration": 23,
    "start_time": "2022-03-20T16:44:35.769Z"
   },
   {
    "duration": 14,
    "start_time": "2022-03-20T16:44:35.794Z"
   },
   {
    "duration": 214,
    "start_time": "2022-03-20T16:44:35.810Z"
   },
   {
    "duration": 10,
    "start_time": "2022-03-20T16:44:36.025Z"
   },
   {
    "duration": 13,
    "start_time": "2022-03-20T16:44:36.037Z"
   },
   {
    "duration": 12,
    "start_time": "2022-03-20T16:44:36.051Z"
   },
   {
    "duration": 18,
    "start_time": "2022-03-20T16:44:36.065Z"
   },
   {
    "duration": 19,
    "start_time": "2022-03-20T16:44:36.085Z"
   },
   {
    "duration": 4,
    "start_time": "2022-03-20T16:44:36.105Z"
   },
   {
    "duration": 11,
    "start_time": "2022-03-20T16:44:36.110Z"
   },
   {
    "duration": 9,
    "start_time": "2022-03-20T16:44:36.122Z"
   },
   {
    "duration": 17,
    "start_time": "2022-03-20T16:44:36.133Z"
   },
   {
    "duration": 17,
    "start_time": "2022-03-20T16:44:36.181Z"
   },
   {
    "duration": 17,
    "start_time": "2022-03-20T16:44:36.199Z"
   },
   {
    "duration": 1181,
    "start_time": "2022-03-20T16:49:17.467Z"
   },
   {
    "duration": 207,
    "start_time": "2022-03-20T16:49:18.650Z"
   },
   {
    "duration": 298,
    "start_time": "2022-03-20T16:49:18.859Z"
   },
   {
    "duration": 65,
    "start_time": "2022-03-20T16:49:19.159Z"
   },
   {
    "duration": 20,
    "start_time": "2022-03-20T16:49:19.226Z"
   },
   {
    "duration": 34,
    "start_time": "2022-03-20T16:49:19.247Z"
   },
   {
    "duration": 9,
    "start_time": "2022-03-20T16:49:19.283Z"
   },
   {
    "duration": 33,
    "start_time": "2022-03-20T16:49:19.294Z"
   },
   {
    "duration": 36,
    "start_time": "2022-03-20T16:49:19.328Z"
   },
   {
    "duration": 16,
    "start_time": "2022-03-20T16:49:19.382Z"
   },
   {
    "duration": 28,
    "start_time": "2022-03-20T16:49:19.399Z"
   },
   {
    "duration": 25,
    "start_time": "2022-03-20T16:49:19.429Z"
   },
   {
    "duration": 62,
    "start_time": "2022-03-20T16:49:19.480Z"
   },
   {
    "duration": 152,
    "start_time": "2022-03-20T16:49:19.543Z"
   },
   {
    "duration": 14,
    "start_time": "2022-03-20T16:49:19.697Z"
   },
   {
    "duration": 10,
    "start_time": "2022-03-20T16:49:19.713Z"
   },
   {
    "duration": 102,
    "start_time": "2022-03-20T16:49:19.725Z"
   },
   {
    "duration": 18,
    "start_time": "2022-03-20T16:49:19.828Z"
   },
   {
    "duration": 42,
    "start_time": "2022-03-20T16:49:19.848Z"
   },
   {
    "duration": 27,
    "start_time": "2022-03-20T16:49:19.891Z"
   },
   {
    "duration": 21,
    "start_time": "2022-03-20T16:49:19.919Z"
   },
   {
    "duration": 135,
    "start_time": "2022-03-20T16:49:19.942Z"
   },
   {
    "duration": 55,
    "start_time": "2022-03-20T16:49:20.078Z"
   },
   {
    "duration": 46,
    "start_time": "2022-03-20T16:49:20.135Z"
   },
   {
    "duration": 16,
    "start_time": "2022-03-20T16:49:20.183Z"
   },
   {
    "duration": 158,
    "start_time": "2022-03-20T16:49:20.200Z"
   },
   {
    "duration": 2,
    "start_time": "2022-03-20T16:49:20.360Z"
   },
   {
    "duration": 15,
    "start_time": "2022-03-20T16:49:20.366Z"
   },
   {
    "duration": 7,
    "start_time": "2022-03-20T16:49:20.382Z"
   },
   {
    "duration": 80,
    "start_time": "2022-03-20T16:49:20.391Z"
   },
   {
    "duration": 12,
    "start_time": "2022-03-20T16:49:20.473Z"
   },
   {
    "duration": 11,
    "start_time": "2022-03-20T16:49:20.486Z"
   },
   {
    "duration": 154,
    "start_time": "2022-03-20T16:49:20.499Z"
   },
   {
    "duration": 2,
    "start_time": "2022-03-20T16:49:20.654Z"
   },
   {
    "duration": 28,
    "start_time": "2022-03-20T16:49:20.658Z"
   },
   {
    "duration": 21,
    "start_time": "2022-03-20T16:49:20.688Z"
   },
   {
    "duration": 9,
    "start_time": "2022-03-20T16:49:20.711Z"
   },
   {
    "duration": 9,
    "start_time": "2022-03-20T16:49:20.722Z"
   },
   {
    "duration": 124,
    "start_time": "2022-03-20T16:49:20.732Z"
   },
   {
    "duration": 9,
    "start_time": "2022-03-20T16:49:20.858Z"
   },
   {
    "duration": 105,
    "start_time": "2022-03-20T16:49:20.880Z"
   },
   {
    "duration": 12,
    "start_time": "2022-03-20T16:49:20.987Z"
   },
   {
    "duration": 133,
    "start_time": "2022-03-20T16:49:21.001Z"
   },
   {
    "duration": 9,
    "start_time": "2022-03-20T16:49:21.136Z"
   },
   {
    "duration": 141,
    "start_time": "2022-03-20T16:49:21.146Z"
   },
   {
    "duration": 158,
    "start_time": "2022-03-20T16:49:21.289Z"
   },
   {
    "duration": 18,
    "start_time": "2022-03-20T16:49:21.449Z"
   },
   {
    "duration": 19,
    "start_time": "2022-03-20T16:49:21.469Z"
   },
   {
    "duration": 221,
    "start_time": "2022-03-20T16:49:21.489Z"
   },
   {
    "duration": 10,
    "start_time": "2022-03-20T16:49:21.711Z"
   },
   {
    "duration": 17,
    "start_time": "2022-03-20T16:49:21.722Z"
   },
   {
    "duration": 12,
    "start_time": "2022-03-20T16:49:21.741Z"
   },
   {
    "duration": 6,
    "start_time": "2022-03-20T16:49:21.754Z"
   },
   {
    "duration": 17,
    "start_time": "2022-03-20T16:49:21.781Z"
   },
   {
    "duration": 7,
    "start_time": "2022-03-20T16:49:21.800Z"
   },
   {
    "duration": 12,
    "start_time": "2022-03-20T16:49:21.808Z"
   },
   {
    "duration": 19,
    "start_time": "2022-03-20T16:49:21.821Z"
   },
   {
    "duration": 40,
    "start_time": "2022-03-20T16:49:21.841Z"
   },
   {
    "duration": 13,
    "start_time": "2022-03-20T16:49:21.882Z"
   },
   {
    "duration": 17,
    "start_time": "2022-03-20T16:49:21.896Z"
   },
   {
    "duration": 1168,
    "start_time": "2022-03-20T16:50:18.546Z"
   },
   {
    "duration": 217,
    "start_time": "2022-03-20T16:50:19.717Z"
   },
   {
    "duration": 316,
    "start_time": "2022-03-20T16:50:19.935Z"
   },
   {
    "duration": 69,
    "start_time": "2022-03-20T16:50:20.253Z"
   },
   {
    "duration": 21,
    "start_time": "2022-03-20T16:50:20.323Z"
   },
   {
    "duration": 20,
    "start_time": "2022-03-20T16:50:20.345Z"
   },
   {
    "duration": 22,
    "start_time": "2022-03-20T16:50:20.366Z"
   },
   {
    "duration": 39,
    "start_time": "2022-03-20T16:50:20.389Z"
   },
   {
    "duration": 36,
    "start_time": "2022-03-20T16:50:20.429Z"
   },
   {
    "duration": 14,
    "start_time": "2022-03-20T16:50:20.480Z"
   },
   {
    "duration": 28,
    "start_time": "2022-03-20T16:50:20.496Z"
   },
   {
    "duration": 26,
    "start_time": "2022-03-20T16:50:20.526Z"
   },
   {
    "duration": 82,
    "start_time": "2022-03-20T16:50:20.554Z"
   },
   {
    "duration": 154,
    "start_time": "2022-03-20T16:50:20.638Z"
   },
   {
    "duration": 15,
    "start_time": "2022-03-20T16:50:20.794Z"
   },
   {
    "duration": 12,
    "start_time": "2022-03-20T16:50:20.810Z"
   },
   {
    "duration": 103,
    "start_time": "2022-03-20T16:50:20.824Z"
   },
   {
    "duration": 19,
    "start_time": "2022-03-20T16:50:20.929Z"
   },
   {
    "duration": 42,
    "start_time": "2022-03-20T16:50:20.950Z"
   },
   {
    "duration": 28,
    "start_time": "2022-03-20T16:50:20.993Z"
   },
   {
    "duration": 22,
    "start_time": "2022-03-20T16:50:21.023Z"
   },
   {
    "duration": 135,
    "start_time": "2022-03-20T16:50:21.047Z"
   },
   {
    "duration": 52,
    "start_time": "2022-03-20T16:50:21.184Z"
   },
   {
    "duration": 43,
    "start_time": "2022-03-20T16:50:21.238Z"
   },
   {
    "duration": 16,
    "start_time": "2022-03-20T16:50:21.282Z"
   },
   {
    "duration": 152,
    "start_time": "2022-03-20T16:50:21.299Z"
   },
   {
    "duration": 3,
    "start_time": "2022-03-20T16:50:21.452Z"
   },
   {
    "duration": 4,
    "start_time": "2022-03-20T16:50:21.460Z"
   },
   {
    "duration": 4,
    "start_time": "2022-03-20T16:50:21.466Z"
   },
   {
    "duration": 73,
    "start_time": "2022-03-20T16:50:21.480Z"
   },
   {
    "duration": 7,
    "start_time": "2022-03-20T16:50:21.554Z"
   },
   {
    "duration": 8,
    "start_time": "2022-03-20T16:50:21.580Z"
   },
   {
    "duration": 147,
    "start_time": "2022-03-20T16:50:21.589Z"
   },
   {
    "duration": 2,
    "start_time": "2022-03-20T16:50:21.738Z"
   },
   {
    "duration": 20,
    "start_time": "2022-03-20T16:50:21.741Z"
   },
   {
    "duration": 31,
    "start_time": "2022-03-20T16:50:21.762Z"
   },
   {
    "duration": 9,
    "start_time": "2022-03-20T16:50:21.794Z"
   },
   {
    "duration": 9,
    "start_time": "2022-03-20T16:50:21.805Z"
   },
   {
    "duration": 127,
    "start_time": "2022-03-20T16:50:21.816Z"
   },
   {
    "duration": 9,
    "start_time": "2022-03-20T16:50:21.945Z"
   },
   {
    "duration": 110,
    "start_time": "2022-03-20T16:50:21.955Z"
   },
   {
    "duration": 23,
    "start_time": "2022-03-20T16:50:22.067Z"
   },
   {
    "duration": 134,
    "start_time": "2022-03-20T16:50:22.092Z"
   },
   {
    "duration": 10,
    "start_time": "2022-03-20T16:50:22.227Z"
   },
   {
    "duration": 161,
    "start_time": "2022-03-20T16:50:22.239Z"
   },
   {
    "duration": 163,
    "start_time": "2022-03-20T16:50:22.402Z"
   },
   {
    "duration": 25,
    "start_time": "2022-03-20T16:50:22.567Z"
   },
   {
    "duration": 10,
    "start_time": "2022-03-20T16:50:22.594Z"
   },
   {
    "duration": 233,
    "start_time": "2022-03-20T16:50:22.605Z"
   },
   {
    "duration": 10,
    "start_time": "2022-03-20T16:50:22.839Z"
   },
   {
    "duration": 18,
    "start_time": "2022-03-20T16:50:22.851Z"
   },
   {
    "duration": 19,
    "start_time": "2022-03-20T16:50:22.871Z"
   },
   {
    "duration": 7,
    "start_time": "2022-03-20T16:50:22.892Z"
   },
   {
    "duration": 21,
    "start_time": "2022-03-20T16:50:22.901Z"
   },
   {
    "duration": 3,
    "start_time": "2022-03-20T16:50:22.924Z"
   },
   {
    "duration": 13,
    "start_time": "2022-03-20T16:50:22.929Z"
   },
   {
    "duration": 41,
    "start_time": "2022-03-20T16:50:22.944Z"
   },
   {
    "duration": 19,
    "start_time": "2022-03-20T16:50:22.986Z"
   },
   {
    "duration": 13,
    "start_time": "2022-03-20T16:50:23.006Z"
   },
   {
    "duration": 18,
    "start_time": "2022-03-20T16:50:23.020Z"
   },
   {
    "duration": 21,
    "start_time": "2022-03-20T16:51:34.510Z"
   },
   {
    "duration": 15,
    "start_time": "2022-03-20T16:51:38.557Z"
   },
   {
    "duration": 20,
    "start_time": "2022-03-20T16:51:41.477Z"
   },
   {
    "duration": 23,
    "start_time": "2022-03-20T17:09:58.866Z"
   },
   {
    "duration": 407,
    "start_time": "2022-03-20T17:11:00.804Z"
   },
   {
    "duration": 31,
    "start_time": "2022-03-20T17:16:45.916Z"
   },
   {
    "duration": 21,
    "start_time": "2022-03-20T17:17:42.580Z"
   },
   {
    "duration": 360,
    "start_time": "2022-03-20T17:25:09.005Z"
   },
   {
    "duration": 91,
    "start_time": "2022-03-20T17:26:35.942Z"
   },
   {
    "duration": 341,
    "start_time": "2022-03-20T17:27:23.452Z"
   },
   {
    "duration": 189,
    "start_time": "2022-03-20T17:30:38.856Z"
   },
   {
    "duration": 7,
    "start_time": "2022-03-20T17:37:07.610Z"
   },
   {
    "duration": 7,
    "start_time": "2022-03-20T17:38:12.331Z"
   },
   {
    "duration": 10,
    "start_time": "2022-03-20T17:38:19.689Z"
   },
   {
    "duration": 283,
    "start_time": "2022-03-20T17:42:32.876Z"
   },
   {
    "duration": 8,
    "start_time": "2022-03-20T17:58:44.953Z"
   },
   {
    "duration": 14,
    "start_time": "2022-03-20T17:58:51.298Z"
   },
   {
    "duration": 16,
    "start_time": "2022-03-20T18:33:00.778Z"
   },
   {
    "duration": 3,
    "start_time": "2022-03-20T18:33:35.135Z"
   },
   {
    "duration": 12,
    "start_time": "2022-03-20T18:34:10.891Z"
   },
   {
    "duration": 3,
    "start_time": "2022-03-20T18:34:13.791Z"
   },
   {
    "duration": 10,
    "start_time": "2022-03-20T18:34:14.276Z"
   },
   {
    "duration": 10,
    "start_time": "2022-03-20T18:34:43.019Z"
   },
   {
    "duration": 3,
    "start_time": "2022-03-20T18:35:50.454Z"
   },
   {
    "duration": 12,
    "start_time": "2022-03-20T18:35:51.207Z"
   },
   {
    "duration": 3,
    "start_time": "2022-03-20T18:36:18.151Z"
   },
   {
    "duration": 31,
    "start_time": "2022-03-20T18:36:19.511Z"
   },
   {
    "duration": 3,
    "start_time": "2022-03-20T18:37:23.673Z"
   },
   {
    "duration": 10,
    "start_time": "2022-03-20T18:37:24.214Z"
   },
   {
    "duration": 10,
    "start_time": "2022-03-20T18:37:40.515Z"
   },
   {
    "duration": 11,
    "start_time": "2022-03-20T18:37:49.053Z"
   },
   {
    "duration": 3,
    "start_time": "2022-03-20T18:38:02.373Z"
   },
   {
    "duration": 11,
    "start_time": "2022-03-20T18:38:02.744Z"
   },
   {
    "duration": 3,
    "start_time": "2022-03-20T18:47:08.629Z"
   },
   {
    "duration": 12,
    "start_time": "2022-03-20T18:47:09.013Z"
   },
   {
    "duration": 3,
    "start_time": "2022-03-20T18:51:27.328Z"
   },
   {
    "duration": 11,
    "start_time": "2022-03-20T18:51:28.238Z"
   },
   {
    "duration": 3,
    "start_time": "2022-03-20T18:51:33.291Z"
   },
   {
    "duration": 10,
    "start_time": "2022-03-20T18:51:34.078Z"
   },
   {
    "duration": 2,
    "start_time": "2022-03-20T18:54:55.030Z"
   },
   {
    "duration": 29,
    "start_time": "2022-03-20T18:54:55.502Z"
   },
   {
    "duration": 3,
    "start_time": "2022-03-20T18:55:18.635Z"
   },
   {
    "duration": 29,
    "start_time": "2022-03-20T18:55:20.006Z"
   },
   {
    "duration": 3,
    "start_time": "2022-03-20T18:55:41.650Z"
   },
   {
    "duration": 29,
    "start_time": "2022-03-20T18:55:42.101Z"
   },
   {
    "duration": 3,
    "start_time": "2022-03-20T18:55:49.719Z"
   },
   {
    "duration": 8,
    "start_time": "2022-03-20T18:55:51.070Z"
   },
   {
    "duration": 3,
    "start_time": "2022-03-20T18:56:01.226Z"
   },
   {
    "duration": 30,
    "start_time": "2022-03-20T18:56:02.013Z"
   },
   {
    "duration": 2,
    "start_time": "2022-03-20T18:57:27.134Z"
   },
   {
    "duration": 13,
    "start_time": "2022-03-20T18:57:29.632Z"
   },
   {
    "duration": 2,
    "start_time": "2022-03-20T18:57:57.565Z"
   },
   {
    "duration": 11,
    "start_time": "2022-03-20T18:57:59.691Z"
   },
   {
    "duration": 3,
    "start_time": "2022-03-20T18:58:34.557Z"
   },
   {
    "duration": 11,
    "start_time": "2022-03-20T18:58:36.264Z"
   },
   {
    "duration": 3,
    "start_time": "2022-03-20T18:58:52.748Z"
   },
   {
    "duration": 12,
    "start_time": "2022-03-20T18:58:54.996Z"
   },
   {
    "duration": 174,
    "start_time": "2022-03-20T19:03:31.922Z"
   },
   {
    "duration": 169,
    "start_time": "2022-03-20T19:03:41.373Z"
   },
   {
    "duration": 3,
    "start_time": "2022-03-20T19:03:46.113Z"
   },
   {
    "duration": 16,
    "start_time": "2022-03-20T19:03:48.324Z"
   },
   {
    "duration": 3,
    "start_time": "2022-03-20T19:05:00.844Z"
   },
   {
    "duration": 13,
    "start_time": "2022-03-20T19:05:03.117Z"
   },
   {
    "duration": 3,
    "start_time": "2022-03-20T19:05:11.232Z"
   },
   {
    "duration": 18,
    "start_time": "2022-03-20T19:05:14.333Z"
   },
   {
    "duration": 3,
    "start_time": "2022-03-20T19:05:32.445Z"
   },
   {
    "duration": 3,
    "start_time": "2022-03-20T19:05:41.783Z"
   },
   {
    "duration": 11,
    "start_time": "2022-03-20T19:05:43.335Z"
   },
   {
    "duration": 8,
    "start_time": "2022-03-20T19:06:07.153Z"
   },
   {
    "duration": 2,
    "start_time": "2022-03-20T19:06:22.982Z"
   },
   {
    "duration": 14,
    "start_time": "2022-03-20T19:06:25.245Z"
   },
   {
    "duration": 3,
    "start_time": "2022-03-20T19:07:04.104Z"
   },
   {
    "duration": 14,
    "start_time": "2022-03-20T19:07:06.363Z"
   },
   {
    "duration": 3,
    "start_time": "2022-03-20T19:07:18.964Z"
   },
   {
    "duration": 11,
    "start_time": "2022-03-20T19:07:21.472Z"
   },
   {
    "duration": 3,
    "start_time": "2022-03-20T19:07:30.167Z"
   },
   {
    "duration": 11,
    "start_time": "2022-03-20T19:07:32.521Z"
   },
   {
    "duration": 2,
    "start_time": "2022-03-20T19:08:50.519Z"
   },
   {
    "duration": 28,
    "start_time": "2022-03-20T19:08:51.011Z"
   },
   {
    "duration": 3,
    "start_time": "2022-03-20T19:08:59.869Z"
   },
   {
    "duration": 36,
    "start_time": "2022-03-20T19:09:00.430Z"
   },
   {
    "duration": 3,
    "start_time": "2022-03-20T19:09:18.620Z"
   },
   {
    "duration": 27,
    "start_time": "2022-03-20T19:09:19.084Z"
   },
   {
    "duration": 2,
    "start_time": "2022-03-20T19:09:30.883Z"
   },
   {
    "duration": 29,
    "start_time": "2022-03-20T19:09:31.303Z"
   },
   {
    "duration": 3,
    "start_time": "2022-03-20T19:09:53.541Z"
   },
   {
    "duration": 31,
    "start_time": "2022-03-20T19:09:55.070Z"
   },
   {
    "duration": 159,
    "start_time": "2022-03-20T19:10:38.463Z"
   },
   {
    "duration": 200,
    "start_time": "2022-03-20T19:10:46.830Z"
   },
   {
    "duration": 155,
    "start_time": "2022-03-20T19:10:51.548Z"
   },
   {
    "duration": 16,
    "start_time": "2022-03-20T19:11:02.202Z"
   },
   {
    "duration": 3,
    "start_time": "2022-03-20T19:11:26.099Z"
   },
   {
    "duration": 29,
    "start_time": "2022-03-20T19:11:26.682Z"
   },
   {
    "duration": 3,
    "start_time": "2022-03-20T19:11:48.158Z"
   },
   {
    "duration": 30,
    "start_time": "2022-03-20T19:11:48.812Z"
   },
   {
    "duration": 3,
    "start_time": "2022-03-20T19:12:11.818Z"
   },
   {
    "duration": 27,
    "start_time": "2022-03-20T19:12:12.190Z"
   },
   {
    "duration": 12,
    "start_time": "2022-03-20T19:12:48.921Z"
   },
   {
    "duration": 4,
    "start_time": "2022-03-20T19:12:58.023Z"
   },
   {
    "duration": 11,
    "start_time": "2022-03-20T19:13:07.305Z"
   },
   {
    "duration": 9,
    "start_time": "2022-03-20T19:13:20.141Z"
   },
   {
    "duration": 174,
    "start_time": "2022-03-20T19:13:29.258Z"
   },
   {
    "duration": 9,
    "start_time": "2022-03-20T19:13:36.768Z"
   },
   {
    "duration": 27,
    "start_time": "2022-03-20T19:14:12.895Z"
   },
   {
    "duration": 28,
    "start_time": "2022-03-20T19:14:35.204Z"
   },
   {
    "duration": 2,
    "start_time": "2022-03-20T19:16:50.847Z"
   },
   {
    "duration": 10,
    "start_time": "2022-03-20T19:16:53.998Z"
   },
   {
    "duration": 3,
    "start_time": "2022-03-20T19:17:12.514Z"
   },
   {
    "duration": 11,
    "start_time": "2022-03-20T19:17:15.205Z"
   },
   {
    "duration": 9,
    "start_time": "2022-03-20T19:17:47.841Z"
   },
   {
    "duration": 3,
    "start_time": "2022-03-20T19:18:08.700Z"
   },
   {
    "duration": 11,
    "start_time": "2022-03-20T19:18:17.922Z"
   },
   {
    "duration": 3,
    "start_time": "2022-03-20T19:18:37.510Z"
   },
   {
    "duration": 8,
    "start_time": "2022-03-20T19:18:40.178Z"
   },
   {
    "duration": 3,
    "start_time": "2022-03-20T19:19:04.555Z"
   },
   {
    "duration": 6,
    "start_time": "2022-03-20T19:19:07.582Z"
   },
   {
    "duration": 3,
    "start_time": "2022-03-20T19:19:51.492Z"
   },
   {
    "duration": 11,
    "start_time": "2022-03-20T19:19:53.428Z"
   },
   {
    "duration": 3,
    "start_time": "2022-03-20T19:20:18.031Z"
   },
   {
    "duration": 5,
    "start_time": "2022-03-20T19:20:19.685Z"
   },
   {
    "duration": 3,
    "start_time": "2022-03-20T19:21:48.202Z"
   },
   {
    "duration": 10,
    "start_time": "2022-03-20T19:21:50.587Z"
   },
   {
    "duration": 3,
    "start_time": "2022-03-20T19:22:05.932Z"
   },
   {
    "duration": 4,
    "start_time": "2022-03-20T19:22:08.093Z"
   },
   {
    "duration": 3,
    "start_time": "2022-03-20T19:22:19.051Z"
   },
   {
    "duration": 10,
    "start_time": "2022-03-20T19:22:21.671Z"
   },
   {
    "duration": 3,
    "start_time": "2022-03-20T19:40:56.087Z"
   },
   {
    "duration": 12,
    "start_time": "2022-03-20T19:40:57.595Z"
   },
   {
    "duration": 4,
    "start_time": "2022-03-20T19:41:03.376Z"
   },
   {
    "duration": 13,
    "start_time": "2022-03-20T19:41:03.982Z"
   },
   {
    "duration": 4,
    "start_time": "2022-03-20T19:41:22.513Z"
   },
   {
    "duration": 12,
    "start_time": "2022-03-20T19:41:22.928Z"
   },
   {
    "duration": 3,
    "start_time": "2022-03-20T19:41:26.956Z"
   },
   {
    "duration": 8,
    "start_time": "2022-03-20T19:41:27.214Z"
   },
   {
    "duration": 4,
    "start_time": "2022-03-20T19:41:45.274Z"
   },
   {
    "duration": 5,
    "start_time": "2022-03-20T19:41:49.201Z"
   },
   {
    "duration": 7,
    "start_time": "2022-03-20T19:41:50.941Z"
   },
   {
    "duration": 6,
    "start_time": "2022-03-20T19:42:10.068Z"
   },
   {
    "duration": 6,
    "start_time": "2022-03-20T19:42:57.500Z"
   },
   {
    "duration": 6,
    "start_time": "2022-03-20T19:44:07.240Z"
   },
   {
    "duration": 4,
    "start_time": "2022-03-20T19:49:05.957Z"
   },
   {
    "duration": 5,
    "start_time": "2022-03-20T19:49:06.477Z"
   },
   {
    "duration": 6,
    "start_time": "2022-03-20T19:49:06.955Z"
   },
   {
    "duration": 6,
    "start_time": "2022-03-20T19:49:07.373Z"
   },
   {
    "duration": 5,
    "start_time": "2022-03-20T19:49:07.901Z"
   },
   {
    "duration": 4,
    "start_time": "2022-03-20T19:49:45.567Z"
   },
   {
    "duration": 18,
    "start_time": "2022-03-20T19:49:46.074Z"
   },
   {
    "duration": 4,
    "start_time": "2022-03-20T19:50:01.318Z"
   },
   {
    "duration": 6,
    "start_time": "2022-03-20T19:50:01.847Z"
   },
   {
    "duration": 6,
    "start_time": "2022-03-20T19:50:02.769Z"
   },
   {
    "duration": 8,
    "start_time": "2022-03-20T19:50:03.342Z"
   },
   {
    "duration": 8,
    "start_time": "2022-03-20T19:50:03.860Z"
   },
   {
    "duration": 4,
    "start_time": "2022-03-20T19:50:26.879Z"
   },
   {
    "duration": 7,
    "start_time": "2022-03-20T19:50:27.282Z"
   },
   {
    "duration": 6,
    "start_time": "2022-03-20T19:50:27.845Z"
   },
   {
    "duration": 6,
    "start_time": "2022-03-20T19:50:28.396Z"
   },
   {
    "duration": 6,
    "start_time": "2022-03-20T19:50:29.071Z"
   },
   {
    "duration": 7,
    "start_time": "2022-03-20T19:52:14.488Z"
   },
   {
    "duration": 5,
    "start_time": "2022-03-20T19:53:24.903Z"
   },
   {
    "duration": 17,
    "start_time": "2022-03-20T19:53:25.419Z"
   },
   {
    "duration": 8,
    "start_time": "2022-03-20T19:53:28.625Z"
   },
   {
    "duration": 7,
    "start_time": "2022-03-20T19:53:31.472Z"
   },
   {
    "duration": 5,
    "start_time": "2022-03-20T19:53:32.102Z"
   },
   {
    "duration": 7,
    "start_time": "2022-03-20T19:54:14.100Z"
   },
   {
    "duration": 7,
    "start_time": "2022-03-20T19:54:31.358Z"
   },
   {
    "duration": 6,
    "start_time": "2022-03-20T19:54:47.457Z"
   },
   {
    "duration": 1187,
    "start_time": "2022-03-20T19:55:13.680Z"
   },
   {
    "duration": 224,
    "start_time": "2022-03-20T19:55:14.869Z"
   },
   {
    "duration": 464,
    "start_time": "2022-03-20T19:55:15.095Z"
   },
   {
    "duration": 90,
    "start_time": "2022-03-20T19:55:15.562Z"
   },
   {
    "duration": 21,
    "start_time": "2022-03-20T19:55:15.654Z"
   },
   {
    "duration": 33,
    "start_time": "2022-03-20T19:55:15.676Z"
   },
   {
    "duration": 9,
    "start_time": "2022-03-20T19:55:15.711Z"
   },
   {
    "duration": 34,
    "start_time": "2022-03-20T19:55:15.722Z"
   },
   {
    "duration": 58,
    "start_time": "2022-03-20T19:55:15.758Z"
   },
   {
    "duration": 13,
    "start_time": "2022-03-20T19:55:15.819Z"
   },
   {
    "duration": 57,
    "start_time": "2022-03-20T19:55:15.833Z"
   },
   {
    "duration": 27,
    "start_time": "2022-03-20T19:55:15.892Z"
   },
   {
    "duration": 77,
    "start_time": "2022-03-20T19:55:15.920Z"
   },
   {
    "duration": 170,
    "start_time": "2022-03-20T19:55:15.999Z"
   },
   {
    "duration": 21,
    "start_time": "2022-03-20T19:55:16.171Z"
   },
   {
    "duration": 14,
    "start_time": "2022-03-20T19:55:16.193Z"
   },
   {
    "duration": 129,
    "start_time": "2022-03-20T19:55:16.210Z"
   },
   {
    "duration": 48,
    "start_time": "2022-03-20T19:55:16.341Z"
   },
   {
    "duration": 15,
    "start_time": "2022-03-20T19:55:16.391Z"
   },
   {
    "duration": 42,
    "start_time": "2022-03-20T19:55:16.408Z"
   },
   {
    "duration": 52,
    "start_time": "2022-03-20T19:55:16.452Z"
   },
   {
    "duration": 178,
    "start_time": "2022-03-20T19:55:16.506Z"
   },
   {
    "duration": 80,
    "start_time": "2022-03-20T19:55:16.686Z"
   },
   {
    "duration": 35,
    "start_time": "2022-03-20T19:55:16.768Z"
   },
   {
    "duration": 23,
    "start_time": "2022-03-20T19:55:16.805Z"
   },
   {
    "duration": 264,
    "start_time": "2022-03-20T19:55:16.829Z"
   },
   {
    "duration": 3,
    "start_time": "2022-03-20T19:55:17.095Z"
   },
   {
    "duration": 2,
    "start_time": "2022-03-20T19:55:17.104Z"
   },
   {
    "duration": 5,
    "start_time": "2022-03-20T19:55:17.109Z"
   },
   {
    "duration": 94,
    "start_time": "2022-03-20T19:55:17.115Z"
   },
   {
    "duration": 8,
    "start_time": "2022-03-20T19:55:17.211Z"
   },
   {
    "duration": 13,
    "start_time": "2022-03-20T19:55:17.221Z"
   },
   {
    "duration": 240,
    "start_time": "2022-03-20T19:55:17.236Z"
   },
   {
    "duration": 2,
    "start_time": "2022-03-20T19:55:17.481Z"
   },
   {
    "duration": 21,
    "start_time": "2022-03-20T19:55:17.485Z"
   },
   {
    "duration": 30,
    "start_time": "2022-03-20T19:55:17.507Z"
   },
   {
    "duration": 13,
    "start_time": "2022-03-20T19:55:17.538Z"
   },
   {
    "duration": 39,
    "start_time": "2022-03-20T19:55:17.553Z"
   },
   {
    "duration": 178,
    "start_time": "2022-03-20T19:55:17.594Z"
   },
   {
    "duration": 19,
    "start_time": "2022-03-20T19:55:17.774Z"
   },
   {
    "duration": 171,
    "start_time": "2022-03-20T19:55:17.796Z"
   },
   {
    "duration": 20,
    "start_time": "2022-03-20T19:55:17.970Z"
   },
   {
    "duration": 132,
    "start_time": "2022-03-20T19:55:17.991Z"
   },
   {
    "duration": 10,
    "start_time": "2022-03-20T19:55:18.125Z"
   },
   {
    "duration": 159,
    "start_time": "2022-03-20T19:55:18.137Z"
   },
   {
    "duration": 245,
    "start_time": "2022-03-20T19:55:18.298Z"
   },
   {
    "duration": 40,
    "start_time": "2022-03-20T19:55:18.545Z"
   },
   {
    "duration": 13,
    "start_time": "2022-03-20T19:55:18.587Z"
   },
   {
    "duration": 336,
    "start_time": "2022-03-20T19:55:18.601Z"
   },
   {
    "duration": 13,
    "start_time": "2022-03-20T19:55:18.938Z"
   },
   {
    "duration": 12,
    "start_time": "2022-03-20T19:55:18.953Z"
   },
   {
    "duration": 16,
    "start_time": "2022-03-20T19:55:18.981Z"
   },
   {
    "duration": 8,
    "start_time": "2022-03-20T19:55:18.999Z"
   },
   {
    "duration": 28,
    "start_time": "2022-03-20T19:55:19.009Z"
   },
   {
    "duration": 4,
    "start_time": "2022-03-20T19:55:19.039Z"
   },
   {
    "duration": 43,
    "start_time": "2022-03-20T19:55:19.044Z"
   },
   {
    "duration": 20,
    "start_time": "2022-03-20T19:55:19.088Z"
   },
   {
    "duration": 20,
    "start_time": "2022-03-20T19:55:19.109Z"
   },
   {
    "duration": 14,
    "start_time": "2022-03-20T19:55:19.130Z"
   },
   {
    "duration": 60,
    "start_time": "2022-03-20T19:55:19.146Z"
   },
   {
    "duration": 30,
    "start_time": "2022-03-20T19:55:19.208Z"
   },
   {
    "duration": 47,
    "start_time": "2022-03-20T19:55:19.240Z"
   },
   {
    "duration": 305,
    "start_time": "2022-03-20T19:55:19.289Z"
   },
   {
    "duration": 451,
    "start_time": "2022-03-20T19:55:19.596Z"
   },
   {
    "duration": 7,
    "start_time": "2022-03-20T19:55:20.049Z"
   },
   {
    "duration": 24,
    "start_time": "2022-03-20T19:55:20.058Z"
   },
   {
    "duration": 17,
    "start_time": "2022-03-20T19:55:20.083Z"
   },
   {
    "duration": 5,
    "start_time": "2022-03-20T19:55:20.101Z"
   },
   {
    "duration": 8,
    "start_time": "2022-03-20T19:55:20.107Z"
   },
   {
    "duration": 8,
    "start_time": "2022-03-20T19:55:20.116Z"
   },
   {
    "duration": 8,
    "start_time": "2022-03-20T19:55:20.125Z"
   },
   {
    "duration": 8,
    "start_time": "2022-03-20T19:55:20.135Z"
   },
   {
    "duration": 4,
    "start_time": "2022-03-20T19:58:40.858Z"
   },
   {
    "duration": 4,
    "start_time": "2022-03-20T19:58:55.111Z"
   },
   {
    "duration": 7,
    "start_time": "2022-03-20T19:58:55.494Z"
   },
   {
    "duration": 6,
    "start_time": "2022-03-20T19:58:56.226Z"
   },
   {
    "duration": 6,
    "start_time": "2022-03-20T19:58:56.698Z"
   },
   {
    "duration": 9,
    "start_time": "2022-03-20T20:01:51.415Z"
   },
   {
    "duration": 4,
    "start_time": "2022-03-20T20:03:54.965Z"
   },
   {
    "duration": 20,
    "start_time": "2022-03-20T20:07:43.591Z"
   },
   {
    "duration": 14,
    "start_time": "2022-03-20T20:08:06.171Z"
   },
   {
    "duration": 20,
    "start_time": "2022-03-20T20:08:12.186Z"
   },
   {
    "duration": 2999,
    "start_time": "2022-03-20T20:08:16.522Z"
   },
   {
    "duration": 4,
    "start_time": "2022-03-20T20:08:38.977Z"
   },
   {
    "duration": 4,
    "start_time": "2022-03-20T20:08:47.358Z"
   },
   {
    "duration": 13,
    "start_time": "2022-03-20T20:09:39.683Z"
   },
   {
    "duration": 14,
    "start_time": "2022-03-20T20:09:51.903Z"
   },
   {
    "duration": 16,
    "start_time": "2022-03-20T20:10:01.947Z"
   },
   {
    "duration": 16,
    "start_time": "2022-03-20T20:10:18.541Z"
   },
   {
    "duration": 4,
    "start_time": "2022-03-20T20:10:41.638Z"
   },
   {
    "duration": 4,
    "start_time": "2022-03-20T20:10:56.063Z"
   },
   {
    "duration": 16,
    "start_time": "2022-03-20T20:11:06.006Z"
   },
   {
    "duration": 4,
    "start_time": "2022-03-20T20:11:06.590Z"
   },
   {
    "duration": 1150,
    "start_time": "2022-03-20T20:12:05.158Z"
   },
   {
    "duration": 209,
    "start_time": "2022-03-20T20:12:06.310Z"
   },
   {
    "duration": 291,
    "start_time": "2022-03-20T20:12:06.520Z"
   },
   {
    "duration": 70,
    "start_time": "2022-03-20T20:12:06.813Z"
   },
   {
    "duration": 21,
    "start_time": "2022-03-20T20:12:06.885Z"
   },
   {
    "duration": 22,
    "start_time": "2022-03-20T20:12:06.907Z"
   },
   {
    "duration": 8,
    "start_time": "2022-03-20T20:12:06.930Z"
   },
   {
    "duration": 42,
    "start_time": "2022-03-20T20:12:06.939Z"
   },
   {
    "duration": 36,
    "start_time": "2022-03-20T20:12:06.982Z"
   },
   {
    "duration": 14,
    "start_time": "2022-03-20T20:12:07.021Z"
   },
   {
    "duration": 53,
    "start_time": "2022-03-20T20:12:07.036Z"
   },
   {
    "duration": 26,
    "start_time": "2022-03-20T20:12:07.090Z"
   },
   {
    "duration": 73,
    "start_time": "2022-03-20T20:12:07.118Z"
   },
   {
    "duration": 156,
    "start_time": "2022-03-20T20:12:07.193Z"
   },
   {
    "duration": 16,
    "start_time": "2022-03-20T20:12:07.350Z"
   },
   {
    "duration": 18,
    "start_time": "2022-03-20T20:12:07.367Z"
   },
   {
    "duration": 106,
    "start_time": "2022-03-20T20:12:07.386Z"
   },
   {
    "duration": 18,
    "start_time": "2022-03-20T20:12:07.494Z"
   },
   {
    "duration": 12,
    "start_time": "2022-03-20T20:12:07.513Z"
   },
   {
    "duration": 32,
    "start_time": "2022-03-20T20:12:07.526Z"
   },
   {
    "duration": 39,
    "start_time": "2022-03-20T20:12:07.560Z"
   },
   {
    "duration": 122,
    "start_time": "2022-03-20T20:12:07.600Z"
   },
   {
    "duration": 63,
    "start_time": "2022-03-20T20:12:07.724Z"
   },
   {
    "duration": 30,
    "start_time": "2022-03-20T20:12:07.788Z"
   },
   {
    "duration": 15,
    "start_time": "2022-03-20T20:12:07.820Z"
   },
   {
    "duration": 166,
    "start_time": "2022-03-20T20:12:07.836Z"
   },
   {
    "duration": 3,
    "start_time": "2022-03-20T20:12:08.004Z"
   },
   {
    "duration": 2,
    "start_time": "2022-03-20T20:12:08.012Z"
   },
   {
    "duration": 5,
    "start_time": "2022-03-20T20:12:08.016Z"
   },
   {
    "duration": 93,
    "start_time": "2022-03-20T20:12:08.023Z"
   },
   {
    "duration": 10,
    "start_time": "2022-03-20T20:12:08.118Z"
   },
   {
    "duration": 7,
    "start_time": "2022-03-20T20:12:08.130Z"
   },
   {
    "duration": 164,
    "start_time": "2022-03-20T20:12:08.139Z"
   },
   {
    "duration": 3,
    "start_time": "2022-03-20T20:12:08.305Z"
   },
   {
    "duration": 21,
    "start_time": "2022-03-20T20:12:08.309Z"
   },
   {
    "duration": 19,
    "start_time": "2022-03-20T20:12:08.331Z"
   },
   {
    "duration": 11,
    "start_time": "2022-03-20T20:12:08.352Z"
   },
   {
    "duration": 9,
    "start_time": "2022-03-20T20:12:08.381Z"
   },
   {
    "duration": 113,
    "start_time": "2022-03-20T20:12:08.392Z"
   },
   {
    "duration": 9,
    "start_time": "2022-03-20T20:12:08.506Z"
   },
   {
    "duration": 107,
    "start_time": "2022-03-20T20:12:08.517Z"
   },
   {
    "duration": 11,
    "start_time": "2022-03-20T20:12:08.625Z"
   },
   {
    "duration": 126,
    "start_time": "2022-03-20T20:12:08.638Z"
   },
   {
    "duration": 16,
    "start_time": "2022-03-20T20:12:08.766Z"
   },
   {
    "duration": 141,
    "start_time": "2022-03-20T20:12:08.783Z"
   },
   {
    "duration": 153,
    "start_time": "2022-03-20T20:12:08.925Z"
   },
   {
    "duration": 18,
    "start_time": "2022-03-20T20:12:09.080Z"
   },
   {
    "duration": 10,
    "start_time": "2022-03-20T20:12:09.099Z"
   },
   {
    "duration": 224,
    "start_time": "2022-03-20T20:12:09.110Z"
   },
   {
    "duration": 9,
    "start_time": "2022-03-20T20:12:09.336Z"
   },
   {
    "duration": 9,
    "start_time": "2022-03-20T20:12:09.347Z"
   },
   {
    "duration": 25,
    "start_time": "2022-03-20T20:12:09.358Z"
   },
   {
    "duration": 7,
    "start_time": "2022-03-20T20:12:09.385Z"
   },
   {
    "duration": 19,
    "start_time": "2022-03-20T20:12:09.394Z"
   },
   {
    "duration": 4,
    "start_time": "2022-03-20T20:12:09.414Z"
   },
   {
    "duration": 11,
    "start_time": "2022-03-20T20:12:09.419Z"
   },
   {
    "duration": 5,
    "start_time": "2022-03-20T20:12:09.431Z"
   },
   {
    "duration": 48,
    "start_time": "2022-03-20T20:12:09.437Z"
   },
   {
    "duration": 19,
    "start_time": "2022-03-20T20:12:09.486Z"
   },
   {
    "duration": 13,
    "start_time": "2022-03-20T20:12:09.507Z"
   },
   {
    "duration": 18,
    "start_time": "2022-03-20T20:12:09.521Z"
   },
   {
    "duration": 8,
    "start_time": "2022-03-20T20:12:09.541Z"
   },
   {
    "duration": 32,
    "start_time": "2022-03-20T20:12:09.550Z"
   },
   {
    "duration": 91,
    "start_time": "2022-03-20T20:12:09.583Z"
   },
   {
    "duration": 0,
    "start_time": "2022-03-20T20:12:09.675Z"
   },
   {
    "duration": 0,
    "start_time": "2022-03-20T20:12:09.680Z"
   },
   {
    "duration": 0,
    "start_time": "2022-03-20T20:12:09.681Z"
   },
   {
    "duration": 0,
    "start_time": "2022-03-20T20:12:09.682Z"
   },
   {
    "duration": 0,
    "start_time": "2022-03-20T20:12:09.683Z"
   },
   {
    "duration": 0,
    "start_time": "2022-03-20T20:12:09.684Z"
   },
   {
    "duration": 1,
    "start_time": "2022-03-20T20:12:09.684Z"
   },
   {
    "duration": 0,
    "start_time": "2022-03-20T20:12:09.685Z"
   },
   {
    "duration": 0,
    "start_time": "2022-03-20T20:12:09.686Z"
   },
   {
    "duration": 0,
    "start_time": "2022-03-20T20:12:09.687Z"
   },
   {
    "duration": 0,
    "start_time": "2022-03-20T20:12:09.689Z"
   },
   {
    "duration": 0,
    "start_time": "2022-03-20T20:12:09.690Z"
   },
   {
    "duration": 0,
    "start_time": "2022-03-20T20:12:09.690Z"
   },
   {
    "duration": 24,
    "start_time": "2022-03-20T20:12:47.175Z"
   },
   {
    "duration": 20,
    "start_time": "2022-03-20T20:12:49.301Z"
   },
   {
    "duration": 198,
    "start_time": "2022-03-20T20:12:49.920Z"
   },
   {
    "duration": 294,
    "start_time": "2022-03-20T20:12:50.993Z"
   },
   {
    "duration": 7,
    "start_time": "2022-03-20T20:12:52.777Z"
   },
   {
    "duration": 9,
    "start_time": "2022-03-20T20:12:56.794Z"
   },
   {
    "duration": 16,
    "start_time": "2022-03-20T20:13:00.204Z"
   },
   {
    "duration": 4,
    "start_time": "2022-03-20T20:13:02.208Z"
   },
   {
    "duration": 4,
    "start_time": "2022-03-20T20:13:02.733Z"
   },
   {
    "duration": 3,
    "start_time": "2022-03-20T20:13:03.772Z"
   },
   {
    "duration": 6,
    "start_time": "2022-03-20T20:13:04.934Z"
   },
   {
    "duration": 6,
    "start_time": "2022-03-20T20:13:05.346Z"
   },
   {
    "duration": 5,
    "start_time": "2022-03-20T20:13:05.794Z"
   },
   {
    "duration": 5,
    "start_time": "2022-03-20T20:13:06.188Z"
   },
   {
    "duration": 4,
    "start_time": "2022-03-20T20:13:24.868Z"
   },
   {
    "duration": 5,
    "start_time": "2022-03-20T20:13:25.302Z"
   },
   {
    "duration": 6,
    "start_time": "2022-03-20T20:13:25.912Z"
   },
   {
    "duration": 6,
    "start_time": "2022-03-20T20:13:26.281Z"
   },
   {
    "duration": 7,
    "start_time": "2022-03-20T20:13:26.607Z"
   },
   {
    "duration": 26,
    "start_time": "2022-03-20T20:16:11.896Z"
   },
   {
    "duration": 166,
    "start_time": "2022-03-20T20:19:30.363Z"
   },
   {
    "duration": 3,
    "start_time": "2022-03-20T20:19:32.736Z"
   },
   {
    "duration": 6,
    "start_time": "2022-03-20T20:19:33.106Z"
   },
   {
    "duration": 5,
    "start_time": "2022-03-20T20:19:33.478Z"
   },
   {
    "duration": 6,
    "start_time": "2022-03-20T20:19:33.848Z"
   },
   {
    "duration": 6,
    "start_time": "2022-03-20T20:19:35.819Z"
   },
   {
    "duration": 4,
    "start_time": "2022-03-20T20:20:09.886Z"
   },
   {
    "duration": 5,
    "start_time": "2022-03-20T20:20:10.299Z"
   },
   {
    "duration": 5,
    "start_time": "2022-03-20T20:20:10.783Z"
   },
   {
    "duration": 5,
    "start_time": "2022-03-20T20:20:11.143Z"
   },
   {
    "duration": 5,
    "start_time": "2022-03-20T20:20:11.717Z"
   },
   {
    "duration": 4,
    "start_time": "2022-03-20T20:23:39.005Z"
   },
   {
    "duration": 5,
    "start_time": "2022-03-20T20:23:40.690Z"
   },
   {
    "duration": 5,
    "start_time": "2022-03-20T20:23:41.456Z"
   },
   {
    "duration": 5,
    "start_time": "2022-03-20T20:23:41.894Z"
   },
   {
    "duration": 5,
    "start_time": "2022-03-20T20:23:42.265Z"
   },
   {
    "duration": 3,
    "start_time": "2022-03-20T20:26:19.995Z"
   },
   {
    "duration": 5,
    "start_time": "2022-03-20T20:26:22.437Z"
   },
   {
    "duration": 5,
    "start_time": "2022-03-20T20:26:23.515Z"
   },
   {
    "duration": 4,
    "start_time": "2022-03-20T20:26:24.134Z"
   },
   {
    "duration": 1141,
    "start_time": "2022-03-20T20:26:40.201Z"
   },
   {
    "duration": 213,
    "start_time": "2022-03-20T20:26:41.344Z"
   },
   {
    "duration": 279,
    "start_time": "2022-03-20T20:26:41.558Z"
   },
   {
    "duration": 68,
    "start_time": "2022-03-20T20:26:41.839Z"
   },
   {
    "duration": 20,
    "start_time": "2022-03-20T20:26:41.908Z"
   },
   {
    "duration": 20,
    "start_time": "2022-03-20T20:26:41.930Z"
   },
   {
    "duration": 7,
    "start_time": "2022-03-20T20:26:41.951Z"
   },
   {
    "duration": 36,
    "start_time": "2022-03-20T20:26:41.959Z"
   },
   {
    "duration": 33,
    "start_time": "2022-03-20T20:26:41.997Z"
   },
   {
    "duration": 13,
    "start_time": "2022-03-20T20:26:42.032Z"
   },
   {
    "duration": 56,
    "start_time": "2022-03-20T20:26:42.046Z"
   },
   {
    "duration": 25,
    "start_time": "2022-03-20T20:26:42.103Z"
   },
   {
    "duration": 69,
    "start_time": "2022-03-20T20:26:42.130Z"
   },
   {
    "duration": 135,
    "start_time": "2022-03-20T20:26:42.201Z"
   },
   {
    "duration": 14,
    "start_time": "2022-03-20T20:26:42.338Z"
   },
   {
    "duration": 11,
    "start_time": "2022-03-20T20:26:42.354Z"
   },
   {
    "duration": 88,
    "start_time": "2022-03-20T20:26:42.366Z"
   },
   {
    "duration": 43,
    "start_time": "2022-03-20T20:26:42.455Z"
   },
   {
    "duration": 12,
    "start_time": "2022-03-20T20:26:42.500Z"
   },
   {
    "duration": 27,
    "start_time": "2022-03-20T20:26:42.513Z"
   },
   {
    "duration": 40,
    "start_time": "2022-03-20T20:26:42.541Z"
   },
   {
    "duration": 107,
    "start_time": "2022-03-20T20:26:42.582Z"
   },
   {
    "duration": 51,
    "start_time": "2022-03-20T20:26:42.691Z"
   },
   {
    "duration": 41,
    "start_time": "2022-03-20T20:26:42.743Z"
   },
   {
    "duration": 13,
    "start_time": "2022-03-20T20:26:42.786Z"
   },
   {
    "duration": 145,
    "start_time": "2022-03-20T20:26:42.801Z"
   },
   {
    "duration": 3,
    "start_time": "2022-03-20T20:26:42.948Z"
   },
   {
    "duration": 6,
    "start_time": "2022-03-20T20:26:42.956Z"
   },
   {
    "duration": 4,
    "start_time": "2022-03-20T20:26:42.964Z"
   },
   {
    "duration": 80,
    "start_time": "2022-03-20T20:26:42.970Z"
   },
   {
    "duration": 7,
    "start_time": "2022-03-20T20:26:43.052Z"
   },
   {
    "duration": 42,
    "start_time": "2022-03-20T20:26:43.060Z"
   },
   {
    "duration": 6,
    "start_time": "2022-03-20T20:26:43.104Z"
   },
   {
    "duration": 140,
    "start_time": "2022-03-20T20:26:43.112Z"
   },
   {
    "duration": 2,
    "start_time": "2022-03-20T20:26:43.253Z"
   },
   {
    "duration": 28,
    "start_time": "2022-03-20T20:26:43.256Z"
   },
   {
    "duration": 18,
    "start_time": "2022-03-20T20:26:43.285Z"
   },
   {
    "duration": 8,
    "start_time": "2022-03-20T20:26:43.305Z"
   },
   {
    "duration": 9,
    "start_time": "2022-03-20T20:26:43.314Z"
   },
   {
    "duration": 124,
    "start_time": "2022-03-20T20:26:43.324Z"
   },
   {
    "duration": 9,
    "start_time": "2022-03-20T20:26:43.450Z"
   },
   {
    "duration": 109,
    "start_time": "2022-03-20T20:26:43.461Z"
   },
   {
    "duration": 18,
    "start_time": "2022-03-20T20:26:43.571Z"
   },
   {
    "duration": 122,
    "start_time": "2022-03-20T20:26:43.591Z"
   },
   {
    "duration": 10,
    "start_time": "2022-03-20T20:26:43.715Z"
   },
   {
    "duration": 140,
    "start_time": "2022-03-20T20:26:43.726Z"
   },
   {
    "duration": 154,
    "start_time": "2022-03-20T20:26:43.868Z"
   },
   {
    "duration": 17,
    "start_time": "2022-03-20T20:26:44.023Z"
   },
   {
    "duration": 11,
    "start_time": "2022-03-20T20:26:44.041Z"
   },
   {
    "duration": 214,
    "start_time": "2022-03-20T20:26:44.053Z"
   },
   {
    "duration": 14,
    "start_time": "2022-03-20T20:26:44.269Z"
   },
   {
    "duration": 11,
    "start_time": "2022-03-20T20:26:44.284Z"
   },
   {
    "duration": 24,
    "start_time": "2022-03-20T20:26:44.297Z"
   },
   {
    "duration": 7,
    "start_time": "2022-03-20T20:26:44.322Z"
   },
   {
    "duration": 18,
    "start_time": "2022-03-20T20:26:44.331Z"
   },
   {
    "duration": 4,
    "start_time": "2022-03-20T20:26:44.350Z"
   },
   {
    "duration": 30,
    "start_time": "2022-03-20T20:26:44.356Z"
   },
   {
    "duration": 4,
    "start_time": "2022-03-20T20:26:44.388Z"
   },
   {
    "duration": 19,
    "start_time": "2022-03-20T20:26:44.393Z"
   },
   {
    "duration": 20,
    "start_time": "2022-03-20T20:26:44.413Z"
   },
   {
    "duration": 13,
    "start_time": "2022-03-20T20:26:44.435Z"
   },
   {
    "duration": 45,
    "start_time": "2022-03-20T20:26:44.449Z"
   },
   {
    "duration": 4,
    "start_time": "2022-03-20T20:26:44.496Z"
   },
   {
    "duration": 6,
    "start_time": "2022-03-20T20:26:44.502Z"
   },
   {
    "duration": 21,
    "start_time": "2022-03-20T20:26:44.510Z"
   },
   {
    "duration": 18,
    "start_time": "2022-03-20T20:26:44.532Z"
   },
   {
    "duration": 209,
    "start_time": "2022-03-20T20:26:44.551Z"
   },
   {
    "duration": 334,
    "start_time": "2022-03-20T20:26:44.761Z"
   },
   {
    "duration": 6,
    "start_time": "2022-03-20T20:26:45.097Z"
   },
   {
    "duration": 11,
    "start_time": "2022-03-20T20:26:45.104Z"
   },
   {
    "duration": 17,
    "start_time": "2022-03-20T20:26:45.116Z"
   },
   {
    "duration": 5,
    "start_time": "2022-03-20T20:26:45.135Z"
   },
   {
    "duration": 5,
    "start_time": "2022-03-20T20:26:45.141Z"
   },
   {
    "duration": 4,
    "start_time": "2022-03-20T20:26:45.148Z"
   },
   {
    "duration": 2,
    "start_time": "2022-03-20T20:26:45.181Z"
   },
   {
    "duration": 7,
    "start_time": "2022-03-20T20:26:45.184Z"
   },
   {
    "duration": 6,
    "start_time": "2022-03-20T20:26:45.193Z"
   },
   {
    "duration": 7,
    "start_time": "2022-03-20T20:26:45.200Z"
   },
   {
    "duration": 6,
    "start_time": "2022-03-20T20:26:45.208Z"
   },
   {
    "duration": 11,
    "start_time": "2022-03-20T20:52:29.661Z"
   },
   {
    "duration": 10,
    "start_time": "2022-03-20T20:54:13.838Z"
   },
   {
    "duration": 304,
    "start_time": "2022-03-20T20:55:01.663Z"
   },
   {
    "duration": 7,
    "start_time": "2022-03-20T20:57:13.800Z"
   },
   {
    "duration": 3,
    "start_time": "2022-03-20T20:57:47.863Z"
   },
   {
    "duration": 4,
    "start_time": "2022-03-20T20:58:02.343Z"
   },
   {
    "duration": 4,
    "start_time": "2022-03-20T20:58:17.270Z"
   },
   {
    "duration": 3,
    "start_time": "2022-03-20T20:58:23.570Z"
   },
   {
    "duration": 4,
    "start_time": "2022-03-20T20:58:30.806Z"
   },
   {
    "duration": 7,
    "start_time": "2022-03-20T20:59:39.420Z"
   },
   {
    "duration": 8,
    "start_time": "2022-03-20T20:59:46.812Z"
   },
   {
    "duration": 14,
    "start_time": "2022-03-20T21:05:29.337Z"
   },
   {
    "duration": 21,
    "start_time": "2022-03-20T21:05:37.109Z"
   },
   {
    "duration": 1183,
    "start_time": "2022-03-20T21:05:44.258Z"
   },
   {
    "duration": 217,
    "start_time": "2022-03-20T21:05:45.443Z"
   },
   {
    "duration": 320,
    "start_time": "2022-03-20T21:05:45.661Z"
   },
   {
    "duration": 63,
    "start_time": "2022-03-20T21:05:45.983Z"
   },
   {
    "duration": 33,
    "start_time": "2022-03-20T21:05:46.048Z"
   },
   {
    "duration": 25,
    "start_time": "2022-03-20T21:05:46.083Z"
   },
   {
    "duration": 9,
    "start_time": "2022-03-20T21:05:46.109Z"
   },
   {
    "duration": 35,
    "start_time": "2022-03-20T21:05:46.120Z"
   },
   {
    "duration": 60,
    "start_time": "2022-03-20T21:05:46.156Z"
   },
   {
    "duration": 14,
    "start_time": "2022-03-20T21:05:46.219Z"
   },
   {
    "duration": 49,
    "start_time": "2022-03-20T21:05:46.235Z"
   },
   {
    "duration": 27,
    "start_time": "2022-03-20T21:05:46.286Z"
   },
   {
    "duration": 76,
    "start_time": "2022-03-20T21:05:46.315Z"
   },
   {
    "duration": 152,
    "start_time": "2022-03-20T21:05:46.393Z"
   },
   {
    "duration": 14,
    "start_time": "2022-03-20T21:05:46.547Z"
   },
   {
    "duration": 24,
    "start_time": "2022-03-20T21:05:46.563Z"
   },
   {
    "duration": 111,
    "start_time": "2022-03-20T21:05:46.588Z"
   },
   {
    "duration": 19,
    "start_time": "2022-03-20T21:05:46.700Z"
   },
   {
    "duration": 11,
    "start_time": "2022-03-20T21:05:46.720Z"
   },
   {
    "duration": 56,
    "start_time": "2022-03-20T21:05:46.732Z"
   },
   {
    "duration": 22,
    "start_time": "2022-03-20T21:05:46.790Z"
   },
   {
    "duration": 137,
    "start_time": "2022-03-20T21:05:46.813Z"
   },
   {
    "duration": 70,
    "start_time": "2022-03-20T21:05:46.952Z"
   },
   {
    "duration": 28,
    "start_time": "2022-03-20T21:05:47.024Z"
   },
   {
    "duration": 33,
    "start_time": "2022-03-20T21:05:47.054Z"
   },
   {
    "duration": 162,
    "start_time": "2022-03-20T21:05:47.089Z"
   },
   {
    "duration": 3,
    "start_time": "2022-03-20T21:05:47.253Z"
   },
   {
    "duration": 2,
    "start_time": "2022-03-20T21:05:47.261Z"
   },
   {
    "duration": 17,
    "start_time": "2022-03-20T21:05:47.264Z"
   },
   {
    "duration": 77,
    "start_time": "2022-03-20T21:05:47.283Z"
   },
   {
    "duration": 27,
    "start_time": "2022-03-20T21:05:47.362Z"
   },
   {
    "duration": 29,
    "start_time": "2022-03-20T21:05:47.390Z"
   },
   {
    "duration": 13,
    "start_time": "2022-03-20T21:05:47.421Z"
   },
   {
    "duration": 167,
    "start_time": "2022-03-20T21:05:47.436Z"
   },
   {
    "duration": 3,
    "start_time": "2022-03-20T21:05:47.604Z"
   },
   {
    "duration": 28,
    "start_time": "2022-03-20T21:05:47.608Z"
   },
   {
    "duration": 23,
    "start_time": "2022-03-20T21:05:47.638Z"
   },
   {
    "duration": 25,
    "start_time": "2022-03-20T21:05:47.662Z"
   },
   {
    "duration": 12,
    "start_time": "2022-03-20T21:05:47.688Z"
   },
   {
    "duration": 121,
    "start_time": "2022-03-20T21:05:47.702Z"
   },
   {
    "duration": 10,
    "start_time": "2022-03-20T21:05:47.824Z"
   },
   {
    "duration": 114,
    "start_time": "2022-03-20T21:05:47.835Z"
   },
   {
    "duration": 13,
    "start_time": "2022-03-20T21:05:47.951Z"
   },
   {
    "duration": 127,
    "start_time": "2022-03-20T21:05:47.981Z"
   },
   {
    "duration": 10,
    "start_time": "2022-03-20T21:05:48.110Z"
   },
   {
    "duration": 158,
    "start_time": "2022-03-20T21:05:48.122Z"
   },
   {
    "duration": 190,
    "start_time": "2022-03-20T21:05:48.282Z"
   },
   {
    "duration": 24,
    "start_time": "2022-03-20T21:05:48.474Z"
   },
   {
    "duration": 10,
    "start_time": "2022-03-20T21:05:48.500Z"
   },
   {
    "duration": 233,
    "start_time": "2022-03-20T21:05:48.512Z"
   },
   {
    "duration": 9,
    "start_time": "2022-03-20T21:05:48.747Z"
   },
   {
    "duration": 11,
    "start_time": "2022-03-20T21:05:48.757Z"
   },
   {
    "duration": 15,
    "start_time": "2022-03-20T21:05:48.780Z"
   },
   {
    "duration": 8,
    "start_time": "2022-03-20T21:05:48.797Z"
   },
   {
    "duration": 20,
    "start_time": "2022-03-20T21:05:48.806Z"
   },
   {
    "duration": 4,
    "start_time": "2022-03-20T21:05:48.827Z"
   },
   {
    "duration": 13,
    "start_time": "2022-03-20T21:05:48.832Z"
   },
   {
    "duration": 4,
    "start_time": "2022-03-20T21:05:48.846Z"
   },
   {
    "duration": 19,
    "start_time": "2022-03-20T21:05:48.881Z"
   },
   {
    "duration": 18,
    "start_time": "2022-03-20T21:05:48.902Z"
   },
   {
    "duration": 13,
    "start_time": "2022-03-20T21:05:48.922Z"
   },
   {
    "duration": 49,
    "start_time": "2022-03-20T21:05:48.937Z"
   },
   {
    "duration": 4,
    "start_time": "2022-03-20T21:05:48.988Z"
   },
   {
    "duration": 9,
    "start_time": "2022-03-20T21:05:48.994Z"
   },
   {
    "duration": 46,
    "start_time": "2022-03-20T21:05:49.005Z"
   },
   {
    "duration": 21,
    "start_time": "2022-03-20T21:05:49.053Z"
   },
   {
    "duration": 206,
    "start_time": "2022-03-20T21:05:49.075Z"
   },
   {
    "duration": 326,
    "start_time": "2022-03-20T21:05:49.282Z"
   },
   {
    "duration": 6,
    "start_time": "2022-03-20T21:05:49.610Z"
   },
   {
    "duration": 18,
    "start_time": "2022-03-20T21:05:49.617Z"
   },
   {
    "duration": 21,
    "start_time": "2022-03-20T21:05:49.637Z"
   },
   {
    "duration": 9,
    "start_time": "2022-03-20T21:05:49.660Z"
   },
   {
    "duration": 10,
    "start_time": "2022-03-20T21:05:49.671Z"
   },
   {
    "duration": 4,
    "start_time": "2022-03-20T21:05:49.683Z"
   },
   {
    "duration": 6,
    "start_time": "2022-03-20T21:05:49.689Z"
   },
   {
    "duration": 10,
    "start_time": "2022-03-20T21:05:49.697Z"
   },
   {
    "duration": 9,
    "start_time": "2022-03-20T21:05:49.708Z"
   },
   {
    "duration": 12,
    "start_time": "2022-03-20T21:05:49.718Z"
   },
   {
    "duration": 9,
    "start_time": "2022-03-20T21:05:49.731Z"
   },
   {
    "duration": 109,
    "start_time": "2022-03-20T21:05:49.741Z"
   },
   {
    "duration": 0,
    "start_time": "2022-03-20T21:05:49.852Z"
   },
   {
    "duration": 0,
    "start_time": "2022-03-20T21:05:49.853Z"
   },
   {
    "duration": 0,
    "start_time": "2022-03-20T21:05:49.853Z"
   },
   {
    "duration": 0,
    "start_time": "2022-03-20T21:05:49.854Z"
   },
   {
    "duration": 0,
    "start_time": "2022-03-20T21:05:49.855Z"
   },
   {
    "duration": 0,
    "start_time": "2022-03-20T21:05:49.856Z"
   },
   {
    "duration": 10,
    "start_time": "2022-03-20T21:06:45.653Z"
   },
   {
    "duration": 8,
    "start_time": "2022-03-20T21:06:46.239Z"
   },
   {
    "duration": 313,
    "start_time": "2022-03-20T21:06:47.278Z"
   },
   {
    "duration": 8,
    "start_time": "2022-03-20T21:06:49.095Z"
   },
   {
    "duration": 4,
    "start_time": "2022-03-20T21:06:50.201Z"
   },
   {
    "duration": 21,
    "start_time": "2022-03-20T21:06:52.943Z"
   },
   {
    "duration": 1112,
    "start_time": "2022-03-20T21:08:08.034Z"
   },
   {
    "duration": 213,
    "start_time": "2022-03-20T21:08:09.147Z"
   },
   {
    "duration": 319,
    "start_time": "2022-03-20T21:08:09.362Z"
   },
   {
    "duration": 59,
    "start_time": "2022-03-20T21:08:09.683Z"
   },
   {
    "duration": 22,
    "start_time": "2022-03-20T21:08:09.745Z"
   },
   {
    "duration": 29,
    "start_time": "2022-03-20T21:08:09.769Z"
   },
   {
    "duration": 7,
    "start_time": "2022-03-20T21:08:09.800Z"
   },
   {
    "duration": 33,
    "start_time": "2022-03-20T21:08:09.809Z"
   },
   {
    "duration": 53,
    "start_time": "2022-03-20T21:08:09.844Z"
   },
   {
    "duration": 14,
    "start_time": "2022-03-20T21:08:09.900Z"
   },
   {
    "duration": 29,
    "start_time": "2022-03-20T21:08:09.916Z"
   },
   {
    "duration": 53,
    "start_time": "2022-03-20T21:08:09.946Z"
   },
   {
    "duration": 58,
    "start_time": "2022-03-20T21:08:10.000Z"
   },
   {
    "duration": 157,
    "start_time": "2022-03-20T21:08:10.059Z"
   },
   {
    "duration": 15,
    "start_time": "2022-03-20T21:08:10.218Z"
   },
   {
    "duration": 11,
    "start_time": "2022-03-20T21:08:10.234Z"
   },
   {
    "duration": 105,
    "start_time": "2022-03-20T21:08:10.247Z"
   },
   {
    "duration": 46,
    "start_time": "2022-03-20T21:08:10.354Z"
   },
   {
    "duration": 13,
    "start_time": "2022-03-20T21:08:10.401Z"
   },
   {
    "duration": 29,
    "start_time": "2022-03-20T21:08:10.415Z"
   },
   {
    "duration": 48,
    "start_time": "2022-03-20T21:08:10.445Z"
   },
   {
    "duration": 119,
    "start_time": "2022-03-20T21:08:10.494Z"
   },
   {
    "duration": 68,
    "start_time": "2022-03-20T21:08:10.615Z"
   },
   {
    "duration": 24,
    "start_time": "2022-03-20T21:08:10.685Z"
   },
   {
    "duration": 14,
    "start_time": "2022-03-20T21:08:10.711Z"
   },
   {
    "duration": 155,
    "start_time": "2022-03-20T21:08:10.727Z"
   },
   {
    "duration": 3,
    "start_time": "2022-03-20T21:08:10.884Z"
   },
   {
    "duration": 6,
    "start_time": "2022-03-20T21:08:10.890Z"
   },
   {
    "duration": 7,
    "start_time": "2022-03-20T21:08:10.897Z"
   },
   {
    "duration": 84,
    "start_time": "2022-03-20T21:08:10.906Z"
   },
   {
    "duration": 10,
    "start_time": "2022-03-20T21:08:10.991Z"
   },
   {
    "duration": 29,
    "start_time": "2022-03-20T21:08:11.003Z"
   },
   {
    "duration": 9,
    "start_time": "2022-03-20T21:08:11.033Z"
   },
   {
    "duration": 180,
    "start_time": "2022-03-20T21:08:11.043Z"
   },
   {
    "duration": 3,
    "start_time": "2022-03-20T21:08:11.225Z"
   },
   {
    "duration": 19,
    "start_time": "2022-03-20T21:08:11.229Z"
   },
   {
    "duration": 38,
    "start_time": "2022-03-20T21:08:11.250Z"
   },
   {
    "duration": 17,
    "start_time": "2022-03-20T21:08:11.290Z"
   },
   {
    "duration": 11,
    "start_time": "2022-03-20T21:08:11.309Z"
   },
   {
    "duration": 128,
    "start_time": "2022-03-20T21:08:11.322Z"
   },
   {
    "duration": 10,
    "start_time": "2022-03-20T21:08:11.452Z"
   },
   {
    "duration": 108,
    "start_time": "2022-03-20T21:08:11.464Z"
   },
   {
    "duration": 12,
    "start_time": "2022-03-20T21:08:11.581Z"
   },
   {
    "duration": 139,
    "start_time": "2022-03-20T21:08:11.595Z"
   },
   {
    "duration": 10,
    "start_time": "2022-03-20T21:08:11.736Z"
   },
   {
    "duration": 158,
    "start_time": "2022-03-20T21:08:11.748Z"
   },
   {
    "duration": 163,
    "start_time": "2022-03-20T21:08:11.908Z"
   },
   {
    "duration": 25,
    "start_time": "2022-03-20T21:08:12.072Z"
   },
   {
    "duration": 9,
    "start_time": "2022-03-20T21:08:12.099Z"
   },
   {
    "duration": 220,
    "start_time": "2022-03-20T21:08:12.110Z"
   },
   {
    "duration": 10,
    "start_time": "2022-03-20T21:08:12.331Z"
   },
   {
    "duration": 10,
    "start_time": "2022-03-20T21:08:12.343Z"
   },
   {
    "duration": 28,
    "start_time": "2022-03-20T21:08:12.355Z"
   },
   {
    "duration": 7,
    "start_time": "2022-03-20T21:08:12.385Z"
   },
   {
    "duration": 19,
    "start_time": "2022-03-20T21:08:12.394Z"
   },
   {
    "duration": 3,
    "start_time": "2022-03-20T21:08:12.415Z"
   },
   {
    "duration": 12,
    "start_time": "2022-03-20T21:08:12.420Z"
   },
   {
    "duration": 4,
    "start_time": "2022-03-20T21:08:12.434Z"
   },
   {
    "duration": 52,
    "start_time": "2022-03-20T21:08:12.440Z"
   },
   {
    "duration": 20,
    "start_time": "2022-03-20T21:08:12.493Z"
   },
   {
    "duration": 13,
    "start_time": "2022-03-20T21:08:12.515Z"
   },
   {
    "duration": 19,
    "start_time": "2022-03-20T21:08:12.529Z"
   },
   {
    "duration": 6,
    "start_time": "2022-03-20T21:08:12.549Z"
   },
   {
    "duration": 5,
    "start_time": "2022-03-20T21:08:12.580Z"
   },
   {
    "duration": 23,
    "start_time": "2022-03-20T21:08:12.586Z"
   },
   {
    "duration": 20,
    "start_time": "2022-03-20T21:08:12.611Z"
   },
   {
    "duration": 213,
    "start_time": "2022-03-20T21:08:12.633Z"
   },
   {
    "duration": 325,
    "start_time": "2022-03-20T21:08:12.847Z"
   },
   {
    "duration": 11,
    "start_time": "2022-03-20T21:08:13.174Z"
   },
   {
    "duration": 11,
    "start_time": "2022-03-20T21:08:13.186Z"
   },
   {
    "duration": 18,
    "start_time": "2022-03-20T21:08:13.199Z"
   },
   {
    "duration": 6,
    "start_time": "2022-03-20T21:08:13.218Z"
   },
   {
    "duration": 6,
    "start_time": "2022-03-20T21:08:13.226Z"
   },
   {
    "duration": 5,
    "start_time": "2022-03-20T21:08:13.234Z"
   },
   {
    "duration": 4,
    "start_time": "2022-03-20T21:08:13.241Z"
   },
   {
    "duration": 35,
    "start_time": "2022-03-20T21:08:13.247Z"
   },
   {
    "duration": 5,
    "start_time": "2022-03-20T21:08:13.284Z"
   },
   {
    "duration": 6,
    "start_time": "2022-03-20T21:08:13.291Z"
   },
   {
    "duration": 8,
    "start_time": "2022-03-20T21:08:13.298Z"
   },
   {
    "duration": 9,
    "start_time": "2022-03-20T21:08:13.308Z"
   },
   {
    "duration": 19,
    "start_time": "2022-03-20T21:08:13.319Z"
   },
   {
    "duration": 8,
    "start_time": "2022-03-20T21:08:13.343Z"
   },
   {
    "duration": 358,
    "start_time": "2022-03-20T21:08:13.352Z"
   },
   {
    "duration": 8,
    "start_time": "2022-03-20T21:08:13.712Z"
   },
   {
    "duration": 12,
    "start_time": "2022-03-20T21:08:13.721Z"
   },
   {
    "duration": 321,
    "start_time": "2022-03-20T21:08:41.102Z"
   },
   {
    "duration": 289,
    "start_time": "2022-03-20T21:08:54.513Z"
   },
   {
    "duration": 7,
    "start_time": "2022-03-20T21:09:55.084Z"
   },
   {
    "duration": 8,
    "start_time": "2022-03-20T21:10:20.005Z"
   },
   {
    "duration": 11,
    "start_time": "2022-03-20T21:44:21.122Z"
   },
   {
    "duration": 17,
    "start_time": "2022-03-20T22:10:32.829Z"
   },
   {
    "duration": 12,
    "start_time": "2022-03-20T22:12:03.098Z"
   },
   {
    "duration": 17,
    "start_time": "2022-03-20T22:12:36.691Z"
   },
   {
    "duration": 14,
    "start_time": "2022-03-20T22:12:56.549Z"
   },
   {
    "duration": 18,
    "start_time": "2022-03-20T22:12:59.877Z"
   },
   {
    "duration": 18,
    "start_time": "2022-03-20T22:13:40.695Z"
   },
   {
    "duration": 13,
    "start_time": "2022-03-20T22:13:50.384Z"
   },
   {
    "duration": 18,
    "start_time": "2022-03-20T22:13:53.534Z"
   },
   {
    "duration": 18,
    "start_time": "2022-03-20T22:14:03.757Z"
   },
   {
    "duration": 14,
    "start_time": "2022-03-20T22:14:11.179Z"
   },
   {
    "duration": 17,
    "start_time": "2022-03-20T22:14:11.374Z"
   },
   {
    "duration": 19,
    "start_time": "2022-03-20T22:14:17.854Z"
   },
   {
    "duration": 18,
    "start_time": "2022-03-20T22:14:24.974Z"
   },
   {
    "duration": 18,
    "start_time": "2022-03-20T22:14:48.240Z"
   },
   {
    "duration": 17,
    "start_time": "2022-03-20T22:14:57.433Z"
   },
   {
    "duration": 15,
    "start_time": "2022-03-20T22:15:04.127Z"
   },
   {
    "duration": 18,
    "start_time": "2022-03-20T22:15:07.151Z"
   },
   {
    "duration": 18,
    "start_time": "2022-03-20T22:15:16.909Z"
   },
   {
    "duration": 15,
    "start_time": "2022-03-20T22:15:53.335Z"
   },
   {
    "duration": 19,
    "start_time": "2022-03-20T22:15:56.001Z"
   },
   {
    "duration": 13,
    "start_time": "2022-03-20T22:16:02.758Z"
   },
   {
    "duration": 15,
    "start_time": "2022-03-20T22:16:09.534Z"
   },
   {
    "duration": 19,
    "start_time": "2022-03-20T22:16:12.639Z"
   },
   {
    "duration": 20,
    "start_time": "2022-03-20T22:16:19.774Z"
   },
   {
    "duration": 19,
    "start_time": "2022-03-20T22:16:29.583Z"
   },
   {
    "duration": 20,
    "start_time": "2022-03-20T22:39:40.281Z"
   },
   {
    "duration": 95,
    "start_time": "2022-03-20T22:56:28.249Z"
   },
   {
    "duration": 1092,
    "start_time": "2022-03-20T22:56:49.584Z"
   },
   {
    "duration": 210,
    "start_time": "2022-03-20T22:56:50.678Z"
   },
   {
    "duration": 308,
    "start_time": "2022-03-20T22:56:50.889Z"
   },
   {
    "duration": 57,
    "start_time": "2022-03-20T22:56:51.198Z"
   },
   {
    "duration": 29,
    "start_time": "2022-03-20T22:56:51.257Z"
   },
   {
    "duration": 20,
    "start_time": "2022-03-20T22:56:51.287Z"
   },
   {
    "duration": 7,
    "start_time": "2022-03-20T22:56:51.309Z"
   },
   {
    "duration": 36,
    "start_time": "2022-03-20T22:56:51.317Z"
   },
   {
    "duration": 47,
    "start_time": "2022-03-20T22:56:51.355Z"
   },
   {
    "duration": 13,
    "start_time": "2022-03-20T22:56:51.403Z"
   },
   {
    "duration": 27,
    "start_time": "2022-03-20T22:56:51.417Z"
   },
   {
    "duration": 52,
    "start_time": "2022-03-20T22:56:51.445Z"
   },
   {
    "duration": 55,
    "start_time": "2022-03-20T22:56:51.498Z"
   },
   {
    "duration": 153,
    "start_time": "2022-03-20T22:56:51.556Z"
   },
   {
    "duration": 99,
    "start_time": "2022-03-20T22:56:51.711Z"
   },
   {
    "duration": 16,
    "start_time": "2022-03-20T22:56:51.812Z"
   },
   {
    "duration": 11,
    "start_time": "2022-03-20T22:56:51.830Z"
   },
   {
    "duration": 60,
    "start_time": "2022-03-20T22:56:51.842Z"
   },
   {
    "duration": 25,
    "start_time": "2022-03-20T22:56:51.904Z"
   },
   {
    "duration": 125,
    "start_time": "2022-03-20T22:56:51.930Z"
   },
   {
    "duration": 60,
    "start_time": "2022-03-20T22:56:52.057Z"
   },
   {
    "duration": 22,
    "start_time": "2022-03-20T22:56:52.119Z"
   },
   {
    "duration": 13,
    "start_time": "2022-03-20T22:56:52.143Z"
   },
   {
    "duration": 154,
    "start_time": "2022-03-20T22:56:52.158Z"
   },
   {
    "duration": 2,
    "start_time": "2022-03-20T22:56:52.313Z"
   },
   {
    "duration": 7,
    "start_time": "2022-03-20T22:56:52.317Z"
   },
   {
    "duration": 6,
    "start_time": "2022-03-20T22:56:52.325Z"
   },
   {
    "duration": 81,
    "start_time": "2022-03-20T22:56:52.332Z"
   },
   {
    "duration": 10,
    "start_time": "2022-03-20T22:56:52.415Z"
   },
   {
    "duration": 28,
    "start_time": "2022-03-20T22:56:52.426Z"
   },
   {
    "duration": 31,
    "start_time": "2022-03-20T22:56:52.455Z"
   },
   {
    "duration": 143,
    "start_time": "2022-03-20T22:56:52.487Z"
   },
   {
    "duration": 2,
    "start_time": "2022-03-20T22:56:52.631Z"
   },
   {
    "duration": 21,
    "start_time": "2022-03-20T22:56:52.634Z"
   },
   {
    "duration": 24,
    "start_time": "2022-03-20T22:56:52.657Z"
   },
   {
    "duration": 16,
    "start_time": "2022-03-20T22:56:52.682Z"
   },
   {
    "duration": 19,
    "start_time": "2022-03-20T22:56:52.700Z"
   },
   {
    "duration": 11,
    "start_time": "2022-03-20T22:56:52.720Z"
   },
   {
    "duration": 9,
    "start_time": "2022-03-20T22:56:52.732Z"
   },
   {
    "duration": 123,
    "start_time": "2022-03-20T22:56:52.742Z"
   },
   {
    "duration": 18,
    "start_time": "2022-03-20T22:56:52.869Z"
   },
   {
    "duration": 101,
    "start_time": "2022-03-20T22:56:52.889Z"
   },
   {
    "duration": 11,
    "start_time": "2022-03-20T22:56:52.992Z"
   },
   {
    "duration": 125,
    "start_time": "2022-03-20T22:56:53.005Z"
   },
   {
    "duration": 9,
    "start_time": "2022-03-20T22:56:53.132Z"
   },
   {
    "duration": 139,
    "start_time": "2022-03-20T22:56:53.143Z"
   },
   {
    "duration": 155,
    "start_time": "2022-03-20T22:56:53.284Z"
   },
   {
    "duration": 17,
    "start_time": "2022-03-20T22:56:53.441Z"
   },
   {
    "duration": 22,
    "start_time": "2022-03-20T22:56:53.460Z"
   },
   {
    "duration": 206,
    "start_time": "2022-03-20T22:56:53.483Z"
   },
   {
    "duration": 9,
    "start_time": "2022-03-20T22:56:53.691Z"
   },
   {
    "duration": 12,
    "start_time": "2022-03-20T22:56:53.701Z"
   },
   {
    "duration": 13,
    "start_time": "2022-03-20T22:56:53.714Z"
   },
   {
    "duration": 6,
    "start_time": "2022-03-20T22:56:53.729Z"
   },
   {
    "duration": 45,
    "start_time": "2022-03-20T22:56:53.737Z"
   },
   {
    "duration": 4,
    "start_time": "2022-03-20T22:56:53.784Z"
   },
   {
    "duration": 13,
    "start_time": "2022-03-20T22:56:53.790Z"
   },
   {
    "duration": 4,
    "start_time": "2022-03-20T22:56:53.805Z"
   },
   {
    "duration": 18,
    "start_time": "2022-03-20T22:56:53.811Z"
   },
   {
    "duration": 19,
    "start_time": "2022-03-20T22:56:53.831Z"
   },
   {
    "duration": 14,
    "start_time": "2022-03-20T22:56:53.881Z"
   },
   {
    "duration": 23,
    "start_time": "2022-03-20T22:56:53.897Z"
   },
   {
    "duration": 5,
    "start_time": "2022-03-20T22:56:53.922Z"
   },
   {
    "duration": 7,
    "start_time": "2022-03-20T22:56:53.928Z"
   },
   {
    "duration": 23,
    "start_time": "2022-03-20T22:56:53.936Z"
   },
   {
    "duration": 35,
    "start_time": "2022-03-20T22:56:53.961Z"
   },
   {
    "duration": 195,
    "start_time": "2022-03-20T22:56:53.997Z"
   },
   {
    "duration": 306,
    "start_time": "2022-03-20T22:56:54.193Z"
   },
   {
    "duration": 6,
    "start_time": "2022-03-20T22:56:54.500Z"
   },
   {
    "duration": 11,
    "start_time": "2022-03-20T22:56:54.507Z"
   },
   {
    "duration": 16,
    "start_time": "2022-03-20T22:56:54.519Z"
   },
   {
    "duration": 2,
    "start_time": "2022-03-20T22:56:54.537Z"
   },
   {
    "duration": 10,
    "start_time": "2022-03-20T22:56:54.541Z"
   },
   {
    "duration": 7,
    "start_time": "2022-03-20T22:56:54.553Z"
   },
   {
    "duration": 24,
    "start_time": "2022-03-20T22:56:54.561Z"
   },
   {
    "duration": 6,
    "start_time": "2022-03-20T22:56:54.586Z"
   },
   {
    "duration": 6,
    "start_time": "2022-03-20T22:56:54.593Z"
   },
   {
    "duration": 10,
    "start_time": "2022-03-20T22:56:54.600Z"
   },
   {
    "duration": 19,
    "start_time": "2022-03-20T22:56:54.612Z"
   },
   {
    "duration": 7,
    "start_time": "2022-03-20T22:56:54.632Z"
   },
   {
    "duration": 333,
    "start_time": "2022-03-20T22:56:54.640Z"
   },
   {
    "duration": 13,
    "start_time": "2022-03-20T22:56:54.974Z"
   },
   {
    "duration": 297,
    "start_time": "2022-03-20T22:56:54.989Z"
   },
   {
    "duration": 7,
    "start_time": "2022-03-20T22:56:55.288Z"
   },
   {
    "duration": 8,
    "start_time": "2022-03-20T23:10:06.662Z"
   },
   {
    "duration": 123,
    "start_time": "2022-03-20T23:12:45.811Z"
   },
   {
    "duration": 162,
    "start_time": "2022-03-20T23:13:14.894Z"
   },
   {
    "duration": 71,
    "start_time": "2022-03-20T23:17:57.118Z"
   },
   {
    "duration": 89,
    "start_time": "2022-03-20T23:18:43.195Z"
   },
   {
    "duration": 11,
    "start_time": "2022-03-20T23:18:53.581Z"
   },
   {
    "duration": 9,
    "start_time": "2022-03-20T23:24:03.455Z"
   },
   {
    "duration": 7,
    "start_time": "2022-03-20T23:24:50.695Z"
   },
   {
    "duration": 142,
    "start_time": "2022-03-20T23:25:39.082Z"
   },
   {
    "duration": 154,
    "start_time": "2022-03-20T23:25:50.064Z"
   },
   {
    "duration": 154,
    "start_time": "2022-03-20T23:25:54.840Z"
   },
   {
    "duration": 159,
    "start_time": "2022-03-20T23:26:47.933Z"
   },
   {
    "duration": 10,
    "start_time": "2022-03-20T23:27:47.267Z"
   },
   {
    "duration": 15,
    "start_time": "2022-03-20T23:28:08.249Z"
   },
   {
    "duration": 19,
    "start_time": "2022-03-20T23:28:35.018Z"
   },
   {
    "duration": 10,
    "start_time": "2022-03-20T23:42:25.348Z"
   },
   {
    "duration": 183,
    "start_time": "2022-03-20T23:42:29.353Z"
   },
   {
    "duration": 116,
    "start_time": "2022-03-20T23:43:25.280Z"
   },
   {
    "duration": 119,
    "start_time": "2022-03-20T23:44:57.883Z"
   },
   {
    "duration": 119,
    "start_time": "2022-03-20T23:45:12.764Z"
   },
   {
    "duration": 4,
    "start_time": "2022-03-20T23:52:01.598Z"
   },
   {
    "duration": 4,
    "start_time": "2022-03-20T23:52:40.286Z"
   },
   {
    "duration": 9,
    "start_time": "2022-03-20T23:54:30.359Z"
   },
   {
    "duration": 6,
    "start_time": "2022-03-20T23:58:53.368Z"
   },
   {
    "duration": 9,
    "start_time": "2022-03-21T00:00:16.969Z"
   },
   {
    "duration": 5,
    "start_time": "2022-03-21T00:00:30.243Z"
   },
   {
    "duration": 7,
    "start_time": "2022-03-21T00:01:16.946Z"
   },
   {
    "duration": 8,
    "start_time": "2022-03-21T00:01:20.081Z"
   },
   {
    "duration": 9,
    "start_time": "2022-03-21T00:01:26.729Z"
   },
   {
    "duration": 4,
    "start_time": "2022-03-21T00:01:34.223Z"
   },
   {
    "duration": 10,
    "start_time": "2022-03-21T00:08:37.580Z"
   },
   {
    "duration": 98,
    "start_time": "2022-03-21T00:08:40.859Z"
   },
   {
    "duration": 118,
    "start_time": "2022-03-21T00:09:31.886Z"
   },
   {
    "duration": 12,
    "start_time": "2022-03-21T00:10:48.938Z"
   },
   {
    "duration": 117,
    "start_time": "2022-03-21T00:10:51.931Z"
   },
   {
    "duration": 12,
    "start_time": "2022-03-21T00:12:00.502Z"
   },
   {
    "duration": 113,
    "start_time": "2022-03-21T00:12:02.650Z"
   },
   {
    "duration": 125,
    "start_time": "2022-03-21T00:15:01.551Z"
   },
   {
    "duration": 138,
    "start_time": "2022-03-21T00:31:47.863Z"
   },
   {
    "duration": 148,
    "start_time": "2022-03-21T00:33:47.633Z"
   },
   {
    "duration": 46,
    "start_time": "2022-03-21T00:35:18.704Z"
   },
   {
    "duration": 2928,
    "start_time": "2022-03-21T00:38:59.083Z"
   },
   {
    "duration": 145,
    "start_time": "2022-03-21T00:39:12.775Z"
   },
   {
    "duration": 1043,
    "start_time": "2022-03-21T00:42:26.094Z"
   },
   {
    "duration": 213,
    "start_time": "2022-03-21T00:42:27.139Z"
   },
   {
    "duration": 277,
    "start_time": "2022-03-21T00:42:27.353Z"
   },
   {
    "duration": 64,
    "start_time": "2022-03-21T00:42:27.632Z"
   },
   {
    "duration": 20,
    "start_time": "2022-03-21T00:42:27.698Z"
   },
   {
    "duration": 21,
    "start_time": "2022-03-21T00:42:27.719Z"
   },
   {
    "duration": 8,
    "start_time": "2022-03-21T00:42:27.742Z"
   },
   {
    "duration": 44,
    "start_time": "2022-03-21T00:42:27.752Z"
   },
   {
    "duration": 34,
    "start_time": "2022-03-21T00:42:27.797Z"
   },
   {
    "duration": 13,
    "start_time": "2022-03-21T00:42:27.833Z"
   },
   {
    "duration": 52,
    "start_time": "2022-03-21T00:42:27.848Z"
   },
   {
    "duration": 25,
    "start_time": "2022-03-21T00:42:27.901Z"
   },
   {
    "duration": 74,
    "start_time": "2022-03-21T00:42:27.927Z"
   },
   {
    "duration": 145,
    "start_time": "2022-03-21T00:42:28.003Z"
   },
   {
    "duration": 78,
    "start_time": "2022-03-21T00:42:28.149Z"
   },
   {
    "duration": 14,
    "start_time": "2022-03-21T00:42:28.228Z"
   },
   {
    "duration": 45,
    "start_time": "2022-03-21T00:42:28.243Z"
   },
   {
    "duration": 27,
    "start_time": "2022-03-21T00:42:28.290Z"
   },
   {
    "duration": 23,
    "start_time": "2022-03-21T00:42:28.318Z"
   },
   {
    "duration": 6,
    "start_time": "2022-03-21T00:42:28.343Z"
   },
   {
    "duration": 166,
    "start_time": "2022-03-21T00:42:28.351Z"
   },
   {
    "duration": 76,
    "start_time": "2022-03-21T00:42:28.519Z"
   },
   {
    "duration": 9,
    "start_time": "2022-03-21T00:42:28.597Z"
   },
   {
    "duration": 17,
    "start_time": "2022-03-21T00:42:28.608Z"
   },
   {
    "duration": 175,
    "start_time": "2022-03-21T00:42:28.626Z"
   },
   {
    "duration": 10,
    "start_time": "2022-03-21T00:42:28.803Z"
   },
   {
    "duration": 136,
    "start_time": "2022-03-21T00:42:28.814Z"
   },
   {
    "duration": 3,
    "start_time": "2022-03-21T00:42:28.954Z"
   },
   {
    "duration": 10,
    "start_time": "2022-03-21T00:42:28.958Z"
   },
   {
    "duration": 12,
    "start_time": "2022-03-21T00:42:28.970Z"
   },
   {
    "duration": 10,
    "start_time": "2022-03-21T00:42:28.983Z"
   },
   {
    "duration": 126,
    "start_time": "2022-03-21T00:42:28.994Z"
   },
   {
    "duration": 12,
    "start_time": "2022-03-21T00:42:29.121Z"
   },
   {
    "duration": 135,
    "start_time": "2022-03-21T00:42:29.135Z"
   },
   {
    "duration": 18,
    "start_time": "2022-03-21T00:42:29.272Z"
   },
   {
    "duration": 169,
    "start_time": "2022-03-21T00:42:29.292Z"
   },
   {
    "duration": 53,
    "start_time": "2022-03-21T00:42:29.463Z"
   },
   {
    "duration": 18,
    "start_time": "2022-03-21T00:42:29.517Z"
   },
   {
    "duration": 11,
    "start_time": "2022-03-21T00:42:29.537Z"
   },
   {
    "duration": 165,
    "start_time": "2022-03-21T00:42:29.550Z"
   },
   {
    "duration": 10,
    "start_time": "2022-03-21T00:42:29.717Z"
   },
   {
    "duration": 11,
    "start_time": "2022-03-21T00:42:29.729Z"
   },
   {
    "duration": 12,
    "start_time": "2022-03-21T00:42:29.742Z"
   },
   {
    "duration": 6,
    "start_time": "2022-03-21T00:42:29.756Z"
   },
   {
    "duration": 18,
    "start_time": "2022-03-21T00:42:29.781Z"
   },
   {
    "duration": 4,
    "start_time": "2022-03-21T00:42:29.800Z"
   },
   {
    "duration": 17,
    "start_time": "2022-03-21T00:42:29.805Z"
   },
   {
    "duration": 18,
    "start_time": "2022-03-21T00:42:29.823Z"
   },
   {
    "duration": 40,
    "start_time": "2022-03-21T00:42:29.842Z"
   },
   {
    "duration": 20,
    "start_time": "2022-03-21T00:42:29.883Z"
   },
   {
    "duration": 5,
    "start_time": "2022-03-21T00:42:29.904Z"
   },
   {
    "duration": 5,
    "start_time": "2022-03-21T00:42:29.910Z"
   },
   {
    "duration": 20,
    "start_time": "2022-03-21T00:42:29.916Z"
   },
   {
    "duration": 18,
    "start_time": "2022-03-21T00:42:29.937Z"
   },
   {
    "duration": 189,
    "start_time": "2022-03-21T00:42:29.980Z"
   },
   {
    "duration": 390,
    "start_time": "2022-03-21T00:42:30.171Z"
   },
   {
    "duration": 6,
    "start_time": "2022-03-21T00:42:30.563Z"
   },
   {
    "duration": 18,
    "start_time": "2022-03-21T00:42:30.570Z"
   },
   {
    "duration": 20,
    "start_time": "2022-03-21T00:42:30.590Z"
   },
   {
    "duration": 3,
    "start_time": "2022-03-21T00:42:30.612Z"
   },
   {
    "duration": 9,
    "start_time": "2022-03-21T00:42:30.616Z"
   },
   {
    "duration": 8,
    "start_time": "2022-03-21T00:42:30.627Z"
   },
   {
    "duration": 11,
    "start_time": "2022-03-21T00:42:30.636Z"
   },
   {
    "duration": 16,
    "start_time": "2022-03-21T00:42:30.649Z"
   },
   {
    "duration": 8,
    "start_time": "2022-03-21T00:42:30.666Z"
   },
   {
    "duration": 25,
    "start_time": "2022-03-21T00:42:30.680Z"
   },
   {
    "duration": 14,
    "start_time": "2022-03-21T00:42:30.707Z"
   },
   {
    "duration": 160,
    "start_time": "2022-03-21T00:42:30.723Z"
   },
   {
    "duration": 10,
    "start_time": "2022-03-21T00:42:30.884Z"
   },
   {
    "duration": 27,
    "start_time": "2022-03-21T00:42:30.895Z"
   },
   {
    "duration": 20,
    "start_time": "2022-03-21T00:42:30.923Z"
   },
   {
    "duration": 320,
    "start_time": "2022-03-21T00:42:30.945Z"
   },
   {
    "duration": 15,
    "start_time": "2022-03-21T00:42:31.267Z"
   },
   {
    "duration": 284,
    "start_time": "2022-03-21T00:42:31.284Z"
   },
   {
    "duration": 13,
    "start_time": "2022-03-21T00:42:31.569Z"
   },
   {
    "duration": 1934,
    "start_time": "2022-03-21T16:40:54.095Z"
   },
   {
    "duration": 316,
    "start_time": "2022-03-21T16:40:56.032Z"
   },
   {
    "duration": 460,
    "start_time": "2022-03-21T16:40:56.350Z"
   },
   {
    "duration": 100,
    "start_time": "2022-03-21T16:40:56.813Z"
   },
   {
    "duration": 20,
    "start_time": "2022-03-21T16:40:56.916Z"
   },
   {
    "duration": 60,
    "start_time": "2022-03-21T16:40:56.939Z"
   },
   {
    "duration": 15,
    "start_time": "2022-03-21T16:40:57.002Z"
   },
   {
    "duration": 72,
    "start_time": "2022-03-21T16:40:57.019Z"
   },
   {
    "duration": 56,
    "start_time": "2022-03-21T16:40:57.093Z"
   },
   {
    "duration": 48,
    "start_time": "2022-03-21T16:40:57.153Z"
   },
   {
    "duration": 93,
    "start_time": "2022-03-21T16:40:57.204Z"
   },
   {
    "duration": 52,
    "start_time": "2022-03-21T16:40:57.300Z"
   },
   {
    "duration": 135,
    "start_time": "2022-03-21T16:40:57.354Z"
   },
   {
    "duration": 256,
    "start_time": "2022-03-21T16:40:57.492Z"
   },
   {
    "duration": 159,
    "start_time": "2022-03-21T16:40:57.750Z"
   },
   {
    "duration": 22,
    "start_time": "2022-03-21T16:40:57.911Z"
   },
   {
    "duration": 56,
    "start_time": "2022-03-21T16:40:57.935Z"
   },
   {
    "duration": 38,
    "start_time": "2022-03-21T16:40:57.993Z"
   },
   {
    "duration": 65,
    "start_time": "2022-03-21T16:40:58.034Z"
   },
   {
    "duration": 12,
    "start_time": "2022-03-21T16:40:58.101Z"
   },
   {
    "duration": 292,
    "start_time": "2022-03-21T16:40:58.115Z"
   },
   {
    "duration": 121,
    "start_time": "2022-03-21T16:40:58.410Z"
   },
   {
    "duration": 19,
    "start_time": "2022-03-21T16:40:58.534Z"
   },
   {
    "duration": 53,
    "start_time": "2022-03-21T16:40:58.555Z"
   },
   {
    "duration": 331,
    "start_time": "2022-03-21T16:40:58.610Z"
   },
   {
    "duration": 16,
    "start_time": "2022-03-21T16:40:58.944Z"
   },
   {
    "duration": 262,
    "start_time": "2022-03-21T16:40:58.963Z"
   },
   {
    "duration": 7,
    "start_time": "2022-03-21T16:40:59.231Z"
   },
   {
    "duration": 18,
    "start_time": "2022-03-21T16:40:59.240Z"
   },
   {
    "duration": 26,
    "start_time": "2022-03-21T16:40:59.260Z"
   },
   {
    "duration": 22,
    "start_time": "2022-03-21T16:40:59.288Z"
   },
   {
    "duration": 239,
    "start_time": "2022-03-21T16:40:59.314Z"
   },
   {
    "duration": 30,
    "start_time": "2022-03-21T16:40:59.556Z"
   },
   {
    "duration": 267,
    "start_time": "2022-03-21T16:40:59.589Z"
   },
   {
    "duration": 24,
    "start_time": "2022-03-21T16:40:59.859Z"
   },
   {
    "duration": 304,
    "start_time": "2022-03-21T16:40:59.886Z"
   },
   {
    "duration": 70,
    "start_time": "2022-03-21T16:41:00.193Z"
   },
   {
    "duration": 47,
    "start_time": "2022-03-21T16:41:00.265Z"
   },
   {
    "duration": 22,
    "start_time": "2022-03-21T16:41:00.314Z"
   },
   {
    "duration": 314,
    "start_time": "2022-03-21T16:41:00.339Z"
   },
   {
    "duration": 29,
    "start_time": "2022-03-21T16:41:00.655Z"
   },
   {
    "duration": 15,
    "start_time": "2022-03-21T16:41:00.686Z"
   },
   {
    "duration": 31,
    "start_time": "2022-03-21T16:41:00.703Z"
   },
   {
    "duration": 12,
    "start_time": "2022-03-21T16:41:00.736Z"
   },
   {
    "duration": 59,
    "start_time": "2022-03-21T16:41:00.750Z"
   },
   {
    "duration": 5,
    "start_time": "2022-03-21T16:41:00.812Z"
   },
   {
    "duration": 34,
    "start_time": "2022-03-21T16:41:00.820Z"
   },
   {
    "duration": 35,
    "start_time": "2022-03-21T16:41:00.884Z"
   },
   {
    "duration": 25,
    "start_time": "2022-03-21T16:41:00.922Z"
   },
   {
    "duration": 61,
    "start_time": "2022-03-21T16:41:00.950Z"
   },
   {
    "duration": 14,
    "start_time": "2022-03-21T16:41:01.014Z"
   },
   {
    "duration": 11,
    "start_time": "2022-03-21T16:41:01.030Z"
   },
   {
    "duration": 63,
    "start_time": "2022-03-21T16:41:01.044Z"
   },
   {
    "duration": 33,
    "start_time": "2022-03-21T16:41:01.109Z"
   },
   {
    "duration": 499,
    "start_time": "2022-03-21T16:41:01.144Z"
   },
   {
    "duration": 627,
    "start_time": "2022-03-21T16:41:01.646Z"
   },
   {
    "duration": 14,
    "start_time": "2022-03-21T16:41:02.276Z"
   },
   {
    "duration": 22,
    "start_time": "2022-03-21T16:41:02.292Z"
   },
   {
    "duration": 42,
    "start_time": "2022-03-21T16:41:02.317Z"
   },
   {
    "duration": 8,
    "start_time": "2022-03-21T16:41:02.361Z"
   },
   {
    "duration": 5,
    "start_time": "2022-03-21T16:41:02.384Z"
   },
   {
    "duration": 15,
    "start_time": "2022-03-21T16:41:02.392Z"
   },
   {
    "duration": 9,
    "start_time": "2022-03-21T16:41:02.410Z"
   },
   {
    "duration": 9,
    "start_time": "2022-03-21T16:41:02.422Z"
   },
   {
    "duration": 18,
    "start_time": "2022-03-21T16:41:02.434Z"
   },
   {
    "duration": 45,
    "start_time": "2022-03-21T16:41:02.484Z"
   },
   {
    "duration": 54,
    "start_time": "2022-03-21T16:41:02.531Z"
   },
   {
    "duration": 276,
    "start_time": "2022-03-21T16:41:02.588Z"
   },
   {
    "duration": 23,
    "start_time": "2022-03-21T16:41:02.867Z"
   },
   {
    "duration": 33,
    "start_time": "2022-03-21T16:41:02.892Z"
   },
   {
    "duration": 15,
    "start_time": "2022-03-21T16:41:02.928Z"
   },
   {
    "duration": 643,
    "start_time": "2022-03-21T16:41:02.946Z"
   },
   {
    "duration": 18,
    "start_time": "2022-03-21T16:41:03.592Z"
   },
   {
    "duration": 544,
    "start_time": "2022-03-21T16:41:03.613Z"
   },
   {
    "duration": 27,
    "start_time": "2022-03-21T16:41:04.161Z"
   },
   {
    "duration": 57,
    "start_time": "2022-03-21T17:04:01.234Z"
   },
   {
    "duration": 27,
    "start_time": "2022-03-21T17:04:22.836Z"
   },
   {
    "duration": 154,
    "start_time": "2022-03-21T17:47:39.130Z"
   },
   {
    "duration": 1665,
    "start_time": "2022-03-21T17:47:47.448Z"
   },
   {
    "duration": 450,
    "start_time": "2022-03-21T17:47:49.116Z"
   },
   {
    "duration": 737,
    "start_time": "2022-03-21T17:47:49.569Z"
   },
   {
    "duration": 154,
    "start_time": "2022-03-21T17:47:50.311Z"
   },
   {
    "duration": 28,
    "start_time": "2022-03-21T17:47:50.468Z"
   },
   {
    "duration": 37,
    "start_time": "2022-03-21T17:47:50.498Z"
   },
   {
    "duration": 54,
    "start_time": "2022-03-21T17:47:50.539Z"
   },
   {
    "duration": 38,
    "start_time": "2022-03-21T17:47:50.595Z"
   },
   {
    "duration": 82,
    "start_time": "2022-03-21T17:47:50.635Z"
   },
   {
    "duration": 22,
    "start_time": "2022-03-21T17:47:50.721Z"
   },
   {
    "duration": 101,
    "start_time": "2022-03-21T17:47:50.746Z"
   },
   {
    "duration": 50,
    "start_time": "2022-03-21T17:47:50.850Z"
   },
   {
    "duration": 121,
    "start_time": "2022-03-21T17:47:50.903Z"
   },
   {
    "duration": 243,
    "start_time": "2022-03-21T17:47:51.027Z"
   },
   {
    "duration": 146,
    "start_time": "2022-03-21T17:47:51.272Z"
   },
   {
    "duration": 21,
    "start_time": "2022-03-21T17:47:51.420Z"
   },
   {
    "duration": 54,
    "start_time": "2022-03-21T17:47:51.443Z"
   },
   {
    "duration": 53,
    "start_time": "2022-03-21T17:47:51.499Z"
   },
   {
    "duration": 57,
    "start_time": "2022-03-21T17:47:51.555Z"
   },
   {
    "duration": 15,
    "start_time": "2022-03-21T17:47:51.615Z"
   },
   {
    "duration": 442,
    "start_time": "2022-03-21T17:47:51.633Z"
   },
   {
    "duration": 125,
    "start_time": "2022-03-21T17:47:52.077Z"
   },
   {
    "duration": 17,
    "start_time": "2022-03-21T17:47:52.205Z"
   },
   {
    "duration": 59,
    "start_time": "2022-03-21T17:47:52.224Z"
   },
   {
    "duration": 320,
    "start_time": "2022-03-21T17:47:52.286Z"
   },
   {
    "duration": 17,
    "start_time": "2022-03-21T17:47:52.609Z"
   },
   {
    "duration": 270,
    "start_time": "2022-03-21T17:47:52.628Z"
   },
   {
    "duration": 7,
    "start_time": "2022-03-21T17:47:52.905Z"
   },
   {
    "duration": 18,
    "start_time": "2022-03-21T17:47:52.914Z"
   },
   {
    "duration": 8,
    "start_time": "2022-03-21T17:47:52.934Z"
   },
   {
    "duration": 52,
    "start_time": "2022-03-21T17:47:52.945Z"
   },
   {
    "duration": 253,
    "start_time": "2022-03-21T17:47:53.000Z"
   },
   {
    "duration": 38,
    "start_time": "2022-03-21T17:47:53.256Z"
   },
   {
    "duration": 390,
    "start_time": "2022-03-21T17:47:53.297Z"
   },
   {
    "duration": 23,
    "start_time": "2022-03-21T17:47:53.690Z"
   },
   {
    "duration": 463,
    "start_time": "2022-03-21T17:47:53.716Z"
   },
   {
    "duration": 115,
    "start_time": "2022-03-21T17:47:54.183Z"
   },
   {
    "duration": 42,
    "start_time": "2022-03-21T17:47:54.300Z"
   },
   {
    "duration": 46,
    "start_time": "2022-03-21T17:47:54.346Z"
   },
   {
    "duration": 332,
    "start_time": "2022-03-21T17:47:54.395Z"
   },
   {
    "duration": 32,
    "start_time": "2022-03-21T17:47:54.729Z"
   },
   {
    "duration": 49,
    "start_time": "2022-03-21T17:47:54.763Z"
   },
   {
    "duration": 28,
    "start_time": "2022-03-21T17:47:54.815Z"
   },
   {
    "duration": 44,
    "start_time": "2022-03-21T17:47:54.846Z"
   },
   {
    "duration": 25,
    "start_time": "2022-03-21T17:47:54.893Z"
   },
   {
    "duration": 65,
    "start_time": "2022-03-21T17:47:54.921Z"
   },
   {
    "duration": 393,
    "start_time": "2022-03-21T17:47:54.988Z"
   },
   {
    "duration": 914,
    "start_time": "2022-03-21T17:47:55.383Z"
   },
   {
    "duration": 40,
    "start_time": "2022-03-21T17:47:56.301Z"
   },
   {
    "duration": 7,
    "start_time": "2022-03-21T17:47:56.345Z"
   },
   {
    "duration": 28,
    "start_time": "2022-03-21T17:47:56.356Z"
   },
   {
    "duration": 11,
    "start_time": "2022-03-21T17:47:56.387Z"
   },
   {
    "duration": 9,
    "start_time": "2022-03-21T17:47:56.401Z"
   },
   {
    "duration": 9,
    "start_time": "2022-03-21T17:47:56.412Z"
   },
   {
    "duration": 8,
    "start_time": "2022-03-21T17:47:56.423Z"
   },
   {
    "duration": 42,
    "start_time": "2022-03-21T17:47:56.483Z"
   },
   {
    "duration": 56,
    "start_time": "2022-03-21T17:47:56.528Z"
   },
   {
    "duration": 283,
    "start_time": "2022-03-21T17:47:56.586Z"
   },
   {
    "duration": 28,
    "start_time": "2022-03-21T17:47:56.871Z"
   },
   {
    "duration": 46,
    "start_time": "2022-03-21T17:47:56.902Z"
   },
   {
    "duration": 41,
    "start_time": "2022-03-21T17:47:56.950Z"
   },
   {
    "duration": 602,
    "start_time": "2022-03-21T17:47:56.994Z"
   },
   {
    "duration": 11,
    "start_time": "2022-03-21T17:47:57.599Z"
   },
   {
    "duration": 567,
    "start_time": "2022-03-21T17:47:57.612Z"
   },
   {
    "duration": 14,
    "start_time": "2022-03-21T17:47:58.185Z"
   },
   {
    "duration": 630,
    "start_time": "2022-03-21T17:48:26.912Z"
   },
   {
    "duration": 541,
    "start_time": "2022-03-21T17:49:17.798Z"
   },
   {
    "duration": 42,
    "start_time": "2022-03-21T18:03:29.899Z"
   },
   {
    "duration": 7,
    "start_time": "2022-03-21T18:04:48.371Z"
   },
   {
    "duration": 6,
    "start_time": "2022-03-21T18:04:58.330Z"
   },
   {
    "duration": 12,
    "start_time": "2022-03-21T18:05:02.377Z"
   },
   {
    "duration": 10,
    "start_time": "2022-03-21T18:05:37.233Z"
   },
   {
    "duration": 5,
    "start_time": "2022-03-21T19:17:57.756Z"
   },
   {
    "duration": 7,
    "start_time": "2022-03-21T19:17:58.295Z"
   },
   {
    "duration": 8,
    "start_time": "2022-03-21T19:17:58.833Z"
   },
   {
    "duration": 9,
    "start_time": "2022-03-21T19:17:59.264Z"
   },
   {
    "duration": 13,
    "start_time": "2022-03-21T19:17:59.802Z"
   },
   {
    "duration": 17,
    "start_time": "2022-03-21T19:25:25.716Z"
   },
   {
    "duration": 273,
    "start_time": "2022-03-21T19:26:17.449Z"
   },
   {
    "duration": 13,
    "start_time": "2022-03-21T19:28:58.416Z"
   },
   {
    "duration": 12,
    "start_time": "2022-03-21T19:30:39.026Z"
   },
   {
    "duration": 4,
    "start_time": "2022-03-21T19:32:50.866Z"
   },
   {
    "duration": 155,
    "start_time": "2022-03-21T19:33:03.902Z"
   },
   {
    "duration": 175,
    "start_time": "2022-03-21T19:33:07.606Z"
   },
   {
    "duration": 14,
    "start_time": "2022-03-21T19:33:22.738Z"
   },
   {
    "duration": 6,
    "start_time": "2022-03-21T19:35:00.695Z"
   },
   {
    "duration": 10,
    "start_time": "2022-03-21T19:35:01.605Z"
   },
   {
    "duration": 9,
    "start_time": "2022-03-21T19:35:02.618Z"
   },
   {
    "duration": 8,
    "start_time": "2022-03-21T19:35:03.225Z"
   },
   {
    "duration": 9,
    "start_time": "2022-03-21T19:35:04.013Z"
   },
   {
    "duration": 5,
    "start_time": "2022-03-21T19:35:07.210Z"
   },
   {
    "duration": 8,
    "start_time": "2022-03-21T19:35:07.555Z"
   },
   {
    "duration": 8,
    "start_time": "2022-03-21T19:35:07.994Z"
   },
   {
    "duration": 9,
    "start_time": "2022-03-21T19:35:08.368Z"
   },
   {
    "duration": 7,
    "start_time": "2022-03-21T19:35:08.974Z"
   },
   {
    "duration": 1882,
    "start_time": "2022-03-21T19:35:22.442Z"
   },
   {
    "duration": 365,
    "start_time": "2022-03-21T19:35:24.328Z"
   },
   {
    "duration": 555,
    "start_time": "2022-03-21T19:35:24.696Z"
   },
   {
    "duration": 140,
    "start_time": "2022-03-21T19:35:25.253Z"
   },
   {
    "duration": 25,
    "start_time": "2022-03-21T19:35:25.400Z"
   },
   {
    "duration": 75,
    "start_time": "2022-03-21T19:35:25.428Z"
   },
   {
    "duration": 16,
    "start_time": "2022-03-21T19:35:25.506Z"
   },
   {
    "duration": 41,
    "start_time": "2022-03-21T19:35:25.525Z"
   },
   {
    "duration": 70,
    "start_time": "2022-03-21T19:35:25.584Z"
   },
   {
    "duration": 36,
    "start_time": "2022-03-21T19:35:25.683Z"
   },
   {
    "duration": 66,
    "start_time": "2022-03-21T19:35:25.721Z"
   },
   {
    "duration": 51,
    "start_time": "2022-03-21T19:35:25.790Z"
   },
   {
    "duration": 152,
    "start_time": "2022-03-21T19:35:25.844Z"
   },
   {
    "duration": 298,
    "start_time": "2022-03-21T19:35:26.004Z"
   },
   {
    "duration": 201,
    "start_time": "2022-03-21T19:35:26.314Z"
   },
   {
    "duration": 36,
    "start_time": "2022-03-21T19:35:26.518Z"
   },
   {
    "duration": 68,
    "start_time": "2022-03-21T19:35:26.557Z"
   },
   {
    "duration": 59,
    "start_time": "2022-03-21T19:35:26.628Z"
   },
   {
    "duration": 51,
    "start_time": "2022-03-21T19:35:26.690Z"
   },
   {
    "duration": 45,
    "start_time": "2022-03-21T19:35:26.744Z"
   },
   {
    "duration": 364,
    "start_time": "2022-03-21T19:35:26.803Z"
   },
   {
    "duration": 139,
    "start_time": "2022-03-21T19:35:27.170Z"
   },
   {
    "duration": 21,
    "start_time": "2022-03-21T19:35:27.312Z"
   },
   {
    "duration": 60,
    "start_time": "2022-03-21T19:35:27.336Z"
   },
   {
    "duration": 378,
    "start_time": "2022-03-21T19:35:27.400Z"
   },
   {
    "duration": 21,
    "start_time": "2022-03-21T19:35:27.785Z"
   },
   {
    "duration": 278,
    "start_time": "2022-03-21T19:35:27.809Z"
   },
   {
    "duration": 9,
    "start_time": "2022-03-21T19:35:28.091Z"
   },
   {
    "duration": 19,
    "start_time": "2022-03-21T19:35:28.103Z"
   },
   {
    "duration": 7,
    "start_time": "2022-03-21T19:35:28.124Z"
   },
   {
    "duration": 23,
    "start_time": "2022-03-21T19:35:28.134Z"
   },
   {
    "duration": 258,
    "start_time": "2022-03-21T19:35:28.184Z"
   },
   {
    "duration": 22,
    "start_time": "2022-03-21T19:35:28.444Z"
   },
   {
    "duration": 488,
    "start_time": "2022-03-21T19:35:28.485Z"
   },
   {
    "duration": 16,
    "start_time": "2022-03-21T19:35:28.984Z"
   },
   {
    "duration": 337,
    "start_time": "2022-03-21T19:35:29.004Z"
   },
   {
    "duration": 104,
    "start_time": "2022-03-21T19:35:29.344Z"
   },
   {
    "duration": 57,
    "start_time": "2022-03-21T19:35:29.450Z"
   },
   {
    "duration": 16,
    "start_time": "2022-03-21T19:35:29.510Z"
   },
   {
    "duration": 381,
    "start_time": "2022-03-21T19:35:29.529Z"
   },
   {
    "duration": 42,
    "start_time": "2022-03-21T19:35:29.919Z"
   },
   {
    "duration": 68,
    "start_time": "2022-03-21T19:35:29.964Z"
   },
   {
    "duration": 49,
    "start_time": "2022-03-21T19:35:30.035Z"
   },
   {
    "duration": 20,
    "start_time": "2022-03-21T19:35:30.090Z"
   },
   {
    "duration": 31,
    "start_time": "2022-03-21T19:35:30.113Z"
   },
   {
    "duration": 78,
    "start_time": "2022-03-21T19:35:30.146Z"
   },
   {
    "duration": 404,
    "start_time": "2022-03-21T19:35:30.227Z"
   },
   {
    "duration": 650,
    "start_time": "2022-03-21T19:35:30.634Z"
   },
   {
    "duration": 54,
    "start_time": "2022-03-21T19:35:31.288Z"
   },
   {
    "duration": 8,
    "start_time": "2022-03-21T19:35:31.344Z"
   },
   {
    "duration": 23,
    "start_time": "2022-03-21T19:35:31.355Z"
   },
   {
    "duration": 37,
    "start_time": "2022-03-21T19:35:31.387Z"
   },
   {
    "duration": 14,
    "start_time": "2022-03-21T19:35:31.428Z"
   },
   {
    "duration": 14,
    "start_time": "2022-03-21T19:35:31.445Z"
   },
   {
    "duration": 72,
    "start_time": "2022-03-21T19:35:31.461Z"
   },
   {
    "duration": 25,
    "start_time": "2022-03-21T19:35:31.536Z"
   },
   {
    "duration": 298,
    "start_time": "2022-03-21T19:35:31.564Z"
   },
   {
    "duration": 33,
    "start_time": "2022-03-21T19:35:31.865Z"
   },
   {
    "duration": 61,
    "start_time": "2022-03-21T19:35:31.902Z"
   },
   {
    "duration": 22,
    "start_time": "2022-03-21T19:35:31.965Z"
   },
   {
    "duration": 666,
    "start_time": "2022-03-21T19:35:31.990Z"
   },
   {
    "duration": 33,
    "start_time": "2022-03-21T19:35:32.659Z"
   },
   {
    "duration": 613,
    "start_time": "2022-03-21T19:35:32.695Z"
   },
   {
    "duration": 15,
    "start_time": "2022-03-21T19:35:33.310Z"
   },
   {
    "duration": 1620,
    "start_time": "2022-03-21T19:36:07.092Z"
   },
   {
    "duration": 423,
    "start_time": "2022-03-21T19:36:08.715Z"
   },
   {
    "duration": 759,
    "start_time": "2022-03-21T19:36:09.142Z"
   },
   {
    "duration": 164,
    "start_time": "2022-03-21T19:36:09.904Z"
   },
   {
    "duration": 28,
    "start_time": "2022-03-21T19:36:10.087Z"
   },
   {
    "duration": 47,
    "start_time": "2022-03-21T19:36:10.118Z"
   },
   {
    "duration": 19,
    "start_time": "2022-03-21T19:36:10.185Z"
   },
   {
    "duration": 37,
    "start_time": "2022-03-21T19:36:10.206Z"
   },
   {
    "duration": 94,
    "start_time": "2022-03-21T19:36:10.246Z"
   },
   {
    "duration": 54,
    "start_time": "2022-03-21T19:36:10.342Z"
   },
   {
    "duration": 41,
    "start_time": "2022-03-21T19:36:10.399Z"
   },
   {
    "duration": 83,
    "start_time": "2022-03-21T19:36:10.443Z"
   },
   {
    "duration": 172,
    "start_time": "2022-03-21T19:36:10.530Z"
   },
   {
    "duration": 303,
    "start_time": "2022-03-21T19:36:10.707Z"
   },
   {
    "duration": 230,
    "start_time": "2022-03-21T19:36:11.013Z"
   },
   {
    "duration": 65,
    "start_time": "2022-03-21T19:36:11.251Z"
   },
   {
    "duration": 26,
    "start_time": "2022-03-21T19:36:11.319Z"
   },
   {
    "duration": 88,
    "start_time": "2022-03-21T19:36:11.349Z"
   },
   {
    "duration": 62,
    "start_time": "2022-03-21T19:36:11.440Z"
   },
   {
    "duration": 11,
    "start_time": "2022-03-21T19:36:11.505Z"
   },
   {
    "duration": 326,
    "start_time": "2022-03-21T19:36:11.519Z"
   },
   {
    "duration": 185,
    "start_time": "2022-03-21T19:36:11.848Z"
   },
   {
    "duration": 25,
    "start_time": "2022-03-21T19:36:12.036Z"
   },
   {
    "duration": 39,
    "start_time": "2022-03-21T19:36:12.083Z"
   },
   {
    "duration": 378,
    "start_time": "2022-03-21T19:36:12.125Z"
   },
   {
    "duration": 16,
    "start_time": "2022-03-21T19:36:12.507Z"
   },
   {
    "duration": 362,
    "start_time": "2022-03-21T19:36:12.526Z"
   },
   {
    "duration": 8,
    "start_time": "2022-03-21T19:36:12.892Z"
   },
   {
    "duration": 29,
    "start_time": "2022-03-21T19:36:12.903Z"
   },
   {
    "duration": 12,
    "start_time": "2022-03-21T19:36:12.934Z"
   },
   {
    "duration": 48,
    "start_time": "2022-03-21T19:36:12.948Z"
   },
   {
    "duration": 334,
    "start_time": "2022-03-21T19:36:12.999Z"
   },
   {
    "duration": 23,
    "start_time": "2022-03-21T19:36:13.336Z"
   },
   {
    "duration": 314,
    "start_time": "2022-03-21T19:36:13.362Z"
   },
   {
    "duration": 21,
    "start_time": "2022-03-21T19:36:13.684Z"
   },
   {
    "duration": 329,
    "start_time": "2022-03-21T19:36:13.707Z"
   },
   {
    "duration": 117,
    "start_time": "2022-03-21T19:36:14.039Z"
   },
   {
    "duration": 53,
    "start_time": "2022-03-21T19:36:14.159Z"
   },
   {
    "duration": 21,
    "start_time": "2022-03-21T19:36:14.215Z"
   },
   {
    "duration": 451,
    "start_time": "2022-03-21T19:36:14.240Z"
   },
   {
    "duration": 33,
    "start_time": "2022-03-21T19:36:14.701Z"
   },
   {
    "duration": 61,
    "start_time": "2022-03-21T19:36:14.737Z"
   },
   {
    "duration": 27,
    "start_time": "2022-03-21T19:36:14.800Z"
   },
   {
    "duration": 15,
    "start_time": "2022-03-21T19:36:14.830Z"
   },
   {
    "duration": 61,
    "start_time": "2022-03-21T19:36:14.847Z"
   },
   {
    "duration": 38,
    "start_time": "2022-03-21T19:36:14.910Z"
   },
   {
    "duration": 406,
    "start_time": "2022-03-21T19:36:14.951Z"
   },
   {
    "duration": 627,
    "start_time": "2022-03-21T19:36:15.360Z"
   },
   {
    "duration": 41,
    "start_time": "2022-03-21T19:36:15.990Z"
   },
   {
    "duration": 6,
    "start_time": "2022-03-21T19:36:16.034Z"
   },
   {
    "duration": 43,
    "start_time": "2022-03-21T19:36:16.043Z"
   },
   {
    "duration": 10,
    "start_time": "2022-03-21T19:36:16.090Z"
   },
   {
    "duration": 16,
    "start_time": "2022-03-21T19:36:16.102Z"
   },
   {
    "duration": 17,
    "start_time": "2022-03-21T19:36:16.121Z"
   },
   {
    "duration": 78,
    "start_time": "2022-03-21T19:36:16.141Z"
   },
   {
    "duration": 33,
    "start_time": "2022-03-21T19:36:16.222Z"
   },
   {
    "duration": 315,
    "start_time": "2022-03-21T19:36:16.257Z"
   },
   {
    "duration": 21,
    "start_time": "2022-03-21T19:36:16.574Z"
   },
   {
    "duration": 32,
    "start_time": "2022-03-21T19:36:16.599Z"
   },
   {
    "duration": 14,
    "start_time": "2022-03-21T19:36:16.634Z"
   },
   {
    "duration": 629,
    "start_time": "2022-03-21T19:36:16.683Z"
   },
   {
    "duration": 12,
    "start_time": "2022-03-21T19:36:17.314Z"
   },
   {
    "duration": 1062,
    "start_time": "2022-03-21T19:36:17.329Z"
   },
   {
    "duration": 11,
    "start_time": "2022-03-21T19:36:18.394Z"
   },
   {
    "duration": 140,
    "start_time": "2022-03-21T19:56:45.261Z"
   },
   {
    "duration": 6,
    "start_time": "2022-03-21T19:56:47.882Z"
   },
   {
    "duration": 8,
    "start_time": "2022-03-21T19:56:48.207Z"
   },
   {
    "duration": 5,
    "start_time": "2022-03-21T19:58:19.762Z"
   },
   {
    "duration": 9,
    "start_time": "2022-03-21T19:58:20.211Z"
   },
   {
    "duration": 9,
    "start_time": "2022-03-21T19:58:20.729Z"
   },
   {
    "duration": 7,
    "start_time": "2022-03-21T19:58:21.191Z"
   },
   {
    "duration": 7,
    "start_time": "2022-03-21T19:58:40.194Z"
   },
   {
    "duration": 8,
    "start_time": "2022-03-21T19:58:40.588Z"
   },
   {
    "duration": 8,
    "start_time": "2022-03-21T19:58:40.990Z"
   },
   {
    "duration": 7,
    "start_time": "2022-03-21T19:58:41.408Z"
   },
   {
    "duration": 8,
    "start_time": "2022-03-21T19:58:42.536Z"
   },
   {
    "duration": 6,
    "start_time": "2022-03-21T20:00:12.320Z"
   },
   {
    "duration": 9,
    "start_time": "2022-03-21T20:00:12.749Z"
   },
   {
    "duration": 8,
    "start_time": "2022-03-21T20:00:13.163Z"
   },
   {
    "duration": 8,
    "start_time": "2022-03-21T20:00:13.636Z"
   },
   {
    "duration": 6,
    "start_time": "2022-03-21T20:01:23.873Z"
   },
   {
    "duration": 8,
    "start_time": "2022-03-21T20:01:24.322Z"
   },
   {
    "duration": 8,
    "start_time": "2022-03-21T20:01:24.861Z"
   },
   {
    "duration": 8,
    "start_time": "2022-03-21T20:01:25.323Z"
   },
   {
    "duration": 8,
    "start_time": "2022-03-21T20:01:25.885Z"
   },
   {
    "duration": 7,
    "start_time": "2022-03-21T20:04:46.964Z"
   },
   {
    "duration": 9,
    "start_time": "2022-03-21T20:05:02.780Z"
   },
   {
    "duration": 8,
    "start_time": "2022-03-21T20:05:27.305Z"
   },
   {
    "duration": 7,
    "start_time": "2022-03-21T20:05:46.206Z"
   },
   {
    "duration": 5,
    "start_time": "2022-03-21T20:12:09.850Z"
   },
   {
    "duration": 9,
    "start_time": "2022-03-21T20:12:11.054Z"
   },
   {
    "duration": 7,
    "start_time": "2022-03-21T20:12:12.166Z"
   },
   {
    "duration": 10,
    "start_time": "2022-03-21T20:12:13.562Z"
   },
   {
    "duration": 8,
    "start_time": "2022-03-21T20:12:14.574Z"
   },
   {
    "duration": 9,
    "start_time": "2022-03-21T20:12:18.826Z"
   },
   {
    "duration": 6,
    "start_time": "2022-03-21T20:12:19.918Z"
   },
   {
    "duration": 7,
    "start_time": "2022-03-21T20:12:21.077Z"
   },
   {
    "duration": 151,
    "start_time": "2022-03-21T20:13:08.559Z"
   },
   {
    "duration": 6,
    "start_time": "2022-03-21T20:13:14.879Z"
   },
   {
    "duration": 8,
    "start_time": "2022-03-21T20:13:15.359Z"
   },
   {
    "duration": 8,
    "start_time": "2022-03-21T20:13:15.808Z"
   },
   {
    "duration": 8,
    "start_time": "2022-03-21T20:13:16.226Z"
   },
   {
    "duration": 7,
    "start_time": "2022-03-21T20:13:16.619Z"
   },
   {
    "duration": 5,
    "start_time": "2022-03-21T20:13:37.046Z"
   },
   {
    "duration": 8,
    "start_time": "2022-03-21T20:13:37.387Z"
   },
   {
    "duration": 7,
    "start_time": "2022-03-21T20:13:37.759Z"
   },
   {
    "duration": 7,
    "start_time": "2022-03-21T20:13:38.129Z"
   },
   {
    "duration": 8,
    "start_time": "2022-03-21T20:13:38.602Z"
   },
   {
    "duration": 7,
    "start_time": "2022-03-21T20:14:09.461Z"
   },
   {
    "duration": 9,
    "start_time": "2022-03-21T20:14:09.935Z"
   },
   {
    "duration": 8,
    "start_time": "2022-03-21T20:14:10.351Z"
   },
   {
    "duration": 8,
    "start_time": "2022-03-21T20:14:10.745Z"
   },
   {
    "duration": 5,
    "start_time": "2022-03-21T20:15:18.078Z"
   },
   {
    "duration": 8,
    "start_time": "2022-03-21T20:15:18.470Z"
   },
   {
    "duration": 8,
    "start_time": "2022-03-21T20:15:18.852Z"
   },
   {
    "duration": 8,
    "start_time": "2022-03-21T20:15:19.337Z"
   },
   {
    "duration": 5,
    "start_time": "2022-03-21T20:15:24.286Z"
   },
   {
    "duration": 8,
    "start_time": "2022-03-21T20:15:24.669Z"
   },
   {
    "duration": 8,
    "start_time": "2022-03-21T20:15:25.705Z"
   },
   {
    "duration": 8,
    "start_time": "2022-03-21T20:15:26.279Z"
   },
   {
    "duration": 8,
    "start_time": "2022-03-21T20:31:57.323Z"
   },
   {
    "duration": 7,
    "start_time": "2022-03-21T20:31:59.292Z"
   },
   {
    "duration": 7,
    "start_time": "2022-03-21T20:32:06.795Z"
   },
   {
    "duration": 30,
    "start_time": "2022-03-21T20:51:32.220Z"
   },
   {
    "duration": 36,
    "start_time": "2022-03-21T20:52:12.105Z"
   },
   {
    "duration": 266,
    "start_time": "2022-03-21T20:54:36.662Z"
   },
   {
    "duration": 48,
    "start_time": "2022-03-21T20:55:44.329Z"
   },
   {
    "duration": 13,
    "start_time": "2022-03-21T21:01:10.673Z"
   },
   {
    "duration": 585,
    "start_time": "2022-03-21T21:01:16.219Z"
   },
   {
    "duration": 10,
    "start_time": "2022-03-21T21:03:50.026Z"
   },
   {
    "duration": 16,
    "start_time": "2022-03-21T21:05:28.698Z"
   },
   {
    "duration": 11,
    "start_time": "2022-03-21T21:06:10.527Z"
   },
   {
    "duration": 543,
    "start_time": "2022-03-21T21:12:37.716Z"
   },
   {
    "duration": 631,
    "start_time": "2022-03-21T21:12:52.341Z"
   },
   {
    "duration": 9,
    "start_time": "2022-03-21T21:13:34.170Z"
   },
   {
    "duration": 501,
    "start_time": "2022-03-21T21:13:56.511Z"
   },
   {
    "duration": 525,
    "start_time": "2022-03-21T21:15:00.807Z"
   },
   {
    "duration": 610,
    "start_time": "2022-03-21T21:15:09.289Z"
   },
   {
    "duration": 12,
    "start_time": "2022-03-21T21:16:32.609Z"
   },
   {
    "duration": 1584,
    "start_time": "2022-03-21T21:40:27.133Z"
   },
   {
    "duration": 418,
    "start_time": "2022-03-21T21:40:28.720Z"
   },
   {
    "duration": 676,
    "start_time": "2022-03-21T21:40:29.141Z"
   },
   {
    "duration": 102,
    "start_time": "2022-03-21T21:40:29.822Z"
   },
   {
    "duration": 35,
    "start_time": "2022-03-21T21:40:29.926Z"
   },
   {
    "duration": 48,
    "start_time": "2022-03-21T21:40:29.964Z"
   },
   {
    "duration": 15,
    "start_time": "2022-03-21T21:40:30.015Z"
   },
   {
    "duration": 207,
    "start_time": "2022-03-21T21:40:30.032Z"
   },
   {
    "duration": 58,
    "start_time": "2022-03-21T21:40:30.241Z"
   },
   {
    "duration": 22,
    "start_time": "2022-03-21T21:40:30.304Z"
   },
   {
    "duration": 73,
    "start_time": "2022-03-21T21:40:30.328Z"
   },
   {
    "duration": 52,
    "start_time": "2022-03-21T21:40:30.403Z"
   },
   {
    "duration": 114,
    "start_time": "2022-03-21T21:40:30.457Z"
   },
   {
    "duration": 248,
    "start_time": "2022-03-21T21:40:30.585Z"
   },
   {
    "duration": 177,
    "start_time": "2022-03-21T21:40:30.835Z"
   },
   {
    "duration": 34,
    "start_time": "2022-03-21T21:40:31.014Z"
   },
   {
    "duration": 54,
    "start_time": "2022-03-21T21:40:31.051Z"
   },
   {
    "duration": 68,
    "start_time": "2022-03-21T21:40:31.107Z"
   },
   {
    "duration": 47,
    "start_time": "2022-03-21T21:40:31.178Z"
   },
   {
    "duration": 11,
    "start_time": "2022-03-21T21:40:31.228Z"
   },
   {
    "duration": 310,
    "start_time": "2022-03-21T21:40:31.241Z"
   },
   {
    "duration": 150,
    "start_time": "2022-03-21T21:40:31.554Z"
   },
   {
    "duration": 21,
    "start_time": "2022-03-21T21:40:31.706Z"
   },
   {
    "duration": 36,
    "start_time": "2022-03-21T21:40:31.729Z"
   },
   {
    "duration": 331,
    "start_time": "2022-03-21T21:40:31.784Z"
   },
   {
    "duration": 18,
    "start_time": "2022-03-21T21:40:32.117Z"
   },
   {
    "duration": 263,
    "start_time": "2022-03-21T21:40:32.138Z"
   },
   {
    "duration": 6,
    "start_time": "2022-03-21T21:40:32.407Z"
   },
   {
    "duration": 21,
    "start_time": "2022-03-21T21:40:32.415Z"
   },
   {
    "duration": 6,
    "start_time": "2022-03-21T21:40:32.439Z"
   },
   {
    "duration": 45,
    "start_time": "2022-03-21T21:40:32.447Z"
   },
   {
    "duration": 240,
    "start_time": "2022-03-21T21:40:32.494Z"
   },
   {
    "duration": 21,
    "start_time": "2022-03-21T21:40:32.736Z"
   },
   {
    "duration": 260,
    "start_time": "2022-03-21T21:40:32.759Z"
   },
   {
    "duration": 17,
    "start_time": "2022-03-21T21:40:33.021Z"
   },
   {
    "duration": 305,
    "start_time": "2022-03-21T21:40:33.041Z"
   },
   {
    "duration": 88,
    "start_time": "2022-03-21T21:40:33.348Z"
   },
   {
    "duration": 30,
    "start_time": "2022-03-21T21:40:33.438Z"
   },
   {
    "duration": 19,
    "start_time": "2022-03-21T21:40:33.486Z"
   },
   {
    "duration": 342,
    "start_time": "2022-03-21T21:40:33.508Z"
   },
   {
    "duration": 38,
    "start_time": "2022-03-21T21:40:33.852Z"
   },
   {
    "duration": 30,
    "start_time": "2022-03-21T21:40:33.893Z"
   },
   {
    "duration": 28,
    "start_time": "2022-03-21T21:40:33.926Z"
   },
   {
    "duration": 15,
    "start_time": "2022-03-21T21:40:33.985Z"
   },
   {
    "duration": 38,
    "start_time": "2022-03-21T21:40:34.002Z"
   },
   {
    "duration": 55,
    "start_time": "2022-03-21T21:40:34.042Z"
   },
   {
    "duration": 373,
    "start_time": "2022-03-21T21:40:34.099Z"
   },
   {
    "duration": 594,
    "start_time": "2022-03-21T21:40:34.474Z"
   },
   {
    "duration": 15,
    "start_time": "2022-03-21T21:40:35.070Z"
   },
   {
    "duration": 43,
    "start_time": "2022-03-21T21:40:35.087Z"
   },
   {
    "duration": 17,
    "start_time": "2022-03-21T21:40:35.133Z"
   },
   {
    "duration": 22,
    "start_time": "2022-03-21T21:40:35.152Z"
   },
   {
    "duration": 40,
    "start_time": "2022-03-21T21:40:35.176Z"
   },
   {
    "duration": 25,
    "start_time": "2022-03-21T21:40:35.218Z"
   },
   {
    "duration": 281,
    "start_time": "2022-03-21T21:40:35.246Z"
   },
   {
    "duration": 30,
    "start_time": "2022-03-21T21:40:35.530Z"
   },
   {
    "duration": 31,
    "start_time": "2022-03-21T21:40:35.563Z"
   },
   {
    "duration": 590,
    "start_time": "2022-03-21T21:40:35.597Z"
   },
   {
    "duration": 12,
    "start_time": "2022-03-21T21:40:36.190Z"
   },
   {
    "duration": 14,
    "start_time": "2022-03-21T21:40:36.204Z"
   },
   {
    "duration": 565,
    "start_time": "2022-03-21T21:40:36.221Z"
   },
   {
    "duration": 10,
    "start_time": "2022-03-21T21:40:36.788Z"
   },
   {
    "duration": 12,
    "start_time": "2022-03-21T21:40:36.800Z"
   },
   {
    "duration": 1753,
    "start_time": "2022-03-22T04:47:58.531Z"
   },
   {
    "duration": 417,
    "start_time": "2022-03-22T04:48:00.287Z"
   },
   {
    "duration": 486,
    "start_time": "2022-03-22T04:48:00.707Z"
   },
   {
    "duration": 99,
    "start_time": "2022-03-22T04:48:01.195Z"
   },
   {
    "duration": 36,
    "start_time": "2022-03-22T04:48:01.297Z"
   },
   {
    "duration": 45,
    "start_time": "2022-03-22T04:48:01.336Z"
   },
   {
    "duration": 13,
    "start_time": "2022-03-22T04:48:01.383Z"
   },
   {
    "duration": 243,
    "start_time": "2022-03-22T04:48:01.398Z"
   },
   {
    "duration": 58,
    "start_time": "2022-03-22T04:48:01.643Z"
   },
   {
    "duration": 23,
    "start_time": "2022-03-22T04:48:01.704Z"
   },
   {
    "duration": 69,
    "start_time": "2022-03-22T04:48:01.729Z"
   },
   {
    "duration": 43,
    "start_time": "2022-03-22T04:48:01.800Z"
   },
   {
    "duration": 101,
    "start_time": "2022-03-22T04:48:01.868Z"
   },
   {
    "duration": 234,
    "start_time": "2022-03-22T04:48:01.974Z"
   },
   {
    "duration": 170,
    "start_time": "2022-03-22T04:48:02.210Z"
   },
   {
    "duration": 24,
    "start_time": "2022-03-22T04:48:02.383Z"
   },
   {
    "duration": 39,
    "start_time": "2022-03-22T04:48:02.410Z"
   },
   {
    "duration": 46,
    "start_time": "2022-03-22T04:48:02.469Z"
   },
   {
    "duration": 60,
    "start_time": "2022-03-22T04:48:02.518Z"
   },
   {
    "duration": 11,
    "start_time": "2022-03-22T04:48:02.580Z"
   },
   {
    "duration": 287,
    "start_time": "2022-03-22T04:48:02.594Z"
   },
   {
    "duration": 118,
    "start_time": "2022-03-22T04:48:02.883Z"
   },
   {
    "duration": 17,
    "start_time": "2022-03-22T04:48:03.003Z"
   },
   {
    "duration": 52,
    "start_time": "2022-03-22T04:48:03.022Z"
   },
   {
    "duration": 322,
    "start_time": "2022-03-22T04:48:03.076Z"
   },
   {
    "duration": 17,
    "start_time": "2022-03-22T04:48:03.400Z"
   },
   {
    "duration": 331,
    "start_time": "2022-03-22T04:48:03.419Z"
   },
   {
    "duration": 14,
    "start_time": "2022-03-22T04:48:03.753Z"
   },
   {
    "duration": 17,
    "start_time": "2022-03-22T04:48:03.770Z"
   },
   {
    "duration": 8,
    "start_time": "2022-03-22T04:48:03.790Z"
   },
   {
    "duration": 17,
    "start_time": "2022-03-22T04:48:03.800Z"
   },
   {
    "duration": 260,
    "start_time": "2022-03-22T04:48:03.820Z"
   },
   {
    "duration": 21,
    "start_time": "2022-03-22T04:48:04.083Z"
   },
   {
    "duration": 276,
    "start_time": "2022-03-22T04:48:04.106Z"
   },
   {
    "duration": 15,
    "start_time": "2022-03-22T04:48:04.384Z"
   },
   {
    "duration": 300,
    "start_time": "2022-03-22T04:48:04.401Z"
   },
   {
    "duration": 81,
    "start_time": "2022-03-22T04:48:04.704Z"
   },
   {
    "duration": 29,
    "start_time": "2022-03-22T04:48:04.787Z"
   },
   {
    "duration": 20,
    "start_time": "2022-03-22T04:48:04.818Z"
   },
   {
    "duration": 290,
    "start_time": "2022-03-22T04:48:04.867Z"
   },
   {
    "duration": 29,
    "start_time": "2022-03-22T04:48:05.170Z"
   },
   {
    "duration": 32,
    "start_time": "2022-03-22T04:48:05.201Z"
   },
   {
    "duration": 65,
    "start_time": "2022-03-22T04:48:05.236Z"
   },
   {
    "duration": 20,
    "start_time": "2022-03-22T04:48:05.303Z"
   },
   {
    "duration": 55,
    "start_time": "2022-03-22T04:48:05.325Z"
   },
   {
    "duration": 34,
    "start_time": "2022-03-22T04:48:05.383Z"
   },
   {
    "duration": 374,
    "start_time": "2022-03-22T04:48:05.419Z"
   },
   {
    "duration": 642,
    "start_time": "2022-03-22T04:48:05.796Z"
   },
   {
    "duration": 5,
    "start_time": "2022-03-22T04:48:06.441Z"
   },
   {
    "duration": 22,
    "start_time": "2022-03-22T04:48:06.450Z"
   },
   {
    "duration": 7,
    "start_time": "2022-03-22T04:48:06.475Z"
   },
   {
    "duration": 8,
    "start_time": "2022-03-22T04:48:06.485Z"
   },
   {
    "duration": 30,
    "start_time": "2022-03-22T04:48:06.495Z"
   },
   {
    "duration": 63,
    "start_time": "2022-03-22T04:48:06.527Z"
   },
   {
    "duration": 384,
    "start_time": "2022-03-22T04:48:06.593Z"
   },
   {
    "duration": 32,
    "start_time": "2022-03-22T04:48:06.980Z"
   },
   {
    "duration": 13,
    "start_time": "2022-03-22T04:48:07.014Z"
   },
   {
    "duration": 605,
    "start_time": "2022-03-22T04:48:07.030Z"
   },
   {
    "duration": 11,
    "start_time": "2022-03-22T04:48:07.638Z"
   },
   {
    "duration": 11,
    "start_time": "2022-03-22T04:48:07.669Z"
   },
   {
    "duration": 538,
    "start_time": "2022-03-22T04:48:07.683Z"
   },
   {
    "duration": 12,
    "start_time": "2022-03-22T04:48:08.223Z"
   },
   {
    "duration": 34,
    "start_time": "2022-03-22T04:48:08.239Z"
   },
   {
    "duration": 101,
    "start_time": "2022-03-22T05:00:51.483Z"
   },
   {
    "duration": 1772,
    "start_time": "2022-03-22T07:46:51.958Z"
   },
   {
    "duration": 281,
    "start_time": "2022-03-22T07:46:53.733Z"
   },
   {
    "duration": 430,
    "start_time": "2022-03-22T07:46:54.017Z"
   },
   {
    "duration": 91,
    "start_time": "2022-03-22T07:46:54.450Z"
   },
   {
    "duration": 38,
    "start_time": "2022-03-22T07:46:54.543Z"
   },
   {
    "duration": 33,
    "start_time": "2022-03-22T07:46:54.583Z"
   },
   {
    "duration": 12,
    "start_time": "2022-03-22T07:46:54.618Z"
   },
   {
    "duration": 67,
    "start_time": "2022-03-22T07:46:54.632Z"
   },
   {
    "duration": 74,
    "start_time": "2022-03-22T07:46:54.701Z"
   },
   {
    "duration": 21,
    "start_time": "2022-03-22T07:46:54.779Z"
   },
   {
    "duration": 41,
    "start_time": "2022-03-22T07:46:54.803Z"
   },
   {
    "duration": 37,
    "start_time": "2022-03-22T07:46:54.875Z"
   },
   {
    "duration": 114,
    "start_time": "2022-03-22T07:46:54.915Z"
   },
   {
    "duration": 229,
    "start_time": "2022-03-22T07:46:55.032Z"
   },
   {
    "duration": 148,
    "start_time": "2022-03-22T07:46:55.263Z"
   },
   {
    "duration": 20,
    "start_time": "2022-03-22T07:46:55.414Z"
   },
   {
    "duration": 53,
    "start_time": "2022-03-22T07:46:55.436Z"
   },
   {
    "duration": 41,
    "start_time": "2022-03-22T07:46:55.491Z"
   },
   {
    "duration": 59,
    "start_time": "2022-03-22T07:46:55.535Z"
   },
   {
    "duration": 10,
    "start_time": "2022-03-22T07:46:55.596Z"
   },
   {
    "duration": 293,
    "start_time": "2022-03-22T07:46:55.608Z"
   },
   {
    "duration": 125,
    "start_time": "2022-03-22T07:46:55.903Z"
   },
   {
    "duration": 17,
    "start_time": "2022-03-22T07:46:56.030Z"
   },
   {
    "duration": 44,
    "start_time": "2022-03-22T07:46:56.049Z"
   },
   {
    "duration": 325,
    "start_time": "2022-03-22T07:46:56.095Z"
   },
   {
    "duration": 15,
    "start_time": "2022-03-22T07:46:56.422Z"
   },
   {
    "duration": 251,
    "start_time": "2022-03-22T07:46:56.439Z"
   },
   {
    "duration": 6,
    "start_time": "2022-03-22T07:46:56.696Z"
   },
   {
    "duration": 15,
    "start_time": "2022-03-22T07:46:56.704Z"
   },
   {
    "duration": 6,
    "start_time": "2022-03-22T07:46:56.721Z"
   },
   {
    "duration": 54,
    "start_time": "2022-03-22T07:46:56.729Z"
   },
   {
    "duration": 238,
    "start_time": "2022-03-22T07:46:56.786Z"
   },
   {
    "duration": 23,
    "start_time": "2022-03-22T07:46:57.027Z"
   },
   {
    "duration": 277,
    "start_time": "2022-03-22T07:46:57.052Z"
   },
   {
    "duration": 17,
    "start_time": "2022-03-22T07:46:57.332Z"
   },
   {
    "duration": 306,
    "start_time": "2022-03-22T07:46:57.352Z"
   },
   {
    "duration": 69,
    "start_time": "2022-03-22T07:46:57.661Z"
   },
   {
    "duration": 52,
    "start_time": "2022-03-22T07:46:57.733Z"
   },
   {
    "duration": 16,
    "start_time": "2022-03-22T07:46:57.788Z"
   },
   {
    "duration": 314,
    "start_time": "2022-03-22T07:46:57.807Z"
   },
   {
    "duration": 52,
    "start_time": "2022-03-22T07:46:58.124Z"
   },
   {
    "duration": 29,
    "start_time": "2022-03-22T07:46:58.179Z"
   },
   {
    "duration": 28,
    "start_time": "2022-03-22T07:46:58.211Z"
   },
   {
    "duration": 43,
    "start_time": "2022-03-22T07:46:58.242Z"
   },
   {
    "duration": 22,
    "start_time": "2022-03-22T07:46:58.287Z"
   },
   {
    "duration": 31,
    "start_time": "2022-03-22T07:46:58.311Z"
   },
   {
    "duration": 376,
    "start_time": "2022-03-22T07:46:58.344Z"
   },
   {
    "duration": 632,
    "start_time": "2022-03-22T07:46:58.722Z"
   },
   {
    "duration": 6,
    "start_time": "2022-03-22T07:46:59.357Z"
   },
   {
    "duration": 15,
    "start_time": "2022-03-22T07:46:59.366Z"
   },
   {
    "duration": 8,
    "start_time": "2022-03-22T07:46:59.383Z"
   },
   {
    "duration": 18,
    "start_time": "2022-03-22T07:46:59.393Z"
   },
   {
    "duration": 29,
    "start_time": "2022-03-22T07:46:59.415Z"
   },
   {
    "duration": 26,
    "start_time": "2022-03-22T07:46:59.475Z"
   },
   {
    "duration": 289,
    "start_time": "2022-03-22T07:46:59.504Z"
   },
   {
    "duration": 33,
    "start_time": "2022-03-22T07:46:59.795Z"
   },
   {
    "duration": 14,
    "start_time": "2022-03-22T07:46:59.830Z"
   },
   {
    "duration": 621,
    "start_time": "2022-03-22T07:46:59.847Z"
   },
   {
    "duration": 11,
    "start_time": "2022-03-22T07:47:00.475Z"
   },
   {
    "duration": 18,
    "start_time": "2022-03-22T07:47:00.489Z"
   },
   {
    "duration": 532,
    "start_time": "2022-03-22T07:47:00.509Z"
   },
   {
    "duration": 9,
    "start_time": "2022-03-22T07:47:01.044Z"
   },
   {
    "duration": 11,
    "start_time": "2022-03-22T07:47:01.074Z"
   },
   {
    "duration": 299,
    "start_time": "2022-03-22T08:38:29.587Z"
   },
   {
    "duration": 293,
    "start_time": "2022-03-22T08:38:42.425Z"
   },
   {
    "duration": 297,
    "start_time": "2022-03-22T08:39:05.864Z"
   },
   {
    "duration": 452,
    "start_time": "2022-03-22T08:39:32.688Z"
   },
   {
    "duration": 317,
    "start_time": "2022-03-22T08:39:55.560Z"
   },
   {
    "duration": 290,
    "start_time": "2022-03-22T08:40:06.224Z"
   },
   {
    "duration": 319,
    "start_time": "2022-03-22T08:40:43.077Z"
   },
   {
    "duration": 99,
    "start_time": "2022-03-22T08:53:43.521Z"
   },
   {
    "duration": 42,
    "start_time": "2022-03-22T08:54:42.834Z"
   },
   {
    "duration": 1762,
    "start_time": "2022-03-22T08:59:07.100Z"
   },
   {
    "duration": 309,
    "start_time": "2022-03-22T08:59:08.865Z"
   },
   {
    "duration": 505,
    "start_time": "2022-03-22T08:59:09.177Z"
   },
   {
    "duration": 112,
    "start_time": "2022-03-22T08:59:09.688Z"
   },
   {
    "duration": 19,
    "start_time": "2022-03-22T08:59:09.803Z"
   },
   {
    "duration": 77,
    "start_time": "2022-03-22T08:59:09.825Z"
   },
   {
    "duration": 14,
    "start_time": "2022-03-22T08:59:09.904Z"
   },
   {
    "duration": 73,
    "start_time": "2022-03-22T08:59:09.921Z"
   },
   {
    "duration": 59,
    "start_time": "2022-03-22T08:59:09.996Z"
   },
   {
    "duration": 33,
    "start_time": "2022-03-22T08:59:10.085Z"
   },
   {
    "duration": 68,
    "start_time": "2022-03-22T08:59:10.120Z"
   },
   {
    "duration": 43,
    "start_time": "2022-03-22T08:59:10.190Z"
   },
   {
    "duration": 124,
    "start_time": "2022-03-22T08:59:10.236Z"
   },
   {
    "duration": 270,
    "start_time": "2022-03-22T08:59:10.362Z"
   },
   {
    "duration": 164,
    "start_time": "2022-03-22T08:59:10.634Z"
   },
   {
    "duration": 21,
    "start_time": "2022-03-22T08:59:10.800Z"
   },
   {
    "duration": 19,
    "start_time": "2022-03-22T08:59:10.823Z"
   },
   {
    "duration": 72,
    "start_time": "2022-03-22T08:59:10.844Z"
   },
   {
    "duration": 63,
    "start_time": "2022-03-22T08:59:10.918Z"
   },
   {
    "duration": 13,
    "start_time": "2022-03-22T08:59:10.985Z"
   },
   {
    "duration": 328,
    "start_time": "2022-03-22T08:59:11.001Z"
   },
   {
    "duration": 117,
    "start_time": "2022-03-22T08:59:11.331Z"
   },
   {
    "duration": 26,
    "start_time": "2022-03-22T08:59:11.450Z"
   },
   {
    "duration": 37,
    "start_time": "2022-03-22T08:59:11.480Z"
   },
   {
    "duration": 382,
    "start_time": "2022-03-22T08:59:11.519Z"
   },
   {
    "duration": 16,
    "start_time": "2022-03-22T08:59:11.903Z"
   },
   {
    "duration": 298,
    "start_time": "2022-03-22T08:59:11.921Z"
   },
   {
    "duration": 7,
    "start_time": "2022-03-22T08:59:12.228Z"
   },
   {
    "duration": 16,
    "start_time": "2022-03-22T08:59:12.238Z"
   },
   {
    "duration": 28,
    "start_time": "2022-03-22T08:59:12.256Z"
   },
   {
    "duration": 15,
    "start_time": "2022-03-22T08:59:12.290Z"
   },
   {
    "duration": 287,
    "start_time": "2022-03-22T08:59:12.307Z"
   },
   {
    "duration": 21,
    "start_time": "2022-03-22T08:59:12.598Z"
   },
   {
    "duration": 309,
    "start_time": "2022-03-22T08:59:12.621Z"
   },
   {
    "duration": 18,
    "start_time": "2022-03-22T08:59:12.933Z"
   },
   {
    "duration": 361,
    "start_time": "2022-03-22T08:59:12.954Z"
   },
   {
    "duration": 92,
    "start_time": "2022-03-22T08:59:13.318Z"
   },
   {
    "duration": 30,
    "start_time": "2022-03-22T08:59:13.412Z"
   },
   {
    "duration": 44,
    "start_time": "2022-03-22T08:59:13.444Z"
   },
   {
    "duration": 438,
    "start_time": "2022-03-22T08:59:13.490Z"
   },
   {
    "duration": 48,
    "start_time": "2022-03-22T08:59:13.930Z"
   },
   {
    "duration": 32,
    "start_time": "2022-03-22T08:59:13.981Z"
   },
   {
    "duration": 29,
    "start_time": "2022-03-22T08:59:14.015Z"
   },
   {
    "duration": 21,
    "start_time": "2022-03-22T08:59:14.074Z"
   },
   {
    "duration": 24,
    "start_time": "2022-03-22T08:59:14.098Z"
   },
   {
    "duration": 75,
    "start_time": "2022-03-22T08:59:14.125Z"
   },
   {
    "duration": 420,
    "start_time": "2022-03-22T08:59:14.202Z"
   },
   {
    "duration": 615,
    "start_time": "2022-03-22T08:59:14.625Z"
   },
   {
    "duration": 5,
    "start_time": "2022-03-22T08:59:15.243Z"
   },
   {
    "duration": 29,
    "start_time": "2022-03-22T08:59:15.250Z"
   },
   {
    "duration": 15,
    "start_time": "2022-03-22T08:59:15.283Z"
   },
   {
    "duration": 14,
    "start_time": "2022-03-22T08:59:15.301Z"
   },
   {
    "duration": 32,
    "start_time": "2022-03-22T08:59:15.318Z"
   },
   {
    "duration": 52,
    "start_time": "2022-03-22T08:59:15.352Z"
   },
   {
    "duration": 304,
    "start_time": "2022-03-22T08:59:15.406Z"
   },
   {
    "duration": 31,
    "start_time": "2022-03-22T08:59:15.714Z"
   },
   {
    "duration": 38,
    "start_time": "2022-03-22T08:59:15.747Z"
   },
   {
    "duration": 651,
    "start_time": "2022-03-22T08:59:15.788Z"
   },
   {
    "duration": 12,
    "start_time": "2022-03-22T08:59:16.442Z"
   },
   {
    "duration": 14,
    "start_time": "2022-03-22T08:59:16.483Z"
   },
   {
    "duration": 584,
    "start_time": "2022-03-22T08:59:16.500Z"
   },
   {
    "duration": 16,
    "start_time": "2022-03-22T08:59:17.086Z"
   },
   {
    "duration": 17,
    "start_time": "2022-03-22T08:59:17.105Z"
   },
   {
    "duration": 9,
    "start_time": "2022-03-22T09:05:15.893Z"
   },
   {
    "duration": 61,
    "start_time": "2022-03-22T09:10:36.787Z"
   },
   {
    "duration": 19,
    "start_time": "2022-03-22T09:13:33.487Z"
   },
   {
    "duration": 42,
    "start_time": "2022-03-22T09:25:26.142Z"
   },
   {
    "duration": 44,
    "start_time": "2022-03-22T09:25:45.311Z"
   },
   {
    "duration": 247,
    "start_time": "2022-03-22T09:26:57.192Z"
   },
   {
    "duration": 202,
    "start_time": "2022-03-22T09:27:06.254Z"
   },
   {
    "duration": 43,
    "start_time": "2022-03-22T09:36:02.888Z"
   },
   {
    "duration": 7,
    "start_time": "2022-03-22T09:38:41.241Z"
   },
   {
    "duration": 7,
    "start_time": "2022-03-22T09:38:44.002Z"
   },
   {
    "duration": 14,
    "start_time": "2022-03-22T09:38:44.592Z"
   },
   {
    "duration": 8,
    "start_time": "2022-03-22T09:38:45.546Z"
   },
   {
    "duration": 49,
    "start_time": "2022-03-22T11:47:35.777Z"
   },
   {
    "duration": 6,
    "start_time": "2022-03-22T11:48:16.666Z"
   },
   {
    "duration": 6,
    "start_time": "2022-03-22T11:49:24.559Z"
   },
   {
    "duration": 583,
    "start_time": "2022-03-22T11:52:05.619Z"
   },
   {
    "duration": 933,
    "start_time": "2022-03-22T11:56:16.952Z"
   },
   {
    "duration": 1124,
    "start_time": "2022-03-22T11:58:24.839Z"
   },
   {
    "duration": 1213,
    "start_time": "2022-03-22T12:00:10.782Z"
   },
   {
    "duration": 153,
    "start_time": "2022-03-22T12:01:38.328Z"
   },
   {
    "duration": 718,
    "start_time": "2022-03-22T12:02:02.286Z"
   },
   {
    "duration": 976,
    "start_time": "2022-03-22T12:03:11.862Z"
   },
   {
    "duration": 1189,
    "start_time": "2022-03-22T12:03:32.341Z"
   },
   {
    "duration": 724,
    "start_time": "2022-03-22T12:04:06.525Z"
   },
   {
    "duration": 429,
    "start_time": "2022-03-22T12:05:15.268Z"
   },
   {
    "duration": 542,
    "start_time": "2022-03-22T12:05:33.661Z"
   },
   {
    "duration": 702,
    "start_time": "2022-03-22T12:07:41.379Z"
   },
   {
    "duration": 1158,
    "start_time": "2022-03-22T12:27:34.229Z"
   },
   {
    "duration": 973,
    "start_time": "2022-03-22T12:27:41.132Z"
   },
   {
    "duration": 996,
    "start_time": "2022-03-22T12:27:49.716Z"
   },
   {
    "duration": 1346,
    "start_time": "2022-03-22T12:27:59.861Z"
   },
   {
    "duration": 786,
    "start_time": "2022-03-22T12:28:06.236Z"
   },
   {
    "duration": 1113,
    "start_time": "2022-03-22T12:28:22.052Z"
   },
   {
    "duration": 1042,
    "start_time": "2022-03-22T12:35:56.441Z"
   },
   {
    "duration": 985,
    "start_time": "2022-03-22T12:37:08.312Z"
   },
   {
    "duration": 429,
    "start_time": "2022-03-22T12:40:39.257Z"
   },
   {
    "duration": 460,
    "start_time": "2022-03-22T12:40:58.298Z"
   },
   {
    "duration": 653,
    "start_time": "2022-03-22T12:41:07.562Z"
   },
   {
    "duration": 28,
    "start_time": "2022-03-22T12:57:25.563Z"
   },
   {
    "duration": 46,
    "start_time": "2022-03-22T12:57:30.160Z"
   },
   {
    "duration": 10,
    "start_time": "2022-03-22T12:57:45.731Z"
   },
   {
    "duration": 30,
    "start_time": "2022-03-22T13:09:50.520Z"
   },
   {
    "duration": 42,
    "start_time": "2022-03-22T13:12:05.300Z"
   },
   {
    "duration": 817,
    "start_time": "2022-03-22T13:44:49.712Z"
   },
   {
    "duration": 670,
    "start_time": "2022-03-22T13:49:00.775Z"
   },
   {
    "duration": 10,
    "start_time": "2022-03-22T13:50:41.706Z"
   },
   {
    "duration": 17,
    "start_time": "2022-03-22T13:50:50.989Z"
   },
   {
    "duration": 9,
    "start_time": "2022-03-22T13:52:20.948Z"
   },
   {
    "duration": 14,
    "start_time": "2022-03-22T13:52:33.359Z"
   },
   {
    "duration": 815,
    "start_time": "2022-03-22T13:52:52.135Z"
   },
   {
    "duration": 307,
    "start_time": "2022-03-22T13:53:13.359Z"
   },
   {
    "duration": 127,
    "start_time": "2022-03-22T13:53:21.863Z"
   },
   {
    "duration": 16,
    "start_time": "2022-03-22T13:54:50.807Z"
   },
   {
    "duration": 16,
    "start_time": "2022-03-22T13:58:42.058Z"
   },
   {
    "duration": 101,
    "start_time": "2022-03-22T13:58:45.896Z"
   },
   {
    "duration": 105,
    "start_time": "2022-03-22T13:58:59.501Z"
   },
   {
    "duration": 106,
    "start_time": "2022-03-22T14:04:14.842Z"
   },
   {
    "duration": 12,
    "start_time": "2022-03-22T14:04:52.036Z"
   },
   {
    "duration": 13,
    "start_time": "2022-03-22T14:06:47.281Z"
   },
   {
    "duration": 111,
    "start_time": "2022-03-22T14:06:58.371Z"
   },
   {
    "duration": 135,
    "start_time": "2022-03-22T14:07:08.050Z"
   },
   {
    "duration": 322,
    "start_time": "2022-03-22T14:14:36.101Z"
   },
   {
    "duration": 223,
    "start_time": "2022-03-22T14:15:10.286Z"
   },
   {
    "duration": 383,
    "start_time": "2022-03-22T14:15:20.244Z"
   },
   {
    "duration": 291,
    "start_time": "2022-03-22T14:15:27.502Z"
   },
   {
    "duration": 261,
    "start_time": "2022-03-22T14:15:36.678Z"
   },
   {
    "duration": 25,
    "start_time": "2022-03-22T14:21:44.474Z"
   },
   {
    "duration": 14,
    "start_time": "2022-03-22T14:21:58.260Z"
   },
   {
    "duration": 11,
    "start_time": "2022-03-22T14:24:50.737Z"
   },
   {
    "duration": 34,
    "start_time": "2022-03-22T14:24:57.408Z"
   },
   {
    "duration": 31,
    "start_time": "2022-03-22T14:25:50.728Z"
   },
   {
    "duration": 22,
    "start_time": "2022-03-22T14:26:44.554Z"
   },
   {
    "duration": 2073,
    "start_time": "2022-03-22T14:26:53.097Z"
   },
   {
    "duration": 415,
    "start_time": "2022-03-22T14:26:55.173Z"
   },
   {
    "duration": 493,
    "start_time": "2022-03-22T14:26:55.591Z"
   },
   {
    "duration": 118,
    "start_time": "2022-03-22T14:26:56.087Z"
   },
   {
    "duration": 19,
    "start_time": "2022-03-22T14:26:56.207Z"
   },
   {
    "duration": 62,
    "start_time": "2022-03-22T14:26:56.228Z"
   },
   {
    "duration": 8,
    "start_time": "2022-03-22T14:26:56.292Z"
   },
   {
    "duration": 37,
    "start_time": "2022-03-22T14:26:56.302Z"
   },
   {
    "duration": 89,
    "start_time": "2022-03-22T14:26:56.341Z"
   },
   {
    "duration": 52,
    "start_time": "2022-03-22T14:26:56.433Z"
   },
   {
    "duration": 46,
    "start_time": "2022-03-22T14:26:56.487Z"
   },
   {
    "duration": 72,
    "start_time": "2022-03-22T14:26:56.536Z"
   },
   {
    "duration": 115,
    "start_time": "2022-03-22T14:26:56.610Z"
   },
   {
    "duration": 206,
    "start_time": "2022-03-22T14:26:56.728Z"
   },
   {
    "duration": 159,
    "start_time": "2022-03-22T14:26:56.936Z"
   },
   {
    "duration": 22,
    "start_time": "2022-03-22T14:26:57.097Z"
   },
   {
    "duration": 59,
    "start_time": "2022-03-22T14:26:57.121Z"
   },
   {
    "duration": 52,
    "start_time": "2022-03-22T14:26:57.183Z"
   },
   {
    "duration": 71,
    "start_time": "2022-03-22T14:26:57.238Z"
   },
   {
    "duration": 13,
    "start_time": "2022-03-22T14:26:57.312Z"
   },
   {
    "duration": 14,
    "start_time": "2022-03-22T14:26:57.328Z"
   },
   {
    "duration": 302,
    "start_time": "2022-03-22T14:26:57.374Z"
   },
   {
    "duration": 121,
    "start_time": "2022-03-22T14:26:57.679Z"
   },
   {
    "duration": 20,
    "start_time": "2022-03-22T14:26:57.803Z"
   },
   {
    "duration": 60,
    "start_time": "2022-03-22T14:26:57.826Z"
   },
   {
    "duration": 484,
    "start_time": "2022-03-22T14:26:57.888Z"
   },
   {
    "duration": 33,
    "start_time": "2022-03-22T14:26:58.374Z"
   },
   {
    "duration": 6,
    "start_time": "2022-03-22T14:26:58.413Z"
   },
   {
    "duration": 781,
    "start_time": "2022-03-22T14:26:58.421Z"
   },
   {
    "duration": 16,
    "start_time": "2022-03-22T14:26:59.204Z"
   },
   {
    "duration": 303,
    "start_time": "2022-03-22T14:26:59.222Z"
   },
   {
    "duration": 8,
    "start_time": "2022-03-22T14:26:59.528Z"
   },
   {
    "duration": 40,
    "start_time": "2022-03-22T14:26:59.539Z"
   },
   {
    "duration": 8,
    "start_time": "2022-03-22T14:26:59.582Z"
   },
   {
    "duration": 17,
    "start_time": "2022-03-22T14:26:59.592Z"
   },
   {
    "duration": 273,
    "start_time": "2022-03-22T14:26:59.612Z"
   },
   {
    "duration": 29,
    "start_time": "2022-03-22T14:26:59.887Z"
   },
   {
    "duration": 277,
    "start_time": "2022-03-22T14:26:59.919Z"
   },
   {
    "duration": 15,
    "start_time": "2022-03-22T14:27:00.199Z"
   },
   {
    "duration": 302,
    "start_time": "2022-03-22T14:27:00.216Z"
   },
   {
    "duration": 83,
    "start_time": "2022-03-22T14:27:00.520Z"
   },
   {
    "duration": 28,
    "start_time": "2022-03-22T14:27:00.605Z"
   },
   {
    "duration": 16,
    "start_time": "2022-03-22T14:27:00.635Z"
   },
   {
    "duration": 509,
    "start_time": "2022-03-22T14:27:00.675Z"
   },
   {
    "duration": 45,
    "start_time": "2022-03-22T14:27:01.187Z"
   },
   {
    "duration": 71,
    "start_time": "2022-03-22T14:27:01.235Z"
   },
   {
    "duration": 37,
    "start_time": "2022-03-22T14:27:01.309Z"
   },
   {
    "duration": 40,
    "start_time": "2022-03-22T14:27:01.348Z"
   },
   {
    "duration": 32,
    "start_time": "2022-03-22T14:27:01.391Z"
   },
   {
    "duration": 50,
    "start_time": "2022-03-22T14:27:01.425Z"
   },
   {
    "duration": 377,
    "start_time": "2022-03-22T14:27:01.478Z"
   },
   {
    "duration": 500,
    "start_time": "2022-03-22T14:27:01.857Z"
   },
   {
    "duration": 5,
    "start_time": "2022-03-22T14:27:02.360Z"
   },
   {
    "duration": 10,
    "start_time": "2022-03-22T14:27:02.374Z"
   },
   {
    "duration": 7,
    "start_time": "2022-03-22T14:27:02.386Z"
   },
   {
    "duration": 18,
    "start_time": "2022-03-22T14:27:02.395Z"
   },
   {
    "duration": 784,
    "start_time": "2022-03-22T14:27:02.416Z"
   },
   {
    "duration": 14,
    "start_time": "2022-03-22T14:27:03.202Z"
   },
   {
    "duration": 32,
    "start_time": "2022-03-22T14:27:03.219Z"
   },
   {
    "duration": 30,
    "start_time": "2022-03-22T14:27:03.275Z"
   },
   {
    "duration": 28,
    "start_time": "2022-03-22T14:27:03.308Z"
   },
   {
    "duration": 278,
    "start_time": "2022-03-22T14:27:03.375Z"
   },
   {
    "duration": 43,
    "start_time": "2022-03-22T14:27:03.656Z"
   },
   {
    "duration": 14,
    "start_time": "2022-03-22T14:27:03.702Z"
   },
   {
    "duration": 624,
    "start_time": "2022-03-22T14:27:03.719Z"
   },
   {
    "duration": 29,
    "start_time": "2022-03-22T14:27:04.345Z"
   },
   {
    "duration": 14,
    "start_time": "2022-03-22T14:27:04.376Z"
   },
   {
    "duration": 558,
    "start_time": "2022-03-22T14:27:04.393Z"
   },
   {
    "duration": 20,
    "start_time": "2022-03-22T14:27:04.953Z"
   },
   {
    "duration": 11,
    "start_time": "2022-03-22T14:27:04.976Z"
   },
   {
    "duration": 9,
    "start_time": "2022-03-22T14:28:58.374Z"
   },
   {
    "duration": 31,
    "start_time": "2022-03-22T14:29:45.567Z"
   },
   {
    "duration": 9,
    "start_time": "2022-03-22T14:29:46.584Z"
   },
   {
    "duration": 25,
    "start_time": "2022-03-22T14:30:17.081Z"
   },
   {
    "duration": 7,
    "start_time": "2022-03-22T14:30:18.025Z"
   },
   {
    "duration": 33,
    "start_time": "2022-03-22T14:31:34.728Z"
   },
   {
    "duration": 7,
    "start_time": "2022-03-22T14:31:35.920Z"
   },
   {
    "duration": 42,
    "start_time": "2022-03-22T14:32:09.520Z"
   },
   {
    "duration": 9,
    "start_time": "2022-03-22T14:32:14.280Z"
   },
   {
    "duration": 140,
    "start_time": "2022-03-22T14:33:25.175Z"
   },
   {
    "duration": 130,
    "start_time": "2022-03-22T14:33:44.335Z"
   },
   {
    "duration": 116,
    "start_time": "2022-03-22T14:33:53.395Z"
   },
   {
    "duration": 113,
    "start_time": "2022-03-22T14:34:26.998Z"
   },
   {
    "duration": 48,
    "start_time": "2022-03-22T14:34:32.934Z"
   },
   {
    "duration": 7,
    "start_time": "2022-03-22T14:34:39.886Z"
   },
   {
    "duration": 35,
    "start_time": "2022-03-22T14:36:05.991Z"
   },
   {
    "duration": 8,
    "start_time": "2022-03-22T14:36:13.421Z"
   },
   {
    "duration": 30,
    "start_time": "2022-03-22T14:44:57.684Z"
   },
   {
    "duration": 9,
    "start_time": "2022-03-22T14:44:59.099Z"
   },
   {
    "duration": 30,
    "start_time": "2022-03-22T14:45:07.843Z"
   },
   {
    "duration": 8,
    "start_time": "2022-03-22T14:45:08.627Z"
   },
   {
    "duration": 47,
    "start_time": "2022-03-22T14:45:15.979Z"
   },
   {
    "duration": 10,
    "start_time": "2022-03-22T14:45:17.036Z"
   },
   {
    "duration": 30,
    "start_time": "2022-03-22T14:45:25.426Z"
   },
   {
    "duration": 6,
    "start_time": "2022-03-22T14:45:29.011Z"
   },
   {
    "duration": 31,
    "start_time": "2022-03-22T14:45:55.154Z"
   },
   {
    "duration": 8,
    "start_time": "2022-03-22T14:45:55.595Z"
   },
   {
    "duration": 32,
    "start_time": "2022-03-22T14:46:04.564Z"
   },
   {
    "duration": 10,
    "start_time": "2022-03-22T14:46:05.691Z"
   },
   {
    "duration": 31,
    "start_time": "2022-03-22T14:46:10.181Z"
   },
   {
    "duration": 7,
    "start_time": "2022-03-22T14:46:11.130Z"
   },
   {
    "duration": 30,
    "start_time": "2022-03-22T14:46:18.171Z"
   },
   {
    "duration": 6,
    "start_time": "2022-03-22T14:46:21.714Z"
   },
   {
    "duration": 31,
    "start_time": "2022-03-22T14:49:28.962Z"
   },
   {
    "duration": 6,
    "start_time": "2022-03-22T14:49:29.681Z"
   },
   {
    "duration": 30,
    "start_time": "2022-03-22T14:50:00.816Z"
   },
   {
    "duration": 6,
    "start_time": "2022-03-22T14:50:02.921Z"
   },
   {
    "duration": 44,
    "start_time": "2022-03-22T14:56:34.727Z"
   },
   {
    "duration": 8,
    "start_time": "2022-03-22T14:56:35.839Z"
   },
   {
    "duration": 46,
    "start_time": "2022-03-22T14:56:52.351Z"
   },
   {
    "duration": 6,
    "start_time": "2022-03-22T14:56:52.959Z"
   },
   {
    "duration": 23,
    "start_time": "2022-03-22T14:57:09.767Z"
   },
   {
    "duration": 7,
    "start_time": "2022-03-22T14:57:10.246Z"
   },
   {
    "duration": 23,
    "start_time": "2022-03-22T14:57:20.816Z"
   },
   {
    "duration": 7,
    "start_time": "2022-03-22T14:57:21.439Z"
   },
   {
    "duration": 24,
    "start_time": "2022-03-22T14:57:54.736Z"
   },
   {
    "duration": 7,
    "start_time": "2022-03-22T14:58:04.159Z"
   },
   {
    "duration": 31,
    "start_time": "2022-03-22T14:58:39.566Z"
   },
   {
    "duration": 7,
    "start_time": "2022-03-22T14:58:40.678Z"
   },
   {
    "duration": 31,
    "start_time": "2022-03-22T14:58:47.465Z"
   },
   {
    "duration": 7,
    "start_time": "2022-03-22T14:58:47.806Z"
   },
   {
    "duration": 32,
    "start_time": "2022-03-22T14:58:55.831Z"
   },
   {
    "duration": 7,
    "start_time": "2022-03-22T14:58:56.214Z"
   },
   {
    "duration": 7,
    "start_time": "2022-03-22T15:03:02.716Z"
   },
   {
    "duration": 7,
    "start_time": "2022-03-22T15:03:29.276Z"
   },
   {
    "duration": 24,
    "start_time": "2022-03-22T15:03:53.060Z"
   },
   {
    "duration": 6,
    "start_time": "2022-03-22T15:03:54.668Z"
   },
   {
    "duration": 7,
    "start_time": "2022-03-22T15:03:55.484Z"
   },
   {
    "duration": 7,
    "start_time": "2022-03-22T15:04:07.108Z"
   },
   {
    "duration": 6,
    "start_time": "2022-03-22T15:04:07.668Z"
   },
   {
    "duration": 7,
    "start_time": "2022-03-22T15:04:11.683Z"
   },
   {
    "duration": 33,
    "start_time": "2022-03-22T15:07:40.579Z"
   },
   {
    "duration": 7,
    "start_time": "2022-03-22T15:07:42.218Z"
   },
   {
    "duration": 31,
    "start_time": "2022-03-22T15:08:03.316Z"
   },
   {
    "duration": 6,
    "start_time": "2022-03-22T15:08:03.985Z"
   },
   {
    "duration": 33,
    "start_time": "2022-03-22T15:08:47.287Z"
   },
   {
    "duration": 6,
    "start_time": "2022-03-22T15:08:48.370Z"
   },
   {
    "duration": 31,
    "start_time": "2022-03-22T15:09:04.306Z"
   },
   {
    "duration": 7,
    "start_time": "2022-03-22T15:09:07.818Z"
   },
   {
    "duration": 30,
    "start_time": "2022-03-22T15:09:57.874Z"
   },
   {
    "duration": 6,
    "start_time": "2022-03-22T15:09:58.913Z"
   },
   {
    "duration": 30,
    "start_time": "2022-03-22T15:10:09.634Z"
   },
   {
    "duration": 7,
    "start_time": "2022-03-22T15:10:16.521Z"
   },
   {
    "duration": 31,
    "start_time": "2022-03-22T15:10:59.793Z"
   },
   {
    "duration": 8,
    "start_time": "2022-03-22T15:11:00.274Z"
   },
   {
    "duration": 42,
    "start_time": "2022-03-22T15:13:01.233Z"
   },
   {
    "duration": 8,
    "start_time": "2022-03-22T15:13:02.731Z"
   },
   {
    "duration": 34,
    "start_time": "2022-03-22T15:15:28.064Z"
   },
   {
    "duration": 8,
    "start_time": "2022-03-22T15:15:36.967Z"
   },
   {
    "duration": 43,
    "start_time": "2022-03-22T15:15:50.665Z"
   },
   {
    "duration": 6,
    "start_time": "2022-03-22T15:15:51.623Z"
   },
   {
    "duration": 30,
    "start_time": "2022-03-22T15:18:07.663Z"
   },
   {
    "duration": 6,
    "start_time": "2022-03-22T15:18:10.398Z"
   },
   {
    "duration": 30,
    "start_time": "2022-03-22T15:18:25.023Z"
   },
   {
    "duration": 32,
    "start_time": "2022-03-22T15:25:24.492Z"
   },
   {
    "duration": 9,
    "start_time": "2022-03-22T15:25:25.092Z"
   },
   {
    "duration": 44,
    "start_time": "2022-03-22T15:26:11.668Z"
   },
   {
    "duration": 7,
    "start_time": "2022-03-22T15:26:12.284Z"
   },
   {
    "duration": 57,
    "start_time": "2022-03-22T17:44:28.961Z"
   },
   {
    "duration": 1458,
    "start_time": "2022-03-22T17:44:35.277Z"
   },
   {
    "duration": 221,
    "start_time": "2022-03-22T17:44:36.737Z"
   },
   {
    "duration": 384,
    "start_time": "2022-03-22T17:44:36.961Z"
   },
   {
    "duration": 87,
    "start_time": "2022-03-22T17:44:37.348Z"
   },
   {
    "duration": 16,
    "start_time": "2022-03-22T17:44:37.437Z"
   },
   {
    "duration": 52,
    "start_time": "2022-03-22T17:44:37.454Z"
   },
   {
    "duration": 8,
    "start_time": "2022-03-22T17:44:37.508Z"
   },
   {
    "duration": 34,
    "start_time": "2022-03-22T17:44:37.518Z"
   },
   {
    "duration": 72,
    "start_time": "2022-03-22T17:44:37.554Z"
   },
   {
    "duration": 15,
    "start_time": "2022-03-22T17:44:37.629Z"
   },
   {
    "duration": 59,
    "start_time": "2022-03-22T17:44:37.646Z"
   },
   {
    "duration": 38,
    "start_time": "2022-03-22T17:44:37.707Z"
   },
   {
    "duration": 91,
    "start_time": "2022-03-22T17:44:37.747Z"
   },
   {
    "duration": 147,
    "start_time": "2022-03-22T17:44:37.840Z"
   },
   {
    "duration": 122,
    "start_time": "2022-03-22T17:44:37.988Z"
   },
   {
    "duration": 16,
    "start_time": "2022-03-22T17:44:38.112Z"
   },
   {
    "duration": 15,
    "start_time": "2022-03-22T17:44:38.130Z"
   },
   {
    "duration": 58,
    "start_time": "2022-03-22T17:44:38.147Z"
   },
   {
    "duration": 28,
    "start_time": "2022-03-22T17:44:38.207Z"
   },
   {
    "duration": 8,
    "start_time": "2022-03-22T17:44:38.237Z"
   },
   {
    "duration": 18,
    "start_time": "2022-03-22T17:44:38.246Z"
   },
   {
    "duration": 288,
    "start_time": "2022-03-22T17:44:38.266Z"
   },
   {
    "duration": 92,
    "start_time": "2022-03-22T17:44:38.555Z"
   },
   {
    "duration": 12,
    "start_time": "2022-03-22T17:44:38.649Z"
   },
   {
    "duration": 42,
    "start_time": "2022-03-22T17:44:38.663Z"
   },
   {
    "duration": 236,
    "start_time": "2022-03-22T17:44:38.707Z"
   },
   {
    "duration": 27,
    "start_time": "2022-03-22T17:44:38.945Z"
   },
   {
    "duration": 4,
    "start_time": "2022-03-22T17:44:38.976Z"
   },
   {
    "duration": 449,
    "start_time": "2022-03-22T17:44:38.982Z"
   },
   {
    "duration": 13,
    "start_time": "2022-03-22T17:44:39.433Z"
   },
   {
    "duration": 154,
    "start_time": "2022-03-22T17:44:39.449Z"
   },
   {
    "duration": 5,
    "start_time": "2022-03-22T17:44:39.605Z"
   },
   {
    "duration": 16,
    "start_time": "2022-03-22T17:44:39.612Z"
   },
   {
    "duration": 6,
    "start_time": "2022-03-22T17:44:39.630Z"
   },
   {
    "duration": 16,
    "start_time": "2022-03-22T17:44:39.638Z"
   },
   {
    "duration": 162,
    "start_time": "2022-03-22T17:44:39.656Z"
   },
   {
    "duration": 15,
    "start_time": "2022-03-22T17:44:39.819Z"
   },
   {
    "duration": 230,
    "start_time": "2022-03-22T17:44:39.836Z"
   },
   {
    "duration": 12,
    "start_time": "2022-03-22T17:44:40.069Z"
   },
   {
    "duration": 186,
    "start_time": "2022-03-22T17:44:40.082Z"
   },
   {
    "duration": 58,
    "start_time": "2022-03-22T17:44:40.270Z"
   },
   {
    "duration": 21,
    "start_time": "2022-03-22T17:44:40.330Z"
   },
   {
    "duration": 14,
    "start_time": "2022-03-22T17:44:40.353Z"
   },
   {
    "duration": 209,
    "start_time": "2022-03-22T17:44:40.369Z"
   },
   {
    "duration": 31,
    "start_time": "2022-03-22T17:44:40.581Z"
   },
   {
    "duration": 25,
    "start_time": "2022-03-22T17:44:40.614Z"
   },
   {
    "duration": 20,
    "start_time": "2022-03-22T17:44:40.641Z"
   },
   {
    "duration": 40,
    "start_time": "2022-03-22T17:44:40.663Z"
   },
   {
    "duration": 22,
    "start_time": "2022-03-22T17:44:40.705Z"
   },
   {
    "duration": 28,
    "start_time": "2022-03-22T17:44:40.729Z"
   },
   {
    "duration": 245,
    "start_time": "2022-03-22T17:44:40.759Z"
   },
   {
    "duration": 345,
    "start_time": "2022-03-22T17:44:41.007Z"
   },
   {
    "duration": 5,
    "start_time": "2022-03-22T17:44:41.354Z"
   },
   {
    "duration": 21,
    "start_time": "2022-03-22T17:44:41.361Z"
   },
   {
    "duration": 10,
    "start_time": "2022-03-22T17:44:41.384Z"
   },
   {
    "duration": 6,
    "start_time": "2022-03-22T17:44:41.400Z"
   },
   {
    "duration": 501,
    "start_time": "2022-03-22T17:44:41.408Z"
   },
   {
    "duration": 9,
    "start_time": "2022-03-22T17:44:41.911Z"
   },
   {
    "duration": 25,
    "start_time": "2022-03-22T17:44:41.922Z"
   },
   {
    "duration": 5,
    "start_time": "2022-03-22T17:44:41.949Z"
   },
   {
    "duration": 9,
    "start_time": "2022-03-22T17:44:41.956Z"
   },
   {
    "duration": 10,
    "start_time": "2022-03-22T17:44:41.967Z"
   },
   {
    "duration": 6,
    "start_time": "2022-03-22T17:44:42.001Z"
   },
   {
    "duration": 29,
    "start_time": "2022-03-22T17:44:42.008Z"
   },
   {
    "duration": 29,
    "start_time": "2022-03-22T17:44:42.039Z"
   },
   {
    "duration": 32,
    "start_time": "2022-03-22T17:44:42.070Z"
   },
   {
    "duration": 167,
    "start_time": "2022-03-22T17:44:42.104Z"
   },
   {
    "duration": 40,
    "start_time": "2022-03-22T17:44:42.273Z"
   },
   {
    "duration": 10,
    "start_time": "2022-03-22T17:44:42.315Z"
   },
   {
    "duration": 380,
    "start_time": "2022-03-22T17:44:42.327Z"
   },
   {
    "duration": 7,
    "start_time": "2022-03-22T17:44:42.709Z"
   },
   {
    "duration": 10,
    "start_time": "2022-03-22T17:44:42.719Z"
   },
   {
    "duration": 435,
    "start_time": "2022-03-22T17:44:42.731Z"
   },
   {
    "duration": 8,
    "start_time": "2022-03-22T17:44:43.168Z"
   },
   {
    "duration": 26,
    "start_time": "2022-03-22T17:44:43.178Z"
   },
   {
    "duration": 19,
    "start_time": "2022-03-22T17:45:41.260Z"
   },
   {
    "duration": 6,
    "start_time": "2022-03-22T17:45:45.365Z"
   },
   {
    "duration": 6,
    "start_time": "2022-03-22T17:45:46.052Z"
   },
   {
    "duration": 5,
    "start_time": "2022-03-22T17:45:46.571Z"
   },
   {
    "duration": 5,
    "start_time": "2022-03-22T17:45:47.188Z"
   },
   {
    "duration": 22,
    "start_time": "2022-03-22T17:46:47.716Z"
   },
   {
    "duration": 6,
    "start_time": "2022-03-22T17:46:49.121Z"
   },
   {
    "duration": 5,
    "start_time": "2022-03-22T17:46:49.616Z"
   },
   {
    "duration": 5,
    "start_time": "2022-03-22T17:46:49.976Z"
   },
   {
    "duration": 5,
    "start_time": "2022-03-22T17:46:50.358Z"
   },
   {
    "duration": 5,
    "start_time": "2022-03-22T17:46:51.653Z"
   },
   {
    "duration": 22,
    "start_time": "2022-03-22T17:47:07.923Z"
   },
   {
    "duration": 5,
    "start_time": "2022-03-22T17:47:09.687Z"
   },
   {
    "duration": 5,
    "start_time": "2022-03-22T17:47:12.003Z"
   },
   {
    "duration": 6,
    "start_time": "2022-03-22T17:47:12.454Z"
   },
   {
    "duration": 25,
    "start_time": "2022-03-22T17:47:18.955Z"
   },
   {
    "duration": 5,
    "start_time": "2022-03-22T17:47:19.991Z"
   },
   {
    "duration": 23,
    "start_time": "2022-03-22T17:47:25.291Z"
   },
   {
    "duration": 5,
    "start_time": "2022-03-22T17:47:25.683Z"
   },
   {
    "duration": 22,
    "start_time": "2022-03-22T17:47:37.962Z"
   },
   {
    "duration": 6,
    "start_time": "2022-03-22T17:47:39.218Z"
   },
   {
    "duration": 25,
    "start_time": "2022-03-22T17:47:48.309Z"
   },
   {
    "duration": 5,
    "start_time": "2022-03-22T17:47:49.783Z"
   },
   {
    "duration": 5,
    "start_time": "2022-03-22T17:47:52.204Z"
   },
   {
    "duration": 6,
    "start_time": "2022-03-22T17:47:52.448Z"
   },
   {
    "duration": 6,
    "start_time": "2022-03-22T17:48:38.507Z"
   },
   {
    "duration": 24,
    "start_time": "2022-03-22T17:49:33.364Z"
   },
   {
    "duration": 6,
    "start_time": "2022-03-22T17:49:36.805Z"
   },
   {
    "duration": 211,
    "start_time": "2022-03-22T17:50:27.434Z"
   },
   {
    "duration": 22,
    "start_time": "2022-03-22T17:50:42.328Z"
   },
   {
    "duration": 23,
    "start_time": "2022-03-22T17:51:56.999Z"
   },
   {
    "duration": 23,
    "start_time": "2022-03-22T17:52:11.579Z"
   },
   {
    "duration": 6,
    "start_time": "2022-03-22T17:52:15.333Z"
   },
   {
    "duration": 6,
    "start_time": "2022-03-22T17:53:03.326Z"
   },
   {
    "duration": 6,
    "start_time": "2022-03-22T17:53:03.843Z"
   },
   {
    "duration": 5,
    "start_time": "2022-03-22T17:53:04.440Z"
   },
   {
    "duration": 23,
    "start_time": "2022-03-22T17:53:32.073Z"
   },
   {
    "duration": 6,
    "start_time": "2022-03-22T17:53:32.741Z"
   },
   {
    "duration": 24,
    "start_time": "2022-03-22T17:53:36.875Z"
   },
   {
    "duration": 5,
    "start_time": "2022-03-22T17:53:37.550Z"
   },
   {
    "duration": 24,
    "start_time": "2022-03-22T17:53:47.598Z"
   },
   {
    "duration": 6,
    "start_time": "2022-03-22T17:53:48.114Z"
   },
   {
    "duration": 5,
    "start_time": "2022-03-22T17:53:48.979Z"
   },
   {
    "duration": 24,
    "start_time": "2022-03-22T17:53:53.965Z"
   },
   {
    "duration": 5,
    "start_time": "2022-03-22T17:53:54.571Z"
   },
   {
    "duration": 7,
    "start_time": "2022-03-22T17:53:55.742Z"
   },
   {
    "duration": 112,
    "start_time": "2022-03-22T18:00:33.304Z"
   },
   {
    "duration": 7,
    "start_time": "2022-03-22T18:00:35.744Z"
   },
   {
    "duration": 62,
    "start_time": "2022-03-22T18:00:37.622Z"
   },
   {
    "duration": 89,
    "start_time": "2022-03-22T18:00:49.549Z"
   },
   {
    "duration": 85,
    "start_time": "2022-03-22T18:01:17.046Z"
   },
   {
    "duration": 6,
    "start_time": "2022-03-22T18:01:30.713Z"
   },
   {
    "duration": 5,
    "start_time": "2022-03-22T18:01:34.845Z"
   },
   {
    "duration": 177,
    "start_time": "2022-03-22T18:01:40.163Z"
   },
   {
    "duration": 5,
    "start_time": "2022-03-22T18:02:58.522Z"
   },
   {
    "duration": 237,
    "start_time": "2022-03-22T18:03:01.401Z"
   },
   {
    "duration": 149,
    "start_time": "2022-03-22T18:03:47.527Z"
   },
   {
    "duration": 150,
    "start_time": "2022-03-22T18:05:37.734Z"
   },
   {
    "duration": 148,
    "start_time": "2022-03-22T18:05:44.766Z"
   },
   {
    "duration": 6,
    "start_time": "2022-03-22T18:06:42.153Z"
   },
   {
    "duration": 154,
    "start_time": "2022-03-22T18:06:42.569Z"
   },
   {
    "duration": 163,
    "start_time": "2022-03-22T18:06:59.592Z"
   },
   {
    "duration": 6,
    "start_time": "2022-03-22T18:07:30.013Z"
   },
   {
    "duration": 168,
    "start_time": "2022-03-22T18:07:30.383Z"
   },
   {
    "duration": 1517,
    "start_time": "2022-03-22T18:13:02.105Z"
   },
   {
    "duration": 239,
    "start_time": "2022-03-22T18:13:03.625Z"
   },
   {
    "duration": 396,
    "start_time": "2022-03-22T18:13:03.866Z"
   },
   {
    "duration": 91,
    "start_time": "2022-03-22T18:13:04.264Z"
   },
   {
    "duration": 15,
    "start_time": "2022-03-22T18:13:04.357Z"
   },
   {
    "duration": 53,
    "start_time": "2022-03-22T18:13:04.374Z"
   },
   {
    "duration": 7,
    "start_time": "2022-03-22T18:13:04.429Z"
   },
   {
    "duration": 41,
    "start_time": "2022-03-22T18:13:04.438Z"
   },
   {
    "duration": 50,
    "start_time": "2022-03-22T18:13:04.500Z"
   },
   {
    "duration": 47,
    "start_time": "2022-03-22T18:13:04.553Z"
   },
   {
    "duration": 30,
    "start_time": "2022-03-22T18:13:04.603Z"
   },
   {
    "duration": 38,
    "start_time": "2022-03-22T18:13:04.635Z"
   },
   {
    "duration": 88,
    "start_time": "2022-03-22T18:13:04.675Z"
   },
   {
    "duration": 148,
    "start_time": "2022-03-22T18:13:04.765Z"
   },
   {
    "duration": 117,
    "start_time": "2022-03-22T18:13:04.915Z"
   },
   {
    "duration": 18,
    "start_time": "2022-03-22T18:13:05.034Z"
   },
   {
    "duration": 53,
    "start_time": "2022-03-22T18:13:05.054Z"
   },
   {
    "duration": 32,
    "start_time": "2022-03-22T18:13:05.109Z"
   },
   {
    "duration": 63,
    "start_time": "2022-03-22T18:13:05.144Z"
   },
   {
    "duration": 10,
    "start_time": "2022-03-22T18:13:05.209Z"
   },
   {
    "duration": 14,
    "start_time": "2022-03-22T18:13:05.221Z"
   },
   {
    "duration": 320,
    "start_time": "2022-03-22T18:13:05.237Z"
   },
   {
    "duration": 91,
    "start_time": "2022-03-22T18:13:05.560Z"
   },
   {
    "duration": 14,
    "start_time": "2022-03-22T18:13:05.653Z"
   },
   {
    "duration": 45,
    "start_time": "2022-03-22T18:13:05.669Z"
   },
   {
    "duration": 253,
    "start_time": "2022-03-22T18:13:05.716Z"
   },
   {
    "duration": 36,
    "start_time": "2022-03-22T18:13:05.972Z"
   },
   {
    "duration": 4,
    "start_time": "2022-03-22T18:13:06.013Z"
   },
   {
    "duration": 459,
    "start_time": "2022-03-22T18:13:06.019Z"
   },
   {
    "duration": 22,
    "start_time": "2022-03-22T18:13:06.480Z"
   },
   {
    "duration": 160,
    "start_time": "2022-03-22T18:13:06.504Z"
   },
   {
    "duration": 5,
    "start_time": "2022-03-22T18:13:06.666Z"
   },
   {
    "duration": 28,
    "start_time": "2022-03-22T18:13:06.673Z"
   },
   {
    "duration": 6,
    "start_time": "2022-03-22T18:13:06.704Z"
   },
   {
    "duration": 23,
    "start_time": "2022-03-22T18:13:06.711Z"
   },
   {
    "duration": 150,
    "start_time": "2022-03-22T18:13:06.736Z"
   },
   {
    "duration": 23,
    "start_time": "2022-03-22T18:13:06.888Z"
   },
   {
    "duration": 163,
    "start_time": "2022-03-22T18:13:06.913Z"
   },
   {
    "duration": 12,
    "start_time": "2022-03-22T18:13:07.078Z"
   },
   {
    "duration": 254,
    "start_time": "2022-03-22T18:13:07.100Z"
   },
   {
    "duration": 62,
    "start_time": "2022-03-22T18:13:07.356Z"
   },
   {
    "duration": 21,
    "start_time": "2022-03-22T18:13:07.420Z"
   },
   {
    "duration": 20,
    "start_time": "2022-03-22T18:13:07.443Z"
   },
   {
    "duration": 205,
    "start_time": "2022-03-22T18:13:07.464Z"
   },
   {
    "duration": 36,
    "start_time": "2022-03-22T18:13:07.671Z"
   },
   {
    "duration": 26,
    "start_time": "2022-03-22T18:13:07.709Z"
   },
   {
    "duration": 20,
    "start_time": "2022-03-22T18:13:07.737Z"
   },
   {
    "duration": 42,
    "start_time": "2022-03-22T18:13:07.759Z"
   },
   {
    "duration": 16,
    "start_time": "2022-03-22T18:13:07.803Z"
   },
   {
    "duration": 28,
    "start_time": "2022-03-22T18:13:07.821Z"
   },
   {
    "duration": 239,
    "start_time": "2022-03-22T18:13:07.851Z"
   },
   {
    "duration": 334,
    "start_time": "2022-03-22T18:13:08.091Z"
   },
   {
    "duration": 4,
    "start_time": "2022-03-22T18:13:08.427Z"
   },
   {
    "duration": 228,
    "start_time": "2022-03-22T18:13:08.433Z"
   },
   {
    "duration": 20,
    "start_time": "2022-03-22T18:13:08.662Z"
   },
   {
    "duration": 11,
    "start_time": "2022-03-22T18:13:08.684Z"
   },
   {
    "duration": 428,
    "start_time": "2022-03-22T18:13:08.697Z"
   },
   {
    "duration": 10,
    "start_time": "2022-03-22T18:13:09.127Z"
   },
   {
    "duration": 8,
    "start_time": "2022-03-22T18:13:09.139Z"
   },
   {
    "duration": 184,
    "start_time": "2022-03-22T18:13:09.149Z"
   },
   {
    "duration": 22,
    "start_time": "2022-03-22T18:13:09.336Z"
   },
   {
    "duration": 5,
    "start_time": "2022-03-22T18:13:09.360Z"
   },
   {
    "duration": 8,
    "start_time": "2022-03-22T18:13:09.367Z"
   },
   {
    "duration": 27,
    "start_time": "2022-03-22T18:13:09.377Z"
   },
   {
    "duration": 8,
    "start_time": "2022-03-22T18:13:09.406Z"
   },
   {
    "duration": 5,
    "start_time": "2022-03-22T18:13:09.417Z"
   },
   {
    "duration": 23,
    "start_time": "2022-03-22T18:13:09.424Z"
   },
   {
    "duration": 53,
    "start_time": "2022-03-22T18:13:09.449Z"
   },
   {
    "duration": 171,
    "start_time": "2022-03-22T18:13:09.504Z"
   },
   {
    "duration": 36,
    "start_time": "2022-03-22T18:13:09.676Z"
   },
   {
    "duration": 9,
    "start_time": "2022-03-22T18:13:09.714Z"
   },
   {
    "duration": 381,
    "start_time": "2022-03-22T18:13:09.725Z"
   },
   {
    "duration": 7,
    "start_time": "2022-03-22T18:13:10.108Z"
   },
   {
    "duration": 11,
    "start_time": "2022-03-22T18:13:10.117Z"
   },
   {
    "duration": 347,
    "start_time": "2022-03-22T18:13:10.130Z"
   },
   {
    "duration": 7,
    "start_time": "2022-03-22T18:13:10.479Z"
   },
   {
    "duration": 22,
    "start_time": "2022-03-22T18:13:10.488Z"
   },
   {
    "duration": 165,
    "start_time": "2022-03-22T18:13:52.314Z"
   },
   {
    "duration": 7,
    "start_time": "2022-03-22T18:14:15.132Z"
   },
   {
    "duration": 209,
    "start_time": "2022-03-22T18:14:15.579Z"
   },
   {
    "duration": 23,
    "start_time": "2022-03-22T18:16:13.944Z"
   },
   {
    "duration": 5,
    "start_time": "2022-03-22T18:16:17.295Z"
   },
   {
    "duration": 145,
    "start_time": "2022-03-22T18:17:14.043Z"
   },
   {
    "duration": 249,
    "start_time": "2022-03-22T18:17:30.265Z"
   },
   {
    "duration": 393,
    "start_time": "2022-03-22T18:19:29.609Z"
   },
   {
    "duration": 155,
    "start_time": "2022-03-22T18:19:59.534Z"
   },
   {
    "duration": 120,
    "start_time": "2022-03-22T18:20:24.104Z"
   },
   {
    "duration": 6,
    "start_time": "2022-03-22T18:21:53.970Z"
   },
   {
    "duration": 107,
    "start_time": "2022-03-22T18:22:24.752Z"
   },
   {
    "duration": 118,
    "start_time": "2022-03-22T18:23:48.633Z"
   },
   {
    "duration": 117,
    "start_time": "2022-03-22T18:24:04.462Z"
   },
   {
    "duration": 107,
    "start_time": "2022-03-22T18:24:33.949Z"
   },
   {
    "duration": 111,
    "start_time": "2022-03-22T18:24:52.670Z"
   },
   {
    "duration": 111,
    "start_time": "2022-03-22T18:24:59.959Z"
   },
   {
    "duration": 1183,
    "start_time": "2022-03-22T18:27:30.230Z"
   },
   {
    "duration": 2459,
    "start_time": "2022-03-22T18:27:42.818Z"
   },
   {
    "duration": 25,
    "start_time": "2022-03-22T18:28:13.125Z"
   },
   {
    "duration": 2397,
    "start_time": "2022-03-22T18:28:16.345Z"
   },
   {
    "duration": 2347,
    "start_time": "2022-03-22T18:28:33.039Z"
   },
   {
    "duration": 3301,
    "start_time": "2022-03-22T18:28:52.255Z"
   },
   {
    "duration": 3678,
    "start_time": "2022-03-22T18:29:01.793Z"
   },
   {
    "duration": 800,
    "start_time": "2022-03-22T18:31:08.113Z"
   },
   {
    "duration": 918,
    "start_time": "2022-03-22T18:31:22.906Z"
   },
   {
    "duration": 2066,
    "start_time": "2022-03-22T18:33:32.884Z"
   },
   {
    "duration": 1537,
    "start_time": "2022-03-22T18:34:23.666Z"
   },
   {
    "duration": 1225,
    "start_time": "2022-03-22T18:34:42.994Z"
   },
   {
    "duration": 956,
    "start_time": "2022-03-22T18:35:09.745Z"
   },
   {
    "duration": 1329,
    "start_time": "2022-03-22T18:35:28.500Z"
   },
   {
    "duration": 1066,
    "start_time": "2022-03-22T18:38:57.565Z"
   },
   {
    "duration": 1068,
    "start_time": "2022-03-22T18:40:02.061Z"
   },
   {
    "duration": 950,
    "start_time": "2022-03-22T18:40:17.732Z"
   },
   {
    "duration": 993,
    "start_time": "2022-03-22T18:40:37.017Z"
   },
   {
    "duration": 1037,
    "start_time": "2022-03-22T18:40:53.746Z"
   },
   {
    "duration": 973,
    "start_time": "2022-03-22T18:43:12.190Z"
   },
   {
    "duration": 24,
    "start_time": "2022-03-22T18:46:42.289Z"
   },
   {
    "duration": 5,
    "start_time": "2022-03-22T18:46:43.763Z"
   },
   {
    "duration": 1027,
    "start_time": "2022-03-22T18:49:58.694Z"
   },
   {
    "duration": 23,
    "start_time": "2022-03-22T18:51:07.985Z"
   },
   {
    "duration": 995,
    "start_time": "2022-03-22T18:52:06.713Z"
   },
   {
    "duration": 1065,
    "start_time": "2022-03-22T18:53:37.749Z"
   },
   {
    "duration": 973,
    "start_time": "2022-03-22T18:53:56.310Z"
   },
   {
    "duration": 1020,
    "start_time": "2022-03-22T19:17:22.952Z"
   },
   {
    "duration": 1040,
    "start_time": "2022-03-22T19:20:03.683Z"
   },
   {
    "duration": 12,
    "start_time": "2022-03-22T19:50:24.445Z"
   },
   {
    "duration": 11,
    "start_time": "2022-03-22T19:50:41.498Z"
   },
   {
    "duration": 15,
    "start_time": "2022-03-22T19:52:06.732Z"
   },
   {
    "duration": 22,
    "start_time": "2022-03-22T19:52:16.699Z"
   },
   {
    "duration": 25,
    "start_time": "2022-03-22T19:52:26.318Z"
   },
   {
    "duration": 13,
    "start_time": "2022-03-22T19:54:41.771Z"
   },
   {
    "duration": 12,
    "start_time": "2022-03-22T20:06:53.880Z"
   },
   {
    "duration": 98,
    "start_time": "2022-03-22T20:10:09.859Z"
   },
   {
    "duration": 6,
    "start_time": "2022-03-22T20:10:32.417Z"
   },
   {
    "duration": 11,
    "start_time": "2022-03-22T20:15:59.405Z"
   },
   {
    "duration": 26,
    "start_time": "2022-03-22T20:16:02.847Z"
   },
   {
    "duration": 14,
    "start_time": "2022-03-22T20:16:03.728Z"
   },
   {
    "duration": 14,
    "start_time": "2022-03-22T20:16:17.123Z"
   },
   {
    "duration": 5,
    "start_time": "2022-03-22T20:17:22.061Z"
   },
   {
    "duration": 5,
    "start_time": "2022-03-22T20:17:28.440Z"
   },
   {
    "duration": 5,
    "start_time": "2022-03-22T20:17:33.356Z"
   },
   {
    "duration": 5,
    "start_time": "2022-03-22T20:18:00.235Z"
   },
   {
    "duration": 122,
    "start_time": "2022-03-22T20:18:32.264Z"
   },
   {
    "duration": 5,
    "start_time": "2022-03-22T20:18:42.928Z"
   },
   {
    "duration": 7,
    "start_time": "2022-03-22T20:18:50.790Z"
   },
   {
    "duration": 8,
    "start_time": "2022-03-22T20:19:58.139Z"
   },
   {
    "duration": 7,
    "start_time": "2022-03-22T20:35:51.630Z"
   },
   {
    "duration": 8,
    "start_time": "2022-03-22T20:36:15.511Z"
   },
   {
    "duration": 120,
    "start_time": "2022-03-22T21:03:51.510Z"
   },
   {
    "duration": 27,
    "start_time": "2022-03-22T21:03:57.351Z"
   },
   {
    "duration": 138,
    "start_time": "2022-03-22T21:04:55.662Z"
   },
   {
    "duration": 131,
    "start_time": "2022-03-22T21:05:39.649Z"
   },
   {
    "duration": 152,
    "start_time": "2022-03-22T21:06:25.722Z"
   },
   {
    "duration": 1318,
    "start_time": "2022-03-22T21:12:21.958Z"
   },
   {
    "duration": 735,
    "start_time": "2022-03-22T21:12:23.279Z"
   },
   {
    "duration": 457,
    "start_time": "2022-03-22T21:12:24.016Z"
   },
   {
    "duration": 89,
    "start_time": "2022-03-22T21:12:24.476Z"
   },
   {
    "duration": 38,
    "start_time": "2022-03-22T21:12:24.567Z"
   },
   {
    "duration": 39,
    "start_time": "2022-03-22T21:12:24.607Z"
   },
   {
    "duration": 8,
    "start_time": "2022-03-22T21:12:24.649Z"
   },
   {
    "duration": 59,
    "start_time": "2022-03-22T21:12:24.660Z"
   },
   {
    "duration": 48,
    "start_time": "2022-03-22T21:12:24.721Z"
   },
   {
    "duration": 40,
    "start_time": "2022-03-22T21:12:24.772Z"
   },
   {
    "duration": 32,
    "start_time": "2022-03-22T21:12:24.814Z"
   },
   {
    "duration": 70,
    "start_time": "2022-03-22T21:12:24.848Z"
   },
   {
    "duration": 68,
    "start_time": "2022-03-22T21:12:24.919Z"
   },
   {
    "duration": 151,
    "start_time": "2022-03-22T21:12:24.989Z"
   },
   {
    "duration": 111,
    "start_time": "2022-03-22T21:12:25.142Z"
   },
   {
    "duration": 51,
    "start_time": "2022-03-22T21:12:25.254Z"
   },
   {
    "duration": 19,
    "start_time": "2022-03-22T21:12:25.307Z"
   },
   {
    "duration": 32,
    "start_time": "2022-03-22T21:12:25.328Z"
   },
   {
    "duration": 53,
    "start_time": "2022-03-22T21:12:25.363Z"
   },
   {
    "duration": 8,
    "start_time": "2022-03-22T21:12:25.418Z"
   },
   {
    "duration": 12,
    "start_time": "2022-03-22T21:12:25.428Z"
   },
   {
    "duration": 265,
    "start_time": "2022-03-22T21:12:25.442Z"
   },
   {
    "duration": 98,
    "start_time": "2022-03-22T21:12:25.709Z"
   },
   {
    "duration": 15,
    "start_time": "2022-03-22T21:12:25.808Z"
   },
   {
    "duration": 30,
    "start_time": "2022-03-22T21:12:25.826Z"
   },
   {
    "duration": 265,
    "start_time": "2022-03-22T21:12:25.859Z"
   },
   {
    "duration": 28,
    "start_time": "2022-03-22T21:12:26.126Z"
   },
   {
    "duration": 5,
    "start_time": "2022-03-22T21:12:26.159Z"
   },
   {
    "duration": 462,
    "start_time": "2022-03-22T21:12:26.166Z"
   },
   {
    "duration": 12,
    "start_time": "2022-03-22T21:12:26.630Z"
   },
   {
    "duration": 158,
    "start_time": "2022-03-22T21:12:26.643Z"
   },
   {
    "duration": 5,
    "start_time": "2022-03-22T21:12:26.803Z"
   },
   {
    "duration": 13,
    "start_time": "2022-03-22T21:12:26.810Z"
   },
   {
    "duration": 6,
    "start_time": "2022-03-22T21:12:26.824Z"
   },
   {
    "duration": 14,
    "start_time": "2022-03-22T21:12:26.831Z"
   },
   {
    "duration": 160,
    "start_time": "2022-03-22T21:12:26.847Z"
   },
   {
    "duration": 15,
    "start_time": "2022-03-22T21:12:27.009Z"
   },
   {
    "duration": 159,
    "start_time": "2022-03-22T21:12:27.025Z"
   },
   {
    "duration": 15,
    "start_time": "2022-03-22T21:12:27.187Z"
   },
   {
    "duration": 188,
    "start_time": "2022-03-22T21:12:27.205Z"
   },
   {
    "duration": 52,
    "start_time": "2022-03-22T21:12:27.396Z"
   },
   {
    "duration": 21,
    "start_time": "2022-03-22T21:12:27.450Z"
   },
   {
    "duration": 49,
    "start_time": "2022-03-22T21:12:27.473Z"
   },
   {
    "duration": 261,
    "start_time": "2022-03-22T21:12:27.524Z"
   },
   {
    "duration": 29,
    "start_time": "2022-03-22T21:12:27.787Z"
   },
   {
    "duration": 23,
    "start_time": "2022-03-22T21:12:27.818Z"
   },
   {
    "duration": 19,
    "start_time": "2022-03-22T21:12:27.843Z"
   },
   {
    "duration": 38,
    "start_time": "2022-03-22T21:12:27.864Z"
   },
   {
    "duration": 16,
    "start_time": "2022-03-22T21:12:27.904Z"
   },
   {
    "duration": 26,
    "start_time": "2022-03-22T21:12:27.922Z"
   },
   {
    "duration": 229,
    "start_time": "2022-03-22T21:12:27.950Z"
   },
   {
    "duration": 344,
    "start_time": "2022-03-22T21:12:28.181Z"
   },
   {
    "duration": 461,
    "start_time": "2022-03-22T21:12:28.527Z"
   },
   {
    "duration": 19,
    "start_time": "2022-03-22T21:12:28.990Z"
   },
   {
    "duration": 954,
    "start_time": "2022-03-22T21:12:29.011Z"
   },
   {
    "duration": 20,
    "start_time": "2022-03-22T21:12:29.967Z"
   },
   {
    "duration": 23,
    "start_time": "2022-03-22T21:12:30.000Z"
   },
   {
    "duration": 180,
    "start_time": "2022-03-22T21:12:30.025Z"
   },
   {
    "duration": 11,
    "start_time": "2022-03-22T21:12:30.207Z"
   },
   {
    "duration": 409,
    "start_time": "2022-03-22T21:12:30.219Z"
   },
   {
    "duration": 10,
    "start_time": "2022-03-22T21:12:30.630Z"
   },
   {
    "duration": 19,
    "start_time": "2022-03-22T21:12:30.642Z"
   },
   {
    "duration": 45,
    "start_time": "2022-03-22T21:12:30.663Z"
   },
   {
    "duration": 118,
    "start_time": "2022-03-22T21:12:30.710Z"
   },
   {
    "duration": 9,
    "start_time": "2022-03-22T21:12:54.023Z"
   },
   {
    "duration": 1709,
    "start_time": "2022-03-31T18:45:26.495Z"
   },
   {
    "duration": 791,
    "start_time": "2022-03-31T18:45:28.207Z"
   },
   {
    "duration": 439,
    "start_time": "2022-03-31T18:45:29.000Z"
   },
   {
    "duration": 101,
    "start_time": "2022-03-31T18:45:29.442Z"
   },
   {
    "duration": 45,
    "start_time": "2022-03-31T18:45:29.546Z"
   },
   {
    "duration": 37,
    "start_time": "2022-03-31T18:45:29.594Z"
   },
   {
    "duration": 10,
    "start_time": "2022-03-31T18:45:29.633Z"
   },
   {
    "duration": 95,
    "start_time": "2022-03-31T18:45:29.645Z"
   },
   {
    "duration": 59,
    "start_time": "2022-03-31T18:45:29.743Z"
   },
   {
    "duration": 22,
    "start_time": "2022-03-31T18:45:29.808Z"
   },
   {
    "duration": 70,
    "start_time": "2022-03-31T18:45:29.832Z"
   },
   {
    "duration": 40,
    "start_time": "2022-03-31T18:45:29.905Z"
   },
   {
    "duration": 119,
    "start_time": "2022-03-31T18:45:29.947Z"
   },
   {
    "duration": 203,
    "start_time": "2022-03-31T18:45:30.068Z"
   },
   {
    "duration": 156,
    "start_time": "2022-03-31T18:45:30.273Z"
   },
   {
    "duration": 69,
    "start_time": "2022-03-31T18:45:30.432Z"
   },
   {
    "duration": 28,
    "start_time": "2022-03-31T18:45:30.504Z"
   },
   {
    "duration": 66,
    "start_time": "2022-03-31T18:45:30.534Z"
   },
   {
    "duration": 40,
    "start_time": "2022-03-31T18:45:30.603Z"
   },
   {
    "duration": 11,
    "start_time": "2022-03-31T18:45:30.645Z"
   },
   {
    "duration": 18,
    "start_time": "2022-03-31T18:45:30.682Z"
   },
   {
    "duration": 366,
    "start_time": "2022-03-31T18:45:30.702Z"
   },
   {
    "duration": 134,
    "start_time": "2022-03-31T18:45:31.070Z"
   },
   {
    "duration": 16,
    "start_time": "2022-03-31T18:45:31.207Z"
   },
   {
    "duration": 68,
    "start_time": "2022-03-31T18:45:31.226Z"
   },
   {
    "duration": 492,
    "start_time": "2022-03-31T18:45:31.297Z"
   },
   {
    "duration": 31,
    "start_time": "2022-03-31T18:45:31.792Z"
   },
   {
    "duration": 6,
    "start_time": "2022-03-31T18:45:31.829Z"
   },
   {
    "duration": 692,
    "start_time": "2022-03-31T18:45:31.837Z"
   },
   {
    "duration": 16,
    "start_time": "2022-03-31T18:45:32.531Z"
   },
   {
    "duration": 247,
    "start_time": "2022-03-31T18:45:32.549Z"
   },
   {
    "duration": 7,
    "start_time": "2022-03-31T18:45:32.799Z"
   },
   {
    "duration": 15,
    "start_time": "2022-03-31T18:45:32.809Z"
   },
   {
    "duration": 7,
    "start_time": "2022-03-31T18:45:32.826Z"
   },
   {
    "duration": 55,
    "start_time": "2022-03-31T18:45:32.836Z"
   },
   {
    "duration": 210,
    "start_time": "2022-03-31T18:45:32.893Z"
   },
   {
    "duration": 19,
    "start_time": "2022-03-31T18:45:33.106Z"
   },
   {
    "duration": 250,
    "start_time": "2022-03-31T18:45:33.128Z"
   },
   {
    "duration": 18,
    "start_time": "2022-03-31T18:45:33.383Z"
   },
   {
    "duration": 342,
    "start_time": "2022-03-31T18:45:33.403Z"
   },
   {
    "duration": 76,
    "start_time": "2022-03-31T18:45:33.748Z"
   },
   {
    "duration": 25,
    "start_time": "2022-03-31T18:45:33.826Z"
   },
   {
    "duration": 42,
    "start_time": "2022-03-31T18:45:33.853Z"
   },
   {
    "duration": 285,
    "start_time": "2022-03-31T18:45:33.897Z"
   },
   {
    "duration": 32,
    "start_time": "2022-03-31T18:45:34.185Z"
   },
   {
    "duration": 29,
    "start_time": "2022-03-31T18:45:34.219Z"
   },
   {
    "duration": 55,
    "start_time": "2022-03-31T18:45:34.250Z"
   },
   {
    "duration": 15,
    "start_time": "2022-03-31T18:45:34.307Z"
   },
   {
    "duration": 23,
    "start_time": "2022-03-31T18:45:34.324Z"
   },
   {
    "duration": 63,
    "start_time": "2022-03-31T18:45:34.349Z"
   },
   {
    "duration": 358,
    "start_time": "2022-03-31T18:45:34.415Z"
   },
   {
    "duration": 466,
    "start_time": "2022-03-31T18:45:34.783Z"
   },
   {
    "duration": 671,
    "start_time": "2022-03-31T18:45:35.252Z"
   },
   {
    "duration": 13,
    "start_time": "2022-03-31T18:45:35.926Z"
   },
   {
    "duration": 1298,
    "start_time": "2022-03-31T18:45:35.941Z"
   },
   {
    "duration": 27,
    "start_time": "2022-03-31T18:45:37.241Z"
   },
   {
    "duration": 29,
    "start_time": "2022-03-31T18:45:37.283Z"
   },
   {
    "duration": 271,
    "start_time": "2022-03-31T18:45:37.314Z"
   },
   {
    "duration": 11,
    "start_time": "2022-03-31T18:45:37.595Z"
   },
   {
    "duration": 541,
    "start_time": "2022-03-31T18:45:37.608Z"
   },
   {
    "duration": 9,
    "start_time": "2022-03-31T18:45:38.152Z"
   },
   {
    "duration": 9,
    "start_time": "2022-03-31T18:45:38.191Z"
   },
   {
    "duration": 34,
    "start_time": "2022-03-31T18:45:38.202Z"
   },
   {
    "duration": 10,
    "start_time": "2022-03-31T18:45:38.239Z"
   }
  ],
  "kernelspec": {
   "display_name": "Python 3 (ipykernel)",
   "language": "python",
   "name": "python3"
  },
  "language_info": {
   "codemirror_mode": {
    "name": "ipython",
    "version": 3
   },
   "file_extension": ".py",
   "mimetype": "text/x-python",
   "name": "python",
   "nbconvert_exporter": "python",
   "pygments_lexer": "ipython3",
   "version": "3.9.5"
  },
  "toc": {
   "base_numbering": 1,
   "nav_menu": {},
   "number_sections": true,
   "sideBar": true,
   "skip_h1_title": true,
   "title_cell": "Оглавление",
   "title_sidebar": "Contents",
   "toc_cell": true,
   "toc_position": {
    "height": "calc(100% - 180px)",
    "left": "10px",
    "top": "150px",
    "width": "436.594px"
   },
   "toc_section_display": true,
   "toc_window_display": true
  }
 },
 "nbformat": 4,
 "nbformat_minor": 2
}
