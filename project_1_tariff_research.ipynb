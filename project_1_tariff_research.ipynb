{
 "cells": [
  {
   "cell_type": "markdown",
   "metadata": {
    "toc": true
   },
   "source": [
    "<h1>Содержание<span class=\"tocSkip\"></span></h1>\n",
    "<div class=\"toc\"><ul class=\"toc-item\"><li><span><a href=\"#Изучение-данных-из-файла\" data-toc-modified-id=\"Изучение-данных-из-файла-1\"><span class=\"toc-item-num\">1&nbsp;&nbsp;</span>Изучение данных из файла</a></span></li><li><span><a href=\"#Подготовка-данных\" data-toc-modified-id=\"Подготовка-данных-2\"><span class=\"toc-item-num\">2&nbsp;&nbsp;</span>Подготовка данных</a></span></li><li><span><a href=\"#Анализ-данных\" data-toc-modified-id=\"Анализ-данных-3\"><span class=\"toc-item-num\">3&nbsp;&nbsp;</span>Анализ данных</a></span></li><li><span><a href=\"#Проверка-гипотез\" data-toc-modified-id=\"Проверка-гипотез-4\"><span class=\"toc-item-num\">4&nbsp;&nbsp;</span>Проверка гипотез</a></span><ul class=\"toc-item\"><li><span><a href=\"#Гипотеза-&quot;Средняя-выручка-пользователей-тарифов-«Ультра»-и-«Смарт»-различаются&quot;\" data-toc-modified-id=\"Гипотеза-&quot;Средняя-выручка-пользователей-тарифов-«Ультра»-и-«Смарт»-различаются&quot;-4.1\"><span class=\"toc-item-num\">4.1&nbsp;&nbsp;</span>Гипотеза \"Средняя выручка пользователей тарифов «Ультра» и «Смарт» различаются\"</a></span></li><li><span><a href=\"#Гипотеза-&quot;Средняя-выручка-пользователей-из-Москвы-отличается-от-выручки-пользователей-из-других-регионов&quot;\" data-toc-modified-id=\"Гипотеза-&quot;Средняя-выручка-пользователей-из-Москвы-отличается-от-выручки-пользователей-из-других-регионов&quot;-4.2\"><span class=\"toc-item-num\">4.2&nbsp;&nbsp;</span>Гипотеза \"Средняя выручка пользователей из Москвы отличается от выручки пользователей из других регионов\"</a></span></li></ul></li><li><span><a href=\"#Общий-вывод\" data-toc-modified-id=\"Общий-вывод-5\"><span class=\"toc-item-num\">5&nbsp;&nbsp;</span>Общий вывод</a></span></li></ul></div>"
   ]
  },
  {
   "cell_type": "markdown",
   "metadata": {},
   "source": [
    "# Определение перспективного тарифа для телеком-компании"
   ]
  },
  {
   "cell_type": "markdown",
   "metadata": {},
   "source": [
    "В нашем распоряжении данные 500 пользователей сотового оператора: кто они, откуда, каким тарифом пользуются, сколько звонков и сообщений каждый отправил за 2018 год. Клиентам предлагают два тарифных плана: «Смарт» и «Ультра».\n",
    "\n",
    "Цель проекта - проанализировать поведение клиентов и сделать вывод — какой тариф лучше."
   ]
  },
  {
   "cell_type": "markdown",
   "metadata": {},
   "source": [
    "## Изучение данных из файла"
   ]
  },
  {
   "cell_type": "code",
   "execution_count": 1,
   "metadata": {},
   "outputs": [],
   "source": [
    "# Импортируем нужные библиотеки;\n",
    "import pandas as pd\n",
    "import math\n",
    "import numpy as np\n",
    "import matplotlib.pyplot as plt\n",
    "from scipy import stats as st\n",
    "from IPython.display import display\n",
    "pd.set_option('display.max_columns', None)\n",
    "pd.set_option('display.max_rows', 100)\n",
    "\n",
    "# Откроем файлы с данными и сохраним в переменные:\n",
    "calls = pd.read_csv('/datasets/calls.csv')\n",
    "internet = pd.read_csv('/datasets/internet.csv')\n",
    "messages = pd.read_csv('/datasets/messages.csv')\n",
    "tariffs = pd.read_csv('/datasets/tariffs.csv')\n",
    "users = pd.read_csv('/datasets/users.csv')\n",
    "\n",
    "# Изучим все таблицы:"
   ]
  },
  {
   "cell_type": "code",
   "execution_count": 2,
   "metadata": {
    "scrolled": false
   },
   "outputs": [
    {
     "name": "stdout",
     "output_type": "stream",
     "text": [
      "<class 'pandas.core.frame.DataFrame'>\n",
      "RangeIndex: 202607 entries, 0 to 202606\n",
      "Data columns (total 4 columns):\n",
      "id           202607 non-null object\n",
      "call_date    202607 non-null object\n",
      "duration     202607 non-null float64\n",
      "user_id      202607 non-null int64\n",
      "dtypes: float64(1), int64(1), object(2)\n",
      "memory usage: 6.2+ MB\n"
     ]
    },
    {
     "data": {
      "text/html": [
       "<div>\n",
       "<style scoped>\n",
       "    .dataframe tbody tr th:only-of-type {\n",
       "        vertical-align: middle;\n",
       "    }\n",
       "\n",
       "    .dataframe tbody tr th {\n",
       "        vertical-align: top;\n",
       "    }\n",
       "\n",
       "    .dataframe thead th {\n",
       "        text-align: right;\n",
       "    }\n",
       "</style>\n",
       "<table border=\"1\" class=\"dataframe\">\n",
       "  <thead>\n",
       "    <tr style=\"text-align: right;\">\n",
       "      <th></th>\n",
       "      <th>id</th>\n",
       "      <th>call_date</th>\n",
       "      <th>duration</th>\n",
       "      <th>user_id</th>\n",
       "    </tr>\n",
       "  </thead>\n",
       "  <tbody>\n",
       "    <tr>\n",
       "      <td>0</td>\n",
       "      <td>1000_0</td>\n",
       "      <td>2018-07-25</td>\n",
       "      <td>0.00</td>\n",
       "      <td>1000</td>\n",
       "    </tr>\n",
       "    <tr>\n",
       "      <td>1</td>\n",
       "      <td>1000_1</td>\n",
       "      <td>2018-08-17</td>\n",
       "      <td>0.00</td>\n",
       "      <td>1000</td>\n",
       "    </tr>\n",
       "    <tr>\n",
       "      <td>2</td>\n",
       "      <td>1000_2</td>\n",
       "      <td>2018-06-11</td>\n",
       "      <td>2.85</td>\n",
       "      <td>1000</td>\n",
       "    </tr>\n",
       "    <tr>\n",
       "      <td>3</td>\n",
       "      <td>1000_3</td>\n",
       "      <td>2018-09-21</td>\n",
       "      <td>13.80</td>\n",
       "      <td>1000</td>\n",
       "    </tr>\n",
       "    <tr>\n",
       "      <td>4</td>\n",
       "      <td>1000_4</td>\n",
       "      <td>2018-12-15</td>\n",
       "      <td>5.18</td>\n",
       "      <td>1000</td>\n",
       "    </tr>\n",
       "  </tbody>\n",
       "</table>\n",
       "</div>"
      ],
      "text/plain": [
       "       id   call_date  duration  user_id\n",
       "0  1000_0  2018-07-25      0.00     1000\n",
       "1  1000_1  2018-08-17      0.00     1000\n",
       "2  1000_2  2018-06-11      2.85     1000\n",
       "3  1000_3  2018-09-21     13.80     1000\n",
       "4  1000_4  2018-12-15      5.18     1000"
      ]
     },
     "metadata": {},
     "output_type": "display_data"
    },
    {
     "data": {
      "text/html": [
       "<div>\n",
       "<style scoped>\n",
       "    .dataframe tbody tr th:only-of-type {\n",
       "        vertical-align: middle;\n",
       "    }\n",
       "\n",
       "    .dataframe tbody tr th {\n",
       "        vertical-align: top;\n",
       "    }\n",
       "\n",
       "    .dataframe thead th {\n",
       "        text-align: right;\n",
       "    }\n",
       "</style>\n",
       "<table border=\"1\" class=\"dataframe\">\n",
       "  <thead>\n",
       "    <tr style=\"text-align: right;\">\n",
       "      <th></th>\n",
       "      <th>duration</th>\n",
       "      <th>user_id</th>\n",
       "    </tr>\n",
       "  </thead>\n",
       "  <tbody>\n",
       "    <tr>\n",
       "      <td>count</td>\n",
       "      <td>202607.000000</td>\n",
       "      <td>202607.000000</td>\n",
       "    </tr>\n",
       "    <tr>\n",
       "      <td>mean</td>\n",
       "      <td>6.755887</td>\n",
       "      <td>1253.940619</td>\n",
       "    </tr>\n",
       "    <tr>\n",
       "      <td>std</td>\n",
       "      <td>5.843365</td>\n",
       "      <td>144.722751</td>\n",
       "    </tr>\n",
       "    <tr>\n",
       "      <td>min</td>\n",
       "      <td>0.000000</td>\n",
       "      <td>1000.000000</td>\n",
       "    </tr>\n",
       "    <tr>\n",
       "      <td>25%</td>\n",
       "      <td>1.300000</td>\n",
       "      <td>1126.000000</td>\n",
       "    </tr>\n",
       "    <tr>\n",
       "      <td>50%</td>\n",
       "      <td>6.000000</td>\n",
       "      <td>1260.000000</td>\n",
       "    </tr>\n",
       "    <tr>\n",
       "      <td>75%</td>\n",
       "      <td>10.700000</td>\n",
       "      <td>1379.000000</td>\n",
       "    </tr>\n",
       "    <tr>\n",
       "      <td>max</td>\n",
       "      <td>38.000000</td>\n",
       "      <td>1499.000000</td>\n",
       "    </tr>\n",
       "  </tbody>\n",
       "</table>\n",
       "</div>"
      ],
      "text/plain": [
       "            duration        user_id\n",
       "count  202607.000000  202607.000000\n",
       "mean        6.755887    1253.940619\n",
       "std         5.843365     144.722751\n",
       "min         0.000000    1000.000000\n",
       "25%         1.300000    1126.000000\n",
       "50%         6.000000    1260.000000\n",
       "75%        10.700000    1379.000000\n",
       "max        38.000000    1499.000000"
      ]
     },
     "metadata": {},
     "output_type": "display_data"
    },
    {
     "data": {
      "text/plain": [
       "id           0\n",
       "call_date    0\n",
       "duration     0\n",
       "user_id      0\n",
       "dtype: int64"
      ]
     },
     "metadata": {},
     "output_type": "display_data"
    }
   ],
   "source": [
    "calls.info()\n",
    "display(calls.head())\n",
    "display(calls.describe())\n",
    "display(calls.isna().sum())"
   ]
  },
  {
   "cell_type": "code",
   "execution_count": 3,
   "metadata": {
    "scrolled": false
   },
   "outputs": [
    {
     "name": "stdout",
     "output_type": "stream",
     "text": [
      "<class 'pandas.core.frame.DataFrame'>\n",
      "RangeIndex: 149396 entries, 0 to 149395\n",
      "Data columns (total 5 columns):\n",
      "Unnamed: 0      149396 non-null int64\n",
      "id              149396 non-null object\n",
      "mb_used         149396 non-null float64\n",
      "session_date    149396 non-null object\n",
      "user_id         149396 non-null int64\n",
      "dtypes: float64(1), int64(2), object(2)\n",
      "memory usage: 5.7+ MB\n"
     ]
    },
    {
     "data": {
      "text/html": [
       "<div>\n",
       "<style scoped>\n",
       "    .dataframe tbody tr th:only-of-type {\n",
       "        vertical-align: middle;\n",
       "    }\n",
       "\n",
       "    .dataframe tbody tr th {\n",
       "        vertical-align: top;\n",
       "    }\n",
       "\n",
       "    .dataframe thead th {\n",
       "        text-align: right;\n",
       "    }\n",
       "</style>\n",
       "<table border=\"1\" class=\"dataframe\">\n",
       "  <thead>\n",
       "    <tr style=\"text-align: right;\">\n",
       "      <th></th>\n",
       "      <th>Unnamed: 0</th>\n",
       "      <th>id</th>\n",
       "      <th>mb_used</th>\n",
       "      <th>session_date</th>\n",
       "      <th>user_id</th>\n",
       "    </tr>\n",
       "  </thead>\n",
       "  <tbody>\n",
       "    <tr>\n",
       "      <td>0</td>\n",
       "      <td>0</td>\n",
       "      <td>1000_0</td>\n",
       "      <td>112.95</td>\n",
       "      <td>2018-11-25</td>\n",
       "      <td>1000</td>\n",
       "    </tr>\n",
       "    <tr>\n",
       "      <td>1</td>\n",
       "      <td>1</td>\n",
       "      <td>1000_1</td>\n",
       "      <td>1052.81</td>\n",
       "      <td>2018-09-07</td>\n",
       "      <td>1000</td>\n",
       "    </tr>\n",
       "    <tr>\n",
       "      <td>2</td>\n",
       "      <td>2</td>\n",
       "      <td>1000_2</td>\n",
       "      <td>1197.26</td>\n",
       "      <td>2018-06-25</td>\n",
       "      <td>1000</td>\n",
       "    </tr>\n",
       "    <tr>\n",
       "      <td>3</td>\n",
       "      <td>3</td>\n",
       "      <td>1000_3</td>\n",
       "      <td>550.27</td>\n",
       "      <td>2018-08-22</td>\n",
       "      <td>1000</td>\n",
       "    </tr>\n",
       "    <tr>\n",
       "      <td>4</td>\n",
       "      <td>4</td>\n",
       "      <td>1000_4</td>\n",
       "      <td>302.56</td>\n",
       "      <td>2018-09-24</td>\n",
       "      <td>1000</td>\n",
       "    </tr>\n",
       "  </tbody>\n",
       "</table>\n",
       "</div>"
      ],
      "text/plain": [
       "   Unnamed: 0      id  mb_used session_date  user_id\n",
       "0           0  1000_0   112.95   2018-11-25     1000\n",
       "1           1  1000_1  1052.81   2018-09-07     1000\n",
       "2           2  1000_2  1197.26   2018-06-25     1000\n",
       "3           3  1000_3   550.27   2018-08-22     1000\n",
       "4           4  1000_4   302.56   2018-09-24     1000"
      ]
     },
     "metadata": {},
     "output_type": "display_data"
    },
    {
     "data": {
      "text/html": [
       "<div>\n",
       "<style scoped>\n",
       "    .dataframe tbody tr th:only-of-type {\n",
       "        vertical-align: middle;\n",
       "    }\n",
       "\n",
       "    .dataframe tbody tr th {\n",
       "        vertical-align: top;\n",
       "    }\n",
       "\n",
       "    .dataframe thead th {\n",
       "        text-align: right;\n",
       "    }\n",
       "</style>\n",
       "<table border=\"1\" class=\"dataframe\">\n",
       "  <thead>\n",
       "    <tr style=\"text-align: right;\">\n",
       "      <th></th>\n",
       "      <th>Unnamed: 0</th>\n",
       "      <th>mb_used</th>\n",
       "      <th>user_id</th>\n",
       "    </tr>\n",
       "  </thead>\n",
       "  <tbody>\n",
       "    <tr>\n",
       "      <td>count</td>\n",
       "      <td>149396.000000</td>\n",
       "      <td>149396.000000</td>\n",
       "      <td>149396.000000</td>\n",
       "    </tr>\n",
       "    <tr>\n",
       "      <td>mean</td>\n",
       "      <td>74697.500000</td>\n",
       "      <td>370.192426</td>\n",
       "      <td>1252.099842</td>\n",
       "    </tr>\n",
       "    <tr>\n",
       "      <td>std</td>\n",
       "      <td>43127.054745</td>\n",
       "      <td>278.300951</td>\n",
       "      <td>144.050823</td>\n",
       "    </tr>\n",
       "    <tr>\n",
       "      <td>min</td>\n",
       "      <td>0.000000</td>\n",
       "      <td>0.000000</td>\n",
       "      <td>1000.000000</td>\n",
       "    </tr>\n",
       "    <tr>\n",
       "      <td>25%</td>\n",
       "      <td>37348.750000</td>\n",
       "      <td>138.187500</td>\n",
       "      <td>1130.000000</td>\n",
       "    </tr>\n",
       "    <tr>\n",
       "      <td>50%</td>\n",
       "      <td>74697.500000</td>\n",
       "      <td>348.015000</td>\n",
       "      <td>1251.000000</td>\n",
       "    </tr>\n",
       "    <tr>\n",
       "      <td>75%</td>\n",
       "      <td>112046.250000</td>\n",
       "      <td>559.552500</td>\n",
       "      <td>1380.000000</td>\n",
       "    </tr>\n",
       "    <tr>\n",
       "      <td>max</td>\n",
       "      <td>149395.000000</td>\n",
       "      <td>1724.830000</td>\n",
       "      <td>1499.000000</td>\n",
       "    </tr>\n",
       "  </tbody>\n",
       "</table>\n",
       "</div>"
      ],
      "text/plain": [
       "          Unnamed: 0        mb_used        user_id\n",
       "count  149396.000000  149396.000000  149396.000000\n",
       "mean    74697.500000     370.192426    1252.099842\n",
       "std     43127.054745     278.300951     144.050823\n",
       "min         0.000000       0.000000    1000.000000\n",
       "25%     37348.750000     138.187500    1130.000000\n",
       "50%     74697.500000     348.015000    1251.000000\n",
       "75%    112046.250000     559.552500    1380.000000\n",
       "max    149395.000000    1724.830000    1499.000000"
      ]
     },
     "metadata": {},
     "output_type": "display_data"
    },
    {
     "data": {
      "text/plain": [
       "Unnamed: 0      0\n",
       "id              0\n",
       "mb_used         0\n",
       "session_date    0\n",
       "user_id         0\n",
       "dtype: int64"
      ]
     },
     "metadata": {},
     "output_type": "display_data"
    }
   ],
   "source": [
    "internet.info()\n",
    "display(internet.head())\n",
    "display(internet.describe())\n",
    "display(internet.isna().sum())"
   ]
  },
  {
   "cell_type": "code",
   "execution_count": 4,
   "metadata": {},
   "outputs": [
    {
     "name": "stdout",
     "output_type": "stream",
     "text": [
      "<class 'pandas.core.frame.DataFrame'>\n",
      "RangeIndex: 123036 entries, 0 to 123035\n",
      "Data columns (total 3 columns):\n",
      "id              123036 non-null object\n",
      "message_date    123036 non-null object\n",
      "user_id         123036 non-null int64\n",
      "dtypes: int64(1), object(2)\n",
      "memory usage: 2.8+ MB\n"
     ]
    },
    {
     "data": {
      "text/html": [
       "<div>\n",
       "<style scoped>\n",
       "    .dataframe tbody tr th:only-of-type {\n",
       "        vertical-align: middle;\n",
       "    }\n",
       "\n",
       "    .dataframe tbody tr th {\n",
       "        vertical-align: top;\n",
       "    }\n",
       "\n",
       "    .dataframe thead th {\n",
       "        text-align: right;\n",
       "    }\n",
       "</style>\n",
       "<table border=\"1\" class=\"dataframe\">\n",
       "  <thead>\n",
       "    <tr style=\"text-align: right;\">\n",
       "      <th></th>\n",
       "      <th>id</th>\n",
       "      <th>message_date</th>\n",
       "      <th>user_id</th>\n",
       "    </tr>\n",
       "  </thead>\n",
       "  <tbody>\n",
       "    <tr>\n",
       "      <td>0</td>\n",
       "      <td>1000_0</td>\n",
       "      <td>2018-06-27</td>\n",
       "      <td>1000</td>\n",
       "    </tr>\n",
       "    <tr>\n",
       "      <td>1</td>\n",
       "      <td>1000_1</td>\n",
       "      <td>2018-10-08</td>\n",
       "      <td>1000</td>\n",
       "    </tr>\n",
       "    <tr>\n",
       "      <td>2</td>\n",
       "      <td>1000_2</td>\n",
       "      <td>2018-08-04</td>\n",
       "      <td>1000</td>\n",
       "    </tr>\n",
       "    <tr>\n",
       "      <td>3</td>\n",
       "      <td>1000_3</td>\n",
       "      <td>2018-06-16</td>\n",
       "      <td>1000</td>\n",
       "    </tr>\n",
       "    <tr>\n",
       "      <td>4</td>\n",
       "      <td>1000_4</td>\n",
       "      <td>2018-12-05</td>\n",
       "      <td>1000</td>\n",
       "    </tr>\n",
       "  </tbody>\n",
       "</table>\n",
       "</div>"
      ],
      "text/plain": [
       "       id message_date  user_id\n",
       "0  1000_0   2018-06-27     1000\n",
       "1  1000_1   2018-10-08     1000\n",
       "2  1000_2   2018-08-04     1000\n",
       "3  1000_3   2018-06-16     1000\n",
       "4  1000_4   2018-12-05     1000"
      ]
     },
     "metadata": {},
     "output_type": "display_data"
    },
    {
     "data": {
      "text/html": [
       "<div>\n",
       "<style scoped>\n",
       "    .dataframe tbody tr th:only-of-type {\n",
       "        vertical-align: middle;\n",
       "    }\n",
       "\n",
       "    .dataframe tbody tr th {\n",
       "        vertical-align: top;\n",
       "    }\n",
       "\n",
       "    .dataframe thead th {\n",
       "        text-align: right;\n",
       "    }\n",
       "</style>\n",
       "<table border=\"1\" class=\"dataframe\">\n",
       "  <thead>\n",
       "    <tr style=\"text-align: right;\">\n",
       "      <th></th>\n",
       "      <th>user_id</th>\n",
       "    </tr>\n",
       "  </thead>\n",
       "  <tbody>\n",
       "    <tr>\n",
       "      <td>count</td>\n",
       "      <td>123036.000000</td>\n",
       "    </tr>\n",
       "    <tr>\n",
       "      <td>mean</td>\n",
       "      <td>1256.989410</td>\n",
       "    </tr>\n",
       "    <tr>\n",
       "      <td>std</td>\n",
       "      <td>143.523967</td>\n",
       "    </tr>\n",
       "    <tr>\n",
       "      <td>min</td>\n",
       "      <td>1000.000000</td>\n",
       "    </tr>\n",
       "    <tr>\n",
       "      <td>25%</td>\n",
       "      <td>1134.000000</td>\n",
       "    </tr>\n",
       "    <tr>\n",
       "      <td>50%</td>\n",
       "      <td>1271.000000</td>\n",
       "    </tr>\n",
       "    <tr>\n",
       "      <td>75%</td>\n",
       "      <td>1381.000000</td>\n",
       "    </tr>\n",
       "    <tr>\n",
       "      <td>max</td>\n",
       "      <td>1499.000000</td>\n",
       "    </tr>\n",
       "  </tbody>\n",
       "</table>\n",
       "</div>"
      ],
      "text/plain": [
       "             user_id\n",
       "count  123036.000000\n",
       "mean     1256.989410\n",
       "std       143.523967\n",
       "min      1000.000000\n",
       "25%      1134.000000\n",
       "50%      1271.000000\n",
       "75%      1381.000000\n",
       "max      1499.000000"
      ]
     },
     "metadata": {},
     "output_type": "display_data"
    },
    {
     "data": {
      "text/plain": [
       "id              0\n",
       "message_date    0\n",
       "user_id         0\n",
       "dtype: int64"
      ]
     },
     "metadata": {},
     "output_type": "display_data"
    }
   ],
   "source": [
    "messages.info()\n",
    "display(messages.head())\n",
    "display(messages.describe())\n",
    "display(messages.isna().sum())"
   ]
  },
  {
   "cell_type": "code",
   "execution_count": 5,
   "metadata": {},
   "outputs": [
    {
     "name": "stdout",
     "output_type": "stream",
     "text": [
      "<class 'pandas.core.frame.DataFrame'>\n",
      "RangeIndex: 2 entries, 0 to 1\n",
      "Data columns (total 8 columns):\n",
      "messages_included        2 non-null int64\n",
      "mb_per_month_included    2 non-null int64\n",
      "minutes_included         2 non-null int64\n",
      "rub_monthly_fee          2 non-null int64\n",
      "rub_per_gb               2 non-null int64\n",
      "rub_per_message          2 non-null int64\n",
      "rub_per_minute           2 non-null int64\n",
      "tariff_name              2 non-null object\n",
      "dtypes: int64(7), object(1)\n",
      "memory usage: 256.0+ bytes\n"
     ]
    },
    {
     "data": {
      "text/html": [
       "<div>\n",
       "<style scoped>\n",
       "    .dataframe tbody tr th:only-of-type {\n",
       "        vertical-align: middle;\n",
       "    }\n",
       "\n",
       "    .dataframe tbody tr th {\n",
       "        vertical-align: top;\n",
       "    }\n",
       "\n",
       "    .dataframe thead th {\n",
       "        text-align: right;\n",
       "    }\n",
       "</style>\n",
       "<table border=\"1\" class=\"dataframe\">\n",
       "  <thead>\n",
       "    <tr style=\"text-align: right;\">\n",
       "      <th></th>\n",
       "      <th>messages_included</th>\n",
       "      <th>mb_per_month_included</th>\n",
       "      <th>minutes_included</th>\n",
       "      <th>rub_monthly_fee</th>\n",
       "      <th>rub_per_gb</th>\n",
       "      <th>rub_per_message</th>\n",
       "      <th>rub_per_minute</th>\n",
       "      <th>tariff_name</th>\n",
       "    </tr>\n",
       "  </thead>\n",
       "  <tbody>\n",
       "    <tr>\n",
       "      <td>0</td>\n",
       "      <td>50</td>\n",
       "      <td>15360</td>\n",
       "      <td>500</td>\n",
       "      <td>550</td>\n",
       "      <td>200</td>\n",
       "      <td>3</td>\n",
       "      <td>3</td>\n",
       "      <td>smart</td>\n",
       "    </tr>\n",
       "    <tr>\n",
       "      <td>1</td>\n",
       "      <td>1000</td>\n",
       "      <td>30720</td>\n",
       "      <td>3000</td>\n",
       "      <td>1950</td>\n",
       "      <td>150</td>\n",
       "      <td>1</td>\n",
       "      <td>1</td>\n",
       "      <td>ultra</td>\n",
       "    </tr>\n",
       "  </tbody>\n",
       "</table>\n",
       "</div>"
      ],
      "text/plain": [
       "   messages_included  mb_per_month_included  minutes_included  \\\n",
       "0                 50                  15360               500   \n",
       "1               1000                  30720              3000   \n",
       "\n",
       "   rub_monthly_fee  rub_per_gb  rub_per_message  rub_per_minute tariff_name  \n",
       "0              550         200                3               3       smart  \n",
       "1             1950         150                1               1       ultra  "
      ]
     },
     "metadata": {},
     "output_type": "display_data"
    },
    {
     "data": {
      "text/html": [
       "<div>\n",
       "<style scoped>\n",
       "    .dataframe tbody tr th:only-of-type {\n",
       "        vertical-align: middle;\n",
       "    }\n",
       "\n",
       "    .dataframe tbody tr th {\n",
       "        vertical-align: top;\n",
       "    }\n",
       "\n",
       "    .dataframe thead th {\n",
       "        text-align: right;\n",
       "    }\n",
       "</style>\n",
       "<table border=\"1\" class=\"dataframe\">\n",
       "  <thead>\n",
       "    <tr style=\"text-align: right;\">\n",
       "      <th></th>\n",
       "      <th>messages_included</th>\n",
       "      <th>mb_per_month_included</th>\n",
       "      <th>minutes_included</th>\n",
       "      <th>rub_monthly_fee</th>\n",
       "      <th>rub_per_gb</th>\n",
       "      <th>rub_per_message</th>\n",
       "      <th>rub_per_minute</th>\n",
       "    </tr>\n",
       "  </thead>\n",
       "  <tbody>\n",
       "    <tr>\n",
       "      <td>count</td>\n",
       "      <td>2.000000</td>\n",
       "      <td>2.000000</td>\n",
       "      <td>2.000000</td>\n",
       "      <td>2.000000</td>\n",
       "      <td>2.000000</td>\n",
       "      <td>2.000000</td>\n",
       "      <td>2.000000</td>\n",
       "    </tr>\n",
       "    <tr>\n",
       "      <td>mean</td>\n",
       "      <td>525.000000</td>\n",
       "      <td>23040.000000</td>\n",
       "      <td>1750.000000</td>\n",
       "      <td>1250.000000</td>\n",
       "      <td>175.000000</td>\n",
       "      <td>2.000000</td>\n",
       "      <td>2.000000</td>\n",
       "    </tr>\n",
       "    <tr>\n",
       "      <td>std</td>\n",
       "      <td>671.751442</td>\n",
       "      <td>10861.160159</td>\n",
       "      <td>1767.766953</td>\n",
       "      <td>989.949494</td>\n",
       "      <td>35.355339</td>\n",
       "      <td>1.414214</td>\n",
       "      <td>1.414214</td>\n",
       "    </tr>\n",
       "    <tr>\n",
       "      <td>min</td>\n",
       "      <td>50.000000</td>\n",
       "      <td>15360.000000</td>\n",
       "      <td>500.000000</td>\n",
       "      <td>550.000000</td>\n",
       "      <td>150.000000</td>\n",
       "      <td>1.000000</td>\n",
       "      <td>1.000000</td>\n",
       "    </tr>\n",
       "    <tr>\n",
       "      <td>25%</td>\n",
       "      <td>287.500000</td>\n",
       "      <td>19200.000000</td>\n",
       "      <td>1125.000000</td>\n",
       "      <td>900.000000</td>\n",
       "      <td>162.500000</td>\n",
       "      <td>1.500000</td>\n",
       "      <td>1.500000</td>\n",
       "    </tr>\n",
       "    <tr>\n",
       "      <td>50%</td>\n",
       "      <td>525.000000</td>\n",
       "      <td>23040.000000</td>\n",
       "      <td>1750.000000</td>\n",
       "      <td>1250.000000</td>\n",
       "      <td>175.000000</td>\n",
       "      <td>2.000000</td>\n",
       "      <td>2.000000</td>\n",
       "    </tr>\n",
       "    <tr>\n",
       "      <td>75%</td>\n",
       "      <td>762.500000</td>\n",
       "      <td>26880.000000</td>\n",
       "      <td>2375.000000</td>\n",
       "      <td>1600.000000</td>\n",
       "      <td>187.500000</td>\n",
       "      <td>2.500000</td>\n",
       "      <td>2.500000</td>\n",
       "    </tr>\n",
       "    <tr>\n",
       "      <td>max</td>\n",
       "      <td>1000.000000</td>\n",
       "      <td>30720.000000</td>\n",
       "      <td>3000.000000</td>\n",
       "      <td>1950.000000</td>\n",
       "      <td>200.000000</td>\n",
       "      <td>3.000000</td>\n",
       "      <td>3.000000</td>\n",
       "    </tr>\n",
       "  </tbody>\n",
       "</table>\n",
       "</div>"
      ],
      "text/plain": [
       "       messages_included  mb_per_month_included  minutes_included  \\\n",
       "count           2.000000               2.000000          2.000000   \n",
       "mean          525.000000           23040.000000       1750.000000   \n",
       "std           671.751442           10861.160159       1767.766953   \n",
       "min            50.000000           15360.000000        500.000000   \n",
       "25%           287.500000           19200.000000       1125.000000   \n",
       "50%           525.000000           23040.000000       1750.000000   \n",
       "75%           762.500000           26880.000000       2375.000000   \n",
       "max          1000.000000           30720.000000       3000.000000   \n",
       "\n",
       "       rub_monthly_fee  rub_per_gb  rub_per_message  rub_per_minute  \n",
       "count         2.000000    2.000000         2.000000        2.000000  \n",
       "mean       1250.000000  175.000000         2.000000        2.000000  \n",
       "std         989.949494   35.355339         1.414214        1.414214  \n",
       "min         550.000000  150.000000         1.000000        1.000000  \n",
       "25%         900.000000  162.500000         1.500000        1.500000  \n",
       "50%        1250.000000  175.000000         2.000000        2.000000  \n",
       "75%        1600.000000  187.500000         2.500000        2.500000  \n",
       "max        1950.000000  200.000000         3.000000        3.000000  "
      ]
     },
     "metadata": {},
     "output_type": "display_data"
    },
    {
     "data": {
      "text/plain": [
       "messages_included        0\n",
       "mb_per_month_included    0\n",
       "minutes_included         0\n",
       "rub_monthly_fee          0\n",
       "rub_per_gb               0\n",
       "rub_per_message          0\n",
       "rub_per_minute           0\n",
       "tariff_name              0\n",
       "dtype: int64"
      ]
     },
     "metadata": {},
     "output_type": "display_data"
    }
   ],
   "source": [
    "tariffs.info()\n",
    "display(tariffs.head())\n",
    "display(tariffs.describe())\n",
    "display(tariffs.isna().sum())"
   ]
  },
  {
   "cell_type": "code",
   "execution_count": 6,
   "metadata": {},
   "outputs": [
    {
     "name": "stdout",
     "output_type": "stream",
     "text": [
      "<class 'pandas.core.frame.DataFrame'>\n",
      "RangeIndex: 500 entries, 0 to 499\n",
      "Data columns (total 8 columns):\n",
      "user_id       500 non-null int64\n",
      "age           500 non-null int64\n",
      "churn_date    38 non-null object\n",
      "city          500 non-null object\n",
      "first_name    500 non-null object\n",
      "last_name     500 non-null object\n",
      "reg_date      500 non-null object\n",
      "tariff        500 non-null object\n",
      "dtypes: int64(2), object(6)\n",
      "memory usage: 31.4+ KB\n"
     ]
    },
    {
     "data": {
      "text/html": [
       "<div>\n",
       "<style scoped>\n",
       "    .dataframe tbody tr th:only-of-type {\n",
       "        vertical-align: middle;\n",
       "    }\n",
       "\n",
       "    .dataframe tbody tr th {\n",
       "        vertical-align: top;\n",
       "    }\n",
       "\n",
       "    .dataframe thead th {\n",
       "        text-align: right;\n",
       "    }\n",
       "</style>\n",
       "<table border=\"1\" class=\"dataframe\">\n",
       "  <thead>\n",
       "    <tr style=\"text-align: right;\">\n",
       "      <th></th>\n",
       "      <th>user_id</th>\n",
       "      <th>age</th>\n",
       "      <th>churn_date</th>\n",
       "      <th>city</th>\n",
       "      <th>first_name</th>\n",
       "      <th>last_name</th>\n",
       "      <th>reg_date</th>\n",
       "      <th>tariff</th>\n",
       "    </tr>\n",
       "  </thead>\n",
       "  <tbody>\n",
       "    <tr>\n",
       "      <td>0</td>\n",
       "      <td>1000</td>\n",
       "      <td>52</td>\n",
       "      <td>NaN</td>\n",
       "      <td>Краснодар</td>\n",
       "      <td>Рафаил</td>\n",
       "      <td>Верещагин</td>\n",
       "      <td>2018-05-25</td>\n",
       "      <td>ultra</td>\n",
       "    </tr>\n",
       "    <tr>\n",
       "      <td>1</td>\n",
       "      <td>1001</td>\n",
       "      <td>41</td>\n",
       "      <td>NaN</td>\n",
       "      <td>Москва</td>\n",
       "      <td>Иван</td>\n",
       "      <td>Ежов</td>\n",
       "      <td>2018-11-01</td>\n",
       "      <td>smart</td>\n",
       "    </tr>\n",
       "    <tr>\n",
       "      <td>2</td>\n",
       "      <td>1002</td>\n",
       "      <td>59</td>\n",
       "      <td>NaN</td>\n",
       "      <td>Стерлитамак</td>\n",
       "      <td>Евгений</td>\n",
       "      <td>Абрамович</td>\n",
       "      <td>2018-06-17</td>\n",
       "      <td>smart</td>\n",
       "    </tr>\n",
       "    <tr>\n",
       "      <td>3</td>\n",
       "      <td>1003</td>\n",
       "      <td>23</td>\n",
       "      <td>NaN</td>\n",
       "      <td>Москва</td>\n",
       "      <td>Белла</td>\n",
       "      <td>Белякова</td>\n",
       "      <td>2018-08-17</td>\n",
       "      <td>ultra</td>\n",
       "    </tr>\n",
       "    <tr>\n",
       "      <td>4</td>\n",
       "      <td>1004</td>\n",
       "      <td>68</td>\n",
       "      <td>NaN</td>\n",
       "      <td>Новокузнецк</td>\n",
       "      <td>Татьяна</td>\n",
       "      <td>Авдеенко</td>\n",
       "      <td>2018-05-14</td>\n",
       "      <td>ultra</td>\n",
       "    </tr>\n",
       "  </tbody>\n",
       "</table>\n",
       "</div>"
      ],
      "text/plain": [
       "   user_id  age churn_date         city first_name  last_name    reg_date  \\\n",
       "0     1000   52        NaN    Краснодар     Рафаил  Верещагин  2018-05-25   \n",
       "1     1001   41        NaN       Москва       Иван       Ежов  2018-11-01   \n",
       "2     1002   59        NaN  Стерлитамак    Евгений  Абрамович  2018-06-17   \n",
       "3     1003   23        NaN       Москва      Белла   Белякова  2018-08-17   \n",
       "4     1004   68        NaN  Новокузнецк    Татьяна   Авдеенко  2018-05-14   \n",
       "\n",
       "  tariff  \n",
       "0  ultra  \n",
       "1  smart  \n",
       "2  smart  \n",
       "3  ultra  \n",
       "4  ultra  "
      ]
     },
     "metadata": {},
     "output_type": "display_data"
    },
    {
     "data": {
      "text/html": [
       "<div>\n",
       "<style scoped>\n",
       "    .dataframe tbody tr th:only-of-type {\n",
       "        vertical-align: middle;\n",
       "    }\n",
       "\n",
       "    .dataframe tbody tr th {\n",
       "        vertical-align: top;\n",
       "    }\n",
       "\n",
       "    .dataframe thead th {\n",
       "        text-align: right;\n",
       "    }\n",
       "</style>\n",
       "<table border=\"1\" class=\"dataframe\">\n",
       "  <thead>\n",
       "    <tr style=\"text-align: right;\">\n",
       "      <th></th>\n",
       "      <th>user_id</th>\n",
       "      <th>age</th>\n",
       "    </tr>\n",
       "  </thead>\n",
       "  <tbody>\n",
       "    <tr>\n",
       "      <td>count</td>\n",
       "      <td>500.000000</td>\n",
       "      <td>500.00000</td>\n",
       "    </tr>\n",
       "    <tr>\n",
       "      <td>mean</td>\n",
       "      <td>1249.500000</td>\n",
       "      <td>46.58800</td>\n",
       "    </tr>\n",
       "    <tr>\n",
       "      <td>std</td>\n",
       "      <td>144.481833</td>\n",
       "      <td>16.66763</td>\n",
       "    </tr>\n",
       "    <tr>\n",
       "      <td>min</td>\n",
       "      <td>1000.000000</td>\n",
       "      <td>18.00000</td>\n",
       "    </tr>\n",
       "    <tr>\n",
       "      <td>25%</td>\n",
       "      <td>1124.750000</td>\n",
       "      <td>32.00000</td>\n",
       "    </tr>\n",
       "    <tr>\n",
       "      <td>50%</td>\n",
       "      <td>1249.500000</td>\n",
       "      <td>46.00000</td>\n",
       "    </tr>\n",
       "    <tr>\n",
       "      <td>75%</td>\n",
       "      <td>1374.250000</td>\n",
       "      <td>62.00000</td>\n",
       "    </tr>\n",
       "    <tr>\n",
       "      <td>max</td>\n",
       "      <td>1499.000000</td>\n",
       "      <td>75.00000</td>\n",
       "    </tr>\n",
       "  </tbody>\n",
       "</table>\n",
       "</div>"
      ],
      "text/plain": [
       "           user_id        age\n",
       "count   500.000000  500.00000\n",
       "mean   1249.500000   46.58800\n",
       "std     144.481833   16.66763\n",
       "min    1000.000000   18.00000\n",
       "25%    1124.750000   32.00000\n",
       "50%    1249.500000   46.00000\n",
       "75%    1374.250000   62.00000\n",
       "max    1499.000000   75.00000"
      ]
     },
     "metadata": {},
     "output_type": "display_data"
    },
    {
     "data": {
      "text/plain": [
       "user_id         0\n",
       "age             0\n",
       "churn_date    462\n",
       "city            0\n",
       "first_name      0\n",
       "last_name       0\n",
       "reg_date        0\n",
       "tariff          0\n",
       "dtype: int64"
      ]
     },
     "metadata": {},
     "output_type": "display_data"
    }
   ],
   "source": [
    "users.info()\n",
    "display(users.head())\n",
    "display(users.describe())\n",
    "display(users.isna().sum())"
   ]
  },
  {
   "cell_type": "code",
   "execution_count": 7,
   "metadata": {
    "scrolled": true
   },
   "outputs": [
    {
     "data": {
      "text/plain": [
       "smart    351\n",
       "ultra    149\n",
       "Name: tariff, dtype: int64"
      ]
     },
     "metadata": {},
     "output_type": "display_data"
    },
    {
     "data": {
      "text/plain": [
       "array(['Краснодар', 'Москва', 'Стерлитамак', 'Новокузнецк',\n",
       "       'Набережные Челны', 'Ульяновск', 'Челябинск', 'Пермь', 'Тюмень',\n",
       "       'Самара', 'Санкт-Петербург', 'Иваново', 'Чебоксары', 'Омск', 'Уфа',\n",
       "       'Томск', 'Чита', 'Мурманск', 'Петрозаводск', 'Тверь',\n",
       "       'Екатеринбург', 'Махачкала', 'Вологда', 'Череповец', 'Ярославль',\n",
       "       'Сочи', 'Хабаровск', 'Ставрополь', 'Рязань', 'Улан-Удэ', 'Тула',\n",
       "       'Саратов', 'Ростов-на-Дону', 'Казань', 'Иркутск', 'Курск',\n",
       "       'Калуга', 'Якутск', 'Астрахань', 'Химки', 'Владикавказ',\n",
       "       'Волгоград', 'Саранск', 'Ижевск', 'Новосибирск', 'Брянск',\n",
       "       'Тольятти', 'Нижний Тагил', 'Орёл', 'Белгород', 'Воронеж',\n",
       "       'Волжский', 'Курган', 'Барнаул', 'Красноярск', 'Архангельск',\n",
       "       'Липецк', 'Кемерово', 'Киров', 'Сургут', 'Пенза', 'Магнитогорск',\n",
       "       'Нижний Новгород', 'Кострома', 'Владивосток', 'Тамбов', 'Балашиха',\n",
       "       'Севастополь', 'Калининград', 'Оренбург', 'Смоленск',\n",
       "       'Нижневартовск', 'Владимир', 'Новороссийск', 'Грозный', 'Подольск'],\n",
       "      dtype=object)"
      ]
     },
     "metadata": {},
     "output_type": "display_data"
    }
   ],
   "source": [
    "display(users['tariff'].value_counts())\n",
    "display(users['city'].unique())"
   ]
  },
  {
   "cell_type": "markdown",
   "metadata": {},
   "source": [
    "## Подготовка данных"
   ]
  },
  {
   "cell_type": "code",
   "execution_count": 8,
   "metadata": {},
   "outputs": [],
   "source": [
    "# Создадим словарь с месяцами для идентификации месяцев по номеру:\n",
    "months = {1:'January', 2:'February', 3:'March', 4:'April', 5:'May', 6:'June', 7:'July', 8:'August', 9:'September', 10:'October', 11:'November', 12:'December'}"
   ]
  },
  {
   "cell_type": "code",
   "execution_count": 9,
   "metadata": {
    "scrolled": false
   },
   "outputs": [
    {
     "name": "stdout",
     "output_type": "stream",
     "text": [
      "<class 'pandas.core.frame.DataFrame'>\n",
      "RangeIndex: 202607 entries, 0 to 202606\n",
      "Data columns (total 5 columns):\n",
      "id           202607 non-null object\n",
      "call_date    202607 non-null datetime64[ns]\n",
      "duration     202607 non-null int64\n",
      "user_id      202607 non-null int64\n",
      "month        202607 non-null object\n",
      "dtypes: datetime64[ns](1), int64(2), object(2)\n",
      "memory usage: 7.7+ MB\n"
     ]
    },
    {
     "data": {
      "text/html": [
       "<div>\n",
       "<style scoped>\n",
       "    .dataframe tbody tr th:only-of-type {\n",
       "        vertical-align: middle;\n",
       "    }\n",
       "\n",
       "    .dataframe tbody tr th {\n",
       "        vertical-align: top;\n",
       "    }\n",
       "\n",
       "    .dataframe thead th {\n",
       "        text-align: right;\n",
       "    }\n",
       "</style>\n",
       "<table border=\"1\" class=\"dataframe\">\n",
       "  <thead>\n",
       "    <tr style=\"text-align: right;\">\n",
       "      <th></th>\n",
       "      <th>id</th>\n",
       "      <th>call_date</th>\n",
       "      <th>duration</th>\n",
       "      <th>user_id</th>\n",
       "      <th>month</th>\n",
       "    </tr>\n",
       "  </thead>\n",
       "  <tbody>\n",
       "    <tr>\n",
       "      <td>0</td>\n",
       "      <td>1000_0</td>\n",
       "      <td>2018-07-25</td>\n",
       "      <td>0</td>\n",
       "      <td>1000</td>\n",
       "      <td>July</td>\n",
       "    </tr>\n",
       "    <tr>\n",
       "      <td>1</td>\n",
       "      <td>1000_1</td>\n",
       "      <td>2018-08-17</td>\n",
       "      <td>0</td>\n",
       "      <td>1000</td>\n",
       "      <td>August</td>\n",
       "    </tr>\n",
       "    <tr>\n",
       "      <td>2</td>\n",
       "      <td>1000_2</td>\n",
       "      <td>2018-06-11</td>\n",
       "      <td>3</td>\n",
       "      <td>1000</td>\n",
       "      <td>June</td>\n",
       "    </tr>\n",
       "    <tr>\n",
       "      <td>3</td>\n",
       "      <td>1000_3</td>\n",
       "      <td>2018-09-21</td>\n",
       "      <td>14</td>\n",
       "      <td>1000</td>\n",
       "      <td>September</td>\n",
       "    </tr>\n",
       "    <tr>\n",
       "      <td>4</td>\n",
       "      <td>1000_4</td>\n",
       "      <td>2018-12-15</td>\n",
       "      <td>6</td>\n",
       "      <td>1000</td>\n",
       "      <td>December</td>\n",
       "    </tr>\n",
       "  </tbody>\n",
       "</table>\n",
       "</div>"
      ],
      "text/plain": [
       "       id  call_date  duration  user_id      month\n",
       "0  1000_0 2018-07-25         0     1000       July\n",
       "1  1000_1 2018-08-17         0     1000     August\n",
       "2  1000_2 2018-06-11         3     1000       June\n",
       "3  1000_3 2018-09-21        14     1000  September\n",
       "4  1000_4 2018-12-15         6     1000   December"
      ]
     },
     "metadata": {},
     "output_type": "display_data"
    }
   ],
   "source": [
    "# Округлим количество минут в звонках в большую сторону.\n",
    "# Для этого прибавим 0.5 и округлим полученное значение методом round().\n",
    "# Приведем минуты к целочисленному типу данных:\n",
    "calls['duration'] = (calls['duration']+0.50).round().astype(int)\n",
    "\n",
    "# Даты звонков приведем в формат даты:\n",
    "calls['call_date'] = pd.to_datetime(calls['call_date'], format='%Y-%m-%d')\n",
    "\n",
    "#Создадим столбец с месяцами звонков, применим словарь с месяцами для замена номера месяца на название:\n",
    "calls['month'] = calls['call_date'].dt.month\n",
    "calls['month'] = calls['month'].apply(lambda x: months[x])\n",
    "calls.info()\n",
    "display(calls.head())"
   ]
  },
  {
   "cell_type": "code",
   "execution_count": 10,
   "metadata": {},
   "outputs": [
    {
     "name": "stdout",
     "output_type": "stream",
     "text": [
      "<class 'pandas.core.frame.DataFrame'>\n",
      "Int64Index: 3174 entries, 0 to 3173\n",
      "Data columns (total 4 columns):\n",
      "user_id           3174 non-null int64\n",
      "month             3174 non-null object\n",
      "calls_duration    3174 non-null int64\n",
      "calls_count       3174 non-null int64\n",
      "dtypes: int64(3), object(1)\n",
      "memory usage: 124.0+ KB\n"
     ]
    },
    {
     "data": {
      "text/html": [
       "<div>\n",
       "<style scoped>\n",
       "    .dataframe tbody tr th:only-of-type {\n",
       "        vertical-align: middle;\n",
       "    }\n",
       "\n",
       "    .dataframe tbody tr th {\n",
       "        vertical-align: top;\n",
       "    }\n",
       "\n",
       "    .dataframe thead th {\n",
       "        text-align: right;\n",
       "    }\n",
       "</style>\n",
       "<table border=\"1\" class=\"dataframe\">\n",
       "  <thead>\n",
       "    <tr style=\"text-align: right;\">\n",
       "      <th></th>\n",
       "      <th>user_id</th>\n",
       "      <th>month</th>\n",
       "      <th>calls_duration</th>\n",
       "      <th>calls_count</th>\n",
       "    </tr>\n",
       "  </thead>\n",
       "  <tbody>\n",
       "    <tr>\n",
       "      <td>0</td>\n",
       "      <td>1000</td>\n",
       "      <td>August</td>\n",
       "      <td>409</td>\n",
       "      <td>52</td>\n",
       "    </tr>\n",
       "    <tr>\n",
       "      <td>1</td>\n",
       "      <td>1000</td>\n",
       "      <td>December</td>\n",
       "      <td>333</td>\n",
       "      <td>46</td>\n",
       "    </tr>\n",
       "    <tr>\n",
       "      <td>2</td>\n",
       "      <td>1000</td>\n",
       "      <td>July</td>\n",
       "      <td>340</td>\n",
       "      <td>47</td>\n",
       "    </tr>\n",
       "    <tr>\n",
       "      <td>3</td>\n",
       "      <td>1000</td>\n",
       "      <td>June</td>\n",
       "      <td>172</td>\n",
       "      <td>43</td>\n",
       "    </tr>\n",
       "    <tr>\n",
       "      <td>4</td>\n",
       "      <td>1000</td>\n",
       "      <td>May</td>\n",
       "      <td>159</td>\n",
       "      <td>22</td>\n",
       "    </tr>\n",
       "  </tbody>\n",
       "</table>\n",
       "</div>"
      ],
      "text/plain": [
       "   user_id     month  calls_duration  calls_count\n",
       "0     1000    August             409           52\n",
       "1     1000  December             333           46\n",
       "2     1000      July             340           47\n",
       "3     1000      June             172           43\n",
       "4     1000       May             159           22"
      ]
     },
     "metadata": {},
     "output_type": "display_data"
    }
   ],
   "source": [
    "# Создадим таблицы с сгруппированными данными по абонентам и месяцам.\n",
    "# Первая таблица с общей длительностью звонков, вторая - с их количеством:\n",
    "calls_grouped_dur_sum = calls.groupby(by=['user_id','month'], as_index=False)['duration'].sum()\n",
    "calls_grouped_dur_count = calls.groupby(by=['user_id','month'], as_index=False)['duration'].count()\n",
    "\n",
    "# Объединим таблицы в одну методом merge():\n",
    "calls_grouped = calls_grouped_dur_sum.merge(calls_grouped_dur_count, how='outer', on=['user_id','month'])\n",
    "calls_grouped.columns=['user_id', 'month', 'calls_duration', 'calls_count']\n",
    "\n",
    "calls_grouped.info()\n",
    "display(calls_grouped.head())"
   ]
  },
  {
   "cell_type": "code",
   "execution_count": 11,
   "metadata": {},
   "outputs": [
    {
     "name": "stdout",
     "output_type": "stream",
     "text": [
      "<class 'pandas.core.frame.DataFrame'>\n",
      "RangeIndex: 149396 entries, 0 to 149395\n",
      "Data columns (total 6 columns):\n",
      "Unnamed: 0      149396 non-null int64\n",
      "id              149396 non-null object\n",
      "mb_used         149396 non-null int64\n",
      "session_date    149396 non-null datetime64[ns]\n",
      "user_id         149396 non-null int64\n",
      "month           149396 non-null object\n",
      "dtypes: datetime64[ns](1), int64(3), object(2)\n",
      "memory usage: 6.8+ MB\n"
     ]
    },
    {
     "data": {
      "text/html": [
       "<div>\n",
       "<style scoped>\n",
       "    .dataframe tbody tr th:only-of-type {\n",
       "        vertical-align: middle;\n",
       "    }\n",
       "\n",
       "    .dataframe tbody tr th {\n",
       "        vertical-align: top;\n",
       "    }\n",
       "\n",
       "    .dataframe thead th {\n",
       "        text-align: right;\n",
       "    }\n",
       "</style>\n",
       "<table border=\"1\" class=\"dataframe\">\n",
       "  <thead>\n",
       "    <tr style=\"text-align: right;\">\n",
       "      <th></th>\n",
       "      <th>Unnamed: 0</th>\n",
       "      <th>id</th>\n",
       "      <th>mb_used</th>\n",
       "      <th>session_date</th>\n",
       "      <th>user_id</th>\n",
       "      <th>month</th>\n",
       "    </tr>\n",
       "  </thead>\n",
       "  <tbody>\n",
       "    <tr>\n",
       "      <td>0</td>\n",
       "      <td>0</td>\n",
       "      <td>1000_0</td>\n",
       "      <td>113</td>\n",
       "      <td>2018-11-25</td>\n",
       "      <td>1000</td>\n",
       "      <td>November</td>\n",
       "    </tr>\n",
       "    <tr>\n",
       "      <td>1</td>\n",
       "      <td>1</td>\n",
       "      <td>1000_1</td>\n",
       "      <td>1053</td>\n",
       "      <td>2018-09-07</td>\n",
       "      <td>1000</td>\n",
       "      <td>September</td>\n",
       "    </tr>\n",
       "    <tr>\n",
       "      <td>2</td>\n",
       "      <td>2</td>\n",
       "      <td>1000_2</td>\n",
       "      <td>1198</td>\n",
       "      <td>2018-06-25</td>\n",
       "      <td>1000</td>\n",
       "      <td>June</td>\n",
       "    </tr>\n",
       "    <tr>\n",
       "      <td>3</td>\n",
       "      <td>3</td>\n",
       "      <td>1000_3</td>\n",
       "      <td>551</td>\n",
       "      <td>2018-08-22</td>\n",
       "      <td>1000</td>\n",
       "      <td>August</td>\n",
       "    </tr>\n",
       "    <tr>\n",
       "      <td>4</td>\n",
       "      <td>4</td>\n",
       "      <td>1000_4</td>\n",
       "      <td>303</td>\n",
       "      <td>2018-09-24</td>\n",
       "      <td>1000</td>\n",
       "      <td>September</td>\n",
       "    </tr>\n",
       "  </tbody>\n",
       "</table>\n",
       "</div>"
      ],
      "text/plain": [
       "   Unnamed: 0      id  mb_used session_date  user_id      month\n",
       "0           0  1000_0      113   2018-11-25     1000   November\n",
       "1           1  1000_1     1053   2018-09-07     1000  September\n",
       "2           2  1000_2     1198   2018-06-25     1000       June\n",
       "3           3  1000_3      551   2018-08-22     1000     August\n",
       "4           4  1000_4      303   2018-09-24     1000  September"
      ]
     },
     "metadata": {},
     "output_type": "display_data"
    }
   ],
   "source": [
    "# Округлим количество потраченных абонентами мегабайт в большую сторону.\n",
    "# Для этого прибавим 0.5 и округлим полученное значение методом round().\n",
    "# Приведем мегабайты к целочисленному типу данных:\n",
    "internet['mb_used'] = (internet['mb_used']+0.50).round().astype(int)\n",
    "\n",
    "# Даты интернет-сессий приведем в формат даты:\n",
    "internet['session_date'] = pd.to_datetime(internet['session_date'], format='%Y-%m-%d')\n",
    "\n",
    "#Создадим столбец с месяцами интернет-сессий, применим словарь с месяцами для замена номера месяца на название:\n",
    "internet['month'] = internet['session_date'].dt.month\n",
    "internet['month'] = internet['month'].apply(lambda x: months[x])\n",
    "internet.info()\n",
    "display(internet.head())"
   ]
  },
  {
   "cell_type": "code",
   "execution_count": 12,
   "metadata": {},
   "outputs": [
    {
     "data": {
      "text/html": [
       "<div>\n",
       "<style scoped>\n",
       "    .dataframe tbody tr th:only-of-type {\n",
       "        vertical-align: middle;\n",
       "    }\n",
       "\n",
       "    .dataframe tbody tr th {\n",
       "        vertical-align: top;\n",
       "    }\n",
       "\n",
       "    .dataframe thead th {\n",
       "        text-align: right;\n",
       "    }\n",
       "</style>\n",
       "<table border=\"1\" class=\"dataframe\">\n",
       "  <thead>\n",
       "    <tr style=\"text-align: right;\">\n",
       "      <th></th>\n",
       "      <th>user_id</th>\n",
       "      <th>month</th>\n",
       "      <th>gb_used</th>\n",
       "    </tr>\n",
       "  </thead>\n",
       "  <tbody>\n",
       "    <tr>\n",
       "      <td>0</td>\n",
       "      <td>1000</td>\n",
       "      <td>August</td>\n",
       "      <td>14</td>\n",
       "    </tr>\n",
       "    <tr>\n",
       "      <td>1</td>\n",
       "      <td>1000</td>\n",
       "      <td>December</td>\n",
       "      <td>10</td>\n",
       "    </tr>\n",
       "    <tr>\n",
       "      <td>2</td>\n",
       "      <td>1000</td>\n",
       "      <td>July</td>\n",
       "      <td>14</td>\n",
       "    </tr>\n",
       "    <tr>\n",
       "      <td>3</td>\n",
       "      <td>1000</td>\n",
       "      <td>June</td>\n",
       "      <td>23</td>\n",
       "    </tr>\n",
       "    <tr>\n",
       "      <td>4</td>\n",
       "      <td>1000</td>\n",
       "      <td>May</td>\n",
       "      <td>3</td>\n",
       "    </tr>\n",
       "    <tr>\n",
       "      <td>...</td>\n",
       "      <td>...</td>\n",
       "      <td>...</td>\n",
       "      <td>...</td>\n",
       "    </tr>\n",
       "    <tr>\n",
       "      <td>3198</td>\n",
       "      <td>1498</td>\n",
       "      <td>September</td>\n",
       "      <td>22</td>\n",
       "    </tr>\n",
       "    <tr>\n",
       "      <td>3199</td>\n",
       "      <td>1499</td>\n",
       "      <td>December</td>\n",
       "      <td>13</td>\n",
       "    </tr>\n",
       "    <tr>\n",
       "      <td>3200</td>\n",
       "      <td>1499</td>\n",
       "      <td>November</td>\n",
       "      <td>18</td>\n",
       "    </tr>\n",
       "    <tr>\n",
       "      <td>3201</td>\n",
       "      <td>1499</td>\n",
       "      <td>October</td>\n",
       "      <td>18</td>\n",
       "    </tr>\n",
       "    <tr>\n",
       "      <td>3202</td>\n",
       "      <td>1499</td>\n",
       "      <td>September</td>\n",
       "      <td>2</td>\n",
       "    </tr>\n",
       "  </tbody>\n",
       "</table>\n",
       "<p>3203 rows × 3 columns</p>\n",
       "</div>"
      ],
      "text/plain": [
       "      user_id      month  gb_used\n",
       "0        1000     August       14\n",
       "1        1000   December       10\n",
       "2        1000       July       14\n",
       "3        1000       June       23\n",
       "4        1000        May        3\n",
       "...       ...        ...      ...\n",
       "3198     1498  September       22\n",
       "3199     1499   December       13\n",
       "3200     1499   November       18\n",
       "3201     1499    October       18\n",
       "3202     1499  September        2\n",
       "\n",
       "[3203 rows x 3 columns]"
      ]
     },
     "metadata": {},
     "output_type": "display_data"
    }
   ],
   "source": [
    "# Создадим таблицу с сгруппированными данными по абонентам и месяцам по суммарному количеству интернет-траффика:\n",
    "internet_grouped = internet.groupby(by=['user_id','month'], as_index=False)['mb_used'].sum()\n",
    "# Мегабайты переведем в гигабайты (соответствующий столбец переименуем):\n",
    "internet_grouped['mb_used'] = ((internet_grouped['mb_used'] / 1024)+0.50).round().astype(int)\n",
    "internet_grouped.columns=['user_id', 'month', 'gb_used']\n",
    "display(internet_grouped)"
   ]
  },
  {
   "cell_type": "code",
   "execution_count": 13,
   "metadata": {},
   "outputs": [
    {
     "name": "stdout",
     "output_type": "stream",
     "text": [
      "<class 'pandas.core.frame.DataFrame'>\n",
      "RangeIndex: 123036 entries, 0 to 123035\n",
      "Data columns (total 4 columns):\n",
      "id              123036 non-null object\n",
      "message_date    123036 non-null datetime64[ns]\n",
      "user_id         123036 non-null int64\n",
      "month           123036 non-null object\n",
      "dtypes: datetime64[ns](1), int64(1), object(2)\n",
      "memory usage: 3.8+ MB\n"
     ]
    },
    {
     "data": {
      "text/html": [
       "<div>\n",
       "<style scoped>\n",
       "    .dataframe tbody tr th:only-of-type {\n",
       "        vertical-align: middle;\n",
       "    }\n",
       "\n",
       "    .dataframe tbody tr th {\n",
       "        vertical-align: top;\n",
       "    }\n",
       "\n",
       "    .dataframe thead th {\n",
       "        text-align: right;\n",
       "    }\n",
       "</style>\n",
       "<table border=\"1\" class=\"dataframe\">\n",
       "  <thead>\n",
       "    <tr style=\"text-align: right;\">\n",
       "      <th></th>\n",
       "      <th>id</th>\n",
       "      <th>message_date</th>\n",
       "      <th>user_id</th>\n",
       "      <th>month</th>\n",
       "    </tr>\n",
       "  </thead>\n",
       "  <tbody>\n",
       "    <tr>\n",
       "      <td>0</td>\n",
       "      <td>1000_0</td>\n",
       "      <td>2018-06-27</td>\n",
       "      <td>1000</td>\n",
       "      <td>June</td>\n",
       "    </tr>\n",
       "    <tr>\n",
       "      <td>1</td>\n",
       "      <td>1000_1</td>\n",
       "      <td>2018-10-08</td>\n",
       "      <td>1000</td>\n",
       "      <td>October</td>\n",
       "    </tr>\n",
       "    <tr>\n",
       "      <td>2</td>\n",
       "      <td>1000_2</td>\n",
       "      <td>2018-08-04</td>\n",
       "      <td>1000</td>\n",
       "      <td>August</td>\n",
       "    </tr>\n",
       "    <tr>\n",
       "      <td>3</td>\n",
       "      <td>1000_3</td>\n",
       "      <td>2018-06-16</td>\n",
       "      <td>1000</td>\n",
       "      <td>June</td>\n",
       "    </tr>\n",
       "    <tr>\n",
       "      <td>4</td>\n",
       "      <td>1000_4</td>\n",
       "      <td>2018-12-05</td>\n",
       "      <td>1000</td>\n",
       "      <td>December</td>\n",
       "    </tr>\n",
       "  </tbody>\n",
       "</table>\n",
       "</div>"
      ],
      "text/plain": [
       "       id message_date  user_id     month\n",
       "0  1000_0   2018-06-27     1000      June\n",
       "1  1000_1   2018-10-08     1000   October\n",
       "2  1000_2   2018-08-04     1000    August\n",
       "3  1000_3   2018-06-16     1000      June\n",
       "4  1000_4   2018-12-05     1000  December"
      ]
     },
     "metadata": {},
     "output_type": "display_data"
    }
   ],
   "source": [
    "# Даты отправки сообщений приведем в формат даты:\n",
    "messages['message_date'] = pd.to_datetime(messages['message_date'], format='%Y-%m-%d')\n",
    "\n",
    "#Создадим столбец с месяцами отправки собщений, применим словарь с месяцами для замена номера месяца на название:\n",
    "messages['month'] = messages['message_date'].dt.month\n",
    "messages['month'] = messages['month'].apply(lambda x: months[x])\n",
    "messages.info()\n",
    "display(messages.head())"
   ]
  },
  {
   "cell_type": "code",
   "execution_count": 14,
   "metadata": {},
   "outputs": [
    {
     "data": {
      "text/html": [
       "<div>\n",
       "<style scoped>\n",
       "    .dataframe tbody tr th:only-of-type {\n",
       "        vertical-align: middle;\n",
       "    }\n",
       "\n",
       "    .dataframe tbody tr th {\n",
       "        vertical-align: top;\n",
       "    }\n",
       "\n",
       "    .dataframe thead th {\n",
       "        text-align: right;\n",
       "    }\n",
       "</style>\n",
       "<table border=\"1\" class=\"dataframe\">\n",
       "  <thead>\n",
       "    <tr style=\"text-align: right;\">\n",
       "      <th></th>\n",
       "      <th>user_id</th>\n",
       "      <th>month</th>\n",
       "      <th>messages_count</th>\n",
       "    </tr>\n",
       "  </thead>\n",
       "  <tbody>\n",
       "    <tr>\n",
       "      <td>0</td>\n",
       "      <td>1000</td>\n",
       "      <td>August</td>\n",
       "      <td>81</td>\n",
       "    </tr>\n",
       "    <tr>\n",
       "      <td>1</td>\n",
       "      <td>1000</td>\n",
       "      <td>December</td>\n",
       "      <td>70</td>\n",
       "    </tr>\n",
       "    <tr>\n",
       "      <td>2</td>\n",
       "      <td>1000</td>\n",
       "      <td>July</td>\n",
       "      <td>75</td>\n",
       "    </tr>\n",
       "    <tr>\n",
       "      <td>3</td>\n",
       "      <td>1000</td>\n",
       "      <td>June</td>\n",
       "      <td>60</td>\n",
       "    </tr>\n",
       "    <tr>\n",
       "      <td>4</td>\n",
       "      <td>1000</td>\n",
       "      <td>May</td>\n",
       "      <td>22</td>\n",
       "    </tr>\n",
       "  </tbody>\n",
       "</table>\n",
       "</div>"
      ],
      "text/plain": [
       "   user_id     month  messages_count\n",
       "0     1000    August              81\n",
       "1     1000  December              70\n",
       "2     1000      July              75\n",
       "3     1000      June              60\n",
       "4     1000       May              22"
      ]
     },
     "metadata": {},
     "output_type": "display_data"
    }
   ],
   "source": [
    "# Создадим таблицу с сгруппированными данными по абонентам и месяцам по суммарному количеству отправленных смс:\n",
    "messages_grouped = messages.groupby(by=['user_id','month'], as_index=False)['id'].count()\n",
    "messages_grouped.columns=['user_id', 'month', 'messages_count']\n",
    "display(messages_grouped.head())"
   ]
  },
  {
   "cell_type": "code",
   "execution_count": 15,
   "metadata": {},
   "outputs": [
    {
     "name": "stdout",
     "output_type": "stream",
     "text": [
      "<class 'pandas.core.frame.DataFrame'>\n",
      "RangeIndex: 500 entries, 0 to 499\n",
      "Data columns (total 8 columns):\n",
      "user_id       500 non-null int64\n",
      "age           500 non-null int64\n",
      "churn_date    38 non-null datetime64[ns]\n",
      "city          500 non-null object\n",
      "first_name    500 non-null object\n",
      "last_name     500 non-null object\n",
      "reg_date      500 non-null datetime64[ns]\n",
      "tariff        500 non-null object\n",
      "dtypes: datetime64[ns](2), int64(2), object(4)\n",
      "memory usage: 31.4+ KB\n"
     ]
    },
    {
     "data": {
      "text/html": [
       "<div>\n",
       "<style scoped>\n",
       "    .dataframe tbody tr th:only-of-type {\n",
       "        vertical-align: middle;\n",
       "    }\n",
       "\n",
       "    .dataframe tbody tr th {\n",
       "        vertical-align: top;\n",
       "    }\n",
       "\n",
       "    .dataframe thead th {\n",
       "        text-align: right;\n",
       "    }\n",
       "</style>\n",
       "<table border=\"1\" class=\"dataframe\">\n",
       "  <thead>\n",
       "    <tr style=\"text-align: right;\">\n",
       "      <th></th>\n",
       "      <th>user_id</th>\n",
       "      <th>age</th>\n",
       "      <th>churn_date</th>\n",
       "      <th>city</th>\n",
       "      <th>first_name</th>\n",
       "      <th>last_name</th>\n",
       "      <th>reg_date</th>\n",
       "      <th>tariff</th>\n",
       "    </tr>\n",
       "  </thead>\n",
       "  <tbody>\n",
       "    <tr>\n",
       "      <td>0</td>\n",
       "      <td>1000</td>\n",
       "      <td>52</td>\n",
       "      <td>NaT</td>\n",
       "      <td>Краснодар</td>\n",
       "      <td>Рафаил</td>\n",
       "      <td>Верещагин</td>\n",
       "      <td>2018-05-25</td>\n",
       "      <td>ultra</td>\n",
       "    </tr>\n",
       "    <tr>\n",
       "      <td>1</td>\n",
       "      <td>1001</td>\n",
       "      <td>41</td>\n",
       "      <td>NaT</td>\n",
       "      <td>Москва</td>\n",
       "      <td>Иван</td>\n",
       "      <td>Ежов</td>\n",
       "      <td>2018-11-01</td>\n",
       "      <td>smart</td>\n",
       "    </tr>\n",
       "    <tr>\n",
       "      <td>2</td>\n",
       "      <td>1002</td>\n",
       "      <td>59</td>\n",
       "      <td>NaT</td>\n",
       "      <td>Стерлитамак</td>\n",
       "      <td>Евгений</td>\n",
       "      <td>Абрамович</td>\n",
       "      <td>2018-06-17</td>\n",
       "      <td>smart</td>\n",
       "    </tr>\n",
       "    <tr>\n",
       "      <td>3</td>\n",
       "      <td>1003</td>\n",
       "      <td>23</td>\n",
       "      <td>NaT</td>\n",
       "      <td>Москва</td>\n",
       "      <td>Белла</td>\n",
       "      <td>Белякова</td>\n",
       "      <td>2018-08-17</td>\n",
       "      <td>ultra</td>\n",
       "    </tr>\n",
       "    <tr>\n",
       "      <td>4</td>\n",
       "      <td>1004</td>\n",
       "      <td>68</td>\n",
       "      <td>NaT</td>\n",
       "      <td>Новокузнецк</td>\n",
       "      <td>Татьяна</td>\n",
       "      <td>Авдеенко</td>\n",
       "      <td>2018-05-14</td>\n",
       "      <td>ultra</td>\n",
       "    </tr>\n",
       "  </tbody>\n",
       "</table>\n",
       "</div>"
      ],
      "text/plain": [
       "   user_id  age churn_date         city first_name  last_name   reg_date  \\\n",
       "0     1000   52        NaT    Краснодар     Рафаил  Верещагин 2018-05-25   \n",
       "1     1001   41        NaT       Москва       Иван       Ежов 2018-11-01   \n",
       "2     1002   59        NaT  Стерлитамак    Евгений  Абрамович 2018-06-17   \n",
       "3     1003   23        NaT       Москва      Белла   Белякова 2018-08-17   \n",
       "4     1004   68        NaT  Новокузнецк    Татьяна   Авдеенко 2018-05-14   \n",
       "\n",
       "  tariff  \n",
       "0  ultra  \n",
       "1  smart  \n",
       "2  smart  \n",
       "3  ultra  \n",
       "4  ultra  "
      ]
     },
     "metadata": {},
     "output_type": "display_data"
    }
   ],
   "source": [
    "#В таблице 'users' столбцы 'churn_date' и 'reg_date' приведем в формат даты:\n",
    "users['churn_date'] = pd.to_datetime(users['churn_date'], format='%Y-%m-%d')\n",
    "users['reg_date'] = pd.to_datetime(users['reg_date'], format='%Y-%m-%d')\n",
    "users.info()\n",
    "display(users.head())"
   ]
  },
  {
   "cell_type": "code",
   "execution_count": 16,
   "metadata": {
    "scrolled": false
   },
   "outputs": [
    {
     "name": "stdout",
     "output_type": "stream",
     "text": [
      "<class 'pandas.core.frame.DataFrame'>\n",
      "Int64Index: 3214 entries, 0 to 3213\n",
      "Data columns (total 6 columns):\n",
      "user_id           3214 non-null int64\n",
      "month             3214 non-null object\n",
      "calls_duration    3174 non-null float64\n",
      "calls_count       3174 non-null float64\n",
      "gb_used           3203 non-null float64\n",
      "messages_count    2717 non-null float64\n",
      "dtypes: float64(4), int64(1), object(1)\n",
      "memory usage: 175.8+ KB\n"
     ]
    },
    {
     "data": {
      "text/html": [
       "<div>\n",
       "<style scoped>\n",
       "    .dataframe tbody tr th:only-of-type {\n",
       "        vertical-align: middle;\n",
       "    }\n",
       "\n",
       "    .dataframe tbody tr th {\n",
       "        vertical-align: top;\n",
       "    }\n",
       "\n",
       "    .dataframe thead th {\n",
       "        text-align: right;\n",
       "    }\n",
       "</style>\n",
       "<table border=\"1\" class=\"dataframe\">\n",
       "  <thead>\n",
       "    <tr style=\"text-align: right;\">\n",
       "      <th></th>\n",
       "      <th>user_id</th>\n",
       "      <th>month</th>\n",
       "      <th>calls_duration</th>\n",
       "      <th>calls_count</th>\n",
       "      <th>gb_used</th>\n",
       "      <th>messages_count</th>\n",
       "    </tr>\n",
       "  </thead>\n",
       "  <tbody>\n",
       "    <tr>\n",
       "      <td>0</td>\n",
       "      <td>1000</td>\n",
       "      <td>August</td>\n",
       "      <td>409.0</td>\n",
       "      <td>52.0</td>\n",
       "      <td>14.0</td>\n",
       "      <td>81.0</td>\n",
       "    </tr>\n",
       "    <tr>\n",
       "      <td>1</td>\n",
       "      <td>1000</td>\n",
       "      <td>December</td>\n",
       "      <td>333.0</td>\n",
       "      <td>46.0</td>\n",
       "      <td>10.0</td>\n",
       "      <td>70.0</td>\n",
       "    </tr>\n",
       "    <tr>\n",
       "      <td>2</td>\n",
       "      <td>1000</td>\n",
       "      <td>July</td>\n",
       "      <td>340.0</td>\n",
       "      <td>47.0</td>\n",
       "      <td>14.0</td>\n",
       "      <td>75.0</td>\n",
       "    </tr>\n",
       "    <tr>\n",
       "      <td>3</td>\n",
       "      <td>1000</td>\n",
       "      <td>June</td>\n",
       "      <td>172.0</td>\n",
       "      <td>43.0</td>\n",
       "      <td>23.0</td>\n",
       "      <td>60.0</td>\n",
       "    </tr>\n",
       "    <tr>\n",
       "      <td>4</td>\n",
       "      <td>1000</td>\n",
       "      <td>May</td>\n",
       "      <td>159.0</td>\n",
       "      <td>22.0</td>\n",
       "      <td>3.0</td>\n",
       "      <td>22.0</td>\n",
       "    </tr>\n",
       "  </tbody>\n",
       "</table>\n",
       "</div>"
      ],
      "text/plain": [
       "   user_id     month  calls_duration  calls_count  gb_used  messages_count\n",
       "0     1000    August           409.0         52.0     14.0            81.0\n",
       "1     1000  December           333.0         46.0     10.0            70.0\n",
       "2     1000      July           340.0         47.0     14.0            75.0\n",
       "3     1000      June           172.0         43.0     23.0            60.0\n",
       "4     1000       May           159.0         22.0      3.0            22.0"
      ]
     },
     "metadata": {},
     "output_type": "display_data"
    },
    {
     "data": {
      "text/html": [
       "<div>\n",
       "<style scoped>\n",
       "    .dataframe tbody tr th:only-of-type {\n",
       "        vertical-align: middle;\n",
       "    }\n",
       "\n",
       "    .dataframe tbody tr th {\n",
       "        vertical-align: top;\n",
       "    }\n",
       "\n",
       "    .dataframe thead th {\n",
       "        text-align: right;\n",
       "    }\n",
       "</style>\n",
       "<table border=\"1\" class=\"dataframe\">\n",
       "  <thead>\n",
       "    <tr style=\"text-align: right;\">\n",
       "      <th></th>\n",
       "      <th>user_id</th>\n",
       "      <th>calls_duration</th>\n",
       "      <th>calls_count</th>\n",
       "      <th>gb_used</th>\n",
       "      <th>messages_count</th>\n",
       "    </tr>\n",
       "  </thead>\n",
       "  <tbody>\n",
       "    <tr>\n",
       "      <td>count</td>\n",
       "      <td>3214.000000</td>\n",
       "      <td>3174.000000</td>\n",
       "      <td>3174.000000</td>\n",
       "      <td>3203.000000</td>\n",
       "      <td>2717.000000</td>\n",
       "    </tr>\n",
       "    <tr>\n",
       "      <td>mean</td>\n",
       "      <td>1251.590230</td>\n",
       "      <td>457.183050</td>\n",
       "      <td>63.833333</td>\n",
       "      <td>17.390259</td>\n",
       "      <td>45.283769</td>\n",
       "    </tr>\n",
       "    <tr>\n",
       "      <td>std</td>\n",
       "      <td>144.659172</td>\n",
       "      <td>238.151168</td>\n",
       "      <td>32.678036</td>\n",
       "      <td>7.354888</td>\n",
       "      <td>35.051363</td>\n",
       "    </tr>\n",
       "    <tr>\n",
       "      <td>min</td>\n",
       "      <td>1000.000000</td>\n",
       "      <td>0.000000</td>\n",
       "      <td>1.000000</td>\n",
       "      <td>0.000000</td>\n",
       "      <td>1.000000</td>\n",
       "    </tr>\n",
       "    <tr>\n",
       "      <td>25%</td>\n",
       "      <td>1125.000000</td>\n",
       "      <td>290.000000</td>\n",
       "      <td>41.000000</td>\n",
       "      <td>13.000000</td>\n",
       "      <td>19.000000</td>\n",
       "    </tr>\n",
       "    <tr>\n",
       "      <td>50%</td>\n",
       "      <td>1253.000000</td>\n",
       "      <td>447.500000</td>\n",
       "      <td>63.000000</td>\n",
       "      <td>17.000000</td>\n",
       "      <td>38.000000</td>\n",
       "    </tr>\n",
       "    <tr>\n",
       "      <td>75%</td>\n",
       "      <td>1378.750000</td>\n",
       "      <td>592.000000</td>\n",
       "      <td>83.000000</td>\n",
       "      <td>21.000000</td>\n",
       "      <td>63.000000</td>\n",
       "    </tr>\n",
       "    <tr>\n",
       "      <td>max</td>\n",
       "      <td>1499.000000</td>\n",
       "      <td>1674.000000</td>\n",
       "      <td>244.000000</td>\n",
       "      <td>49.000000</td>\n",
       "      <td>224.000000</td>\n",
       "    </tr>\n",
       "  </tbody>\n",
       "</table>\n",
       "</div>"
      ],
      "text/plain": [
       "           user_id  calls_duration  calls_count      gb_used  messages_count\n",
       "count  3214.000000     3174.000000  3174.000000  3203.000000     2717.000000\n",
       "mean   1251.590230      457.183050    63.833333    17.390259       45.283769\n",
       "std     144.659172      238.151168    32.678036     7.354888       35.051363\n",
       "min    1000.000000        0.000000     1.000000     0.000000        1.000000\n",
       "25%    1125.000000      290.000000    41.000000    13.000000       19.000000\n",
       "50%    1253.000000      447.500000    63.000000    17.000000       38.000000\n",
       "75%    1378.750000      592.000000    83.000000    21.000000       63.000000\n",
       "max    1499.000000     1674.000000   244.000000    49.000000      224.000000"
      ]
     },
     "metadata": {},
     "output_type": "display_data"
    }
   ],
   "source": [
    "# Объединим сгруппированные таблица со звонками, сообщениями, интернет-траффиком в одну методом merge().\n",
    "# Для параметра how используем значение 'outer', чтобы в итоговую таблицу попали все строки из всех 3 таблиц:\n",
    "users_stat = calls_grouped.merge(\n",
    "    internet_grouped, how='outer', on=['user_id','month']).merge(\n",
    "    messages_grouped, how='outer', on=['user_id','month'])\n",
    "users_stat.info()\n",
    "display(users_stat.head())\n",
    "display(users_stat.describe())"
   ]
  },
  {
   "cell_type": "code",
   "execution_count": 17,
   "metadata": {
    "scrolled": true
   },
   "outputs": [
    {
     "data": {
      "text/plain": [
       "True"
      ]
     },
     "metadata": {},
     "output_type": "display_data"
    },
    {
     "data": {
      "text/plain": [
       "True"
      ]
     },
     "metadata": {},
     "output_type": "display_data"
    },
    {
     "data": {
      "text/plain": [
       "True"
      ]
     },
     "metadata": {},
     "output_type": "display_data"
    }
   ],
   "source": [
    "# Проведем проверку что все значения попали в итоговую таблицу.\n",
    "# Сравним продолжительность звонков в исходной (после округления) и итоговой таблицах:\n",
    "display(calls['duration'].sum()==users_stat['calls_duration'].sum())\n",
    "# Сравним количество ГБ в исходной (после округления) и итоговой таблицах:\n",
    "display(internet_grouped['gb_used'].sum()==users_stat['gb_used'].sum())\n",
    "# Сравним количество сообщений (по общему количеству строк) в исходной и итоговой таблицах:\n",
    "display(messages['id'].count()==users_stat['messages_count'].sum())"
   ]
  },
  {
   "cell_type": "code",
   "execution_count": 18,
   "metadata": {
    "scrolled": false
   },
   "outputs": [
    {
     "data": {
      "text/html": [
       "<div>\n",
       "<style scoped>\n",
       "    .dataframe tbody tr th:only-of-type {\n",
       "        vertical-align: middle;\n",
       "    }\n",
       "\n",
       "    .dataframe tbody tr th {\n",
       "        vertical-align: top;\n",
       "    }\n",
       "\n",
       "    .dataframe thead th {\n",
       "        text-align: right;\n",
       "    }\n",
       "</style>\n",
       "<table border=\"1\" class=\"dataframe\">\n",
       "  <thead>\n",
       "    <tr style=\"text-align: right;\">\n",
       "      <th></th>\n",
       "      <th>user_id</th>\n",
       "      <th>month</th>\n",
       "      <th>calls_duration</th>\n",
       "      <th>calls_count</th>\n",
       "      <th>gb_used</th>\n",
       "      <th>messages_count</th>\n",
       "      <th>tariff</th>\n",
       "      <th>city</th>\n",
       "    </tr>\n",
       "  </thead>\n",
       "  <tbody>\n",
       "    <tr>\n",
       "      <td>0</td>\n",
       "      <td>1000</td>\n",
       "      <td>August</td>\n",
       "      <td>409.0</td>\n",
       "      <td>52.0</td>\n",
       "      <td>14.0</td>\n",
       "      <td>81.0</td>\n",
       "      <td>ultra</td>\n",
       "      <td>Краснодар</td>\n",
       "    </tr>\n",
       "    <tr>\n",
       "      <td>1</td>\n",
       "      <td>1000</td>\n",
       "      <td>December</td>\n",
       "      <td>333.0</td>\n",
       "      <td>46.0</td>\n",
       "      <td>10.0</td>\n",
       "      <td>70.0</td>\n",
       "      <td>ultra</td>\n",
       "      <td>Краснодар</td>\n",
       "    </tr>\n",
       "    <tr>\n",
       "      <td>2</td>\n",
       "      <td>1000</td>\n",
       "      <td>July</td>\n",
       "      <td>340.0</td>\n",
       "      <td>47.0</td>\n",
       "      <td>14.0</td>\n",
       "      <td>75.0</td>\n",
       "      <td>ultra</td>\n",
       "      <td>Краснодар</td>\n",
       "    </tr>\n",
       "    <tr>\n",
       "      <td>3</td>\n",
       "      <td>1000</td>\n",
       "      <td>June</td>\n",
       "      <td>172.0</td>\n",
       "      <td>43.0</td>\n",
       "      <td>23.0</td>\n",
       "      <td>60.0</td>\n",
       "      <td>ultra</td>\n",
       "      <td>Краснодар</td>\n",
       "    </tr>\n",
       "    <tr>\n",
       "      <td>4</td>\n",
       "      <td>1000</td>\n",
       "      <td>May</td>\n",
       "      <td>159.0</td>\n",
       "      <td>22.0</td>\n",
       "      <td>3.0</td>\n",
       "      <td>22.0</td>\n",
       "      <td>ultra</td>\n",
       "      <td>Краснодар</td>\n",
       "    </tr>\n",
       "  </tbody>\n",
       "</table>\n",
       "</div>"
      ],
      "text/plain": [
       "   user_id     month  calls_duration  calls_count  gb_used  messages_count  \\\n",
       "0     1000    August           409.0         52.0     14.0            81.0   \n",
       "1     1000  December           333.0         46.0     10.0            70.0   \n",
       "2     1000      July           340.0         47.0     14.0            75.0   \n",
       "3     1000      June           172.0         43.0     23.0            60.0   \n",
       "4     1000       May           159.0         22.0      3.0            22.0   \n",
       "\n",
       "  tariff       city  \n",
       "0  ultra  Краснодар  \n",
       "1  ultra  Краснодар  \n",
       "2  ultra  Краснодар  \n",
       "3  ultra  Краснодар  \n",
       "4  ultra  Краснодар  "
      ]
     },
     "metadata": {},
     "output_type": "display_data"
    }
   ],
   "source": [
    "# Выделим в таблице users нужные для объединения столбцы:\n",
    "users_and_tariff = users[['user_id','tariff', 'city']]\n",
    "# Соединим таблицы users и users_stat:\n",
    "users_stat = users_stat.merge(users_and_tariff)\n",
    "display(users_stat.head())"
   ]
  },
  {
   "cell_type": "code",
   "execution_count": 19,
   "metadata": {},
   "outputs": [
    {
     "data": {
      "text/html": [
       "<div>\n",
       "<style scoped>\n",
       "    .dataframe tbody tr th:only-of-type {\n",
       "        vertical-align: middle;\n",
       "    }\n",
       "\n",
       "    .dataframe tbody tr th {\n",
       "        vertical-align: top;\n",
       "    }\n",
       "\n",
       "    .dataframe thead th {\n",
       "        text-align: right;\n",
       "    }\n",
       "</style>\n",
       "<table border=\"1\" class=\"dataframe\">\n",
       "  <thead>\n",
       "    <tr style=\"text-align: right;\">\n",
       "      <th></th>\n",
       "      <th>user_id</th>\n",
       "      <th>month</th>\n",
       "      <th>calls_duration</th>\n",
       "      <th>calls_count</th>\n",
       "      <th>gb_used</th>\n",
       "      <th>messages_count</th>\n",
       "      <th>tariff</th>\n",
       "      <th>city</th>\n",
       "      <th>messages_included</th>\n",
       "      <th>mb_per_month_included</th>\n",
       "      <th>minutes_included</th>\n",
       "      <th>rub_monthly_fee</th>\n",
       "      <th>rub_per_gb</th>\n",
       "      <th>rub_per_message</th>\n",
       "      <th>rub_per_minute</th>\n",
       "    </tr>\n",
       "  </thead>\n",
       "  <tbody>\n",
       "    <tr>\n",
       "      <td>0</td>\n",
       "      <td>1000</td>\n",
       "      <td>August</td>\n",
       "      <td>409.0</td>\n",
       "      <td>52.0</td>\n",
       "      <td>14.0</td>\n",
       "      <td>81.0</td>\n",
       "      <td>ultra</td>\n",
       "      <td>Краснодар</td>\n",
       "      <td>1000</td>\n",
       "      <td>30720</td>\n",
       "      <td>3000</td>\n",
       "      <td>1950</td>\n",
       "      <td>150</td>\n",
       "      <td>1</td>\n",
       "      <td>1</td>\n",
       "    </tr>\n",
       "    <tr>\n",
       "      <td>1</td>\n",
       "      <td>1000</td>\n",
       "      <td>December</td>\n",
       "      <td>333.0</td>\n",
       "      <td>46.0</td>\n",
       "      <td>10.0</td>\n",
       "      <td>70.0</td>\n",
       "      <td>ultra</td>\n",
       "      <td>Краснодар</td>\n",
       "      <td>1000</td>\n",
       "      <td>30720</td>\n",
       "      <td>3000</td>\n",
       "      <td>1950</td>\n",
       "      <td>150</td>\n",
       "      <td>1</td>\n",
       "      <td>1</td>\n",
       "    </tr>\n",
       "    <tr>\n",
       "      <td>2</td>\n",
       "      <td>1000</td>\n",
       "      <td>July</td>\n",
       "      <td>340.0</td>\n",
       "      <td>47.0</td>\n",
       "      <td>14.0</td>\n",
       "      <td>75.0</td>\n",
       "      <td>ultra</td>\n",
       "      <td>Краснодар</td>\n",
       "      <td>1000</td>\n",
       "      <td>30720</td>\n",
       "      <td>3000</td>\n",
       "      <td>1950</td>\n",
       "      <td>150</td>\n",
       "      <td>1</td>\n",
       "      <td>1</td>\n",
       "    </tr>\n",
       "    <tr>\n",
       "      <td>3</td>\n",
       "      <td>1000</td>\n",
       "      <td>June</td>\n",
       "      <td>172.0</td>\n",
       "      <td>43.0</td>\n",
       "      <td>23.0</td>\n",
       "      <td>60.0</td>\n",
       "      <td>ultra</td>\n",
       "      <td>Краснодар</td>\n",
       "      <td>1000</td>\n",
       "      <td>30720</td>\n",
       "      <td>3000</td>\n",
       "      <td>1950</td>\n",
       "      <td>150</td>\n",
       "      <td>1</td>\n",
       "      <td>1</td>\n",
       "    </tr>\n",
       "    <tr>\n",
       "      <td>4</td>\n",
       "      <td>1000</td>\n",
       "      <td>May</td>\n",
       "      <td>159.0</td>\n",
       "      <td>22.0</td>\n",
       "      <td>3.0</td>\n",
       "      <td>22.0</td>\n",
       "      <td>ultra</td>\n",
       "      <td>Краснодар</td>\n",
       "      <td>1000</td>\n",
       "      <td>30720</td>\n",
       "      <td>3000</td>\n",
       "      <td>1950</td>\n",
       "      <td>150</td>\n",
       "      <td>1</td>\n",
       "      <td>1</td>\n",
       "    </tr>\n",
       "  </tbody>\n",
       "</table>\n",
       "</div>"
      ],
      "text/plain": [
       "   user_id     month  calls_duration  calls_count  gb_used  messages_count  \\\n",
       "0     1000    August           409.0         52.0     14.0            81.0   \n",
       "1     1000  December           333.0         46.0     10.0            70.0   \n",
       "2     1000      July           340.0         47.0     14.0            75.0   \n",
       "3     1000      June           172.0         43.0     23.0            60.0   \n",
       "4     1000       May           159.0         22.0      3.0            22.0   \n",
       "\n",
       "  tariff       city  messages_included  mb_per_month_included  \\\n",
       "0  ultra  Краснодар               1000                  30720   \n",
       "1  ultra  Краснодар               1000                  30720   \n",
       "2  ultra  Краснодар               1000                  30720   \n",
       "3  ultra  Краснодар               1000                  30720   \n",
       "4  ultra  Краснодар               1000                  30720   \n",
       "\n",
       "   minutes_included  rub_monthly_fee  rub_per_gb  rub_per_message  \\\n",
       "0              3000             1950         150                1   \n",
       "1              3000             1950         150                1   \n",
       "2              3000             1950         150                1   \n",
       "3              3000             1950         150                1   \n",
       "4              3000             1950         150                1   \n",
       "\n",
       "   rub_per_minute  \n",
       "0               1  \n",
       "1               1  \n",
       "2               1  \n",
       "3               1  \n",
       "4               1  "
      ]
     },
     "metadata": {},
     "output_type": "display_data"
    }
   ],
   "source": [
    "# Соединим таблицы users_stat и tariff:\n",
    "users_stat = users_stat.merge(tariffs, left_on='tariff', right_on='tariff_name')\n",
    "# Удалим дублирующийся столбец 'tariff_name':\n",
    "users_stat.pop('tariff_name')\n",
    "display(users_stat.head())"
   ]
  },
  {
   "cell_type": "code",
   "execution_count": 20,
   "metadata": {},
   "outputs": [
    {
     "data": {
      "text/html": [
       "<div>\n",
       "<style scoped>\n",
       "    .dataframe tbody tr th:only-of-type {\n",
       "        vertical-align: middle;\n",
       "    }\n",
       "\n",
       "    .dataframe tbody tr th {\n",
       "        vertical-align: top;\n",
       "    }\n",
       "\n",
       "    .dataframe thead th {\n",
       "        text-align: right;\n",
       "    }\n",
       "</style>\n",
       "<table border=\"1\" class=\"dataframe\">\n",
       "  <thead>\n",
       "    <tr style=\"text-align: right;\">\n",
       "      <th></th>\n",
       "      <th>user_id</th>\n",
       "      <th>month</th>\n",
       "      <th>calls_duration</th>\n",
       "      <th>calls_count</th>\n",
       "      <th>gb_used</th>\n",
       "      <th>messages_count</th>\n",
       "      <th>tariff</th>\n",
       "      <th>city</th>\n",
       "      <th>messages_included</th>\n",
       "      <th>gb_per_month_included</th>\n",
       "      <th>minutes_included</th>\n",
       "      <th>rub_monthly_fee</th>\n",
       "      <th>rub_per_gb</th>\n",
       "      <th>rub_per_message</th>\n",
       "      <th>rub_per_minute</th>\n",
       "    </tr>\n",
       "  </thead>\n",
       "  <tbody>\n",
       "    <tr>\n",
       "      <td>0</td>\n",
       "      <td>1000</td>\n",
       "      <td>August</td>\n",
       "      <td>409.0</td>\n",
       "      <td>52.0</td>\n",
       "      <td>14.0</td>\n",
       "      <td>81.0</td>\n",
       "      <td>ultra</td>\n",
       "      <td>Краснодар</td>\n",
       "      <td>1000</td>\n",
       "      <td>30</td>\n",
       "      <td>3000</td>\n",
       "      <td>1950</td>\n",
       "      <td>150</td>\n",
       "      <td>1</td>\n",
       "      <td>1</td>\n",
       "    </tr>\n",
       "    <tr>\n",
       "      <td>1</td>\n",
       "      <td>1000</td>\n",
       "      <td>December</td>\n",
       "      <td>333.0</td>\n",
       "      <td>46.0</td>\n",
       "      <td>10.0</td>\n",
       "      <td>70.0</td>\n",
       "      <td>ultra</td>\n",
       "      <td>Краснодар</td>\n",
       "      <td>1000</td>\n",
       "      <td>30</td>\n",
       "      <td>3000</td>\n",
       "      <td>1950</td>\n",
       "      <td>150</td>\n",
       "      <td>1</td>\n",
       "      <td>1</td>\n",
       "    </tr>\n",
       "    <tr>\n",
       "      <td>2</td>\n",
       "      <td>1000</td>\n",
       "      <td>July</td>\n",
       "      <td>340.0</td>\n",
       "      <td>47.0</td>\n",
       "      <td>14.0</td>\n",
       "      <td>75.0</td>\n",
       "      <td>ultra</td>\n",
       "      <td>Краснодар</td>\n",
       "      <td>1000</td>\n",
       "      <td>30</td>\n",
       "      <td>3000</td>\n",
       "      <td>1950</td>\n",
       "      <td>150</td>\n",
       "      <td>1</td>\n",
       "      <td>1</td>\n",
       "    </tr>\n",
       "    <tr>\n",
       "      <td>3</td>\n",
       "      <td>1000</td>\n",
       "      <td>June</td>\n",
       "      <td>172.0</td>\n",
       "      <td>43.0</td>\n",
       "      <td>23.0</td>\n",
       "      <td>60.0</td>\n",
       "      <td>ultra</td>\n",
       "      <td>Краснодар</td>\n",
       "      <td>1000</td>\n",
       "      <td>30</td>\n",
       "      <td>3000</td>\n",
       "      <td>1950</td>\n",
       "      <td>150</td>\n",
       "      <td>1</td>\n",
       "      <td>1</td>\n",
       "    </tr>\n",
       "    <tr>\n",
       "      <td>4</td>\n",
       "      <td>1000</td>\n",
       "      <td>May</td>\n",
       "      <td>159.0</td>\n",
       "      <td>22.0</td>\n",
       "      <td>3.0</td>\n",
       "      <td>22.0</td>\n",
       "      <td>ultra</td>\n",
       "      <td>Краснодар</td>\n",
       "      <td>1000</td>\n",
       "      <td>30</td>\n",
       "      <td>3000</td>\n",
       "      <td>1950</td>\n",
       "      <td>150</td>\n",
       "      <td>1</td>\n",
       "      <td>1</td>\n",
       "    </tr>\n",
       "  </tbody>\n",
       "</table>\n",
       "</div>"
      ],
      "text/plain": [
       "   user_id     month  calls_duration  calls_count  gb_used  messages_count  \\\n",
       "0     1000    August           409.0         52.0     14.0            81.0   \n",
       "1     1000  December           333.0         46.0     10.0            70.0   \n",
       "2     1000      July           340.0         47.0     14.0            75.0   \n",
       "3     1000      June           172.0         43.0     23.0            60.0   \n",
       "4     1000       May           159.0         22.0      3.0            22.0   \n",
       "\n",
       "  tariff       city  messages_included  gb_per_month_included  \\\n",
       "0  ultra  Краснодар               1000                     30   \n",
       "1  ultra  Краснодар               1000                     30   \n",
       "2  ultra  Краснодар               1000                     30   \n",
       "3  ultra  Краснодар               1000                     30   \n",
       "4  ultra  Краснодар               1000                     30   \n",
       "\n",
       "   minutes_included  rub_monthly_fee  rub_per_gb  rub_per_message  \\\n",
       "0              3000             1950         150                1   \n",
       "1              3000             1950         150                1   \n",
       "2              3000             1950         150                1   \n",
       "3              3000             1950         150                1   \n",
       "4              3000             1950         150                1   \n",
       "\n",
       "   rub_per_minute  \n",
       "0               1  \n",
       "1               1  \n",
       "2               1  \n",
       "3               1  \n",
       "4               1  "
      ]
     },
     "metadata": {},
     "output_type": "display_data"
    }
   ],
   "source": [
    "# Мегабайты переведем в гигабайты и приведем к целочисленному виду:\n",
    "users_stat['mb_per_month_included'] = (users_stat['mb_per_month_included']/1024).astype(int)\n",
    "# Переименуем столбец в ГБ:\n",
    "users_stat.rename(columns={'mb_per_month_included': 'gb_per_month_included'}, inplace=True)\n",
    "display(users_stat.head())"
   ]
  },
  {
   "cell_type": "code",
   "execution_count": 21,
   "metadata": {
    "scrolled": false
   },
   "outputs": [
    {
     "data": {
      "text/html": [
       "<div>\n",
       "<style scoped>\n",
       "    .dataframe tbody tr th:only-of-type {\n",
       "        vertical-align: middle;\n",
       "    }\n",
       "\n",
       "    .dataframe tbody tr th {\n",
       "        vertical-align: top;\n",
       "    }\n",
       "\n",
       "    .dataframe thead th {\n",
       "        text-align: right;\n",
       "    }\n",
       "</style>\n",
       "<table border=\"1\" class=\"dataframe\">\n",
       "  <thead>\n",
       "    <tr style=\"text-align: right;\">\n",
       "      <th></th>\n",
       "      <th>user_id</th>\n",
       "      <th>month</th>\n",
       "      <th>calls_duration</th>\n",
       "      <th>calls_count</th>\n",
       "      <th>gb_used</th>\n",
       "      <th>messages_count</th>\n",
       "      <th>tariff</th>\n",
       "      <th>city</th>\n",
       "      <th>messages_included</th>\n",
       "      <th>gb_per_month_included</th>\n",
       "      <th>minutes_included</th>\n",
       "      <th>rub_monthly_fee</th>\n",
       "      <th>rub_per_gb</th>\n",
       "      <th>rub_per_message</th>\n",
       "      <th>rub_per_minute</th>\n",
       "      <th>min_over_limit</th>\n",
       "      <th>messages_over_limit</th>\n",
       "      <th>gb_over_limit</th>\n",
       "      <th>monthly_revenue</th>\n",
       "    </tr>\n",
       "  </thead>\n",
       "  <tbody>\n",
       "    <tr>\n",
       "      <td>0</td>\n",
       "      <td>1000</td>\n",
       "      <td>August</td>\n",
       "      <td>409.0</td>\n",
       "      <td>52.0</td>\n",
       "      <td>14.0</td>\n",
       "      <td>81.0</td>\n",
       "      <td>ultra</td>\n",
       "      <td>Краснодар</td>\n",
       "      <td>1000</td>\n",
       "      <td>30</td>\n",
       "      <td>3000</td>\n",
       "      <td>1950</td>\n",
       "      <td>150</td>\n",
       "      <td>1</td>\n",
       "      <td>1</td>\n",
       "      <td>0.0</td>\n",
       "      <td>0.0</td>\n",
       "      <td>0.0</td>\n",
       "      <td>1950.0</td>\n",
       "    </tr>\n",
       "    <tr>\n",
       "      <td>1</td>\n",
       "      <td>1000</td>\n",
       "      <td>December</td>\n",
       "      <td>333.0</td>\n",
       "      <td>46.0</td>\n",
       "      <td>10.0</td>\n",
       "      <td>70.0</td>\n",
       "      <td>ultra</td>\n",
       "      <td>Краснодар</td>\n",
       "      <td>1000</td>\n",
       "      <td>30</td>\n",
       "      <td>3000</td>\n",
       "      <td>1950</td>\n",
       "      <td>150</td>\n",
       "      <td>1</td>\n",
       "      <td>1</td>\n",
       "      <td>0.0</td>\n",
       "      <td>0.0</td>\n",
       "      <td>0.0</td>\n",
       "      <td>1950.0</td>\n",
       "    </tr>\n",
       "    <tr>\n",
       "      <td>2</td>\n",
       "      <td>1000</td>\n",
       "      <td>July</td>\n",
       "      <td>340.0</td>\n",
       "      <td>47.0</td>\n",
       "      <td>14.0</td>\n",
       "      <td>75.0</td>\n",
       "      <td>ultra</td>\n",
       "      <td>Краснодар</td>\n",
       "      <td>1000</td>\n",
       "      <td>30</td>\n",
       "      <td>3000</td>\n",
       "      <td>1950</td>\n",
       "      <td>150</td>\n",
       "      <td>1</td>\n",
       "      <td>1</td>\n",
       "      <td>0.0</td>\n",
       "      <td>0.0</td>\n",
       "      <td>0.0</td>\n",
       "      <td>1950.0</td>\n",
       "    </tr>\n",
       "    <tr>\n",
       "      <td>3</td>\n",
       "      <td>1000</td>\n",
       "      <td>June</td>\n",
       "      <td>172.0</td>\n",
       "      <td>43.0</td>\n",
       "      <td>23.0</td>\n",
       "      <td>60.0</td>\n",
       "      <td>ultra</td>\n",
       "      <td>Краснодар</td>\n",
       "      <td>1000</td>\n",
       "      <td>30</td>\n",
       "      <td>3000</td>\n",
       "      <td>1950</td>\n",
       "      <td>150</td>\n",
       "      <td>1</td>\n",
       "      <td>1</td>\n",
       "      <td>0.0</td>\n",
       "      <td>0.0</td>\n",
       "      <td>0.0</td>\n",
       "      <td>1950.0</td>\n",
       "    </tr>\n",
       "    <tr>\n",
       "      <td>4</td>\n",
       "      <td>1000</td>\n",
       "      <td>May</td>\n",
       "      <td>159.0</td>\n",
       "      <td>22.0</td>\n",
       "      <td>3.0</td>\n",
       "      <td>22.0</td>\n",
       "      <td>ultra</td>\n",
       "      <td>Краснодар</td>\n",
       "      <td>1000</td>\n",
       "      <td>30</td>\n",
       "      <td>3000</td>\n",
       "      <td>1950</td>\n",
       "      <td>150</td>\n",
       "      <td>1</td>\n",
       "      <td>1</td>\n",
       "      <td>0.0</td>\n",
       "      <td>0.0</td>\n",
       "      <td>0.0</td>\n",
       "      <td>1950.0</td>\n",
       "    </tr>\n",
       "  </tbody>\n",
       "</table>\n",
       "</div>"
      ],
      "text/plain": [
       "   user_id     month  calls_duration  calls_count  gb_used  messages_count  \\\n",
       "0     1000    August           409.0         52.0     14.0            81.0   \n",
       "1     1000  December           333.0         46.0     10.0            70.0   \n",
       "2     1000      July           340.0         47.0     14.0            75.0   \n",
       "3     1000      June           172.0         43.0     23.0            60.0   \n",
       "4     1000       May           159.0         22.0      3.0            22.0   \n",
       "\n",
       "  tariff       city  messages_included  gb_per_month_included  \\\n",
       "0  ultra  Краснодар               1000                     30   \n",
       "1  ultra  Краснодар               1000                     30   \n",
       "2  ultra  Краснодар               1000                     30   \n",
       "3  ultra  Краснодар               1000                     30   \n",
       "4  ultra  Краснодар               1000                     30   \n",
       "\n",
       "   minutes_included  rub_monthly_fee  rub_per_gb  rub_per_message  \\\n",
       "0              3000             1950         150                1   \n",
       "1              3000             1950         150                1   \n",
       "2              3000             1950         150                1   \n",
       "3              3000             1950         150                1   \n",
       "4              3000             1950         150                1   \n",
       "\n",
       "   rub_per_minute  min_over_limit  messages_over_limit  gb_over_limit  \\\n",
       "0               1             0.0                  0.0            0.0   \n",
       "1               1             0.0                  0.0            0.0   \n",
       "2               1             0.0                  0.0            0.0   \n",
       "3               1             0.0                  0.0            0.0   \n",
       "4               1             0.0                  0.0            0.0   \n",
       "\n",
       "   monthly_revenue  \n",
       "0           1950.0  \n",
       "1           1950.0  \n",
       "2           1950.0  \n",
       "3           1950.0  \n",
       "4           1950.0  "
      ]
     },
     "metadata": {},
     "output_type": "display_data"
    },
    {
     "data": {
      "text/html": [
       "<div>\n",
       "<style scoped>\n",
       "    .dataframe tbody tr th:only-of-type {\n",
       "        vertical-align: middle;\n",
       "    }\n",
       "\n",
       "    .dataframe tbody tr th {\n",
       "        vertical-align: top;\n",
       "    }\n",
       "\n",
       "    .dataframe thead th {\n",
       "        text-align: right;\n",
       "    }\n",
       "</style>\n",
       "<table border=\"1\" class=\"dataframe\">\n",
       "  <thead>\n",
       "    <tr style=\"text-align: right;\">\n",
       "      <th></th>\n",
       "      <th>user_id</th>\n",
       "      <th>calls_duration</th>\n",
       "      <th>calls_count</th>\n",
       "      <th>gb_used</th>\n",
       "      <th>messages_count</th>\n",
       "      <th>messages_included</th>\n",
       "      <th>gb_per_month_included</th>\n",
       "      <th>minutes_included</th>\n",
       "      <th>rub_monthly_fee</th>\n",
       "      <th>rub_per_gb</th>\n",
       "      <th>rub_per_message</th>\n",
       "      <th>rub_per_minute</th>\n",
       "      <th>min_over_limit</th>\n",
       "      <th>messages_over_limit</th>\n",
       "      <th>gb_over_limit</th>\n",
       "      <th>monthly_revenue</th>\n",
       "    </tr>\n",
       "  </thead>\n",
       "  <tbody>\n",
       "    <tr>\n",
       "      <td>count</td>\n",
       "      <td>3214.000000</td>\n",
       "      <td>3174.000000</td>\n",
       "      <td>3174.000000</td>\n",
       "      <td>3203.000000</td>\n",
       "      <td>2717.000000</td>\n",
       "      <td>3214.000000</td>\n",
       "      <td>3214.000000</td>\n",
       "      <td>3214.000000</td>\n",
       "      <td>3214.000000</td>\n",
       "      <td>3214.000000</td>\n",
       "      <td>3214.000000</td>\n",
       "      <td>3214.000000</td>\n",
       "      <td>3214.000000</td>\n",
       "      <td>3214.000000</td>\n",
       "      <td>3214.000000</td>\n",
       "      <td>3214.000000</td>\n",
       "    </tr>\n",
       "    <tr>\n",
       "      <td>mean</td>\n",
       "      <td>1251.590230</td>\n",
       "      <td>457.183050</td>\n",
       "      <td>63.833333</td>\n",
       "      <td>17.390259</td>\n",
       "      <td>45.283769</td>\n",
       "      <td>341.148102</td>\n",
       "      <td>19.597075</td>\n",
       "      <td>1266.179216</td>\n",
       "      <td>979.060361</td>\n",
       "      <td>184.676416</td>\n",
       "      <td>2.387057</td>\n",
       "      <td>2.387057</td>\n",
       "      <td>28.936528</td>\n",
       "      <td>4.022402</td>\n",
       "      <td>2.336963</td>\n",
       "      <td>1532.962041</td>\n",
       "    </tr>\n",
       "    <tr>\n",
       "      <td>std</td>\n",
       "      <td>144.659172</td>\n",
       "      <td>238.151168</td>\n",
       "      <td>32.678036</td>\n",
       "      <td>7.354888</td>\n",
       "      <td>35.051363</td>\n",
       "      <td>438.044726</td>\n",
       "      <td>6.916496</td>\n",
       "      <td>1152.749279</td>\n",
       "      <td>645.539596</td>\n",
       "      <td>23.054986</td>\n",
       "      <td>0.922199</td>\n",
       "      <td>0.922199</td>\n",
       "      <td>73.188698</td>\n",
       "      <td>11.508916</td>\n",
       "      <td>3.532080</td>\n",
       "      <td>799.852029</td>\n",
       "    </tr>\n",
       "    <tr>\n",
       "      <td>min</td>\n",
       "      <td>1000.000000</td>\n",
       "      <td>0.000000</td>\n",
       "      <td>1.000000</td>\n",
       "      <td>0.000000</td>\n",
       "      <td>1.000000</td>\n",
       "      <td>50.000000</td>\n",
       "      <td>15.000000</td>\n",
       "      <td>500.000000</td>\n",
       "      <td>550.000000</td>\n",
       "      <td>150.000000</td>\n",
       "      <td>1.000000</td>\n",
       "      <td>1.000000</td>\n",
       "      <td>0.000000</td>\n",
       "      <td>0.000000</td>\n",
       "      <td>0.000000</td>\n",
       "      <td>550.000000</td>\n",
       "    </tr>\n",
       "    <tr>\n",
       "      <td>25%</td>\n",
       "      <td>1125.000000</td>\n",
       "      <td>290.000000</td>\n",
       "      <td>41.000000</td>\n",
       "      <td>13.000000</td>\n",
       "      <td>19.000000</td>\n",
       "      <td>50.000000</td>\n",
       "      <td>15.000000</td>\n",
       "      <td>500.000000</td>\n",
       "      <td>550.000000</td>\n",
       "      <td>150.000000</td>\n",
       "      <td>1.000000</td>\n",
       "      <td>1.000000</td>\n",
       "      <td>0.000000</td>\n",
       "      <td>0.000000</td>\n",
       "      <td>0.000000</td>\n",
       "      <td>750.000000</td>\n",
       "    </tr>\n",
       "    <tr>\n",
       "      <td>50%</td>\n",
       "      <td>1253.000000</td>\n",
       "      <td>447.500000</td>\n",
       "      <td>63.000000</td>\n",
       "      <td>17.000000</td>\n",
       "      <td>38.000000</td>\n",
       "      <td>50.000000</td>\n",
       "      <td>15.000000</td>\n",
       "      <td>500.000000</td>\n",
       "      <td>550.000000</td>\n",
       "      <td>200.000000</td>\n",
       "      <td>3.000000</td>\n",
       "      <td>3.000000</td>\n",
       "      <td>0.000000</td>\n",
       "      <td>0.000000</td>\n",
       "      <td>0.000000</td>\n",
       "      <td>1667.500000</td>\n",
       "    </tr>\n",
       "    <tr>\n",
       "      <td>75%</td>\n",
       "      <td>1378.750000</td>\n",
       "      <td>592.000000</td>\n",
       "      <td>83.000000</td>\n",
       "      <td>21.000000</td>\n",
       "      <td>63.000000</td>\n",
       "      <td>1000.000000</td>\n",
       "      <td>30.000000</td>\n",
       "      <td>3000.000000</td>\n",
       "      <td>1950.000000</td>\n",
       "      <td>200.000000</td>\n",
       "      <td>3.000000</td>\n",
       "      <td>3.000000</td>\n",
       "      <td>0.000000</td>\n",
       "      <td>0.000000</td>\n",
       "      <td>4.000000</td>\n",
       "      <td>1950.000000</td>\n",
       "    </tr>\n",
       "    <tr>\n",
       "      <td>max</td>\n",
       "      <td>1499.000000</td>\n",
       "      <td>1674.000000</td>\n",
       "      <td>244.000000</td>\n",
       "      <td>49.000000</td>\n",
       "      <td>224.000000</td>\n",
       "      <td>1000.000000</td>\n",
       "      <td>30.000000</td>\n",
       "      <td>3000.000000</td>\n",
       "      <td>1950.000000</td>\n",
       "      <td>200.000000</td>\n",
       "      <td>3.000000</td>\n",
       "      <td>3.000000</td>\n",
       "      <td>937.000000</td>\n",
       "      <td>93.000000</td>\n",
       "      <td>23.000000</td>\n",
       "      <td>6770.000000</td>\n",
       "    </tr>\n",
       "  </tbody>\n",
       "</table>\n",
       "</div>"
      ],
      "text/plain": [
       "           user_id  calls_duration  calls_count      gb_used  messages_count  \\\n",
       "count  3214.000000     3174.000000  3174.000000  3203.000000     2717.000000   \n",
       "mean   1251.590230      457.183050    63.833333    17.390259       45.283769   \n",
       "std     144.659172      238.151168    32.678036     7.354888       35.051363   \n",
       "min    1000.000000        0.000000     1.000000     0.000000        1.000000   \n",
       "25%    1125.000000      290.000000    41.000000    13.000000       19.000000   \n",
       "50%    1253.000000      447.500000    63.000000    17.000000       38.000000   \n",
       "75%    1378.750000      592.000000    83.000000    21.000000       63.000000   \n",
       "max    1499.000000     1674.000000   244.000000    49.000000      224.000000   \n",
       "\n",
       "       messages_included  gb_per_month_included  minutes_included  \\\n",
       "count        3214.000000            3214.000000       3214.000000   \n",
       "mean          341.148102              19.597075       1266.179216   \n",
       "std           438.044726               6.916496       1152.749279   \n",
       "min            50.000000              15.000000        500.000000   \n",
       "25%            50.000000              15.000000        500.000000   \n",
       "50%            50.000000              15.000000        500.000000   \n",
       "75%          1000.000000              30.000000       3000.000000   \n",
       "max          1000.000000              30.000000       3000.000000   \n",
       "\n",
       "       rub_monthly_fee   rub_per_gb  rub_per_message  rub_per_minute  \\\n",
       "count      3214.000000  3214.000000      3214.000000     3214.000000   \n",
       "mean        979.060361   184.676416         2.387057        2.387057   \n",
       "std         645.539596    23.054986         0.922199        0.922199   \n",
       "min         550.000000   150.000000         1.000000        1.000000   \n",
       "25%         550.000000   150.000000         1.000000        1.000000   \n",
       "50%         550.000000   200.000000         3.000000        3.000000   \n",
       "75%        1950.000000   200.000000         3.000000        3.000000   \n",
       "max        1950.000000   200.000000         3.000000        3.000000   \n",
       "\n",
       "       min_over_limit  messages_over_limit  gb_over_limit  monthly_revenue  \n",
       "count     3214.000000          3214.000000    3214.000000      3214.000000  \n",
       "mean        28.936528             4.022402       2.336963      1532.962041  \n",
       "std         73.188698            11.508916       3.532080       799.852029  \n",
       "min          0.000000             0.000000       0.000000       550.000000  \n",
       "25%          0.000000             0.000000       0.000000       750.000000  \n",
       "50%          0.000000             0.000000       0.000000      1667.500000  \n",
       "75%          0.000000             0.000000       4.000000      1950.000000  \n",
       "max        937.000000            93.000000      23.000000      6770.000000  "
      ]
     },
     "metadata": {},
     "output_type": "display_data"
    }
   ],
   "source": [
    "# Создадим столбцы с минутами, смс и Гб, потраченными абонентами сверх бесплатного лимита.\n",
    "# (если абонент не вышел за бесплатный лимит - значение в столбце будет равно нулю):\n",
    "users_stat['min_over_limit'] = (users_stat['calls_duration'] \n",
    "    - users_stat['minutes_included']).where(\n",
    "    users_stat['calls_duration'] > users_stat['minutes_included'], 0)\n",
    "\n",
    "users_stat['messages_over_limit'] = (users_stat['messages_count'] \n",
    "    - users_stat['messages_included']).where(\n",
    "    users_stat['messages_count'] > users_stat['messages_included'], 0)\n",
    "\n",
    "users_stat['gb_over_limit'] = (users_stat['gb_used'] \n",
    "    - users_stat['gb_per_month_included']).where(\n",
    "    users_stat['gb_used'] > users_stat['gb_per_month_included'], 0)\n",
    "\n",
    "users_stat['monthly_revenue'] = (users_stat['rub_monthly_fee'] + \n",
    "    users_stat['rub_per_minute'] * users_stat['min_over_limit'] +\n",
    "    users_stat['rub_per_message'] * users_stat['messages_over_limit'] +\n",
    "    users_stat['rub_per_gb'] * users_stat['gb_over_limit']                               \n",
    ")\n",
    "\n",
    "display(users_stat.head())\n",
    "display(users_stat.describe())"
   ]
  },
  {
   "cell_type": "code",
   "execution_count": 22,
   "metadata": {},
   "outputs": [
    {
     "data": {
      "text/plain": [
       "count    3214.000000\n",
       "mean     1532.962041\n",
       "std       799.852029\n",
       "min       550.000000\n",
       "25%       750.000000\n",
       "50%      1667.500000\n",
       "75%      1950.000000\n",
       "max      6770.000000\n",
       "Name: monthly_revenue, dtype: float64"
      ]
     },
     "execution_count": 22,
     "metadata": {},
     "output_type": "execute_result"
    }
   ],
   "source": [
    "users_stat['monthly_revenue'].describe()"
   ]
  },
  {
   "cell_type": "markdown",
   "metadata": {},
   "source": [
    "## Анализ данных"
   ]
  },
  {
   "cell_type": "code",
   "execution_count": 23,
   "metadata": {
    "scrolled": true
   },
   "outputs": [
    {
     "data": {
      "text/plain": [
       "Index(['user_id', 'month', 'calls_duration', 'calls_count', 'gb_used',\n",
       "       'messages_count', 'tariff', 'city', 'messages_included',\n",
       "       'gb_per_month_included', 'minutes_included', 'rub_monthly_fee',\n",
       "       'rub_per_gb', 'rub_per_message', 'rub_per_minute', 'min_over_limit',\n",
       "       'messages_over_limit', 'gb_over_limit', 'monthly_revenue'],\n",
       "      dtype='object')"
      ]
     },
     "metadata": {},
     "output_type": "display_data"
    }
   ],
   "source": [
    "# Создадим итоговую таблицу, оставим только нужные столбцы:\n",
    "display(users_stat.columns)"
   ]
  },
  {
   "cell_type": "code",
   "execution_count": 24,
   "metadata": {},
   "outputs": [
    {
     "data": {
      "text/html": [
       "<div>\n",
       "<style scoped>\n",
       "    .dataframe tbody tr th:only-of-type {\n",
       "        vertical-align: middle;\n",
       "    }\n",
       "\n",
       "    .dataframe tbody tr th {\n",
       "        vertical-align: top;\n",
       "    }\n",
       "\n",
       "    .dataframe thead th {\n",
       "        text-align: right;\n",
       "    }\n",
       "</style>\n",
       "<table border=\"1\" class=\"dataframe\">\n",
       "  <thead>\n",
       "    <tr style=\"text-align: right;\">\n",
       "      <th></th>\n",
       "      <th>user_id</th>\n",
       "      <th>month</th>\n",
       "      <th>calls_duration</th>\n",
       "      <th>calls_count</th>\n",
       "      <th>gb_used</th>\n",
       "      <th>messages_count</th>\n",
       "      <th>tariff</th>\n",
       "      <th>rub_monthly_fee</th>\n",
       "      <th>min_over_limit</th>\n",
       "      <th>messages_over_limit</th>\n",
       "      <th>gb_over_limit</th>\n",
       "      <th>monthly_revenue</th>\n",
       "      <th>city</th>\n",
       "    </tr>\n",
       "  </thead>\n",
       "  <tbody>\n",
       "    <tr>\n",
       "      <td>985</td>\n",
       "      <td>1001</td>\n",
       "      <td>December</td>\n",
       "      <td>414.0</td>\n",
       "      <td>63.0</td>\n",
       "      <td>14.0</td>\n",
       "      <td>NaN</td>\n",
       "      <td>smart</td>\n",
       "      <td>550</td>\n",
       "      <td>0.0</td>\n",
       "      <td>0.0</td>\n",
       "      <td>0.0</td>\n",
       "      <td>550.0</td>\n",
       "      <td>Москва</td>\n",
       "    </tr>\n",
       "    <tr>\n",
       "      <td>986</td>\n",
       "      <td>1001</td>\n",
       "      <td>November</td>\n",
       "      <td>430.0</td>\n",
       "      <td>59.0</td>\n",
       "      <td>19.0</td>\n",
       "      <td>NaN</td>\n",
       "      <td>smart</td>\n",
       "      <td>550</td>\n",
       "      <td>0.0</td>\n",
       "      <td>0.0</td>\n",
       "      <td>4.0</td>\n",
       "      <td>1350.0</td>\n",
       "      <td>Москва</td>\n",
       "    </tr>\n",
       "    <tr>\n",
       "      <td>987</td>\n",
       "      <td>1002</td>\n",
       "      <td>August</td>\n",
       "      <td>290.0</td>\n",
       "      <td>42.0</td>\n",
       "      <td>20.0</td>\n",
       "      <td>13.0</td>\n",
       "      <td>smart</td>\n",
       "      <td>550</td>\n",
       "      <td>0.0</td>\n",
       "      <td>0.0</td>\n",
       "      <td>5.0</td>\n",
       "      <td>1550.0</td>\n",
       "      <td>Стерлитамак</td>\n",
       "    </tr>\n",
       "    <tr>\n",
       "      <td>988</td>\n",
       "      <td>1002</td>\n",
       "      <td>December</td>\n",
       "      <td>236.0</td>\n",
       "      <td>33.0</td>\n",
       "      <td>18.0</td>\n",
       "      <td>12.0</td>\n",
       "      <td>smart</td>\n",
       "      <td>550</td>\n",
       "      <td>0.0</td>\n",
       "      <td>0.0</td>\n",
       "      <td>3.0</td>\n",
       "      <td>1150.0</td>\n",
       "      <td>Стерлитамак</td>\n",
       "    </tr>\n",
       "    <tr>\n",
       "      <td>989</td>\n",
       "      <td>1002</td>\n",
       "      <td>July</td>\n",
       "      <td>214.0</td>\n",
       "      <td>26.0</td>\n",
       "      <td>18.0</td>\n",
       "      <td>11.0</td>\n",
       "      <td>smart</td>\n",
       "      <td>550</td>\n",
       "      <td>0.0</td>\n",
       "      <td>0.0</td>\n",
       "      <td>3.0</td>\n",
       "      <td>1150.0</td>\n",
       "      <td>Стерлитамак</td>\n",
       "    </tr>\n",
       "  </tbody>\n",
       "</table>\n",
       "</div>"
      ],
      "text/plain": [
       "     user_id     month  calls_duration  calls_count  gb_used  messages_count  \\\n",
       "985     1001  December           414.0         63.0     14.0             NaN   \n",
       "986     1001  November           430.0         59.0     19.0             NaN   \n",
       "987     1002    August           290.0         42.0     20.0            13.0   \n",
       "988     1002  December           236.0         33.0     18.0            12.0   \n",
       "989     1002      July           214.0         26.0     18.0            11.0   \n",
       "\n",
       "    tariff  rub_monthly_fee  min_over_limit  messages_over_limit  \\\n",
       "985  smart              550             0.0                  0.0   \n",
       "986  smart              550             0.0                  0.0   \n",
       "987  smart              550             0.0                  0.0   \n",
       "988  smart              550             0.0                  0.0   \n",
       "989  smart              550             0.0                  0.0   \n",
       "\n",
       "     gb_over_limit  monthly_revenue         city  \n",
       "985            0.0            550.0       Москва  \n",
       "986            4.0           1350.0       Москва  \n",
       "987            5.0           1550.0  Стерлитамак  \n",
       "988            3.0           1150.0  Стерлитамак  \n",
       "989            3.0           1150.0  Стерлитамак  "
      ]
     },
     "metadata": {},
     "output_type": "display_data"
    },
    {
     "name": "stdout",
     "output_type": "stream",
     "text": [
      "<class 'pandas.core.frame.DataFrame'>\n",
      "Int64Index: 2229 entries, 985 to 3213\n",
      "Data columns (total 13 columns):\n",
      "user_id                2229 non-null int64\n",
      "month                  2229 non-null object\n",
      "calls_duration         2223 non-null float64\n",
      "calls_count            2223 non-null float64\n",
      "gb_used                2228 non-null float64\n",
      "messages_count         1922 non-null float64\n",
      "tariff                 2229 non-null object\n",
      "rub_monthly_fee        2229 non-null int64\n",
      "min_over_limit         2229 non-null float64\n",
      "messages_over_limit    2229 non-null float64\n",
      "gb_over_limit          2229 non-null float64\n",
      "monthly_revenue        2229 non-null float64\n",
      "city                   2229 non-null object\n",
      "dtypes: float64(8), int64(2), object(3)\n",
      "memory usage: 243.8+ KB\n"
     ]
    },
    {
     "data": {
      "text/html": [
       "<div>\n",
       "<style scoped>\n",
       "    .dataframe tbody tr th:only-of-type {\n",
       "        vertical-align: middle;\n",
       "    }\n",
       "\n",
       "    .dataframe tbody tr th {\n",
       "        vertical-align: top;\n",
       "    }\n",
       "\n",
       "    .dataframe thead th {\n",
       "        text-align: right;\n",
       "    }\n",
       "</style>\n",
       "<table border=\"1\" class=\"dataframe\">\n",
       "  <thead>\n",
       "    <tr style=\"text-align: right;\">\n",
       "      <th></th>\n",
       "      <th>user_id</th>\n",
       "      <th>month</th>\n",
       "      <th>calls_duration</th>\n",
       "      <th>calls_count</th>\n",
       "      <th>gb_used</th>\n",
       "      <th>messages_count</th>\n",
       "      <th>tariff</th>\n",
       "      <th>rub_monthly_fee</th>\n",
       "      <th>min_over_limit</th>\n",
       "      <th>messages_over_limit</th>\n",
       "      <th>gb_over_limit</th>\n",
       "      <th>monthly_revenue</th>\n",
       "      <th>city</th>\n",
       "    </tr>\n",
       "  </thead>\n",
       "  <tbody>\n",
       "    <tr>\n",
       "      <td>0</td>\n",
       "      <td>1000</td>\n",
       "      <td>August</td>\n",
       "      <td>409.0</td>\n",
       "      <td>52.0</td>\n",
       "      <td>14.0</td>\n",
       "      <td>81.0</td>\n",
       "      <td>ultra</td>\n",
       "      <td>1950</td>\n",
       "      <td>0.0</td>\n",
       "      <td>0.0</td>\n",
       "      <td>0.0</td>\n",
       "      <td>1950.0</td>\n",
       "      <td>Краснодар</td>\n",
       "    </tr>\n",
       "    <tr>\n",
       "      <td>1</td>\n",
       "      <td>1000</td>\n",
       "      <td>December</td>\n",
       "      <td>333.0</td>\n",
       "      <td>46.0</td>\n",
       "      <td>10.0</td>\n",
       "      <td>70.0</td>\n",
       "      <td>ultra</td>\n",
       "      <td>1950</td>\n",
       "      <td>0.0</td>\n",
       "      <td>0.0</td>\n",
       "      <td>0.0</td>\n",
       "      <td>1950.0</td>\n",
       "      <td>Краснодар</td>\n",
       "    </tr>\n",
       "    <tr>\n",
       "      <td>2</td>\n",
       "      <td>1000</td>\n",
       "      <td>July</td>\n",
       "      <td>340.0</td>\n",
       "      <td>47.0</td>\n",
       "      <td>14.0</td>\n",
       "      <td>75.0</td>\n",
       "      <td>ultra</td>\n",
       "      <td>1950</td>\n",
       "      <td>0.0</td>\n",
       "      <td>0.0</td>\n",
       "      <td>0.0</td>\n",
       "      <td>1950.0</td>\n",
       "      <td>Краснодар</td>\n",
       "    </tr>\n",
       "    <tr>\n",
       "      <td>3</td>\n",
       "      <td>1000</td>\n",
       "      <td>June</td>\n",
       "      <td>172.0</td>\n",
       "      <td>43.0</td>\n",
       "      <td>23.0</td>\n",
       "      <td>60.0</td>\n",
       "      <td>ultra</td>\n",
       "      <td>1950</td>\n",
       "      <td>0.0</td>\n",
       "      <td>0.0</td>\n",
       "      <td>0.0</td>\n",
       "      <td>1950.0</td>\n",
       "      <td>Краснодар</td>\n",
       "    </tr>\n",
       "    <tr>\n",
       "      <td>4</td>\n",
       "      <td>1000</td>\n",
       "      <td>May</td>\n",
       "      <td>159.0</td>\n",
       "      <td>22.0</td>\n",
       "      <td>3.0</td>\n",
       "      <td>22.0</td>\n",
       "      <td>ultra</td>\n",
       "      <td>1950</td>\n",
       "      <td>0.0</td>\n",
       "      <td>0.0</td>\n",
       "      <td>0.0</td>\n",
       "      <td>1950.0</td>\n",
       "      <td>Краснодар</td>\n",
       "    </tr>\n",
       "  </tbody>\n",
       "</table>\n",
       "</div>"
      ],
      "text/plain": [
       "   user_id     month  calls_duration  calls_count  gb_used  messages_count  \\\n",
       "0     1000    August           409.0         52.0     14.0            81.0   \n",
       "1     1000  December           333.0         46.0     10.0            70.0   \n",
       "2     1000      July           340.0         47.0     14.0            75.0   \n",
       "3     1000      June           172.0         43.0     23.0            60.0   \n",
       "4     1000       May           159.0         22.0      3.0            22.0   \n",
       "\n",
       "  tariff  rub_monthly_fee  min_over_limit  messages_over_limit  gb_over_limit  \\\n",
       "0  ultra             1950             0.0                  0.0            0.0   \n",
       "1  ultra             1950             0.0                  0.0            0.0   \n",
       "2  ultra             1950             0.0                  0.0            0.0   \n",
       "3  ultra             1950             0.0                  0.0            0.0   \n",
       "4  ultra             1950             0.0                  0.0            0.0   \n",
       "\n",
       "   monthly_revenue       city  \n",
       "0           1950.0  Краснодар  \n",
       "1           1950.0  Краснодар  \n",
       "2           1950.0  Краснодар  \n",
       "3           1950.0  Краснодар  \n",
       "4           1950.0  Краснодар  "
      ]
     },
     "metadata": {},
     "output_type": "display_data"
    },
    {
     "name": "stdout",
     "output_type": "stream",
     "text": [
      "<class 'pandas.core.frame.DataFrame'>\n",
      "Int64Index: 985 entries, 0 to 984\n",
      "Data columns (total 13 columns):\n",
      "user_id                985 non-null int64\n",
      "month                  985 non-null object\n",
      "calls_duration         951 non-null float64\n",
      "calls_count            951 non-null float64\n",
      "gb_used                975 non-null float64\n",
      "messages_count         795 non-null float64\n",
      "tariff                 985 non-null object\n",
      "rub_monthly_fee        985 non-null int64\n",
      "min_over_limit         985 non-null float64\n",
      "messages_over_limit    985 non-null float64\n",
      "gb_over_limit          985 non-null float64\n",
      "monthly_revenue        985 non-null float64\n",
      "city                   985 non-null object\n",
      "dtypes: float64(8), int64(2), object(3)\n",
      "memory usage: 107.7+ KB\n"
     ]
    }
   ],
   "source": [
    "all_users_stat = users_stat[['user_id', 'month', 'calls_duration', 'calls_count', 'gb_used',\n",
    "       'messages_count', 'tariff', 'rub_monthly_fee', 'min_over_limit',\n",
    "       'messages_over_limit', 'gb_over_limit', 'monthly_revenue', 'city']]\n",
    "\n",
    "# Создадим отдельные таблицы с абонентами двух исследуемых тарифов:\n",
    "smart_users_stat = all_users_stat.query('tariff == \"smart\"')\n",
    "ultra_users_stat = all_users_stat.query('tariff == \"ultra\"')\n",
    "\n",
    "display(smart_users_stat.head())\n",
    "smart_users_stat.info()\n",
    "display(ultra_users_stat.head())\n",
    "ultra_users_stat.info()"
   ]
  },
  {
   "cell_type": "code",
   "execution_count": 25,
   "metadata": {
    "scrolled": false
   },
   "outputs": [
    {
     "data": {
      "text/html": [
       "<div>\n",
       "<style scoped>\n",
       "    .dataframe tbody tr th:only-of-type {\n",
       "        vertical-align: middle;\n",
       "    }\n",
       "\n",
       "    .dataframe tbody tr th {\n",
       "        vertical-align: top;\n",
       "    }\n",
       "\n",
       "    .dataframe thead th {\n",
       "        text-align: right;\n",
       "    }\n",
       "</style>\n",
       "<table border=\"1\" class=\"dataframe\">\n",
       "  <thead>\n",
       "    <tr style=\"text-align: right;\">\n",
       "      <th></th>\n",
       "      <th>tariff</th>\n",
       "      <th>smart</th>\n",
       "      <th>ultra</th>\n",
       "    </tr>\n",
       "  </thead>\n",
       "  <tbody>\n",
       "    <tr>\n",
       "      <td rowspan=\"3\" valign=\"top\">mean</td>\n",
       "      <td>calls_duration</td>\n",
       "      <td>419.30</td>\n",
       "      <td>545.75</td>\n",
       "    </tr>\n",
       "    <tr>\n",
       "      <td>gb_used</td>\n",
       "      <td>16.37</td>\n",
       "      <td>19.73</td>\n",
       "    </tr>\n",
       "    <tr>\n",
       "      <td>messages_count</td>\n",
       "      <td>38.72</td>\n",
       "      <td>61.16</td>\n",
       "    </tr>\n",
       "    <tr>\n",
       "      <td rowspan=\"3\" valign=\"top\">var</td>\n",
       "      <td>calls_duration</td>\n",
       "      <td>35881.73</td>\n",
       "      <td>94295.41</td>\n",
       "    </tr>\n",
       "    <tr>\n",
       "      <td>gb_used</td>\n",
       "      <td>33.07</td>\n",
       "      <td>94.36</td>\n",
       "    </tr>\n",
       "    <tr>\n",
       "      <td>messages_count</td>\n",
       "      <td>717.59</td>\n",
       "      <td>2109.66</td>\n",
       "    </tr>\n",
       "    <tr>\n",
       "      <td rowspan=\"3\" valign=\"top\">std</td>\n",
       "      <td>calls_duration</td>\n",
       "      <td>189.42</td>\n",
       "      <td>307.08</td>\n",
       "    </tr>\n",
       "    <tr>\n",
       "      <td>gb_used</td>\n",
       "      <td>5.75</td>\n",
       "      <td>9.71</td>\n",
       "    </tr>\n",
       "    <tr>\n",
       "      <td>messages_count</td>\n",
       "      <td>26.79</td>\n",
       "      <td>45.93</td>\n",
       "    </tr>\n",
       "  </tbody>\n",
       "</table>\n",
       "</div>"
      ],
      "text/plain": [
       "tariff                  smart     ultra\n",
       "mean calls_duration    419.30    545.75\n",
       "     gb_used            16.37     19.73\n",
       "     messages_count     38.72     61.16\n",
       "var  calls_duration  35881.73  94295.41\n",
       "     gb_used            33.07     94.36\n",
       "     messages_count    717.59   2109.66\n",
       "std  calls_duration    189.42    307.08\n",
       "     gb_used             5.75      9.71\n",
       "     messages_count     26.79     45.93"
      ]
     },
     "metadata": {},
     "output_type": "display_data"
    },
    {
     "data": {
      "text/html": [
       "<div>\n",
       "<style scoped>\n",
       "    .dataframe tbody tr th:only-of-type {\n",
       "        vertical-align: middle;\n",
       "    }\n",
       "\n",
       "    .dataframe tbody tr th {\n",
       "        vertical-align: top;\n",
       "    }\n",
       "\n",
       "    .dataframe thead th {\n",
       "        text-align: right;\n",
       "    }\n",
       "</style>\n",
       "<table border=\"1\" class=\"dataframe\">\n",
       "  <thead>\n",
       "    <tr style=\"text-align: right;\">\n",
       "      <th></th>\n",
       "      <th>user_id</th>\n",
       "      <th>calls_duration</th>\n",
       "      <th>calls_count</th>\n",
       "      <th>gb_used</th>\n",
       "      <th>messages_count</th>\n",
       "      <th>rub_monthly_fee</th>\n",
       "      <th>min_over_limit</th>\n",
       "      <th>messages_over_limit</th>\n",
       "      <th>gb_over_limit</th>\n",
       "      <th>monthly_revenue</th>\n",
       "    </tr>\n",
       "  </thead>\n",
       "  <tbody>\n",
       "    <tr>\n",
       "      <td>count</td>\n",
       "      <td>2229.000000</td>\n",
       "      <td>2223.000000</td>\n",
       "      <td>2223.000000</td>\n",
       "      <td>2228.000000</td>\n",
       "      <td>1922.000000</td>\n",
       "      <td>2229.0</td>\n",
       "      <td>2229.000000</td>\n",
       "      <td>2229.000000</td>\n",
       "      <td>2229.000000</td>\n",
       "      <td>2229.000000</td>\n",
       "    </tr>\n",
       "    <tr>\n",
       "      <td>mean</td>\n",
       "      <td>1246.506505</td>\n",
       "      <td>419.295996</td>\n",
       "      <td>58.621233</td>\n",
       "      <td>16.367594</td>\n",
       "      <td>38.716441</td>\n",
       "      <td>550.0</td>\n",
       "      <td>41.723643</td>\n",
       "      <td>5.799910</td>\n",
       "      <td>3.013010</td>\n",
       "      <td>1295.172723</td>\n",
       "    </tr>\n",
       "    <tr>\n",
       "      <td>std</td>\n",
       "      <td>146.119496</td>\n",
       "      <td>189.424743</td>\n",
       "      <td>25.796101</td>\n",
       "      <td>5.750771</td>\n",
       "      <td>26.787949</td>\n",
       "      <td>0.0</td>\n",
       "      <td>84.799589</td>\n",
       "      <td>13.442456</td>\n",
       "      <td>3.698987</td>\n",
       "      <td>821.369504</td>\n",
       "    </tr>\n",
       "    <tr>\n",
       "      <td>min</td>\n",
       "      <td>1001.000000</td>\n",
       "      <td>0.000000</td>\n",
       "      <td>1.000000</td>\n",
       "      <td>0.000000</td>\n",
       "      <td>1.000000</td>\n",
       "      <td>550.0</td>\n",
       "      <td>0.000000</td>\n",
       "      <td>0.000000</td>\n",
       "      <td>0.000000</td>\n",
       "      <td>550.000000</td>\n",
       "    </tr>\n",
       "    <tr>\n",
       "      <td>25%</td>\n",
       "      <td>1121.000000</td>\n",
       "      <td>285.000000</td>\n",
       "      <td>40.000000</td>\n",
       "      <td>13.000000</td>\n",
       "      <td>17.000000</td>\n",
       "      <td>550.0</td>\n",
       "      <td>0.000000</td>\n",
       "      <td>0.000000</td>\n",
       "      <td>0.000000</td>\n",
       "      <td>550.000000</td>\n",
       "    </tr>\n",
       "    <tr>\n",
       "      <td>50%</td>\n",
       "      <td>1239.000000</td>\n",
       "      <td>423.000000</td>\n",
       "      <td>60.000000</td>\n",
       "      <td>17.000000</td>\n",
       "      <td>34.000000</td>\n",
       "      <td>550.0</td>\n",
       "      <td>0.000000</td>\n",
       "      <td>0.000000</td>\n",
       "      <td>2.000000</td>\n",
       "      <td>1038.000000</td>\n",
       "    </tr>\n",
       "    <tr>\n",
       "      <td>75%</td>\n",
       "      <td>1376.000000</td>\n",
       "      <td>545.500000</td>\n",
       "      <td>76.000000</td>\n",
       "      <td>20.000000</td>\n",
       "      <td>55.000000</td>\n",
       "      <td>550.0</td>\n",
       "      <td>45.000000</td>\n",
       "      <td>1.000000</td>\n",
       "      <td>5.000000</td>\n",
       "      <td>1750.000000</td>\n",
       "    </tr>\n",
       "    <tr>\n",
       "      <td>max</td>\n",
       "      <td>1499.000000</td>\n",
       "      <td>1437.000000</td>\n",
       "      <td>198.000000</td>\n",
       "      <td>38.000000</td>\n",
       "      <td>143.000000</td>\n",
       "      <td>550.0</td>\n",
       "      <td>937.000000</td>\n",
       "      <td>93.000000</td>\n",
       "      <td>23.000000</td>\n",
       "      <td>6770.000000</td>\n",
       "    </tr>\n",
       "  </tbody>\n",
       "</table>\n",
       "</div>"
      ],
      "text/plain": [
       "           user_id  calls_duration  calls_count      gb_used  messages_count  \\\n",
       "count  2229.000000     2223.000000  2223.000000  2228.000000     1922.000000   \n",
       "mean   1246.506505      419.295996    58.621233    16.367594       38.716441   \n",
       "std     146.119496      189.424743    25.796101     5.750771       26.787949   \n",
       "min    1001.000000        0.000000     1.000000     0.000000        1.000000   \n",
       "25%    1121.000000      285.000000    40.000000    13.000000       17.000000   \n",
       "50%    1239.000000      423.000000    60.000000    17.000000       34.000000   \n",
       "75%    1376.000000      545.500000    76.000000    20.000000       55.000000   \n",
       "max    1499.000000     1437.000000   198.000000    38.000000      143.000000   \n",
       "\n",
       "       rub_monthly_fee  min_over_limit  messages_over_limit  gb_over_limit  \\\n",
       "count           2229.0     2229.000000          2229.000000    2229.000000   \n",
       "mean             550.0       41.723643             5.799910       3.013010   \n",
       "std                0.0       84.799589            13.442456       3.698987   \n",
       "min              550.0        0.000000             0.000000       0.000000   \n",
       "25%              550.0        0.000000             0.000000       0.000000   \n",
       "50%              550.0        0.000000             0.000000       2.000000   \n",
       "75%              550.0       45.000000             1.000000       5.000000   \n",
       "max              550.0      937.000000            93.000000      23.000000   \n",
       "\n",
       "       monthly_revenue  \n",
       "count      2229.000000  \n",
       "mean       1295.172723  \n",
       "std         821.369504  \n",
       "min         550.000000  \n",
       "25%         550.000000  \n",
       "50%        1038.000000  \n",
       "75%        1750.000000  \n",
       "max        6770.000000  "
      ]
     },
     "metadata": {},
     "output_type": "display_data"
    },
    {
     "data": {
      "text/html": [
       "<div>\n",
       "<style scoped>\n",
       "    .dataframe tbody tr th:only-of-type {\n",
       "        vertical-align: middle;\n",
       "    }\n",
       "\n",
       "    .dataframe tbody tr th {\n",
       "        vertical-align: top;\n",
       "    }\n",
       "\n",
       "    .dataframe thead th {\n",
       "        text-align: right;\n",
       "    }\n",
       "</style>\n",
       "<table border=\"1\" class=\"dataframe\">\n",
       "  <thead>\n",
       "    <tr style=\"text-align: right;\">\n",
       "      <th></th>\n",
       "      <th>user_id</th>\n",
       "      <th>calls_duration</th>\n",
       "      <th>calls_count</th>\n",
       "      <th>gb_used</th>\n",
       "      <th>messages_count</th>\n",
       "      <th>rub_monthly_fee</th>\n",
       "      <th>min_over_limit</th>\n",
       "      <th>messages_over_limit</th>\n",
       "      <th>gb_over_limit</th>\n",
       "      <th>monthly_revenue</th>\n",
       "    </tr>\n",
       "  </thead>\n",
       "  <tbody>\n",
       "    <tr>\n",
       "      <td>count</td>\n",
       "      <td>985.000000</td>\n",
       "      <td>951.000000</td>\n",
       "      <td>951.000000</td>\n",
       "      <td>975.000000</td>\n",
       "      <td>795.000000</td>\n",
       "      <td>985.0</td>\n",
       "      <td>985.0</td>\n",
       "      <td>985.0</td>\n",
       "      <td>985.000000</td>\n",
       "      <td>985.000000</td>\n",
       "    </tr>\n",
       "    <tr>\n",
       "      <td>mean</td>\n",
       "      <td>1263.094416</td>\n",
       "      <td>545.745531</td>\n",
       "      <td>76.016824</td>\n",
       "      <td>19.727179</td>\n",
       "      <td>61.161006</td>\n",
       "      <td>1950.0</td>\n",
       "      <td>0.0</td>\n",
       "      <td>0.0</td>\n",
       "      <td>0.807107</td>\n",
       "      <td>2071.065990</td>\n",
       "    </tr>\n",
       "    <tr>\n",
       "      <td>std</td>\n",
       "      <td>140.694908</td>\n",
       "      <td>307.075579</td>\n",
       "      <td>42.403348</td>\n",
       "      <td>9.713844</td>\n",
       "      <td>45.931026</td>\n",
       "      <td>0.0</td>\n",
       "      <td>0.0</td>\n",
       "      <td>0.0</td>\n",
       "      <td>2.525349</td>\n",
       "      <td>378.802377</td>\n",
       "    </tr>\n",
       "    <tr>\n",
       "      <td>min</td>\n",
       "      <td>1000.000000</td>\n",
       "      <td>0.000000</td>\n",
       "      <td>1.000000</td>\n",
       "      <td>0.000000</td>\n",
       "      <td>1.000000</td>\n",
       "      <td>1950.0</td>\n",
       "      <td>0.0</td>\n",
       "      <td>0.0</td>\n",
       "      <td>0.000000</td>\n",
       "      <td>1950.000000</td>\n",
       "    </tr>\n",
       "    <tr>\n",
       "      <td>25%</td>\n",
       "      <td>1143.000000</td>\n",
       "      <td>310.000000</td>\n",
       "      <td>43.000000</td>\n",
       "      <td>12.000000</td>\n",
       "      <td>24.000000</td>\n",
       "      <td>1950.0</td>\n",
       "      <td>0.0</td>\n",
       "      <td>0.0</td>\n",
       "      <td>0.000000</td>\n",
       "      <td>1950.000000</td>\n",
       "    </tr>\n",
       "    <tr>\n",
       "      <td>50%</td>\n",
       "      <td>1277.000000</td>\n",
       "      <td>528.000000</td>\n",
       "      <td>75.000000</td>\n",
       "      <td>19.000000</td>\n",
       "      <td>51.000000</td>\n",
       "      <td>1950.0</td>\n",
       "      <td>0.0</td>\n",
       "      <td>0.0</td>\n",
       "      <td>0.000000</td>\n",
       "      <td>1950.000000</td>\n",
       "    </tr>\n",
       "    <tr>\n",
       "      <td>75%</td>\n",
       "      <td>1381.000000</td>\n",
       "      <td>758.000000</td>\n",
       "      <td>105.000000</td>\n",
       "      <td>27.000000</td>\n",
       "      <td>87.500000</td>\n",
       "      <td>1950.0</td>\n",
       "      <td>0.0</td>\n",
       "      <td>0.0</td>\n",
       "      <td>0.000000</td>\n",
       "      <td>1950.000000</td>\n",
       "    </tr>\n",
       "    <tr>\n",
       "      <td>max</td>\n",
       "      <td>1495.000000</td>\n",
       "      <td>1674.000000</td>\n",
       "      <td>244.000000</td>\n",
       "      <td>49.000000</td>\n",
       "      <td>224.000000</td>\n",
       "      <td>1950.0</td>\n",
       "      <td>0.0</td>\n",
       "      <td>0.0</td>\n",
       "      <td>19.000000</td>\n",
       "      <td>4800.000000</td>\n",
       "    </tr>\n",
       "  </tbody>\n",
       "</table>\n",
       "</div>"
      ],
      "text/plain": [
       "           user_id  calls_duration  calls_count     gb_used  messages_count  \\\n",
       "count   985.000000      951.000000   951.000000  975.000000      795.000000   \n",
       "mean   1263.094416      545.745531    76.016824   19.727179       61.161006   \n",
       "std     140.694908      307.075579    42.403348    9.713844       45.931026   \n",
       "min    1000.000000        0.000000     1.000000    0.000000        1.000000   \n",
       "25%    1143.000000      310.000000    43.000000   12.000000       24.000000   \n",
       "50%    1277.000000      528.000000    75.000000   19.000000       51.000000   \n",
       "75%    1381.000000      758.000000   105.000000   27.000000       87.500000   \n",
       "max    1495.000000     1674.000000   244.000000   49.000000      224.000000   \n",
       "\n",
       "       rub_monthly_fee  min_over_limit  messages_over_limit  gb_over_limit  \\\n",
       "count            985.0           985.0                985.0     985.000000   \n",
       "mean            1950.0             0.0                  0.0       0.807107   \n",
       "std                0.0             0.0                  0.0       2.525349   \n",
       "min             1950.0             0.0                  0.0       0.000000   \n",
       "25%             1950.0             0.0                  0.0       0.000000   \n",
       "50%             1950.0             0.0                  0.0       0.000000   \n",
       "75%             1950.0             0.0                  0.0       0.000000   \n",
       "max             1950.0             0.0                  0.0      19.000000   \n",
       "\n",
       "       monthly_revenue  \n",
       "count       985.000000  \n",
       "mean       2071.065990  \n",
       "std         378.802377  \n",
       "min        1950.000000  \n",
       "25%        1950.000000  \n",
       "50%        1950.000000  \n",
       "75%        1950.000000  \n",
       "max        4800.000000  "
      ]
     },
     "metadata": {},
     "output_type": "display_data"
    }
   ],
   "source": [
    "# Создадим сводную таблицу с необходимыми нам параметрами:\n",
    "# Среднее количество, дисперсия и стандартное отклонение для потраченных минут, смс и ГБ для каждого тарифа:\n",
    "users_pivot_stat = all_users_stat.pivot_table(\n",
    "index='tariff', values=['calls_duration', 'messages_count', 'gb_used'], aggfunc=['mean', 'var', 'std']\n",
    ")\n",
    "users_pivot_stat = users_pivot_stat.round(2)\n",
    "display(users_pivot_stat.transpose())\n",
    "display(smart_users_stat.describe())\n",
    "display(ultra_users_stat.describe())"
   ]
  },
  {
   "cell_type": "markdown",
   "metadata": {},
   "source": [
    "**На основании выборки можно сделать следующие выводы:**\n",
    "- Большая часть пользователей тарифа \"Smart\":\n",
    "    * тратят от 285 до 545 минут на звонки в месяц, в среднем 420 минут;\n",
    "    * отправляют от 17 до 55 сообщений в месяц, в среднем 38 сообщений;\n",
    "    * используют от 13 до 20 Гб в месяц, в среднем 16 Гб.\n",
    "\n",
    "- Большая часть пользователей тарифа \"Ultra\":\n",
    "    * тратят от 310 до 758 минут на звонки в месяц, в среднем 545 минут;\n",
    "    * отправляют от 24 до 87 сообщений в месяц, в среднем 61 сообщение;\n",
    "    * используют от 12 до 27 Гб в месяц, в среднем 19 Гб.\n",
    "\n",
    "- Пользователи тарифа \"Ultra\" тратят больше минут, смс и Гб в месяц, чем пользователи тарифа \"Smart\"."
   ]
  },
  {
   "cell_type": "code",
   "execution_count": 26,
   "metadata": {
    "scrolled": false
   },
   "outputs": [
    {
     "data": {
      "image/png": "[encoded data removed]",
      "text/plain": [
       "<Figure size 1296x432 with 2 Axes>"
      ]
     },
     "metadata": {
      "needs_background": "light"
     },
     "output_type": "display_data"
    },
    {
     "data": {
      "image/png": "[encoded data removed]",
      "text/plain": [
       "<Figure size 1296x432 with 2 Axes>"
      ]
     },
     "metadata": {
      "needs_background": "light"
     },
     "output_type": "display_data"
    },
    {
     "data": {
      "image/png": "[encoded data removed]",
      "text/plain": [
       "<Figure size 1296x432 with 2 Axes>"
      ]
     },
     "metadata": {
      "needs_background": "light"
     },
     "output_type": "display_data"
    }
   ],
   "source": [
    "# Построим гистограммы использованных минут, смс и интернет-траффика для каждого тарифа:\n",
    "hist_columns = ['calls_duration', 'messages_count', 'gb_used']\n",
    "for column in hist_columns:\n",
    "    fig, axes = plt.subplots(1,2, figsize=(18,6))\n",
    "    smart_users_stat.plot(y=column, title=column+' (smart)', kind='hist', grid = True, bins=100, ax=axes[0])\n",
    "    ultra_users_stat.plot(y=column, title=column+' (ultra)', kind='hist', grid = True, bins=100, ax=axes[1])"
   ]
  },
  {
   "cell_type": "markdown",
   "metadata": {},
   "source": [
    "**Распределения потраченных минут, сообщений и ГБ:**\n",
    "- Распределение минут в тарифе \"Smart\" ассиметричное, со смещением влево. Это также подверждается тем, что медаина у этого значения больше среднего.\n",
    "- Распределение минут в тарифе \"Ultra\" также ассиметричное, но со смещением вправо (медиана меньше среднего).\n",
    "- Распределение сообщений в тарифах \"Smart\" и \"Ultra\" ассиметричное, со смещением вправо (медиана отправленных сообщений в обоих тарифах меньше среднего).\n",
    "- Распределение потраченных ГБ  в тарифах \"Smart\" и \"Ultra\" практически симметричное, в обоих тарифах медиана почти равна среднему."
   ]
  },
  {
   "cell_type": "markdown",
   "metadata": {},
   "source": [
    "## Проверка гипотез"
   ]
  },
  {
   "cell_type": "markdown",
   "metadata": {},
   "source": [
    "### Гипотеза \"Средняя выручка пользователей тарифов «Ультра» и «Смарт» различаются\""
   ]
  },
  {
   "cell_type": "markdown",
   "metadata": {},
   "source": [
    "Для сравнения средней выручки пользователей тарифов «Ультра» и «Смарт» сформулируем гипотезы:\n",
    "- Нулевую: Cредняя выручка пользователей тарифов «Ультра» и «Смарт» равна.\n",
    "- Альтернативную: Средняя выручка пользователей тарифов «Ультра» и «Смарт» различаются."
   ]
  },
  {
   "cell_type": "code",
   "execution_count": 27,
   "metadata": {
    "scrolled": true
   },
   "outputs": [
    {
     "data": {
      "text/plain": [
       "'p-значение:'"
      ]
     },
     "metadata": {},
     "output_type": "display_data"
    },
    {
     "data": {
      "text/plain": [
       "6.3377513490750985e-158"
      ]
     },
     "metadata": {},
     "output_type": "display_data"
    },
    {
     "data": {
      "text/plain": [
       "'Не получилось отвергнуть альтернативную гипотезу \"Cредняя выручка пользователей тарифов «Ультра» и «Смарт» различаются\"'"
      ]
     },
     "metadata": {},
     "output_type": "display_data"
    }
   ],
   "source": [
    "# Для проверки гипотезы используем двухсторонний тест для двух выборок.\n",
    "# В поставленной задаче требуется проверить альтернативную гипотезу, \n",
    "# поэтому вывод функции построим с учетом проверки альтернативной гипотезы.\n",
    "\n",
    "# В наших выборках более 3000 значений, выборку можно считать большой, критический уровень статистической значимости примем 0.01\n",
    "alpha = 0.01\n",
    "# если p-value окажется больше или равно нему - отвергнем гипотезу\n",
    "\n",
    "results_1 = st.ttest_ind(smart_users_stat['monthly_revenue'], ultra_users_stat['monthly_revenue'], equal_var = True)\n",
    "\n",
    "display('p-значение:', results_1.pvalue)\n",
    "\n",
    "if results_1.pvalue < alpha:\n",
    "    display('Не получилось отвергнуть альтернативную гипотезу \"Cредняя выручка пользователей тарифов «Ультра» и «Смарт» различаются\"')\n",
    "else:\n",
    "    display('Отвергаем альтернативную гипотезу \"Cредняя выручка пользователей тарифов «Ультра» и «Смарт» различаются\"')"
   ]
  },
  {
   "cell_type": "markdown",
   "metadata": {},
   "source": [
    "**В рамках исследования, гипотезу \"Средняя выручка пользователей тарифов «Ультра» и «Смарт» различаются\" отвергнуть не удалось.**"
   ]
  },
  {
   "cell_type": "markdown",
   "metadata": {},
   "source": [
    "### Гипотеза \"Средняя выручка пользователей из Москвы отличается от выручки пользователей из других регионов\""
   ]
  },
  {
   "cell_type": "markdown",
   "metadata": {},
   "source": [
    "Для сравнения средней выручки пользователей из Москвы и регионов сформулируем гипотезы:\n",
    "- Нулевую: Средняя выручка пользователей из Москвы и пользователей из других регионов равна.\n",
    "- Альтернативную: Средняя выручка пользователей из Москвы и пользователей из других регионов различается."
   ]
  },
  {
   "cell_type": "code",
   "execution_count": 28,
   "metadata": {},
   "outputs": [
    {
     "data": {
      "text/plain": [
       "'p-значение:'"
      ]
     },
     "metadata": {},
     "output_type": "display_data"
    },
    {
     "data": {
      "text/plain": [
       "0.5350207209820983"
      ]
     },
     "metadata": {},
     "output_type": "display_data"
    },
    {
     "data": {
      "text/plain": [
       "'Отвергаем альтернативную гипотезу \"Средняя выручка пользователей из Москвы отличается от выручки пользователей из других регионов\"'"
      ]
     },
     "metadata": {},
     "output_type": "display_data"
    }
   ],
   "source": [
    "# Создадим 2 датафрейма с данными абонентов из Москвы и данными абонентов из других городов:\n",
    "moscow_users_stats = all_users_stat.query('city == \"Москва\"')\n",
    "other_cities_users_stats = all_users_stat.query('city != \"Москва\"')\n",
    "\n",
    "# Для проверки гипотезы используем двухсторонний тест для двух выборок.\n",
    "# В поставленной задаче требуется проверить альтернативную гипотезу, \n",
    "# поэтому вывод функции построим с учетом проверки альтернативной гипотезы.\n",
    "\n",
    "# В наших выборках более 3000 значений, выборку можно считать большой, критический уровень статистической значимости примем 0.01\n",
    "alpha = 0.01  # критический уровень статистической значимости\n",
    "# если p-value окажется больше или равно нему - отвергнем гипотезу\n",
    "\n",
    "results_2 = st.ttest_ind(moscow_users_stats['monthly_revenue'], other_cities_users_stats['monthly_revenue'], equal_var = True)\n",
    "\n",
    "display('p-значение:', results_2.pvalue)\n",
    "\n",
    "if results_2.pvalue < alpha:\n",
    "    display('Не получилось отвергнуть альтернативную гипотезу \"выручка пользователей из Москвы отличается от выручки пользователей из других регионов\"')\n",
    "else:\n",
    "    display('Отвергаем альтернативную гипотезу \"Средняя выручка пользователей из Москвы отличается от выручки пользователей из других регионов\"')\n"
   ]
  },
  {
   "cell_type": "markdown",
   "metadata": {},
   "source": [
    "**В рамках исследования, гипотезу \"Средняя выручка пользователей из Москвы отличается от выручки пользователей из других регионов\" отвергаем.**"
   ]
  },
  {
   "cell_type": "markdown",
   "metadata": {},
   "source": [
    "## Общий вывод"
   ]
  },
  {
   "cell_type": "markdown",
   "metadata": {},
   "source": [
    "- Абоненты тарифа \"Ультра\" разговаривают, пишут сообщений и тратят интернет-траффика больше абонентов тарифа \"Смарт\".\n",
    "- Абонентам тарифа \"Смарт\" часто не хватает бесплатного лимита минут, смс и ГБ - средние траты пользователей этого тарифа в месяц - 1295 руб., медианные - 1038 руб. (при ежемесячной абонентской плате 550 руб.)\n",
    "- Абоненты тарифа \"Ультра\" по большей части укладываются в бесплатный лимит. Средние траты в месяц по тарифу 2071 руб., а медианные равны абонентской плате 1950 руб.\n",
    "- Сравнение средних и медианных трат абонентов показывает что абоненты тарифа \"Ультра\" тратят больше денег, чем абоненты тарифа \"Смарт\". Также гипотезу \"Средняя выручка пользователей тарифов «Ультра» и «Смарт» различаются\" опровергнуть не удалось. \n",
    "- Гипотезу \"Средняя выручка пользователей из Москвы отличается от выручки пользователей из других регионов\" отвергаем - с 54% вероятностью такое или большее различие можно получить случайно."
   ]
  }
 ],
 "metadata": {
  "ExecuteTimeLog": [
   {
    "duration": 601,
    "start_time": "2021-10-17T14:12:25.606Z"
   },
   {
    "duration": 455,
    "start_time": "2021-10-17T14:18:27.281Z"
   },
   {
    "duration": 813,
    "start_time": "2021-10-17T14:20:17.016Z"
   },
   {
    "duration": 1040,
    "start_time": "2021-10-17T14:25:38.959Z"
   },
   {
    "duration": 78,
    "start_time": "2021-10-17T14:25:40.001Z"
   },
   {
    "duration": 58,
    "start_time": "2021-10-17T14:25:40.081Z"
   },
   {
    "duration": 56,
    "start_time": "2021-10-17T14:25:40.141Z"
   },
   {
    "duration": 36,
    "start_time": "2021-10-17T14:25:40.198Z"
   },
   {
    "duration": 27,
    "start_time": "2021-10-17T14:25:40.264Z"
   },
   {
    "duration": 7,
    "start_time": "2021-10-17T14:34:49.652Z"
   },
   {
    "duration": 331,
    "start_time": "2021-10-17T15:38:20.968Z"
   },
   {
    "duration": 6,
    "start_time": "2021-10-17T15:48:59.546Z"
   },
   {
    "duration": -910,
    "start_time": "2021-10-17T15:52:48.572Z"
   },
   {
    "duration": 10,
    "start_time": "2021-10-17T15:52:51.141Z"
   },
   {
    "duration": 36,
    "start_time": "2021-10-17T15:58:37.434Z"
   },
   {
    "duration": 29,
    "start_time": "2021-10-17T15:58:58.280Z"
   },
   {
    "duration": 39,
    "start_time": "2021-10-17T16:00:09.708Z"
   },
   {
    "duration": 35,
    "start_time": "2021-10-17T16:01:48.476Z"
   },
   {
    "duration": 18,
    "start_time": "2021-10-17T16:04:40.221Z"
   },
   {
    "duration": 55,
    "start_time": "2021-10-17T16:12:03.719Z"
   },
   {
    "duration": 82,
    "start_time": "2021-10-17T16:22:35.664Z"
   },
   {
    "duration": 83,
    "start_time": "2021-10-17T16:22:43.046Z"
   },
   {
    "duration": 235,
    "start_time": "2021-10-17T16:22:47.387Z"
   },
   {
    "duration": 3,
    "start_time": "2021-10-17T16:22:59.875Z"
   },
   {
    "duration": 365,
    "start_time": "2021-10-17T16:23:00.808Z"
   },
   {
    "duration": 30,
    "start_time": "2021-10-17T16:26:14.167Z"
   },
   {
    "duration": 1126,
    "start_time": "2021-10-17T16:26:25.405Z"
   },
   {
    "duration": 1032,
    "start_time": "2021-10-17T16:26:47.697Z"
   },
   {
    "duration": 80,
    "start_time": "2021-10-17T16:26:48.731Z"
   },
   {
    "duration": 91,
    "start_time": "2021-10-17T16:26:48.813Z"
   },
   {
    "duration": 3,
    "start_time": "2021-10-17T16:26:48.906Z"
   },
   {
    "duration": 85,
    "start_time": "2021-10-17T16:26:48.910Z"
   },
   {
    "duration": 82,
    "start_time": "2021-10-17T16:26:48.997Z"
   },
   {
    "duration": 39,
    "start_time": "2021-10-17T16:26:49.082Z"
   },
   {
    "duration": 69,
    "start_time": "2021-10-17T16:26:49.125Z"
   },
   {
    "duration": 33,
    "start_time": "2021-10-17T16:26:49.196Z"
   },
   {
    "duration": 64,
    "start_time": "2021-10-17T16:26:49.231Z"
   },
   {
    "duration": 6585,
    "start_time": "2021-10-17T16:26:49.297Z"
   },
   {
    "duration": -832,
    "start_time": "2021-10-17T16:26:56.716Z"
   },
   {
    "duration": -833,
    "start_time": "2021-10-17T16:26:56.718Z"
   },
   {
    "duration": -834,
    "start_time": "2021-10-17T16:26:56.720Z"
   },
   {
    "duration": 988,
    "start_time": "2021-10-17T17:50:46.496Z"
   },
   {
    "duration": 75,
    "start_time": "2021-10-17T17:50:47.486Z"
   },
   {
    "duration": 133,
    "start_time": "2021-10-17T17:50:47.563Z"
   },
   {
    "duration": 74,
    "start_time": "2021-10-17T17:50:47.698Z"
   },
   {
    "duration": 38,
    "start_time": "2021-10-17T17:50:47.773Z"
   },
   {
    "duration": 64,
    "start_time": "2021-10-17T17:50:47.813Z"
   },
   {
    "duration": 30,
    "start_time": "2021-10-17T17:50:47.878Z"
   },
   {
    "duration": 57,
    "start_time": "2021-10-17T17:50:47.910Z"
   },
   {
    "duration": 5954,
    "start_time": "2021-10-17T17:50:47.969Z"
   },
   {
    "duration": -234,
    "start_time": "2021-10-17T17:50:54.159Z"
   },
   {
    "duration": -237,
    "start_time": "2021-10-17T17:50:54.163Z"
   },
   {
    "duration": -239,
    "start_time": "2021-10-17T17:50:54.166Z"
   },
   {
    "duration": 73,
    "start_time": "2021-10-17T17:54:40.989Z"
   },
   {
    "duration": 59,
    "start_time": "2021-10-17T17:56:54.645Z"
   },
   {
    "duration": 1055,
    "start_time": "2021-10-17T17:58:42.226Z"
   },
   {
    "duration": 75,
    "start_time": "2021-10-17T17:58:43.284Z"
   },
   {
    "duration": 163,
    "start_time": "2021-10-17T17:58:43.361Z"
   },
   {
    "duration": 71,
    "start_time": "2021-10-17T17:58:43.526Z"
   },
   {
    "duration": 105,
    "start_time": "2021-10-17T17:58:43.599Z"
   },
   {
    "duration": 59,
    "start_time": "2021-10-17T17:58:43.706Z"
   },
   {
    "duration": 73,
    "start_time": "2021-10-17T17:58:43.767Z"
   },
   {
    "duration": 51,
    "start_time": "2021-10-17T17:58:43.842Z"
   },
   {
    "duration": 26,
    "start_time": "2021-10-17T17:58:43.896Z"
   },
   {
    "duration": 41,
    "start_time": "2021-10-17T17:58:43.924Z"
   },
   {
    "duration": 19,
    "start_time": "2021-10-17T17:58:43.967Z"
   },
   {
    "duration": 7,
    "start_time": "2021-10-17T18:06:51.590Z"
   },
   {
    "duration": 1042,
    "start_time": "2021-10-17T18:07:17.234Z"
   },
   {
    "duration": 80,
    "start_time": "2021-10-17T18:07:18.278Z"
   },
   {
    "duration": 65,
    "start_time": "2021-10-17T18:07:18.360Z"
   },
   {
    "duration": 65,
    "start_time": "2021-10-17T18:07:18.427Z"
   },
   {
    "duration": 73,
    "start_time": "2021-10-17T18:07:18.494Z"
   },
   {
    "duration": 29,
    "start_time": "2021-10-17T18:07:18.570Z"
   },
   {
    "duration": 7,
    "start_time": "2021-10-17T18:07:18.600Z"
   },
   {
    "duration": 3,
    "start_time": "2021-10-17T18:07:18.609Z"
   },
   {
    "duration": 156,
    "start_time": "2021-10-17T18:07:18.614Z"
   },
   {
    "duration": 99,
    "start_time": "2021-10-17T18:07:18.771Z"
   },
   {
    "duration": 73,
    "start_time": "2021-10-17T18:07:18.872Z"
   },
   {
    "duration": 32,
    "start_time": "2021-10-17T18:07:18.947Z"
   },
   {
    "duration": 305,
    "start_time": "2021-10-17T18:15:09.625Z"
   },
   {
    "duration": 5,
    "start_time": "2021-10-17T18:15:19.293Z"
   },
   {
    "duration": 1053,
    "start_time": "2021-10-17T18:15:39.422Z"
   },
   {
    "duration": 78,
    "start_time": "2021-10-17T18:15:40.477Z"
   },
   {
    "duration": 66,
    "start_time": "2021-10-17T18:15:40.557Z"
   },
   {
    "duration": 59,
    "start_time": "2021-10-17T18:15:40.625Z"
   },
   {
    "duration": 39,
    "start_time": "2021-10-17T18:15:40.686Z"
   },
   {
    "duration": 57,
    "start_time": "2021-10-17T18:15:40.727Z"
   },
   {
    "duration": 7,
    "start_time": "2021-10-17T18:15:40.786Z"
   },
   {
    "duration": 3,
    "start_time": "2021-10-17T18:15:40.795Z"
   },
   {
    "duration": 149,
    "start_time": "2021-10-17T18:15:40.799Z"
   },
   {
    "duration": 4,
    "start_time": "2021-10-17T18:15:40.950Z"
   },
   {
    "duration": 100,
    "start_time": "2021-10-17T18:15:40.963Z"
   },
   {
    "duration": 72,
    "start_time": "2021-10-17T18:15:41.065Z"
   },
   {
    "duration": 39,
    "start_time": "2021-10-17T18:15:41.139Z"
   },
   {
    "duration": 41,
    "start_time": "2021-10-17T18:15:51.630Z"
   },
   {
    "duration": 81,
    "start_time": "2021-10-17T18:25:10.671Z"
   },
   {
    "duration": 27,
    "start_time": "2021-10-17T18:25:19.485Z"
   },
   {
    "duration": 6140,
    "start_time": "2021-10-17T18:25:44.698Z"
   },
   {
    "duration": 353,
    "start_time": "2021-10-17T18:26:00.257Z"
   },
   {
    "duration": 55,
    "start_time": "2021-10-17T18:29:23.954Z"
   },
   {
    "duration": 55,
    "start_time": "2021-10-17T18:41:46.763Z"
   },
   {
    "duration": 1057,
    "start_time": "2021-10-17T18:41:57.362Z"
   },
   {
    "duration": 78,
    "start_time": "2021-10-17T18:41:58.421Z"
   },
   {
    "duration": 69,
    "start_time": "2021-10-17T18:41:58.502Z"
   },
   {
    "duration": 40,
    "start_time": "2021-10-17T18:41:58.574Z"
   },
   {
    "duration": 63,
    "start_time": "2021-10-17T18:41:58.616Z"
   },
   {
    "duration": 27,
    "start_time": "2021-10-17T18:41:58.681Z"
   },
   {
    "duration": 8,
    "start_time": "2021-10-17T18:41:58.710Z"
   },
   {
    "duration": 3,
    "start_time": "2021-10-17T18:41:58.722Z"
   },
   {
    "duration": 158,
    "start_time": "2021-10-17T18:41:58.727Z"
   },
   {
    "duration": 43,
    "start_time": "2021-10-17T18:41:58.887Z"
   },
   {
    "duration": 110,
    "start_time": "2021-10-17T18:41:58.932Z"
   },
   {
    "duration": 81,
    "start_time": "2021-10-17T18:41:59.044Z"
   },
   {
    "duration": 20,
    "start_time": "2021-10-17T18:41:59.127Z"
   },
   {
    "duration": 83,
    "start_time": "2021-10-17T18:44:07.087Z"
   },
   {
    "duration": 341,
    "start_time": "2021-10-17T18:44:23.410Z"
   },
   {
    "duration": 83,
    "start_time": "2021-10-17T18:44:31.233Z"
   },
   {
    "duration": 56,
    "start_time": "2021-10-17T18:45:16.703Z"
   },
   {
    "duration": 289,
    "start_time": "2021-10-17T18:45:46.980Z"
   },
   {
    "duration": 70,
    "start_time": "2021-10-17T18:47:45.363Z"
   },
   {
    "duration": 77,
    "start_time": "2021-10-17T18:56:06.101Z"
   },
   {
    "duration": 232,
    "start_time": "2021-10-17T18:56:11.174Z"
   },
   {
    "duration": 238,
    "start_time": "2021-10-17T18:56:24.574Z"
   },
   {
    "duration": 409,
    "start_time": "2021-10-17T18:56:27.801Z"
   },
   {
    "duration": 33,
    "start_time": "2021-10-17T18:56:39.490Z"
   },
   {
    "duration": 738,
    "start_time": "2021-10-17T18:58:28.067Z"
   },
   {
    "duration": 34,
    "start_time": "2021-10-17T18:58:34.311Z"
   },
   {
    "duration": 35,
    "start_time": "2021-10-17T18:58:52.569Z"
   },
   {
    "duration": 34,
    "start_time": "2021-10-17T19:02:10.192Z"
   },
   {
    "duration": 258,
    "start_time": "2021-10-17T19:04:00.647Z"
   },
   {
    "duration": 242,
    "start_time": "2021-10-17T19:05:02.437Z"
   },
   {
    "duration": 261,
    "start_time": "2021-10-17T19:05:23.077Z"
   },
   {
    "duration": 37,
    "start_time": "2021-10-17T19:07:06.042Z"
   },
   {
    "duration": 35,
    "start_time": "2021-10-17T19:13:04.922Z"
   },
   {
    "duration": 239,
    "start_time": "2021-10-17T19:13:28.379Z"
   },
   {
    "duration": 266,
    "start_time": "2021-10-17T19:13:36.942Z"
   },
   {
    "duration": 248,
    "start_time": "2021-10-17T19:13:44.939Z"
   },
   {
    "duration": 74,
    "start_time": "2021-10-17T19:13:46.042Z"
   },
   {
    "duration": 63,
    "start_time": "2021-10-17T19:13:47.030Z"
   },
   {
    "duration": 18,
    "start_time": "2021-10-17T19:13:47.673Z"
   },
   {
    "duration": 34,
    "start_time": "2021-10-17T19:14:01.928Z"
   },
   {
    "duration": 248,
    "start_time": "2021-10-17T19:14:19.535Z"
   },
   {
    "duration": 35,
    "start_time": "2021-10-17T19:15:05.569Z"
   },
   {
    "duration": 1015,
    "start_time": "2021-10-17T19:16:19.178Z"
   },
   {
    "duration": 76,
    "start_time": "2021-10-17T19:16:20.195Z"
   },
   {
    "duration": 63,
    "start_time": "2021-10-17T19:16:20.273Z"
   },
   {
    "duration": 58,
    "start_time": "2021-10-17T19:16:20.338Z"
   },
   {
    "duration": 38,
    "start_time": "2021-10-17T19:16:20.398Z"
   },
   {
    "duration": 30,
    "start_time": "2021-10-17T19:16:20.463Z"
   },
   {
    "duration": 7,
    "start_time": "2021-10-17T19:16:20.495Z"
   },
   {
    "duration": 6,
    "start_time": "2021-10-17T19:16:20.504Z"
   },
   {
    "duration": 157,
    "start_time": "2021-10-17T19:16:20.511Z"
   },
   {
    "duration": 31,
    "start_time": "2021-10-17T19:16:20.670Z"
   },
   {
    "duration": 307,
    "start_time": "2021-10-17T19:16:20.702Z"
   },
   {
    "duration": -44,
    "start_time": "2021-10-17T19:16:21.055Z"
   },
   {
    "duration": -47,
    "start_time": "2021-10-17T19:16:21.059Z"
   },
   {
    "duration": -53,
    "start_time": "2021-10-17T19:16:21.066Z"
   },
   {
    "duration": 108,
    "start_time": "2021-10-17T19:24:08.852Z"
   },
   {
    "duration": 114,
    "start_time": "2021-10-17T19:24:27.267Z"
   },
   {
    "duration": 99,
    "start_time": "2021-10-17T19:24:38.259Z"
   },
   {
    "duration": 97,
    "start_time": "2021-10-17T19:24:48.577Z"
   },
   {
    "duration": 294,
    "start_time": "2021-10-17T19:25:51.364Z"
   },
   {
    "duration": 50,
    "start_time": "2021-10-17T19:30:57.022Z"
   },
   {
    "duration": 57,
    "start_time": "2021-10-17T19:31:35.631Z"
   },
   {
    "duration": 58,
    "start_time": "2021-10-17T19:33:13.432Z"
   },
   {
    "duration": 58,
    "start_time": "2021-10-17T19:33:40.465Z"
   },
   {
    "duration": 57,
    "start_time": "2021-10-17T19:34:00.905Z"
   },
   {
    "duration": 88,
    "start_time": "2021-10-17T19:36:16.379Z"
   },
   {
    "duration": 239,
    "start_time": "2021-10-17T19:39:08.488Z"
   },
   {
    "duration": 1239,
    "start_time": "2021-10-17T19:39:23.806Z"
   },
   {
    "duration": 77,
    "start_time": "2021-10-17T19:39:25.048Z"
   },
   {
    "duration": 82,
    "start_time": "2021-10-17T19:39:25.127Z"
   },
   {
    "duration": 65,
    "start_time": "2021-10-17T19:39:25.211Z"
   },
   {
    "duration": 36,
    "start_time": "2021-10-17T19:39:25.277Z"
   },
   {
    "duration": 50,
    "start_time": "2021-10-17T19:39:25.315Z"
   },
   {
    "duration": 9,
    "start_time": "2021-10-17T19:39:25.367Z"
   },
   {
    "duration": 4,
    "start_time": "2021-10-17T19:39:25.379Z"
   },
   {
    "duration": 158,
    "start_time": "2021-10-17T19:39:25.385Z"
   },
   {
    "duration": 68,
    "start_time": "2021-10-17T19:39:25.544Z"
   },
   {
    "duration": 332,
    "start_time": "2021-10-17T19:39:25.613Z"
   },
   {
    "duration": -610,
    "start_time": "2021-10-17T19:39:26.557Z"
   },
   {
    "duration": -612,
    "start_time": "2021-10-17T19:39:26.560Z"
   },
   {
    "duration": 269,
    "start_time": "2021-10-17T19:39:52.015Z"
   },
   {
    "duration": 83,
    "start_time": "2021-10-17T19:40:03.647Z"
   },
   {
    "duration": 239,
    "start_time": "2021-10-17T19:42:04.432Z"
   },
   {
    "duration": 73,
    "start_time": "2021-10-17T19:42:09.829Z"
   },
   {
    "duration": 78,
    "start_time": "2021-10-17T19:42:15.364Z"
   },
   {
    "duration": 75,
    "start_time": "2021-10-17T19:42:19.809Z"
   },
   {
    "duration": 74,
    "start_time": "2021-10-17T19:42:29.396Z"
   },
   {
    "duration": 80,
    "start_time": "2021-10-17T19:42:41.105Z"
   },
   {
    "duration": 243,
    "start_time": "2021-10-17T19:42:51.782Z"
   },
   {
    "duration": 249,
    "start_time": "2021-10-17T19:43:04.451Z"
   },
   {
    "duration": 246,
    "start_time": "2021-10-17T19:44:48.402Z"
   },
   {
    "duration": 243,
    "start_time": "2021-10-17T19:45:28.183Z"
   },
   {
    "duration": 76,
    "start_time": "2021-10-17T19:46:03.060Z"
   },
   {
    "duration": 986,
    "start_time": "2021-10-17T19:46:17.800Z"
   },
   {
    "duration": 77,
    "start_time": "2021-10-17T19:46:18.788Z"
   },
   {
    "duration": 60,
    "start_time": "2021-10-17T19:46:18.868Z"
   },
   {
    "duration": 63,
    "start_time": "2021-10-17T19:46:18.930Z"
   },
   {
    "duration": 37,
    "start_time": "2021-10-17T19:46:18.995Z"
   },
   {
    "duration": 52,
    "start_time": "2021-10-17T19:46:19.034Z"
   },
   {
    "duration": 7,
    "start_time": "2021-10-17T19:46:19.088Z"
   },
   {
    "duration": 4,
    "start_time": "2021-10-17T19:46:19.096Z"
   },
   {
    "duration": 156,
    "start_time": "2021-10-17T19:46:19.102Z"
   },
   {
    "duration": 62,
    "start_time": "2021-10-17T19:46:19.260Z"
   },
   {
    "duration": 109,
    "start_time": "2021-10-17T19:46:19.323Z"
   },
   {
    "duration": 77,
    "start_time": "2021-10-17T19:46:19.434Z"
   },
   {
    "duration": 17,
    "start_time": "2021-10-17T19:46:19.513Z"
   },
   {
    "duration": 74,
    "start_time": "2021-10-17T19:46:40.514Z"
   },
   {
    "duration": 74,
    "start_time": "2021-10-17T19:46:49.499Z"
   },
   {
    "duration": 78,
    "start_time": "2021-10-17T19:48:47.544Z"
   },
   {
    "duration": 77,
    "start_time": "2021-10-17T19:54:31.094Z"
   },
   {
    "duration": 77,
    "start_time": "2021-10-17T19:54:54.358Z"
   },
   {
    "duration": 82,
    "start_time": "2021-10-17T19:55:09.411Z"
   },
   {
    "duration": 77,
    "start_time": "2021-10-17T19:55:17.143Z"
   },
   {
    "duration": 72,
    "start_time": "2021-10-17T19:55:21.560Z"
   },
   {
    "duration": 74,
    "start_time": "2021-10-17T19:56:18.504Z"
   },
   {
    "duration": 76,
    "start_time": "2021-10-17T19:56:24.587Z"
   },
   {
    "duration": 1004,
    "start_time": "2021-10-17T19:57:08.419Z"
   },
   {
    "duration": 75,
    "start_time": "2021-10-17T19:57:09.425Z"
   },
   {
    "duration": 77,
    "start_time": "2021-10-17T19:57:09.502Z"
   },
   {
    "duration": 42,
    "start_time": "2021-10-17T19:57:09.581Z"
   },
   {
    "duration": 59,
    "start_time": "2021-10-17T19:57:09.625Z"
   },
   {
    "duration": 25,
    "start_time": "2021-10-17T19:57:09.686Z"
   },
   {
    "duration": 6,
    "start_time": "2021-10-17T19:57:09.713Z"
   },
   {
    "duration": 4,
    "start_time": "2021-10-17T19:57:09.720Z"
   },
   {
    "duration": 163,
    "start_time": "2021-10-17T19:57:09.726Z"
   },
   {
    "duration": 54,
    "start_time": "2021-10-17T19:57:09.890Z"
   },
   {
    "duration": 116,
    "start_time": "2021-10-17T19:57:09.946Z"
   },
   {
    "duration": 76,
    "start_time": "2021-10-17T19:57:10.064Z"
   },
   {
    "duration": -94,
    "start_time": "2021-10-17T19:57:10.236Z"
   },
   {
    "duration": -95,
    "start_time": "2021-10-17T19:57:10.238Z"
   },
   {
    "duration": 1027,
    "start_time": "2021-10-17T19:57:49.649Z"
   },
   {
    "duration": 74,
    "start_time": "2021-10-17T19:57:50.679Z"
   },
   {
    "duration": 65,
    "start_time": "2021-10-17T19:57:50.755Z"
   },
   {
    "duration": 61,
    "start_time": "2021-10-17T19:57:50.822Z"
   },
   {
    "duration": 39,
    "start_time": "2021-10-17T19:57:50.884Z"
   },
   {
    "duration": 53,
    "start_time": "2021-10-17T19:57:50.925Z"
   },
   {
    "duration": 7,
    "start_time": "2021-10-17T19:57:50.979Z"
   },
   {
    "duration": 4,
    "start_time": "2021-10-17T19:57:50.988Z"
   },
   {
    "duration": 151,
    "start_time": "2021-10-17T19:57:50.993Z"
   },
   {
    "duration": 61,
    "start_time": "2021-10-17T19:57:51.146Z"
   },
   {
    "duration": 100,
    "start_time": "2021-10-17T19:57:51.208Z"
   },
   {
    "duration": 81,
    "start_time": "2021-10-17T19:57:51.310Z"
   },
   {
    "duration": -46,
    "start_time": "2021-10-17T19:57:51.439Z"
   },
   {
    "duration": -47,
    "start_time": "2021-10-17T19:57:51.441Z"
   },
   {
    "duration": 1002,
    "start_time": "2021-10-17T19:58:21.492Z"
   },
   {
    "duration": 79,
    "start_time": "2021-10-17T19:58:22.496Z"
   },
   {
    "duration": 62,
    "start_time": "2021-10-17T19:58:22.577Z"
   },
   {
    "duration": 58,
    "start_time": "2021-10-17T19:58:22.641Z"
   },
   {
    "duration": 37,
    "start_time": "2021-10-17T19:58:22.701Z"
   },
   {
    "duration": 28,
    "start_time": "2021-10-17T19:58:22.764Z"
   },
   {
    "duration": 6,
    "start_time": "2021-10-17T19:58:22.794Z"
   },
   {
    "duration": 16,
    "start_time": "2021-10-17T19:58:22.803Z"
   },
   {
    "duration": 144,
    "start_time": "2021-10-17T19:58:22.821Z"
   },
   {
    "duration": 55,
    "start_time": "2021-10-17T19:58:22.967Z"
   },
   {
    "duration": 114,
    "start_time": "2021-10-17T19:58:23.024Z"
   },
   {
    "duration": 77,
    "start_time": "2021-10-17T19:58:23.140Z"
   },
   {
    "duration": -69,
    "start_time": "2021-10-17T19:58:23.289Z"
   },
   {
    "duration": -70,
    "start_time": "2021-10-17T19:58:23.291Z"
   },
   {
    "duration": 1038,
    "start_time": "2021-10-17T19:59:42.249Z"
   },
   {
    "duration": 75,
    "start_time": "2021-10-17T19:59:43.289Z"
   },
   {
    "duration": 61,
    "start_time": "2021-10-17T19:59:43.366Z"
   },
   {
    "duration": 62,
    "start_time": "2021-10-17T19:59:43.429Z"
   },
   {
    "duration": 38,
    "start_time": "2021-10-17T19:59:43.492Z"
   },
   {
    "duration": 57,
    "start_time": "2021-10-17T19:59:43.532Z"
   },
   {
    "duration": 6,
    "start_time": "2021-10-17T19:59:43.591Z"
   },
   {
    "duration": 6,
    "start_time": "2021-10-17T19:59:43.599Z"
   },
   {
    "duration": 151,
    "start_time": "2021-10-17T19:59:43.607Z"
   },
   {
    "duration": 56,
    "start_time": "2021-10-17T19:59:43.763Z"
   },
   {
    "duration": 109,
    "start_time": "2021-10-17T19:59:43.821Z"
   },
   {
    "duration": 79,
    "start_time": "2021-10-17T19:59:43.931Z"
   },
   {
    "duration": -96,
    "start_time": "2021-10-17T19:59:44.108Z"
   },
   {
    "duration": -97,
    "start_time": "2021-10-17T19:59:44.110Z"
   },
   {
    "duration": 317,
    "start_time": "2021-10-17T20:01:27.285Z"
   },
   {
    "duration": 82,
    "start_time": "2021-10-17T20:01:47.676Z"
   },
   {
    "duration": 26,
    "start_time": "2021-10-17T20:01:51.378Z"
   },
   {
    "duration": 29,
    "start_time": "2021-10-17T20:04:31.343Z"
   },
   {
    "duration": 1039,
    "start_time": "2021-10-17T20:05:07.524Z"
   },
   {
    "duration": 117,
    "start_time": "2021-10-17T20:05:08.566Z"
   },
   {
    "duration": 81,
    "start_time": "2021-10-17T20:05:08.685Z"
   },
   {
    "duration": 46,
    "start_time": "2021-10-17T20:05:08.769Z"
   },
   {
    "duration": 65,
    "start_time": "2021-10-17T20:05:08.816Z"
   },
   {
    "duration": 28,
    "start_time": "2021-10-17T20:05:08.883Z"
   },
   {
    "duration": 6,
    "start_time": "2021-10-17T20:05:08.913Z"
   },
   {
    "duration": 3,
    "start_time": "2021-10-17T20:05:08.921Z"
   },
   {
    "duration": 164,
    "start_time": "2021-10-17T20:05:08.926Z"
   },
   {
    "duration": 52,
    "start_time": "2021-10-17T20:05:09.092Z"
   },
   {
    "duration": 104,
    "start_time": "2021-10-17T20:05:09.145Z"
   },
   {
    "duration": 29,
    "start_time": "2021-10-17T20:05:09.263Z"
   },
   {
    "duration": 14,
    "start_time": "2021-10-17T20:05:09.294Z"
   },
   {
    "duration": 94,
    "start_time": "2021-10-17T20:05:09.310Z"
   },
   {
    "duration": 20,
    "start_time": "2021-10-17T20:05:09.407Z"
   },
   {
    "duration": 1090,
    "start_time": "2021-10-17T20:09:15.837Z"
   },
   {
    "duration": 77,
    "start_time": "2021-10-17T20:09:16.929Z"
   },
   {
    "duration": 83,
    "start_time": "2021-10-17T20:09:17.009Z"
   },
   {
    "duration": 45,
    "start_time": "2021-10-17T20:09:17.094Z"
   },
   {
    "duration": 59,
    "start_time": "2021-10-17T20:09:17.141Z"
   },
   {
    "duration": 27,
    "start_time": "2021-10-17T20:09:17.202Z"
   },
   {
    "duration": 37,
    "start_time": "2021-10-17T20:09:17.231Z"
   },
   {
    "duration": 4,
    "start_time": "2021-10-17T20:09:17.270Z"
   },
   {
    "duration": 151,
    "start_time": "2021-10-17T20:09:17.276Z"
   },
   {
    "duration": 63,
    "start_time": "2021-10-17T20:09:17.429Z"
   },
   {
    "duration": 102,
    "start_time": "2021-10-17T20:09:17.493Z"
   },
   {
    "duration": 29,
    "start_time": "2021-10-17T20:09:17.596Z"
   },
   {
    "duration": 92,
    "start_time": "2021-10-17T20:09:17.627Z"
   },
   {
    "duration": 29,
    "start_time": "2021-10-17T20:09:17.721Z"
   },
   {
    "duration": 28,
    "start_time": "2021-10-17T20:09:17.751Z"
   },
   {
    "duration": 22,
    "start_time": "2021-10-17T20:17:41.523Z"
   },
   {
    "duration": 28,
    "start_time": "2021-10-17T20:18:00.728Z"
   },
   {
    "duration": 25,
    "start_time": "2021-10-17T20:18:14.656Z"
   },
   {
    "duration": 23,
    "start_time": "2021-10-17T20:18:44.615Z"
   },
   {
    "duration": 36,
    "start_time": "2021-10-17T20:19:21.800Z"
   },
   {
    "duration": 26,
    "start_time": "2021-10-17T20:19:56.661Z"
   },
   {
    "duration": 28,
    "start_time": "2021-10-17T20:20:11.051Z"
   },
   {
    "duration": 15,
    "start_time": "2021-10-17T20:20:13.761Z"
   },
   {
    "duration": 5,
    "start_time": "2021-10-17T20:22:04.476Z"
   },
   {
    "duration": 6,
    "start_time": "2021-10-17T20:22:34.232Z"
   },
   {
    "duration": 5,
    "start_time": "2021-10-17T20:22:40.262Z"
   },
   {
    "duration": 5,
    "start_time": "2021-10-17T20:22:59.399Z"
   },
   {
    "duration": 5,
    "start_time": "2021-10-17T20:23:55.370Z"
   },
   {
    "duration": 6,
    "start_time": "2021-10-17T20:24:12.693Z"
   },
   {
    "duration": 5,
    "start_time": "2021-10-17T20:24:23.224Z"
   },
   {
    "duration": 39,
    "start_time": "2021-10-17T20:24:39.357Z"
   },
   {
    "duration": 10,
    "start_time": "2021-10-17T20:26:49.570Z"
   },
   {
    "duration": 1128,
    "start_time": "2021-10-17T20:29:09.129Z"
   },
   {
    "duration": 78,
    "start_time": "2021-10-17T20:29:10.259Z"
   },
   {
    "duration": 84,
    "start_time": "2021-10-17T20:29:10.339Z"
   },
   {
    "duration": 61,
    "start_time": "2021-10-17T20:29:10.425Z"
   },
   {
    "duration": 38,
    "start_time": "2021-10-17T20:29:10.488Z"
   },
   {
    "duration": 55,
    "start_time": "2021-10-17T20:29:10.528Z"
   },
   {
    "duration": 7,
    "start_time": "2021-10-17T20:29:10.585Z"
   },
   {
    "duration": 3,
    "start_time": "2021-10-17T20:29:10.594Z"
   },
   {
    "duration": 158,
    "start_time": "2021-10-17T20:29:10.598Z"
   },
   {
    "duration": 55,
    "start_time": "2021-10-17T20:29:10.757Z"
   },
   {
    "duration": 106,
    "start_time": "2021-10-17T20:29:10.814Z"
   },
   {
    "duration": 28,
    "start_time": "2021-10-17T20:29:10.921Z"
   },
   {
    "duration": 84,
    "start_time": "2021-10-17T20:29:10.950Z"
   },
   {
    "duration": 60,
    "start_time": "2021-10-17T20:29:11.037Z"
   },
   {
    "duration": 21,
    "start_time": "2021-10-17T20:29:11.099Z"
   },
   {
    "duration": 78,
    "start_time": "2021-10-17T20:29:11.122Z"
   },
   {
    "duration": 311,
    "start_time": "2021-10-17T20:29:11.202Z"
   },
   {
    "duration": -791,
    "start_time": "2021-10-17T20:29:12.307Z"
   },
   {
    "duration": -812,
    "start_time": "2021-10-17T20:29:12.329Z"
   },
   {
    "duration": -813,
    "start_time": "2021-10-17T20:29:12.331Z"
   },
   {
    "duration": 252,
    "start_time": "2021-10-17T20:30:23.613Z"
   },
   {
    "duration": 7,
    "start_time": "2021-10-17T20:30:31.375Z"
   },
   {
    "duration": 1043,
    "start_time": "2021-10-17T20:30:39.441Z"
   },
   {
    "duration": 83,
    "start_time": "2021-10-17T20:30:40.486Z"
   },
   {
    "duration": 66,
    "start_time": "2021-10-17T20:30:40.572Z"
   },
   {
    "duration": 61,
    "start_time": "2021-10-17T20:30:40.641Z"
   },
   {
    "duration": 67,
    "start_time": "2021-10-17T20:30:40.703Z"
   },
   {
    "duration": 27,
    "start_time": "2021-10-17T20:30:40.772Z"
   },
   {
    "duration": 6,
    "start_time": "2021-10-17T20:30:40.801Z"
   },
   {
    "duration": 5,
    "start_time": "2021-10-17T20:30:40.808Z"
   },
   {
    "duration": 166,
    "start_time": "2021-10-17T20:30:40.816Z"
   },
   {
    "duration": 57,
    "start_time": "2021-10-17T20:30:40.984Z"
   },
   {
    "duration": 120,
    "start_time": "2021-10-17T20:30:41.043Z"
   },
   {
    "duration": 30,
    "start_time": "2021-10-17T20:30:41.165Z"
   },
   {
    "duration": 91,
    "start_time": "2021-10-17T20:30:41.197Z"
   },
   {
    "duration": 32,
    "start_time": "2021-10-17T20:30:41.289Z"
   },
   {
    "duration": 18,
    "start_time": "2021-10-17T20:30:41.323Z"
   },
   {
    "duration": 42,
    "start_time": "2021-10-17T20:30:41.364Z"
   },
   {
    "duration": 6,
    "start_time": "2021-10-17T20:30:41.408Z"
   },
   {
    "duration": 7,
    "start_time": "2021-10-17T20:30:41.416Z"
   },
   {
    "duration": 12,
    "start_time": "2021-10-17T20:30:41.425Z"
   },
   {
    "duration": 10,
    "start_time": "2021-10-17T20:30:41.464Z"
   },
   {
    "duration": 24,
    "start_time": "2021-10-17T20:37:46.969Z"
   },
   {
    "duration": 1038,
    "start_time": "2021-10-17T20:38:13.031Z"
   },
   {
    "duration": 78,
    "start_time": "2021-10-17T20:38:14.070Z"
   },
   {
    "duration": 62,
    "start_time": "2021-10-17T20:38:14.163Z"
   },
   {
    "duration": 59,
    "start_time": "2021-10-17T20:38:14.227Z"
   },
   {
    "duration": 38,
    "start_time": "2021-10-17T20:38:14.288Z"
   },
   {
    "duration": 53,
    "start_time": "2021-10-17T20:38:14.328Z"
   },
   {
    "duration": 6,
    "start_time": "2021-10-17T20:38:14.383Z"
   },
   {
    "duration": 3,
    "start_time": "2021-10-17T20:38:14.392Z"
   },
   {
    "duration": 153,
    "start_time": "2021-10-17T20:38:14.397Z"
   },
   {
    "duration": 62,
    "start_time": "2021-10-17T20:38:14.552Z"
   },
   {
    "duration": 100,
    "start_time": "2021-10-17T20:38:14.616Z"
   },
   {
    "duration": 28,
    "start_time": "2021-10-17T20:38:14.718Z"
   },
   {
    "duration": 85,
    "start_time": "2021-10-17T20:38:14.748Z"
   },
   {
    "duration": 45,
    "start_time": "2021-10-17T20:38:14.835Z"
   },
   {
    "duration": 18,
    "start_time": "2021-10-17T20:38:14.882Z"
   },
   {
    "duration": 25,
    "start_time": "2021-10-17T20:38:14.902Z"
   },
   {
    "duration": 44,
    "start_time": "2021-10-17T20:38:14.929Z"
   },
   {
    "duration": 6,
    "start_time": "2021-10-17T20:38:14.975Z"
   },
   {
    "duration": 6,
    "start_time": "2021-10-17T20:38:14.982Z"
   },
   {
    "duration": 10,
    "start_time": "2021-10-17T20:38:14.990Z"
   },
   {
    "duration": 15,
    "start_time": "2021-10-17T20:39:25.532Z"
   },
   {
    "duration": 16,
    "start_time": "2021-10-17T20:39:46.312Z"
   },
   {
    "duration": 16,
    "start_time": "2021-10-17T20:39:58.889Z"
   },
   {
    "duration": 992,
    "start_time": "2021-10-17T20:40:15.902Z"
   },
   {
    "duration": 78,
    "start_time": "2021-10-17T20:40:16.898Z"
   },
   {
    "duration": 89,
    "start_time": "2021-10-17T20:40:16.979Z"
   },
   {
    "duration": 45,
    "start_time": "2021-10-17T20:40:17.070Z"
   },
   {
    "duration": 66,
    "start_time": "2021-10-17T20:40:17.117Z"
   },
   {
    "duration": 30,
    "start_time": "2021-10-17T20:40:17.185Z"
   },
   {
    "duration": 8,
    "start_time": "2021-10-17T20:40:17.218Z"
   },
   {
    "duration": 37,
    "start_time": "2021-10-17T20:40:17.228Z"
   },
   {
    "duration": 141,
    "start_time": "2021-10-17T20:40:17.267Z"
   },
   {
    "duration": 66,
    "start_time": "2021-10-17T20:40:17.410Z"
   },
   {
    "duration": 95,
    "start_time": "2021-10-17T20:40:17.477Z"
   },
   {
    "duration": 27,
    "start_time": "2021-10-17T20:40:17.574Z"
   },
   {
    "duration": 88,
    "start_time": "2021-10-17T20:40:17.603Z"
   },
   {
    "duration": 31,
    "start_time": "2021-10-17T20:40:17.692Z"
   },
   {
    "duration": 17,
    "start_time": "2021-10-17T20:40:17.725Z"
   },
   {
    "duration": 41,
    "start_time": "2021-10-17T20:40:17.743Z"
   },
   {
    "duration": 15,
    "start_time": "2021-10-17T20:40:17.785Z"
   },
   {
    "duration": 15,
    "start_time": "2021-10-17T20:40:17.802Z"
   },
   {
    "duration": 341,
    "start_time": "2021-10-17T20:51:55.510Z"
   },
   {
    "duration": 249,
    "start_time": "2021-10-17T20:52:18.528Z"
   },
   {
    "duration": 638,
    "start_time": "2021-10-17T20:57:32.940Z"
   },
   {
    "duration": 1125,
    "start_time": "2021-10-17T21:16:06.173Z"
   },
   {
    "duration": 277,
    "start_time": "2021-10-18T18:07:26.291Z"
   },
   {
    "duration": 1022,
    "start_time": "2021-10-18T18:07:34.401Z"
   },
   {
    "duration": 84,
    "start_time": "2021-10-18T18:07:35.425Z"
   },
   {
    "duration": 84,
    "start_time": "2021-10-18T18:07:35.511Z"
   },
   {
    "duration": 43,
    "start_time": "2021-10-18T18:07:35.597Z"
   },
   {
    "duration": 58,
    "start_time": "2021-10-18T18:07:35.641Z"
   },
   {
    "duration": 29,
    "start_time": "2021-10-18T18:07:35.701Z"
   },
   {
    "duration": 35,
    "start_time": "2021-10-18T18:07:35.732Z"
   },
   {
    "duration": 3,
    "start_time": "2021-10-18T18:07:35.769Z"
   },
   {
    "duration": 144,
    "start_time": "2021-10-18T18:07:35.775Z"
   },
   {
    "duration": 65,
    "start_time": "2021-10-18T18:07:35.921Z"
   },
   {
    "duration": 99,
    "start_time": "2021-10-18T18:07:35.988Z"
   },
   {
    "duration": 29,
    "start_time": "2021-10-18T18:07:36.089Z"
   },
   {
    "duration": 88,
    "start_time": "2021-10-18T18:07:36.120Z"
   },
   {
    "duration": 28,
    "start_time": "2021-10-18T18:07:36.209Z"
   },
   {
    "duration": 36,
    "start_time": "2021-10-18T18:07:36.239Z"
   },
   {
    "duration": 23,
    "start_time": "2021-10-18T18:07:36.277Z"
   },
   {
    "duration": 15,
    "start_time": "2021-10-18T18:07:36.302Z"
   },
   {
    "duration": 47,
    "start_time": "2021-10-18T18:07:36.318Z"
   },
   {
    "duration": 7159,
    "start_time": "2021-10-18T18:07:36.367Z"
   },
   {
    "duration": -205,
    "start_time": "2021-10-18T18:07:43.733Z"
   },
   {
    "duration": -205,
    "start_time": "2021-10-18T18:07:43.735Z"
   },
   {
    "duration": -206,
    "start_time": "2021-10-18T18:07:43.737Z"
   },
   {
    "duration": -207,
    "start_time": "2021-10-18T18:07:43.739Z"
   },
   {
    "duration": 369,
    "start_time": "2021-10-18T18:12:06.755Z"
   },
   {
    "duration": 416,
    "start_time": "2021-10-18T18:16:38.044Z"
   },
   {
    "duration": 264,
    "start_time": "2021-10-18T18:16:56.900Z"
   },
   {
    "duration": 284,
    "start_time": "2021-10-18T18:19:37.656Z"
   },
   {
    "duration": 288,
    "start_time": "2021-10-18T18:24:07.642Z"
   },
   {
    "duration": 10,
    "start_time": "2021-10-18T18:25:41.239Z"
   },
   {
    "duration": 20,
    "start_time": "2021-10-18T18:30:10.457Z"
   },
   {
    "duration": 242,
    "start_time": "2021-10-18T18:35:27.624Z"
   },
   {
    "duration": 253,
    "start_time": "2021-10-18T18:36:11.095Z"
   },
   {
    "duration": 256,
    "start_time": "2021-10-18T18:36:19.813Z"
   },
   {
    "duration": 1016,
    "start_time": "2021-10-18T18:36:52.547Z"
   },
   {
    "duration": 77,
    "start_time": "2021-10-18T18:36:53.565Z"
   },
   {
    "duration": 74,
    "start_time": "2021-10-18T18:36:53.644Z"
   },
   {
    "duration": 65,
    "start_time": "2021-10-18T18:36:53.720Z"
   },
   {
    "duration": 38,
    "start_time": "2021-10-18T18:36:53.787Z"
   },
   {
    "duration": 54,
    "start_time": "2021-10-18T18:36:53.827Z"
   },
   {
    "duration": 9,
    "start_time": "2021-10-18T18:36:53.883Z"
   },
   {
    "duration": 3,
    "start_time": "2021-10-18T18:36:53.895Z"
   },
   {
    "duration": 163,
    "start_time": "2021-10-18T18:36:53.901Z"
   },
   {
    "duration": 57,
    "start_time": "2021-10-18T18:36:54.067Z"
   },
   {
    "duration": 112,
    "start_time": "2021-10-18T18:36:54.126Z"
   },
   {
    "duration": 37,
    "start_time": "2021-10-18T18:36:54.240Z"
   },
   {
    "duration": 86,
    "start_time": "2021-10-18T18:36:54.279Z"
   },
   {
    "duration": 30,
    "start_time": "2021-10-18T18:36:54.367Z"
   },
   {
    "duration": 18,
    "start_time": "2021-10-18T18:36:54.399Z"
   },
   {
    "duration": 52,
    "start_time": "2021-10-18T18:36:54.419Z"
   },
   {
    "duration": 18,
    "start_time": "2021-10-18T18:36:54.473Z"
   },
   {
    "duration": 16,
    "start_time": "2021-10-18T18:36:54.492Z"
   },
   {
    "duration": 55,
    "start_time": "2021-10-18T18:36:54.510Z"
   },
   {
    "duration": 325,
    "start_time": "2021-10-18T18:36:54.567Z"
   },
   {
    "duration": -36,
    "start_time": "2021-10-18T18:36:54.930Z"
   },
   {
    "duration": -76,
    "start_time": "2021-10-18T18:36:54.971Z"
   },
   {
    "duration": 359,
    "start_time": "2021-10-18T18:37:34.260Z"
   },
   {
    "duration": 251,
    "start_time": "2021-10-18T18:42:05.156Z"
   },
   {
    "duration": 246,
    "start_time": "2021-10-18T18:43:39.636Z"
   },
   {
    "duration": 249,
    "start_time": "2021-10-18T18:44:23.252Z"
   },
   {
    "duration": 94,
    "start_time": "2021-10-18T18:44:41.926Z"
   },
   {
    "duration": 87,
    "start_time": "2021-10-18T18:44:48.000Z"
   },
   {
    "duration": 104,
    "start_time": "2021-10-18T18:45:19.535Z"
   },
   {
    "duration": 1052,
    "start_time": "2021-10-18T18:45:40.826Z"
   },
   {
    "duration": 78,
    "start_time": "2021-10-18T18:45:41.880Z"
   },
   {
    "duration": 61,
    "start_time": "2021-10-18T18:45:41.960Z"
   },
   {
    "duration": 65,
    "start_time": "2021-10-18T18:45:42.023Z"
   },
   {
    "duration": 37,
    "start_time": "2021-10-18T18:45:42.090Z"
   },
   {
    "duration": 57,
    "start_time": "2021-10-18T18:45:42.128Z"
   },
   {
    "duration": 7,
    "start_time": "2021-10-18T18:45:42.187Z"
   },
   {
    "duration": 4,
    "start_time": "2021-10-18T18:45:42.196Z"
   },
   {
    "duration": 156,
    "start_time": "2021-10-18T18:45:42.203Z"
   },
   {
    "duration": 60,
    "start_time": "2021-10-18T18:45:42.364Z"
   },
   {
    "duration": 112,
    "start_time": "2021-10-18T18:45:42.427Z"
   },
   {
    "duration": 43,
    "start_time": "2021-10-18T18:45:42.541Z"
   },
   {
    "duration": 83,
    "start_time": "2021-10-18T18:45:42.586Z"
   },
   {
    "duration": 31,
    "start_time": "2021-10-18T18:45:42.670Z"
   },
   {
    "duration": 18,
    "start_time": "2021-10-18T18:45:42.703Z"
   },
   {
    "duration": 52,
    "start_time": "2021-10-18T18:45:42.722Z"
   },
   {
    "duration": 17,
    "start_time": "2021-10-18T18:45:42.776Z"
   },
   {
    "duration": 15,
    "start_time": "2021-10-18T18:45:42.794Z"
   },
   {
    "duration": 54,
    "start_time": "2021-10-18T18:45:42.811Z"
   },
   {
    "duration": 459,
    "start_time": "2021-10-18T18:45:42.866Z"
   },
   {
    "duration": -28,
    "start_time": "2021-10-18T18:45:43.355Z"
   },
   {
    "duration": -30,
    "start_time": "2021-10-18T18:45:43.358Z"
   },
   {
    "duration": 112,
    "start_time": "2021-10-18T18:45:49.801Z"
   },
   {
    "duration": 308,
    "start_time": "2021-10-18T18:45:57.788Z"
   },
   {
    "duration": 241,
    "start_time": "2021-10-18T18:47:50.819Z"
   },
   {
    "duration": 253,
    "start_time": "2021-10-18T18:47:56.613Z"
   },
   {
    "duration": 4,
    "start_time": "2021-10-18T18:49:57.375Z"
   },
   {
    "duration": 28,
    "start_time": "2021-10-18T18:50:50.057Z"
   },
   {
    "duration": 1071,
    "start_time": "2021-10-18T18:52:29.088Z"
   },
   {
    "duration": 82,
    "start_time": "2021-10-18T18:52:30.162Z"
   },
   {
    "duration": 78,
    "start_time": "2021-10-18T18:52:30.246Z"
   },
   {
    "duration": 61,
    "start_time": "2021-10-18T18:52:30.326Z"
   },
   {
    "duration": 44,
    "start_time": "2021-10-18T18:52:30.389Z"
   },
   {
    "duration": 54,
    "start_time": "2021-10-18T18:52:30.434Z"
   },
   {
    "duration": 7,
    "start_time": "2021-10-18T18:52:30.491Z"
   },
   {
    "duration": 14,
    "start_time": "2021-10-18T18:52:30.502Z"
   },
   {
    "duration": 191,
    "start_time": "2021-10-18T18:52:30.519Z"
   },
   {
    "duration": 68,
    "start_time": "2021-10-18T18:52:30.712Z"
   },
   {
    "duration": 109,
    "start_time": "2021-10-18T18:52:30.782Z"
   },
   {
    "duration": 30,
    "start_time": "2021-10-18T18:52:30.893Z"
   },
   {
    "duration": 92,
    "start_time": "2021-10-18T18:52:30.925Z"
   },
   {
    "duration": 45,
    "start_time": "2021-10-18T18:52:31.019Z"
   },
   {
    "duration": 28,
    "start_time": "2021-10-18T18:52:31.066Z"
   },
   {
    "duration": 36,
    "start_time": "2021-10-18T18:52:31.097Z"
   },
   {
    "duration": 45,
    "start_time": "2021-10-18T18:52:31.135Z"
   },
   {
    "duration": 24,
    "start_time": "2021-10-18T18:52:31.182Z"
   },
   {
    "duration": 55,
    "start_time": "2021-10-18T18:52:31.208Z"
   },
   {
    "duration": 33,
    "start_time": "2021-10-18T18:52:31.266Z"
   },
   {
    "duration": 5,
    "start_time": "2021-10-18T18:52:31.301Z"
   },
   {
    "duration": 14,
    "start_time": "2021-10-18T18:56:41.696Z"
   },
   {
    "duration": 1032,
    "start_time": "2021-10-18T18:57:01.750Z"
   },
   {
    "duration": 76,
    "start_time": "2021-10-18T18:57:02.784Z"
   },
   {
    "duration": 63,
    "start_time": "2021-10-18T18:57:02.862Z"
   },
   {
    "duration": 64,
    "start_time": "2021-10-18T18:57:02.928Z"
   },
   {
    "duration": 40,
    "start_time": "2021-10-18T18:57:02.993Z"
   },
   {
    "duration": 29,
    "start_time": "2021-10-18T18:57:03.063Z"
   },
   {
    "duration": 7,
    "start_time": "2021-10-18T18:57:03.093Z"
   },
   {
    "duration": 7,
    "start_time": "2021-10-18T18:57:03.102Z"
   },
   {
    "duration": 153,
    "start_time": "2021-10-18T18:57:03.111Z"
   },
   {
    "duration": 59,
    "start_time": "2021-10-18T18:57:03.265Z"
   },
   {
    "duration": 120,
    "start_time": "2021-10-18T18:57:03.326Z"
   },
   {
    "duration": 37,
    "start_time": "2021-10-18T18:57:03.448Z"
   },
   {
    "duration": 79,
    "start_time": "2021-10-18T18:57:03.487Z"
   },
   {
    "duration": 29,
    "start_time": "2021-10-18T18:57:03.567Z"
   },
   {
    "duration": 16,
    "start_time": "2021-10-18T18:57:03.598Z"
   },
   {
    "duration": 52,
    "start_time": "2021-10-18T18:57:03.615Z"
   },
   {
    "duration": 16,
    "start_time": "2021-10-18T18:57:03.669Z"
   },
   {
    "duration": 15,
    "start_time": "2021-10-18T18:57:03.687Z"
   },
   {
    "duration": 18,
    "start_time": "2021-10-18T18:57:03.703Z"
   },
   {
    "duration": 55,
    "start_time": "2021-10-18T18:57:03.723Z"
   },
   {
    "duration": 14,
    "start_time": "2021-10-18T18:57:03.780Z"
   },
   {
    "duration": 6299,
    "start_time": "2021-10-18T19:19:25.721Z"
   },
   {
    "duration": 14,
    "start_time": "2021-10-18T19:19:55.703Z"
   },
   {
    "duration": 15,
    "start_time": "2021-10-18T19:20:08.311Z"
   },
   {
    "duration": 13,
    "start_time": "2021-10-18T19:23:11.681Z"
   },
   {
    "duration": 15,
    "start_time": "2021-10-18T19:24:44.392Z"
   },
   {
    "duration": 18,
    "start_time": "2021-10-18T19:26:48.224Z"
   },
   {
    "duration": 23,
    "start_time": "2021-10-18T19:27:44.996Z"
   },
   {
    "duration": 20,
    "start_time": "2021-10-18T19:27:51.597Z"
   },
   {
    "duration": 301,
    "start_time": "2021-10-18T19:28:01.148Z"
   },
   {
    "duration": 19,
    "start_time": "2021-10-18T19:28:13.466Z"
   },
   {
    "duration": 1065,
    "start_time": "2021-10-18T19:30:10.975Z"
   },
   {
    "duration": 91,
    "start_time": "2021-10-18T19:30:12.043Z"
   },
   {
    "duration": 78,
    "start_time": "2021-10-18T19:30:12.136Z"
   },
   {
    "duration": 66,
    "start_time": "2021-10-18T19:30:12.216Z"
   },
   {
    "duration": 35,
    "start_time": "2021-10-18T19:30:12.283Z"
   },
   {
    "duration": 53,
    "start_time": "2021-10-18T19:30:12.320Z"
   },
   {
    "duration": 6,
    "start_time": "2021-10-18T19:30:12.374Z"
   },
   {
    "duration": 11,
    "start_time": "2021-10-18T19:30:12.383Z"
   },
   {
    "duration": 148,
    "start_time": "2021-10-18T19:30:12.396Z"
   },
   {
    "duration": 63,
    "start_time": "2021-10-18T19:30:12.547Z"
   },
   {
    "duration": 111,
    "start_time": "2021-10-18T19:30:12.612Z"
   },
   {
    "duration": 27,
    "start_time": "2021-10-18T19:30:12.724Z"
   },
   {
    "duration": 76,
    "start_time": "2021-10-18T19:30:12.753Z"
   },
   {
    "duration": 46,
    "start_time": "2021-10-18T19:30:12.830Z"
   },
   {
    "duration": 16,
    "start_time": "2021-10-18T19:30:12.878Z"
   },
   {
    "duration": 29,
    "start_time": "2021-10-18T19:30:12.896Z"
   },
   {
    "duration": 15,
    "start_time": "2021-10-18T19:30:12.926Z"
   },
   {
    "duration": 41,
    "start_time": "2021-10-18T19:30:12.942Z"
   },
   {
    "duration": 16,
    "start_time": "2021-10-18T19:30:12.985Z"
   },
   {
    "duration": 15,
    "start_time": "2021-10-18T19:30:13.004Z"
   },
   {
    "duration": 44,
    "start_time": "2021-10-18T19:30:13.021Z"
   },
   {
    "duration": 23,
    "start_time": "2021-10-18T19:30:13.067Z"
   },
   {
    "duration": 29,
    "start_time": "2021-10-18T19:30:39.420Z"
   },
   {
    "duration": 45,
    "start_time": "2021-10-18T19:30:49.371Z"
   },
   {
    "duration": 67,
    "start_time": "2021-10-18T19:32:34.145Z"
   },
   {
    "duration": 85,
    "start_time": "2021-10-18T19:39:21.039Z"
   },
   {
    "duration": 63,
    "start_time": "2021-10-18T19:39:36.800Z"
   },
   {
    "duration": 89,
    "start_time": "2021-10-18T19:39:57.625Z"
   },
   {
    "duration": 62,
    "start_time": "2021-10-18T19:40:34.173Z"
   },
   {
    "duration": 1020,
    "start_time": "2021-10-18T19:43:17.841Z"
   },
   {
    "duration": 82,
    "start_time": "2021-10-18T19:43:18.863Z"
   },
   {
    "duration": 83,
    "start_time": "2021-10-18T19:43:18.947Z"
   },
   {
    "duration": 58,
    "start_time": "2021-10-18T19:43:19.032Z"
   },
   {
    "duration": 36,
    "start_time": "2021-10-18T19:43:19.092Z"
   },
   {
    "duration": 55,
    "start_time": "2021-10-18T19:43:19.130Z"
   },
   {
    "duration": 7,
    "start_time": "2021-10-18T19:43:19.186Z"
   },
   {
    "duration": 4,
    "start_time": "2021-10-18T19:43:19.195Z"
   },
   {
    "duration": 150,
    "start_time": "2021-10-18T19:43:19.201Z"
   },
   {
    "duration": 64,
    "start_time": "2021-10-18T19:43:19.353Z"
   },
   {
    "duration": 107,
    "start_time": "2021-10-18T19:43:19.419Z"
   },
   {
    "duration": 38,
    "start_time": "2021-10-18T19:43:19.527Z"
   },
   {
    "duration": 70,
    "start_time": "2021-10-18T19:43:19.567Z"
   },
   {
    "duration": 39,
    "start_time": "2021-10-18T19:43:19.639Z"
   },
   {
    "duration": 17,
    "start_time": "2021-10-18T19:43:19.680Z"
   },
   {
    "duration": 22,
    "start_time": "2021-10-18T19:43:19.699Z"
   },
   {
    "duration": 45,
    "start_time": "2021-10-18T19:43:19.723Z"
   },
   {
    "duration": 17,
    "start_time": "2021-10-18T19:43:19.770Z"
   },
   {
    "duration": 14,
    "start_time": "2021-10-18T19:43:19.789Z"
   },
   {
    "duration": 15,
    "start_time": "2021-10-18T19:43:19.804Z"
   },
   {
    "duration": 55,
    "start_time": "2021-10-18T19:43:19.821Z"
   },
   {
    "duration": 64,
    "start_time": "2021-10-18T19:43:19.877Z"
   },
   {
    "duration": 1074,
    "start_time": "2021-10-18T19:49:33.476Z"
   },
   {
    "duration": 77,
    "start_time": "2021-10-18T19:49:34.552Z"
   },
   {
    "duration": 80,
    "start_time": "2021-10-18T19:49:34.632Z"
   },
   {
    "duration": 62,
    "start_time": "2021-10-18T19:49:34.714Z"
   },
   {
    "duration": 36,
    "start_time": "2021-10-18T19:49:34.778Z"
   },
   {
    "duration": 54,
    "start_time": "2021-10-18T19:49:34.816Z"
   },
   {
    "duration": 9,
    "start_time": "2021-10-18T19:49:34.872Z"
   },
   {
    "duration": 3,
    "start_time": "2021-10-18T19:49:34.884Z"
   },
   {
    "duration": 153,
    "start_time": "2021-10-18T19:49:34.889Z"
   },
   {
    "duration": 58,
    "start_time": "2021-10-18T19:49:35.043Z"
   },
   {
    "duration": 103,
    "start_time": "2021-10-18T19:49:35.103Z"
   },
   {
    "duration": 29,
    "start_time": "2021-10-18T19:49:35.209Z"
   },
   {
    "duration": 90,
    "start_time": "2021-10-18T19:49:35.240Z"
   },
   {
    "duration": 39,
    "start_time": "2021-10-18T19:49:35.332Z"
   },
   {
    "duration": 18,
    "start_time": "2021-10-18T19:49:35.373Z"
   },
   {
    "duration": 22,
    "start_time": "2021-10-18T19:49:35.393Z"
   },
   {
    "duration": 15,
    "start_time": "2021-10-18T19:49:35.417Z"
   },
   {
    "duration": 16,
    "start_time": "2021-10-18T19:49:35.464Z"
   },
   {
    "duration": 14,
    "start_time": "2021-10-18T19:49:35.481Z"
   },
   {
    "duration": 14,
    "start_time": "2021-10-18T19:49:35.496Z"
   },
   {
    "duration": 12,
    "start_time": "2021-10-18T19:49:35.511Z"
   },
   {
    "duration": 103,
    "start_time": "2021-10-18T19:49:35.525Z"
   },
   {
    "duration": 5,
    "start_time": "2021-10-18T19:52:16.806Z"
   },
   {
    "duration": 6,
    "start_time": "2021-10-18T19:53:02.302Z"
   },
   {
    "duration": 1100,
    "start_time": "2021-10-18T19:59:11.828Z"
   },
   {
    "duration": 19584,
    "start_time": "2021-10-18T20:02:06.139Z"
   },
   {
    "duration": 2183,
    "start_time": "2021-10-18T20:03:32.728Z"
   },
   {
    "duration": 320,
    "start_time": "2021-10-18T20:04:21.462Z"
   },
   {
    "duration": 3080,
    "start_time": "2021-10-18T20:04:28.547Z"
   },
   {
    "duration": 1219,
    "start_time": "2021-10-18T20:04:46.411Z"
   },
   {
    "duration": 1190,
    "start_time": "2021-10-18T20:05:35.446Z"
   },
   {
    "duration": 576,
    "start_time": "2021-10-18T20:14:22.198Z"
   },
   {
    "duration": 750,
    "start_time": "2021-10-18T20:14:37.452Z"
   },
   {
    "duration": 3820,
    "start_time": "2021-10-18T20:14:46.531Z"
   },
   {
    "duration": 641,
    "start_time": "2021-10-18T20:16:00.953Z"
   },
   {
    "duration": 531,
    "start_time": "2021-10-18T20:16:12.652Z"
   },
   {
    "duration": 258,
    "start_time": "2021-10-18T20:20:23.475Z"
   },
   {
    "duration": 9,
    "start_time": "2021-10-18T20:20:33.117Z"
   },
   {
    "duration": 1117,
    "start_time": "2021-10-18T20:20:42.765Z"
   },
   {
    "duration": 81,
    "start_time": "2021-10-18T20:20:43.884Z"
   },
   {
    "duration": 66,
    "start_time": "2021-10-18T20:20:43.967Z"
   },
   {
    "duration": 60,
    "start_time": "2021-10-18T20:20:44.034Z"
   },
   {
    "duration": 37,
    "start_time": "2021-10-18T20:20:44.095Z"
   },
   {
    "duration": 55,
    "start_time": "2021-10-18T20:20:44.134Z"
   },
   {
    "duration": 7,
    "start_time": "2021-10-18T20:20:44.191Z"
   },
   {
    "duration": 4,
    "start_time": "2021-10-18T20:20:44.200Z"
   },
   {
    "duration": 164,
    "start_time": "2021-10-18T20:20:44.206Z"
   },
   {
    "duration": 56,
    "start_time": "2021-10-18T20:20:44.371Z"
   },
   {
    "duration": 113,
    "start_time": "2021-10-18T20:20:44.429Z"
   },
   {
    "duration": 37,
    "start_time": "2021-10-18T20:20:44.543Z"
   },
   {
    "duration": 89,
    "start_time": "2021-10-18T20:20:44.582Z"
   },
   {
    "duration": 27,
    "start_time": "2021-10-18T20:20:44.673Z"
   },
   {
    "duration": 18,
    "start_time": "2021-10-18T20:20:44.702Z"
   },
   {
    "duration": 52,
    "start_time": "2021-10-18T20:20:44.722Z"
   },
   {
    "duration": 17,
    "start_time": "2021-10-18T20:20:44.776Z"
   },
   {
    "duration": 18,
    "start_time": "2021-10-18T20:20:44.795Z"
   },
   {
    "duration": 52,
    "start_time": "2021-10-18T20:20:44.815Z"
   },
   {
    "duration": 18,
    "start_time": "2021-10-18T20:20:44.869Z"
   },
   {
    "duration": 16,
    "start_time": "2021-10-18T20:20:44.889Z"
   },
   {
    "duration": 101,
    "start_time": "2021-10-18T20:20:44.907Z"
   },
   {
    "duration": 9,
    "start_time": "2021-10-18T20:20:45.012Z"
   },
   {
    "duration": 24,
    "start_time": "2021-10-18T20:20:45.023Z"
   },
   {
    "duration": 1171,
    "start_time": "2021-10-18T20:20:45.049Z"
   },
   {
    "duration": 314,
    "start_time": "2021-10-18T20:20:46.222Z"
   },
   {
    "duration": 172,
    "start_time": "2021-10-18T20:21:17.612Z"
   },
   {
    "duration": 1088,
    "start_time": "2021-10-18T20:22:02.726Z"
   },
   {
    "duration": 74,
    "start_time": "2021-10-18T20:22:03.816Z"
   },
   {
    "duration": 76,
    "start_time": "2021-10-18T20:22:03.892Z"
   },
   {
    "duration": 41,
    "start_time": "2021-10-18T20:22:03.970Z"
   },
   {
    "duration": 60,
    "start_time": "2021-10-18T20:22:04.013Z"
   },
   {
    "duration": 26,
    "start_time": "2021-10-18T20:22:04.075Z"
   },
   {
    "duration": 24,
    "start_time": "2021-10-18T20:22:04.103Z"
   },
   {
    "duration": 14,
    "start_time": "2021-10-18T20:22:04.129Z"
   },
   {
    "duration": 166,
    "start_time": "2021-10-18T20:22:04.146Z"
   },
   {
    "duration": 53,
    "start_time": "2021-10-18T20:22:04.314Z"
   },
   {
    "duration": 102,
    "start_time": "2021-10-18T20:22:04.369Z"
   },
   {
    "duration": 29,
    "start_time": "2021-10-18T20:22:04.473Z"
   },
   {
    "duration": 94,
    "start_time": "2021-10-18T20:22:04.504Z"
   },
   {
    "duration": 28,
    "start_time": "2021-10-18T20:22:04.600Z"
   },
   {
    "duration": 36,
    "start_time": "2021-10-18T20:22:04.629Z"
   },
   {
    "duration": 22,
    "start_time": "2021-10-18T20:22:04.666Z"
   },
   {
    "duration": 26,
    "start_time": "2021-10-18T20:22:04.690Z"
   },
   {
    "duration": 15,
    "start_time": "2021-10-18T20:22:04.718Z"
   },
   {
    "duration": 38,
    "start_time": "2021-10-18T20:22:04.734Z"
   },
   {
    "duration": 37,
    "start_time": "2021-10-18T20:22:04.774Z"
   },
   {
    "duration": 21,
    "start_time": "2021-10-18T20:22:04.813Z"
   },
   {
    "duration": 68,
    "start_time": "2021-10-18T20:22:04.836Z"
   },
   {
    "duration": 6,
    "start_time": "2021-10-18T20:22:04.907Z"
   },
   {
    "duration": 544,
    "start_time": "2021-10-18T20:22:04.915Z"
   },
   {
    "duration": -94,
    "start_time": "2021-10-18T20:22:05.555Z"
   },
   {
    "duration": -95,
    "start_time": "2021-10-18T20:22:05.558Z"
   },
   {
    "duration": 1040,
    "start_time": "2021-10-18T20:22:48.818Z"
   },
   {
    "duration": 74,
    "start_time": "2021-10-18T20:22:49.860Z"
   },
   {
    "duration": 73,
    "start_time": "2021-10-18T20:22:49.936Z"
   },
   {
    "duration": 62,
    "start_time": "2021-10-18T20:22:50.011Z"
   },
   {
    "duration": 38,
    "start_time": "2021-10-18T20:22:50.074Z"
   },
   {
    "duration": 57,
    "start_time": "2021-10-18T20:22:50.113Z"
   },
   {
    "duration": 8,
    "start_time": "2021-10-18T20:22:50.173Z"
   },
   {
    "duration": 3,
    "start_time": "2021-10-18T20:22:50.184Z"
   },
   {
    "duration": 159,
    "start_time": "2021-10-18T20:22:50.190Z"
   },
   {
    "duration": 58,
    "start_time": "2021-10-18T20:22:50.351Z"
   },
   {
    "duration": 107,
    "start_time": "2021-10-18T20:22:50.411Z"
   },
   {
    "duration": 28,
    "start_time": "2021-10-18T20:22:50.520Z"
   },
   {
    "duration": 81,
    "start_time": "2021-10-18T20:22:50.550Z"
   },
   {
    "duration": 43,
    "start_time": "2021-10-18T20:22:50.633Z"
   },
   {
    "duration": 19,
    "start_time": "2021-10-18T20:22:50.678Z"
   },
   {
    "duration": 26,
    "start_time": "2021-10-18T20:22:50.699Z"
   },
   {
    "duration": 41,
    "start_time": "2021-10-18T20:22:50.727Z"
   },
   {
    "duration": 16,
    "start_time": "2021-10-18T20:22:50.770Z"
   },
   {
    "duration": 13,
    "start_time": "2021-10-18T20:22:50.788Z"
   },
   {
    "duration": 14,
    "start_time": "2021-10-18T20:22:50.803Z"
   },
   {
    "duration": 55,
    "start_time": "2021-10-18T20:22:50.819Z"
   },
   {
    "duration": 63,
    "start_time": "2021-10-18T20:22:50.876Z"
   },
   {
    "duration": 24,
    "start_time": "2021-10-18T20:22:50.942Z"
   },
   {
    "duration": 308,
    "start_time": "2021-10-18T20:22:50.968Z"
   },
   {
    "duration": -46,
    "start_time": "2021-10-18T20:22:51.324Z"
   },
   {
    "duration": -48,
    "start_time": "2021-10-18T20:22:51.327Z"
   },
   {
    "duration": 1106,
    "start_time": "2021-10-18T20:23:33.036Z"
   },
   {
    "duration": 76,
    "start_time": "2021-10-18T20:23:34.144Z"
   },
   {
    "duration": 82,
    "start_time": "2021-10-18T20:23:34.223Z"
   },
   {
    "duration": 70,
    "start_time": "2021-10-18T20:23:34.308Z"
   },
   {
    "duration": 42,
    "start_time": "2021-10-18T20:23:34.381Z"
   },
   {
    "duration": 52,
    "start_time": "2021-10-18T20:23:34.426Z"
   },
   {
    "duration": 7,
    "start_time": "2021-10-18T20:23:34.480Z"
   },
   {
    "duration": 4,
    "start_time": "2021-10-18T20:23:34.490Z"
   },
   {
    "duration": 159,
    "start_time": "2021-10-18T20:23:34.496Z"
   },
   {
    "duration": 68,
    "start_time": "2021-10-18T20:23:34.656Z"
   },
   {
    "duration": 115,
    "start_time": "2021-10-18T20:23:34.726Z"
   },
   {
    "duration": 37,
    "start_time": "2021-10-18T20:23:34.843Z"
   },
   {
    "duration": 159,
    "start_time": "2021-10-18T20:23:34.882Z"
   },
   {
    "duration": 36,
    "start_time": "2021-10-18T20:23:35.043Z"
   },
   {
    "duration": 20,
    "start_time": "2021-10-18T20:23:35.080Z"
   },
   {
    "duration": 22,
    "start_time": "2021-10-18T20:23:35.102Z"
   },
   {
    "duration": 49,
    "start_time": "2021-10-18T20:23:35.125Z"
   },
   {
    "duration": 20,
    "start_time": "2021-10-18T20:23:35.176Z"
   },
   {
    "duration": 14,
    "start_time": "2021-10-18T20:23:35.197Z"
   },
   {
    "duration": 50,
    "start_time": "2021-10-18T20:23:35.213Z"
   },
   {
    "duration": 16,
    "start_time": "2021-10-18T20:23:35.265Z"
   },
   {
    "duration": 88,
    "start_time": "2021-10-18T20:23:35.283Z"
   },
   {
    "duration": 1135,
    "start_time": "2021-10-18T20:23:35.375Z"
   },
   {
    "duration": 207,
    "start_time": "2021-10-18T20:23:36.512Z"
   },
   {
    "duration": 6,
    "start_time": "2021-10-18T20:23:36.720Z"
   },
   {
    "duration": 352,
    "start_time": "2021-10-18T20:24:49.894Z"
   },
   {
    "duration": 7,
    "start_time": "2021-10-18T20:25:05.654Z"
   },
   {
    "duration": 252,
    "start_time": "2021-10-18T20:25:16.914Z"
   },
   {
    "duration": 7,
    "start_time": "2021-10-18T20:25:25.566Z"
   },
   {
    "duration": 10,
    "start_time": "2021-10-18T20:25:31.979Z"
   },
   {
    "duration": 2516,
    "start_time": "2021-10-18T20:25:46.132Z"
   },
   {
    "duration": 79,
    "start_time": "2021-10-18T20:25:53.749Z"
   },
   {
    "duration": 3212,
    "start_time": "2021-10-18T20:26:08.044Z"
   },
   {
    "duration": 93,
    "start_time": "2021-10-18T20:26:32.573Z"
   },
   {
    "duration": 2092,
    "start_time": "2021-10-18T20:26:40.324Z"
   },
   {
    "duration": 7,
    "start_time": "2021-10-18T20:26:45.681Z"
   },
   {
    "duration": 1101,
    "start_time": "2021-10-18T20:42:22.867Z"
   },
   {
    "duration": 77,
    "start_time": "2021-10-18T20:42:23.970Z"
   },
   {
    "duration": 67,
    "start_time": "2021-10-18T20:42:24.065Z"
   },
   {
    "duration": 66,
    "start_time": "2021-10-18T20:42:24.134Z"
   },
   {
    "duration": 66,
    "start_time": "2021-10-18T20:42:24.202Z"
   },
   {
    "duration": 29,
    "start_time": "2021-10-18T20:42:24.270Z"
   },
   {
    "duration": 6,
    "start_time": "2021-10-18T20:42:24.301Z"
   },
   {
    "duration": 4,
    "start_time": "2021-10-18T20:42:24.310Z"
   },
   {
    "duration": 171,
    "start_time": "2021-10-18T20:42:24.316Z"
   },
   {
    "duration": 54,
    "start_time": "2021-10-18T20:42:24.488Z"
   },
   {
    "duration": 113,
    "start_time": "2021-10-18T20:42:24.544Z"
   },
   {
    "duration": 28,
    "start_time": "2021-10-18T20:42:24.664Z"
   },
   {
    "duration": 86,
    "start_time": "2021-10-18T20:42:24.694Z"
   },
   {
    "duration": 26,
    "start_time": "2021-10-18T20:42:24.782Z"
   },
   {
    "duration": 18,
    "start_time": "2021-10-18T20:42:24.810Z"
   },
   {
    "duration": 46,
    "start_time": "2021-10-18T20:42:24.830Z"
   },
   {
    "duration": 33,
    "start_time": "2021-10-18T20:42:24.878Z"
   },
   {
    "duration": 15,
    "start_time": "2021-10-18T20:42:24.912Z"
   },
   {
    "duration": 47,
    "start_time": "2021-10-18T20:42:24.928Z"
   },
   {
    "duration": 14,
    "start_time": "2021-10-18T20:42:24.977Z"
   },
   {
    "duration": 12,
    "start_time": "2021-10-18T20:42:24.993Z"
   },
   {
    "duration": 90,
    "start_time": "2021-10-18T20:42:25.007Z"
   },
   {
    "duration": 7,
    "start_time": "2021-10-18T20:42:25.099Z"
   },
   {
    "duration": 1134,
    "start_time": "2021-10-18T20:42:25.107Z"
   },
   {
    "duration": 187,
    "start_time": "2021-10-18T20:42:26.242Z"
   },
   {
    "duration": 7,
    "start_time": "2021-10-18T20:42:26.431Z"
   },
   {
    "duration": 1101,
    "start_time": "2021-10-18T20:42:55.527Z"
   },
   {
    "duration": 73,
    "start_time": "2021-10-18T20:42:56.630Z"
   },
   {
    "duration": 81,
    "start_time": "2021-10-18T20:42:56.705Z"
   },
   {
    "duration": 41,
    "start_time": "2021-10-18T20:42:56.788Z"
   },
   {
    "duration": 57,
    "start_time": "2021-10-18T20:42:56.831Z"
   },
   {
    "duration": 25,
    "start_time": "2021-10-18T20:42:56.890Z"
   },
   {
    "duration": 7,
    "start_time": "2021-10-18T20:42:56.917Z"
   },
   {
    "duration": 10,
    "start_time": "2021-10-18T20:42:56.927Z"
   },
   {
    "duration": 140,
    "start_time": "2021-10-18T20:42:56.964Z"
   },
   {
    "duration": 65,
    "start_time": "2021-10-18T20:42:57.105Z"
   },
   {
    "duration": 99,
    "start_time": "2021-10-18T20:42:57.172Z"
   },
   {
    "duration": 30,
    "start_time": "2021-10-18T20:42:57.272Z"
   },
   {
    "duration": 86,
    "start_time": "2021-10-18T20:42:57.303Z"
   },
   {
    "duration": 29,
    "start_time": "2021-10-18T20:42:57.391Z"
   },
   {
    "duration": 19,
    "start_time": "2021-10-18T20:42:57.421Z"
   },
   {
    "duration": 64,
    "start_time": "2021-10-18T20:42:57.442Z"
   },
   {
    "duration": 63,
    "start_time": "2021-10-18T20:42:57.508Z"
   },
   {
    "duration": 19,
    "start_time": "2021-10-18T20:42:57.573Z"
   },
   {
    "duration": 13,
    "start_time": "2021-10-18T20:42:57.594Z"
   },
   {
    "duration": 14,
    "start_time": "2021-10-18T20:42:57.608Z"
   },
   {
    "duration": 51,
    "start_time": "2021-10-18T20:42:57.624Z"
   },
   {
    "duration": 65,
    "start_time": "2021-10-18T20:42:57.677Z"
   },
   {
    "duration": 26,
    "start_time": "2021-10-18T20:42:57.745Z"
   },
   {
    "duration": 1148,
    "start_time": "2021-10-18T20:42:57.773Z"
   },
   {
    "duration": 182,
    "start_time": "2021-10-18T20:42:58.922Z"
   },
   {
    "duration": 6,
    "start_time": "2021-10-18T20:42:59.106Z"
   },
   {
    "duration": 362,
    "start_time": "2021-10-18T20:45:21.723Z"
   },
   {
    "duration": 253,
    "start_time": "2021-10-18T20:45:39.798Z"
   },
   {
    "duration": 1246,
    "start_time": "2021-10-18T20:49:49.622Z"
   },
   {
    "duration": 122,
    "start_time": "2021-10-18T20:49:50.870Z"
   },
   {
    "duration": 116,
    "start_time": "2021-10-18T20:49:50.996Z"
   },
   {
    "duration": 82,
    "start_time": "2021-10-18T20:49:51.115Z"
   },
   {
    "duration": 78,
    "start_time": "2021-10-18T20:49:51.199Z"
   },
   {
    "duration": 42,
    "start_time": "2021-10-18T20:49:51.280Z"
   },
   {
    "duration": 9,
    "start_time": "2021-10-18T20:49:51.324Z"
   },
   {
    "duration": 30,
    "start_time": "2021-10-18T20:49:51.334Z"
   },
   {
    "duration": 143,
    "start_time": "2021-10-18T20:49:51.367Z"
   },
   {
    "duration": 69,
    "start_time": "2021-10-18T20:49:51.513Z"
   },
   {
    "duration": 108,
    "start_time": "2021-10-18T20:49:51.584Z"
   },
   {
    "duration": 28,
    "start_time": "2021-10-18T20:49:51.694Z"
   },
   {
    "duration": 93,
    "start_time": "2021-10-18T20:49:51.724Z"
   },
   {
    "duration": 26,
    "start_time": "2021-10-18T20:49:51.821Z"
   },
   {
    "duration": 31,
    "start_time": "2021-10-18T20:49:51.849Z"
   },
   {
    "duration": 43,
    "start_time": "2021-10-18T20:49:51.882Z"
   },
   {
    "duration": 310,
    "start_time": "2021-10-18T20:49:51.928Z"
   },
   {
    "duration": -27,
    "start_time": "2021-10-18T20:49:52.267Z"
   },
   {
    "duration": -28,
    "start_time": "2021-10-18T20:49:52.269Z"
   },
   {
    "duration": -29,
    "start_time": "2021-10-18T20:49:52.271Z"
   },
   {
    "duration": -30,
    "start_time": "2021-10-18T20:49:52.273Z"
   },
   {
    "duration": -30,
    "start_time": "2021-10-18T20:49:52.274Z"
   },
   {
    "duration": -31,
    "start_time": "2021-10-18T20:49:52.276Z"
   },
   {
    "duration": -33,
    "start_time": "2021-10-18T20:49:52.278Z"
   },
   {
    "duration": -32,
    "start_time": "2021-10-18T20:49:52.279Z"
   },
   {
    "duration": 1139,
    "start_time": "2021-10-18T20:50:24.933Z"
   },
   {
    "duration": 72,
    "start_time": "2021-10-18T20:50:26.074Z"
   },
   {
    "duration": 72,
    "start_time": "2021-10-18T20:50:26.150Z"
   },
   {
    "duration": 64,
    "start_time": "2021-10-18T20:50:26.224Z"
   },
   {
    "duration": 40,
    "start_time": "2021-10-18T20:50:26.290Z"
   },
   {
    "duration": 53,
    "start_time": "2021-10-18T20:50:26.332Z"
   },
   {
    "duration": 12,
    "start_time": "2021-10-18T20:50:26.389Z"
   },
   {
    "duration": 5,
    "start_time": "2021-10-18T20:50:26.404Z"
   },
   {
    "duration": 153,
    "start_time": "2021-10-18T20:50:26.411Z"
   },
   {
    "duration": 57,
    "start_time": "2021-10-18T20:50:26.566Z"
   },
   {
    "duration": 110,
    "start_time": "2021-10-18T20:50:26.625Z"
   },
   {
    "duration": 41,
    "start_time": "2021-10-18T20:50:26.737Z"
   },
   {
    "duration": 69,
    "start_time": "2021-10-18T20:50:26.780Z"
   },
   {
    "duration": 27,
    "start_time": "2021-10-18T20:50:26.864Z"
   },
   {
    "duration": 16,
    "start_time": "2021-10-18T20:50:26.893Z"
   },
   {
    "duration": 67,
    "start_time": "2021-10-18T20:50:26.910Z"
   },
   {
    "duration": 18,
    "start_time": "2021-10-18T20:50:26.979Z"
   },
   {
    "duration": 17,
    "start_time": "2021-10-18T20:50:26.999Z"
   },
   {
    "duration": 50,
    "start_time": "2021-10-18T20:50:27.018Z"
   },
   {
    "duration": 15,
    "start_time": "2021-10-18T20:50:27.070Z"
   },
   {
    "duration": 91,
    "start_time": "2021-10-18T20:50:27.086Z"
   },
   {
    "duration": 1131,
    "start_time": "2021-10-18T20:50:27.181Z"
   },
   {
    "duration": 219,
    "start_time": "2021-10-18T20:50:28.313Z"
   },
   {
    "duration": 7,
    "start_time": "2021-10-18T20:50:28.534Z"
   },
   {
    "duration": 667,
    "start_time": "2021-10-18T20:52:19.465Z"
   },
   {
    "duration": 171,
    "start_time": "2021-10-18T20:52:31.520Z"
   },
   {
    "duration": 248,
    "start_time": "2021-10-18T20:52:36.087Z"
   },
   {
    "duration": 272,
    "start_time": "2021-10-18T20:52:41.061Z"
   },
   {
    "duration": -799,
    "start_time": "2021-10-18T20:54:20.385Z"
   },
   {
    "duration": 1142,
    "start_time": "2021-10-18T20:54:36.566Z"
   },
   {
    "duration": 77,
    "start_time": "2021-10-18T20:54:37.710Z"
   },
   {
    "duration": 76,
    "start_time": "2021-10-18T20:54:37.790Z"
   },
   {
    "duration": 43,
    "start_time": "2021-10-18T20:54:37.868Z"
   },
   {
    "duration": 67,
    "start_time": "2021-10-18T20:54:37.913Z"
   },
   {
    "duration": 28,
    "start_time": "2021-10-18T20:54:37.982Z"
   },
   {
    "duration": 9,
    "start_time": "2021-10-18T20:54:38.012Z"
   },
   {
    "duration": 71,
    "start_time": "2021-10-18T20:54:38.023Z"
   },
   {
    "duration": 184,
    "start_time": "2021-10-18T20:54:38.109Z"
   },
   {
    "duration": 55,
    "start_time": "2021-10-18T20:54:38.295Z"
   },
   {
    "duration": 113,
    "start_time": "2021-10-18T20:54:38.364Z"
   },
   {
    "duration": 29,
    "start_time": "2021-10-18T20:54:38.478Z"
   },
   {
    "duration": 125,
    "start_time": "2021-10-18T20:54:38.508Z"
   },
   {
    "duration": 49,
    "start_time": "2021-10-18T20:54:38.635Z"
   },
   {
    "duration": 27,
    "start_time": "2021-10-18T20:54:38.686Z"
   },
   {
    "duration": 83,
    "start_time": "2021-10-18T20:54:38.715Z"
   },
   {
    "duration": 24,
    "start_time": "2021-10-18T20:54:38.800Z"
   },
   {
    "duration": 50,
    "start_time": "2021-10-18T20:54:38.826Z"
   },
   {
    "duration": 24,
    "start_time": "2021-10-18T20:54:38.879Z"
   },
   {
    "duration": 23,
    "start_time": "2021-10-18T20:54:38.905Z"
   },
   {
    "duration": 108,
    "start_time": "2021-10-18T20:54:38.930Z"
   },
   {
    "duration": 7401,
    "start_time": "2021-10-18T20:54:39.040Z"
   },
   {
    "duration": -474,
    "start_time": "2021-10-18T20:54:46.917Z"
   },
   {
    "duration": -475,
    "start_time": "2021-10-18T20:54:46.919Z"
   },
   {
    "duration": -477,
    "start_time": "2021-10-18T20:54:46.922Z"
   },
   {
    "duration": 8,
    "start_time": "2021-10-18T20:54:57.746Z"
   },
   {
    "duration": 20,
    "start_time": "2021-10-18T20:56:16.227Z"
   },
   {
    "duration": 1089,
    "start_time": "2021-10-18T20:56:54.498Z"
   },
   {
    "duration": 77,
    "start_time": "2021-10-18T20:56:55.589Z"
   },
   {
    "duration": 67,
    "start_time": "2021-10-18T20:56:55.669Z"
   },
   {
    "duration": 59,
    "start_time": "2021-10-18T20:56:55.738Z"
   },
   {
    "duration": 66,
    "start_time": "2021-10-18T20:56:55.799Z"
   },
   {
    "duration": 28,
    "start_time": "2021-10-18T20:56:55.867Z"
   },
   {
    "duration": 8,
    "start_time": "2021-10-18T20:56:55.897Z"
   },
   {
    "duration": 4,
    "start_time": "2021-10-18T20:56:55.907Z"
   },
   {
    "duration": 169,
    "start_time": "2021-10-18T20:56:55.914Z"
   },
   {
    "duration": 54,
    "start_time": "2021-10-18T20:56:56.085Z"
   },
   {
    "duration": 108,
    "start_time": "2021-10-18T20:56:56.141Z"
   },
   {
    "duration": 32,
    "start_time": "2021-10-18T20:56:56.250Z"
   },
   {
    "duration": 90,
    "start_time": "2021-10-18T20:56:56.284Z"
   },
   {
    "duration": 28,
    "start_time": "2021-10-18T20:56:56.376Z"
   },
   {
    "duration": 18,
    "start_time": "2021-10-18T20:56:56.405Z"
   },
   {
    "duration": 68,
    "start_time": "2021-10-18T20:56:56.425Z"
   },
   {
    "duration": 16,
    "start_time": "2021-10-18T20:56:56.495Z"
   },
   {
    "duration": 13,
    "start_time": "2021-10-18T20:56:56.512Z"
   },
   {
    "duration": 47,
    "start_time": "2021-10-18T20:56:56.527Z"
   },
   {
    "duration": 16,
    "start_time": "2021-10-18T20:56:56.576Z"
   },
   {
    "duration": 84,
    "start_time": "2021-10-18T20:56:56.594Z"
   },
   {
    "duration": 18,
    "start_time": "2021-10-18T20:56:56.680Z"
   },
   {
    "duration": 1163,
    "start_time": "2021-10-18T20:56:56.700Z"
   },
   {
    "duration": 324,
    "start_time": "2021-10-18T20:56:57.865Z"
   },
   {
    "duration": 11,
    "start_time": "2021-10-18T20:56:58.194Z"
   },
   {
    "duration": 1091,
    "start_time": "2021-10-18T20:58:33.881Z"
   },
   {
    "duration": 74,
    "start_time": "2021-10-18T20:58:34.974Z"
   },
   {
    "duration": 73,
    "start_time": "2021-10-18T20:58:35.051Z"
   },
   {
    "duration": 64,
    "start_time": "2021-10-18T20:58:35.126Z"
   },
   {
    "duration": 37,
    "start_time": "2021-10-18T20:58:35.192Z"
   },
   {
    "duration": 55,
    "start_time": "2021-10-18T20:58:35.231Z"
   },
   {
    "duration": 7,
    "start_time": "2021-10-18T20:58:35.288Z"
   },
   {
    "duration": 4,
    "start_time": "2021-10-18T20:58:35.297Z"
   },
   {
    "duration": 172,
    "start_time": "2021-10-18T20:58:35.302Z"
   },
   {
    "duration": 56,
    "start_time": "2021-10-18T20:58:35.475Z"
   },
   {
    "duration": 113,
    "start_time": "2021-10-18T20:58:35.533Z"
   },
   {
    "duration": 32,
    "start_time": "2021-10-18T20:58:35.647Z"
   },
   {
    "duration": 87,
    "start_time": "2021-10-18T20:58:35.680Z"
   },
   {
    "duration": 27,
    "start_time": "2021-10-18T20:58:35.769Z"
   },
   {
    "duration": 17,
    "start_time": "2021-10-18T20:58:35.798Z"
   },
   {
    "duration": 69,
    "start_time": "2021-10-18T20:58:35.816Z"
   },
   {
    "duration": 14,
    "start_time": "2021-10-18T20:58:35.887Z"
   },
   {
    "duration": 14,
    "start_time": "2021-10-18T20:58:35.902Z"
   },
   {
    "duration": 48,
    "start_time": "2021-10-18T20:58:35.917Z"
   },
   {
    "duration": 15,
    "start_time": "2021-10-18T20:58:35.967Z"
   },
   {
    "duration": 86,
    "start_time": "2021-10-18T20:58:35.984Z"
   },
   {
    "duration": 18,
    "start_time": "2021-10-18T20:58:36.073Z"
   },
   {
    "duration": 1143,
    "start_time": "2021-10-18T20:58:36.093Z"
   },
   {
    "duration": 7,
    "start_time": "2021-10-18T20:58:37.238Z"
   },
   {
    "duration": 20,
    "start_time": "2021-10-18T20:58:37.246Z"
   },
   {
    "duration": 7,
    "start_time": "2021-10-18T20:58:37.268Z"
   },
   {
    "duration": 340,
    "start_time": "2021-10-18T21:03:06.483Z"
   },
   {
    "duration": 10,
    "start_time": "2021-10-18T21:03:29.650Z"
   },
   {
    "duration": 12,
    "start_time": "2021-10-18T21:03:34.282Z"
   },
   {
    "duration": 20,
    "start_time": "2021-10-18T21:03:45.240Z"
   },
   {
    "duration": 283,
    "start_time": "2021-10-18T21:06:07.590Z"
   },
   {
    "duration": 331,
    "start_time": "2021-10-18T21:06:22.195Z"
   },
   {
    "duration": 1096,
    "start_time": "2021-10-18T21:06:28.277Z"
   },
   {
    "duration": 89,
    "start_time": "2021-10-18T21:06:29.375Z"
   },
   {
    "duration": 68,
    "start_time": "2021-10-18T21:06:29.467Z"
   },
   {
    "duration": 66,
    "start_time": "2021-10-18T21:06:29.538Z"
   },
   {
    "duration": 70,
    "start_time": "2021-10-18T21:06:29.606Z"
   },
   {
    "duration": 30,
    "start_time": "2021-10-18T21:06:29.678Z"
   },
   {
    "duration": 8,
    "start_time": "2021-10-18T21:06:29.710Z"
   },
   {
    "duration": 12,
    "start_time": "2021-10-18T21:06:29.720Z"
   },
   {
    "duration": 160,
    "start_time": "2021-10-18T21:06:29.734Z"
   },
   {
    "duration": 54,
    "start_time": "2021-10-18T21:06:29.895Z"
   },
   {
    "duration": 112,
    "start_time": "2021-10-18T21:06:29.951Z"
   },
   {
    "duration": 31,
    "start_time": "2021-10-18T21:06:30.065Z"
   },
   {
    "duration": 90,
    "start_time": "2021-10-18T21:06:30.098Z"
   },
   {
    "duration": 28,
    "start_time": "2021-10-18T21:06:30.190Z"
   },
   {
    "duration": 18,
    "start_time": "2021-10-18T21:06:30.220Z"
   },
   {
    "duration": 43,
    "start_time": "2021-10-18T21:06:30.264Z"
   },
   {
    "duration": 15,
    "start_time": "2021-10-18T21:06:30.309Z"
   },
   {
    "duration": 44,
    "start_time": "2021-10-18T21:06:30.326Z"
   },
   {
    "duration": 39,
    "start_time": "2021-10-18T21:06:30.372Z"
   },
   {
    "duration": 15,
    "start_time": "2021-10-18T21:06:30.413Z"
   },
   {
    "duration": 73,
    "start_time": "2021-10-18T21:06:30.430Z"
   },
   {
    "duration": 18,
    "start_time": "2021-10-18T21:06:30.505Z"
   },
   {
    "duration": 342,
    "start_time": "2021-10-18T21:06:30.526Z"
   },
   {
    "duration": -263,
    "start_time": "2021-10-18T21:06:31.133Z"
   },
   {
    "duration": -280,
    "start_time": "2021-10-18T21:06:31.151Z"
   },
   {
    "duration": -282,
    "start_time": "2021-10-18T21:06:31.154Z"
   },
   {
    "duration": -283,
    "start_time": "2021-10-18T21:06:31.156Z"
   },
   {
    "duration": 18,
    "start_time": "2021-10-18T21:07:47.875Z"
   },
   {
    "duration": 1176,
    "start_time": "2021-10-18T21:11:22.677Z"
   },
   {
    "duration": 79,
    "start_time": "2021-10-18T21:11:23.855Z"
   },
   {
    "duration": 80,
    "start_time": "2021-10-18T21:11:23.936Z"
   },
   {
    "duration": 62,
    "start_time": "2021-10-18T21:11:24.018Z"
   },
   {
    "duration": 37,
    "start_time": "2021-10-18T21:11:24.081Z"
   },
   {
    "duration": 51,
    "start_time": "2021-10-18T21:11:24.120Z"
   },
   {
    "duration": 9,
    "start_time": "2021-10-18T21:11:24.173Z"
   },
   {
    "duration": 5,
    "start_time": "2021-10-18T21:11:24.185Z"
   },
   {
    "duration": 154,
    "start_time": "2021-10-18T21:11:24.193Z"
   },
   {
    "duration": 57,
    "start_time": "2021-10-18T21:11:24.349Z"
   },
   {
    "duration": 105,
    "start_time": "2021-10-18T21:11:24.408Z"
   },
   {
    "duration": 29,
    "start_time": "2021-10-18T21:11:24.515Z"
   },
   {
    "duration": 86,
    "start_time": "2021-10-18T21:11:24.546Z"
   },
   {
    "duration": 44,
    "start_time": "2021-10-18T21:11:24.634Z"
   },
   {
    "duration": 18,
    "start_time": "2021-10-18T21:11:24.680Z"
   },
   {
    "duration": 69,
    "start_time": "2021-10-18T21:11:24.700Z"
   },
   {
    "duration": 16,
    "start_time": "2021-10-18T21:11:24.771Z"
   },
   {
    "duration": 21,
    "start_time": "2021-10-18T21:11:24.789Z"
   },
   {
    "duration": 17,
    "start_time": "2021-10-18T21:11:24.812Z"
   },
   {
    "duration": 46,
    "start_time": "2021-10-18T21:11:24.831Z"
   },
   {
    "duration": 91,
    "start_time": "2021-10-18T21:11:24.878Z"
   },
   {
    "duration": 18,
    "start_time": "2021-10-18T21:11:24.970Z"
   },
   {
    "duration": 17,
    "start_time": "2021-10-18T21:11:24.990Z"
   },
   {
    "duration": 1166,
    "start_time": "2021-10-18T21:11:25.009Z"
   },
   {
    "duration": 6,
    "start_time": "2021-10-18T21:11:26.176Z"
   },
   {
    "duration": 12,
    "start_time": "2021-10-18T21:11:26.183Z"
   },
   {
    "duration": 6,
    "start_time": "2021-10-18T21:11:26.197Z"
   },
   {
    "duration": 1141,
    "start_time": "2021-10-19T17:46:07.360Z"
   },
   {
    "duration": 76,
    "start_time": "2021-10-19T17:46:08.503Z"
   },
   {
    "duration": 83,
    "start_time": "2021-10-19T17:46:08.582Z"
   },
   {
    "duration": 41,
    "start_time": "2021-10-19T17:46:08.667Z"
   },
   {
    "duration": 61,
    "start_time": "2021-10-19T17:46:08.710Z"
   },
   {
    "duration": 27,
    "start_time": "2021-10-19T17:46:08.773Z"
   },
   {
    "duration": 7,
    "start_time": "2021-10-19T17:46:08.802Z"
   },
   {
    "duration": 3,
    "start_time": "2021-10-19T17:46:08.810Z"
   },
   {
    "duration": 167,
    "start_time": "2021-10-19T17:46:08.816Z"
   },
   {
    "duration": 56,
    "start_time": "2021-10-19T17:46:08.985Z"
   },
   {
    "duration": 111,
    "start_time": "2021-10-19T17:46:09.042Z"
   },
   {
    "duration": 33,
    "start_time": "2021-10-19T17:46:09.155Z"
   },
   {
    "duration": 87,
    "start_time": "2021-10-19T17:46:09.190Z"
   },
   {
    "duration": 27,
    "start_time": "2021-10-19T17:46:09.279Z"
   },
   {
    "duration": 17,
    "start_time": "2021-10-19T17:46:09.308Z"
   },
   {
    "duration": 68,
    "start_time": "2021-10-19T17:46:09.327Z"
   },
   {
    "duration": 16,
    "start_time": "2021-10-19T17:46:09.397Z"
   },
   {
    "duration": 16,
    "start_time": "2021-10-19T17:46:09.415Z"
   },
   {
    "duration": 338,
    "start_time": "2021-10-19T17:46:09.433Z"
   },
   {
    "duration": -52,
    "start_time": "2021-10-19T17:46:09.825Z"
   },
   {
    "duration": -54,
    "start_time": "2021-10-19T17:46:09.828Z"
   },
   {
    "duration": -55,
    "start_time": "2021-10-19T17:46:09.830Z"
   },
   {
    "duration": -55,
    "start_time": "2021-10-19T17:46:09.832Z"
   },
   {
    "duration": -56,
    "start_time": "2021-10-19T17:46:09.834Z"
   },
   {
    "duration": -57,
    "start_time": "2021-10-19T17:46:09.836Z"
   },
   {
    "duration": -58,
    "start_time": "2021-10-19T17:46:09.838Z"
   },
   {
    "duration": -59,
    "start_time": "2021-10-19T17:46:09.840Z"
   },
   {
    "duration": 1077,
    "start_time": "2021-10-19T17:46:40.220Z"
   },
   {
    "duration": 78,
    "start_time": "2021-10-19T17:46:41.301Z"
   },
   {
    "duration": 83,
    "start_time": "2021-10-19T17:46:41.381Z"
   },
   {
    "duration": 42,
    "start_time": "2021-10-19T17:46:41.466Z"
   },
   {
    "duration": 63,
    "start_time": "2021-10-19T17:46:41.510Z"
   },
   {
    "duration": 26,
    "start_time": "2021-10-19T17:46:41.575Z"
   },
   {
    "duration": 8,
    "start_time": "2021-10-19T17:46:41.602Z"
   },
   {
    "duration": 4,
    "start_time": "2021-10-19T17:46:41.612Z"
   },
   {
    "duration": 169,
    "start_time": "2021-10-19T17:46:41.618Z"
   },
   {
    "duration": 57,
    "start_time": "2021-10-19T17:46:41.789Z"
   },
   {
    "duration": 99,
    "start_time": "2021-10-19T17:46:41.864Z"
   },
   {
    "duration": 29,
    "start_time": "2021-10-19T17:46:41.965Z"
   },
   {
    "duration": 90,
    "start_time": "2021-10-19T17:46:41.996Z"
   },
   {
    "duration": 28,
    "start_time": "2021-10-19T17:46:42.088Z"
   },
   {
    "duration": 19,
    "start_time": "2021-10-19T17:46:42.118Z"
   },
   {
    "duration": 65,
    "start_time": "2021-10-19T17:46:42.139Z"
   },
   {
    "duration": 18,
    "start_time": "2021-10-19T17:46:42.206Z"
   },
   {
    "duration": 46,
    "start_time": "2021-10-19T17:46:42.225Z"
   },
   {
    "duration": 18,
    "start_time": "2021-10-19T17:46:42.274Z"
   },
   {
    "duration": 16,
    "start_time": "2021-10-19T17:46:42.294Z"
   },
   {
    "duration": 103,
    "start_time": "2021-10-19T17:46:42.312Z"
   },
   {
    "duration": 21,
    "start_time": "2021-10-19T17:46:42.417Z"
   },
   {
    "duration": 328,
    "start_time": "2021-10-19T17:46:42.441Z"
   },
   {
    "duration": -41,
    "start_time": "2021-10-19T17:46:42.812Z"
   },
   {
    "duration": -42,
    "start_time": "2021-10-19T17:46:42.814Z"
   },
   {
    "duration": -43,
    "start_time": "2021-10-19T17:46:42.816Z"
   },
   {
    "duration": -44,
    "start_time": "2021-10-19T17:46:42.818Z"
   },
   {
    "duration": 1075,
    "start_time": "2021-10-19T17:47:03.199Z"
   },
   {
    "duration": 77,
    "start_time": "2021-10-19T17:47:04.276Z"
   },
   {
    "duration": 71,
    "start_time": "2021-10-19T17:47:04.355Z"
   },
   {
    "duration": 62,
    "start_time": "2021-10-19T17:47:04.428Z"
   },
   {
    "duration": 36,
    "start_time": "2021-10-19T17:47:04.491Z"
   },
   {
    "duration": 49,
    "start_time": "2021-10-19T17:47:04.529Z"
   },
   {
    "duration": 6,
    "start_time": "2021-10-19T17:47:04.580Z"
   },
   {
    "duration": 3,
    "start_time": "2021-10-19T17:47:04.589Z"
   },
   {
    "duration": 162,
    "start_time": "2021-10-19T17:47:04.594Z"
   },
   {
    "duration": 57,
    "start_time": "2021-10-19T17:47:04.763Z"
   },
   {
    "duration": 114,
    "start_time": "2021-10-19T17:47:04.822Z"
   },
   {
    "duration": 39,
    "start_time": "2021-10-19T17:47:04.938Z"
   },
   {
    "duration": 96,
    "start_time": "2021-10-19T17:47:04.978Z"
   },
   {
    "duration": 27,
    "start_time": "2021-10-19T17:47:05.076Z"
   },
   {
    "duration": 17,
    "start_time": "2021-10-19T17:47:05.104Z"
   },
   {
    "duration": 71,
    "start_time": "2021-10-19T17:47:05.123Z"
   },
   {
    "duration": 17,
    "start_time": "2021-10-19T17:47:05.196Z"
   },
   {
    "duration": 16,
    "start_time": "2021-10-19T17:47:05.214Z"
   },
   {
    "duration": 46,
    "start_time": "2021-10-19T17:47:05.232Z"
   },
   {
    "duration": 16,
    "start_time": "2021-10-19T17:47:05.280Z"
   },
   {
    "duration": 99,
    "start_time": "2021-10-19T17:47:05.298Z"
   },
   {
    "duration": 19,
    "start_time": "2021-10-19T17:47:05.398Z"
   },
   {
    "duration": 1162,
    "start_time": "2021-10-19T17:47:05.419Z"
   },
   {
    "duration": 6,
    "start_time": "2021-10-19T17:47:06.583Z"
   },
   {
    "duration": 7,
    "start_time": "2021-10-19T17:47:06.590Z"
   },
   {
    "duration": 6,
    "start_time": "2021-10-19T17:47:06.599Z"
   },
   {
    "duration": 1125,
    "start_time": "2021-10-19T17:58:40.514Z"
   },
   {
    "duration": 86,
    "start_time": "2021-10-19T17:58:41.642Z"
   },
   {
    "duration": 81,
    "start_time": "2021-10-19T17:58:41.729Z"
   },
   {
    "duration": 69,
    "start_time": "2021-10-19T17:58:41.813Z"
   },
   {
    "duration": 39,
    "start_time": "2021-10-19T17:58:41.884Z"
   },
   {
    "duration": 57,
    "start_time": "2021-10-19T17:58:41.925Z"
   },
   {
    "duration": 9,
    "start_time": "2021-10-19T17:58:41.984Z"
   },
   {
    "duration": 8,
    "start_time": "2021-10-19T17:58:41.996Z"
   },
   {
    "duration": 164,
    "start_time": "2021-10-19T17:58:42.006Z"
   },
   {
    "duration": 57,
    "start_time": "2021-10-19T17:58:42.173Z"
   },
   {
    "duration": 118,
    "start_time": "2021-10-19T17:58:42.232Z"
   },
   {
    "duration": 40,
    "start_time": "2021-10-19T17:58:42.352Z"
   },
   {
    "duration": 95,
    "start_time": "2021-10-19T17:58:42.395Z"
   },
   {
    "duration": 29,
    "start_time": "2021-10-19T17:58:42.492Z"
   },
   {
    "duration": 42,
    "start_time": "2021-10-19T17:58:42.523Z"
   },
   {
    "duration": 41,
    "start_time": "2021-10-19T17:58:42.566Z"
   },
   {
    "duration": 16,
    "start_time": "2021-10-19T17:58:42.609Z"
   },
   {
    "duration": 48,
    "start_time": "2021-10-19T17:58:42.627Z"
   },
   {
    "duration": 33,
    "start_time": "2021-10-19T17:58:42.677Z"
   },
   {
    "duration": 15,
    "start_time": "2021-10-19T17:58:42.712Z"
   },
   {
    "duration": 80,
    "start_time": "2021-10-19T17:58:42.728Z"
   },
   {
    "duration": 1178,
    "start_time": "2021-10-19T17:58:42.809Z"
   },
   {
    "duration": 7,
    "start_time": "2021-10-19T17:58:43.991Z"
   },
   {
    "duration": 19,
    "start_time": "2021-10-19T17:58:44.000Z"
   },
   {
    "duration": 10,
    "start_time": "2021-10-19T17:58:44.021Z"
   },
   {
    "duration": 366,
    "start_time": "2021-10-19T17:58:59.759Z"
   },
   {
    "duration": 29,
    "start_time": "2021-10-19T17:59:47.862Z"
   },
   {
    "duration": 4,
    "start_time": "2021-10-19T18:06:54.724Z"
   },
   {
    "duration": 1226,
    "start_time": "2021-10-19T18:10:08.783Z"
   },
   {
    "duration": 81,
    "start_time": "2021-10-19T18:10:10.011Z"
   },
   {
    "duration": 87,
    "start_time": "2021-10-19T18:10:10.097Z"
   },
   {
    "duration": 45,
    "start_time": "2021-10-19T18:10:10.186Z"
   },
   {
    "duration": 64,
    "start_time": "2021-10-19T18:10:10.233Z"
   },
   {
    "duration": 28,
    "start_time": "2021-10-19T18:10:10.298Z"
   },
   {
    "duration": 8,
    "start_time": "2021-10-19T18:10:10.362Z"
   },
   {
    "duration": 18,
    "start_time": "2021-10-19T18:10:10.373Z"
   },
   {
    "duration": 154,
    "start_time": "2021-10-19T18:10:10.393Z"
   },
   {
    "duration": 59,
    "start_time": "2021-10-19T18:10:10.549Z"
   },
   {
    "duration": 106,
    "start_time": "2021-10-19T18:10:10.610Z"
   },
   {
    "duration": 28,
    "start_time": "2021-10-19T18:10:10.717Z"
   },
   {
    "duration": 83,
    "start_time": "2021-10-19T18:10:10.746Z"
   },
   {
    "duration": 40,
    "start_time": "2021-10-19T18:10:10.831Z"
   },
   {
    "duration": 17,
    "start_time": "2021-10-19T18:10:10.873Z"
   },
   {
    "duration": 42,
    "start_time": "2021-10-19T18:10:10.891Z"
   },
   {
    "duration": 42,
    "start_time": "2021-10-19T18:10:10.935Z"
   },
   {
    "duration": 16,
    "start_time": "2021-10-19T18:10:10.979Z"
   },
   {
    "duration": 15,
    "start_time": "2021-10-19T18:10:10.996Z"
   },
   {
    "duration": 14,
    "start_time": "2021-10-19T18:10:11.013Z"
   },
   {
    "duration": 67,
    "start_time": "2021-10-19T18:10:11.064Z"
   },
   {
    "duration": 4,
    "start_time": "2021-10-19T18:10:11.134Z"
   },
   {
    "duration": 43,
    "start_time": "2021-10-19T18:10:11.139Z"
   },
   {
    "duration": 1133,
    "start_time": "2021-10-19T18:10:11.184Z"
   },
   {
    "duration": 6,
    "start_time": "2021-10-19T18:10:12.319Z"
   },
   {
    "duration": 12,
    "start_time": "2021-10-19T18:10:12.326Z"
   },
   {
    "duration": 26,
    "start_time": "2021-10-19T18:10:12.339Z"
   },
   {
    "duration": 12,
    "start_time": "2021-10-19T18:16:33.833Z"
   },
   {
    "duration": 15,
    "start_time": "2021-10-19T18:16:44.017Z"
   },
   {
    "duration": 16,
    "start_time": "2021-10-19T18:17:19.288Z"
   },
   {
    "duration": 349,
    "start_time": "2021-10-19T18:18:26.868Z"
   },
   {
    "duration": 27,
    "start_time": "2021-10-19T18:18:49.733Z"
   },
   {
    "duration": 26,
    "start_time": "2021-10-19T18:19:18.979Z"
   },
   {
    "duration": 271,
    "start_time": "2021-10-19T18:19:54.056Z"
   },
   {
    "duration": 278,
    "start_time": "2021-10-19T18:20:02.528Z"
   },
   {
    "duration": 26,
    "start_time": "2021-10-19T18:20:18.234Z"
   },
   {
    "duration": 31,
    "start_time": "2021-10-19T18:24:06.040Z"
   },
   {
    "duration": 31,
    "start_time": "2021-10-19T18:24:43.236Z"
   },
   {
    "duration": 30,
    "start_time": "2021-10-19T18:25:00.662Z"
   },
   {
    "duration": 31,
    "start_time": "2021-10-19T18:25:19.368Z"
   },
   {
    "duration": 36,
    "start_time": "2021-10-19T18:25:41.240Z"
   },
   {
    "duration": 20,
    "start_time": "2021-10-19T18:26:09.066Z"
   },
   {
    "duration": 81,
    "start_time": "2021-10-19T18:31:48.907Z"
   },
   {
    "duration": 266,
    "start_time": "2021-10-19T18:31:56.923Z"
   },
   {
    "duration": 242,
    "start_time": "2021-10-19T18:32:42.976Z"
   },
   {
    "duration": 248,
    "start_time": "2021-10-19T18:34:48.281Z"
   },
   {
    "duration": 249,
    "start_time": "2021-10-19T18:34:56.292Z"
   },
   {
    "duration": 252,
    "start_time": "2021-10-19T18:35:02.901Z"
   },
   {
    "duration": 1045,
    "start_time": "2021-10-19T18:35:48.143Z"
   },
   {
    "duration": 2087,
    "start_time": "2021-10-19T18:35:57.065Z"
   },
   {
    "duration": 2071,
    "start_time": "2021-10-19T18:36:09.058Z"
   },
   {
    "duration": 1979,
    "start_time": "2021-10-19T18:36:32.616Z"
   },
   {
    "duration": 2130,
    "start_time": "2021-10-19T18:36:44.496Z"
   },
   {
    "duration": 688,
    "start_time": "2021-10-19T18:36:59.719Z"
   },
   {
    "duration": 721,
    "start_time": "2021-10-19T18:38:48.286Z"
   },
   {
    "duration": 2261,
    "start_time": "2021-10-19T18:38:59.805Z"
   },
   {
    "duration": 925,
    "start_time": "2021-10-19T18:39:44.928Z"
   },
   {
    "duration": 2597,
    "start_time": "2021-10-19T18:40:00.557Z"
   },
   {
    "duration": 573,
    "start_time": "2021-10-19T18:43:17.119Z"
   },
   {
    "duration": 532,
    "start_time": "2021-10-19T18:45:53.819Z"
   },
   {
    "duration": 652,
    "start_time": "2021-10-19T18:46:41.028Z"
   },
   {
    "duration": 515,
    "start_time": "2021-10-19T18:47:06.791Z"
   },
   {
    "duration": 86,
    "start_time": "2021-10-19T18:47:31.272Z"
   },
   {
    "duration": 874,
    "start_time": "2021-10-19T18:52:55.515Z"
   },
   {
    "duration": 657,
    "start_time": "2021-10-19T19:00:25.031Z"
   },
   {
    "duration": 1150,
    "start_time": "2021-10-19T19:00:51.085Z"
   },
   {
    "duration": 81,
    "start_time": "2021-10-19T19:00:52.237Z"
   },
   {
    "duration": 90,
    "start_time": "2021-10-19T19:00:52.321Z"
   },
   {
    "duration": 66,
    "start_time": "2021-10-19T19:00:52.413Z"
   },
   {
    "duration": 39,
    "start_time": "2021-10-19T19:00:52.481Z"
   },
   {
    "duration": 54,
    "start_time": "2021-10-19T19:00:52.522Z"
   },
   {
    "duration": 7,
    "start_time": "2021-10-19T19:00:52.578Z"
   },
   {
    "duration": 3,
    "start_time": "2021-10-19T19:00:52.588Z"
   },
   {
    "duration": 164,
    "start_time": "2021-10-19T19:00:52.593Z"
   },
   {
    "duration": 57,
    "start_time": "2021-10-19T19:00:52.763Z"
   },
   {
    "duration": 111,
    "start_time": "2021-10-19T19:00:52.822Z"
   },
   {
    "duration": 39,
    "start_time": "2021-10-19T19:00:52.935Z"
   },
   {
    "duration": 87,
    "start_time": "2021-10-19T19:00:52.976Z"
   },
   {
    "duration": 29,
    "start_time": "2021-10-19T19:00:53.065Z"
   },
   {
    "duration": 19,
    "start_time": "2021-10-19T19:00:53.096Z"
   },
   {
    "duration": 67,
    "start_time": "2021-10-19T19:00:53.117Z"
   },
   {
    "duration": 16,
    "start_time": "2021-10-19T19:00:53.186Z"
   },
   {
    "duration": 15,
    "start_time": "2021-10-19T19:00:53.204Z"
   },
   {
    "duration": 53,
    "start_time": "2021-10-19T19:00:53.221Z"
   },
   {
    "duration": 15,
    "start_time": "2021-10-19T19:00:53.276Z"
   },
   {
    "duration": 92,
    "start_time": "2021-10-19T19:00:53.293Z"
   },
   {
    "duration": 4,
    "start_time": "2021-10-19T19:00:53.387Z"
   },
   {
    "duration": 29,
    "start_time": "2021-10-19T19:00:53.395Z"
   },
   {
    "duration": 73,
    "start_time": "2021-10-19T19:00:53.426Z"
   },
   {
    "duration": 645,
    "start_time": "2021-10-19T19:00:53.502Z"
   },
   {
    "duration": -44,
    "start_time": "2021-10-19T19:00:54.193Z"
   },
   {
    "duration": -50,
    "start_time": "2021-10-19T19:00:54.200Z"
   },
   {
    "duration": -52,
    "start_time": "2021-10-19T19:00:54.203Z"
   },
   {
    "duration": -53,
    "start_time": "2021-10-19T19:00:54.205Z"
   },
   {
    "duration": -54,
    "start_time": "2021-10-19T19:00:54.207Z"
   },
   {
    "duration": -46,
    "start_time": "2021-10-19T19:00:54.209Z"
   },
   {
    "duration": -47,
    "start_time": "2021-10-19T19:00:54.211Z"
   },
   {
    "duration": 1152,
    "start_time": "2021-10-19T19:01:49.726Z"
   },
   {
    "duration": 1089,
    "start_time": "2021-10-19T19:01:58.894Z"
   },
   {
    "duration": 1169,
    "start_time": "2021-10-19T19:02:06.161Z"
   },
   {
    "duration": 1236,
    "start_time": "2021-10-19T19:02:12.248Z"
   },
   {
    "duration": 1311,
    "start_time": "2021-10-19T19:02:24.308Z"
   },
   {
    "duration": 1266,
    "start_time": "2021-10-19T19:03:00.850Z"
   },
   {
    "duration": 2087,
    "start_time": "2021-10-19T19:03:17.522Z"
   },
   {
    "duration": 1229,
    "start_time": "2021-10-19T19:04:19.207Z"
   },
   {
    "duration": 1228,
    "start_time": "2021-10-19T19:04:54.258Z"
   },
   {
    "duration": 1400,
    "start_time": "2021-10-19T19:05:15.507Z"
   },
   {
    "duration": 1133,
    "start_time": "2021-10-19T19:05:46.806Z"
   },
   {
    "duration": 2142,
    "start_time": "2021-10-19T19:05:54.733Z"
   },
   {
    "duration": 1216,
    "start_time": "2021-10-19T19:06:46.720Z"
   },
   {
    "duration": 1758,
    "start_time": "2021-10-19T19:07:04.495Z"
   },
   {
    "duration": 1310,
    "start_time": "2021-10-19T19:07:12.606Z"
   },
   {
    "duration": 1201,
    "start_time": "2021-10-19T19:07:24.814Z"
   },
   {
    "duration": 1048,
    "start_time": "2021-10-19T19:08:15.510Z"
   },
   {
    "duration": 1456,
    "start_time": "2021-10-19T19:08:39.887Z"
   },
   {
    "duration": 1175,
    "start_time": "2021-10-19T19:09:02.512Z"
   },
   {
    "duration": 1567,
    "start_time": "2021-10-19T19:09:10.500Z"
   },
   {
    "duration": 1172,
    "start_time": "2021-10-19T19:09:19.657Z"
   },
   {
    "duration": 1126,
    "start_time": "2021-10-19T19:10:27.540Z"
   },
   {
    "duration": 1026,
    "start_time": "2021-10-19T19:11:02.628Z"
   },
   {
    "duration": 1412,
    "start_time": "2021-10-19T19:11:08.186Z"
   },
   {
    "duration": 990,
    "start_time": "2021-10-19T19:11:18.673Z"
   },
   {
    "duration": 923,
    "start_time": "2021-10-19T19:11:24.792Z"
   },
   {
    "duration": 902,
    "start_time": "2021-10-19T19:11:45.494Z"
   },
   {
    "duration": 3191,
    "start_time": "2021-10-19T19:11:49.419Z"
   },
   {
    "duration": 822,
    "start_time": "2021-10-19T19:12:00.467Z"
   },
   {
    "duration": 781,
    "start_time": "2021-10-19T19:12:09.478Z"
   },
   {
    "duration": 878,
    "start_time": "2021-10-19T19:12:24.363Z"
   },
   {
    "duration": 805,
    "start_time": "2021-10-19T19:12:39.023Z"
   },
   {
    "duration": 1566,
    "start_time": "2021-10-19T19:16:59.678Z"
   },
   {
    "duration": 1193,
    "start_time": "2021-10-19T19:18:01.180Z"
   },
   {
    "duration": 78,
    "start_time": "2021-10-19T19:18:02.375Z"
   },
   {
    "duration": 67,
    "start_time": "2021-10-19T19:18:02.463Z"
   },
   {
    "duration": 69,
    "start_time": "2021-10-19T19:18:02.533Z"
   },
   {
    "duration": 64,
    "start_time": "2021-10-19T19:18:02.604Z"
   },
   {
    "duration": 28,
    "start_time": "2021-10-19T19:18:02.669Z"
   },
   {
    "duration": 7,
    "start_time": "2021-10-19T19:18:02.699Z"
   },
   {
    "duration": 22,
    "start_time": "2021-10-19T19:18:02.709Z"
   },
   {
    "duration": 165,
    "start_time": "2021-10-19T19:18:02.734Z"
   },
   {
    "duration": 69,
    "start_time": "2021-10-19T19:18:02.901Z"
   },
   {
    "duration": 101,
    "start_time": "2021-10-19T19:18:02.972Z"
   },
   {
    "duration": 29,
    "start_time": "2021-10-19T19:18:03.074Z"
   },
   {
    "duration": 129,
    "start_time": "2021-10-19T19:18:03.105Z"
   },
   {
    "duration": 48,
    "start_time": "2021-10-19T19:18:03.236Z"
   },
   {
    "duration": 25,
    "start_time": "2021-10-19T19:18:03.286Z"
   },
   {
    "duration": 84,
    "start_time": "2021-10-19T19:18:03.313Z"
   },
   {
    "duration": 21,
    "start_time": "2021-10-19T19:18:03.399Z"
   },
   {
    "duration": 43,
    "start_time": "2021-10-19T19:18:03.422Z"
   },
   {
    "duration": 29,
    "start_time": "2021-10-19T19:18:03.467Z"
   },
   {
    "duration": 24,
    "start_time": "2021-10-19T19:18:03.498Z"
   },
   {
    "duration": 78,
    "start_time": "2021-10-19T19:18:03.524Z"
   },
   {
    "duration": 5,
    "start_time": "2021-10-19T19:18:03.604Z"
   },
   {
    "duration": 10,
    "start_time": "2021-10-19T19:18:03.612Z"
   },
   {
    "duration": 59,
    "start_time": "2021-10-19T19:18:03.624Z"
   },
   {
    "duration": 889,
    "start_time": "2021-10-19T19:18:03.684Z"
   },
   {
    "duration": 902,
    "start_time": "2021-10-19T19:18:04.575Z"
   },
   {
    "duration": 391,
    "start_time": "2021-10-19T19:18:05.478Z"
   },
   {
    "duration": -41,
    "start_time": "2021-10-19T19:18:05.912Z"
   },
   {
    "duration": -43,
    "start_time": "2021-10-19T19:18:05.915Z"
   },
   {
    "duration": 7,
    "start_time": "2021-10-19T19:18:21.466Z"
   },
   {
    "duration": 7,
    "start_time": "2021-10-19T19:18:22.719Z"
   },
   {
    "duration": 7,
    "start_time": "2021-10-19T19:18:24.300Z"
   },
   {
    "duration": 11,
    "start_time": "2021-10-19T19:20:20.044Z"
   },
   {
    "duration": 34,
    "start_time": "2021-10-19T19:21:19.772Z"
   },
   {
    "duration": 1633,
    "start_time": "2021-10-19T19:25:36.870Z"
   },
   {
    "duration": 79,
    "start_time": "2021-10-19T19:25:38.505Z"
   },
   {
    "duration": 97,
    "start_time": "2021-10-19T19:25:38.586Z"
   },
   {
    "duration": 40,
    "start_time": "2021-10-19T19:25:38.685Z"
   },
   {
    "duration": 58,
    "start_time": "2021-10-19T19:25:38.727Z"
   },
   {
    "duration": 37,
    "start_time": "2021-10-19T19:25:38.787Z"
   },
   {
    "duration": 41,
    "start_time": "2021-10-19T19:25:38.826Z"
   },
   {
    "duration": 4,
    "start_time": "2021-10-19T19:25:38.871Z"
   },
   {
    "duration": 204,
    "start_time": "2021-10-19T19:25:38.878Z"
   },
   {
    "duration": 93,
    "start_time": "2021-10-19T19:25:39.084Z"
   },
   {
    "duration": 101,
    "start_time": "2021-10-19T19:25:39.179Z"
   },
   {
    "duration": 27,
    "start_time": "2021-10-19T19:25:39.281Z"
   },
   {
    "duration": 89,
    "start_time": "2021-10-19T19:25:39.310Z"
   },
   {
    "duration": 29,
    "start_time": "2021-10-19T19:25:39.400Z"
   },
   {
    "duration": 39,
    "start_time": "2021-10-19T19:25:39.430Z"
   },
   {
    "duration": 58,
    "start_time": "2021-10-19T19:25:39.470Z"
   },
   {
    "duration": 16,
    "start_time": "2021-10-19T19:25:39.530Z"
   },
   {
    "duration": 28,
    "start_time": "2021-10-19T19:25:39.548Z"
   },
   {
    "duration": 15,
    "start_time": "2021-10-19T19:25:39.578Z"
   },
   {
    "duration": 17,
    "start_time": "2021-10-19T19:25:39.595Z"
   },
   {
    "duration": 110,
    "start_time": "2021-10-19T19:25:39.613Z"
   },
   {
    "duration": 4,
    "start_time": "2021-10-19T19:25:39.724Z"
   },
   {
    "duration": 10,
    "start_time": "2021-10-19T19:25:39.731Z"
   },
   {
    "duration": 45,
    "start_time": "2021-10-19T19:25:39.743Z"
   },
   {
    "duration": 877,
    "start_time": "2021-10-19T19:25:39.789Z"
   },
   {
    "duration": 808,
    "start_time": "2021-10-19T19:25:40.668Z"
   },
   {
    "duration": 33,
    "start_time": "2021-10-19T19:33:16.313Z"
   },
   {
    "duration": 430,
    "start_time": "2021-10-19T19:34:25.106Z"
   },
   {
    "duration": 380,
    "start_time": "2021-10-19T19:34:36.798Z"
   },
   {
    "duration": 8,
    "start_time": "2021-10-19T19:34:48.858Z"
   },
   {
    "duration": 82,
    "start_time": "2021-10-19T19:35:02.873Z"
   },
   {
    "duration": 6,
    "start_time": "2021-10-19T19:35:06.315Z"
   },
   {
    "duration": 6,
    "start_time": "2021-10-19T19:37:58.023Z"
   },
   {
    "duration": 7,
    "start_time": "2021-10-19T19:38:40.547Z"
   },
   {
    "duration": 10,
    "start_time": "2021-10-19T19:39:41.430Z"
   },
   {
    "duration": 7,
    "start_time": "2021-10-19T19:39:49.723Z"
   },
   {
    "duration": 8,
    "start_time": "2021-10-19T19:43:50.499Z"
   },
   {
    "duration": 7,
    "start_time": "2021-10-19T19:43:53.109Z"
   },
   {
    "duration": 8,
    "start_time": "2021-10-19T19:45:28.917Z"
   },
   {
    "duration": 43,
    "start_time": "2021-10-19T19:48:38.620Z"
   },
   {
    "duration": 7,
    "start_time": "2021-10-19T19:50:44.960Z"
   },
   {
    "duration": 8,
    "start_time": "2021-10-19T19:51:13.579Z"
   },
   {
    "duration": 9,
    "start_time": "2021-10-19T19:51:17.415Z"
   },
   {
    "duration": 8,
    "start_time": "2021-10-19T19:51:20.587Z"
   },
   {
    "duration": 6,
    "start_time": "2021-10-19T19:58:52.667Z"
   },
   {
    "duration": 6,
    "start_time": "2021-10-19T19:59:11.276Z"
   },
   {
    "duration": 9,
    "start_time": "2021-10-19T19:59:14.920Z"
   },
   {
    "duration": 7,
    "start_time": "2021-10-19T20:00:40.568Z"
   },
   {
    "duration": 23,
    "start_time": "2021-10-19T20:09:20.397Z"
   },
   {
    "duration": 1515,
    "start_time": "2021-10-19T20:09:34.391Z"
   },
   {
    "duration": 75,
    "start_time": "2021-10-19T20:09:35.909Z"
   },
   {
    "duration": 78,
    "start_time": "2021-10-19T20:09:35.986Z"
   },
   {
    "duration": 42,
    "start_time": "2021-10-19T20:09:36.066Z"
   },
   {
    "duration": 65,
    "start_time": "2021-10-19T20:09:36.109Z"
   },
   {
    "duration": 35,
    "start_time": "2021-10-19T20:09:36.176Z"
   },
   {
    "duration": 7,
    "start_time": "2021-10-19T20:09:36.213Z"
   },
   {
    "duration": 12,
    "start_time": "2021-10-19T20:09:36.222Z"
   },
   {
    "duration": 160,
    "start_time": "2021-10-19T20:09:36.237Z"
   },
   {
    "duration": 72,
    "start_time": "2021-10-19T20:09:36.398Z"
   },
   {
    "duration": 95,
    "start_time": "2021-10-19T20:09:36.472Z"
   },
   {
    "duration": 29,
    "start_time": "2021-10-19T20:09:36.569Z"
   },
   {
    "duration": 89,
    "start_time": "2021-10-19T20:09:36.600Z"
   },
   {
    "duration": 29,
    "start_time": "2021-10-19T20:09:36.690Z"
   },
   {
    "duration": 19,
    "start_time": "2021-10-19T20:09:36.720Z"
   },
   {
    "duration": 43,
    "start_time": "2021-10-19T20:09:36.764Z"
   },
   {
    "duration": 17,
    "start_time": "2021-10-19T20:09:36.808Z"
   },
   {
    "duration": 49,
    "start_time": "2021-10-19T20:09:36.827Z"
   },
   {
    "duration": 18,
    "start_time": "2021-10-19T20:09:36.878Z"
   },
   {
    "duration": 17,
    "start_time": "2021-10-19T20:09:36.898Z"
   },
   {
    "duration": 105,
    "start_time": "2021-10-19T20:09:36.917Z"
   },
   {
    "duration": 4,
    "start_time": "2021-10-19T20:09:37.024Z"
   },
   {
    "duration": 56,
    "start_time": "2021-10-19T20:09:37.031Z"
   },
   {
    "duration": 31,
    "start_time": "2021-10-19T20:09:37.089Z"
   },
   {
    "duration": 876,
    "start_time": "2021-10-19T20:09:37.121Z"
   },
   {
    "duration": 912,
    "start_time": "2021-10-19T20:09:37.999Z"
   },
   {
    "duration": 7,
    "start_time": "2021-10-19T20:09:38.913Z"
   },
   {
    "duration": 14,
    "start_time": "2021-10-19T20:09:38.921Z"
   },
   {
    "duration": 27,
    "start_time": "2021-10-19T20:09:38.937Z"
   },
   {
    "duration": 1536,
    "start_time": "2021-10-19T20:10:14.755Z"
   },
   {
    "duration": 73,
    "start_time": "2021-10-19T20:10:16.293Z"
   },
   {
    "duration": 65,
    "start_time": "2021-10-19T20:10:16.368Z"
   },
   {
    "duration": 58,
    "start_time": "2021-10-19T20:10:16.435Z"
   },
   {
    "duration": 36,
    "start_time": "2021-10-19T20:10:16.494Z"
   },
   {
    "duration": 52,
    "start_time": "2021-10-19T20:10:16.532Z"
   },
   {
    "duration": 6,
    "start_time": "2021-10-19T20:10:16.586Z"
   },
   {
    "duration": 3,
    "start_time": "2021-10-19T20:10:16.595Z"
   },
   {
    "duration": 163,
    "start_time": "2021-10-19T20:10:16.600Z"
   },
   {
    "duration": 52,
    "start_time": "2021-10-19T20:10:16.765Z"
   },
   {
    "duration": 102,
    "start_time": "2021-10-19T20:10:16.819Z"
   },
   {
    "duration": 42,
    "start_time": "2021-10-19T20:10:16.923Z"
   },
   {
    "duration": 76,
    "start_time": "2021-10-19T20:10:16.968Z"
   },
   {
    "duration": 42,
    "start_time": "2021-10-19T20:10:17.046Z"
   },
   {
    "duration": 18,
    "start_time": "2021-10-19T20:10:17.090Z"
   },
   {
    "duration": 68,
    "start_time": "2021-10-19T20:10:17.111Z"
   },
   {
    "duration": 17,
    "start_time": "2021-10-19T20:10:17.182Z"
   },
   {
    "duration": 14,
    "start_time": "2021-10-19T20:10:17.201Z"
   },
   {
    "duration": 49,
    "start_time": "2021-10-19T20:10:17.217Z"
   },
   {
    "duration": 18,
    "start_time": "2021-10-19T20:10:17.268Z"
   },
   {
    "duration": 97,
    "start_time": "2021-10-19T20:10:17.288Z"
   },
   {
    "duration": 5,
    "start_time": "2021-10-19T20:10:17.387Z"
   },
   {
    "duration": 47,
    "start_time": "2021-10-19T20:10:17.395Z"
   },
   {
    "duration": 47,
    "start_time": "2021-10-19T20:10:17.444Z"
   },
   {
    "duration": 861,
    "start_time": "2021-10-19T20:10:17.493Z"
   },
   {
    "duration": 812,
    "start_time": "2021-10-19T20:10:18.356Z"
   },
   {
    "duration": 6,
    "start_time": "2021-10-19T20:10:19.169Z"
   },
   {
    "duration": 12,
    "start_time": "2021-10-19T20:10:19.177Z"
   },
   {
    "duration": 14,
    "start_time": "2021-10-19T20:10:19.191Z"
   },
   {
    "duration": 86,
    "start_time": "2021-10-19T20:12:57.699Z"
   },
   {
    "duration": 8,
    "start_time": "2021-10-19T20:13:03.414Z"
   },
   {
    "duration": 7,
    "start_time": "2021-10-19T20:13:52.862Z"
   },
   {
    "duration": 7,
    "start_time": "2021-10-19T20:14:17.887Z"
   },
   {
    "duration": 7,
    "start_time": "2021-10-19T20:14:29.784Z"
   },
   {
    "duration": 8,
    "start_time": "2021-10-19T20:14:50.989Z"
   },
   {
    "duration": 8,
    "start_time": "2021-10-19T20:15:29.623Z"
   },
   {
    "duration": 76,
    "start_time": "2021-10-19T20:17:11.069Z"
   },
   {
    "duration": 24,
    "start_time": "2021-10-19T20:17:14.615Z"
   },
   {
    "duration": 25,
    "start_time": "2021-10-19T20:17:41.948Z"
   },
   {
    "duration": 12,
    "start_time": "2021-10-19T20:19:56.007Z"
   },
   {
    "duration": 6,
    "start_time": "2021-10-19T20:21:00.696Z"
   },
   {
    "duration": 13,
    "start_time": "2021-10-19T20:22:30.921Z"
   },
   {
    "duration": 12,
    "start_time": "2021-10-19T20:26:55.047Z"
   },
   {
    "duration": 8,
    "start_time": "2021-10-19T20:26:57.823Z"
   },
   {
    "duration": 13,
    "start_time": "2021-10-19T20:27:17.672Z"
   },
   {
    "duration": 7,
    "start_time": "2021-10-19T20:55:38.356Z"
   },
   {
    "duration": 21,
    "start_time": "2021-10-19T20:55:51.025Z"
   },
   {
    "duration": 1506,
    "start_time": "2021-10-19T20:56:01.785Z"
   },
   {
    "duration": 77,
    "start_time": "2021-10-19T20:56:03.293Z"
   },
   {
    "duration": 64,
    "start_time": "2021-10-19T20:56:03.372Z"
   },
   {
    "duration": 62,
    "start_time": "2021-10-19T20:56:03.438Z"
   },
   {
    "duration": 36,
    "start_time": "2021-10-19T20:56:03.501Z"
   },
   {
    "duration": 49,
    "start_time": "2021-10-19T20:56:03.539Z"
   },
   {
    "duration": 14,
    "start_time": "2021-10-19T20:56:03.590Z"
   },
   {
    "duration": 14,
    "start_time": "2021-10-19T20:56:03.605Z"
   },
   {
    "duration": 150,
    "start_time": "2021-10-19T20:56:03.622Z"
   },
   {
    "duration": 58,
    "start_time": "2021-10-19T20:56:03.774Z"
   },
   {
    "duration": 111,
    "start_time": "2021-10-19T20:56:03.833Z"
   },
   {
    "duration": 37,
    "start_time": "2021-10-19T20:56:03.946Z"
   },
   {
    "duration": 84,
    "start_time": "2021-10-19T20:56:03.985Z"
   },
   {
    "duration": 27,
    "start_time": "2021-10-19T20:56:04.071Z"
   },
   {
    "duration": 17,
    "start_time": "2021-10-19T20:56:04.100Z"
   },
   {
    "duration": 65,
    "start_time": "2021-10-19T20:56:04.119Z"
   },
   {
    "duration": 18,
    "start_time": "2021-10-19T20:56:04.187Z"
   },
   {
    "duration": 17,
    "start_time": "2021-10-19T20:56:04.207Z"
   },
   {
    "duration": 54,
    "start_time": "2021-10-19T20:56:04.226Z"
   },
   {
    "duration": 17,
    "start_time": "2021-10-19T20:56:04.282Z"
   },
   {
    "duration": 103,
    "start_time": "2021-10-19T20:56:04.301Z"
   },
   {
    "duration": 5,
    "start_time": "2021-10-19T20:56:04.406Z"
   },
   {
    "duration": 69,
    "start_time": "2021-10-19T20:56:04.413Z"
   },
   {
    "duration": 32,
    "start_time": "2021-10-19T20:56:04.485Z"
   },
   {
    "duration": 877,
    "start_time": "2021-10-19T20:56:04.518Z"
   },
   {
    "duration": 820,
    "start_time": "2021-10-19T20:56:05.396Z"
   },
   {
    "duration": 8,
    "start_time": "2021-10-19T20:56:06.219Z"
   },
   {
    "duration": 36,
    "start_time": "2021-10-19T20:56:06.229Z"
   },
   {
    "duration": 68,
    "start_time": "2021-10-19T21:08:23.511Z"
   },
   {
    "duration": 81,
    "start_time": "2021-10-19T21:08:43.303Z"
   },
   {
    "duration": 9,
    "start_time": "2021-10-19T21:11:22.154Z"
   },
   {
    "duration": 376,
    "start_time": "2021-10-19T21:20:07.473Z"
   },
   {
    "duration": 999,
    "start_time": "2021-10-19T21:20:36.666Z"
   },
   {
    "duration": 22,
    "start_time": "2021-10-19T21:37:02.863Z"
   },
   {
    "duration": 21,
    "start_time": "2021-10-19T21:37:42.576Z"
   },
   {
    "duration": 16,
    "start_time": "2021-10-19T21:37:49.496Z"
   },
   {
    "duration": 15,
    "start_time": "2021-10-19T21:39:57.860Z"
   },
   {
    "duration": 71,
    "start_time": "2021-10-19T21:48:52.499Z"
   },
   {
    "duration": 33,
    "start_time": "2021-10-19T21:52:21.094Z"
   },
   {
    "duration": 2373,
    "start_time": "2021-10-19T21:56:00.790Z"
   },
   {
    "duration": 2441,
    "start_time": "2021-10-19T21:57:17.303Z"
   },
   {
    "duration": 2528,
    "start_time": "2021-10-19T21:57:35.517Z"
   },
   {
    "duration": 2455,
    "start_time": "2021-10-19T21:57:45.770Z"
   },
   {
    "duration": 30,
    "start_time": "2021-10-19T22:02:51.682Z"
   },
   {
    "duration": 66,
    "start_time": "2021-10-19T22:04:17.839Z"
   },
   {
    "duration": 93,
    "start_time": "2021-10-19T22:05:08.452Z"
   },
   {
    "duration": 2312,
    "start_time": "2021-10-19T22:05:54.093Z"
   },
   {
    "duration": 261,
    "start_time": "2021-10-19T22:07:39.551Z"
   },
   {
    "duration": 95,
    "start_time": "2021-10-19T22:08:18.030Z"
   },
   {
    "duration": 7,
    "start_time": "2021-10-19T22:53:11.577Z"
   },
   {
    "duration": 14,
    "start_time": "2021-10-19T22:54:37.468Z"
   },
   {
    "duration": 80,
    "start_time": "2021-10-19T22:55:23.010Z"
   },
   {
    "duration": 1504,
    "start_time": "2021-10-19T23:16:19.791Z"
   },
   {
    "duration": 79,
    "start_time": "2021-10-19T23:16:21.297Z"
   },
   {
    "duration": 63,
    "start_time": "2021-10-19T23:16:21.378Z"
   },
   {
    "duration": 58,
    "start_time": "2021-10-19T23:16:21.443Z"
   },
   {
    "duration": 60,
    "start_time": "2021-10-19T23:16:21.502Z"
   },
   {
    "duration": 27,
    "start_time": "2021-10-19T23:16:21.565Z"
   },
   {
    "duration": 8,
    "start_time": "2021-10-19T23:16:21.594Z"
   },
   {
    "duration": 3,
    "start_time": "2021-10-19T23:16:21.604Z"
   },
   {
    "duration": 161,
    "start_time": "2021-10-19T23:16:21.610Z"
   },
   {
    "duration": 56,
    "start_time": "2021-10-19T23:16:21.773Z"
   },
   {
    "duration": 111,
    "start_time": "2021-10-19T23:16:21.830Z"
   },
   {
    "duration": 41,
    "start_time": "2021-10-19T23:16:21.943Z"
   },
   {
    "duration": 86,
    "start_time": "2021-10-19T23:16:21.986Z"
   },
   {
    "duration": 28,
    "start_time": "2021-10-19T23:16:22.074Z"
   },
   {
    "duration": 18,
    "start_time": "2021-10-19T23:16:22.104Z"
   },
   {
    "duration": 70,
    "start_time": "2021-10-19T23:16:22.124Z"
   },
   {
    "duration": 12,
    "start_time": "2021-10-19T23:16:22.196Z"
   },
   {
    "duration": 15,
    "start_time": "2021-10-19T23:16:22.210Z"
   },
   {
    "duration": 47,
    "start_time": "2021-10-19T23:16:22.227Z"
   },
   {
    "duration": 18,
    "start_time": "2021-10-19T23:16:22.276Z"
   },
   {
    "duration": 93,
    "start_time": "2021-10-19T23:16:22.295Z"
   },
   {
    "duration": 4,
    "start_time": "2021-10-19T23:16:22.390Z"
   },
   {
    "duration": 41,
    "start_time": "2021-10-19T23:16:22.397Z"
   },
   {
    "duration": 110,
    "start_time": "2021-10-19T23:16:22.464Z"
   },
   {
    "duration": 2479,
    "start_time": "2021-10-19T23:16:22.576Z"
   },
   {
    "duration": 13,
    "start_time": "2021-10-19T23:16:25.057Z"
   },
   {
    "duration": 16,
    "start_time": "2021-10-19T23:16:25.072Z"
   },
   {
    "duration": 1489,
    "start_time": "2021-10-19T23:16:57.990Z"
   },
   {
    "duration": 79,
    "start_time": "2021-10-19T23:16:59.482Z"
   },
   {
    "duration": 62,
    "start_time": "2021-10-19T23:16:59.563Z"
   },
   {
    "duration": 66,
    "start_time": "2021-10-19T23:16:59.627Z"
   },
   {
    "duration": 34,
    "start_time": "2021-10-19T23:16:59.695Z"
   },
   {
    "duration": 48,
    "start_time": "2021-10-19T23:16:59.731Z"
   },
   {
    "duration": 7,
    "start_time": "2021-10-19T23:16:59.780Z"
   },
   {
    "duration": 4,
    "start_time": "2021-10-19T23:16:59.789Z"
   },
   {
    "duration": 156,
    "start_time": "2021-10-19T23:16:59.796Z"
   },
   {
    "duration": 60,
    "start_time": "2021-10-19T23:16:59.954Z"
   },
   {
    "duration": 108,
    "start_time": "2021-10-19T23:17:00.015Z"
   },
   {
    "duration": 42,
    "start_time": "2021-10-19T23:17:00.125Z"
   },
   {
    "duration": 77,
    "start_time": "2021-10-19T23:17:00.168Z"
   },
   {
    "duration": 30,
    "start_time": "2021-10-19T23:17:00.263Z"
   },
   {
    "duration": 19,
    "start_time": "2021-10-19T23:17:00.295Z"
   },
   {
    "duration": 61,
    "start_time": "2021-10-19T23:17:00.316Z"
   },
   {
    "duration": 13,
    "start_time": "2021-10-19T23:17:00.379Z"
   },
   {
    "duration": 18,
    "start_time": "2021-10-19T23:17:00.394Z"
   },
   {
    "duration": 55,
    "start_time": "2021-10-19T23:17:00.414Z"
   },
   {
    "duration": 18,
    "start_time": "2021-10-19T23:17:00.471Z"
   },
   {
    "duration": 94,
    "start_time": "2021-10-19T23:17:00.491Z"
   },
   {
    "duration": 5,
    "start_time": "2021-10-19T23:17:00.587Z"
   },
   {
    "duration": 41,
    "start_time": "2021-10-19T23:17:00.595Z"
   },
   {
    "duration": 127,
    "start_time": "2021-10-19T23:17:00.638Z"
   },
   {
    "duration": 2556,
    "start_time": "2021-10-19T23:17:00.767Z"
   },
   {
    "duration": 9,
    "start_time": "2021-10-19T23:17:03.325Z"
   },
   {
    "duration": 34,
    "start_time": "2021-10-19T23:17:03.336Z"
   },
   {
    "duration": 1862,
    "start_time": "2021-10-20T06:31:20.470Z"
   },
   {
    "duration": 101,
    "start_time": "2021-10-20T06:31:22.334Z"
   },
   {
    "duration": 95,
    "start_time": "2021-10-20T06:31:22.438Z"
   },
   {
    "duration": 58,
    "start_time": "2021-10-20T06:31:22.557Z"
   },
   {
    "duration": 77,
    "start_time": "2021-10-20T06:31:22.617Z"
   },
   {
    "duration": 73,
    "start_time": "2021-10-20T06:31:22.697Z"
   },
   {
    "duration": 10,
    "start_time": "2021-10-20T06:31:22.772Z"
   },
   {
    "duration": 17,
    "start_time": "2021-10-20T06:31:22.785Z"
   },
   {
    "duration": 205,
    "start_time": "2021-10-20T06:31:22.806Z"
   },
   {
    "duration": 86,
    "start_time": "2021-10-20T06:31:23.015Z"
   },
   {
    "duration": 139,
    "start_time": "2021-10-20T06:31:23.104Z"
   },
   {
    "duration": 46,
    "start_time": "2021-10-20T06:31:23.246Z"
   },
   {
    "duration": 122,
    "start_time": "2021-10-20T06:31:23.295Z"
   },
   {
    "duration": 48,
    "start_time": "2021-10-20T06:31:23.419Z"
   },
   {
    "duration": 30,
    "start_time": "2021-10-20T06:31:23.469Z"
   },
   {
    "duration": 88,
    "start_time": "2021-10-20T06:31:23.502Z"
   },
   {
    "duration": 19,
    "start_time": "2021-10-20T06:31:23.592Z"
   },
   {
    "duration": 63,
    "start_time": "2021-10-20T06:31:23.614Z"
   },
   {
    "duration": 31,
    "start_time": "2021-10-20T06:31:23.680Z"
   },
   {
    "duration": 60,
    "start_time": "2021-10-20T06:31:23.715Z"
   },
   {
    "duration": 135,
    "start_time": "2021-10-20T06:31:23.778Z"
   },
   {
    "duration": 5,
    "start_time": "2021-10-20T06:31:23.916Z"
   },
   {
    "duration": 76,
    "start_time": "2021-10-20T06:31:23.923Z"
   },
   {
    "duration": 177,
    "start_time": "2021-10-20T06:31:24.002Z"
   },
   {
    "duration": 4491,
    "start_time": "2021-10-20T06:31:24.182Z"
   },
   {
    "duration": 11,
    "start_time": "2021-10-20T06:31:28.675Z"
   },
   {
    "duration": 19,
    "start_time": "2021-10-20T06:31:28.690Z"
   },
   {
    "duration": 6,
    "start_time": "2021-10-20T06:35:14.374Z"
   },
   {
    "duration": 12,
    "start_time": "2021-10-20T06:40:07.025Z"
   },
   {
    "duration": 8,
    "start_time": "2021-10-20T06:42:39.150Z"
   },
   {
    "duration": 1887,
    "start_time": "2021-11-15T17:51:06.657Z"
   },
   {
    "duration": 99,
    "start_time": "2021-11-15T17:51:08.547Z"
   },
   {
    "duration": 97,
    "start_time": "2021-11-15T17:51:08.649Z"
   },
   {
    "duration": 58,
    "start_time": "2021-11-15T17:51:08.767Z"
   },
   {
    "duration": 87,
    "start_time": "2021-11-15T17:51:08.828Z"
   },
   {
    "duration": 73,
    "start_time": "2021-11-15T17:51:08.918Z"
   },
   {
    "duration": 12,
    "start_time": "2021-11-15T17:51:08.994Z"
   },
   {
    "duration": 3,
    "start_time": "2021-11-15T17:51:09.013Z"
   },
   {
    "duration": 249,
    "start_time": "2021-11-15T17:51:09.020Z"
   },
   {
    "duration": 77,
    "start_time": "2021-11-15T17:51:09.271Z"
   },
   {
    "duration": 152,
    "start_time": "2021-11-15T17:51:09.350Z"
   },
   {
    "duration": 40,
    "start_time": "2021-11-15T17:51:09.504Z"
   },
   {
    "duration": 128,
    "start_time": "2021-11-15T17:51:09.547Z"
   },
   {
    "duration": 36,
    "start_time": "2021-11-15T17:51:09.677Z"
   },
   {
    "duration": 51,
    "start_time": "2021-11-15T17:51:09.716Z"
   },
   {
    "duration": 66,
    "start_time": "2021-11-15T17:51:09.770Z"
   },
   {
    "duration": 46,
    "start_time": "2021-11-15T17:51:09.838Z"
   },
   {
    "duration": 26,
    "start_time": "2021-11-15T17:51:09.887Z"
   },
   {
    "duration": 72,
    "start_time": "2021-11-15T17:51:09.915Z"
   },
   {
    "duration": 27,
    "start_time": "2021-11-15T17:51:09.991Z"
   },
   {
    "duration": 156,
    "start_time": "2021-11-15T17:51:10.021Z"
   },
   {
    "duration": 13,
    "start_time": "2021-11-15T17:51:10.181Z"
   },
   {
    "duration": 5,
    "start_time": "2021-11-15T17:51:10.198Z"
   },
   {
    "duration": 93,
    "start_time": "2021-11-15T17:51:10.205Z"
   },
   {
    "duration": 176,
    "start_time": "2021-11-15T17:51:10.300Z"
   },
   {
    "duration": 4199,
    "start_time": "2021-11-15T17:51:10.478Z"
   },
   {
    "duration": 13,
    "start_time": "2021-11-15T17:51:14.680Z"
   },
   {
    "duration": 18,
    "start_time": "2021-11-15T17:51:14.695Z"
   },
   {
    "duration": 510,
    "start_time": "2021-11-15T17:52:54.541Z"
   },
   {
    "duration": 1902,
    "start_time": "2021-11-15T17:53:44.448Z"
   },
   {
    "duration": 97,
    "start_time": "2021-11-15T17:53:46.353Z"
   },
   {
    "duration": 114,
    "start_time": "2021-11-15T17:53:46.453Z"
   },
   {
    "duration": 56,
    "start_time": "2021-11-15T17:53:46.570Z"
   },
   {
    "duration": 88,
    "start_time": "2021-11-15T17:53:46.628Z"
   },
   {
    "duration": 66,
    "start_time": "2021-11-15T17:53:46.718Z"
   },
   {
    "duration": 10,
    "start_time": "2021-11-15T17:53:46.786Z"
   },
   {
    "duration": 6,
    "start_time": "2021-11-15T17:53:46.800Z"
   },
   {
    "duration": 220,
    "start_time": "2021-11-15T17:53:46.809Z"
   },
   {
    "duration": 103,
    "start_time": "2021-11-15T17:53:47.032Z"
   },
   {
    "duration": 146,
    "start_time": "2021-11-15T17:53:47.138Z"
   },
   {
    "duration": 39,
    "start_time": "2021-11-15T17:53:47.287Z"
   },
   {
    "duration": 128,
    "start_time": "2021-11-15T17:53:47.328Z"
   },
   {
    "duration": 37,
    "start_time": "2021-11-15T17:53:47.468Z"
   },
   {
    "duration": 27,
    "start_time": "2021-11-15T17:53:47.507Z"
   },
   {
    "duration": 95,
    "start_time": "2021-11-15T17:53:47.536Z"
   },
   {
    "duration": 43,
    "start_time": "2021-11-15T17:53:47.634Z"
   },
   {
    "duration": 25,
    "start_time": "2021-11-15T17:53:47.679Z"
   },
   {
    "duration": 26,
    "start_time": "2021-11-15T17:53:47.706Z"
   },
   {
    "duration": 53,
    "start_time": "2021-11-15T17:53:47.735Z"
   },
   {
    "duration": 144,
    "start_time": "2021-11-15T17:53:47.791Z"
   },
   {
    "duration": 10,
    "start_time": "2021-11-15T17:53:47.937Z"
   },
   {
    "duration": 5,
    "start_time": "2021-11-15T17:53:47.969Z"
   },
   {
    "duration": 67,
    "start_time": "2021-11-15T17:53:47.976Z"
   },
   {
    "duration": 170,
    "start_time": "2021-11-15T17:53:48.067Z"
   },
   {
    "duration": 4246,
    "start_time": "2021-11-15T17:53:48.240Z"
   },
   {
    "duration": 11,
    "start_time": "2021-11-15T17:53:52.488Z"
   },
   {
    "duration": 22,
    "start_time": "2021-11-15T17:53:52.501Z"
   }
  ],
  "kernelspec": {
   "display_name": "Python 3",
   "language": "python",
   "name": "python3"
  },
  "language_info": {
   "codemirror_mode": {
    "name": "ipython",
    "version": 3
   },
   "file_extension": ".py",
   "mimetype": "text/x-python",
   "name": "python",
   "nbconvert_exporter": "python",
   "pygments_lexer": "ipython3",
   "version": "3.7.8"
  },
  "toc": {
   "base_numbering": 1,
   "nav_menu": {},
   "number_sections": true,
   "sideBar": true,
   "skip_h1_title": true,
   "title_cell": "Содержание",
   "title_sidebar": "Contents",
   "toc_cell": true,
   "toc_position": {
    "height": "calc(100% - 180px)",
    "left": "10px",
    "top": "150px",
    "width": "303.594px"
   },
   "toc_section_display": true,
   "toc_window_display": true
  }
 },
 "nbformat": 4,
 "nbformat_minor": 2
}
